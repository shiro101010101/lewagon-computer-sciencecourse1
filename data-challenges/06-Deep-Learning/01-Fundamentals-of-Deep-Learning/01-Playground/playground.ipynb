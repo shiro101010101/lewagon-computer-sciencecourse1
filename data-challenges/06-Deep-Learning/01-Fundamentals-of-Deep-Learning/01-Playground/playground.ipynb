{
  "cells": [
    {
      "cell_type": "markdown",
      "metadata": {
        "id": "lqic1DfD8yK0"
      },
      "source": [
        "# Deep Learning week - Day 1 - Playground\n",
        "\n",
        "### Objectives:\n",
        "\n",
        "- Get a visual representation of Neural Networks\n",
        "- Get a better intuition of what Neural Networks are doing\n",
        "\n",
        "<hr>\n",
        "\n",
        "This first exercise does not require much code"
      ]
    },
    {
      "cell_type": "markdown",
      "metadata": {
        "id": "_3_cwGVy8yK2"
      },
      "source": [
        "# 1 - The data\n",
        "\n",
        "Let's go on the [Playground](https://playground.tensorflow.org/#activation=tanh&batchSize=10&dataset=spiral&regDataset=reg-plane&learningRate=0.03&regularizationRate=0&noise=0&networkShape=2&seed=0.23545&showTestData=false&discretize=false&percTrainData=70&x=true&y=true&xTimesY=false&xSquared=false&ySquared=false&cosX=false&sinX=false&cosY=false&sinY=false&collectStats=false&problem=classification&initZero=false&hideText=false&regularization_hide=true&showTestData_hide=false&stepButton_hide=false&activation_hide=false&problem_hide=false&batchSize_hide=true&dataset_hide=false&resetButton_hide=false&discretize_hide=false&playButton_hide=false&learningRate_hide=true&regularizationRate_hide=true&percTrainData_hide=false&numHiddenLayers_hide=false) and select the following type of data : \n",
        "\n",
        "- A classification problem \n",
        "- The circle dataset (blue dots inside a circle of oranges dots)\n",
        "- Ratio of training to test data : 70%\n",
        "- No noise (=0)\n",
        "- Do not show test data (right panel) and do not discretize the output\n",
        "- Activation function: `ReLU` (💡In general, try it by default. It appears to work better for many problems!)[Note: Playground only allows you to select **one** activation function used for **all** the **hidden** layers]\n"
      ]
    },
    {
      "cell_type": "markdown",
      "metadata": {
        "id": "nX2N2CpZ8yK3"
      },
      "source": [
        "# 2 - The features\n",
        "\n",
        "Here, select only the features $X_1$ and $X_2$ - unselect the other features if necessary.\n",
        "\n",
        "❓ Question ❓ In the case where you use the other variables, as $X_1^{2}$, $X_2^{2}$, $X_1 X_2$, $sin(X_1)$ and $sin(X_2)$, what type of classic Machine Learning operation does it corresponds to?\n",
        "\n",
        "<details>\n",
        "    <summary>Answer</summary>\n",
        "\n",
        "It corresponds to some type of feature engineering where you transform them (by multiplication or by applying a sinus).\n",
        "\n",
        "</details>\n",
        "\n",
        "Here, in this exercise but also tomorrow, we will only use the raw input features $X_1$ and $X_2$. "
      ]
    },
    {
      "cell_type": "markdown",
      "metadata": {
        "id": "j3Zi7fU08yK4"
      },
      "source": [
        "# 3 - Fit"
      ]
    },
    {
      "cell_type": "markdown",
      "metadata": {
        "id": "6h5n3kOQ8yK4"
      },
      "source": [
        "Build a model that has : \n",
        "- three hidden layers\n",
        "- 5 neurons on the first hidden layer\n",
        "- 4 neurons on the second hidden layer\n",
        "- 3 neurons on the last hidden layer\n",
        "- In Playground, the output layer is not represented: Fot such binary classification task, it will automatically be a dense layer with 1 neuron activated by sigmoid\n",
        "\n",
        "Fit it and stop iterations when loss has stabilized.\n",
        "\n",
        "\n",
        "❓ Question ❓ \n",
        "\n",
        "- Look at the individual neurons and try to understand what each neuron specializes in (after the fit)?\n",
        "- What do you think about the overall shape your results? Try with different activation to compare. Can you make it work with \"Linear\"?"
      ]
    },
    {
      "cell_type": "markdown",
      "metadata": {
        "tags": [
          "challengify"
        ],
        "id": "VtKotgQr8yK5"
      },
      "source": [
        "> YOUR ANSWER HERE"
      ]
    },
    {
      "cell_type": "markdown",
      "metadata": {
        "id": "GRx4c9j68yK5"
      },
      "source": [
        "# 4 - Neural network in Keras\n",
        "\n",
        "Let's write the same model - at least the architecture - in Keras. It will corresponds to the following code."
      ]
    },
    {
      "cell_type": "code",
      "execution_count": 8,
      "metadata": {
        "id": "9b8e27nR8yK6"
      },
      "outputs": [],
      "source": [
        "from tensorflow.keras import models\n",
        "from tensorflow.keras import layers\n",
        "\n",
        "model = models.Sequential()\n",
        "\n",
        "model.add(layers.Dense(5, activation='relu', input_dim=2)) # First hidden layer with 5 neurons\n",
        "model.add(layers.Dense(4, activation='relu')) # Second hidden layer with 4 neurons\n",
        "model.add(layers.Dense(3, activation='relu')) # Third hidden layer with 3 neurons\n",
        "\n",
        "# Output layer that outputs a probability which is\n",
        "# necessary in the case of a 2 class classification problem\n",
        "model.add(layers.Dense(1, activation='sigmoid')) \n",
        "\n",
        "# For now, let's skip the model.compile() and the model.fit()"
      ]
    },
    {
      "cell_type": "markdown",
      "metadata": {
        "id": "RZtxWaGX8yK7"
      },
      "source": [
        "The `input_dim` of the first layer corresponds to the number of input features, which is 2 here, $X_1$ and $X_2$. It is mandatory for the first layer. The fact that you here define a `Sequential` model makes the following layer aware of the input size based on the output size of the previous layers"
      ]
    },
    {
      "cell_type": "markdown",
      "metadata": {
        "id": "ShSJ_9O58yK8"
      },
      "source": [
        "# 5 - Change the dataset\n",
        "\n",
        "Change the dataset for the \"XOR - Exclusive Or\".\n",
        "\n",
        "❓ Question ❓ \n",
        "- Go back to Playground and try to design a model with two hidden layers (you are free to choose the number of neurons per layer yourself) that has a very small **test loss**. \n",
        "- Once you have your model on Playground, write it below with the Keras library"
      ]
    },
    {
      "cell_type": "code",
      "execution_count": 15,
      "metadata": {
        "tags": [
          "challengify"
        ],
        "colab": {
          "base_uri": "https://localhost:8080/"
        },
        "id": "5P8qr0l-8yK8",
        "outputId": "35d92620-7970-48a6-9147-b34ad74a0d31"
      },
      "outputs": [
        {
          "output_type": "stream",
          "name": "stdout",
          "text": [
            "Model: \"sequential_10\"\n",
            "_________________________________________________________________\n",
            " Layer (type)                Output Shape              Param #   \n",
            "=================================================================\n",
            " dense_40 (Dense)            (None, 5)                 15        \n",
            "                                                                 \n",
            " dense_41 (Dense)            (None, 4)                 24        \n",
            "                                                                 \n",
            " dense_42 (Dense)            (None, 4)                 20        \n",
            "                                                                 \n",
            " dense_43 (Dense)            (None, 1)                 5         \n",
            "                                                                 \n",
            "=================================================================\n",
            "Total params: 64\n",
            "Trainable params: 64\n",
            "Non-trainable params: 0\n",
            "_________________________________________________________________\n"
          ]
        }
      ],
      "source": [
        "from tensorflow.keras import models\n",
        "from tensorflow.keras import layers\n",
        "\n",
        "model=models.Sequential()\n",
        "#Input first layer\n",
        "model.add(layers.Dense(5, activation='relu', input_dim=2))\n",
        "\n",
        "#2 hidden layer\n",
        "model.add(layers.Dense(4, activation='relu'))\n",
        "model.add(layers.Dense(4, activation='relu'))\n",
        "\n",
        "#output\n",
        "model.add(layers.Dense(1, activation='sigmoid')) \n",
        "model.summary()\n",
        "\n",
        "#5*2+5 + 5*4+4 + 4*4+4 + 4*1+1=64 (bias??)"
      ]
    },
    {
      "cell_type": "markdown",
      "source": [
        ""
      ],
      "metadata": {
        "id": "4nawbjmjRVfA"
      }
    },
    {
      "cell_type": "markdown",
      "metadata": {
        "id": "xWg-bUuY8yK8"
      },
      "source": [
        "❓ Question ❓ Try to repeat the same process with the **Spiral**! "
      ]
    },
    {
      "cell_type": "code",
      "execution_count": 11,
      "metadata": {
        "tags": [
          "challengify"
        ],
        "colab": {
          "base_uri": "https://localhost:8080/"
        },
        "id": "pgUl38dr8yK8",
        "outputId": "02208e2b-3295-4a89-8a54-2323912e3890"
      },
      "outputs": [
        {
          "output_type": "execute_result",
          "data": {
            "text/plain": [
              "64"
            ]
          },
          "metadata": {},
          "execution_count": 11
        }
      ],
      "source": [
        ""
      ]
    },
    {
      "cell_type": "markdown",
      "metadata": {
        "id": "hYAE5DW_8yK9"
      },
      "source": [
        "☝️ Much more weights are needed to fit this dataset, isn't it?\n",
        "\n",
        "With deep enough models, you can pretty much fit any pattern.  The problem is about avoiding **overfitting**. Add a good deal of noise and you _may_ see your model learning \"too much\" on this noise. We will see in the next day of the module how to manage overfitting.\n",
        "\n",
        "&nbsp;\n",
        "\n",
        "<details>\n",
        "    <summary>A picture of overfitting in Playground</summary>\n",
        "    \n",
        "<img src='https://github.com/lewagon/data-images/blob/master/DL/playground-overfitting.png?raw=true' width=700 style='margin:auto'>\n",
        "</details>"
      ]
    },
    {
      "cell_type": "markdown",
      "metadata": {
        "id": "oQRaQJLa8yK9"
      },
      "source": [
        "# 6 - Regression\n",
        "\n",
        "Now, switch the problem type to a regression problem. \n",
        "\n",
        "This time, the last layer will no longer look like  \n",
        "`model.add(layers.Dense(1, activation='sigmoid'))`\n",
        "\n",
        "but instead  \n",
        "`model.add(layers.Dense(1, activation='linear'))`\n",
        "\n",
        "meaning that you output 1 final value which is between $ -\\infty$ and $+ \\infty$ \n",
        "\n",
        "❓ Question ❓ Find on Playground a neural network that fits well the second regression dataset and write its architecture in Keras : "
      ]
    },
    {
      "cell_type": "code",
      "execution_count": 13,
      "metadata": {
        "tags": [
          "challengify"
        ],
        "colab": {
          "base_uri": "https://localhost:8080/"
        },
        "id": "yEByA1me8yK9",
        "outputId": "154a0730-ea80-4dab-bd75-8815c3fed5c9"
      },
      "outputs": [
        {
          "output_type": "stream",
          "name": "stdout",
          "text": [
            "Model: \"sequential_8\"\n",
            "_________________________________________________________________\n",
            " Layer (type)                Output Shape              Param #   \n",
            "=================================================================\n",
            " dense_24 (Dense)            (None, 5)                 15        \n",
            "                                                                 \n",
            " dense_25 (Dense)            (None, 4)                 24        \n",
            "                                                                 \n",
            " dense_26 (Dense)            (None, 4)                 20        \n",
            "                                                                 \n",
            " dense_27 (Dense)            (None, 1)                 5         \n",
            "                                                                 \n",
            " dense_28 (Dense)            (None, 10)                20        \n",
            "                                                                 \n",
            " dense_29 (Dense)            (None, 1)                 11        \n",
            "                                                                 \n",
            " dense_30 (Dense)            (None, 1)                 2         \n",
            "                                                                 \n",
            " dense_31 (Dense)            (None, 1)                 2         \n",
            "                                                                 \n",
            " dense_32 (Dense)            (None, 10)                20        \n",
            "                                                                 \n",
            " dense_33 (Dense)            (None, 1)                 11        \n",
            "                                                                 \n",
            " dense_34 (Dense)            (None, 1)                 2         \n",
            "                                                                 \n",
            " dense_35 (Dense)            (None, 1)                 2         \n",
            "                                                                 \n",
            "=================================================================\n",
            "Total params: 134\n",
            "Trainable params: 134\n",
            "Non-trainable params: 0\n",
            "_________________________________________________________________\n"
          ]
        }
      ],
      "source": [
        "# YOUR CODE HERE\n",
        "model.add(layers.Dense(10,activation='linear',input_dim=2))\n",
        "\n",
        "model.add(layers.Dense(1, activation='linear'))\n",
        "model.add(layers.Dense(1, activation='linear'))\n",
        "\n",
        "model.add(layers.Dense(1, activation='linear'))\n",
        "\n",
        "model.summary()"
      ]
    },
    {
      "cell_type": "markdown",
      "metadata": {
        "id": "MboK26B_8yK-"
      },
      "source": [
        "### 🏁 You are now ready to do the same things with Keras directly !\n",
        "Don't forget to commit and push your notebook"
      ]
    },
    {
      "cell_type": "code",
      "source": [
        ""
      ],
      "metadata": {
        "id": "7mUcWz2UWMjW"
      },
      "execution_count": null,
      "outputs": []
    }
  ],
  "metadata": {
    "kernelspec": {
      "display_name": "Python 3",
      "language": "python",
      "name": "python3"
    },
    "colab": {
      "name": "playground.ipynb",
      "provenance": [],
      "collapsed_sections": []
    }
  },
  "nbformat": 4,
  "nbformat_minor": 0
}