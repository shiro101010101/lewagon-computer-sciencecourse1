{
 "cells": [
  {
   "cell_type": "markdown",
   "metadata": {
    "id": "4HcXB9dfMcyB"
   },
   "source": [
    "# Multiclass classification\n",
    "\n",
    "We've just solved a binary classification problem. What about a **`multiclass classification task`**?\n",
    "\n",
    "### Exercise Objectives:\n",
    "- Write a Neural Network designed for a multiclass classification problem\n",
    "- Observe overfitting during the model's convergence"
   ]
  },
  {
   "cell_type": "markdown",
   "metadata": {
    "id": "CRwQC-ZqMcyD"
   },
   "source": [
    "# 1. Create the data\n",
    "\n",
    "\n",
    "The **`make_blobs`** function [(see documentation)](https://scikit-learn.org/stable/modules/generated/sklearn.datasets.make_blobs.html) enables to draw : \n",
    "- an arbitrary number of data sample, argument `n_samples`\n",
    "- an arbitrary number of features per data sample, argument `n_features`\n",
    "- an arbitrary number of categories, argument `centers`\n",
    "- a distance between the categories, argument `cluster_std`\n",
    "\n",
    "There is also the `random_state` argument that allows to draw the data deterministically, in order to reproduce the same data. Two people who choose the same random_state will have the same data.\n",
    "\n",
    "❓ **Question** ❓ Based on the documentation, generate data with : \n",
    "- 1200 samples\n",
    "- 8 features per sample\n",
    "- 7 categories of data\n",
    "- 8 as the distance between the categories\n",
    "\n",
    "Select a `random_state` equal to 1.\n",
    "\n",
    "Print the shape and check that it corresponds to (1200, 8) for `X` and (1200,) for `y`"
   ]
  },
  {
   "cell_type": "code",
   "execution_count": 8,
   "metadata": {
    "id": "XKG6i8AgMcyE",
    "tags": [
     "challengify"
    ]
   },
   "outputs": [],
   "source": [
    "# YOUR CODE HERE\n",
    "# YOUR CODE HERE\n",
    "from sklearn.datasets import make_blobs\n",
    "import pandas as pd\n",
    "X,y=make_blobs(n_samples=1200,centers=7,cluster_std=8,n_features=8,random_state=0)\n"
   ]
  },
  {
   "cell_type": "code",
   "execution_count": 12,
   "metadata": {
    "colab": {
     "base_uri": "https://localhost:8080/"
    },
    "id": "N_FaOd8pZ2a9",
    "outputId": "b57f9aaf-9311-4435-e66a-4f8baaaebf65"
   },
   "outputs": [
    {
     "data": {
      "text/plain": [
       "(1200, 8)"
      ]
     },
     "execution_count": 12,
     "metadata": {},
     "output_type": "execute_result"
    }
   ],
   "source": [
    "X.shape"
   ]
  },
  {
   "cell_type": "code",
   "execution_count": 10,
   "metadata": {
    "colab": {
     "base_uri": "https://localhost:8080/"
    },
    "id": "s1Kv2wTpZ68S",
    "outputId": "1ad6625f-4938-4d5e-b584-d3a544619799"
   },
   "outputs": [
    {
     "data": {
      "text/plain": [
       "(1200,)"
      ]
     },
     "execution_count": 10,
     "metadata": {},
     "output_type": "execute_result"
    }
   ],
   "source": [
    "y.shape"
   ]
  },
  {
   "cell_type": "code",
   "execution_count": 30,
   "metadata": {
    "colab": {
     "base_uri": "https://localhost:8080/",
     "height": 206
    },
    "id": "qxJahrN-Z9P0",
    "outputId": "7853af7b-1a42-40ce-e00a-8b85df02151b"
   },
   "outputs": [
    {
     "data": {
      "text/html": [
       "\n",
       "  <div id=\"df-e5fe49b9-5702-4ca8-94c5-2775ad8c7ebf\">\n",
       "    <div class=\"colab-df-container\">\n",
       "      <div>\n",
       "<style scoped>\n",
       "    .dataframe tbody tr th:only-of-type {\n",
       "        vertical-align: middle;\n",
       "    }\n",
       "\n",
       "    .dataframe tbody tr th {\n",
       "        vertical-align: top;\n",
       "    }\n",
       "\n",
       "    .dataframe thead th {\n",
       "        text-align: right;\n",
       "    }\n",
       "</style>\n",
       "<table border=\"1\" class=\"dataframe\">\n",
       "  <thead>\n",
       "    <tr style=\"text-align: right;\">\n",
       "      <th></th>\n",
       "      <th>x1</th>\n",
       "      <th>x2</th>\n",
       "      <th>x3</th>\n",
       "      <th>x4</th>\n",
       "      <th>x5</th>\n",
       "      <th>x6</th>\n",
       "      <th>x7</th>\n",
       "      <th>x8</th>\n",
       "      <th>label</th>\n",
       "    </tr>\n",
       "  </thead>\n",
       "  <tbody>\n",
       "    <tr>\n",
       "      <th>0</th>\n",
       "      <td>-5.471227</td>\n",
       "      <td>7.032014</td>\n",
       "      <td>10.451966</td>\n",
       "      <td>12.464046</td>\n",
       "      <td>7.829852</td>\n",
       "      <td>5.762523</td>\n",
       "      <td>-19.210505</td>\n",
       "      <td>4.487730</td>\n",
       "      <td>3</td>\n",
       "    </tr>\n",
       "    <tr>\n",
       "      <th>1</th>\n",
       "      <td>2.658293</td>\n",
       "      <td>-8.059455</td>\n",
       "      <td>-10.696501</td>\n",
       "      <td>-0.654104</td>\n",
       "      <td>3.174358</td>\n",
       "      <td>-6.757187</td>\n",
       "      <td>16.653322</td>\n",
       "      <td>4.996013</td>\n",
       "      <td>4</td>\n",
       "    </tr>\n",
       "    <tr>\n",
       "      <th>2</th>\n",
       "      <td>-9.705755</td>\n",
       "      <td>16.490332</td>\n",
       "      <td>-21.699464</td>\n",
       "      <td>10.201334</td>\n",
       "      <td>-6.067970</td>\n",
       "      <td>-6.549598</td>\n",
       "      <td>-15.329078</td>\n",
       "      <td>0.331301</td>\n",
       "      <td>3</td>\n",
       "    </tr>\n",
       "    <tr>\n",
       "      <th>3</th>\n",
       "      <td>-0.049666</td>\n",
       "      <td>2.129615</td>\n",
       "      <td>3.792705</td>\n",
       "      <td>1.523353</td>\n",
       "      <td>9.709460</td>\n",
       "      <td>4.089408</td>\n",
       "      <td>-13.098223</td>\n",
       "      <td>-2.345005</td>\n",
       "      <td>0</td>\n",
       "    </tr>\n",
       "    <tr>\n",
       "      <th>4</th>\n",
       "      <td>-0.841623</td>\n",
       "      <td>0.845807</td>\n",
       "      <td>-7.753516</td>\n",
       "      <td>-6.760889</td>\n",
       "      <td>2.158716</td>\n",
       "      <td>-1.828835</td>\n",
       "      <td>0.161192</td>\n",
       "      <td>0.866779</td>\n",
       "      <td>4</td>\n",
       "    </tr>\n",
       "  </tbody>\n",
       "</table>\n",
       "</div>\n",
       "      <button class=\"colab-df-convert\" onclick=\"convertToInteractive('df-e5fe49b9-5702-4ca8-94c5-2775ad8c7ebf')\"\n",
       "              title=\"Convert this dataframe to an interactive table.\"\n",
       "              style=\"display:none;\">\n",
       "        \n",
       "  <svg xmlns=\"http://www.w3.org/2000/svg\" height=\"24px\"viewBox=\"0 0 24 24\"\n",
       "       width=\"24px\">\n",
       "    <path d=\"M0 0h24v24H0V0z\" fill=\"none\"/>\n",
       "    <path d=\"M18.56 5.44l.94 2.06.94-2.06 2.06-.94-2.06-.94-.94-2.06-.94 2.06-2.06.94zm-11 1L8.5 8.5l.94-2.06 2.06-.94-2.06-.94L8.5 2.5l-.94 2.06-2.06.94zm10 10l.94 2.06.94-2.06 2.06-.94-2.06-.94-.94-2.06-.94 2.06-2.06.94z\"/><path d=\"M17.41 7.96l-1.37-1.37c-.4-.4-.92-.59-1.43-.59-.52 0-1.04.2-1.43.59L10.3 9.45l-7.72 7.72c-.78.78-.78 2.05 0 2.83L4 21.41c.39.39.9.59 1.41.59.51 0 1.02-.2 1.41-.59l7.78-7.78 2.81-2.81c.8-.78.8-2.07 0-2.86zM5.41 20L4 18.59l7.72-7.72 1.47 1.35L5.41 20z\"/>\n",
       "  </svg>\n",
       "      </button>\n",
       "      \n",
       "  <style>\n",
       "    .colab-df-container {\n",
       "      display:flex;\n",
       "      flex-wrap:wrap;\n",
       "      gap: 12px;\n",
       "    }\n",
       "\n",
       "    .colab-df-convert {\n",
       "      background-color: #E8F0FE;\n",
       "      border: none;\n",
       "      border-radius: 50%;\n",
       "      cursor: pointer;\n",
       "      display: none;\n",
       "      fill: #1967D2;\n",
       "      height: 32px;\n",
       "      padding: 0 0 0 0;\n",
       "      width: 32px;\n",
       "    }\n",
       "\n",
       "    .colab-df-convert:hover {\n",
       "      background-color: #E2EBFA;\n",
       "      box-shadow: 0px 1px 2px rgba(60, 64, 67, 0.3), 0px 1px 3px 1px rgba(60, 64, 67, 0.15);\n",
       "      fill: #174EA6;\n",
       "    }\n",
       "\n",
       "    [theme=dark] .colab-df-convert {\n",
       "      background-color: #3B4455;\n",
       "      fill: #D2E3FC;\n",
       "    }\n",
       "\n",
       "    [theme=dark] .colab-df-convert:hover {\n",
       "      background-color: #434B5C;\n",
       "      box-shadow: 0px 1px 3px 1px rgba(0, 0, 0, 0.15);\n",
       "      filter: drop-shadow(0px 1px 2px rgba(0, 0, 0, 0.3));\n",
       "      fill: #FFFFFF;\n",
       "    }\n",
       "  </style>\n",
       "\n",
       "      <script>\n",
       "        const buttonEl =\n",
       "          document.querySelector('#df-e5fe49b9-5702-4ca8-94c5-2775ad8c7ebf button.colab-df-convert');\n",
       "        buttonEl.style.display =\n",
       "          google.colab.kernel.accessAllowed ? 'block' : 'none';\n",
       "\n",
       "        async function convertToInteractive(key) {\n",
       "          const element = document.querySelector('#df-e5fe49b9-5702-4ca8-94c5-2775ad8c7ebf');\n",
       "          const dataTable =\n",
       "            await google.colab.kernel.invokeFunction('convertToInteractive',\n",
       "                                                     [key], {});\n",
       "          if (!dataTable) return;\n",
       "\n",
       "          const docLinkHtml = 'Like what you see? Visit the ' +\n",
       "            '<a target=\"_blank\" href=https://colab.research.google.com/notebooks/data_table.ipynb>data table notebook</a>'\n",
       "            + ' to learn more about interactive tables.';\n",
       "          element.innerHTML = '';\n",
       "          dataTable['output_type'] = 'display_data';\n",
       "          await google.colab.output.renderOutput(dataTable, element);\n",
       "          const docLink = document.createElement('div');\n",
       "          docLink.innerHTML = docLinkHtml;\n",
       "          element.appendChild(docLink);\n",
       "        }\n",
       "      </script>\n",
       "    </div>\n",
       "  </div>\n",
       "  "
      ],
      "text/plain": [
       "         x1         x2         x3  ...         x7        x8  label\n",
       "0 -5.471227   7.032014  10.451966  ... -19.210505  4.487730      3\n",
       "1  2.658293  -8.059455 -10.696501  ...  16.653322  4.996013      4\n",
       "2 -9.705755  16.490332 -21.699464  ... -15.329078  0.331301      3\n",
       "3 -0.049666   2.129615   3.792705  ... -13.098223 -2.345005      0\n",
       "4 -0.841623   0.845807  -7.753516  ...   0.161192  0.866779      4\n",
       "\n",
       "[5 rows x 9 columns]"
      ]
     },
     "execution_count": 30,
     "metadata": {},
     "output_type": "execute_result"
    }
   ],
   "source": [
    "df = pd.DataFrame(dict(x1=X[:,0], x2=X[:,1], x3=X[:,2], x4=X[:,3],\n",
    "                       x5=X[:,4], x6=X[:,5], x7=X[:,6], x8=X[:,7],\n",
    "                       label=y))\n",
    "df.head()\n"
   ]
  },
  {
   "cell_type": "code",
   "execution_count": 31,
   "metadata": {
    "colab": {
     "base_uri": "https://localhost:8080/",
     "height": 584
    },
    "id": "0HvBj2LSdmGn",
    "outputId": "c5a0e60a-fb32-4d4d-c199-070f53b57c4e"
   },
   "outputs": [
    {
     "ename": "KeyError",
     "evalue": "ignored",
     "output_type": "error",
     "traceback": [
      "\u001b[0;31m---------------------------------------------------------------------------\u001b[0m",
      "\u001b[0;31mKeyError\u001b[0m                                  Traceback (most recent call last)",
      "\u001b[0;32m<ipython-input-31-a306874d74b3>\u001b[0m in \u001b[0;36m<module>\u001b[0;34m()\u001b[0m\n\u001b[1;32m     13\u001b[0m     \u001b[0mplt\u001b[0m\u001b[0;34m.\u001b[0m\u001b[0mshow\u001b[0m\u001b[0;34m(\u001b[0m\u001b[0;34m)\u001b[0m\u001b[0;34m\u001b[0m\u001b[0;34m\u001b[0m\u001b[0m\n\u001b[1;32m     14\u001b[0m \u001b[0;34m\u001b[0m\u001b[0m\n\u001b[0;32m---> 15\u001b[0;31m \u001b[0mplot_moons\u001b[0m\u001b[0;34m(\u001b[0m\u001b[0mX\u001b[0m\u001b[0;34m,\u001b[0m \u001b[0my\u001b[0m\u001b[0;34m)\u001b[0m\u001b[0;34m\u001b[0m\u001b[0;34m\u001b[0m\u001b[0m\n\u001b[0m",
      "\u001b[0;32m<ipython-input-31-a306874d74b3>\u001b[0m in \u001b[0;36mplot_moons\u001b[0;34m(X, y)\u001b[0m\n\u001b[1;32m     10\u001b[0m \u001b[0;34m\u001b[0m\u001b[0m\n\u001b[1;32m     11\u001b[0m     \u001b[0;32mfor\u001b[0m \u001b[0mkey\u001b[0m\u001b[0;34m,\u001b[0m \u001b[0mgroup\u001b[0m \u001b[0;32min\u001b[0m \u001b[0mgrouped\u001b[0m\u001b[0;34m:\u001b[0m\u001b[0;34m\u001b[0m\u001b[0;34m\u001b[0m\u001b[0m\n\u001b[0;32m---> 12\u001b[0;31m         \u001b[0mgroup\u001b[0m\u001b[0;34m.\u001b[0m\u001b[0mplot\u001b[0m\u001b[0;34m(\u001b[0m\u001b[0max\u001b[0m\u001b[0;34m=\u001b[0m\u001b[0max\u001b[0m\u001b[0;34m,\u001b[0m \u001b[0mkind\u001b[0m\u001b[0;34m=\u001b[0m\u001b[0;34m'scatter'\u001b[0m\u001b[0;34m,\u001b[0m \u001b[0mx\u001b[0m\u001b[0;34m=\u001b[0m\u001b[0;34m'x1'\u001b[0m\u001b[0;34m,\u001b[0m \u001b[0my\u001b[0m\u001b[0;34m=\u001b[0m\u001b[0;34m'x2'\u001b[0m\u001b[0;34m,\u001b[0m \u001b[0mlabel\u001b[0m\u001b[0;34m=\u001b[0m\u001b[0mkey\u001b[0m\u001b[0;34m,\u001b[0m \u001b[0mcolor\u001b[0m\u001b[0;34m=\u001b[0m\u001b[0mcolors\u001b[0m\u001b[0;34m[\u001b[0m\u001b[0mkey\u001b[0m\u001b[0;34m]\u001b[0m\u001b[0;34m)\u001b[0m\u001b[0;34m\u001b[0m\u001b[0;34m\u001b[0m\u001b[0m\n\u001b[0m\u001b[1;32m     13\u001b[0m     \u001b[0mplt\u001b[0m\u001b[0;34m.\u001b[0m\u001b[0mshow\u001b[0m\u001b[0;34m(\u001b[0m\u001b[0;34m)\u001b[0m\u001b[0;34m\u001b[0m\u001b[0;34m\u001b[0m\u001b[0m\n\u001b[1;32m     14\u001b[0m \u001b[0;34m\u001b[0m\u001b[0m\n",
      "\u001b[0;31mKeyError\u001b[0m: 2"
     ]
    },
    {
     "data": {
      "image/png": "[encoded data removed]",
      "text/plain": [
       "<Figure size 432x288 with 1 Axes>"
      ]
     },
     "metadata": {
      "needs_background": "light"
     },
     "output_type": "display_data"
    }
   ],
   "source": [
    "import pandas as pd\n",
    "import matplotlib.pyplot as plt\n",
    "%matplotlib inline\n",
    "\n",
    "def plot_moons(X, y):\n",
    "    df = pd.DataFrame(dict(x1=X[:,0], x2=X[:,1], label=y))\n",
    "    colors = {0:'red', 1:'blue'}\n",
    "    fig, ax = plt.subplots()\n",
    "    grouped = df.groupby('label')\n",
    "\n",
    "    for key, group in grouped:\n",
    "        group.plot(ax=ax, kind='scatter', x='x1', y='x2', label=key, color=colors[key])\n",
    "    plt.show()\n",
    "\n",
    "plot_moons(X, y)"
   ]
  },
  {
   "cell_type": "markdown",
   "metadata": {
    "id": "jZvbejO6McyF"
   },
   "source": [
    "❓ **Question** ❓ Using `matplotlib`, scatterplot two (arbitrary) dimensions of the input data together. Each dot should be colored with the category it belongs to."
   ]
  },
  {
   "cell_type": "code",
   "execution_count": null,
   "metadata": {
    "id": "zuej68LMMcyG",
    "tags": [
     "challengify"
    ]
   },
   "outputs": [],
   "source": [
    "# YOUR CODE HERE"
   ]
  },
  {
   "cell_type": "markdown",
   "metadata": {
    "id": "dyl0a4e_McyG"
   },
   "source": [
    "❓ **Question** ❓ Repeat the operation on other dimensions, to visualy that the data are not easily separable"
   ]
  },
  {
   "cell_type": "code",
   "execution_count": null,
   "metadata": {
    "id": "pLxXmPehMcyG",
    "tags": [
     "challengify"
    ]
   },
   "outputs": [],
   "source": [
    "# YOUR CODE HERE"
   ]
  },
  {
   "cell_type": "markdown",
   "metadata": {
    "id": "K8W10K1aMcyG"
   },
   "source": [
    "For the moment, the target `y` is a list of integers,  corresponding to the category of the input data.\n",
    "It looks like `[3, 2, 2, 3, 0, 5, 1, 1, 0, 5, ...]` (in this example, we have 7 categories, from 0 to 6).\n",
    "\n",
    "However, **`for categorical problems in Tensorflow.Keras, the target/output should be encoded`** in the following way:\n",
    "\n",
    "```\n",
    "[\n",
    "[0, 0, 0, 1, 0, 0, 0], \n",
    "[0, 0, 1, 0, 0, 0, 0], \n",
    "[0, 0, 1, 0, 0, 0, 0], \n",
    "[1, 0, 0, 0, 0, 0, 0], \n",
    "[0, 0, 0, 0, 0, 1, 0], \n",
    "[0, 1, 0, 0, 0, 0, 0],\n",
    "[0, 1, 0, 0, 0, 0, 0],\n",
    "[1, 0, 0, 0, 0, 0, 0],\n",
    "[0, 0, 0, 0, 0, 0, 1],\n",
    "...\n",
    "]\n",
    "```\n",
    "\n",
    "where:\n",
    "* the number of rows is equal to the number of observations\n",
    "* the number of columns is equal to the number of categories\n",
    "\n",
    "👉 Each column corresponds to a category. \n",
    "\n",
    "👉 Each row corresponds to a target, the 1 being the category the input data belongs to.\n",
    "\n",
    "You can view a row as a vector of probabilities.\n",
    "\n",
    "```\n",
    "Example:\n",
    "| Cat 0 | Cat 1 | Cat 2 | Cat 3 | Cat 4 | Cat 5 | Cat 6 |\n",
    "|-------|-------|-------|-------|-------|-------|-------|\n",
    "| 0     | 0     | 0     | 1     | 0     | 0     | 0     |\n",
    "\n",
    "means that for this given row, there is a 100% chance that the row belongs to the Cat 3\n",
    "```\n",
    "\n",
    "💡 To transform `y` to categories, use **`to_categorical`** function from Keras.\n",
    "\n",
    "*[Remark]* In a sense, *to_categorical* works a bit like the OneHotEncoder in Sklearn but instead of encoding a categorical feature, we are now encoding the target.\n",
    "\n",
    "\n",
    "❓ **Question** ❓ First print `y`, then apply the *`to_categorical`* to *`y`* and store the *`categorized version of y`* into **`y_cat`**."
   ]
  },
  {
   "cell_type": "code",
   "execution_count": 39,
   "metadata": {
    "colab": {
     "base_uri": "https://localhost:8080/"
    },
    "id": "ZTnLoSNQMcyH",
    "outputId": "eb929253-a1e1-434b-c1fb-f2f02a9e1cc3",
    "tags": [
     "challengify"
    ]
   },
   "outputs": [
    {
     "data": {
      "text/plain": [
       "array([[0., 0., 0., ..., 0., 0., 0.],\n",
       "       [0., 0., 0., ..., 1., 0., 0.],\n",
       "       [0., 0., 0., ..., 0., 0., 0.],\n",
       "       ...,\n",
       "       [0., 0., 0., ..., 1., 0., 0.],\n",
       "       [0., 0., 1., ..., 0., 0., 0.],\n",
       "       [0., 0., 0., ..., 1., 0., 0.]], dtype=float32)"
      ]
     },
     "execution_count": 39,
     "metadata": {},
     "output_type": "execute_result"
    }
   ],
   "source": [
    "# YOUR CODE HERE\n",
    "from tensorflow.keras.utils import to_categorical\n",
    "\n",
    "categorized_version_of_y=to_categorical(y,num_classes=None)\n",
    "categorized_version_of_y"
   ]
  },
  {
   "cell_type": "markdown",
   "metadata": {
    "id": "DbvVUSzKMcyI"
   },
   "source": [
    "❓ **Question** ❓ Split the dataset $X$ and $y_{cat}$  into a train and test set (size: 70/30%)\n",
    "\n",
    "Remark : Please call the variables `X_train`, `y_train`, `X_test` and `y_test`"
   ]
  },
  {
   "cell_type": "code",
   "execution_count": 42,
   "metadata": {
    "colab": {
     "base_uri": "https://localhost:8080/"
    },
    "id": "WqqRyyThMcyI",
    "outputId": "06736f1f-4b1f-4920-8121-82b75a9e8854",
    "tags": [
     "challengify"
    ]
   },
   "outputs": [
    {
     "data": {
      "text/plain": [
       "array([[ -3.94546403,   2.51070886,  -5.02043221, ...,   4.38972786,\n",
       "         -6.06401956, -10.71677274],\n",
       "       [ -9.18760991,  12.05896099,  -7.32971972, ...,  -3.06175623,\n",
       "         14.13528044,  19.67957835],\n",
       "       [ -9.33249664,   1.44951484,   0.70228479, ...,  -8.71507963,\n",
       "          8.41838723,   6.91482797],\n",
       "       ...,\n",
       "       [ 10.37055635,  -2.45814838, -14.7835531 , ...,   0.38976681,\n",
       "         15.9101969 ,   6.73451379],\n",
       "       [  8.38853119,  -5.79062545,  14.45080055, ...,  13.1088041 ,\n",
       "        -12.49790459,  -2.98699687],\n",
       "       [-15.62873925,   5.79800732, -12.76766336, ...,  10.5652042 ,\n",
       "         -1.36708409,   7.5517428 ]])"
      ]
     },
     "execution_count": 42,
     "metadata": {},
     "output_type": "execute_result"
    }
   ],
   "source": [
    "# YOUR CODE HERE\n",
    "from sklearn.model_selection import train_test_split\n",
    "X_train, X_test, y_train, y_test = train_test_split(X, categorized_version_of_y, test_size=0.3)\n",
    "X_train"
   ]
  },
  {
   "cell_type": "markdown",
   "metadata": {
    "id": "3pjS7TMEMcyI"
   },
   "source": [
    "In deep learning, the data should always be standard-scaled, so as to lay _approximately_ in [-1, 1]. (We will see later why).\n",
    "\n",
    "❓ **Question** ❓ Fit a sklearn [`StandardScaler`](https://scikit-learn.org/stable/modules/generated/sklearn.preprocessing.StandardScaler.html) on the train set and transform both your train set and test set."
   ]
  },
  {
   "cell_type": "code",
   "execution_count": 58,
   "metadata": {
    "id": "mYKD44TKMcyI",
    "tags": [
     "challengify"
    ]
   },
   "outputs": [],
   "source": [
    "# YOUR CODE HERE\n",
    "from sklearn.preprocessing import StandardScaler\n"
   ]
  },
  {
   "cell_type": "code",
   "execution_count": 60,
   "metadata": {
    "id": "XjtiDFyDy4LD"
   },
   "outputs": [],
   "source": [
    "scaler=StandardScaler()\n",
    "X_train = scaler.fit_transform(X_train)"
   ]
  },
  {
   "cell_type": "markdown",
   "metadata": {
    "id": "wjMLtI84McyI"
   },
   "source": [
    "❓ **Question** ❓ Complete the following function to initialize a model that has: \n",
    "- a first layer with 50 neurons, the `relu` activation and an appropriate input dimension\n",
    "- a output layer designed for a multiclassification task which outputs probabilities for each class"
   ]
  },
  {
   "cell_type": "code",
   "execution_count": 61,
   "metadata": {
    "colab": {
     "base_uri": "https://localhost:8080/"
    },
    "id": "9UeQ7sBkMcyJ",
    "outputId": "2d09db62-4be9-40b7-93ff-cf52b38a2b2d"
   },
   "outputs": [
    {
     "name": "stdout",
     "output_type": "stream",
     "text": [
      "Model: \"sequential_3\"\n",
      "_________________________________________________________________\n",
      " Layer (type)                Output Shape              Param #   \n",
      "=================================================================\n",
      " dense_6 (Dense)             (None, 50)                450       \n",
      "                                                                 \n",
      " dense_7 (Dense)             (None, 7)                 357       \n",
      "                                                                 \n",
      "=================================================================\n",
      "Total params: 807\n",
      "Trainable params: 807\n",
      "Non-trainable params: 0\n",
      "_________________________________________________________________\n"
     ]
    }
   ],
   "source": [
    "from tensorflow.keras.models import Sequential\n",
    "from tensorflow.keras import layers\n",
    "\n",
    "def initialize_model():\n",
    "    ### Model architecture\n",
    "    model=Sequential()\n",
    "    model.add(layers.Dense(50,activation=\"relu\",input_dim=8))\n",
    "    model.add(layers.Dense(7,activation=\"sigmoid\"))\n",
    "\n",
    "    \n",
    "    ### Model optimization : Optimizer, loss and metric \n",
    "    model.compile(loss='categorical_crossentropy', \n",
    "                  optimizer='adam', \n",
    "                  metrics=['accuracy'])\n",
    "    \n",
    "    return model \n",
    "### Note here that the loss is different! This is because the task is not with two categories only, therefore\n",
    "### the solver is somehow different (will see it tomorrow)\n",
    "\n",
    "model = initialize_model()\n",
    "\n",
    "model.summary()"
   ]
  },
  {
   "cell_type": "markdown",
   "metadata": {
    "id": "h0JrapEBMcyJ"
   },
   "source": [
    "❓ **Question** ❓ How many parameters (a.k.a. weights) are there in the model?\n",
    "\n",
    "How many parameters would a Deep Logistic Regression have with the same data?"
   ]
  },
  {
   "cell_type": "code",
   "execution_count": 62,
   "metadata": {
    "id": "63eikfN6McyJ",
    "tags": [
     "challengify"
    ]
   },
   "outputs": [],
   "source": [
    "# YOUR CODE HEREHow many parameters?\n"
   ]
  },
  {
   "cell_type": "code",
   "execution_count": 63,
   "metadata": {
    "colab": {
     "base_uri": "https://localhost:8080/"
    },
    "id": "SuTgYOWcxljv",
    "outputId": "dd236917-5dfa-4849-e303-2e79c7f93fad"
   },
   "outputs": [
    {
     "name": "stdout",
     "output_type": "stream",
     "text": [
      "Epoch 1/50\n",
      "53/53 [==============================] - 1s 2ms/step - loss: 0.5765 - accuracy: 0.2393\n",
      "Epoch 2/50\n",
      "53/53 [==============================] - 0s 2ms/step - loss: 0.4328 - accuracy: 0.4071\n",
      "Epoch 3/50\n",
      "53/53 [==============================] - 0s 2ms/step - loss: 0.3535 - accuracy: 0.5583\n",
      "Epoch 4/50\n",
      "53/53 [==============================] - 0s 2ms/step - loss: 0.3078 - accuracy: 0.6167\n",
      "Epoch 5/50\n",
      "53/53 [==============================] - 0s 2ms/step - loss: 0.2775 - accuracy: 0.6750\n",
      "Epoch 6/50\n",
      "53/53 [==============================] - 0s 2ms/step - loss: 0.2556 - accuracy: 0.6857\n",
      "Epoch 7/50\n",
      "53/53 [==============================] - 0s 2ms/step - loss: 0.2396 - accuracy: 0.6940\n",
      "Epoch 8/50\n",
      "53/53 [==============================] - 0s 2ms/step - loss: 0.2275 - accuracy: 0.6940\n",
      "Epoch 9/50\n",
      "53/53 [==============================] - 0s 2ms/step - loss: 0.2184 - accuracy: 0.7000\n",
      "Epoch 10/50\n",
      "53/53 [==============================] - 0s 2ms/step - loss: 0.2115 - accuracy: 0.7060\n",
      "Epoch 11/50\n",
      "53/53 [==============================] - 0s 2ms/step - loss: 0.2062 - accuracy: 0.7143\n",
      "Epoch 12/50\n",
      "53/53 [==============================] - 0s 2ms/step - loss: 0.2021 - accuracy: 0.7095\n",
      "Epoch 13/50\n",
      "53/53 [==============================] - 0s 2ms/step - loss: 0.1988 - accuracy: 0.7083\n",
      "Epoch 14/50\n",
      "53/53 [==============================] - 0s 2ms/step - loss: 0.1963 - accuracy: 0.7119\n",
      "Epoch 15/50\n",
      "53/53 [==============================] - 0s 2ms/step - loss: 0.1940 - accuracy: 0.7155\n",
      "Epoch 16/50\n",
      "53/53 [==============================] - 0s 2ms/step - loss: 0.1920 - accuracy: 0.7143\n",
      "Epoch 17/50\n",
      "53/53 [==============================] - 0s 2ms/step - loss: 0.1907 - accuracy: 0.7179\n",
      "Epoch 18/50\n",
      "53/53 [==============================] - 0s 2ms/step - loss: 0.1892 - accuracy: 0.7226\n",
      "Epoch 19/50\n",
      "53/53 [==============================] - 0s 2ms/step - loss: 0.1880 - accuracy: 0.7155\n",
      "Epoch 20/50\n",
      "53/53 [==============================] - 0s 2ms/step - loss: 0.1870 - accuracy: 0.7238\n",
      "Epoch 21/50\n",
      "53/53 [==============================] - 0s 2ms/step - loss: 0.1859 - accuracy: 0.7214\n",
      "Epoch 22/50\n",
      "53/53 [==============================] - 0s 2ms/step - loss: 0.1851 - accuracy: 0.7107\n",
      "Epoch 23/50\n",
      "53/53 [==============================] - 0s 2ms/step - loss: 0.1844 - accuracy: 0.7143\n",
      "Epoch 24/50\n",
      "53/53 [==============================] - 0s 2ms/step - loss: 0.1833 - accuracy: 0.7214\n",
      "Epoch 25/50\n",
      "53/53 [==============================] - 0s 2ms/step - loss: 0.1827 - accuracy: 0.7226\n",
      "Epoch 26/50\n",
      "53/53 [==============================] - 0s 2ms/step - loss: 0.1820 - accuracy: 0.7262\n",
      "Epoch 27/50\n",
      "53/53 [==============================] - 0s 2ms/step - loss: 0.1816 - accuracy: 0.7226\n",
      "Epoch 28/50\n",
      "53/53 [==============================] - 0s 2ms/step - loss: 0.1809 - accuracy: 0.7226\n",
      "Epoch 29/50\n",
      "53/53 [==============================] - 0s 2ms/step - loss: 0.1803 - accuracy: 0.7238\n",
      "Epoch 30/50\n",
      "53/53 [==============================] - 0s 2ms/step - loss: 0.1799 - accuracy: 0.7202\n",
      "Epoch 31/50\n",
      "53/53 [==============================] - 0s 2ms/step - loss: 0.1791 - accuracy: 0.7226\n",
      "Epoch 32/50\n",
      "53/53 [==============================] - 0s 2ms/step - loss: 0.1790 - accuracy: 0.7238\n",
      "Epoch 33/50\n",
      "53/53 [==============================] - 0s 2ms/step - loss: 0.1783 - accuracy: 0.7250\n",
      "Epoch 34/50\n",
      "53/53 [==============================] - 0s 2ms/step - loss: 0.1777 - accuracy: 0.7262\n",
      "Epoch 35/50\n",
      "53/53 [==============================] - 0s 2ms/step - loss: 0.1773 - accuracy: 0.7286\n",
      "Epoch 36/50\n",
      "53/53 [==============================] - 0s 2ms/step - loss: 0.1768 - accuracy: 0.7274\n",
      "Epoch 37/50\n",
      "53/53 [==============================] - 0s 2ms/step - loss: 0.1763 - accuracy: 0.7274\n",
      "Epoch 38/50\n",
      "53/53 [==============================] - 0s 2ms/step - loss: 0.1761 - accuracy: 0.7310\n",
      "Epoch 39/50\n",
      "53/53 [==============================] - 0s 2ms/step - loss: 0.1754 - accuracy: 0.7321\n",
      "Epoch 40/50\n",
      "53/53 [==============================] - 0s 2ms/step - loss: 0.1751 - accuracy: 0.7262\n",
      "Epoch 41/50\n",
      "53/53 [==============================] - 0s 2ms/step - loss: 0.1748 - accuracy: 0.7298\n",
      "Epoch 42/50\n",
      "53/53 [==============================] - 0s 2ms/step - loss: 0.1744 - accuracy: 0.7369\n",
      "Epoch 43/50\n",
      "53/53 [==============================] - 0s 2ms/step - loss: 0.1740 - accuracy: 0.7357\n",
      "Epoch 44/50\n",
      "53/53 [==============================] - 0s 2ms/step - loss: 0.1735 - accuracy: 0.7286\n",
      "Epoch 45/50\n",
      "53/53 [==============================] - 0s 2ms/step - loss: 0.1733 - accuracy: 0.7369\n",
      "Epoch 46/50\n",
      "53/53 [==============================] - 0s 2ms/step - loss: 0.1728 - accuracy: 0.7393\n",
      "Epoch 47/50\n",
      "53/53 [==============================] - 0s 2ms/step - loss: 0.1727 - accuracy: 0.7405\n",
      "Epoch 48/50\n",
      "53/53 [==============================] - 0s 2ms/step - loss: 0.1724 - accuracy: 0.7369\n",
      "Epoch 49/50\n",
      "53/53 [==============================] - 0s 2ms/step - loss: 0.1722 - accuracy: 0.7393\n",
      "Epoch 50/50\n",
      "53/53 [==============================] - 0s 2ms/step - loss: 0.1718 - accuracy: 0.7405\n"
     ]
    },
    {
     "data": {
      "text/plain": [
       "<keras.callbacks.History at 0x7ff094b2cf50>"
      ]
     },
     "execution_count": 63,
     "metadata": {},
     "output_type": "execute_result"
    }
   ],
   "source": [
    "model.compile(\n",
    "    optimizer=\"adam\",\n",
    "    loss=\"binary_crossentropy\",\n",
    "    metrics = \"accuracy\"\n",
    ")\n",
    "\n",
    "model.fit(X_train,y_train,batch_size=16,epochs=50)"
   ]
  },
  {
   "cell_type": "markdown",
   "metadata": {
    "id": "PjsPP_BNMcyJ"
   },
   "source": [
    "❓ **Question** ❓ Fit your model on the train data with 50 epochs and plot the history"
   ]
  },
  {
   "cell_type": "code",
   "execution_count": 64,
   "metadata": {
    "colab": {
     "base_uri": "https://localhost:8080/"
    },
    "id": "-Cg4jNvGMcyK",
    "outputId": "d5b930fd-cce3-4258-d56b-45a882705940",
    "tags": [
     "challengify"
    ]
   },
   "outputs": [
    {
     "name": "stdout",
     "output_type": "stream",
     "text": [
      "12/12 [==============================] - 0s 2ms/step - loss: 0.2393 - accuracy: 0.6333\n"
     ]
    },
    {
     "data": {
      "text/plain": [
       "[0.2393350601196289, 0.6333333253860474]"
      ]
     },
     "execution_count": 64,
     "metadata": {},
     "output_type": "execute_result"
    }
   ],
   "source": [
    "# YOUR CODE HERE\n",
    "model.evaluate(scaler.transform(X_test), y_test)"
   ]
  },
  {
   "cell_type": "markdown",
   "metadata": {
    "id": "px1sZy7JMcyK"
   },
   "source": [
    "❓ **Question** ❓ Evaluate your model on the test set and print the accuracy"
   ]
  },
  {
   "cell_type": "code",
   "execution_count": 14,
   "metadata": {
    "id": "2tGuE3NXMcyK",
    "tags": [
     "challengify"
    ]
   },
   "outputs": [],
   "source": [
    "# YOUR CODE HERE\n",
    "accuracy_baseline= 0.14285714285714285 "
   ]
  },
  {
   "cell_type": "markdown",
   "metadata": {
    "id": "swizmQUbMcyK"
   },
   "source": [
    "❓ **Question** ❓ Is this a good score? You should compare it to some sort of benchmark value. In this case, what score would a random guess give? Store this baseline score in the `accuracy_baseline` variable."
   ]
  },
  {
   "cell_type": "code",
   "execution_count": 15,
   "metadata": {
    "id": "O4pdeX4kMcyK",
    "tags": [
     "challengify"
    ]
   },
   "outputs": [],
   "source": [
    "# YOUR CODE HERE"
   ]
  },
  {
   "cell_type": "code",
   "execution_count": 17,
   "metadata": {
    "colab": {
     "base_uri": "https://localhost:8080/",
     "height": 374
    },
    "id": "5iOGkmvLMcyL",
    "outputId": "d142befb-7602-492c-9985-8523f3c5404b"
   },
   "outputs": [
    {
     "name": "stdout",
     "output_type": "stream",
     "text": [
      "\u001b[1m============================= test session starts ==============================\u001b[0m\n",
      "platform darwin -- Python 3.8.12, pytest-6.2.5, py-1.10.0, pluggy-1.0.0 -- /Users/shu/.pyenv/versions/lewagon/bin/python3\n",
      "cachedir: .pytest_cache\n",
      "rootdir: /Users/shu/Desktop/Lewagon/code/shiro101010101/data-challenges/06-Deep-Learning/01-Fundamentals-of-Deep-Learning/03-Multiclass-classification\n",
      "plugins: dash-2.0.0, anyio-3.3.2\n",
      "\u001b[1mcollecting ... \u001b[0mcollected 1 item\n",
      "\n",
      "tests/test_baseline.py::TestBaseline::test_accuracy \u001b[32mPASSED\u001b[0m\u001b[32m               [100%]\u001b[0m\n",
      "\n",
      "\u001b[32m============================== \u001b[32m\u001b[1m1 passed\u001b[0m\u001b[32m in 0.06s\u001b[0m\u001b[32m ===============================\u001b[0m\n",
      "\n",
      "\n",
      "💯 You can commit your code:\n",
      "\n",
      "\u001b[1;32mgit\u001b[39m add tests/baseline.pickle\n",
      "\n",
      "\u001b[32mgit\u001b[39m commit -m \u001b[33m'Completed baseline step'\u001b[39m\n",
      "\n",
      "\u001b[32mgit\u001b[39m push origin master\n"
     ]
    }
   ],
   "source": [
    "from nbresult import ChallengeResult\n",
    "result = ChallengeResult('baseline',\n",
    "                         accuracy=accuracy_baseline)\n",
    "result.write()\n",
    "print(result.check())"
   ]
  },
  {
   "cell_type": "markdown",
   "metadata": {
    "id": "x2iomPbXMcyL"
   },
   "source": [
    "❗ **Remark** ❗ Wait ... If you get a closer look at the plot of the loss, it seems that the loss was still decreasing after 50 epochs. Why stopping it so soon? Let's rerun the model (with the initialization first) with 1000 epochs and plot the history"
   ]
  },
  {
   "cell_type": "code",
   "execution_count": 69,
   "metadata": {
    "id": "p17VHek-McyL",
    "tags": [
     "challengify"
    ]
   },
   "outputs": [],
   "source": [
    "# YOUR CODE HERE\n",
    "model = initialize_model()\n",
    "\n",
    "history = model.fit(X_train, y_train, \n",
    "                    validation_data=(X_test, y_test), \n",
    "                    epochs=1000, \n",
    "                    batch_size=16,\n",
    "                    verbose=0)\n",
    "\n",
    "def plot_history(history):\n",
    "    plt.plot(history.history['loss'])\n",
    "    plt.title('Train loss')\n",
    "    plt.ylabel('Loss')\n",
    "    plt.xlabel('Epoch')\n",
    "    plt.show()\n",
    "  "
   ]
  },
  {
   "cell_type": "code",
   "execution_count": 70,
   "metadata": {
    "colab": {
     "base_uri": "https://localhost:8080/",
     "height": 295
    },
    "id": "PAthlIUg3stN",
    "outputId": "54b817b7-8500-409b-f3c8-820c3a8d7771"
   },
   "outputs": [
    {
     "data": {
      "image/png": "[encoded data removed]",
      "text/plain": [
       "<Figure size 432x288 with 1 Axes>"
      ]
     },
     "metadata": {
      "needs_background": "light"
     },
     "output_type": "display_data"
    }
   ],
   "source": [
    "plot_history(history)"
   ]
  },
  {
   "cell_type": "markdown",
   "metadata": {
    "id": "ZZ3oGYMhMcyL"
   },
   "source": [
    "❓ **Question** ❓ \n",
    "- What can you say about the new loss? \n",
    "- Evaluate once again your model on the test set and print the accuracy"
   ]
  },
  {
   "cell_type": "code",
   "execution_count": 71,
   "metadata": {
    "colab": {
     "base_uri": "https://localhost:8080/"
    },
    "id": "iAuMEcOmMcyL",
    "outputId": "b5e34b97-81c4-4f9b-e1bf-60bd2fffae37",
    "tags": [
     "challengify"
    ]
   },
   "outputs": [
    {
     "name": "stdout",
     "output_type": "stream",
     "text": [
      "12/12 [==============================] - 0s 2ms/step - loss: 2.5994 - accuracy: 0.5722\n"
     ]
    },
    {
     "data": {
      "text/plain": [
       "[2.5993618965148926, 0.5722222328186035]"
      ]
     },
     "execution_count": 71,
     "metadata": {},
     "output_type": "execute_result"
    }
   ],
   "source": [
    "# YOUR CODE HERE\n",
    "model.evaluate(scaler.transform(X_test), y_test)"
   ]
  },
  {
   "cell_type": "markdown",
   "metadata": {
    "id": "nA4MS9R8McyL"
   },
   "source": [
    "❗ **Remark** ❗ On one hand, the loss (computed on the train set) seems smaller than with 50 epochs. On the other hand, the accuracy on the test set got worse than before... \n",
    "\n",
    "❓ **Question** ❓ How is this phenomenon called? "
   ]
  },
  {
   "cell_type": "markdown",
   "metadata": {
    "id": "xNPVoSDGMcyL",
    "tags": [
     "challengify"
    ]
   },
   "source": [
    "> YOUR ANSWER HERE"
   ]
  },
  {
   "cell_type": "markdown",
   "metadata": {
    "id": "wGhSsksfMcyL"
   },
   "source": [
    "❗ **Remark** ❗ The overfitting occurs at some point during the iteration of the gradient descent, once the accuracy starts getting worse on the test set...\n",
    "\n",
    "⚠️ Therefore, we should:\n",
    "* either `choose a reasonable number of epochs to avoid overfitting` \n",
    "* or create what is called an `Early Stopping` criterion (cf. `Optimizers, Loss, Fitting` lecture tomorrow)\n",
    "\n",
    "Let's visually check when the test loss increases again in practice. \n",
    "\n",
    "😱 Yes, by using the test set, there is a massive data-leakage..., we should create a validation set for that in reality... again, cf. tomorrow's lecture!\n",
    "\n",
    "❓ **Question** ❓ Run the following command and plot the history"
   ]
  },
  {
   "cell_type": "code",
   "execution_count": 72,
   "metadata": {
    "colab": {
     "base_uri": "https://localhost:8080/",
     "height": 295
    },
    "id": "nz181JweMcyM",
    "outputId": "7ef6df10-6532-4f67-b809-9380c81860da"
   },
   "outputs": [
    {
     "data": {
      "image/png": "[encoded data removed]",
      "text/plain": [
       "<Figure size 432x288 with 1 Axes>"
      ]
     },
     "metadata": {
      "needs_background": "light"
     },
     "output_type": "display_data"
    }
   ],
   "source": [
    "model = initialize_model()\n",
    "\n",
    "history = model.fit(X_train, y_train, \n",
    "                    validation_data=(X_test, y_test), \n",
    "                    epochs=500, \n",
    "                    batch_size=16,\n",
    "                    verbose=0)\n",
    "plot_history(history)"
   ]
  },
  {
   "cell_type": "markdown",
   "metadata": {
    "id": "86t91P3OMcyM"
   },
   "source": [
    "❓ **Question** ❓ Plot the values of the loss and accuracy on the train set (in blue) and on the test set (in orange). What can you comment on that?"
   ]
  },
  {
   "cell_type": "code",
   "execution_count": 73,
   "metadata": {
    "id": "xW6E9WJrMcyM"
   },
   "outputs": [],
   "source": [
    "def plot_loss_accuracy(history):\n",
    "    plt.plot(history.history['loss'])\n",
    "    plt.plot(history.history['val_loss'])\n",
    "    plt.title('Model loss')\n",
    "    plt.ylabel('Loss')\n",
    "    plt.xlabel('Epoch')\n",
    "    plt.legend(['Train', 'Test'], loc='best')\n",
    "    plt.show()\n",
    "    \n",
    "    plt.plot(history.history['accuracy'])\n",
    "    plt.plot(history.history['val_accuracy'])\n",
    "    plt.title('Model Accuracy')\n",
    "    plt.ylabel('Accuracy')\n",
    "    plt.xlabel('Epoch')\n",
    "    plt.legend(['Train', 'Test'], loc='best')\n",
    "    plt.show()"
   ]
  },
  {
   "cell_type": "code",
   "execution_count": 74,
   "metadata": {
    "colab": {
     "base_uri": "https://localhost:8080/",
     "height": 573
    },
    "id": "m_D6Dlf4McyM",
    "outputId": "5dbde95f-d89a-4f2e-d049-bed642b0d024",
    "tags": [
     "challengify"
    ]
   },
   "outputs": [
    {
     "data": {
      "image/png": "[encoded data removed]",
      "text/plain": [
       "<Figure size 432x288 with 1 Axes>"
      ]
     },
     "metadata": {
      "needs_background": "light"
     },
     "output_type": "display_data"
    },
    {
     "data": {
      "image/png": "[encoded data removed]",
      "text/plain": [
       "<Figure size 432x288 with 1 Axes>"
      ]
     },
     "metadata": {
      "needs_background": "light"
     },
     "output_type": "display_data"
    }
   ],
   "source": [
    "# YOUR CODE HERE\n",
    "plot_loss_accuracy(history)"
   ]
  },
  {
   "cell_type": "markdown",
   "metadata": {
    "id": "tlzCdHOuMcyM"
   },
   "source": [
    "❓ **Question** ❓ Reproduce similar results by defining a more complex architecture that includes : \n",
    "\n",
    "- a first layer with 25 neurons \n",
    "- a second layer with 15 neurons\n",
    "- a third layer with 10 neurons\n",
    "- a final layer that outputs probability for each class\n",
    "\n"
   ]
  },
  {
   "cell_type": "code",
   "execution_count": null,
   "metadata": {
    "id": "8-FwCFLRMcyM"
   },
   "outputs": [],
   "source": [
    "def initialize_model_2():\n",
    "    pass  # YOUR CODE HERE\n"
   ]
  },
  {
   "cell_type": "markdown",
   "metadata": {
    "id": "OR-NX50WMcyN"
   },
   "source": [
    "❗ **Remark** ❗ \n",
    "- We clearly see that an overfitting can happend during the training. More in our next lecture\n",
    "- The model overfits as the number of parameters is very large (compare the number of weights with a logistic regression on the same data...)"
   ]
  },
  {
   "cell_type": "markdown",
   "metadata": {
    "id": "DSxDpnYjMcyO"
   },
   "source": [
    "**🏁 Congratulations! Commit and push your notebook**"
   ]
  },
  {
   "cell_type": "code",
   "execution_count": null,
   "metadata": {
    "id": "FsNe1xgkMcyO"
   },
   "outputs": [],
   "source": []
  }
 ],
 "metadata": {
  "colab": {
   "name": "multiclass_classification.ipynb",
   "provenance": []
  },
  "kernelspec": {
   "display_name": "Python 3 (ipykernel)",
   "language": "python",
   "name": "python3"
  },
  "language_info": {
   "codemirror_mode": {
    "name": "ipython",
    "version": 3
   },
   "file_extension": ".py",
   "mimetype": "text/x-python",
   "name": "python",
   "nbconvert_exporter": "python",
   "pygments_lexer": "ipython3",
   "version": "3.8.12"
  },
  "toc": {
   "base_numbering": 1,
   "nav_menu": {},
   "number_sections": true,
   "sideBar": true,
   "skip_h1_title": false,
   "title_cell": "Table of Contents",
   "title_sidebar": "Contents",
   "toc_cell": false,
   "toc_position": {},
   "toc_section_display": true,
   "toc_window_display": false
  }
 },
 "nbformat": 4,
 "nbformat_minor": 1
}
