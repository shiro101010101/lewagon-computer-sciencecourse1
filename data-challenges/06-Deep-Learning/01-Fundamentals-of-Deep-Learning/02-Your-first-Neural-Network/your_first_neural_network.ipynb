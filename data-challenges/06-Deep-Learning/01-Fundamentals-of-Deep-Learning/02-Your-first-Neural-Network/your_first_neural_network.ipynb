{
 "cells": [
  {
   "cell_type": "code",
   "execution_count": 1,
   "metadata": {},
   "outputs": [],
   "source": [
    "#add comment TA asked 2022 Jan13 -3"
   ]
  },
  {
   "cell_type": "markdown",
   "metadata": {
    "id": "tXkBpY4TZGoa"
   },
   "source": [
    "# Deep Learning week - Day 1 - Your First Neural Network\n",
    "\n",
    "### Exercise objectives\n",
    "- Write your first Neural Network\n",
    "- Inspect some of the most important hyperparameters of Neural Networks\n",
    "\n",
    "<hr>\n",
    "<hr>\n",
    "\n",
    "\n",
    "In this exercise, you will build your first Neural Network that will separate two classes.\n",
    "Each data $X$ has only two coordinates $X = (x_1, x_2)$ and belongs to either the class 0 or to the class 1. It is called the `moons dataset`. \n",
    "\n",
    "As there are only two features, the points can be represented on a 2D-scatterplot, where the colors correspond to the two available classes: $\\color{blue}{blue}$ and $\\color{red}{red} $. Here is an example of such data : \n",
    "\n",
    "![Two moons](moons_example.png)\n",
    "\n",
    "\n",
    "\n",
    "## 1. Create data\n",
    "\n",
    "Here, we will use the scikit-learn `make_moons` function [(see documentation here)](https://scikit-learn.org/stable/modules/generated/sklearn.datasets.make_moons.html) to create 2 moons that cannot be linearly separated. Each moon correspond to a class."
   ]
  },
  {
   "cell_type": "code",
   "execution_count": 4,
   "metadata": {
    "id": "shFRfdTtZGod"
   },
   "outputs": [],
   "source": [
    "from sklearn.datasets import make_moons\n",
    "\n",
    "import pandas as pd\n",
    "import matplotlib.pyplot as plt\n",
    "%matplotlib inline\n",
    "### Data generation\n",
    "X, y = make_moons(n_samples=300, noise=0.25, random_state=0)"
   ]
  },
  {
   "cell_type": "code",
   "execution_count": 6,
   "metadata": {},
   "outputs": [
    {
     "data": {
      "text/html": [
       "<div>\n",
       "<style scoped>\n",
       "    .dataframe tbody tr th:only-of-type {\n",
       "        vertical-align: middle;\n",
       "    }\n",
       "\n",
       "    .dataframe tbody tr th {\n",
       "        vertical-align: top;\n",
       "    }\n",
       "\n",
       "    .dataframe thead th {\n",
       "        text-align: right;\n",
       "    }\n",
       "</style>\n",
       "<table border=\"1\" class=\"dataframe\">\n",
       "  <thead>\n",
       "    <tr style=\"text-align: right;\">\n",
       "      <th></th>\n",
       "      <th>x1</th>\n",
       "      <th>x2</th>\n",
       "      <th>label</th>\n",
       "    </tr>\n",
       "  </thead>\n",
       "  <tbody>\n",
       "    <tr>\n",
       "      <th>0</th>\n",
       "      <td>0.940740</td>\n",
       "      <td>-0.710075</td>\n",
       "      <td>1</td>\n",
       "    </tr>\n",
       "    <tr>\n",
       "      <th>1</th>\n",
       "      <td>0.017296</td>\n",
       "      <td>-0.327655</td>\n",
       "      <td>1</td>\n",
       "    </tr>\n",
       "    <tr>\n",
       "      <th>2</th>\n",
       "      <td>0.843654</td>\n",
       "      <td>0.732706</td>\n",
       "      <td>0</td>\n",
       "    </tr>\n",
       "    <tr>\n",
       "      <th>3</th>\n",
       "      <td>1.163626</td>\n",
       "      <td>-0.475391</td>\n",
       "      <td>1</td>\n",
       "    </tr>\n",
       "    <tr>\n",
       "      <th>4</th>\n",
       "      <td>0.994626</td>\n",
       "      <td>-0.242538</td>\n",
       "      <td>1</td>\n",
       "    </tr>\n",
       "    <tr>\n",
       "      <th>...</th>\n",
       "      <td>...</td>\n",
       "      <td>...</td>\n",
       "      <td>...</td>\n",
       "    </tr>\n",
       "    <tr>\n",
       "      <th>295</th>\n",
       "      <td>1.532705</td>\n",
       "      <td>-0.167915</td>\n",
       "      <td>1</td>\n",
       "    </tr>\n",
       "    <tr>\n",
       "      <th>296</th>\n",
       "      <td>-0.088928</td>\n",
       "      <td>-0.198362</td>\n",
       "      <td>1</td>\n",
       "    </tr>\n",
       "    <tr>\n",
       "      <th>297</th>\n",
       "      <td>-0.587718</td>\n",
       "      <td>0.209267</td>\n",
       "      <td>0</td>\n",
       "    </tr>\n",
       "    <tr>\n",
       "      <th>298</th>\n",
       "      <td>0.659926</td>\n",
       "      <td>1.260604</td>\n",
       "      <td>0</td>\n",
       "    </tr>\n",
       "    <tr>\n",
       "      <th>299</th>\n",
       "      <td>0.101953</td>\n",
       "      <td>0.257949</td>\n",
       "      <td>1</td>\n",
       "    </tr>\n",
       "  </tbody>\n",
       "</table>\n",
       "<p>300 rows × 3 columns</p>\n",
       "</div>"
      ],
      "text/plain": [
       "           x1        x2  label\n",
       "0    0.940740 -0.710075      1\n",
       "1    0.017296 -0.327655      1\n",
       "2    0.843654  0.732706      0\n",
       "3    1.163626 -0.475391      1\n",
       "4    0.994626 -0.242538      1\n",
       "..        ...       ...    ...\n",
       "295  1.532705 -0.167915      1\n",
       "296 -0.088928 -0.198362      1\n",
       "297 -0.587718  0.209267      0\n",
       "298  0.659926  1.260604      0\n",
       "299  0.101953  0.257949      1\n",
       "\n",
       "[300 rows x 3 columns]"
      ]
     },
     "execution_count": 6,
     "metadata": {},
     "output_type": "execute_result"
    }
   ],
   "source": [
    "df = pd.DataFrame(dict(x1=X[:,0], x2=X[:,1], label=y))\n",
    "df"
   ]
  },
  {
   "cell_type": "code",
   "execution_count": 2,
   "metadata": {
    "colab": {
     "base_uri": "https://localhost:8080/",
     "height": 279
    },
    "id": "rokOaI-9ZGod",
    "outputId": "ad7b69c3-1460-4957-855c-fa61f71886ff"
   },
   "outputs": [
    {
     "data": {
      "image/png": "[encoded data removed]",
      "text/plain": [
       "<Figure size 432x288 with 1 Axes>"
      ]
     },
     "metadata": {
      "needs_background": "light"
     },
     "output_type": "display_data"
    }
   ],
   "source": [
    "### This function allows to plot the two moons\n",
    "import pandas as pd\n",
    "import matplotlib.pyplot as plt\n",
    "%matplotlib inline\n",
    "\n",
    "def plot_moons(X, y):\n",
    "    df = pd.DataFrame(dict(x1=X[:,0], x2=X[:,1], label=y))\n",
    "    colors = {0:'red', 1:'blue'}\n",
    "    fig, ax = plt.subplots()\n",
    "    grouped = df.groupby('label')\n",
    "\n",
    "    for key, group in grouped:\n",
    "        group.plot(ax=ax, kind='scatter', x='x1', y='x2', label=key, color=colors[key])\n",
    "    plt.show()\n",
    "\n",
    "plot_moons(X, y)"
   ]
  },
  {
   "cell_type": "markdown",
   "metadata": {
    "id": "N3AS4hW0ZGoe"
   },
   "source": [
    "❓  Play with the number of samples and the noise to discover the effects on the `moons dataset`, by plotting the moons for different values"
   ]
  },
  {
   "cell_type": "code",
   "execution_count": 3,
   "metadata": {
    "colab": {
     "base_uri": "https://localhost:8080/",
     "height": 279
    },
    "id": "ndVWHKHfZGoe",
    "outputId": "0c353522-3b66-4cab-f0c8-88594adc1fb6",
    "tags": [
     "challengify"
    ]
   },
   "outputs": [
    {
     "data": {
      "image/png": "[encoded data removed]",
      "text/plain": [
       "<Figure size 432x288 with 1 Axes>"
      ]
     },
     "metadata": {
      "needs_background": "light"
     },
     "output_type": "display_data"
    }
   ],
   "source": [
    "# YOUR CODE HERE\n",
    "# YOUR CODE HERE\n",
    "X, y = make_moons(n_samples=250, noise=0.20, random_state=0)\n",
    "plot_moons(X,y)"
   ]
  },
  {
   "cell_type": "markdown",
   "metadata": {
    "id": "xnn8atF4ZGoe"
   },
   "source": [
    "❓ Draw 250 samples of the data with a noise equal to 0.20 (random state being 0) and split the initial dataset into a train and test set (size: 70/30%)\n",
    "\n",
    "*Remark* : Please call the variables `X_train`, `y_train`, `X_test` and `y_test`"
   ]
  },
  {
   "cell_type": "code",
   "execution_count": 5,
   "metadata": {
    "colab": {
     "base_uri": "https://localhost:8080/"
    },
    "id": "duzM7Y21ZGof",
    "outputId": "36c45663-e96d-45ba-f681-8780dfbeacb9",
    "tags": [
     "challengify"
    ]
   },
   "outputs": [
    {
     "data": {
      "text/plain": [
       "175"
      ]
     },
     "execution_count": 5,
     "metadata": {},
     "output_type": "execute_result"
    }
   ],
   "source": [
    "# YOUR CODE HERE\n",
    "from sklearn.model_selection import train_test_split\n",
    "X_train,X_test,y_train,y_test=train_test_split(X,y,test_size=0.3)\n",
    "len(X_train)"
   ]
  },
  {
   "cell_type": "markdown",
   "metadata": {
    "id": "MPoo3QHQZGof"
   },
   "source": [
    "## 2. Simple model"
   ]
  },
  {
   "cell_type": "markdown",
   "metadata": {
    "id": "Wcm8UEsCZGog"
   },
   "source": [
    "You will now define your first neural network.\n",
    "The architecture of your model should have : \n",
    "- a first layer with 5 neurons, with a `relu` activation function and the correct input dimension\n",
    "- a output layer suited to your 2-class classification task.\n",
    "\n",
    "\n",
    "❓ Complete the next function with the previous architecture"
   ]
  },
  {
   "cell_type": "code",
   "execution_count": null,
   "metadata": {
    "id": "SEALAF1FZGog",
    "tags": [
     "challengify"
    ]
   },
   "outputs": [],
   "source": [
    "# YOUR CODE HERE\n",
    "\n",
    "from tensorflow.keras import models, layers\n",
    "model=models.Sequential()\n",
    "\n",
    "#input\n",
    "model.add(layers.Dense(5,activation='relu',input_dim=2))\n",
    "\n",
    "#output\n",
    "model.add(layers.Dense(1,activation='sigmoid'))#sofmax\n"
   ]
  },
  {
   "cell_type": "code",
   "execution_count": 14,
   "metadata": {
    "id": "nVnyCJ0rZGog"
   },
   "outputs": [],
   "source": [
    "def initialize_model():\n",
    "    ### Model architecture\n",
    "    model=models.Sequential()\n",
    "    #input\n",
    "    model.add(layers.Dense(5,activation='relu',input_dim=2))\n",
    "    #output\n",
    "    model.add(layers.Dense(1,activation='sigmoid'))#sofmax\n",
    "\n",
    "    ### Model optimization : Optimizer, loss and metric    \n",
    "    model.compile(loss='binary_crossentropy', \n",
    "                  optimizer='adam', \n",
    "                  metrics=['accuracy'])\n",
    "    return model\n",
    "\n",
    "model = initialize_model()"
   ]
  },
  {
   "cell_type": "markdown",
   "metadata": {
    "id": "t_72JeH0ZGoh"
   },
   "source": [
    "❗ **Remark** ❗ Briefly speaking, the **`.compile()`** tells your algorithm how to optimize the weights of your network once it will be fit on real data. **`binary_crossentropy`** is the \"log-loss\" that you have already seen in Machine-Learning.\n",
    "\n",
    "❓ How many parameters does the model have?  \n",
    "Double check using the **`.summary()`** function which displays the stack of layers, the shape of the output after each layer, and the number of parameters of each layer. Use this function to check that you have 21 parameters i.e. weights in your model."
   ]
  },
  {
   "cell_type": "code",
   "execution_count": 15,
   "metadata": {
    "colab": {
     "base_uri": "https://localhost:8080/"
    },
    "id": "IP9d0Ej5ZGoh",
    "outputId": "b6a943c1-01d6-4d8f-8c67-22e251770cf3",
    "tags": [
     "challengify"
    ]
   },
   "outputs": [
    {
     "name": "stdout",
     "output_type": "stream",
     "text": [
      "Model: \"sequential_4\"\n",
      "_________________________________________________________________\n",
      " Layer (type)                Output Shape              Param #   \n",
      "=================================================================\n",
      " dense_7 (Dense)             (None, 5)                 15        \n",
      "                                                                 \n",
      " dense_8 (Dense)             (None, 1)                 6         \n",
      "                                                                 \n",
      "=================================================================\n",
      "Total params: 21\n",
      "Trainable params: 21\n",
      "Non-trainable params: 0\n",
      "_________________________________________________________________\n"
     ]
    }
   ],
   "source": [
    "# YOUR CODE HERE\n",
    "model.summary()\n"
   ]
  },
  {
   "cell_type": "markdown",
   "metadata": {
    "id": "jnbia8ZhZGoh"
   },
   "source": [
    "You are now ready to train your algorithm on the training set:"
   ]
  },
  {
   "cell_type": "code",
   "execution_count": 22,
   "metadata": {
    "id": "OeR2XINpZGoh"
   },
   "outputs": [],
   "source": [
    "model = initialize_model()\n",
    "\n",
    "history = model.fit(X_train, y_train, \n",
    "                    epochs=100,\n",
    "                    batch_size=8,\n",
    "                    verbose=0) # Try different verbose"
   ]
  },
  {
   "cell_type": "markdown",
   "metadata": {
    "id": "OEz6BoOQZGoh"
   },
   "source": [
    "### Fit history"
   ]
  },
  {
   "cell_type": "markdown",
   "metadata": {
    "id": "08dJC7ICZGoi"
   },
   "source": [
    "`history` contains information about the training.\n",
    "\n",
    "❓ Inspect all its attributes using `history.__dict__`. You will see epoch-by-epoch info stored in `history.history`"
   ]
  },
  {
   "cell_type": "code",
   "execution_count": 23,
   "metadata": {
    "colab": {
     "base_uri": "https://localhost:8080/"
    },
    "id": "bJFbPuQmZGoi",
    "outputId": "957dbb9a-c0f5-4bd6-9b69-7ca1b7220d85"
   },
   "outputs": [
    {
     "data": {
      "text/plain": [
       "{'_chief_worker_only': None,\n",
       " '_supports_tf_logs': False,\n",
       " 'epoch': [0,\n",
       "  1,\n",
       "  2,\n",
       "  3,\n",
       "  4,\n",
       "  5,\n",
       "  6,\n",
       "  7,\n",
       "  8,\n",
       "  9,\n",
       "  10,\n",
       "  11,\n",
       "  12,\n",
       "  13,\n",
       "  14,\n",
       "  15,\n",
       "  16,\n",
       "  17,\n",
       "  18,\n",
       "  19,\n",
       "  20,\n",
       "  21,\n",
       "  22,\n",
       "  23,\n",
       "  24,\n",
       "  25,\n",
       "  26,\n",
       "  27,\n",
       "  28,\n",
       "  29,\n",
       "  30,\n",
       "  31,\n",
       "  32,\n",
       "  33,\n",
       "  34,\n",
       "  35,\n",
       "  36,\n",
       "  37,\n",
       "  38,\n",
       "  39,\n",
       "  40,\n",
       "  41,\n",
       "  42,\n",
       "  43,\n",
       "  44,\n",
       "  45,\n",
       "  46,\n",
       "  47,\n",
       "  48,\n",
       "  49,\n",
       "  50,\n",
       "  51,\n",
       "  52,\n",
       "  53,\n",
       "  54,\n",
       "  55,\n",
       "  56,\n",
       "  57,\n",
       "  58,\n",
       "  59,\n",
       "  60,\n",
       "  61,\n",
       "  62,\n",
       "  63,\n",
       "  64,\n",
       "  65,\n",
       "  66,\n",
       "  67,\n",
       "  68,\n",
       "  69,\n",
       "  70,\n",
       "  71,\n",
       "  72,\n",
       "  73,\n",
       "  74,\n",
       "  75,\n",
       "  76,\n",
       "  77,\n",
       "  78,\n",
       "  79,\n",
       "  80,\n",
       "  81,\n",
       "  82,\n",
       "  83,\n",
       "  84,\n",
       "  85,\n",
       "  86,\n",
       "  87,\n",
       "  88,\n",
       "  89,\n",
       "  90,\n",
       "  91,\n",
       "  92,\n",
       "  93,\n",
       "  94,\n",
       "  95,\n",
       "  96,\n",
       "  97,\n",
       "  98,\n",
       "  99],\n",
       " 'history': {'accuracy': [0.4571428596973419,\n",
       "   0.49142858386039734,\n",
       "   0.49714285135269165,\n",
       "   0.47428572177886963,\n",
       "   0.47999998927116394,\n",
       "   0.5314285755157471,\n",
       "   0.5657142996788025,\n",
       "   0.5885714292526245,\n",
       "   0.645714282989502,\n",
       "   0.668571412563324,\n",
       "   0.691428542137146,\n",
       "   0.7200000286102295,\n",
       "   0.7485714554786682,\n",
       "   0.7599999904632568,\n",
       "   0.7885714173316956,\n",
       "   0.7885714173316956,\n",
       "   0.7885714173316956,\n",
       "   0.8114285469055176,\n",
       "   0.822857141494751,\n",
       "   0.822857141494751,\n",
       "   0.8285714387893677,\n",
       "   0.822857141494751,\n",
       "   0.822857141494751,\n",
       "   0.822857141494751,\n",
       "   0.8285714387893677,\n",
       "   0.8285714387893677,\n",
       "   0.8285714387893677,\n",
       "   0.8285714387893677,\n",
       "   0.8285714387893677,\n",
       "   0.8342857360839844,\n",
       "   0.8342857360839844,\n",
       "   0.8342857360839844,\n",
       "   0.8342857360839844,\n",
       "   0.8285714387893677,\n",
       "   0.8285714387893677,\n",
       "   0.8342857360839844,\n",
       "   0.8342857360839844,\n",
       "   0.8342857360839844,\n",
       "   0.8342857360839844,\n",
       "   0.8342857360839844,\n",
       "   0.8342857360839844,\n",
       "   0.8342857360839844,\n",
       "   0.8342857360839844,\n",
       "   0.8342857360839844,\n",
       "   0.8342857360839844,\n",
       "   0.8342857360839844,\n",
       "   0.8342857360839844,\n",
       "   0.8342857360839844,\n",
       "   0.8342857360839844,\n",
       "   0.8342857360839844,\n",
       "   0.8342857360839844,\n",
       "   0.8342857360839844,\n",
       "   0.8342857360839844,\n",
       "   0.8342857360839844,\n",
       "   0.8342857360839844,\n",
       "   0.8342857360839844,\n",
       "   0.8342857360839844,\n",
       "   0.8342857360839844,\n",
       "   0.8399999737739563,\n",
       "   0.8399999737739563,\n",
       "   0.845714271068573,\n",
       "   0.8514285683631897,\n",
       "   0.845714271068573,\n",
       "   0.8514285683631897,\n",
       "   0.845714271068573,\n",
       "   0.845714271068573,\n",
       "   0.8514285683631897,\n",
       "   0.8514285683631897,\n",
       "   0.8514285683631897,\n",
       "   0.8514285683631897,\n",
       "   0.8514285683631897,\n",
       "   0.8514285683631897,\n",
       "   0.8514285683631897,\n",
       "   0.845714271068573,\n",
       "   0.8514285683631897,\n",
       "   0.8514285683631897,\n",
       "   0.8514285683631897,\n",
       "   0.8514285683631897,\n",
       "   0.8571428656578064,\n",
       "   0.8571428656578064,\n",
       "   0.8571428656578064,\n",
       "   0.8571428656578064,\n",
       "   0.8571428656578064,\n",
       "   0.8571428656578064,\n",
       "   0.8571428656578064,\n",
       "   0.8571428656578064,\n",
       "   0.8571428656578064,\n",
       "   0.8571428656578064,\n",
       "   0.8571428656578064,\n",
       "   0.8571428656578064,\n",
       "   0.8571428656578064,\n",
       "   0.8571428656578064,\n",
       "   0.8628571629524231,\n",
       "   0.8571428656578064,\n",
       "   0.8571428656578064,\n",
       "   0.8571428656578064,\n",
       "   0.8571428656578064,\n",
       "   0.8571428656578064,\n",
       "   0.8571428656578064,\n",
       "   0.8571428656578064],\n",
       "  'loss': [0.7161435484886169,\n",
       "   0.6921769976615906,\n",
       "   0.6710751056671143,\n",
       "   0.6513682007789612,\n",
       "   0.6343006491661072,\n",
       "   0.6198007464408875,\n",
       "   0.6049901247024536,\n",
       "   0.5927237272262573,\n",
       "   0.5817151069641113,\n",
       "   0.5715088248252869,\n",
       "   0.5626466274261475,\n",
       "   0.5543435215950012,\n",
       "   0.546015739440918,\n",
       "   0.5385282039642334,\n",
       "   0.531096875667572,\n",
       "   0.5242375731468201,\n",
       "   0.5173268914222717,\n",
       "   0.5105093717575073,\n",
       "   0.5040891170501709,\n",
       "   0.4971320927143097,\n",
       "   0.4905913770198822,\n",
       "   0.4835796356201172,\n",
       "   0.4771054983139038,\n",
       "   0.46965450048446655,\n",
       "   0.4621559679508209,\n",
       "   0.4548777937889099,\n",
       "   0.447757750749588,\n",
       "   0.4400911033153534,\n",
       "   0.4332217872142792,\n",
       "   0.4261358082294464,\n",
       "   0.4191043972969055,\n",
       "   0.4125041365623474,\n",
       "   0.4061332941055298,\n",
       "   0.3995177447795868,\n",
       "   0.39395850896835327,\n",
       "   0.38800230622291565,\n",
       "   0.38273873925209045,\n",
       "   0.3780759871006012,\n",
       "   0.37300440669059753,\n",
       "   0.3686622977256775,\n",
       "   0.3643321096897125,\n",
       "   0.3603549301624298,\n",
       "   0.3563711643218994,\n",
       "   0.353264719247818,\n",
       "   0.34970489144325256,\n",
       "   0.3469972312450409,\n",
       "   0.3438572585582733,\n",
       "   0.34102335572242737,\n",
       "   0.33861643075942993,\n",
       "   0.33661648631095886,\n",
       "   0.3339451253414154,\n",
       "   0.331767201423645,\n",
       "   0.32973524928092957,\n",
       "   0.32753950357437134,\n",
       "   0.3258249759674072,\n",
       "   0.32403406500816345,\n",
       "   0.3222656548023224,\n",
       "   0.3205832540988922,\n",
       "   0.318945974111557,\n",
       "   0.3173596262931824,\n",
       "   0.3158224821090698,\n",
       "   0.3146834373474121,\n",
       "   0.31340712308883667,\n",
       "   0.31184107065200806,\n",
       "   0.31065770983695984,\n",
       "   0.3091723322868347,\n",
       "   0.308094322681427,\n",
       "   0.30694326758384705,\n",
       "   0.30560675263404846,\n",
       "   0.30468782782554626,\n",
       "   0.30360472202301025,\n",
       "   0.30224618315696716,\n",
       "   0.30140459537506104,\n",
       "   0.300688773393631,\n",
       "   0.29950693249702454,\n",
       "   0.29893437027931213,\n",
       "   0.29780492186546326,\n",
       "   0.2971124053001404,\n",
       "   0.2962118983268738,\n",
       "   0.29550033807754517,\n",
       "   0.2950715124607086,\n",
       "   0.29406124353408813,\n",
       "   0.2936312258243561,\n",
       "   0.29311510920524597,\n",
       "   0.2926504611968994,\n",
       "   0.2919342815876007,\n",
       "   0.29115819931030273,\n",
       "   0.2910376489162445,\n",
       "   0.2901776432991028,\n",
       "   0.28947827219963074,\n",
       "   0.28903862833976746,\n",
       "   0.2887811064720154,\n",
       "   0.28811782598495483,\n",
       "   0.2875288128852844,\n",
       "   0.2872742712497711,\n",
       "   0.2866354286670685,\n",
       "   0.28642725944519043,\n",
       "   0.285648375749588,\n",
       "   0.28542324900627136,\n",
       "   0.28509363532066345]},\n",
       " 'model': <keras.engine.sequential.Sequential at 0x7fc6557f7550>,\n",
       " 'params': {'epochs': 100, 'steps': 22, 'verbose': 0},\n",
       " 'validation_data': None}"
      ]
     },
     "execution_count": 23,
     "metadata": {},
     "output_type": "execute_result"
    }
   ],
   "source": [
    "history.__dict__"
   ]
  },
  {
   "cell_type": "markdown",
   "metadata": {
    "id": "-khoUIdNZGoi"
   },
   "source": [
    "❓ Plot the history of the train loss using the following function"
   ]
  },
  {
   "cell_type": "code",
   "execution_count": 20,
   "metadata": {
    "id": "YuxTvvkLZGoi"
   },
   "outputs": [],
   "source": [
    "def plot_history(history):\n",
    "    plt.plot(history.history['loss'])\n",
    "    plt.title('Train loss')\n",
    "    plt.ylabel('Loss')\n",
    "    plt.xlabel('Epoch')\n",
    "    plt.show()"
   ]
  },
  {
   "cell_type": "code",
   "execution_count": 25,
   "metadata": {
    "colab": {
     "base_uri": "https://localhost:8080/",
     "height": 295
    },
    "id": "7bTZDu1GZGoi",
    "outputId": "1ed0e929-d956-46fd-88f9-06b9759161ed",
    "tags": [
     "challengify"
    ]
   },
   "outputs": [
    {
     "data": {
      "image/png": "[encoded data removed]",
      "text/plain": [
       "<Figure size 432x288 with 1 Axes>"
      ]
     },
     "metadata": {
      "needs_background": "light"
     },
     "output_type": "display_data"
    }
   ],
   "source": [
    "# YOUR CODE HERE\n",
    "plot_history(history)"
   ]
  },
  {
   "cell_type": "markdown",
   "metadata": {
    "id": "_z2_GtkdZGoi"
   },
   "source": [
    "### Predict & Evaluate performance on test set"
   ]
  },
  {
   "cell_type": "markdown",
   "metadata": {
    "id": "HKAVQdd_ZGoi"
   },
   "source": [
    "You can predict `y_pred` using the **`.predict()`** method."
   ]
  },
  {
   "cell_type": "code",
   "execution_count": null,
   "metadata": {
    "id": "lwxQN_sTZGoi"
   },
   "outputs": [],
   "source": [
    "y_pred = model.predict(X_test)"
   ]
  },
  {
   "cell_type": "markdown",
   "metadata": {
    "id": "kENqW_-WZGoi"
   },
   "source": [
    "You can use the **`.evaluate()`** method to return the **`loss value`** &  and the **`performance metrics`**"
   ]
  },
  {
   "cell_type": "code",
   "execution_count": 26,
   "metadata": {
    "colab": {
     "base_uri": "https://localhost:8080/"
    },
    "id": "odGPIxe3ZGoj",
    "outputId": "84fd61da-7ef0-42d3-c5b9-a087aa70f5df"
   },
   "outputs": [
    {
     "data": {
      "text/plain": [
       "[0.3192412555217743, 0.8666666746139526]"
      ]
     },
     "execution_count": 26,
     "metadata": {},
     "output_type": "execute_result"
    }
   ],
   "source": [
    "model.evaluate(X_test, y_test, verbose=0)"
   ]
  },
  {
   "cell_type": "markdown",
   "metadata": {
    "id": "89k17vEnZGoj"
   },
   "source": [
    "- The first element corresponds to the **loss** value, set to `\"binary_crossentropy\"` in `model.compile()`. Its value is hard to interpret.\n",
    "\n",
    "- The second element is the **metrics**, that we set to `\"accuracy\"`"
   ]
  },
  {
   "cell_type": "markdown",
   "metadata": {
    "id": "eLc9qH4FZGoj"
   },
   "source": [
    "❓ What is your accuracy on the test test? Store the value as a `float` in the `accuracy` variable."
   ]
  },
  {
   "cell_type": "code",
   "execution_count": 1,
   "metadata": {
    "id": "aXiQpqJXZGoj",
    "tags": [
     "challengify"
    ]
   },
   "outputs": [],
   "source": [
    "# YOUR CODE HERE\n",
    "accuracy=0.8666666746139526"
   ]
  },
  {
   "cell_type": "markdown",
   "metadata": {
    "id": "xgZcbTqdZGoj"
   },
   "source": [
    "❓ Check your prediction visually by using our `plot_decision_regions` available in `utils/plots.py`. It looks a bit underfitted, right? We will create a deeper network next!"
   ]
  },
  {
   "cell_type": "code",
   "execution_count": 28,
   "metadata": {
    "colab": {
     "base_uri": "https://localhost:8080/",
     "height": 322
    },
    "id": "8F4JmPakZGoj",
    "outputId": "9f59b17c-7016-4964-c8f6-ed2e50b1a82c"
   },
   "outputs": [
    {
     "ename": "ModuleNotFoundError",
     "errorDetails": {
      "actions": [
       {
        "action": "open_url",
        "actionText": "Open Examples",
        "url": "/notebooks/snippets/importing_libraries.ipynb"
       }
      ]
     },
     "evalue": "ignored",
     "output_type": "error",
     "traceback": [
      "\u001b[0;31m---------------------------------------------------------------------------\u001b[0m",
      "\u001b[0;31mModuleNotFoundError\u001b[0m                       Traceback (most recent call last)",
      "\u001b[0;32m<ipython-input-28-e02e7e62d2f8>\u001b[0m in \u001b[0;36m<module>\u001b[0;34m()\u001b[0m\n\u001b[0;32m----> 1\u001b[0;31m \u001b[0;32mfrom\u001b[0m \u001b[0mutils\u001b[0m\u001b[0;34m.\u001b[0m\u001b[0mplots\u001b[0m \u001b[0;32mimport\u001b[0m \u001b[0mplot_decision_regions\u001b[0m\u001b[0;34m\u001b[0m\u001b[0;34m\u001b[0m\u001b[0m\n\u001b[0m\u001b[1;32m      2\u001b[0m \u001b[0mplot_decision_regions\u001b[0m\u001b[0;34m(\u001b[0m\u001b[0mX\u001b[0m\u001b[0;34m,\u001b[0m\u001b[0my\u001b[0m\u001b[0;34m,\u001b[0m \u001b[0mmodel\u001b[0m\u001b[0;34m)\u001b[0m\u001b[0;34m\u001b[0m\u001b[0;34m\u001b[0m\u001b[0m\n",
      "\u001b[0;31mModuleNotFoundError\u001b[0m: No module named 'utils'",
      "",
      "\u001b[0;31m---------------------------------------------------------------------------\u001b[0;32m\nNOTE: If your import is failing due to a missing package, you can\nmanually install dependencies using either !pip or !apt.\n\nTo view examples of installing some common dependencies, click the\n\"Open Examples\" button below.\n\u001b[0;31m---------------------------------------------------------------------------\u001b[0m\n"
     ]
    }
   ],
   "source": [
    "from utils.plots import plot_decision_regions\n",
    "plot_decision_regions(X,y, model)"
   ]
  },
  {
   "cell_type": "markdown",
   "metadata": {
    "id": "Nnzyu5Z5ZGoj"
   },
   "source": [
    "🧪 Test your code"
   ]
  },
  {
   "cell_type": "code",
   "execution_count": 29,
   "metadata": {
    "colab": {
     "base_uri": "https://localhost:8080/",
     "height": 357
    },
    "id": "wf-y2Z97ZGoj",
    "outputId": "52f49746-f3a3-4ab4-d402-51f0f34ac8d7"
   },
   "outputs": [
    {
     "ename": "ModuleNotFoundError",
     "errorDetails": {
      "actions": [
       {
        "action": "open_url",
        "actionText": "Open Examples",
        "url": "/notebooks/snippets/importing_libraries.ipynb"
       }
      ]
     },
     "evalue": "ignored",
     "output_type": "error",
     "traceback": [
      "\u001b[0;31m---------------------------------------------------------------------------\u001b[0m",
      "\u001b[0;31mModuleNotFoundError\u001b[0m                       Traceback (most recent call last)",
      "\u001b[0;32m<ipython-input-29-310170548c79>\u001b[0m in \u001b[0;36m<module>\u001b[0;34m()\u001b[0m\n\u001b[0;32m----> 1\u001b[0;31m \u001b[0;32mfrom\u001b[0m \u001b[0mnbresult\u001b[0m \u001b[0;32mimport\u001b[0m \u001b[0mChallengeResult\u001b[0m\u001b[0;34m\u001b[0m\u001b[0;34m\u001b[0m\u001b[0m\n\u001b[0m\u001b[1;32m      2\u001b[0m \u001b[0mresult\u001b[0m \u001b[0;34m=\u001b[0m \u001b[0mChallengeResult\u001b[0m\u001b[0;34m(\u001b[0m\u001b[0;34m'first_model'\u001b[0m\u001b[0;34m,\u001b[0m \u001b[0maccuracy\u001b[0m\u001b[0;34m=\u001b[0m\u001b[0maccuracy\u001b[0m\u001b[0;34m)\u001b[0m\u001b[0;34m\u001b[0m\u001b[0;34m\u001b[0m\u001b[0m\n\u001b[1;32m      3\u001b[0m \u001b[0mresult\u001b[0m\u001b[0;34m.\u001b[0m\u001b[0mwrite\u001b[0m\u001b[0;34m(\u001b[0m\u001b[0;34m)\u001b[0m\u001b[0;34m\u001b[0m\u001b[0;34m\u001b[0m\u001b[0m\n\u001b[1;32m      4\u001b[0m \u001b[0mprint\u001b[0m\u001b[0;34m(\u001b[0m\u001b[0mresult\u001b[0m\u001b[0;34m.\u001b[0m\u001b[0mcheck\u001b[0m\u001b[0;34m(\u001b[0m\u001b[0;34m)\u001b[0m\u001b[0;34m)\u001b[0m\u001b[0;34m\u001b[0m\u001b[0;34m\u001b[0m\u001b[0m\n",
      "\u001b[0;31mModuleNotFoundError\u001b[0m: No module named 'nbresult'",
      "",
      "\u001b[0;31m---------------------------------------------------------------------------\u001b[0;32m\nNOTE: If your import is failing due to a missing package, you can\nmanually install dependencies using either !pip or !apt.\n\nTo view examples of installing some common dependencies, click the\n\"Open Examples\" button below.\n\u001b[0;31m---------------------------------------------------------------------------\u001b[0m\n"
     ]
    }
   ],
   "source": [
    "from nbresult import ChallengeResult\n",
    "result = ChallengeResult('first_model', accuracy=accuracy)\n",
    "result.write()\n",
    "print(result.check())"
   ]
  },
  {
   "cell_type": "markdown",
   "metadata": {
    "id": "C85TDoUUZGoj"
   },
   "source": [
    "## 3. Variations"
   ]
  },
  {
   "cell_type": "markdown",
   "metadata": {
    "id": "6G8a-MUWZGoj"
   },
   "source": [
    "❓ Relaunch the model on 500 iterations\n",
    "- Don't forget to call the `initialize_model` function, otherwise, your initial parameters will be those you have already learnt on the previous fit!!)\n",
    "- Plot the history to see how the loss changed over the different epochs/iterations."
   ]
  },
  {
   "cell_type": "code",
   "execution_count": 30,
   "metadata": {
    "id": "m5331RoeZGoj",
    "tags": [
     "challengify"
    ]
   },
   "outputs": [],
   "source": [
    "# YOUR CODE HERE\n",
    "initialize_model()\n",
    "\n",
    "history = model.fit(X_train, y_train, \n",
    "                    epochs=500,\n",
    "                    batch_size=8,\n",
    "                    verbose=0) # Try different verbose"
   ]
  },
  {
   "cell_type": "markdown",
   "metadata": {
    "id": "a3b3PMlzZGoj"
   },
   "source": [
    "❓ Did the test accuracy improve?"
   ]
  },
  {
   "cell_type": "code",
   "execution_count": 31,
   "metadata": {
    "colab": {
     "base_uri": "https://localhost:8080/"
    },
    "id": "BlEtdnJxZGoj",
    "outputId": "0b002125-667f-4f7b-c55b-2e3c3bf6e6e3",
    "tags": [
     "challengify"
    ]
   },
   "outputs": [
    {
     "data": {
      "text/plain": [
       "[0.25045889616012573, 0.8799999952316284]"
      ]
     },
     "execution_count": 31,
     "metadata": {},
     "output_type": "execute_result"
    }
   ],
   "source": [
    "# YOUR CODE HERE\n",
    "model.evaluate(X_test,y_test,verbose=0)"
   ]
  },
  {
   "cell_type": "markdown",
   "metadata": {
    "id": "v_ew2pxnZGoj"
   },
   "source": [
    "Not necessarily...So when should we stop training a Deep Learning Model?\n",
    "Answer in the next chapter `Optimizers, Loss, Fitting` of this `Deep Learning Module` !"
   ]
  },
  {
   "cell_type": "markdown",
   "metadata": {
    "id": "-xnXPEMTZGoj"
   },
   "source": [
    "❓ Let's try a **deeper** architecture that includes : \n",
    "\n",
    "- a first layer with 20 neurons (activation: `\"relu\"`)\n",
    "- a second layer with 10 neurons (activation: `\"relu\"`)\n",
    "- a third layer with 5 neurons (activation: `\"relu\"`)\n",
    "- an output layer suited for this problem\n"
   ]
  },
  {
   "cell_type": "code",
   "execution_count": 32,
   "metadata": {
    "id": "9OSa_0tbZGoj"
   },
   "outputs": [],
   "source": [
    "def initialize_model_2():\n",
    "    ### Model architecture\n",
    "    model=models.Sequential()\n",
    "    model.add(layers.Dense(20,activation='relu',input_dim=2))\n",
    "    model.add(layers.Dense(10,activation='relu'))\n",
    "    model.add(layers.Dense(5,activation='relu'))\n",
    "\n",
    "    model.add(layers.Dense(1,activation='sigmoid'))\n",
    "\n",
    "    ### Model optimization : Optimized, loss and metric\n",
    "    model.compile(loss='binary_crossentropy',\n",
    "                  optimizer='adam',\n",
    "                  metrics=['accuracy'])\n",
    "    return model\n",
    "\n",
    "model = initialize_model_2()"
   ]
  },
  {
   "cell_type": "markdown",
   "metadata": {
    "id": "XsjG1piYZGok"
   },
   "source": [
    "❓ What is the number of parameters of your new model?"
   ]
  },
  {
   "cell_type": "code",
   "execution_count": 34,
   "metadata": {
    "colab": {
     "base_uri": "https://localhost:8080/"
    },
    "id": "rWP2_Q8gZGok",
    "outputId": "de319938-46d1-4fdf-fa27-a205549255b9",
    "tags": [
     "challengify"
    ]
   },
   "outputs": [
    {
     "name": "stdout",
     "output_type": "stream",
     "text": [
      "Model: \"sequential_8\"\n",
      "_________________________________________________________________\n",
      " Layer (type)                Output Shape              Param #   \n",
      "=================================================================\n",
      " dense_15 (Dense)            (None, 20)                60        \n",
      "                                                                 \n",
      " dense_16 (Dense)            (None, 10)                210       \n",
      "                                                                 \n",
      " dense_17 (Dense)            (None, 5)                 55        \n",
      "                                                                 \n",
      " dense_18 (Dense)            (None, 1)                 6         \n",
      "                                                                 \n",
      "=================================================================\n",
      "Total params: 331\n",
      "Trainable params: 331\n",
      "Non-trainable params: 0\n",
      "_________________________________________________________________\n"
     ]
    }
   ],
   "source": [
    "# YOUR CODE HERE\n",
    "model.summary()"
   ]
  },
  {
   "cell_type": "markdown",
   "metadata": {
    "id": "n1Jsg673ZGok"
   },
   "source": [
    "Run your model on the previous data with 500 epochs and plot the loss afterwards.  \n",
    "❓ What is your accuracy on the test test? Store it as `accuracy_deep` variable (`float`)."
   ]
  },
  {
   "cell_type": "code",
   "execution_count": 36,
   "metadata": {
    "id": "_6P5Yp8bZGok",
    "tags": [
     "challengify"
    ]
   },
   "outputs": [],
   "source": [
    "# YOUR CODE HERE\n",
    "model2=initialize_model_2()\n",
    "\n",
    "history=model2.fit(X_train,y_train,\n",
    "                   epochs=500,\n",
    "                   batch_size=8,\n",
    "                   verbose=0)\n",
    "#verbose: 0, 1または2．詳細表示モード．0とすると標準出力にログを出力しません． 1の場合はログをプログレスバーで標準出力，2の場合はエポックごとに1行のログを出力します．"
   ]
  },
  {
   "cell_type": "code",
   "execution_count": 2,
   "metadata": {
    "colab": {
     "base_uri": "https://localhost:8080/"
    },
    "id": "I78Gc6zrZGok",
    "outputId": "75773fbc-df65-46d3-98c8-a7ae488386bd",
    "tags": [
     "challengify"
    ]
   },
   "outputs": [
    {
     "ename": "NameError",
     "evalue": "name 'model2' is not defined",
     "output_type": "error",
     "traceback": [
      "\u001b[0;31m---------------------------------------------------------------------------\u001b[0m",
      "\u001b[0;31mNameError\u001b[0m                                 Traceback (most recent call last)",
      "\u001b[0;32m/var/folders/tg/p4s0x3b55936405b1y1vws6h0000gn/T/ipykernel_42307/2975882246.py\u001b[0m in \u001b[0;36m<module>\u001b[0;34m\u001b[0m\n\u001b[1;32m      1\u001b[0m \u001b[0;31m# YOUR CODE HERE\u001b[0m\u001b[0;34m\u001b[0m\u001b[0;34m\u001b[0m\u001b[0;34m\u001b[0m\u001b[0m\n\u001b[0;32m----> 2\u001b[0;31m \u001b[0mmodel2\u001b[0m\u001b[0;34m.\u001b[0m\u001b[0mevaluate\u001b[0m\u001b[0;34m(\u001b[0m\u001b[0mX_test\u001b[0m\u001b[0;34m,\u001b[0m\u001b[0my_test\u001b[0m\u001b[0;34m)\u001b[0m\u001b[0;34m\u001b[0m\u001b[0;34m\u001b[0m\u001b[0m\n\u001b[0m\u001b[1;32m      3\u001b[0m \u001b[0maccuracy_deep\u001b[0m \u001b[0;34m=\u001b[0m \u001b[0;36m0.9599999785423279\u001b[0m\u001b[0;34m\u001b[0m\u001b[0;34m\u001b[0m\u001b[0m\n",
      "\u001b[0;31mNameError\u001b[0m: name 'model2' is not defined"
     ]
    }
   ],
   "source": [
    "# YOUR CODE HERE\n",
    "model2.evaluate(X_test,y_test)\n"
   ]
  },
  {
   "cell_type": "code",
   "execution_count": 2,
   "metadata": {},
   "outputs": [],
   "source": [
    "accuracy_deep = 0.9599999785423279"
   ]
  },
  {
   "cell_type": "markdown",
   "metadata": {
    "id": "lNqS6JjhZGok"
   },
   "source": [
    "❓ Do you think we have overfitted on the noise? Check it out below"
   ]
  },
  {
   "cell_type": "code",
   "execution_count": 38,
   "metadata": {
    "colab": {
     "base_uri": "https://localhost:8080/",
     "height": 305
    },
    "id": "qtvtErRrZGok",
    "outputId": "bda18dfd-67f6-4e8d-a5de-322a1610e462"
   },
   "outputs": [
    {
     "ename": "ModuleNotFoundError",
     "errorDetails": {
      "actions": [
       {
        "action": "open_url",
        "actionText": "Open Examples",
        "url": "/notebooks/snippets/importing_libraries.ipynb"
       }
      ]
     },
     "evalue": "ignored",
     "output_type": "error",
     "traceback": [
      "\u001b[0;31m---------------------------------------------------------------------------\u001b[0m",
      "\u001b[0;31mModuleNotFoundError\u001b[0m                       Traceback (most recent call last)",
      "\u001b[0;32m<ipython-input-38-d2824dd10846>\u001b[0m in \u001b[0;36m<module>\u001b[0;34m()\u001b[0m\n\u001b[0;32m----> 1\u001b[0;31m \u001b[0;32mfrom\u001b[0m \u001b[0mutils\u001b[0m\u001b[0;34m.\u001b[0m\u001b[0mplots\u001b[0m \u001b[0;32mimport\u001b[0m \u001b[0mplot_decision_regions\u001b[0m\u001b[0;34m\u001b[0m\u001b[0;34m\u001b[0m\u001b[0m\n\u001b[0m",
      "\u001b[0;31mModuleNotFoundError\u001b[0m: No module named 'utils'",
      "",
      "\u001b[0;31m---------------------------------------------------------------------------\u001b[0;32m\nNOTE: If your import is failing due to a missing package, you can\nmanually install dependencies using either !pip or !apt.\n\nTo view examples of installing some common dependencies, click the\n\"Open Examples\" button below.\n\u001b[0;31m---------------------------------------------------------------------------\u001b[0m\n"
     ]
    }
   ],
   "source": [
    "from utils.plots import plot_decision_regions"
   ]
  },
  {
   "cell_type": "code",
   "execution_count": 39,
   "metadata": {
    "colab": {
     "base_uri": "https://localhost:8080/",
     "height": 166
    },
    "id": "F90wRdjjZGok",
    "outputId": "ca83746f-fa55-4bb3-b005-cc7288bc7843"
   },
   "outputs": [
    {
     "ename": "NameError",
     "evalue": "ignored",
     "output_type": "error",
     "traceback": [
      "\u001b[0;31m---------------------------------------------------------------------------\u001b[0m",
      "\u001b[0;31mNameError\u001b[0m                                 Traceback (most recent call last)",
      "\u001b[0;32m<ipython-input-39-0af9a1aa25eb>\u001b[0m in \u001b[0;36m<module>\u001b[0;34m()\u001b[0m\n\u001b[0;32m----> 1\u001b[0;31m \u001b[0mplot_decision_regions\u001b[0m\u001b[0;34m(\u001b[0m\u001b[0mX_train\u001b[0m\u001b[0;34m,\u001b[0m\u001b[0my_train\u001b[0m\u001b[0;34m,\u001b[0m \u001b[0mmodel\u001b[0m\u001b[0;34m)\u001b[0m\u001b[0;34m\u001b[0m\u001b[0;34m\u001b[0m\u001b[0m\n\u001b[0m",
      "\u001b[0;31mNameError\u001b[0m: name 'plot_decision_regions' is not defined"
     ]
    }
   ],
   "source": [
    "plot_decision_regions(X_train,y_train, model)"
   ]
  },
  {
   "cell_type": "markdown",
   "metadata": {
    "id": "uZCmrfV9ZGok"
   },
   "source": [
    "🧪 **Test your code**"
   ]
  },
  {
   "cell_type": "code",
   "execution_count": 3,
   "metadata": {
    "id": "H5P-Den6ZGok"
   },
   "outputs": [
    {
     "name": "stdout",
     "output_type": "stream",
     "text": [
      "\u001b[1m============================= test session starts ==============================\u001b[0m\n",
      "platform darwin -- Python 3.8.12, pytest-6.2.5, py-1.10.0, pluggy-1.0.0 -- /Users/shu/.pyenv/versions/lewagon/bin/python3\n",
      "cachedir: .pytest_cache\n",
      "rootdir: /Users/shu/Desktop/Lewagon/code/shiro101010101/data-challenges/06-Deep-Learning/01-Fundamentals-of-Deep-Learning/02-Your-first-Neural-Network\n",
      "plugins: dash-2.0.0, anyio-3.3.2\n",
      "\u001b[1mcollecting ... \u001b[0mcollected 1 item\n",
      "\n",
      "tests/test_deeper_model.py::TestDeeperModel::test_accuracy \u001b[32mPASSED\u001b[0m\u001b[32m        [100%]\u001b[0m\n",
      "\n",
      "\u001b[32m============================== \u001b[32m\u001b[1m1 passed\u001b[0m\u001b[32m in 0.07s\u001b[0m\u001b[32m ===============================\u001b[0m\n",
      "\n",
      "\n",
      "💯 You can commit your code:\n",
      "\n",
      "\u001b[1;32mgit\u001b[39m add tests/deeper_model.pickle\n",
      "\n",
      "\u001b[32mgit\u001b[39m commit -m \u001b[33m'Completed deeper_model step'\u001b[39m\n",
      "\n",
      "\u001b[32mgit\u001b[39m push origin master\n"
     ]
    }
   ],
   "source": [
    "from nbresult import ChallengeResult\n",
    "result = ChallengeResult('deeper_model',\n",
    "                         accuracy=accuracy_deep)\n",
    "result.write()\n",
    "print(result.check())"
   ]
  },
  {
   "cell_type": "markdown",
   "metadata": {
    "id": "JrcO5Q6oZGok"
   },
   "source": [
    "🏁 **Congratulations! Push and commmit this notebook before moving to the next**"
   ]
  }
 ],
 "metadata": {
  "colab": {
   "collapsed_sections": [],
   "name": "your_first_neural_network.ipynb",
   "provenance": []
  },
  "kernelspec": {
   "display_name": "Python 3 (ipykernel)",
   "language": "python",
   "name": "python3"
  },
  "language_info": {
   "codemirror_mode": {
    "name": "ipython",
    "version": 3
   },
   "file_extension": ".py",
   "mimetype": "text/x-python",
   "name": "python",
   "nbconvert_exporter": "python",
   "pygments_lexer": "ipython3",
   "version": "3.8.12"
  },
  "toc": {
   "base_numbering": 1,
   "nav_menu": {},
   "number_sections": true,
   "sideBar": true,
   "skip_h1_title": false,
   "title_cell": "Table of Contents",
   "title_sidebar": "Contents",
   "toc_cell": false,
   "toc_position": {},
   "toc_section_display": true,
   "toc_window_display": false
  }
 },
 "nbformat": 4,
 "nbformat_minor": 1
}
