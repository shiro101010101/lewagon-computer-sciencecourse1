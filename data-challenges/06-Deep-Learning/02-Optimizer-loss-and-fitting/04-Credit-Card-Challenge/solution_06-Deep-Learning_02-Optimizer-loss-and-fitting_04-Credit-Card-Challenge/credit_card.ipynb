{
 "cells": [
  {
   "cell_type": "markdown",
   "id": "0060abc6",
   "metadata": {},
   "source": [
    "# Credit Card Fraud Detection"
   ]
  },
  {
   "cell_type": "code",
   "execution_count": 0,
   "id": "b3db19e0",
   "metadata": {
    "tags": [
     "delete"
    ]
   },
   "outputs": [
    {
     "name": "stdout",
     "output_type": "stream",
     "text": [
      "Requirement already satisfied: imblearn in /Users/davywai/.pyenv/versions/3.8.6/envs/lewagon/lib/python3.8/site-packages (0.0)\n",
      "Requirement already satisfied: imbalanced-learn in /Users/davywai/.pyenv/versions/3.8.6/envs/lewagon/lib/python3.8/site-packages (from imblearn) (0.8.0)\n",
      "Requirement already satisfied: scikit-learn>=0.24 in /Users/davywai/.pyenv/versions/3.8.6/envs/lewagon/lib/python3.8/site-packages (from imbalanced-learn->imblearn) (0.24.2)\n",
      "Requirement already satisfied: scipy>=0.19.1 in /Users/davywai/.pyenv/versions/3.8.6/envs/lewagon/lib/python3.8/site-packages (from imbalanced-learn->imblearn) (1.7.0)\n",
      "Requirement already satisfied: joblib>=0.11 in /Users/davywai/.pyenv/versions/3.8.6/envs/lewagon/lib/python3.8/site-packages (from imbalanced-learn->imblearn) (1.0.1)\n",
      "Requirement already satisfied: numpy>=1.13.3 in /Users/davywai/.pyenv/versions/3.8.6/envs/lewagon/lib/python3.8/site-packages (from imbalanced-learn->imblearn) (1.21.1)\n",
      "Requirement already satisfied: threadpoolctl>=2.0.0 in /Users/davywai/.pyenv/versions/3.8.6/envs/lewagon/lib/python3.8/site-packages (from scikit-learn>=0.24->imbalanced-learn->imblearn) (2.1.0)\n"
     ]
    }
   ],
   "source": [
    "!pip install imblearn"
   ]
  },
  {
   "cell_type": "code",
   "execution_count": 0,
   "id": "add4fda5",
   "metadata": {
    "tags": [
     "delete"
    ]
   },
   "outputs": [],
   "source": [
    "''' Linear Algebra'''\n",
    "import pandas as pd\n",
    "import numpy as np\n",
    "\n",
    "''' Data visualisation'''\n",
    "import matplotlib.pyplot as plt \n",
    "import seaborn as sns\n",
    "import warnings\n",
    "\n",
    "''' Scikit-Learn'''\n",
    "from sklearn.model_selection import train_test_split\n",
    "from sklearn.preprocessing import StandardScaler, RobustScaler\n",
    "from sklearn.metrics import confusion_matrix\n",
    "\n",
    "''' Imbalanced Classes'''\n",
    "import imblearn\n",
    "from imblearn.over_sampling import SMOTE\n",
    "from imblearn.under_sampling import RandomUnderSampler\n",
    "from imblearn.pipeline import Pipeline\n",
    "\n",
    "''' Tensorflow Keras'''\n",
    "from tensorflow import keras\n",
    "from tensorflow.keras import models\n",
    "from tensorflow.keras import layers\n",
    "from tensorflow.keras.callbacks import EarlyStopping\n",
    "from tensorflow.keras import regularizers\n",
    "from tensorflow.keras.optimizers import Adam\n",
    "from tensorflow.keras.optimizers.schedules import ExponentialDecay\n"
   ]
  },
  {
   "cell_type": "markdown",
   "id": "b87c584e",
   "metadata": {},
   "source": [
    "All the previous exercises made you take a closer look at all the different parts of a neural network: \n",
    "* the architecture of a sequential Dense Neural Network, \n",
    "* the compilation method\n",
    "* the fitting.\n",
    "\n",
    "Let's now work on a real-life dataset that has **a lot of data**!\n",
    "\n",
    "**The dataset : `Credit Card Transactions`**\n",
    "\n",
    "For this open challenge, you will `work with data extracted from credit card transactions`. \n",
    "\n",
    "As these are `sensitive data`, from all the 31 columns, only 3 columns are known: the rest are data that have been transformed to `anonymize` them (in fact, they are `PCA projections of initial data`).\n",
    "\n",
    "The other three known columns are:\n",
    "\n",
    "* `TIME`: the time elapsed between the transaction and the first transaction in the dataset\n",
    "* `AMOUNT`: the amount of the transaction\n",
    "* `CLASS` (our target): \n",
    "    * `0 : valid transaction` \n",
    "    * `1 : fraudulent transaction`\n",
    "\n",
    "❓ **Question** ❓ Start by downloading the dataset:\n",
    "* on the Kaggle website [here](https://www.kaggle.com/mlg-ulb/creditcardfraud) \n",
    "* or from our [URL](https://wagon-public-datasets.s3.amazonaws.com/Machine%20Learning%20Datasets/creditcard.csv) \n",
    "\n",
    "Load data to create `X` and `y`"
   ]
  },
  {
   "cell_type": "code",
   "execution_count": 0,
   "id": "ddf23eca",
   "metadata": {
    "tags": [
     "challengify"
    ]
   },
   "outputs": [],
   "source": [
    "# Load data\n",
    "df = pd.read_csv(\"https://wagon-public-datasets.s3.amazonaws.com/Machine%20Learning%20Datasets/creditcard.csv\")"
   ]
  },
  {
   "cell_type": "code",
   "execution_count": 0,
   "id": "da501735",
   "metadata": {
    "tags": [
     "delete"
    ]
   },
   "outputs": [],
   "source": [
    "# Select data\n",
    "X = df.drop(columns=['Class'],axis=1).values\n",
    "y = df['Class'].values"
   ]
  },
  {
   "cell_type": "markdown",
   "id": "9c30cf70",
   "metadata": {},
   "source": [
    "## 1. Rebalancing classes"
   ]
  },
  {
   "cell_type": "code",
   "execution_count": 0,
   "id": "5fe9b1c0",
   "metadata": {},
   "outputs": [
    {
     "data": {
      "text/plain": [
       "0    0.998273\n",
       "1    0.001727\n",
       "dtype: float64"
      ]
     },
     "execution_count": 5,
     "metadata": {},
     "output_type": "execute_result"
    }
   ],
   "source": [
    "# Let's check class balance\n",
    "pd.Series(y).value_counts(normalize=True)"
   ]
  },
  {
   "cell_type": "markdown",
   "id": "47f1d4a3",
   "metadata": {},
   "source": [
    "☝️ in this `fraud detection` challenge, **the classes are extremely imbalanced**:\n",
    "* 99.8 % of normal transactions\n",
    "* 0.2 % of fraudulent transactions\n",
    "\n",
    "**We won't be able to detect frauds unless we apply some serious rebalancing strategies!**\n",
    "\n",
    "❓ **Question** ❓\n",
    "1. **First**, create three separate splits `Train/Val/Test` from your dataset. It is extremely important to keep validation and testing sets **unbalanced** so that when you evaluate your model, it is done in true conditions, without data leakage. Keep your test set for the very last cell of this notebook... !\n",
    "\n",
    "&nbsp;\n",
    "2. **Second**, rebalance you training set (and only this one). You have many choices:\n",
    "\n",
    "- Simply oversample the minority class randomly using plain Numpy functions (not the best option since you are duplicating rows and hence creating data leakage)\n",
    "- Or use <a href=\"https://machinelearningmastery.com/smote-oversampling-for-imbalanced-classification/\">**`Synthetic Minority Oversampling Technique - SMOTE`**</a> to generate new datapoints by weighting the existing ones\n",
    "- In addition, you can also try a <a href=\"https://machinelearningmastery.com/random-oversampling-and-undersampling-for-imbalanced-classification/\">**`RandomUnderSampler`**</a> to downsample the majority class a little bit"
   ]
  },
  {
   "cell_type": "code",
   "execution_count": 0,
   "id": "accdcd48",
   "metadata": {
    "tags": [
     "challengify"
    ]
   },
   "outputs": [],
   "source": [
    "# YOUR CODE HERE"
   ]
  },
  {
   "cell_type": "code",
   "execution_count": 0,
   "id": "e084a3b1",
   "metadata": {
    "tags": [
     "delete_begin"
    ]
   },
   "outputs": [],
   "source": [
    "# Train test split before any resampling to keep real test set\n",
    "X_train, X_test, y_train, y_test = train_test_split(X, y, test_size = 0.3)"
   ]
  },
  {
   "cell_type": "code",
   "execution_count": 0,
   "id": "bde6e136",
   "metadata": {},
   "outputs": [],
   "source": [
    "X_train, X_val, y_train, y_val = train_test_split(X_train, y_train, test_size = 0.3)"
   ]
  },
  {
   "cell_type": "code",
   "execution_count": 0,
   "id": "f1a7154a",
   "metadata": {},
   "outputs": [
    {
     "name": "stdout",
     "output_type": "stream",
     "text": [
      "X_train.shape = (139554, 30)\n",
      "y_train.shape = (139554,)\n",
      "X_val.shape = (59810, 30)\n",
      "y_val.shape = (59810,)\n",
      "X_test.shape = (85443, 30)\n",
      "y_test.shape = (85443,)\n"
     ]
    }
   ],
   "source": [
    "print(f\"X_train.shape = {X_train.shape}\")\n",
    "print(f\"y_train.shape = {y_train.shape}\")\n",
    "print(f\"X_val.shape = {X_val.shape}\")\n",
    "print(f\"y_val.shape = {y_val.shape}\")\n",
    "print(f\"X_test.shape = {X_test.shape}\")\n",
    "print(f\"y_test.shape = {y_test.shape}\")"
   ]
  },
  {
   "cell_type": "code",
   "execution_count": 0,
   "id": "0dd1a4d0",
   "metadata": {},
   "outputs": [
    {
     "name": "stdout",
     "output_type": "stream",
     "text": [
      "267\n",
      "88\n",
      "137\n",
      "----------------------------------------------------------------------------------------------------\n",
      "There are 267 fraudulent transactions in the train set\n",
      "There are 88 fraudulent transactions in the val set\n",
      "There are 137 fraudulent transactions in the test set\n"
     ]
    }
   ],
   "source": [
    "# How many \"fraud\" samples do I have in each split?\n",
    "print(np.sum(y_train[y_train == 1]))\n",
    "print(np.sum(y_val[y_val == 1]))\n",
    "print(np.sum(y_test[y_test == 1]))\n",
    "\n",
    "print(\"-\"*100)\n",
    "\n",
    "print(f\"There are {pd.Series(y_train).value_counts()[1]} fraudulent transactions in the train set\")\n",
    "print(f\"There are {pd.Series(y_val).value_counts()[1]} fraudulent transactions in the val set\")\n",
    "print(f\"There are {pd.Series(y_test).value_counts()[1]} fraudulent transactions in the test set\")"
   ]
  },
  {
   "cell_type": "code",
   "execution_count": 0,
   "id": "c309482f",
   "metadata": {},
   "outputs": [],
   "source": [
    "# Sampling strategies\n",
    "over = SMOTE(sampling_strategy=0.1)\n",
    "under = RandomUnderSampler(sampling_strategy=0.33)"
   ]
  },
  {
   "cell_type": "code",
   "execution_count": 0,
   "id": "e42577c9",
   "metadata": {},
   "outputs": [
    {
     "data": {
      "text/html": [
       "<style>#sk-6ca35e05-7c80-4871-8ee1-0b44825b9fdc {color: black;background-color: white;}#sk-6ca35e05-7c80-4871-8ee1-0b44825b9fdc pre{padding: 0;}#sk-6ca35e05-7c80-4871-8ee1-0b44825b9fdc div.sk-toggleable {background-color: white;}#sk-6ca35e05-7c80-4871-8ee1-0b44825b9fdc label.sk-toggleable__label {cursor: pointer;display: block;width: 100%;margin-bottom: 0;padding: 0.2em 0.3em;box-sizing: border-box;text-align: center;}#sk-6ca35e05-7c80-4871-8ee1-0b44825b9fdc div.sk-toggleable__content {max-height: 0;max-width: 0;overflow: hidden;text-align: left;background-color: #f0f8ff;}#sk-6ca35e05-7c80-4871-8ee1-0b44825b9fdc div.sk-toggleable__content pre {margin: 0.2em;color: black;border-radius: 0.25em;background-color: #f0f8ff;}#sk-6ca35e05-7c80-4871-8ee1-0b44825b9fdc input.sk-toggleable__control:checked~div.sk-toggleable__content {max-height: 200px;max-width: 100%;overflow: auto;}#sk-6ca35e05-7c80-4871-8ee1-0b44825b9fdc div.sk-estimator input.sk-toggleable__control:checked~label.sk-toggleable__label {background-color: #d4ebff;}#sk-6ca35e05-7c80-4871-8ee1-0b44825b9fdc div.sk-label input.sk-toggleable__control:checked~label.sk-toggleable__label {background-color: #d4ebff;}#sk-6ca35e05-7c80-4871-8ee1-0b44825b9fdc input.sk-hidden--visually {border: 0;clip: rect(1px 1px 1px 1px);clip: rect(1px, 1px, 1px, 1px);height: 1px;margin: -1px;overflow: hidden;padding: 0;position: absolute;width: 1px;}#sk-6ca35e05-7c80-4871-8ee1-0b44825b9fdc div.sk-estimator {font-family: monospace;background-color: #f0f8ff;margin: 0.25em 0.25em;border: 1px dotted black;border-radius: 0.25em;box-sizing: border-box;}#sk-6ca35e05-7c80-4871-8ee1-0b44825b9fdc div.sk-estimator:hover {background-color: #d4ebff;}#sk-6ca35e05-7c80-4871-8ee1-0b44825b9fdc div.sk-parallel-item::after {content: \"\";width: 100%;border-bottom: 1px solid gray;flex-grow: 1;}#sk-6ca35e05-7c80-4871-8ee1-0b44825b9fdc div.sk-label:hover label.sk-toggleable__label {background-color: #d4ebff;}#sk-6ca35e05-7c80-4871-8ee1-0b44825b9fdc div.sk-serial::before {content: \"\";position: absolute;border-left: 1px solid gray;box-sizing: border-box;top: 2em;bottom: 0;left: 50%;}#sk-6ca35e05-7c80-4871-8ee1-0b44825b9fdc div.sk-serial {display: flex;flex-direction: column;align-items: center;background-color: white;}#sk-6ca35e05-7c80-4871-8ee1-0b44825b9fdc div.sk-item {z-index: 1;}#sk-6ca35e05-7c80-4871-8ee1-0b44825b9fdc div.sk-parallel {display: flex;align-items: stretch;justify-content: center;background-color: white;}#sk-6ca35e05-7c80-4871-8ee1-0b44825b9fdc div.sk-parallel-item {display: flex;flex-direction: column;position: relative;background-color: white;}#sk-6ca35e05-7c80-4871-8ee1-0b44825b9fdc div.sk-parallel-item:first-child::after {align-self: flex-end;width: 50%;}#sk-6ca35e05-7c80-4871-8ee1-0b44825b9fdc div.sk-parallel-item:last-child::after {align-self: flex-start;width: 50%;}#sk-6ca35e05-7c80-4871-8ee1-0b44825b9fdc div.sk-parallel-item:only-child::after {width: 0;}#sk-6ca35e05-7c80-4871-8ee1-0b44825b9fdc div.sk-dashed-wrapped {border: 1px dashed gray;margin: 0.2em;box-sizing: border-box;padding-bottom: 0.1em;background-color: white;position: relative;}#sk-6ca35e05-7c80-4871-8ee1-0b44825b9fdc div.sk-label label {font-family: monospace;font-weight: bold;background-color: white;display: inline-block;line-height: 1.2em;}#sk-6ca35e05-7c80-4871-8ee1-0b44825b9fdc div.sk-label-container {position: relative;z-index: 2;text-align: center;}#sk-6ca35e05-7c80-4871-8ee1-0b44825b9fdc div.sk-container {display: inline-block;position: relative;}</style><div id=\"sk-6ca35e05-7c80-4871-8ee1-0b44825b9fdc\" class\"sk-top-container\"><div class=\"sk-container\"><div class=\"sk-item sk-dashed-wrapped\"><div class=\"sk-label-container\"><div class=\"sk-label sk-toggleable\"><input class=\"sk-toggleable__control sk-hidden--visually\" id=\"521956c9-594c-4fa8-9d4b-6d7be0cc3c9d\" type=\"checkbox\" ><label class=\"sk-toggleable__label\" for=\"521956c9-594c-4fa8-9d4b-6d7be0cc3c9d\">Pipeline</label><div class=\"sk-toggleable__content\"><pre>Pipeline(steps=[('o', SMOTE(sampling_strategy=0.1)),\n",
       "                ('u', RandomUnderSampler(sampling_strategy=0.33))])</pre></div></div></div><div class=\"sk-serial\"><div class=\"sk-item\"><div class=\"sk-estimator sk-toggleable\"><input class=\"sk-toggleable__control sk-hidden--visually\" id=\"2eccc882-52f7-451a-a88b-c3ccb3fca12b\" type=\"checkbox\" ><label class=\"sk-toggleable__label\" for=\"2eccc882-52f7-451a-a88b-c3ccb3fca12b\">SMOTE</label><div class=\"sk-toggleable__content\"><pre>SMOTE(sampling_strategy=0.1)</pre></div></div></div><div class=\"sk-item\"><div class=\"sk-estimator sk-toggleable\"><input class=\"sk-toggleable__control sk-hidden--visually\" id=\"7ec889b0-bfc0-43c5-a7b0-0c0aedb5afd4\" type=\"checkbox\" ><label class=\"sk-toggleable__label\" for=\"7ec889b0-bfc0-43c5-a7b0-0c0aedb5afd4\">RandomUnderSampler</label><div class=\"sk-toggleable__content\"><pre>RandomUnderSampler(sampling_strategy=0.33)</pre></div></div></div></div></div></div></div>"
      ],
      "text/plain": [
       "Pipeline(steps=[('o', SMOTE(sampling_strategy=0.1)),\n",
       "                ('u', RandomUnderSampler(sampling_strategy=0.33))])"
      ]
     },
     "execution_count": 12,
     "metadata": {},
     "output_type": "execute_result"
    }
   ],
   "source": [
    "from sklearn import set_config;  set_config(display = 'diagram')\n",
    "\n",
    "# Pipelining the two strategies\n",
    "steps =  [('o', over), ('u', under)]\n",
    "pipeline = Pipeline(steps=steps)\n",
    "pipeline"
   ]
  },
  {
   "cell_type": "code",
   "execution_count": 0,
   "id": "6e986b65",
   "metadata": {},
   "outputs": [
    {
     "name": "stdout",
     "output_type": "stream",
     "text": [
      "X_train_resampled.shape = (56134, 30)\n",
      "y_train_resampled.shape = (56134,)\n"
     ]
    }
   ],
   "source": [
    "# Rebalance the dataset\n",
    "X_train_resampled, y_train_resampled = pipeline.fit_resample(X_train, y_train)\n",
    "\n",
    "print(f\"X_train_resampled.shape = {X_train_resampled.shape}\")\n",
    "print(f\"y_train_resampled.shape = {y_train_resampled.shape}\")"
   ]
  },
  {
   "cell_type": "code",
   "execution_count": 0,
   "id": "289b6756",
   "metadata": {},
   "outputs": [],
   "source": [
    "# Reshuffle the resampled data just to be sure\n",
    "stacked_resampled_data = np.hstack([X_train_resampled, y_train_resampled.reshape(-1,1)])\n",
    "np.random.shuffle(stacked_resampled_data)\n",
    "\n",
    "X_train_resampled = stacked_resampled_data[:,:30]\n",
    "y_train_resampled = stacked_resampled_data[:,-1]"
   ]
  },
  {
   "cell_type": "code",
   "execution_count": 0,
   "id": "aace66e6",
   "metadata": {},
   "outputs": [
    {
     "data": {
      "image/png": "[encoded data removed]",
      "text/plain": [
       "<Figure size 1296x288 with 2 Axes>"
      ]
     },
     "metadata": {
      "needs_background": "light"
     },
     "output_type": "display_data"
    }
   ],
   "source": [
    "# plotting\n",
    "warnings.filterwarnings('ignore')\n",
    "fig, ax = plt.subplots(1, 2, figsize=(18,4))\n",
    "\n",
    "''' Before rebalancing classes'''\n",
    "\n",
    "sns.countplot(y_train, ax=ax[0], color='b')\n",
    "ax[0].set_title('Y_train before balancing', fontsize=14)\n",
    "\n",
    "''' After rebalancing classes'''\n",
    "\n",
    "sns.countplot(y_train_resampled, ax=ax[1], color='b')\n",
    "ax[1].set_title('Y_train after balancing', fontsize=14);"
   ]
  },
  {
   "cell_type": "code",
   "execution_count": 0,
   "id": "c0103a77",
   "metadata": {
    "tags": [
     "delete_end"
    ]
   },
   "outputs": [
    {
     "name": "stdout",
     "output_type": "stream",
     "text": [
      "(56134, 30)\n",
      "(59810, 30)\n"
     ]
    }
   ],
   "source": [
    "print(X_train_resampled.shape)\n",
    "print(X_val.shape)"
   ]
  },
  {
   "cell_type": "markdown",
   "id": "6575fc40",
   "metadata": {},
   "source": [
    "## 2. Neural Network iterations\n",
    "\n",
    "Now that you have rebalanced your classes, try to fit a neural network to optimize your test score. Feel free to use the following hints:\n",
    "\n",
    "- Normalize your inputs!\n",
    "    - Use preferably a [`Normalization`](https://www.tensorflow.org/api_docs/python/tf/keras/layers/experimental/preprocessing/Normalization) layer inside the model to \"pipeline\" your preprocessing within your model. \n",
    "    - Or use sklearn's [`StandardScaler`](https://scikit-learn.org/stable/modules/generated/sklearn.preprocessing.StandardScaler.html) outside of your model, applied your `X_train` and `X_val` and `X_test`.\n",
    "- Make your model overfit, then, regularize  it using:\n",
    "    - Early Stopping criteria \n",
    "    - [`Dropout`](https://www.tensorflow.org/api_docs/python/tf/keras/layers/Dropout) layers\n",
    "    - or [`regularizers`](https://www.tensorflow.org/api_docs/python/tf/keras/regularizers) layers\n",
    "- 🚨 Think carefully about the metrics you want to track and the loss function you want to use... !\n"
   ]
  },
  {
   "cell_type": "code",
   "execution_count": 0,
   "id": "4e9ac4ff",
   "metadata": {
    "tags": [
     "challengify"
    ]
   },
   "outputs": [],
   "source": [
    "# YOUR CODE HERE"
   ]
  },
  {
   "cell_type": "code",
   "execution_count": 0,
   "id": "38976d5d",
   "metadata": {
    "tags": [
     "delete_begin"
    ]
   },
   "outputs": [
    {
     "name": "stderr",
     "output_type": "stream",
     "text": [
      "2021-08-10 19:50:47.036483: I tensorflow/core/platform/cpu_feature_guard.cc:142] This TensorFlow binary is optimized with oneAPI Deep Neural Network Library (oneDNN) to use the following CPU instructions in performance-critical operations:  AVX2 AVX512F FMA\n",
      "To enable them in other operations, rebuild TensorFlow with the appropriate compiler flags.\n"
     ]
    }
   ],
   "source": [
    "metrics = [\n",
    "    keras.metrics.Recall(),\n",
    "    keras.metrics.Precision(),\n",
    "    keras.metrics.AUC(name='prc', curve='PR'),  # precision-recall curve\n",
    "]"
   ]
  },
  {
   "cell_type": "code",
   "execution_count": 0,
   "id": "6a895297",
   "metadata": {},
   "outputs": [],
   "source": [
    "from tensorflow.keras.layers.experimental.preprocessing import Normalization\n",
    "from tensorflow.keras.metrics import Recall, Precision\n",
    "\n",
    "def init_model():\n",
    "    input_shape = X_train_resampled.shape[1:]\n",
    "    normalizer = Normalization()\n",
    "    normalizer.adapt(X_train_resampled)\n",
    "    \n",
    "    model = models.Sequential()\n",
    "    model.add(normalizer)\n",
    "    model.add(layers.Dense(32, activation='relu'))\n",
    "    model.add(layers.Dropout(0.3))\n",
    "    model.add(layers.Dense(16, activation='relu'))\n",
    "    model.add(layers.Dropout(0.3))\n",
    "    model.add(layers.Dense(8, activation='relu'))\n",
    "    model.add(layers.Dropout(0.3))\n",
    "    model.add(layers.Dense(1, activation = 'sigmoid'))\n",
    "\n",
    "    # Model compilation\n",
    "    optimizer = Adam(lr=0.0001)\n",
    "    model.compile(loss='binary_crossentropy',\n",
    "                  optimizer=optimizer,\n",
    "                  metrics=metrics)\n",
    "    return model"
   ]
  },
  {
   "cell_type": "markdown",
   "id": "6e48ba69",
   "metadata": {},
   "source": [
    "### Regularized model"
   ]
  },
  {
   "cell_type": "code",
   "execution_count": 0,
   "id": "deed6542",
   "metadata": {},
   "outputs": [],
   "source": [
    "model = init_model()\n",
    "#model.summary()"
   ]
  },
  {
   "cell_type": "code",
   "execution_count": 0,
   "id": "55b985f7",
   "metadata": {},
   "outputs": [
    {
     "name": "stdout",
     "output_type": "stream",
     "text": [
      "Epoch 1/100\n",
      "878/878 [==============================] - 3s 3ms/step - loss: 0.5120 - recall: 0.3283 - precision: 0.5469 - prc: 0.5125 - val_loss: 0.0982 - val_recall: 0.5227 - val_precision: 0.6866 - val_prc: 0.5414\n",
      "Epoch 2/100\n",
      "878/878 [==============================] - 2s 2ms/step - loss: 0.2873 - recall: 0.5738 - precision: 0.9323 - prc: 0.8779 - val_loss: 0.0305 - val_recall: 0.7727 - val_precision: 0.5714 - val_prc: 0.5851\n",
      "Epoch 3/100\n",
      "878/878 [==============================] - 2s 2ms/step - loss: 0.1992 - recall: 0.7709 - precision: 0.9607 - prc: 0.9377 - val_loss: 0.0214 - val_recall: 0.8068 - val_precision: 0.4152 - val_prc: 0.6251\n",
      "Epoch 4/100\n",
      "878/878 [==============================] - 2s 2ms/step - loss: 0.1589 - recall: 0.8428 - precision: 0.9664 - prc: 0.9559 - val_loss: 0.0195 - val_recall: 0.8295 - val_precision: 0.2932 - val_prc: 0.6593\n",
      "Epoch 5/100\n",
      "878/878 [==============================] - 2s 2ms/step - loss: 0.1350 - recall: 0.8659 - precision: 0.9721 - prc: 0.9645 - val_loss: 0.0205 - val_recall: 0.8409 - val_precision: 0.2587 - val_prc: 0.6740\n",
      "Epoch 6/100\n",
      "878/878 [==============================] - 2s 2ms/step - loss: 0.1221 - recall: 0.8816 - precision: 0.9729 - prc: 0.9695 - val_loss: 0.0202 - val_recall: 0.8409 - val_precision: 0.2483 - val_prc: 0.6894\n",
      "Epoch 7/100\n",
      "878/878 [==============================] - 2s 2ms/step - loss: 0.1123 - recall: 0.8909 - precision: 0.9764 - prc: 0.9727 - val_loss: 0.0208 - val_recall: 0.8409 - val_precision: 0.2458 - val_prc: 0.7046\n",
      "Epoch 8/100\n",
      "878/878 [==============================] - 2s 2ms/step - loss: 0.1049 - recall: 0.8962 - precision: 0.9762 - prc: 0.9751 - val_loss: 0.0210 - val_recall: 0.8409 - val_precision: 0.2442 - val_prc: 0.7064\n",
      "Epoch 9/100\n",
      "878/878 [==============================] - 2s 2ms/step - loss: 0.1001 - recall: 0.8999 - precision: 0.9768 - prc: 0.9768 - val_loss: 0.0203 - val_recall: 0.8409 - val_precision: 0.2578 - val_prc: 0.7116\n",
      "Epoch 10/100\n",
      "878/878 [==============================] - 2s 2ms/step - loss: 0.0943 - recall: 0.9036 - precision: 0.9793 - prc: 0.9793 - val_loss: 0.0200 - val_recall: 0.8409 - val_precision: 0.2508 - val_prc: 0.6895\n",
      "Epoch 11/100\n",
      "878/878 [==============================] - 2s 2ms/step - loss: 0.0921 - recall: 0.9070 - precision: 0.9768 - prc: 0.9798 - val_loss: 0.0208 - val_recall: 0.8409 - val_precision: 0.2552 - val_prc: 0.6908\n"
     ]
    }
   ],
   "source": [
    "es = EarlyStopping(\n",
    "    patience=10,\n",
    "    monitor='val_recall', # We really want to detect fraudulent transactions!\n",
    "    restore_best_weights=True)\n",
    "\n",
    "history = model.fit(X_train_resampled, y_train_resampled,\n",
    "                    validation_data=(X_val, y_val),\n",
    "                    epochs=100,\n",
    "                    batch_size=64, # Large enough to get a decent chance of containing fraudulent transactions \n",
    "                    callbacks=[es], shuffle=True)"
   ]
  },
  {
   "cell_type": "code",
   "execution_count": 0,
   "id": "98f5f5fc",
   "metadata": {},
   "outputs": [],
   "source": [
    "def plot_loss_precision_recall_curve(history):\n",
    "    \n",
    "    fig, ax =plt.subplots(1,3,figsize=(20,5))\n",
    "    \n",
    "    # --- LOSS\n",
    "    \n",
    "    ax[0].plot(history.history['loss'])\n",
    "    ax[0].plot(history.history['val_loss'])\n",
    "    ax[0].set_title('Model loss')\n",
    "    ax[0].set_xlabel('Epoch')\n",
    "    ax[0].set_ylabel('Loss')\n",
    "    ax[0].legend(['Train', 'Val'], loc='upper right')\n",
    "    ax[0].grid(axis=\"x\",linewidth=0.5)\n",
    "    ax[0].grid(axis=\"y\",linewidth=0.5)\n",
    "    \n",
    "    # --- RECALL\n",
    "\n",
    "    ax[1].plot(history.history['recall'])\n",
    "    ax[1].plot(history.history['val_recall'])\n",
    "    ax[1].set_title('Model recall', fontsize = 18)\n",
    "    ax[1].set_xlabel('Epoch', fontsize = 14)\n",
    "    ax[1].set_ylabel('Recall', fontsize = 14)\n",
    "    ax[1].legend(['Train', 'Val'], loc='lower right') \n",
    "    ax[1].grid(axis=\"x\",linewidth=0.5)\n",
    "    ax[1].grid(axis=\"y\",linewidth=0.5)\n",
    "\n",
    "    \n",
    "    # --- PRECISION\n",
    "    \n",
    "    \n",
    "    ax[2].plot(history.history['precision'])\n",
    "    ax[2].plot(history.history['val_precision'])\n",
    "    ax[2].set_title('Model precision', fontsize = 18)\n",
    "    ax[2].set_xlabel('Epoch', fontsize = 14)\n",
    "    ax[2].set_ylabel('Precision', fontsize = 14)\n",
    "    ax[2].legend(['Train', 'Val'], loc='lower right')  \n",
    "    ax[2].grid(axis=\"x\",linewidth=0.5)\n",
    "    ax[2].grid(axis=\"y\",linewidth=0.5)    \n",
    "    \n",
    "    plt.show()"
   ]
  },
  {
   "cell_type": "code",
   "execution_count": 0,
   "id": "0bf0df55",
   "metadata": {},
   "outputs": [
    {
     "data": {
      "image/png": "[encoded data removed]",
      "text/plain": [
       "<Figure size 1440x360 with 3 Axes>"
      ]
     },
     "metadata": {
      "needs_background": "light"
     },
     "output_type": "display_data"
    }
   ],
   "source": [
    "plot_loss_precision_recall_curve(history)"
   ]
  },
  {
   "cell_type": "markdown",
   "id": "77a9ddb4",
   "metadata": {},
   "source": [
    "By optimizing on the recall, we are \"sacrificing\" the precision!\n",
    "\n",
    "🎯 As a bank manager, you want all the frauds to be detected.\n",
    "\n",
    "✅ It's fine to predict False Positives, False Alarms: `Better be safe than sorry...`"
   ]
  },
  {
   "cell_type": "markdown",
   "id": "2b72e581",
   "metadata": {},
   "source": [
    "## 3. Score your model on the unseen Test set\n",
    "\n",
    "❓ **Question** ❓: Compute your confusion matrix and classification report on the test set"
   ]
  },
  {
   "cell_type": "code",
   "execution_count": 0,
   "id": "2159248d",
   "metadata": {
    "tags": [
     "delete_begin"
    ]
   },
   "outputs": [],
   "source": [
    "model.evaluate(X_test, y_test, verbose=0, return_dict=True)"
   ]
  },
  {
   "cell_type": "code",
   "execution_count": 0,
   "id": "6b81ea0c",
   "metadata": {},
   "outputs": [],
   "source": [
    "y_pred_proba = model.predict(X_test)"
   ]
  },
  {
   "cell_type": "code",
   "execution_count": 0,
   "id": "49c148e0",
   "metadata": {},
   "outputs": [],
   "source": [
    "threshold = 0.50 # 50% \n",
    "\n",
    "y_pred_binary = np.where(y_pred_proba > threshold, 1, 0 )"
   ]
  },
  {
   "cell_type": "markdown",
   "id": "8fc52cf2",
   "metadata": {},
   "source": [
    "### Confusion Matrix"
   ]
  },
  {
   "cell_type": "code",
   "execution_count": 0,
   "id": "a973b429",
   "metadata": {},
   "outputs": [],
   "source": [
    "# Confusion Matrix\n",
    "cm = confusion_matrix(y_test,y_pred_binary)\n",
    "cm"
   ]
  },
  {
   "cell_type": "code",
   "execution_count": 0,
   "id": "c91260cf",
   "metadata": {},
   "outputs": [],
   "source": [
    "plt.figure(figsize=(5,5))\n",
    "sns.heatmap(cm, annot=True, fmt=\"d\")\n",
    "plt.title('Confusion matrix')\n",
    "plt.ylabel('Actual label')\n",
    "plt.xlabel('Predicted label')"
   ]
  },
  {
   "cell_type": "code",
   "execution_count": 0,
   "id": "8154e282",
   "metadata": {},
   "outputs": [],
   "source": [
    "from sklearn.metrics import classification_report\n",
    "print(classification_report(y_test,y_pred_binary))"
   ]
  },
  {
   "cell_type": "code",
   "execution_count": 0,
   "id": "ad2cb3eb",
   "metadata": {},
   "outputs": [],
   "source": [
    "from sklearn.metrics import precision_recall_curve\n",
    "\n",
    "def plot_prc(name, labels, predictions, **kwargs):\n",
    "    precision, recall, _ = precision_recall_curve(labels, predictions)\n",
    "    plt.plot(precision, recall, label=name, linewidth=2, **kwargs)\n",
    "    plt.xlabel('Recall')\n",
    "    plt.ylabel('Precision')\n",
    "    plt.grid(True)\n",
    "    ax = plt.gca()\n",
    "    ax.set_aspect('equal')"
   ]
  },
  {
   "cell_type": "code",
   "execution_count": 0,
   "id": "8058ae5d",
   "metadata": {
    "tags": [
     "delete_end"
    ]
   },
   "outputs": [],
   "source": [
    "plot_prc(\"Test\", y_test, y_pred_proba, linestyle='--')\n",
    "plt.legend(loc='lower right')"
   ]
  },
  {
   "cell_type": "markdown",
   "id": "7f105ed0",
   "metadata": {},
   "source": [
    "### 🧪 Test your score"
   ]
  },
  {
   "cell_type": "markdown",
   "id": "12ee8987",
   "metadata": {},
   "source": [
    "Store below your real test performance on a (`X_test`, `y_test`) representative sample of the original unbalanced dataset into `precision` and `recall` variables."
   ]
  },
  {
   "cell_type": "code",
   "execution_count": 0,
   "id": "9256f166",
   "metadata": {
    "tags": [
     "challengify"
    ]
   },
   "outputs": [],
   "source": [
    "precision =  0.67\n",
    "recall = 0.75001"
   ]
  },
  {
   "cell_type": "code",
   "execution_count": 0,
   "id": "dbe064d0",
   "metadata": {},
   "outputs": [],
   "source": [
    "from nbresult import ChallengeResult\n",
    "\n",
    "result = ChallengeResult('solution',\n",
    "    precision=precision,\n",
    "    recall=recall,\n",
    "    fraud_number=len(y_test[y_test == 1]),\n",
    "    non_fraud_number=len(y_test[y_test == 0]),\n",
    ")\n",
    "\n",
    "result.write()\n",
    "print(result.check())"
   ]
  },
  {
   "cell_type": "markdown",
   "id": "ba04b243",
   "metadata": {},
   "source": [
    "## 🏁 Optional : Read Google's solution for this challenge\n",
    "Congratulations for finishing all challenges for this session!\n",
    "\n",
    "To conclude, take some time to read Google's own solution direcly [on Colab here](https://colab.research.google.com/github/tensorflow/docs/blob/master/site/en/tutorials/structured_data/imbalanced_data.ipynb). \n",
    "\n",
    "You will discover interesting techniques and best practices\n"
   ]
  },
  {
   "cell_type": "code",
   "execution_count": 0,
   "id": "716a934b",
   "metadata": {},
   "outputs": [],
   "source": []
  }
 ],
 "metadata": {
  "kernelspec": {
   "display_name": "Python 3",
   "language": "python",
   "name": "python3"
  }
 },
 "nbformat": 4,
 "nbformat_minor": 5
}