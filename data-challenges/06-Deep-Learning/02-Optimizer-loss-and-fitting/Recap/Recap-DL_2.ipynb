{
 "cells": [
  {
   "cell_type": "markdown",
   "metadata": {
    "heading_collapsed": true
   },
   "source": [
    "# Data Pipelines with TensorFlow"
   ]
  },
  {
   "cell_type": "markdown",
   "metadata": {
    "hidden": true
   },
   "source": [
    "**Objectives**\n",
    "- How to make pipelines with Deep Learning\n",
    "- How to load heavy data batch per batch"
   ]
  },
  {
   "cell_type": "markdown",
   "metadata": {},
   "source": [
    "# Part I: How to make pipelines with Deep Learning"
   ]
  },
  {
   "cell_type": "code",
   "execution_count": 1,
   "metadata": {},
   "outputs": [
    {
     "name": "stderr",
     "output_type": "stream",
     "text": [
      "/Users/Hindi/.pyenv/versions/3.7.7/envs/lewagon/lib/python3.7/site-packages/pandas/compat/__init__.py:120: UserWarning: Could not import the lzma module. Your installed Python is incomplete. Attempting to use lzma compression will result in a RuntimeError.\n",
      "  warnings.warn(msg)\n"
     ]
    }
   ],
   "source": [
    "import numpy as np\n",
    "import pandas as pd\n",
    "import tensorflow as tf"
   ]
  },
  {
   "cell_type": "markdown",
   "metadata": {
    "heading_collapsed": true
   },
   "source": [
    "## Load data"
   ]
  },
  {
   "cell_type": "markdown",
   "metadata": {
    "hidden": true
   },
   "source": [
    "Let's load the **PetFinder** dataset. Each row describes a pet, and each column describes an attribute.  \n",
    "You will use this information to **predict if the pet will be adopted**. "
   ]
  },
  {
   "cell_type": "markdown",
   "metadata": {
    "hidden": true
   },
   "source": [
    "<details>\n",
    "    <summary>Below is a description of this dataset.\n",
    "</summary>\n",
    "\n",
    "Column | Description| Feature Type | Data Type\n",
    "------------|--------------------|----------------------|-----------------\n",
    "Type | Type of animal (Dog, Cat) | Categorical | string\n",
    "Age |  Age of the pet | Numerical | integer\n",
    "Breed1 | Primary breed of the pet | Categorical | string\n",
    "Color1 | Color 1 of pet | Categorical | string\n",
    "Color2 | Color 2 of pet | Categorical | string\n",
    "MaturitySize | Size at maturity | Categorical | string\n",
    "FurLength | Fur length | Categorical | string\n",
    "Vaccinated | Pet has been vaccinated | Categorical | string\n",
    "Sterilized | Pet has been sterilized | Categorical | string\n",
    "Health | Health Condition | Categorical | string\n",
    "Fee | Adoption Fee | Numerical | integer\n",
    "Description | Profile write-up for this pet | Text | string\n",
    "PhotoAmt | Total uploaded photos for this pet | Numerical | integer\n",
    "AdoptionSpeed | Speed of adoption | Classification | integer\n",
    "</details>"
   ]
  },
  {
   "cell_type": "code",
   "execution_count": 2,
   "metadata": {
    "hidden": true
   },
   "outputs": [
    {
     "data": {
      "text/html": [
       "<div>\n",
       "<style scoped>\n",
       "    .dataframe tbody tr th:only-of-type {\n",
       "        vertical-align: middle;\n",
       "    }\n",
       "\n",
       "    .dataframe tbody tr th {\n",
       "        vertical-align: top;\n",
       "    }\n",
       "\n",
       "    .dataframe thead th {\n",
       "        text-align: right;\n",
       "    }\n",
       "</style>\n",
       "<table border=\"1\" class=\"dataframe\">\n",
       "  <thead>\n",
       "    <tr style=\"text-align: right;\">\n",
       "      <th></th>\n",
       "      <th>Type</th>\n",
       "      <th>Age</th>\n",
       "      <th>Breed1</th>\n",
       "      <th>Gender</th>\n",
       "      <th>Color1</th>\n",
       "      <th>Color2</th>\n",
       "      <th>MaturitySize</th>\n",
       "      <th>FurLength</th>\n",
       "      <th>Vaccinated</th>\n",
       "      <th>Sterilized</th>\n",
       "      <th>Health</th>\n",
       "      <th>Fee</th>\n",
       "      <th>PhotoAmt</th>\n",
       "      <th>target</th>\n",
       "    </tr>\n",
       "  </thead>\n",
       "  <tbody>\n",
       "    <tr>\n",
       "      <th>0</th>\n",
       "      <td>Cat</td>\n",
       "      <td>3</td>\n",
       "      <td>Tabby</td>\n",
       "      <td>Male</td>\n",
       "      <td>Black</td>\n",
       "      <td>White</td>\n",
       "      <td>Small</td>\n",
       "      <td>Short</td>\n",
       "      <td>No</td>\n",
       "      <td>No</td>\n",
       "      <td>Healthy</td>\n",
       "      <td>100</td>\n",
       "      <td>1</td>\n",
       "      <td>1</td>\n",
       "    </tr>\n",
       "    <tr>\n",
       "      <th>1</th>\n",
       "      <td>Cat</td>\n",
       "      <td>1</td>\n",
       "      <td>Domestic Medium Hair</td>\n",
       "      <td>Male</td>\n",
       "      <td>Black</td>\n",
       "      <td>Brown</td>\n",
       "      <td>Medium</td>\n",
       "      <td>Medium</td>\n",
       "      <td>Not Sure</td>\n",
       "      <td>Not Sure</td>\n",
       "      <td>Healthy</td>\n",
       "      <td>0</td>\n",
       "      <td>2</td>\n",
       "      <td>1</td>\n",
       "    </tr>\n",
       "    <tr>\n",
       "      <th>2</th>\n",
       "      <td>Dog</td>\n",
       "      <td>1</td>\n",
       "      <td>Mixed Breed</td>\n",
       "      <td>Male</td>\n",
       "      <td>Brown</td>\n",
       "      <td>White</td>\n",
       "      <td>Medium</td>\n",
       "      <td>Medium</td>\n",
       "      <td>Yes</td>\n",
       "      <td>No</td>\n",
       "      <td>Healthy</td>\n",
       "      <td>0</td>\n",
       "      <td>7</td>\n",
       "      <td>1</td>\n",
       "    </tr>\n",
       "    <tr>\n",
       "      <th>3</th>\n",
       "      <td>Dog</td>\n",
       "      <td>4</td>\n",
       "      <td>Mixed Breed</td>\n",
       "      <td>Female</td>\n",
       "      <td>Black</td>\n",
       "      <td>Brown</td>\n",
       "      <td>Medium</td>\n",
       "      <td>Short</td>\n",
       "      <td>Yes</td>\n",
       "      <td>No</td>\n",
       "      <td>Healthy</td>\n",
       "      <td>150</td>\n",
       "      <td>8</td>\n",
       "      <td>1</td>\n",
       "    </tr>\n",
       "    <tr>\n",
       "      <th>4</th>\n",
       "      <td>Dog</td>\n",
       "      <td>1</td>\n",
       "      <td>Mixed Breed</td>\n",
       "      <td>Male</td>\n",
       "      <td>Black</td>\n",
       "      <td>No Color</td>\n",
       "      <td>Medium</td>\n",
       "      <td>Short</td>\n",
       "      <td>No</td>\n",
       "      <td>No</td>\n",
       "      <td>Healthy</td>\n",
       "      <td>0</td>\n",
       "      <td>3</td>\n",
       "      <td>1</td>\n",
       "    </tr>\n",
       "  </tbody>\n",
       "</table>\n",
       "</div>"
      ],
      "text/plain": [
       "  Type  Age                Breed1  Gender Color1    Color2 MaturitySize  \\\n",
       "0  Cat    3                 Tabby    Male  Black     White        Small   \n",
       "1  Cat    1  Domestic Medium Hair    Male  Black     Brown       Medium   \n",
       "2  Dog    1           Mixed Breed    Male  Brown     White       Medium   \n",
       "3  Dog    4           Mixed Breed  Female  Black     Brown       Medium   \n",
       "4  Dog    1           Mixed Breed    Male  Black  No Color       Medium   \n",
       "\n",
       "  FurLength Vaccinated Sterilized   Health  Fee  PhotoAmt  target  \n",
       "0     Short         No         No  Healthy  100         1       1  \n",
       "1    Medium   Not Sure   Not Sure  Healthy    0         2       1  \n",
       "2    Medium        Yes         No  Healthy    0         7       1  \n",
       "3     Short        Yes         No  Healthy  150         8       1  \n",
       "4     Short         No         No  Healthy    0         3       1  "
      ]
     },
     "execution_count": 2,
     "metadata": {},
     "output_type": "execute_result"
    }
   ],
   "source": [
    "dataframe = pd.read_csv(\"https://wagon-public-datasets.s3.amazonaws.com/petfinder.csv\")\n",
    "dataframe.head()"
   ]
  },
  {
   "cell_type": "code",
   "execution_count": 3,
   "metadata": {
    "hidden": true
   },
   "outputs": [],
   "source": [
    "#Prepare your train, validation and test values\n",
    "\n",
    "from sklearn.model_selection import train_test_split\n",
    "\n",
    "X= dataframe.drop(columns=[\"target\"])\n",
    "y = dataframe[\"target\"]\n",
    "\n",
    "X_train, X_test, y_train, y_test = train_test_split(X,y, test_size=0.33)\n",
    "X_train, X_val, y_train, y_val = train_test_split(X_train,y_train, test_size = 0.33)"
   ]
  },
  {
   "cell_type": "code",
   "execution_count": 4,
   "metadata": {
    "hidden": true
   },
   "outputs": [
    {
     "data": {
      "text/plain": [
       "Type            object\n",
       "Age              int64\n",
       "Breed1          object\n",
       "Gender          object\n",
       "Color1          object\n",
       "Color2          object\n",
       "MaturitySize    object\n",
       "FurLength       object\n",
       "Vaccinated      object\n",
       "Sterilized      object\n",
       "Health          object\n",
       "Fee              int64\n",
       "PhotoAmt         int64\n",
       "target           int64\n",
       "dtype: object"
      ]
     },
     "execution_count": 4,
     "metadata": {},
     "output_type": "execute_result"
    }
   ],
   "source": [
    "#check your dat types\n",
    "dataframe.dtypes"
   ]
  },
  {
   "cell_type": "markdown",
   "metadata": {
    "hidden": true
   },
   "source": [
    "☝️ Our dataset comprises of both Numerical and Categorical values. We need to preprocess them before feeding into a Neural Network.\n",
    "\n",
    "You have three options:\n",
    "\n",
    "**A**. Use sklean to preprocess data before feeding a neural network (no pipelines)  \n",
    "**B**. Wrap your neural network into a sklearn estimator (pipelines)  \n",
    "**C**. Use full Tensorflow pipelines  "
   ]
  },
  {
   "cell_type": "markdown",
   "metadata": {
    "heading_collapsed": true
   },
   "source": [
    "## A. Use sklean to preprocess data before feeding a neural network (no pipelines)"
   ]
  },
  {
   "cell_type": "markdown",
   "metadata": {
    "hidden": true
   },
   "source": [
    "#### Preprocessing\n",
    "❓ Create a `X_train_preproc`, `X_val_preproc`, `X_test_preproc` scaling numerical data and One Hot Encoding categorical one"
   ]
  },
  {
   "cell_type": "code",
   "execution_count": 5,
   "metadata": {
    "hidden": true
   },
   "outputs": [],
   "source": [
    "from sklearn.preprocessing import StandardScaler, OneHotEncoder\n",
    "from sklearn.compose import ColumnTransformer, make_column_selector"
   ]
  },
  {
   "cell_type": "code",
   "execution_count": 9,
   "metadata": {
    "hidden": true
   },
   "outputs": [],
   "source": [
    "prepoc_pipe = ColumnTransformer([(\"num_prepoc\",StandardScaler(),make_column_selector(dtype_include=[\"int64\"])),\n",
    "(\"cat_prepoc\",OneHotEncoder(sparse= False, handle_unknown=\"ignore\"),make_column_selector(dtype_include=[\"object\"]))    \n",
    "])"
   ]
  },
  {
   "cell_type": "code",
   "execution_count": 11,
   "metadata": {
    "collapsed": true,
    "hidden": true
   },
   "outputs": [
    {
     "data": {
      "text/plain": [
       "array([[ 0.16384493, -0.29845584, -0.82680539, ...,  1.        ,\n",
       "         0.        ,  0.        ],\n",
       "       [-0.34289801, -0.29845584, -0.19466094, ...,  1.        ,\n",
       "         0.        ,  0.        ],\n",
       "       [ 0.06249634, -0.29845584,  0.75355574, ...,  1.        ,\n",
       "         0.        ,  0.        ],\n",
       "       ...,\n",
       "       [-0.34289801, -0.29845584, -0.19466094, ...,  1.        ,\n",
       "         0.        ,  0.        ],\n",
       "       [-0.39357231, -0.29845584, -0.82680539, ...,  1.        ,\n",
       "         0.        ,  0.        ],\n",
       "       [-0.24154942, -0.29845584, -0.19466094, ...,  1.        ,\n",
       "         0.        ,  0.        ]])"
      ]
     },
     "execution_count": 11,
     "metadata": {},
     "output_type": "execute_result"
    }
   ],
   "source": [
    "X_train_preproc=prepoc_pipe.fit_transform(X_train)\n",
    "X_train_preproc"
   ]
  },
  {
   "cell_type": "code",
   "execution_count": 12,
   "metadata": {
    "hidden": true
   },
   "outputs": [],
   "source": [
    "X_val_preproc=prepoc_pipe.transform(X_val)"
   ]
  },
  {
   "cell_type": "code",
   "execution_count": 13,
   "metadata": {
    "hidden": true
   },
   "outputs": [],
   "source": [
    "X_test_preproc=prepoc_pipe.transform(X_test)"
   ]
  },
  {
   "cell_type": "markdown",
   "metadata": {
    "hidden": true
   },
   "source": [
    "#### Neural Network\n",
    "\n",
    "❓ Fit a Neural Network and evaluate its performance on the test set "
   ]
  },
  {
   "cell_type": "code",
   "execution_count": 14,
   "metadata": {
    "hidden": true
   },
   "outputs": [],
   "source": [
    "from tensorflow.keras import Sequential, layers\n",
    "from tensorflow.keras.layers.experimental import preprocessing\n",
    "from tensorflow.keras.callbacks import EarlyStopping\n"
   ]
  },
  {
   "cell_type": "code",
   "execution_count": 28,
   "metadata": {
    "hidden": true,
    "tags": [
     "challengify"
    ]
   },
   "outputs": [],
   "source": [
    "#Design a model with:\n",
    "#...a layer with 32 neurons\n",
    "#...a layer with 15 neurons\n",
    "#...with Dropout Layers\n",
    "\n",
    "model = Sequential()\n",
    "model.add(layers.Dense(32,activation = \"relu\"))\n",
    "model.add(layers.Dense(15,activation = \"relu\"))\n",
    "model.add(layers.Dropout(0.3))\n",
    "model.add(layers.Dense(1,activation = \"sigmoid\"))\n",
    "\n",
    "model.compile(loss=\"binary_crossentropy\", optimizer=\"adam\", metrics=\"accuracy\")\n"
   ]
  },
  {
   "cell_type": "code",
   "execution_count": 29,
   "metadata": {
    "hidden": true,
    "scrolled": true,
    "tags": [
     "delete"
    ]
   },
   "outputs": [
    {
     "name": "stdout",
     "output_type": "stream",
     "text": [
      "Epoch 1/1000\n",
      "162/162 [==============================] - 2s 14ms/step - loss: 0.6120 - accuracy: 0.6817 - val_loss: 0.5392 - val_accuracy: 0.7468\n",
      "Epoch 2/1000\n",
      "162/162 [==============================] - 2s 14ms/step - loss: 0.5541 - accuracy: 0.7289 - val_loss: 0.5234 - val_accuracy: 0.7475\n",
      "Epoch 3/1000\n",
      "162/162 [==============================] - 3s 16ms/step - loss: 0.5420 - accuracy: 0.7356 - val_loss: 0.5151 - val_accuracy: 0.7566ss: 0.546\n",
      "Epoch 4/1000\n",
      "162/162 [==============================] - 2s 11ms/step - loss: 0.5290 - accuracy: 0.7404 - val_loss: 0.5053 - val_accuracy: 0.7542\n",
      "Epoch 5/1000\n",
      "162/162 [==============================] - 2s 10ms/step - loss: 0.5215 - accuracy: 0.7470 - val_loss: 0.5006 - val_accuracy: 0.7546\n",
      "Epoch 6/1000\n",
      "162/162 [==============================] - 1s 9ms/step - loss: 0.5171 - accuracy: 0.7509 - val_loss: 0.4944 - val_accuracy: 0.7562\n",
      "Epoch 7/1000\n",
      "162/162 [==============================] - 2s 11ms/step - loss: 0.5104 - accuracy: 0.7532 - val_loss: 0.4917 - val_accuracy: 0.7593\n",
      "Epoch 8/1000\n",
      "162/162 [==============================] - 1s 9ms/step - loss: 0.5031 - accuracy: 0.7636 - val_loss: 0.4918 - val_accuracy: 0.7589\n",
      "Epoch 9/1000\n",
      "162/162 [==============================] - 2s 10ms/step - loss: 0.4968 - accuracy: 0.7661 - val_loss: 0.4895 - val_accuracy: 0.7570\n",
      "Epoch 10/1000\n",
      "162/162 [==============================] - 1s 9ms/step - loss: 0.4889 - accuracy: 0.7690 - val_loss: 0.4861 - val_accuracy: 0.7621\n",
      "Epoch 11/1000\n",
      "162/162 [==============================] - 1s 9ms/step - loss: 0.4868 - accuracy: 0.7717 - val_loss: 0.4846 - val_accuracy: 0.7624\n",
      "Epoch 12/1000\n",
      "162/162 [==============================] - 1s 8ms/step - loss: 0.4789 - accuracy: 0.7740 - val_loss: 0.4865 - val_accuracy: 0.7601\n",
      "Epoch 13/1000\n",
      "162/162 [==============================] - 2s 9ms/step - loss: 0.4753 - accuracy: 0.7769 - val_loss: 0.4903 - val_accuracy: 0.7554\n"
     ]
    },
    {
     "data": {
      "text/plain": [
       "<tensorflow.python.keras.callbacks.History at 0x144c25790>"
      ]
     },
     "execution_count": 29,
     "metadata": {},
     "output_type": "execute_result"
    }
   ],
   "source": [
    "es= EarlyStopping(patience=2, restore_best_weights=True)\n",
    "\n",
    "\n",
    "\n",
    "model.fit(X_train_preproc,y_train, validation_data=(X_val_preproc,y_val), batch_size=32, epochs=1000,\n",
    "            callbacks=[es])"
   ]
  },
  {
   "cell_type": "code",
   "execution_count": 19,
   "metadata": {
    "hidden": true,
    "tags": [
     "delete"
    ]
   },
   "outputs": [
    {
     "name": "stdout",
     "output_type": "stream",
     "text": [
      "119/119 [==============================] - 2s 13ms/step - loss: 0.5189 - accuracy: 0.7474 0s - l\n"
     ]
    },
    {
     "data": {
      "text/plain": [
       "[0.5189257264137268, 0.7473739385604858]"
      ]
     },
     "execution_count": 19,
     "metadata": {},
     "output_type": "execute_result"
    }
   ],
   "source": [
    "res= model.evaluate(X_test_preproc, y_test)\n",
    "res"
   ]
  },
  {
   "cell_type": "code",
   "execution_count": null,
   "metadata": {
    "hidden": true
   },
   "outputs": [],
   "source": []
  },
  {
   "cell_type": "markdown",
   "metadata": {
    "heading_collapsed": true
   },
   "source": [
    "## B. Wrap your neural network into a sklearn estimator & pipelines"
   ]
  },
  {
   "cell_type": "markdown",
   "metadata": {
    "hidden": true
   },
   "source": [
    "We can actually treat a Keras model as a scikit-learn estimator, using [Keras Wrappers](https://www.tensorflow.org/api_docs/python/tf/keras/wrappers/scikit_learn)  \n",
    "It allows us to place the estimator inside a sklearn pipeline and include preprocessing inside. We can even gridsearch hyper-params."
   ]
  },
  {
   "cell_type": "markdown",
   "metadata": {
    "hidden": true
   },
   "source": [
    "❓Run the cells below to undersand the syntax"
   ]
  },
  {
   "cell_type": "code",
   "execution_count": 30,
   "metadata": {
    "hidden": true
   },
   "outputs": [],
   "source": [
    "def create_model():\n",
    "    \n",
    "    # Define architecture without input dim yet, as we don't know the shape post preprocessing\n",
    "    model = Sequential()\n",
    "    model.add(layers.Dense(32, activation='relu'))\n",
    "    model.add(layers.Dropout(0.2))\n",
    "    model.add(layers.Dense(15, activation='relu'))\n",
    "    model.add(layers.Dropout(0.3))\n",
    "    model.add(layers.Dense(1, activation='sigmoid'))\n",
    "    \n",
    "    # Compile model\n",
    "    model.compile(loss='binary_crossentropy', \n",
    "                  optimizer='adam', \n",
    "                  metrics=['accuracy'])\n",
    "    return model"
   ]
  },
  {
   "cell_type": "code",
   "execution_count": 41,
   "metadata": {
    "hidden": true
   },
   "outputs": [],
   "source": [
    "from tensorflow.keras.wrappers.scikit_learn import KerasClassifier\n",
    "\n",
    "model = KerasClassifier(build_fn = create_model, \n",
    "                        epochs=10, \n",
    "                        batch_size=32, \n",
    "                        verbose=1)"
   ]
  },
  {
   "cell_type": "markdown",
   "metadata": {
    "hidden": true
   },
   "source": [
    "❓ Evaluate - or rather cross-validate - your estimator on your training set already preprocessed"
   ]
  },
  {
   "cell_type": "code",
   "execution_count": 42,
   "metadata": {
    "hidden": true
   },
   "outputs": [],
   "source": [
    "from sklearn.model_selection import cross_val_score"
   ]
  },
  {
   "cell_type": "code",
   "execution_count": 43,
   "metadata": {
    "hidden": true,
    "tags": [
     "challengify"
    ]
   },
   "outputs": [],
   "source": [
    "re = cross_val_score(model,X_train_preproc, y_train, cv=2, n_jobs=-1)"
   ]
  },
  {
   "cell_type": "code",
   "execution_count": 34,
   "metadata": {
    "hidden": true
   },
   "outputs": [
    {
     "data": {
      "text/plain": [
       "array([0.75511783, 0.72769409])"
      ]
     },
     "execution_count": 34,
     "metadata": {},
     "output_type": "execute_result"
    }
   ],
   "source": [
    "re"
   ]
  },
  {
   "cell_type": "markdown",
   "metadata": {
    "hidden": true
   },
   "source": [
    "❓ Wrap your model inside a pipeline including preprocessing and evaluate it directly on the raw data this time(use cross validate)"
   ]
  },
  {
   "cell_type": "code",
   "execution_count": 36,
   "metadata": {
    "hidden": true
   },
   "outputs": [],
   "source": [
    "from sklearn.pipeline import Pipeline"
   ]
  },
  {
   "cell_type": "code",
   "execution_count": 37,
   "metadata": {
    "hidden": true,
    "tags": [
     "challengify"
    ]
   },
   "outputs": [
    {
     "name": "stdout",
     "output_type": "stream",
     "text": [
      "Epoch 1/10\n",
      "  1/162 [..............................] - ETA: 0s - loss: 0.6953 - accuracy: 0.4375WARNING:tensorflow:Callbacks method `on_train_batch_end` is slow compared to the batch time (batch time: 0.0059s vs `on_train_batch_end` time: 0.0206s). Check your callbacks.\n",
      "162/162 [==============================] - 2s 10ms/step - loss: 0.5884 - accuracy: 0.7057\n",
      "Epoch 2/10\n",
      "162/162 [==============================] - 1s 6ms/step - loss: 0.5569 - accuracy: 0.7292: 0s -\n",
      "Epoch 3/10\n",
      "162/162 [==============================] - 1s 7ms/step - loss: 0.5468 - accuracy: 0.7308\n",
      "Epoch 4/10\n",
      "162/162 [==============================] - 1s 8ms/step - loss: 0.5406 - accuracy: 0.7348\n",
      "Epoch 5/10\n",
      "162/162 [==============================] - 1s 9ms/step - loss: 0.5369 - accuracy: 0.7362\n",
      "Epoch 6/10\n",
      "162/162 [==============================] - 1s 7ms/step - loss: 0.5260 - accuracy: 0.7443\n",
      "Epoch 7/10\n",
      "162/162 [==============================] - 2s 9ms/step - loss: 0.5236 - accuracy: 0.7408\n",
      "Epoch 8/10\n",
      "162/162 [==============================] - 2s 11ms/step - loss: 0.5166 - accuracy: 0.7460\n",
      "Epoch 9/10\n",
      "162/162 [==============================] - 2s 10ms/step - loss: 0.5137 - accuracy: 0.7511\n",
      "Epoch 10/10\n",
      "162/162 [==============================] - 2s 11ms/step - loss: 0.5124 - accuracy: 0.7462\n"
     ]
    },
    {
     "data": {
      "text/plain": [
       "Pipeline(steps=[('prep',\n",
       "                 ColumnTransformer(transformers=[('num_prepoc',\n",
       "                                                  StandardScaler(),\n",
       "                                                  <sklearn.compose._column_transformer.make_column_selector object at 0x143cdf9d0>),\n",
       "                                                 ('cat_prepoc',\n",
       "                                                  OneHotEncoder(handle_unknown='ignore',\n",
       "                                                                sparse=False),\n",
       "                                                  <sklearn.compose._column_transformer.make_column_selector object at 0x143cdf650>)])),\n",
       "                ('modelNN',\n",
       "                 <tensorflow.python.keras.wrappers.scikit_learn.KerasClassifier object at 0x144df7f90>)])"
      ]
     },
     "execution_count": 37,
     "metadata": {},
     "output_type": "execute_result"
    }
   ],
   "source": [
    "final_pipe = Pipeline([(\"prep\",prepoc_pipe),(\"modelNN\",model)])\n",
    "final_pipe.fit(X_train,y_train)"
   ]
  },
  {
   "cell_type": "code",
   "execution_count": null,
   "metadata": {
    "hidden": true
   },
   "outputs": [],
   "source": []
  },
  {
   "cell_type": "code",
   "execution_count": null,
   "metadata": {
    "hidden": true
   },
   "outputs": [],
   "source": []
  },
  {
   "cell_type": "markdown",
   "metadata": {
    "hidden": true
   },
   "source": [
    "#### GridSearch CV on the pipeline!"
   ]
  },
  {
   "cell_type": "markdown",
   "metadata": {
    "hidden": true
   },
   "source": [
    "Now that our model is pipelined, we can even grid_searched its hyper-parameters\n",
    "\n",
    "❓ Run the cells below to understand how the syntax works"
   ]
  },
  {
   "cell_type": "code",
   "execution_count": 44,
   "metadata": {
    "hidden": true
   },
   "outputs": [],
   "source": [
    "def create_model_grid(activation = 'relu', \n",
    "                      optimizer ='adam'):\n",
    "    # create model\n",
    "    model = Sequential()\n",
    "    model.add(layers.Dense(32, activation=activation))\n",
    "    model.add(layers.Dropout(0.5))\n",
    "    model.add(layers.Dense(15, activation=activation))\n",
    "    model.add(layers.Dropout(0.2))\n",
    "    model.add(layers.Dense(1, activation='sigmoid'))\n",
    "    \n",
    "    # Compile model\n",
    "    model.compile(loss='binary_crossentropy', \n",
    "                  optimizer=optimizer, \n",
    "                  metrics=['accuracy'])\n",
    "    return model"
   ]
  },
  {
   "cell_type": "code",
   "execution_count": 45,
   "metadata": {
    "hidden": true
   },
   "outputs": [],
   "source": [
    "model_grid = KerasClassifier(\n",
    "    build_fn=create_model_grid,\n",
    "    epochs=10,\n",
    "    batch_size=32,\n",
    "    verbose=1\n",
    ")"
   ]
  },
  {
   "cell_type": "code",
   "execution_count": 46,
   "metadata": {
    "hidden": true
   },
   "outputs": [],
   "source": [
    "#Prepare a pipeline\n",
    "final_pipe_grid = Pipeline([(\"prep\",prepoc_pipe),(\"modelNNgrid\",model_grid)])"
   ]
  },
  {
   "cell_type": "code",
   "execution_count": 47,
   "metadata": {
    "hidden": true
   },
   "outputs": [
    {
     "data": {
      "text/plain": [
       "{'memory': None,\n",
       " 'steps': [('prep',\n",
       "   ColumnTransformer(transformers=[('num_prepoc', StandardScaler(),\n",
       "                                    <sklearn.compose._column_transformer.make_column_selector object at 0x143cdf9d0>),\n",
       "                                   ('cat_prepoc',\n",
       "                                    OneHotEncoder(handle_unknown='ignore',\n",
       "                                                  sparse=False),\n",
       "                                    <sklearn.compose._column_transformer.make_column_selector object at 0x143cdf650>)])),\n",
       "  ('modelNNgrid',\n",
       "   <tensorflow.python.keras.wrappers.scikit_learn.KerasClassifier at 0x145037bd0>)],\n",
       " 'verbose': False,\n",
       " 'prep': ColumnTransformer(transformers=[('num_prepoc', StandardScaler(),\n",
       "                                  <sklearn.compose._column_transformer.make_column_selector object at 0x143cdf9d0>),\n",
       "                                 ('cat_prepoc',\n",
       "                                  OneHotEncoder(handle_unknown='ignore',\n",
       "                                                sparse=False),\n",
       "                                  <sklearn.compose._column_transformer.make_column_selector object at 0x143cdf650>)]),\n",
       " 'modelNNgrid': <tensorflow.python.keras.wrappers.scikit_learn.KerasClassifier at 0x145037bd0>,\n",
       " 'prep__n_jobs': None,\n",
       " 'prep__remainder': 'drop',\n",
       " 'prep__sparse_threshold': 0.3,\n",
       " 'prep__transformer_weights': None,\n",
       " 'prep__transformers': [('num_prepoc',\n",
       "   StandardScaler(),\n",
       "   <sklearn.compose._column_transformer.make_column_selector at 0x143cdf9d0>),\n",
       "  ('cat_prepoc',\n",
       "   OneHotEncoder(handle_unknown='ignore', sparse=False),\n",
       "   <sklearn.compose._column_transformer.make_column_selector at 0x143cdf650>)],\n",
       " 'prep__verbose': False,\n",
       " 'prep__num_prepoc': StandardScaler(),\n",
       " 'prep__cat_prepoc': OneHotEncoder(handle_unknown='ignore', sparse=False),\n",
       " 'prep__num_prepoc__copy': True,\n",
       " 'prep__num_prepoc__with_mean': True,\n",
       " 'prep__num_prepoc__with_std': True,\n",
       " 'prep__cat_prepoc__categories': 'auto',\n",
       " 'prep__cat_prepoc__drop': None,\n",
       " 'prep__cat_prepoc__dtype': numpy.float64,\n",
       " 'prep__cat_prepoc__handle_unknown': 'ignore',\n",
       " 'prep__cat_prepoc__sparse': False,\n",
       " 'modelNNgrid__epochs': 10,\n",
       " 'modelNNgrid__batch_size': 32,\n",
       " 'modelNNgrid__verbose': 1,\n",
       " 'modelNNgrid__build_fn': <function __main__.create_model_grid(activation='relu', optimizer='adam')>}"
      ]
     },
     "execution_count": 47,
     "metadata": {},
     "output_type": "execute_result"
    }
   ],
   "source": [
    "#check the parameters you can tune\n",
    "final_pipe_grid.get_params()"
   ]
  },
  {
   "cell_type": "code",
   "execution_count": 48,
   "metadata": {
    "hidden": true
   },
   "outputs": [
    {
     "name": "stdout",
     "output_type": "stream",
     "text": [
      "Epoch 1/10\n",
      "  1/162 [..............................] - ETA: 0s - loss: 0.6496 - accuracy: 0.5938WARNING:tensorflow:Callbacks method `on_train_batch_end` is slow compared to the batch time (batch time: 0.0018s vs `on_train_batch_end` time: 0.0210s). Check your callbacks.\n",
      "162/162 [==============================] - 1s 9ms/step - loss: 0.5889 - accuracy: 0.7117\n",
      "Epoch 2/10\n",
      "162/162 [==============================] - 1s 5ms/step - loss: 0.5635 - accuracy: 0.7242\n",
      "Epoch 3/10\n",
      "162/162 [==============================] - 1s 6ms/step - loss: 0.5560 - accuracy: 0.7339\n",
      "Epoch 4/10\n",
      "162/162 [==============================] - 1s 8ms/step - loss: 0.5504 - accuracy: 0.7377: 0s - loss: 0.553\n",
      "Epoch 5/10\n",
      "162/162 [==============================] - 1s 7ms/step - loss: 0.5452 - accuracy: 0.7397\n",
      "Epoch 6/10\n",
      "162/162 [==============================] - 1s 8ms/step - loss: 0.5481 - accuracy: 0.7366\n",
      "Epoch 7/10\n",
      "162/162 [==============================] - 1s 7ms/step - loss: 0.5401 - accuracy: 0.7406\n",
      "Epoch 8/10\n",
      "162/162 [==============================] - 1s 7ms/step - loss: 0.5398 - accuracy: 0.7364\n",
      "Epoch 9/10\n",
      "162/162 [==============================] - 1s 7ms/step - loss: 0.5366 - accuracy: 0.7453\n",
      "Epoch 10/10\n",
      "162/162 [==============================] - ETA: 0s - loss: 0.5336 - accuracy: 0.74 - 1s 8ms/step - loss: 0.5334 - accuracy: 0.7416\n"
     ]
    },
    {
     "data": {
      "text/plain": [
       "GridSearchCV(cv=2,\n",
       "             estimator=Pipeline(steps=[('prep',\n",
       "                                        ColumnTransformer(transformers=[('num_prepoc',\n",
       "                                                                         StandardScaler(),\n",
       "                                                                         <sklearn.compose._column_transformer.make_column_selector object at 0x143cdf9d0>),\n",
       "                                                                        ('cat_prepoc',\n",
       "                                                                         OneHotEncoder(handle_unknown='ignore',\n",
       "                                                                                       sparse=False),\n",
       "                                                                         <sklearn.compose._column_transformer.make_column_selector object at 0x143cdf650>)])),\n",
       "                                       ('modelNNgrid',\n",
       "                                        <tensorflow.python.keras.wrappers.scikit_learn.KerasClassifier object at 0x145037bd0>)]),\n",
       "             n_jobs=-1,\n",
       "             param_grid={'modelNNgrid__activation': ['relu', 'tanh'],\n",
       "                         'modelNNgrid__batch_size': [8, 32],\n",
       "                         'modelNNgrid__optimizer': ['adam', 'rmsprop']})"
      ]
     },
     "execution_count": 48,
     "metadata": {},
     "output_type": "execute_result"
    }
   ],
   "source": [
    "# Now, we can gridsearch the hyper-params of everything\n",
    "# From the preprocessing, the architecture, the compiler, and the fit!\n",
    "\n",
    "#Gridsearch for\n",
    "#activiation (tanh,relu)\n",
    "#optimizer(adam or rmsprop)\n",
    "#batch_size (8 or 64)\n",
    "\n",
    "from sklearn.model_selection import GridSearchCV\n",
    "\n",
    "params= {\"modelNNgrid__batch_size\":[8,32],\n",
    "         \"modelNNgrid__activation\":[\"relu\",\"tanh\"],\n",
    "         \"modelNNgrid__optimizer\":[\"adam\",\"rmsprop\"]  \n",
    "}\n",
    "\n",
    "regrid = GridSearchCV(final_pipe_grid, params, n_jobs=-1, cv=2)\n",
    "regrid.fit(X_train,y_train)"
   ]
  },
  {
   "cell_type": "code",
   "execution_count": null,
   "metadata": {
    "hidden": true
   },
   "outputs": [],
   "source": []
  },
  {
   "cell_type": "code",
   "execution_count": 49,
   "metadata": {
    "hidden": true
   },
   "outputs": [
    {
     "data": {
      "text/plain": [
       "{'modelNNgrid__activation': 'tanh',\n",
       " 'modelNNgrid__batch_size': 32,\n",
       " 'modelNNgrid__optimizer': 'rmsprop'}"
      ]
     },
     "execution_count": 49,
     "metadata": {},
     "output_type": "execute_result"
    }
   ],
   "source": [
    "#Display the best params and score\n",
    "regrid.best_params_"
   ]
  },
  {
   "cell_type": "code",
   "execution_count": null,
   "metadata": {
    "hidden": true
   },
   "outputs": [],
   "source": [
    "regrid.best_score_"
   ]
  },
  {
   "cell_type": "code",
   "execution_count": null,
   "metadata": {
    "hidden": true
   },
   "outputs": [],
   "source": [
    "#cross validate your score\n",
    "best_model = regrid.best_estimator_\n",
    "\n",
    "cross_val_score(best_model,X_train,y_train)"
   ]
  },
  {
   "cell_type": "markdown",
   "metadata": {
    "heading_collapsed": true
   },
   "source": [
    "## Option C: Full pipeline in Tensorflow"
   ]
  },
  {
   "cell_type": "markdown",
   "metadata": {
    "hidden": true
   },
   "source": [
    "This option is recommended for real projects, especially when you need (i) performance or (ii) production-readiness\n",
    "\n",
    "\n",
    "<details>\n",
    "    <summary>Why?</summary>\n",
    "\n",
    "Indeed, having all preprocessing inside one single TensorFlow Keras model allows to generate one [`tf.Graph`](https://www.tensorflow.org/guide/intro_to_graphs) representation of your model, which is mandatory for distributed computation and serving on many devices (using Tensorflow Lite for back-end-free predictions for instance). \n",
    "</details>"
   ]
  },
  {
   "cell_type": "markdown",
   "metadata": {
    "hidden": true
   },
   "source": [
    "The idea is to use **Normalization** and **CategoryEncoding** layers within your model architecture."
   ]
  },
  {
   "cell_type": "markdown",
   "metadata": {
    "hidden": true
   },
   "source": [
    "### 😌 If the preproc pipeline is sequential, everything is easy"
   ]
  },
  {
   "attachments": {
    "image.png": {
     "image/png": "[encoded data removed]"
    }
   },
   "cell_type": "markdown",
   "metadata": {
    "hidden": true
   },
   "source": [
    "![image.png](attachment:image.png)"
   ]
  },
  {
   "cell_type": "markdown",
   "metadata": {
    "hidden": true
   },
   "source": [
    "For instance, if there were only numerical data on our dataset:"
   ]
  },
  {
   "cell_type": "code",
   "execution_count": null,
   "metadata": {
    "hidden": true
   },
   "outputs": [],
   "source": [
    "# Imagine we only have numerical data to scale\n",
    "X_train_num = X_train.select_dtypes(include=['int64']).values\n",
    "X_val_num = X_val.select_dtypes(include=['int64']).values\n",
    "X_test_num = X_test.select_dtypes(include=['int64']).values"
   ]
  },
  {
   "cell_type": "code",
   "execution_count": null,
   "metadata": {
    "hidden": true
   },
   "outputs": [],
   "source": [
    "from tensorflow.keras.layers.experimental.preprocessing import Normalization\n",
    "\n",
    "########NEW_CONCEPT########\n",
    "normalizer = Normalization() # Instantiate a \"normalizer\" layer\n",
    "normalizer.adapt(X_train_num) # \"Fit\" it on the train set\n",
    "###########################"
   ]
  },
  {
   "cell_type": "code",
   "execution_count": null,
   "metadata": {
    "hidden": true
   },
   "outputs": [],
   "source": [
    "model = Sequential()\n",
    "\n",
    "########NEW LAYER########\n",
    "model.add(normalizer) # Use it as first sequential step\n",
    "########################\n",
    "\n",
    "model.add(layers.Dense(32, activation='relu'))\n",
    "model.add(layers.Dropout(0.2))\n",
    "model.add(layers.Dense(15, activation='relu'))\n",
    "model.add(layers.Dropout(0.3))\n",
    "model.add(layers.Dense(1, activation='sigmoid'))\n",
    "\n",
    "# Compile model\n",
    "model.compile(loss='binary_crossentropy', \n",
    "              optimizer='adam', \n",
    "              metrics=['accuracy'])\n",
    "\n",
    "model.fit(X_train_num,\n",
    "          y_train,\n",
    "          validation_data=(X_val_num, y_val),\n",
    "          batch_size=64,\n",
    "          epochs=20, verbose=0)\n",
    "\n",
    "model.evaluate(X_test_num, y_test)"
   ]
  },
  {
   "cell_type": "markdown",
   "metadata": {
    "hidden": true
   },
   "source": [
    "### 🤯 if the preproc pipeline requires parallel column transformers, TF Sequential API `model.add(...)` is not enough "
   ]
  },
  {
   "attachments": {
    "image.png": {
     "image/png": "[encoded data removed]"
    }
   },
   "cell_type": "markdown",
   "metadata": {
    "hidden": true
   },
   "source": [
    "![image.png](attachment:image.png)"
   ]
  },
  {
   "cell_type": "markdown",
   "metadata": {
    "hidden": true
   },
   "source": [
    "☝️ You will need to use TF **Fonctional API** to produce a non-sequential Neural Network\n",
    "\n",
    "Don't worry: you **will** be able to learn how to build such models if you want.\n",
    "\n",
    "📚 [Google's Tutorial](https://www.tensorflow.org/tutorials/structured_data/preprocessing_layers) show you how to solve this exact PetFinder dataset with this method\n",
    "\n",
    "Non-sequential models look something like:"
   ]
  },
  {
   "cell_type": "markdown",
   "metadata": {
    "hidden": true
   },
   "source": [
    "```python\n",
    "# Numerical preprocessing model = function(X_numerical)\n",
    "model_numerical = ...  \n",
    "\n",
    "# Categorical preprocessing model = function(X_categorical)\n",
    "model_categorical = ...\n",
    "\n",
    "# Combined model\n",
    "all_features = layers.concatenate([model_numerical, model_categorical])\n",
    "\n",
    "# Then create the Dense network on the preprocessed features\n",
    "x = tf.keras.layers.Dense(8, activation=\"relu\")(all_features)\n",
    "x = tf.keras.layers.Dense(2, activation=\"relu\")(x)\n",
    "output = tf.keras.layers.Dense(1, activation=\"sigmoid\")(x)\n",
    "\n",
    "model = tf.keras.Model(all_inputs, output)\n",
    "\n",
    "model.compile(...)\n",
    "```"
   ]
  },
  {
   "cell_type": "markdown",
   "metadata": {
    "hidden": true
   },
   "source": [
    "<img src='https://github.com/lewagon/data-images/blob/master/DL/non_sequential_models.png?raw=true' width=400>"
   ]
  },
  {
   "cell_type": "markdown",
   "metadata": {},
   "source": [
    "# Part II. How to deal with heavy datasets?"
   ]
  },
  {
   "cell_type": "markdown",
   "metadata": {},
   "source": [
    "⚠️ Most Deep Learning project uses data **too heavy to be loaded on RAM entirely**  \n",
    "  Fortunately, we only have to train our network **batch per batch**!\n",
    "\n",
    "✅ Tensorflow provides a powerful [`tf.data.Dataset`]() class that help to deal with it data loading and processing batch-per-batch\n",
    "\n",
    "✅ Keras provides cool [`tf.keras.preprocessing`](https://www.tensorflow.org/api_docs/python/tf/keras/preprocessing) wrappers around this to avoid getting your hand too dirty:\n",
    "- `image_dataset_from_directory`\n",
    "- `text_dataset_from_directory`\n",
    "- `timeseries_dataset_from_array`\n",
    "\n",
    "Let's illustrate this with a heavy images datasets"
   ]
  },
  {
   "cell_type": "markdown",
   "metadata": {},
   "source": [
    "### 1. Save large files on a hard drive (local or cloud)"
   ]
  },
  {
   "cell_type": "markdown",
   "metadata": {},
   "source": [
    "❓ Run following cells (never mind the syntax)"
   ]
  },
  {
   "cell_type": "code",
   "execution_count": null,
   "metadata": {},
   "outputs": [],
   "source": [
    "! pip install -U --quiet tensorflow_datasets Pillow"
   ]
  },
  {
   "cell_type": "code",
   "execution_count": 50,
   "metadata": {},
   "outputs": [],
   "source": [
    "import numpy as np\n",
    "import os\n",
    "import PIL\n",
    "import PIL.Image\n",
    "import tensorflow as tf\n",
    "import tensorflow_datasets as tfds\n",
    "import pathlib\n",
    "import matplotlib.pyplot as plt"
   ]
  },
  {
   "cell_type": "code",
   "execution_count": 51,
   "metadata": {},
   "outputs": [
    {
     "name": "stdout",
     "output_type": "stream",
     "text": [
      "/Users/Hindi/.keras/datasets/flower_photos\n"
     ]
    },
    {
     "data": {
      "text/plain": [
       "PosixPath('/Users/Hindi/.keras/datasets/flower_photos')"
      ]
     },
     "execution_count": 51,
     "metadata": {},
     "output_type": "execute_result"
    }
   ],
   "source": [
    "# We download 229Mo of images\n",
    "\n",
    "dataset_url = \"https://storage.googleapis.com/download.tensorflow.org/example_images/flower_photos.tgz\"\n",
    "\n",
    "#returns path to the donwloaded file\n",
    "data_dir = tf.keras.utils.get_file(origin=dataset_url, \n",
    "                                   fname='flower_photos', #folder_name\n",
    "                                   untar=True) #decompress yourfile\n",
    "print(data_dir)\n",
    "#allows me to call functions on my path\n",
    "data_dir = pathlib.Path(data_dir)\n",
    "data_dir"
   ]
  },
  {
   "cell_type": "code",
   "execution_count": 52,
   "metadata": {},
   "outputs": [
    {
     "data": {
      "text/plain": [
       "pathlib.PosixPath"
      ]
     },
     "execution_count": 52,
     "metadata": {},
     "output_type": "execute_result"
    }
   ],
   "source": [
    "#show data_dir type\n",
    "type(data_dir)"
   ]
  },
  {
   "cell_type": "code",
   "execution_count": 53,
   "metadata": {},
   "outputs": [
    {
     "data": {
      "text/plain": [
       "PosixPath('/Users/Hindi/.keras/datasets/flower_photos')"
      ]
     },
     "execution_count": 53,
     "metadata": {},
     "output_type": "execute_result"
    }
   ],
   "source": [
    "# We just unzipped and saved all these file in the following folder \n",
    "data_dir"
   ]
  },
  {
   "cell_type": "code",
   "execution_count": 54,
   "metadata": {},
   "outputs": [
    {
     "name": "stdout",
     "output_type": "stream",
     "text": [
      "LICENSE.txt \u001b[1m\u001b[36mdaisy\u001b[m\u001b[m       \u001b[1m\u001b[36mdandelion\u001b[m\u001b[m   \u001b[1m\u001b[36mroses\u001b[m\u001b[m       \u001b[1m\u001b[36msunflowers\u001b[m\u001b[m  \u001b[1m\u001b[36mtulips\u001b[m\u001b[m\r\n"
     ]
    }
   ],
   "source": [
    "# Notice how each photo is saved in a different folder depending on its category\n",
    "! ls $data_dir"
   ]
  },
  {
   "cell_type": "code",
   "execution_count": 55,
   "metadata": {},
   "outputs": [
    {
     "name": "stdout",
     "output_type": "stream",
     "text": [
      " 39M\t/Users/Hindi/.keras/datasets/flower_photos/roses\n",
      " 54M\t/Users/Hindi/.keras/datasets/flower_photos/sunflowers\n",
      " 34M\t/Users/Hindi/.keras/datasets/flower_photos/daisy\n",
      " 48M\t/Users/Hindi/.keras/datasets/flower_photos/dandelion\n",
      " 54M\t/Users/Hindi/.keras/datasets/flower_photos/tulips\n",
      "229M\t/Users/Hindi/.keras/datasets/flower_photos\n"
     ]
    }
   ],
   "source": [
    "# In total we have 229Mo of files, compressed.\n",
    "# Imagine they were 50Go ? They couldn't fit in RAM\n",
    "#du command: gain disk usage information \n",
    "! du -h $data_dir"
   ]
  },
  {
   "cell_type": "code",
   "execution_count": 57,
   "metadata": {},
   "outputs": [
    {
     "data": {
      "text/plain": [
       "3670"
      ]
     },
     "execution_count": 57,
     "metadata": {},
     "output_type": "execute_result"
    }
   ],
   "source": [
    "# We have 3670 jpg images in 5 classes\n",
    "# data_dir.glob provides the url of different files\n",
    "#*/ access all folders\n",
    "#*.format access all files with the given format\n",
    "len(list(data_dir.glob('*/*.jpg')))"
   ]
  },
  {
   "cell_type": "code",
   "execution_count": null,
   "metadata": {},
   "outputs": [],
   "source": [
    "#How many flowers there are in daisy folder?"
   ]
  },
  {
   "cell_type": "code",
   "execution_count": 58,
   "metadata": {
    "collapsed": true
   },
   "outputs": [
    {
     "data": {
      "text/plain": [
       "[PosixPath('/Users/Hindi/.keras/datasets/flower_photos/sunflowers/6204049536_1ac4f09232_n.jpg'),\n",
       " PosixPath('/Users/Hindi/.keras/datasets/flower_photos/sunflowers/18828283553_e46504ae38.jpg'),\n",
       " PosixPath('/Users/Hindi/.keras/datasets/flower_photos/sunflowers/8021568040_f891223c44_n.jpg'),\n",
       " PosixPath('/Users/Hindi/.keras/datasets/flower_photos/sunflowers/4942258704_c4146b710a_n.jpg'),\n",
       " PosixPath('/Users/Hindi/.keras/datasets/flower_photos/sunflowers/5979668702_fdaec9e164_n.jpg'),\n",
       " PosixPath('/Users/Hindi/.keras/datasets/flower_photos/sunflowers/11881770944_22b4f2f8f6_n.jpg'),\n",
       " PosixPath('/Users/Hindi/.keras/datasets/flower_photos/sunflowers/8928614683_6c168edcfc.jpg'),\n",
       " PosixPath('/Users/Hindi/.keras/datasets/flower_photos/sunflowers/17148843706_df148301ac_n.jpg'),\n",
       " PosixPath('/Users/Hindi/.keras/datasets/flower_photos/sunflowers/14925398301_55a180f919_n.jpg'),\n",
       " PosixPath('/Users/Hindi/.keras/datasets/flower_photos/sunflowers/200557977_bf24d9550b.jpg'),\n",
       " PosixPath('/Users/Hindi/.keras/datasets/flower_photos/sunflowers/14889392928_9742aed45b_m.jpg'),\n",
       " PosixPath('/Users/Hindi/.keras/datasets/flower_photos/sunflowers/6953297_8576bf4ea3.jpg'),\n",
       " PosixPath('/Users/Hindi/.keras/datasets/flower_photos/sunflowers/58636535_bc53ef0a21_m.jpg'),\n",
       " PosixPath('/Users/Hindi/.keras/datasets/flower_photos/sunflowers/15460162172_014bcce403.jpg'),\n",
       " PosixPath('/Users/Hindi/.keras/datasets/flower_photos/sunflowers/5923085671_f81dd1cf6f.jpg'),\n",
       " PosixPath('/Users/Hindi/.keras/datasets/flower_photos/sunflowers/4271193206_666ef60aa0_m.jpg'),\n",
       " PosixPath('/Users/Hindi/.keras/datasets/flower_photos/sunflowers/4160805260_cf758daeae_n.jpg'),\n",
       " PosixPath('/Users/Hindi/.keras/datasets/flower_photos/sunflowers/14741866338_bdc8bfc8d5_n.jpg'),\n",
       " PosixPath('/Users/Hindi/.keras/datasets/flower_photos/sunflowers/4745991955_6804568ae0_n.jpg'),\n",
       " PosixPath('/Users/Hindi/.keras/datasets/flower_photos/sunflowers/9302733302_2cb92cf275.jpg'),\n",
       " PosixPath('/Users/Hindi/.keras/datasets/flower_photos/sunflowers/2307673262_e1e1aefd29.jpg'),\n",
       " PosixPath('/Users/Hindi/.keras/datasets/flower_photos/sunflowers/6141150299_b46a64e4de.jpg'),\n",
       " PosixPath('/Users/Hindi/.keras/datasets/flower_photos/sunflowers/14969295739_c132a08663_n.jpg'),\n",
       " PosixPath('/Users/Hindi/.keras/datasets/flower_photos/sunflowers/3568114325_d6b1363497.jpg'),\n",
       " PosixPath('/Users/Hindi/.keras/datasets/flower_photos/sunflowers/3846717708_ea11383ed8.jpg'),\n",
       " PosixPath('/Users/Hindi/.keras/datasets/flower_photos/sunflowers/1044296388_912143e1d4.jpg'),\n",
       " PosixPath('/Users/Hindi/.keras/datasets/flower_photos/sunflowers/2588234269_c4bfd0d8b9_n.jpg'),\n",
       " PosixPath('/Users/Hindi/.keras/datasets/flower_photos/sunflowers/1880606744_23e3dc4f6b_n.jpg'),\n",
       " PosixPath('/Users/Hindi/.keras/datasets/flower_photos/sunflowers/7603036176_9e8967cd21.jpg'),\n",
       " PosixPath('/Users/Hindi/.keras/datasets/flower_photos/sunflowers/23645265812_24352ff6bf.jpg'),\n",
       " PosixPath('/Users/Hindi/.keras/datasets/flower_photos/sunflowers/9564240106_0577e919da_n.jpg'),\n",
       " PosixPath('/Users/Hindi/.keras/datasets/flower_photos/sunflowers/4895721788_f10208ab77_n.jpg'),\n",
       " PosixPath('/Users/Hindi/.keras/datasets/flower_photos/sunflowers/3883895985_bd20198371.jpg'),\n",
       " PosixPath('/Users/Hindi/.keras/datasets/flower_photos/sunflowers/9655029591_7a77f87500.jpg'),\n",
       " PosixPath('/Users/Hindi/.keras/datasets/flower_photos/sunflowers/14741812319_e1d32ffb84_n.jpg'),\n",
       " PosixPath('/Users/Hindi/.keras/datasets/flower_photos/sunflowers/7791014076_07a897cb85_n.jpg'),\n",
       " PosixPath('/Users/Hindi/.keras/datasets/flower_photos/sunflowers/6606815161_3c4372760f.jpg'),\n",
       " PosixPath('/Users/Hindi/.keras/datasets/flower_photos/sunflowers/969913643_9d5cd2fe45_m.jpg'),\n",
       " PosixPath('/Users/Hindi/.keras/datasets/flower_photos/sunflowers/10386503264_e05387e1f7_m.jpg'),\n",
       " PosixPath('/Users/Hindi/.keras/datasets/flower_photos/sunflowers/15118397087_bfb7ea70d5_n.jpg'),\n",
       " PosixPath('/Users/Hindi/.keras/datasets/flower_photos/sunflowers/9431896325_23bf6e8761.jpg'),\n",
       " PosixPath('/Users/Hindi/.keras/datasets/flower_photos/sunflowers/4933229197_ff75a40d55.jpg'),\n",
       " PosixPath('/Users/Hindi/.keras/datasets/flower_photos/sunflowers/8174970894_7f9a26be7e.jpg'),\n",
       " PosixPath('/Users/Hindi/.keras/datasets/flower_photos/sunflowers/20777375650_ef854bf645.jpg'),\n",
       " PosixPath('/Users/Hindi/.keras/datasets/flower_photos/sunflowers/3951246342_930138610b_n.jpg'),\n",
       " PosixPath('/Users/Hindi/.keras/datasets/flower_photos/sunflowers/3838274225_36010c6254_n.jpg'),\n",
       " PosixPath('/Users/Hindi/.keras/datasets/flower_photos/sunflowers/4933823194_33f6e32c5a.jpg'),\n",
       " PosixPath('/Users/Hindi/.keras/datasets/flower_photos/sunflowers/20183071136_c297e74fcc_m.jpg'),\n",
       " PosixPath('/Users/Hindi/.keras/datasets/flower_photos/sunflowers/3146795631_d062f233c1.jpg'),\n",
       " PosixPath('/Users/Hindi/.keras/datasets/flower_photos/sunflowers/164671753_ab36d9cbb7_n.jpg'),\n",
       " PosixPath('/Users/Hindi/.keras/datasets/flower_photos/sunflowers/8174941335_56389b53e9_n.jpg'),\n",
       " PosixPath('/Users/Hindi/.keras/datasets/flower_photos/sunflowers/3897174387_07aac6bf5f_n.jpg'),\n",
       " PosixPath('/Users/Hindi/.keras/datasets/flower_photos/sunflowers/4186808407_06688641e2_n.jpg'),\n",
       " PosixPath('/Users/Hindi/.keras/datasets/flower_photos/sunflowers/9699724719_a8439cc0fd_n.jpg'),\n",
       " PosixPath('/Users/Hindi/.keras/datasets/flower_photos/sunflowers/184682320_73ccf74710.jpg'),\n",
       " PosixPath('/Users/Hindi/.keras/datasets/flower_photos/sunflowers/4895124535_11a2bb704c_m.jpg'),\n",
       " PosixPath('/Users/Hindi/.keras/datasets/flower_photos/sunflowers/7176736574_14446539cb_n.jpg'),\n",
       " PosixPath('/Users/Hindi/.keras/datasets/flower_photos/sunflowers/8478248531_1a16e232b5.jpg'),\n",
       " PosixPath('/Users/Hindi/.keras/datasets/flower_photos/sunflowers/5037531593_e2daf4c7f1.jpg'),\n",
       " PosixPath('/Users/Hindi/.keras/datasets/flower_photos/sunflowers/3514340206_efb8198a80_n.jpg'),\n",
       " PosixPath('/Users/Hindi/.keras/datasets/flower_photos/sunflowers/21349789961_18ba1af5b7_n.jpg'),\n",
       " PosixPath('/Users/Hindi/.keras/datasets/flower_photos/sunflowers/14472246629_72373111e6_m.jpg'),\n",
       " PosixPath('/Users/Hindi/.keras/datasets/flower_photos/sunflowers/7935826214_9b57628203_m.jpg'),\n",
       " PosixPath('/Users/Hindi/.keras/datasets/flower_photos/sunflowers/16975010069_7afd290657_m.jpg'),\n",
       " PosixPath('/Users/Hindi/.keras/datasets/flower_photos/sunflowers/5979669004_d9736206c9_n.jpg'),\n",
       " PosixPath('/Users/Hindi/.keras/datasets/flower_photos/sunflowers/7728953426_abd179ab63.jpg'),\n",
       " PosixPath('/Users/Hindi/.keras/datasets/flower_photos/sunflowers/27466794_57e4fe5656.jpg'),\n",
       " PosixPath('/Users/Hindi/.keras/datasets/flower_photos/sunflowers/14925397761_46ecfa24e0.jpg'),\n",
       " PosixPath('/Users/Hindi/.keras/datasets/flower_photos/sunflowers/23286304156_3635f7de05.jpg'),\n",
       " PosixPath('/Users/Hindi/.keras/datasets/flower_photos/sunflowers/1064662314_c5a7891b9f_m.jpg'),\n",
       " PosixPath('/Users/Hindi/.keras/datasets/flower_photos/sunflowers/2067882323_8de6623ffd.jpg'),\n",
       " PosixPath('/Users/Hindi/.keras/datasets/flower_photos/sunflowers/19453165201_2aa747e0bf.jpg'),\n",
       " PosixPath('/Users/Hindi/.keras/datasets/flower_photos/sunflowers/15054750690_198b6ab0f2_n.jpg'),\n",
       " PosixPath('/Users/Hindi/.keras/datasets/flower_photos/sunflowers/3196753837_411b03682d_n.jpg'),\n",
       " PosixPath('/Users/Hindi/.keras/datasets/flower_photos/sunflowers/13096076565_72c2c60875_n.jpg'),\n",
       " PosixPath('/Users/Hindi/.keras/datasets/flower_photos/sunflowers/29972905_4cc537ff4b_n.jpg'),\n",
       " PosixPath('/Users/Hindi/.keras/datasets/flower_photos/sunflowers/4110787181_f73f12d107_m.jpg'),\n",
       " PosixPath('/Users/Hindi/.keras/datasets/flower_photos/sunflowers/8929213942_5544191250_n.jpg'),\n",
       " PosixPath('/Users/Hindi/.keras/datasets/flower_photos/sunflowers/13648603305_1268eda8b7_n.jpg'),\n",
       " PosixPath('/Users/Hindi/.keras/datasets/flower_photos/sunflowers/4019748730_ee09b39a43.jpg'),\n",
       " PosixPath('/Users/Hindi/.keras/datasets/flower_photos/sunflowers/274848710_5185cf33b1_n.jpg'),\n",
       " PosixPath('/Users/Hindi/.keras/datasets/flower_photos/sunflowers/9339697826_88c9c4dc50.jpg'),\n",
       " PosixPath('/Users/Hindi/.keras/datasets/flower_photos/sunflowers/6061175433_95fdb12f32_n.jpg'),\n",
       " PosixPath('/Users/Hindi/.keras/datasets/flower_photos/sunflowers/15122112402_cafa41934f.jpg'),\n",
       " PosixPath('/Users/Hindi/.keras/datasets/flower_photos/sunflowers/184682920_97ae41ce60_m.jpg'),\n",
       " PosixPath('/Users/Hindi/.keras/datasets/flower_photos/sunflowers/9610371852_179e7781ce.jpg'),\n",
       " PosixPath('/Users/Hindi/.keras/datasets/flower_photos/sunflowers/9588522189_db6166f67f.jpg'),\n",
       " PosixPath('/Users/Hindi/.keras/datasets/flower_photos/sunflowers/3734999477_7f454081aa_n.jpg'),\n",
       " PosixPath('/Users/Hindi/.keras/datasets/flower_photos/sunflowers/4814106562_7c3564d2d9_n.jpg'),\n",
       " PosixPath('/Users/Hindi/.keras/datasets/flower_photos/sunflowers/7586498522_4dcab1c8d2_m.jpg'),\n",
       " PosixPath('/Users/Hindi/.keras/datasets/flower_photos/sunflowers/4818994715_9d90527d18_n.jpg'),\n",
       " PosixPath('/Users/Hindi/.keras/datasets/flower_photos/sunflowers/40410686_272bc66faf_m.jpg'),\n",
       " PosixPath('/Users/Hindi/.keras/datasets/flower_photos/sunflowers/15495578821_92c6d14252_n.jpg'),\n",
       " PosixPath('/Users/Hindi/.keras/datasets/flower_photos/sunflowers/8041242566_752def876e_n.jpg'),\n",
       " PosixPath('/Users/Hindi/.keras/datasets/flower_photos/sunflowers/9482209981_bf7bf6022b_m.jpg'),\n",
       " PosixPath('/Users/Hindi/.keras/datasets/flower_photos/sunflowers/20258015499_93b9951800_m.jpg'),\n",
       " PosixPath('/Users/Hindi/.keras/datasets/flower_photos/sunflowers/164670176_9f5b9c7965.jpg'),\n",
       " PosixPath('/Users/Hindi/.keras/datasets/flower_photos/sunflowers/19697910486_0086d893a2.jpg'),\n",
       " PosixPath('/Users/Hindi/.keras/datasets/flower_photos/sunflowers/7012366081_019c8a17a4_m.jpg'),\n",
       " PosixPath('/Users/Hindi/.keras/datasets/flower_photos/sunflowers/15054866898_60ee50ec6b_n.jpg'),\n",
       " PosixPath('/Users/Hindi/.keras/datasets/flower_photos/sunflowers/1314584013_fe935fdeb1_n.jpg'),\n",
       " PosixPath('/Users/Hindi/.keras/datasets/flower_photos/sunflowers/4816636411_0135bfe2c9_n.jpg'),\n",
       " PosixPath('/Users/Hindi/.keras/datasets/flower_photos/sunflowers/12471290635_1f9e3aae16_n.jpg'),\n",
       " PosixPath('/Users/Hindi/.keras/datasets/flower_photos/sunflowers/18843967474_9cb552716b.jpg'),\n",
       " PosixPath('/Users/Hindi/.keras/datasets/flower_photos/sunflowers/45045005_57354ee844.jpg'),\n",
       " PosixPath('/Users/Hindi/.keras/datasets/flower_photos/sunflowers/5738580862_e128192f75.jpg'),\n",
       " PosixPath('/Users/Hindi/.keras/datasets/flower_photos/sunflowers/5025805406_033cb03475_n.jpg'),\n",
       " PosixPath('/Users/Hindi/.keras/datasets/flower_photos/sunflowers/4869189730_f47c124cda_n.jpg'),\n",
       " PosixPath('/Users/Hindi/.keras/datasets/flower_photos/sunflowers/5357144886_b78f4782eb.jpg'),\n",
       " PosixPath('/Users/Hindi/.keras/datasets/flower_photos/sunflowers/9206376642_8348ba5c7a.jpg'),\n",
       " PosixPath('/Users/Hindi/.keras/datasets/flower_photos/sunflowers/14623720226_aeeac66e0a_n.jpg'),\n",
       " PosixPath('/Users/Hindi/.keras/datasets/flower_photos/sunflowers/9427945592_07a2676945_n.jpg'),\n",
       " PosixPath('/Users/Hindi/.keras/datasets/flower_photos/sunflowers/6606809995_edee55b770_m.jpg'),\n",
       " PosixPath('/Users/Hindi/.keras/datasets/flower_photos/sunflowers/4414084638_03d2db38ae.jpg'),\n",
       " PosixPath('/Users/Hindi/.keras/datasets/flower_photos/sunflowers/6140892289_92805cc590.jpg'),\n",
       " PosixPath('/Users/Hindi/.keras/datasets/flower_photos/sunflowers/2598973480_07de93e91d_n.jpg'),\n",
       " PosixPath('/Users/Hindi/.keras/datasets/flower_photos/sunflowers/13354458753_7b586f7c95_n.jpg'),\n",
       " PosixPath('/Users/Hindi/.keras/datasets/flower_photos/sunflowers/4933230991_d50c0f7c66.jpg'),\n",
       " PosixPath('/Users/Hindi/.keras/datasets/flower_photos/sunflowers/10862313945_e8ed9202d9_m.jpg'),\n",
       " PosixPath('/Users/Hindi/.keras/datasets/flower_photos/sunflowers/14955545254_324cd4ee75.jpg'),\n",
       " PosixPath('/Users/Hindi/.keras/datasets/flower_photos/sunflowers/877083343_e3338c4125.jpg'),\n",
       " PosixPath('/Users/Hindi/.keras/datasets/flower_photos/sunflowers/2619000556_6634478e64_n.jpg'),\n",
       " PosixPath('/Users/Hindi/.keras/datasets/flower_photos/sunflowers/4872892690_52dc25b0b4.jpg'),\n",
       " PosixPath('/Users/Hindi/.keras/datasets/flower_photos/sunflowers/4895721242_89014e723c_n.jpg'),\n",
       " PosixPath('/Users/Hindi/.keras/datasets/flower_photos/sunflowers/4890268276_563f40a193.jpg'),\n",
       " PosixPath('/Users/Hindi/.keras/datasets/flower_photos/sunflowers/15118243470_7e0a7f159c_n.jpg'),\n",
       " PosixPath('/Users/Hindi/.keras/datasets/flower_photos/sunflowers/15069459615_7e0fd61914_n.jpg'),\n",
       " PosixPath('/Users/Hindi/.keras/datasets/flower_photos/sunflowers/1419608016_707b887337_n.jpg'),\n",
       " PosixPath('/Users/Hindi/.keras/datasets/flower_photos/sunflowers/4414083164_3f285f8ac5.jpg'),\n",
       " PosixPath('/Users/Hindi/.keras/datasets/flower_photos/sunflowers/1022552036_67d33d5bd8_n.jpg'),\n",
       " PosixPath('/Users/Hindi/.keras/datasets/flower_photos/sunflowers/3001533700_1c62fb8b4a_n.jpg'),\n",
       " PosixPath('/Users/Hindi/.keras/datasets/flower_photos/sunflowers/6606820461_952c450f90_n.jpg'),\n",
       " PosixPath('/Users/Hindi/.keras/datasets/flower_photos/sunflowers/3334350831_f8755a2095_n.jpg'),\n",
       " PosixPath('/Users/Hindi/.keras/datasets/flower_photos/sunflowers/200557983_10a88672fc.jpg'),\n",
       " PosixPath('/Users/Hindi/.keras/datasets/flower_photos/sunflowers/184682506_8a9b8c662d.jpg'),\n",
       " PosixPath('/Users/Hindi/.keras/datasets/flower_photos/sunflowers/14144522269_bc20029375_m.jpg'),\n",
       " PosixPath('/Users/Hindi/.keras/datasets/flower_photos/sunflowers/19756232959_17cde3b9f0_m.jpg'),\n",
       " PosixPath('/Users/Hindi/.keras/datasets/flower_photos/sunflowers/5293283002_9b17f085f7_m.jpg'),\n",
       " PosixPath('/Users/Hindi/.keras/datasets/flower_photos/sunflowers/22405882322_d4561f8469_n.jpg'),\n",
       " PosixPath('/Users/Hindi/.keras/datasets/flower_photos/sunflowers/6482016439_b0d06dac04.jpg'),\n",
       " PosixPath('/Users/Hindi/.keras/datasets/flower_photos/sunflowers/6239758929_50e5e5a476_m.jpg'),\n",
       " PosixPath('/Users/Hindi/.keras/datasets/flower_photos/sunflowers/2927020075_54c9186797_n.jpg'),\n",
       " PosixPath('/Users/Hindi/.keras/datasets/flower_photos/sunflowers/14901528533_ac1ce09063.jpg'),\n",
       " PosixPath('/Users/Hindi/.keras/datasets/flower_photos/sunflowers/14925397651_97dcddc383_n.jpg'),\n",
       " PosixPath('/Users/Hindi/.keras/datasets/flower_photos/sunflowers/3912497888_e7a5905bc3_n.jpg'),\n",
       " PosixPath('/Users/Hindi/.keras/datasets/flower_photos/sunflowers/5970301989_fe3a68aac8_m.jpg'),\n",
       " PosixPath('/Users/Hindi/.keras/datasets/flower_photos/sunflowers/10386525005_fd0b7d6c55_n.jpg'),\n",
       " PosixPath('/Users/Hindi/.keras/datasets/flower_photos/sunflowers/2979297519_17a08b37f6_m.jpg'),\n",
       " PosixPath('/Users/Hindi/.keras/datasets/flower_photos/sunflowers/15030133005_9728102622_z.jpg'),\n",
       " PosixPath('/Users/Hindi/.keras/datasets/flower_photos/sunflowers/6866250080_ae80df0cd5_m.jpg'),\n",
       " PosixPath('/Users/Hindi/.keras/datasets/flower_photos/sunflowers/22992257000_76dbc599e7_m.jpg'),\n",
       " PosixPath('/Users/Hindi/.keras/datasets/flower_photos/sunflowers/6122711533_2c219f0392_n.jpg'),\n",
       " PosixPath('/Users/Hindi/.keras/datasets/flower_photos/sunflowers/4932144003_cbffc89bf0.jpg'),\n",
       " PosixPath('/Users/Hindi/.keras/datasets/flower_photos/sunflowers/5223643767_d8beb7e410.jpg'),\n",
       " PosixPath('/Users/Hindi/.keras/datasets/flower_photos/sunflowers/22686342422_c0b9e2f38e.jpg'),\n",
       " PosixPath('/Users/Hindi/.keras/datasets/flower_photos/sunflowers/4805544785_a63241f6d0_n.jpg'),\n",
       " PosixPath('/Users/Hindi/.keras/datasets/flower_photos/sunflowers/4933228903_9ae82d0b9d.jpg'),\n",
       " PosixPath('/Users/Hindi/.keras/datasets/flower_photos/sunflowers/4806174512_e04475b766_n.jpg'),\n",
       " PosixPath('/Users/Hindi/.keras/datasets/flower_photos/sunflowers/19519101829_46af0b4547_m.jpg'),\n",
       " PosixPath('/Users/Hindi/.keras/datasets/flower_photos/sunflowers/7820626738_3be6a52e4e_n.jpg'),\n",
       " PosixPath('/Users/Hindi/.keras/datasets/flower_photos/sunflowers/22405887122_75eda1872f_m.jpg'),\n",
       " PosixPath('/Users/Hindi/.keras/datasets/flower_photos/sunflowers/5069564563_ae03792c3c_m.jpg'),\n",
       " PosixPath('/Users/Hindi/.keras/datasets/flower_photos/sunflowers/4877195645_791c3a83b9_m.jpg'),\n",
       " PosixPath('/Users/Hindi/.keras/datasets/flower_photos/sunflowers/5927432662_3ffd2461c2_n.jpg'),\n",
       " PosixPath('/Users/Hindi/.keras/datasets/flower_photos/sunflowers/4813483281_f3707a71e7_n.jpg'),\n",
       " PosixPath('/Users/Hindi/.keras/datasets/flower_photos/sunflowers/9491955955_d0b2c83834.jpg'),\n",
       " PosixPath('/Users/Hindi/.keras/datasets/flower_photos/sunflowers/3784815653_5df39aa9c2_m.jpg'),\n",
       " PosixPath('/Users/Hindi/.keras/datasets/flower_photos/sunflowers/9558632814_e78a780f4f.jpg'),\n",
       " PosixPath('/Users/Hindi/.keras/datasets/flower_photos/sunflowers/3846907701_e13b66aa87.jpg'),\n",
       " PosixPath('/Users/Hindi/.keras/datasets/flower_photos/sunflowers/15207507116_8b7f894508_m.jpg'),\n",
       " PosixPath('/Users/Hindi/.keras/datasets/flower_photos/sunflowers/9381481549_5a5d503e42_n.jpg'),\n",
       " PosixPath('/Users/Hindi/.keras/datasets/flower_photos/sunflowers/17433282043_441b0a07f4_n.jpg'),\n",
       " PosixPath('/Users/Hindi/.keras/datasets/flower_photos/sunflowers/23247483352_0defc7a6dc_n.jpg'),\n",
       " PosixPath('/Users/Hindi/.keras/datasets/flower_photos/sunflowers/15238348741_c2fb12ecf2_m.jpg'),\n",
       " PosixPath('/Users/Hindi/.keras/datasets/flower_photos/sunflowers/5067864967_19928ca94c_m.jpg'),\n",
       " PosixPath('/Users/Hindi/.keras/datasets/flower_photos/sunflowers/4933229561_881d4673e7_m.jpg'),\n",
       " PosixPath('/Users/Hindi/.keras/datasets/flower_photos/sunflowers/1240624822_4111dde542.jpg'),\n",
       " PosixPath('/Users/Hindi/.keras/datasets/flower_photos/sunflowers/9825716455_f12bcc8d4e_n.jpg'),\n",
       " PosixPath('/Users/Hindi/.keras/datasets/flower_photos/sunflowers/20704967595_a9c9b8d431.jpg'),\n",
       " PosixPath('/Users/Hindi/.keras/datasets/flower_photos/sunflowers/8563099326_8be9177101.jpg'),\n",
       " PosixPath('/Users/Hindi/.keras/datasets/flower_photos/sunflowers/2588453601_66f2a03cca_n.jpg'),\n",
       " PosixPath('/Users/Hindi/.keras/datasets/flower_photos/sunflowers/5970868068_fe1c8b282e_n.jpg'),\n",
       " PosixPath('/Users/Hindi/.keras/datasets/flower_photos/sunflowers/1217254584_4b3028b93d.jpg'),\n",
       " PosixPath('/Users/Hindi/.keras/datasets/flower_photos/sunflowers/7012364067_5ffc7654c9_m.jpg'),\n",
       " PosixPath('/Users/Hindi/.keras/datasets/flower_photos/sunflowers/8265023280_713f2c69d0_m.jpg'),\n",
       " PosixPath('/Users/Hindi/.keras/datasets/flower_photos/sunflowers/15054752730_fcf54d475e_m.jpg'),\n",
       " PosixPath('/Users/Hindi/.keras/datasets/flower_photos/sunflowers/21984860006_20dfacea1c_m.jpg'),\n",
       " PosixPath('/Users/Hindi/.keras/datasets/flower_photos/sunflowers/310380634_60e6c79989.jpg'),\n",
       " PosixPath('/Users/Hindi/.keras/datasets/flower_photos/sunflowers/184682652_c927a49226_m.jpg'),\n",
       " PosixPath('/Users/Hindi/.keras/datasets/flower_photos/sunflowers/6198569587_23c3693328_m.jpg'),\n",
       " PosixPath('/Users/Hindi/.keras/datasets/flower_photos/sunflowers/215798354_429de28c2d.jpg'),\n",
       " PosixPath('/Users/Hindi/.keras/datasets/flower_photos/sunflowers/22255608949_172d7c8d22_m.jpg'),\n",
       " PosixPath('/Users/Hindi/.keras/datasets/flower_photos/sunflowers/5973935729_2868f2db1f_n.jpg'),\n",
       " PosixPath('/Users/Hindi/.keras/datasets/flower_photos/sunflowers/4933822272_79af205b94.jpg'),\n",
       " PosixPath('/Users/Hindi/.keras/datasets/flower_photos/sunflowers/21796333524_38fc8e0ab5_n.jpg'),\n",
       " PosixPath('/Users/Hindi/.keras/datasets/flower_photos/sunflowers/864957037_c75373d1c5.jpg'),\n",
       " PosixPath('/Users/Hindi/.keras/datasets/flower_photos/sunflowers/20753711039_0b11d24b50_n.jpg'),\n",
       " PosixPath('/Users/Hindi/.keras/datasets/flower_photos/sunflowers/2816503473_580306e772.jpg'),\n",
       " PosixPath('/Users/Hindi/.keras/datasets/flower_photos/sunflowers/5139969871_c9046bdaa7_n.jpg'),\n",
       " PosixPath('/Users/Hindi/.keras/datasets/flower_photos/sunflowers/23356825566_f5885875f2.jpg'),\n",
       " PosixPath('/Users/Hindi/.keras/datasets/flower_photos/sunflowers/5979111555_61b400c070_n.jpg'),\n",
       " PosixPath('/Users/Hindi/.keras/datasets/flower_photos/sunflowers/3950020811_dab89bebc0_n.jpg'),\n",
       " PosixPath('/Users/Hindi/.keras/datasets/flower_photos/sunflowers/15054865768_2cc87ac9d4_m.jpg'),\n",
       " PosixPath('/Users/Hindi/.keras/datasets/flower_photos/sunflowers/5020805135_1219d7523d.jpg'),\n",
       " PosixPath('/Users/Hindi/.keras/datasets/flower_photos/sunflowers/35477171_13cb52115c_n.jpg'),\n",
       " PosixPath('/Users/Hindi/.keras/datasets/flower_photos/sunflowers/40410814_fba3837226_n.jpg'),\n",
       " PosixPath('/Users/Hindi/.keras/datasets/flower_photos/sunflowers/164668737_aeab0cb55e_n.jpg'),\n",
       " PosixPath('/Users/Hindi/.keras/datasets/flower_photos/sunflowers/9481563239_01b585b41d_n.jpg'),\n",
       " PosixPath('/Users/Hindi/.keras/datasets/flower_photos/sunflowers/175638423_058c07afb9.jpg'),\n",
       " PosixPath('/Users/Hindi/.keras/datasets/flower_photos/sunflowers/9511172241_8aee411e2e.jpg'),\n",
       " PosixPath('/Users/Hindi/.keras/datasets/flower_photos/sunflowers/2721638730_34a9b7a78b.jpg'),\n",
       " PosixPath('/Users/Hindi/.keras/datasets/flower_photos/sunflowers/20972866151_e6a928b00a.jpg'),\n",
       " PosixPath('/Users/Hindi/.keras/datasets/flower_photos/sunflowers/4664767140_fe01231322_n.jpg'),\n",
       " PosixPath('/Users/Hindi/.keras/datasets/flower_photos/sunflowers/4625255191_26e17a28c9_n.jpg'),\n",
       " PosixPath('/Users/Hindi/.keras/datasets/flower_photos/sunflowers/147804446_ef9244c8ce_m.jpg'),\n",
       " PosixPath('/Users/Hindi/.keras/datasets/flower_photos/sunflowers/14121915990_4b76718077_m.jpg'),\n",
       " PosixPath('/Users/Hindi/.keras/datasets/flower_photos/sunflowers/4932735566_2327bf319a.jpg'),\n",
       " PosixPath('/Users/Hindi/.keras/datasets/flower_photos/sunflowers/3832945398_96509d192b.jpg'),\n",
       " PosixPath('/Users/Hindi/.keras/datasets/flower_photos/sunflowers/6908789145_814d448bb1_n.jpg'),\n",
       " PosixPath('/Users/Hindi/.keras/datasets/flower_photos/sunflowers/4746643626_02b2d056a2_n.jpg'),\n",
       " PosixPath('/Users/Hindi/.keras/datasets/flower_photos/sunflowers/4933229889_c5d9e36392.jpg'),\n",
       " PosixPath('/Users/Hindi/.keras/datasets/flower_photos/sunflowers/3798841385_38142ea3c6_n.jpg'),\n",
       " PosixPath('/Users/Hindi/.keras/datasets/flower_photos/sunflowers/8174972548_0051c2d431.jpg'),\n",
       " PosixPath('/Users/Hindi/.keras/datasets/flower_photos/sunflowers/8480886751_71d88bfdc0_n.jpg'),\n",
       " PosixPath('/Users/Hindi/.keras/datasets/flower_photos/sunflowers/193878348_43571127b9_n.jpg'),\n",
       " PosixPath('/Users/Hindi/.keras/datasets/flower_photos/sunflowers/1297092593_e573c0a3d6.jpg'),\n",
       " PosixPath('/Users/Hindi/.keras/datasets/flower_photos/sunflowers/20344366953_44fb51051b.jpg'),\n",
       " PosixPath('/Users/Hindi/.keras/datasets/flower_photos/sunflowers/20183028616_beb937e75c_m.jpg'),\n",
       " PosixPath('/Users/Hindi/.keras/datasets/flower_photos/sunflowers/8234846550_fdaf326dbe.jpg'),\n",
       " PosixPath('/Users/Hindi/.keras/datasets/flower_photos/sunflowers/3568925290_faf7aec3a0.jpg'),\n",
       " PosixPath('/Users/Hindi/.keras/datasets/flower_photos/sunflowers/7721658400_0dec46d225.jpg'),\n",
       " PosixPath('/Users/Hindi/.keras/datasets/flower_photos/sunflowers/8014734302_65c6e83bb4_m.jpg'),\n",
       " PosixPath('/Users/Hindi/.keras/datasets/flower_photos/sunflowers/19784656639_cd7f0a4a26_m.jpg'),\n",
       " PosixPath('/Users/Hindi/.keras/datasets/flower_photos/sunflowers/15054864508_0334b892be_m.jpg'),\n",
       " PosixPath('/Users/Hindi/.keras/datasets/flower_photos/sunflowers/4804434999_bf2187e96a_n.jpg'),\n",
       " PosixPath('/Users/Hindi/.keras/datasets/flower_photos/sunflowers/20342824594_9740b7b160.jpg'),\n",
       " PosixPath('/Users/Hindi/.keras/datasets/flower_photos/sunflowers/9484354480_07ff2ef0a6.jpg'),\n",
       " PosixPath('/Users/Hindi/.keras/datasets/flower_photos/sunflowers/20148493928_9f75a99783.jpg'),\n",
       " PosixPath('/Users/Hindi/.keras/datasets/flower_photos/sunflowers/6080086410_17a02dcfb8.jpg'),\n",
       " PosixPath('/Users/Hindi/.keras/datasets/flower_photos/sunflowers/15266715291_dfa3f1d49f_n.jpg'),\n",
       " PosixPath('/Users/Hindi/.keras/datasets/flower_photos/sunflowers/5043409092_5b12cc985a_m.jpg'),\n",
       " PosixPath('/Users/Hindi/.keras/datasets/flower_photos/sunflowers/9904127656_f76a5a4811_m.jpg'),\n",
       " PosixPath('/Users/Hindi/.keras/datasets/flower_photos/sunflowers/4846786944_2832c5c8b8.jpg'),\n",
       " PosixPath('/Users/Hindi/.keras/datasets/flower_photos/sunflowers/9535500195_543d0b729b.jpg'),\n",
       " PosixPath('/Users/Hindi/.keras/datasets/flower_photos/sunflowers/12471443383_b71e7a7480_m.jpg'),\n",
       " PosixPath('/Users/Hindi/.keras/datasets/flower_photos/sunflowers/2443095419_17b920d155_m.jpg'),\n",
       " PosixPath('/Users/Hindi/.keras/datasets/flower_photos/sunflowers/22755811033_cd17b109e0.jpg'),\n",
       " PosixPath('/Users/Hindi/.keras/datasets/flower_photos/sunflowers/4977385375_e271e282f9.jpg'),\n",
       " PosixPath('/Users/Hindi/.keras/datasets/flower_photos/sunflowers/2328600790_90e2942557_n.jpg'),\n",
       " PosixPath('/Users/Hindi/.keras/datasets/flower_photos/sunflowers/200557979_a16112aac1_n.jpg'),\n",
       " PosixPath('/Users/Hindi/.keras/datasets/flower_photos/sunflowers/8202034834_ee0ee91e04_n.jpg'),\n",
       " PosixPath('/Users/Hindi/.keras/datasets/flower_photos/sunflowers/6125761554_4e72819ce4_m.jpg'),\n",
       " PosixPath('/Users/Hindi/.keras/datasets/flower_photos/sunflowers/4848279231_c4960e28b2_n.jpg'),\n",
       " PosixPath('/Users/Hindi/.keras/datasets/flower_photos/sunflowers/8071460469_a7c2c34b97_n.jpg'),\n",
       " PosixPath('/Users/Hindi/.keras/datasets/flower_photos/sunflowers/4893660821_eb7f02bef3_n.jpg'),\n",
       " PosixPath('/Users/Hindi/.keras/datasets/flower_photos/sunflowers/2723995667_31f32294b4.jpg'),\n",
       " PosixPath('/Users/Hindi/.keras/datasets/flower_photos/sunflowers/418056361_1dfac1c151_n.jpg'),\n",
       " PosixPath('/Users/Hindi/.keras/datasets/flower_photos/sunflowers/15054865217_e398d0dc9f_n.jpg'),\n",
       " PosixPath('/Users/Hindi/.keras/datasets/flower_photos/sunflowers/10386522775_4f8c616999_m.jpg'),\n",
       " PosixPath('/Users/Hindi/.keras/datasets/flower_photos/sunflowers/4895122831_83db2ba2d0_n.jpg'),\n",
       " PosixPath('/Users/Hindi/.keras/datasets/flower_photos/sunflowers/4664737020_b4c61aacd3_n.jpg'),\n",
       " PosixPath('/Users/Hindi/.keras/datasets/flower_photos/sunflowers/2894191705_a1d2d80c80.jpg'),\n",
       " PosixPath('/Users/Hindi/.keras/datasets/flower_photos/sunflowers/5970869550_d7d9fabebd_n.jpg'),\n",
       " PosixPath('/Users/Hindi/.keras/datasets/flower_photos/sunflowers/4831577091_f56157a5d5_n.jpg'),\n",
       " PosixPath('/Users/Hindi/.keras/datasets/flower_photos/sunflowers/9410186154_465642ed35.jpg'),\n",
       " PosixPath('/Users/Hindi/.keras/datasets/flower_photos/sunflowers/7804213238_1d92ae5edb_m.jpg'),\n",
       " PosixPath('/Users/Hindi/.keras/datasets/flower_photos/sunflowers/2720698862_486d3ec079_m.jpg'),\n",
       " PosixPath('/Users/Hindi/.keras/datasets/flower_photos/sunflowers/14646280372_dd50be16e4_n.jpg'),\n",
       " PosixPath('/Users/Hindi/.keras/datasets/flower_photos/sunflowers/4940287066_385afd9c18_m.jpg'),\n",
       " PosixPath('/Users/Hindi/.keras/datasets/flower_photos/sunflowers/9610373748_b9cb67bd55.jpg'),\n",
       " PosixPath('/Users/Hindi/.keras/datasets/flower_photos/sunflowers/14741813010_5d44e33088_n.jpg'),\n",
       " PosixPath('/Users/Hindi/.keras/datasets/flower_photos/sunflowers/3922005347_7b6fb82fcd.jpg'),\n",
       " PosixPath('/Users/Hindi/.keras/datasets/flower_photos/sunflowers/15240466871_ec45b65554_m.jpg'),\n",
       " PosixPath('/Users/Hindi/.keras/datasets/flower_photos/sunflowers/3001531316_efae24d37d_n.jpg'),\n",
       " PosixPath('/Users/Hindi/.keras/datasets/flower_photos/sunflowers/1022552002_2b93faf9e7_n.jpg'),\n",
       " PosixPath('/Users/Hindi/.keras/datasets/flower_photos/sunflowers/9599534035_ae4df582b6.jpg'),\n",
       " PosixPath('/Users/Hindi/.keras/datasets/flower_photos/sunflowers/21134000558_d7d6c9b1fe_n.jpg'),\n",
       " PosixPath('/Users/Hindi/.keras/datasets/flower_photos/sunflowers/8081530919_c882d46bb0_n.jpg'),\n",
       " PosixPath('/Users/Hindi/.keras/datasets/flower_photos/sunflowers/4933824130_b99839a80d.jpg'),\n",
       " PosixPath('/Users/Hindi/.keras/datasets/flower_photos/sunflowers/14814264272_4b39a102f9_n.jpg'),\n",
       " PosixPath('/Users/Hindi/.keras/datasets/flower_photos/sunflowers/7270375648_79f0caef42_n.jpg'),\n",
       " PosixPath('/Users/Hindi/.keras/datasets/flower_photos/sunflowers/3154932076_eff5c38231_n.jpg'),\n",
       " PosixPath('/Users/Hindi/.keras/datasets/flower_photos/sunflowers/6265084065_7a8b30cc6e_n.jpg'),\n",
       " PosixPath('/Users/Hindi/.keras/datasets/flower_photos/sunflowers/14928117202_139d2142cc_n.jpg'),\n",
       " PosixPath('/Users/Hindi/.keras/datasets/flower_photos/sunflowers/215798357_3f4bfa27b7.jpg'),\n",
       " PosixPath('/Users/Hindi/.keras/datasets/flower_photos/sunflowers/3731075939_6c92d7fe68_m.jpg'),\n",
       " PosixPath('/Users/Hindi/.keras/datasets/flower_photos/sunflowers/14646283472_50a3ae1395.jpg'),\n",
       " PosixPath('/Users/Hindi/.keras/datasets/flower_photos/sunflowers/2733109082_1351f6738a_n.jpg'),\n",
       " PosixPath('/Users/Hindi/.keras/datasets/flower_photos/sunflowers/3766264038_ea701c7131_n.jpg'),\n",
       " PosixPath('/Users/Hindi/.keras/datasets/flower_photos/sunflowers/15241431045_65201cf15a_n.jpg'),\n",
       " PosixPath('/Users/Hindi/.keras/datasets/flower_photos/sunflowers/1043442695_4556c4c13d_n.jpg'),\n",
       " PosixPath('/Users/Hindi/.keras/datasets/flower_photos/sunflowers/15042911059_b6153d94e7_n.jpg'),\n",
       " PosixPath('/Users/Hindi/.keras/datasets/flower_photos/sunflowers/7857605684_fc86440c23.jpg'),\n",
       " PosixPath('/Users/Hindi/.keras/datasets/flower_photos/sunflowers/16143151468_4f3c033e33.jpg'),\n",
       " PosixPath('/Users/Hindi/.keras/datasets/flower_photos/sunflowers/6140661443_bb48344226.jpg'),\n",
       " PosixPath('/Users/Hindi/.keras/datasets/flower_photos/sunflowers/23204123212_ef32fbafbe.jpg'),\n",
       " PosixPath('/Users/Hindi/.keras/datasets/flower_photos/sunflowers/4933822422_4f54fc7cc8.jpg'),\n",
       " PosixPath('/Users/Hindi/.keras/datasets/flower_photos/sunflowers/15683877266_42e0fe3782_n.jpg'),\n",
       " PosixPath('/Users/Hindi/.keras/datasets/flower_photos/sunflowers/1244774242_25a20d99a9.jpg'),\n",
       " PosixPath('/Users/Hindi/.keras/datasets/flower_photos/sunflowers/20407896403_a50fef58ac_n.jpg'),\n",
       " PosixPath('/Users/Hindi/.keras/datasets/flower_photos/sunflowers/8368015811_2893411cf7_n.jpg'),\n",
       " PosixPath('/Users/Hindi/.keras/datasets/flower_photos/sunflowers/4933230395_7930697335_m.jpg'),\n",
       " PosixPath('/Users/Hindi/.keras/datasets/flower_photos/sunflowers/8038712786_5bdeed3c7f_m.jpg'),\n",
       " PosixPath('/Users/Hindi/.keras/datasets/flower_photos/sunflowers/4933823922_911ac40b0d.jpg'),\n",
       " PosixPath('/Users/Hindi/.keras/datasets/flower_photos/sunflowers/4746648726_e37a2de16d_n.jpg'),\n",
       " PosixPath('/Users/Hindi/.keras/datasets/flower_photos/sunflowers/6482016425_d8fab362f6.jpg'),\n",
       " PosixPath('/Users/Hindi/.keras/datasets/flower_photos/sunflowers/14460081668_eda8795693_m.jpg'),\n",
       " PosixPath('/Users/Hindi/.keras/datasets/flower_photos/sunflowers/2807106374_f422b5f00c.jpg'),\n",
       " PosixPath('/Users/Hindi/.keras/datasets/flower_photos/sunflowers/287233531_74d4605814_m.jpg'),\n",
       " PosixPath('/Users/Hindi/.keras/datasets/flower_photos/sunflowers/127192624_afa3d9cb84.jpg'),\n",
       " PosixPath('/Users/Hindi/.keras/datasets/flower_photos/sunflowers/5139971615_434ff8ed8b_n.jpg'),\n",
       " PosixPath('/Users/Hindi/.keras/datasets/flower_photos/sunflowers/5957007921_62333981d2_n.jpg'),\n",
       " PosixPath('/Users/Hindi/.keras/datasets/flower_photos/sunflowers/5042785753_392cc4e74d_n.jpg'),\n",
       " PosixPath('/Users/Hindi/.keras/datasets/flower_photos/sunflowers/13117907313_86c99c6441.jpg'),\n",
       " PosixPath('/Users/Hindi/.keras/datasets/flower_photos/sunflowers/16832961488_5f7e70eb5e_n.jpg'),\n",
       " PosixPath('/Users/Hindi/.keras/datasets/flower_photos/sunflowers/10386525695_2c38fea555_n.jpg'),\n",
       " PosixPath('/Users/Hindi/.keras/datasets/flower_photos/sunflowers/15745084272_36402f5ee6_n.jpg'),\n",
       " PosixPath('/Users/Hindi/.keras/datasets/flower_photos/sunflowers/9558628596_722c29ec60_m.jpg'),\n",
       " PosixPath('/Users/Hindi/.keras/datasets/flower_photos/sunflowers/15081164641_45a7b92b3a_m.jpg'),\n",
       " PosixPath('/Users/Hindi/.keras/datasets/flower_photos/sunflowers/3893436870_034b79d118_n.jpg'),\n",
       " PosixPath('/Users/Hindi/.keras/datasets/flower_photos/sunflowers/3848405800_8eea982c40.jpg'),\n",
       " PosixPath('/Users/Hindi/.keras/datasets/flower_photos/sunflowers/2767658405_1e2043f44c_n.jpg'),\n",
       " PosixPath('/Users/Hindi/.keras/datasets/flower_photos/sunflowers/5330608174_b49f7a4c48_m.jpg'),\n",
       " PosixPath('/Users/Hindi/.keras/datasets/flower_photos/sunflowers/9610374042_bb16cded3d.jpg'),\n",
       " PosixPath('/Users/Hindi/.keras/datasets/flower_photos/sunflowers/14925397351_c7f209d804_n.jpg'),\n",
       " PosixPath('/Users/Hindi/.keras/datasets/flower_photos/sunflowers/15380755137_a2e67839ab_m.jpg'),\n",
       " PosixPath('/Users/Hindi/.keras/datasets/flower_photos/sunflowers/14244410747_22691ece4a_n.jpg'),\n",
       " PosixPath('/Users/Hindi/.keras/datasets/flower_photos/sunflowers/4755075329_1fccc69d4e.jpg'),\n",
       " PosixPath('/Users/Hindi/.keras/datasets/flower_photos/sunflowers/265422922_bbbde781d2_m.jpg'),\n",
       " PosixPath('/Users/Hindi/.keras/datasets/flower_photos/sunflowers/15043962658_dcf9dff5e9_n.jpg'),\n",
       " PosixPath('/Users/Hindi/.keras/datasets/flower_photos/sunflowers/8929274876_17efc1774a_n.jpg'),\n",
       " PosixPath('/Users/Hindi/.keras/datasets/flower_photos/sunflowers/2443921986_d4582c123a.jpg'),\n",
       " PosixPath('/Users/Hindi/.keras/datasets/flower_photos/sunflowers/4933821940_38064522a8.jpg'),\n",
       " PosixPath('/Users/Hindi/.keras/datasets/flower_photos/sunflowers/2689228449_e0be72cf00_n.jpg'),\n",
       " PosixPath('/Users/Hindi/.keras/datasets/flower_photos/sunflowers/4623843480_23e3fb8dcc_n.jpg'),\n",
       " PosixPath('/Users/Hindi/.keras/datasets/flower_photos/sunflowers/1788133737_b1133d1aa7.jpg'),\n",
       " PosixPath('/Users/Hindi/.keras/datasets/flower_photos/sunflowers/2575272111_f04d79b9af_n.jpg'),\n",
       " PosixPath('/Users/Hindi/.keras/datasets/flower_photos/sunflowers/857698097_8068a2c135_n.jpg'),\n",
       " PosixPath('/Users/Hindi/.keras/datasets/flower_photos/sunflowers/9448615838_04078d09bf_n.jpg'),\n",
       " PosixPath('/Users/Hindi/.keras/datasets/flower_photos/sunflowers/9610098411_f1613c8e14.jpg'),\n",
       " PosixPath('/Users/Hindi/.keras/datasets/flower_photos/sunflowers/5043409856_395300dbe5_m.jpg'),\n",
       " PosixPath('/Users/Hindi/.keras/datasets/flower_photos/sunflowers/5028817729_f04d32bac8_n.jpg'),\n",
       " PosixPath('/Users/Hindi/.keras/datasets/flower_photos/sunflowers/18097401209_910a46fae1_n.jpg'),\n",
       " PosixPath('/Users/Hindi/.keras/datasets/flower_photos/sunflowers/7176729016_d73ff2211e.jpg'),\n",
       " PosixPath('/Users/Hindi/.keras/datasets/flower_photos/sunflowers/9485002920_59af6f4cac.jpg'),\n",
       " PosixPath('/Users/Hindi/.keras/datasets/flower_photos/sunflowers/20667988875_6e73ac2879_n.jpg'),\n",
       " PosixPath('/Users/Hindi/.keras/datasets/flower_photos/sunflowers/6053739964_a1d9ab3ed1_n.jpg'),\n",
       " PosixPath('/Users/Hindi/.keras/datasets/flower_photos/sunflowers/2442985637_8748180f69.jpg'),\n",
       " PosixPath('/Users/Hindi/.keras/datasets/flower_photos/sunflowers/6145005439_ef6e07f9c6_n.jpg'),\n",
       " PosixPath('/Users/Hindi/.keras/datasets/flower_photos/sunflowers/2949654221_909b0c86a1_n.jpg'),\n",
       " PosixPath('/Users/Hindi/.keras/datasets/flower_photos/sunflowers/14266917699_91b207888e.jpg'),\n",
       " PosixPath('/Users/Hindi/.keras/datasets/flower_photos/sunflowers/6104713425_8a3277e34a.jpg'),\n",
       " PosixPath('/Users/Hindi/.keras/datasets/flower_photos/sunflowers/4398771472_44f2a0c162_n.jpg'),\n",
       " PosixPath('/Users/Hindi/.keras/datasets/flower_photos/sunflowers/4042816698_578a1d599e.jpg'),\n",
       " PosixPath('/Users/Hindi/.keras/datasets/flower_photos/sunflowers/15218871222_c104032ca1.jpg'),\n",
       " PosixPath('/Users/Hindi/.keras/datasets/flower_photos/sunflowers/18972803569_1a0634f398_m.jpg'),\n",
       " PosixPath('/Users/Hindi/.keras/datasets/flower_photos/sunflowers/5970300143_36b42437de_n.jpg'),\n",
       " PosixPath('/Users/Hindi/.keras/datasets/flower_photos/sunflowers/14921668662_3ffc5b9db3_n.jpg'),\n",
       " PosixPath('/Users/Hindi/.keras/datasets/flower_photos/sunflowers/22416421196_caf131c9fa_m.jpg'),\n",
       " PosixPath('/Users/Hindi/.keras/datasets/flower_photos/sunflowers/4528959364_fa544b0f4e_m.jpg'),\n",
       " PosixPath('/Users/Hindi/.keras/datasets/flower_photos/sunflowers/15973657966_d6f6005539_n.jpg'),\n",
       " PosixPath('/Users/Hindi/.keras/datasets/flower_photos/sunflowers/5951665793_8ae4807cbd_n.jpg'),\n",
       " PosixPath('/Users/Hindi/.keras/datasets/flower_photos/sunflowers/15122871130_6a7d0b4372_n.jpg'),\n",
       " PosixPath('/Users/Hindi/.keras/datasets/flower_photos/sunflowers/16656015339_2ccb7cd18d.jpg'),\n",
       " PosixPath('/Users/Hindi/.keras/datasets/flower_photos/sunflowers/45045003_30bbd0a142_m.jpg'),\n",
       " PosixPath('/Users/Hindi/.keras/datasets/flower_photos/sunflowers/15493195788_60530f2398_m.jpg'),\n",
       " PosixPath('/Users/Hindi/.keras/datasets/flower_photos/sunflowers/7176729812_7c053921fb_m.jpg'),\n",
       " PosixPath('/Users/Hindi/.keras/datasets/flower_photos/sunflowers/20022771089_3cc7e5086d_m.jpg'),\n",
       " PosixPath('/Users/Hindi/.keras/datasets/flower_photos/sunflowers/678714585_addc9aaaef.jpg'),\n",
       " PosixPath('/Users/Hindi/.keras/datasets/flower_photos/sunflowers/5556633113_0a04f5ed8a_n.jpg'),\n",
       " PosixPath('/Users/Hindi/.keras/datasets/flower_photos/sunflowers/15054864058_2edca122a9_n.jpg'),\n",
       " PosixPath('/Users/Hindi/.keras/datasets/flower_photos/sunflowers/9384867134_83af458a19_n.jpg'),\n",
       " PosixPath('/Users/Hindi/.keras/datasets/flower_photos/sunflowers/9610373158_5250bce6ac_n.jpg'),\n",
       " PosixPath('/Users/Hindi/.keras/datasets/flower_photos/sunflowers/4746638094_f5336788a0_n.jpg'),\n",
       " PosixPath('/Users/Hindi/.keras/datasets/flower_photos/sunflowers/20156280765_a6baea3176.jpg'),\n",
       " PosixPath('/Users/Hindi/.keras/datasets/flower_photos/sunflowers/9555827829_74e6f60f1d_m.jpg'),\n",
       " PosixPath('/Users/Hindi/.keras/datasets/flower_photos/sunflowers/50987813_7484bfbcdf.jpg'),\n",
       " PosixPath('/Users/Hindi/.keras/datasets/flower_photos/sunflowers/200011914_93f57ed68b.jpg'),\n",
       " PosixPath('/Users/Hindi/.keras/datasets/flower_photos/sunflowers/4933229479_c1708bd503.jpg'),\n",
       " PosixPath('/Users/Hindi/.keras/datasets/flower_photos/sunflowers/8192234807_fed4a46f1a_n.jpg'),\n",
       " PosixPath('/Users/Hindi/.keras/datasets/flower_photos/sunflowers/15108515192_f686dce398_n.jpg'),\n",
       " PosixPath('/Users/Hindi/.keras/datasets/flower_photos/sunflowers/8249000137_eddfffa380_n.jpg'),\n",
       " PosixPath('/Users/Hindi/.keras/datasets/flower_photos/sunflowers/7652532108_01ef94c476.jpg'),\n",
       " PosixPath('/Users/Hindi/.keras/datasets/flower_photos/sunflowers/197011740_21825de2bf.jpg'),\n",
       " PosixPath('/Users/Hindi/.keras/datasets/flower_photos/sunflowers/3596902268_049e33a2cb_n.jpg'),\n",
       " PosixPath('/Users/Hindi/.keras/datasets/flower_photos/sunflowers/1485456230_58d8e45e88.jpg'),\n",
       " PosixPath('/Users/Hindi/.keras/datasets/flower_photos/sunflowers/21518663809_3d69f5b995_n.jpg'),\n",
       " PosixPath('/Users/Hindi/.keras/datasets/flower_photos/sunflowers/20171662239_f69b6c12bd_n.jpg'),\n",
       " PosixPath('/Users/Hindi/.keras/datasets/flower_photos/sunflowers/4872284527_ff52128b97.jpg'),\n",
       " PosixPath('/Users/Hindi/.keras/datasets/flower_photos/sunflowers/4191299785_a4faca9b74_n.jpg'),\n",
       " PosixPath('/Users/Hindi/.keras/datasets/flower_photos/sunflowers/9240129413_f240ce7866_n.jpg'),\n",
       " PosixPath('/Users/Hindi/.keras/datasets/flower_photos/sunflowers/4932736136_0115955987.jpg'),\n",
       " PosixPath('/Users/Hindi/.keras/datasets/flower_photos/sunflowers/2979133707_84aab35b5d.jpg'),\n",
       " PosixPath('/Users/Hindi/.keras/datasets/flower_photos/sunflowers/3681233294_4f06cd8903.jpg'),\n",
       " PosixPath('/Users/Hindi/.keras/datasets/flower_photos/sunflowers/9461693602_710f20904f.jpg'),\n",
       " PosixPath('/Users/Hindi/.keras/datasets/flower_photos/sunflowers/4933823300_39fd4420b6.jpg'),\n",
       " PosixPath('/Users/Hindi/.keras/datasets/flower_photos/sunflowers/3062794421_295f8c2c4e.jpg'),\n",
       " PosixPath('/Users/Hindi/.keras/datasets/flower_photos/sunflowers/6606743797_c90c669757.jpg'),\n",
       " PosixPath('/Users/Hindi/.keras/datasets/flower_photos/sunflowers/15054751430_5af76f6096_n.jpg'),\n",
       " PosixPath('/Users/Hindi/.keras/datasets/flower_photos/sunflowers/8543642705_b841b0e5f6.jpg'),\n",
       " PosixPath('/Users/Hindi/.keras/datasets/flower_photos/sunflowers/4933229095_f7e4218b28.jpg'),\n",
       " PosixPath('/Users/Hindi/.keras/datasets/flower_photos/sunflowers/5032376020_2ed312306c.jpg'),\n",
       " PosixPath('/Users/Hindi/.keras/datasets/flower_photos/sunflowers/2706304885_4916102704_n.jpg'),\n",
       " PosixPath('/Users/Hindi/.keras/datasets/flower_photos/sunflowers/9216286162_6ceefdd1b4_m.jpg'),\n",
       " PosixPath('/Users/Hindi/.keras/datasets/flower_photos/sunflowers/8705462313_4458d64cd4.jpg'),\n",
       " PosixPath('/Users/Hindi/.keras/datasets/flower_photos/sunflowers/3912497870_a2f91c3a65_n.jpg'),\n",
       " PosixPath('/Users/Hindi/.keras/datasets/flower_photos/sunflowers/15472217046_2699b25584.jpg'),\n",
       " PosixPath('/Users/Hindi/.keras/datasets/flower_photos/sunflowers/1240626292_52cd5d7fb1_m.jpg'),\n",
       " PosixPath('/Users/Hindi/.keras/datasets/flower_photos/sunflowers/24459548_27a783feda.jpg'),\n",
       " PosixPath('/Users/Hindi/.keras/datasets/flower_photos/sunflowers/3466923719_b4b6df7f8b_n.jpg'),\n",
       " PosixPath('/Users/Hindi/.keras/datasets/flower_photos/sunflowers/5526324308_b333da0e57_n.jpg'),\n",
       " PosixPath('/Users/Hindi/.keras/datasets/flower_photos/sunflowers/15123604714_dd034a4a3b_n.jpg'),\n",
       " PosixPath('/Users/Hindi/.keras/datasets/flower_photos/sunflowers/6199086734_b7ddc65816_m.jpg'),\n",
       " PosixPath('/Users/Hindi/.keras/datasets/flower_photos/sunflowers/5994569021_749d5e2da3_n.jpg'),\n",
       " PosixPath('/Users/Hindi/.keras/datasets/flower_photos/sunflowers/235651658_a7b3e7cbdd.jpg'),\n",
       " PosixPath('/Users/Hindi/.keras/datasets/flower_photos/sunflowers/4746668678_0e2693b1b9_n.jpg'),\n",
       " PosixPath('/Users/Hindi/.keras/datasets/flower_photos/sunflowers/6958724008_12259943a7.jpg'),\n",
       " PosixPath('/Users/Hindi/.keras/datasets/flower_photos/sunflowers/15241052342_466b38b68d.jpg'),\n",
       " PosixPath('/Users/Hindi/.keras/datasets/flower_photos/sunflowers/19915160340_ec904edbdf_n.jpg'),\n",
       " PosixPath('/Users/Hindi/.keras/datasets/flower_photos/sunflowers/10386540696_0a95ee53a8_n.jpg'),\n",
       " PosixPath('/Users/Hindi/.keras/datasets/flower_photos/sunflowers/4932735362_6e1017140f.jpg'),\n",
       " PosixPath('/Users/Hindi/.keras/datasets/flower_photos/sunflowers/6198569425_e953b9e6cc_m.jpg'),\n",
       " PosixPath('/Users/Hindi/.keras/datasets/flower_photos/sunflowers/5437996076_cf7e2ac32e_n.jpg'),\n",
       " PosixPath('/Users/Hindi/.keras/datasets/flower_photos/sunflowers/23894449029_bf0f34d35d_n.jpg'),\n",
       " PosixPath('/Users/Hindi/.keras/datasets/flower_photos/sunflowers/4932736308_827012cff2.jpg'),\n",
       " PosixPath('/Users/Hindi/.keras/datasets/flower_photos/sunflowers/184682095_46f8607278.jpg'),\n",
       " PosixPath('/Users/Hindi/.keras/datasets/flower_photos/sunflowers/2944298800_1984bd4f8a_m.jpg'),\n",
       " PosixPath('/Users/Hindi/.keras/datasets/flower_photos/sunflowers/5955500463_6c08cb199e.jpg'),\n",
       " PosixPath('/Users/Hindi/.keras/datasets/flower_photos/sunflowers/5917253022_4e3142d48b_n.jpg'),\n",
       " PosixPath('/Users/Hindi/.keras/datasets/flower_photos/sunflowers/20406385204_469f6749e2_n.jpg'),\n",
       " PosixPath('/Users/Hindi/.keras/datasets/flower_photos/sunflowers/4235259239_21f2eb4f2e.jpg'),\n",
       " PosixPath('/Users/Hindi/.keras/datasets/flower_photos/sunflowers/13959937305_2f5c532886_n.jpg'),\n",
       " PosixPath('/Users/Hindi/.keras/datasets/flower_photos/sunflowers/5998488415_a6bacd9f83.jpg'),\n",
       " PosixPath('/Users/Hindi/.keras/datasets/flower_photos/sunflowers/14741907467_fab96f3b2b_n.jpg'),\n",
       " PosixPath('/Users/Hindi/.keras/datasets/flower_photos/sunflowers/7581713708_8eae6794f2.jpg'),\n",
       " PosixPath('/Users/Hindi/.keras/datasets/flower_photos/sunflowers/7510240282_87554c7418_n.jpg'),\n",
       " PosixPath('/Users/Hindi/.keras/datasets/flower_photos/sunflowers/20658775992_1619cd0a9b_n.jpg'),\n",
       " PosixPath('/Users/Hindi/.keras/datasets/flower_photos/sunflowers/22429146402_332fa2fc72_m.jpg'),\n",
       " PosixPath('/Users/Hindi/.keras/datasets/flower_photos/sunflowers/9216286876_289a4779f7.jpg'),\n",
       " PosixPath('/Users/Hindi/.keras/datasets/flower_photos/sunflowers/9558627290_353a14ba0b_m.jpg'),\n",
       " PosixPath('/Users/Hindi/.keras/datasets/flower_photos/sunflowers/3311874685_7b9ef10f7e_m.jpg'),\n",
       " PosixPath('/Users/Hindi/.keras/datasets/flower_photos/sunflowers/8174935717_d19367d502.jpg'),\n",
       " PosixPath('/Users/Hindi/.keras/datasets/flower_photos/sunflowers/14858674096_ed0fc1a130.jpg'),\n",
       " PosixPath('/Users/Hindi/.keras/datasets/flower_photos/sunflowers/10386702973_e74a34c806_n.jpg'),\n",
       " PosixPath('/Users/Hindi/.keras/datasets/flower_photos/sunflowers/3894586562_5dbbdc4354_n.jpg'),\n",
       " PosixPath('/Users/Hindi/.keras/datasets/flower_photos/sunflowers/14741813110_94964c39e2_n.jpg'),\n",
       " PosixPath('/Users/Hindi/.keras/datasets/flower_photos/sunflowers/5979111025_3bcae48ae6_n.jpg'),\n",
       " PosixPath('/Users/Hindi/.keras/datasets/flower_photos/sunflowers/9555824387_32b151e9b0_m.jpg'),\n",
       " PosixPath('/Users/Hindi/.keras/datasets/flower_photos/sunflowers/21821266773_7113d34c35_m.jpg'),\n",
       " PosixPath('/Users/Hindi/.keras/datasets/flower_photos/sunflowers/3683873444_be4a609c46.jpg'),\n",
       " PosixPath('/Users/Hindi/.keras/datasets/flower_photos/sunflowers/9445830851_e9a126fd1d_n.jpg'),\n",
       " PosixPath('/Users/Hindi/.keras/datasets/flower_photos/sunflowers/2996573407_5e473b9359.jpg'),\n",
       " PosixPath('/Users/Hindi/.keras/datasets/flower_photos/sunflowers/20621698991_dcb323911d.jpg'),\n",
       " PosixPath('/Users/Hindi/.keras/datasets/flower_photos/sunflowers/4745980581_a0b7585258_n.jpg'),\n",
       " PosixPath('/Users/Hindi/.keras/datasets/flower_photos/sunflowers/5896354497_6a19162741.jpg'),\n",
       " PosixPath('/Users/Hindi/.keras/datasets/flower_photos/sunflowers/6606746467_a668c8d417.jpg'),\n",
       " PosixPath('/Users/Hindi/.keras/datasets/flower_photos/sunflowers/5231868667_f0baa71feb_n.jpg'),\n",
       " PosixPath('/Users/Hindi/.keras/datasets/flower_photos/sunflowers/12282924083_fb80aa17d4_n.jpg'),\n",
       " PosixPath('/Users/Hindi/.keras/datasets/flower_photos/sunflowers/16988605969_570329ff20_n.jpg'),\n",
       " PosixPath('/Users/Hindi/.keras/datasets/flower_photos/sunflowers/2759796022_55bd47bfa2_n.jpg'),\n",
       " PosixPath('/Users/Hindi/.keras/datasets/flower_photos/sunflowers/14698136411_23bdcff7bf_n.jpg'),\n",
       " PosixPath('/Users/Hindi/.keras/datasets/flower_photos/sunflowers/15218421476_9d5f38e732_m.jpg'),\n",
       " PosixPath('/Users/Hindi/.keras/datasets/flower_photos/sunflowers/20905163782_312e2c3bda_n.jpg'),\n",
       " PosixPath('/Users/Hindi/.keras/datasets/flower_photos/sunflowers/4914793782_d0ea760791.jpg'),\n",
       " PosixPath('/Users/Hindi/.keras/datasets/flower_photos/sunflowers/12471791574_bb1be83df4.jpg'),\n",
       " PosixPath('/Users/Hindi/.keras/datasets/flower_photos/sunflowers/1379256773_bb2eb0d95b_n.jpg'),\n",
       " PosixPath('/Users/Hindi/.keras/datasets/flower_photos/sunflowers/4933824012_8cbfe606f6.jpg'),\n",
       " PosixPath('/Users/Hindi/.keras/datasets/flower_photos/sunflowers/26254755_1bfc494ef1_n.jpg'),\n",
       " PosixPath('/Users/Hindi/.keras/datasets/flower_photos/sunflowers/9431890901_cd11bda584_n.jpg'),\n",
       " PosixPath('/Users/Hindi/.keras/datasets/flower_photos/sunflowers/14646281372_5f13794b47.jpg'),\n",
       " PosixPath('/Users/Hindi/.keras/datasets/flower_photos/sunflowers/4080112931_cb20b3d51a_n.jpg'),\n",
       " PosixPath('/Users/Hindi/.keras/datasets/flower_photos/sunflowers/200288046_0032f322ff_n.jpg'),\n",
       " PosixPath('/Users/Hindi/.keras/datasets/flower_photos/sunflowers/14889779907_3d401bbac7_m.jpg'),\n",
       " PosixPath('/Users/Hindi/.keras/datasets/flower_photos/sunflowers/13095941995_9a66faa713_n.jpg'),\n",
       " PosixPath('/Users/Hindi/.keras/datasets/flower_photos/sunflowers/2823659190_afdabee45c.jpg'),\n",
       " PosixPath('/Users/Hindi/.keras/datasets/flower_photos/sunflowers/14925398441_107f3e0304_n.jpg'),\n",
       " PosixPath('/Users/Hindi/.keras/datasets/flower_photos/sunflowers/4895718876_0246882882_n.jpg'),\n",
       " PosixPath('/Users/Hindi/.keras/datasets/flower_photos/sunflowers/10386540106_1431e73086_m.jpg'),\n",
       " PosixPath('/Users/Hindi/.keras/datasets/flower_photos/sunflowers/9309473873_9d62b9082e.jpg'),\n",
       " PosixPath('/Users/Hindi/.keras/datasets/flower_photos/sunflowers/20871601265_daa4be4291_n.jpg'),\n",
       " PosixPath('/Users/Hindi/.keras/datasets/flower_photos/sunflowers/2940221732_3507f3e927_n.jpg'),\n",
       " PosixPath('/Users/Hindi/.keras/datasets/flower_photos/sunflowers/6116210027_61923f4b64.jpg'),\n",
       " PosixPath('/Users/Hindi/.keras/datasets/flower_photos/sunflowers/22203670478_9ec5c2700b_n.jpg'),\n",
       " PosixPath('/Users/Hindi/.keras/datasets/flower_photos/sunflowers/4895720722_8247f2015b_n.jpg'),\n",
       " PosixPath('/Users/Hindi/.keras/datasets/flower_photos/sunflowers/4927658421_7eed83bc95_m.jpg'),\n",
       " PosixPath('/Users/Hindi/.keras/datasets/flower_photos/sunflowers/15054866658_c1a6223403_m.jpg'),\n",
       " PosixPath('/Users/Hindi/.keras/datasets/flower_photos/sunflowers/4341530649_c17bbc5d01.jpg'),\n",
       " PosixPath('/Users/Hindi/.keras/datasets/flower_photos/sunflowers/3858508462_db2b9692d1.jpg'),\n",
       " PosixPath('/Users/Hindi/.keras/datasets/flower_photos/sunflowers/9651392844_77f90589ba_n.jpg'),\n",
       " PosixPath('/Users/Hindi/.keras/datasets/flower_photos/sunflowers/6606806621_5267acdd38.jpg'),\n",
       " PosixPath('/Users/Hindi/.keras/datasets/flower_photos/sunflowers/14397276020_49f9423614.jpg'),\n",
       " PosixPath('/Users/Hindi/.keras/datasets/flower_photos/sunflowers/5339004958_a0a6f385fd_m.jpg'),\n",
       " PosixPath('/Users/Hindi/.keras/datasets/flower_photos/sunflowers/9681915384_b3b646dc92_m.jpg'),\n",
       " PosixPath('/Users/Hindi/.keras/datasets/flower_photos/sunflowers/4878447831_e904c60cf8_n.jpg'),\n",
       " PosixPath('/Users/Hindi/.keras/datasets/flower_photos/sunflowers/4626721387_88f89d5cc9_n.jpg'),\n",
       " PosixPath('/Users/Hindi/.keras/datasets/flower_photos/sunflowers/6140693467_211a135b6d.jpg'),\n",
       " PosixPath('/Users/Hindi/.keras/datasets/flower_photos/sunflowers/821368661_4ab4343f5a.jpg'),\n",
       " PosixPath('/Users/Hindi/.keras/datasets/flower_photos/sunflowers/22429946721_e17a12cb39_n.jpg'),\n",
       " PosixPath('/Users/Hindi/.keras/datasets/flower_photos/sunflowers/4745985619_249078cafa_n.jpg'),\n",
       " PosixPath('/Users/Hindi/.keras/datasets/flower_photos/sunflowers/3749091071_c146b33c74_n.jpg'),\n",
       " PosixPath('/Users/Hindi/.keras/datasets/flower_photos/sunflowers/7820523050_76c8caa025.jpg'),\n",
       " PosixPath('/Users/Hindi/.keras/datasets/flower_photos/sunflowers/19359539074_d7e32e6616_n.jpg'),\n",
       " PosixPath('/Users/Hindi/.keras/datasets/flower_photos/sunflowers/14646279002_9cdf97be97_n.jpg'),\n",
       " PosixPath('/Users/Hindi/.keras/datasets/flower_photos/sunflowers/20410697750_c43973d1eb.jpg'),\n",
       " PosixPath('/Users/Hindi/.keras/datasets/flower_photos/sunflowers/5076821914_c21b58fd4c_m.jpg'),\n",
       " PosixPath('/Users/Hindi/.keras/datasets/flower_photos/sunflowers/5830614551_e460a1215c.jpg'),\n",
       " PosixPath('/Users/Hindi/.keras/datasets/flower_photos/sunflowers/20410533613_56da1cce7c.jpg'),\n",
       " PosixPath('/Users/Hindi/.keras/datasets/flower_photos/sunflowers/5923649444_a823e534e9.jpg'),\n",
       " PosixPath('/Users/Hindi/.keras/datasets/flower_photos/sunflowers/9399711558_7cb9547cd3_n.jpg'),\n",
       " PosixPath('/Users/Hindi/.keras/datasets/flower_photos/sunflowers/6074427492_1b5bab7848_n.jpg'),\n",
       " PosixPath('/Users/Hindi/.keras/datasets/flower_photos/sunflowers/5994572653_ea98afa3af_n.jpg'),\n",
       " PosixPath('/Users/Hindi/.keras/datasets/flower_photos/sunflowers/6606817351_10f6e43a09.jpg'),\n",
       " PosixPath('/Users/Hindi/.keras/datasets/flower_photos/sunflowers/4933229357_1c5cc03f65_m.jpg'),\n",
       " PosixPath('/Users/Hindi/.keras/datasets/flower_photos/sunflowers/5020805619_6c710793f7.jpg'),\n",
       " PosixPath('/Users/Hindi/.keras/datasets/flower_photos/sunflowers/5955475577_3d923874d9_n.jpg'),\n",
       " PosixPath('/Users/Hindi/.keras/datasets/flower_photos/sunflowers/4980406384_791774d953.jpg'),\n",
       " PosixPath('/Users/Hindi/.keras/datasets/flower_photos/sunflowers/4689061249_6498da5013.jpg'),\n",
       " PosixPath('/Users/Hindi/.keras/datasets/flower_photos/sunflowers/5955501969_e42f038a6f_n.jpg'),\n",
       " PosixPath('/Users/Hindi/.keras/datasets/flower_photos/sunflowers/4933230247_a0432f01da.jpg'),\n",
       " PosixPath('/Users/Hindi/.keras/datasets/flower_photos/sunflowers/4989952542_35f2cdd5e2_n.jpg'),\n",
       " PosixPath('/Users/Hindi/.keras/datasets/flower_photos/sunflowers/4895719476_bd3b6bd6fd_n.jpg'),\n",
       " PosixPath('/Users/Hindi/.keras/datasets/flower_photos/sunflowers/8481979626_98c9f88848_n.jpg'),\n",
       " PosixPath('/Users/Hindi/.keras/datasets/flower_photos/sunflowers/19442589512_e733cfea0f.jpg'),\n",
       " PosixPath('/Users/Hindi/.keras/datasets/flower_photos/sunflowers/2803725948_5fd1f2fc99_n.jpg'),\n",
       " PosixPath('/Users/Hindi/.keras/datasets/flower_photos/sunflowers/1267876087_a1b3c63dc9.jpg'),\n",
       " PosixPath('/Users/Hindi/.keras/datasets/flower_photos/sunflowers/6141199476_9b6d383fd9.jpg'),\n",
       " PosixPath('/Users/Hindi/.keras/datasets/flower_photos/sunflowers/18237156988_9ceb46a8de_n.jpg'),\n",
       " PosixPath('/Users/Hindi/.keras/datasets/flower_photos/sunflowers/9497774935_a7daec5433_n.jpg'),\n",
       " PosixPath('/Users/Hindi/.keras/datasets/flower_photos/sunflowers/27465811_9477c9d044.jpg'),\n",
       " PosixPath('/Users/Hindi/.keras/datasets/flower_photos/sunflowers/15054753070_4f6ae0e763_m.jpg'),\n",
       " PosixPath('/Users/Hindi/.keras/datasets/flower_photos/sunflowers/9359374034_21fb12d613_n.jpg'),\n",
       " PosixPath('/Users/Hindi/.keras/datasets/flower_photos/sunflowers/4847062576_bae870479c_n.jpg'),\n",
       " PosixPath('/Users/Hindi/.keras/datasets/flower_photos/sunflowers/5979111199_495884b578_n.jpg'),\n",
       " PosixPath('/Users/Hindi/.keras/datasets/flower_photos/sunflowers/5995136822_8e1eed76f5_n.jpg'),\n",
       " PosixPath('/Users/Hindi/.keras/datasets/flower_photos/sunflowers/9240005603_6a9b71dcea_n.jpg'),\n",
       " PosixPath('/Users/Hindi/.keras/datasets/flower_photos/sunflowers/5139977579_ea2dd6a322_m.jpg'),\n",
       " PosixPath('/Users/Hindi/.keras/datasets/flower_photos/sunflowers/5999024446_5721493894.jpg'),\n",
       " PosixPath('/Users/Hindi/.keras/datasets/flower_photos/sunflowers/39271782_b4335d09ae_n.jpg'),\n",
       " PosixPath('/Users/Hindi/.keras/datasets/flower_photos/sunflowers/2678588376_6ca64a4a54_n.jpg'),\n",
       " PosixPath('/Users/Hindi/.keras/datasets/flower_photos/sunflowers/201809908_0ef84bb351.jpg'),\n",
       " PosixPath('/Users/Hindi/.keras/datasets/flower_photos/sunflowers/7654774598_6b715a8d3e.jpg'),\n",
       " PosixPath('/Users/Hindi/.keras/datasets/flower_photos/sunflowers/3665455426_9cd1c3af4a_n.jpg'),\n",
       " PosixPath('/Users/Hindi/.keras/datasets/flower_photos/sunflowers/9460336948_6ae968be93.jpg'),\n",
       " PosixPath('/Users/Hindi/.keras/datasets/flower_photos/sunflowers/5139977423_d413b23fde_m.jpg'),\n",
       " PosixPath('/Users/Hindi/.keras/datasets/flower_photos/sunflowers/4673984698_6ec14d5b79.jpg'),\n",
       " PosixPath('/Users/Hindi/.keras/datasets/flower_photos/sunflowers/14646282112_447cc7d1f9.jpg'),\n",
       " PosixPath('/Users/Hindi/.keras/datasets/flower_photos/sunflowers/9213511121_836a458021_m.jpg'),\n",
       " PosixPath('/Users/Hindi/.keras/datasets/flower_photos/sunflowers/2960610406_b61930727f_n.jpg'),\n",
       " PosixPath('/Users/Hindi/.keras/datasets/flower_photos/sunflowers/3575811488_a31714472a.jpg'),\n",
       " PosixPath('/Users/Hindi/.keras/datasets/flower_photos/sunflowers/4414081772_8a0e8a1327.jpg'),\n",
       " PosixPath('/Users/Hindi/.keras/datasets/flower_photos/sunflowers/3815322974_52c12dbde3.jpg'),\n",
       " PosixPath('/Users/Hindi/.keras/datasets/flower_photos/sunflowers/21728822928_9f6817325a_n.jpg'),\n",
       " PosixPath('/Users/Hindi/.keras/datasets/flower_photos/sunflowers/6250692311_cb60c85ee9_n.jpg'),\n",
       " PosixPath('/Users/Hindi/.keras/datasets/flower_photos/sunflowers/5015462205_440898fe41_n.jpg'),\n",
       " PosixPath('/Users/Hindi/.keras/datasets/flower_photos/sunflowers/5923085891_27617463fe.jpg'),\n",
       " PosixPath('/Users/Hindi/.keras/datasets/flower_photos/sunflowers/19508264965_d1dfb565ea_n.jpg'),\n",
       " PosixPath('/Users/Hindi/.keras/datasets/flower_photos/sunflowers/1484598527_579a272f53.jpg'),\n",
       " PosixPath('/Users/Hindi/.keras/datasets/flower_photos/sunflowers/44079668_34dfee3da1_n.jpg'),\n",
       " PosixPath('/Users/Hindi/.keras/datasets/flower_photos/sunflowers/1240625276_fb3bd0c7b1.jpg'),\n",
       " PosixPath('/Users/Hindi/.keras/datasets/flower_photos/sunflowers/6166888942_7058198713_m.jpg'),\n",
       " PosixPath('/Users/Hindi/.keras/datasets/flower_photos/sunflowers/2950505226_529e013bf7_m.jpg'),\n",
       " PosixPath('/Users/Hindi/.keras/datasets/flower_photos/sunflowers/6495559397_61d01c0c57.jpg'),\n",
       " PosixPath('/Users/Hindi/.keras/datasets/flower_photos/sunflowers/5139977283_530c508603_n.jpg'),\n",
       " PosixPath('/Users/Hindi/.keras/datasets/flower_photos/sunflowers/40411100_7fbe10ec0f_n.jpg'),\n",
       " PosixPath('/Users/Hindi/.keras/datasets/flower_photos/sunflowers/6112510436_9fe06e695a_n.jpg'),\n",
       " PosixPath('/Users/Hindi/.keras/datasets/flower_photos/sunflowers/5037790727_57c527494f.jpg'),\n",
       " PosixPath('/Users/Hindi/.keras/datasets/flower_photos/sunflowers/19349582128_68a662075e_n.jpg'),\n",
       " PosixPath('/Users/Hindi/.keras/datasets/flower_photos/sunflowers/5139969631_743880e01d_n.jpg'),\n",
       " PosixPath('/Users/Hindi/.keras/datasets/flower_photos/sunflowers/15495579081_661cb260d1_n.jpg'),\n",
       " PosixPath('/Users/Hindi/.keras/datasets/flower_photos/sunflowers/2883115621_4837267ea1_m.jpg'),\n",
       " PosixPath('/Users/Hindi/.keras/datasets/flower_photos/sunflowers/15072973261_73e2912ef2_n.jpg'),\n",
       " PosixPath('/Users/Hindi/.keras/datasets/flower_photos/sunflowers/9497774249_7f5ae70927_m.jpg'),\n",
       " PosixPath('/Users/Hindi/.keras/datasets/flower_photos/sunflowers/15026703621_e15e9d55f0_n.jpg'),\n",
       " PosixPath('/Users/Hindi/.keras/datasets/flower_photos/sunflowers/210076535_80951bc5d5.jpg'),\n",
       " PosixPath('/Users/Hindi/.keras/datasets/flower_photos/sunflowers/8292914969_4a76608250_m.jpg'),\n",
       " PosixPath('/Users/Hindi/.keras/datasets/flower_photos/sunflowers/8014735546_3db46bb1fe_n.jpg'),\n",
       " PosixPath('/Users/Hindi/.keras/datasets/flower_photos/sunflowers/6606749757_b98a4ba403.jpg'),\n",
       " PosixPath('/Users/Hindi/.keras/datasets/flower_photos/sunflowers/5967283168_90dd4daf28_n.jpg'),\n",
       " PosixPath('/Users/Hindi/.keras/datasets/flower_photos/sunflowers/265450085_6e9f276e2e.jpg'),\n",
       " PosixPath('/Users/Hindi/.keras/datasets/flower_photos/sunflowers/6627521877_6e43fb3c49_m.jpg'),\n",
       " PosixPath('/Users/Hindi/.keras/datasets/flower_photos/sunflowers/2980154410_bffd7a3452_n.jpg'),\n",
       " PosixPath('/Users/Hindi/.keras/datasets/flower_photos/sunflowers/19710076021_f5bb162540.jpg'),\n",
       " PosixPath('/Users/Hindi/.keras/datasets/flower_photos/sunflowers/1008566138_6927679c8a.jpg'),\n",
       " PosixPath('/Users/Hindi/.keras/datasets/flower_photos/sunflowers/16616096711_12375a0260_n.jpg'),\n",
       " PosixPath('/Users/Hindi/.keras/datasets/flower_photos/sunflowers/20777358950_c63ea569a1.jpg'),\n",
       " PosixPath('/Users/Hindi/.keras/datasets/flower_photos/sunflowers/4821232343_7e0bcfbfdf_n.jpg'),\n",
       " PosixPath('/Users/Hindi/.keras/datasets/flower_photos/sunflowers/4755705724_976621a1e7.jpg'),\n",
       " PosixPath('/Users/Hindi/.keras/datasets/flower_photos/sunflowers/3840761441_7c648abf4d_n.jpg'),\n",
       " PosixPath('/Users/Hindi/.keras/datasets/flower_photos/sunflowers/7369484298_332f69bd88_n.jpg'),\n",
       " PosixPath('/Users/Hindi/.keras/datasets/flower_photos/sunflowers/193874852_fb633d8d00_n.jpg'),\n",
       " PosixPath('/Users/Hindi/.keras/datasets/flower_photos/sunflowers/4868595281_1e58083785.jpg'),\n",
       " PosixPath('/Users/Hindi/.keras/datasets/flower_photos/sunflowers/2694860538_b95d60122c_m.jpg'),\n",
       " PosixPath('/Users/Hindi/.keras/datasets/flower_photos/sunflowers/20344282483_05abb0b837.jpg'),\n",
       " PosixPath('/Users/Hindi/.keras/datasets/flower_photos/sunflowers/5027895361_ace3b731e5_n.jpg'),\n",
       " PosixPath('/Users/Hindi/.keras/datasets/flower_photos/sunflowers/6140808687_88df0fd733.jpg'),\n",
       " PosixPath('/Users/Hindi/.keras/datasets/flower_photos/sunflowers/8929288228_6795bcb1fe.jpg'),\n",
       " PosixPath('/Users/Hindi/.keras/datasets/flower_photos/sunflowers/8266310743_02095e782d_m.jpg'),\n",
       " PosixPath('/Users/Hindi/.keras/datasets/flower_photos/sunflowers/22183521655_56221bf2a4_n.jpg'),\n",
       " PosixPath('/Users/Hindi/.keras/datasets/flower_photos/sunflowers/5967284308_85714d8cf7_m.jpg'),\n",
       " PosixPath('/Users/Hindi/.keras/datasets/flower_photos/sunflowers/151898652_b5f1c70b98_n.jpg'),\n",
       " PosixPath('/Users/Hindi/.keras/datasets/flower_photos/sunflowers/19504937128_a4ae90fcbd_m.jpg'),\n",
       " PosixPath('/Users/Hindi/.keras/datasets/flower_photos/sunflowers/6606823367_e89dc52a95_n.jpg'),\n",
       " PosixPath('/Users/Hindi/.keras/datasets/flower_photos/sunflowers/4933230547_394f618009_m.jpg'),\n",
       " PosixPath('/Users/Hindi/.keras/datasets/flower_photos/sunflowers/274846229_990e976683_n.jpg'),\n",
       " PosixPath('/Users/Hindi/.keras/datasets/flower_photos/sunflowers/9783416751_b2a03920f7_n.jpg'),\n",
       " PosixPath('/Users/Hindi/.keras/datasets/flower_photos/sunflowers/5007598545_90e08e81c1_n.jpg'),\n",
       " PosixPath('/Users/Hindi/.keras/datasets/flower_photos/sunflowers/7820305664_82148f3bfb_n.jpg'),\n",
       " PosixPath('/Users/Hindi/.keras/datasets/flower_photos/sunflowers/18250039435_7654bc11be_n.jpg'),\n",
       " PosixPath('/Users/Hindi/.keras/datasets/flower_photos/sunflowers/20972862281_5367f4af88.jpg'),\n",
       " PosixPath('/Users/Hindi/.keras/datasets/flower_photos/sunflowers/184683023_737fec5b18.jpg'),\n",
       " PosixPath('/Users/Hindi/.keras/datasets/flower_photos/sunflowers/9111896677_ff0b6fa6f6_n.jpg'),\n",
       " PosixPath('/Users/Hindi/.keras/datasets/flower_photos/sunflowers/253586685_ee5b5f5232.jpg'),\n",
       " PosixPath('/Users/Hindi/.keras/datasets/flower_photos/sunflowers/4933822052_2dfef02517.jpg'),\n",
       " PosixPath('/Users/Hindi/.keras/datasets/flower_photos/sunflowers/2767688889_b176b0c3fb.jpg'),\n",
       " PosixPath('/Users/Hindi/.keras/datasets/flower_photos/sunflowers/1596293240_2d5b53495a_m.jpg'),\n",
       " PosixPath('/Users/Hindi/.keras/datasets/flower_photos/sunflowers/3865206264_5d81584bba.jpg'),\n",
       " PosixPath('/Users/Hindi/.keras/datasets/flower_photos/sunflowers/145303599_2627e23815_n.jpg'),\n",
       " PosixPath('/Users/Hindi/.keras/datasets/flower_photos/sunflowers/2729206569_9dd2b5a3ed.jpg'),\n",
       " PosixPath('/Users/Hindi/.keras/datasets/flower_photos/sunflowers/5018120483_cc0421b176_m.jpg'),\n",
       " PosixPath('/Users/Hindi/.keras/datasets/flower_photos/sunflowers/18766965343_9f42d4bedc_m.jpg'),\n",
       " PosixPath('/Users/Hindi/.keras/datasets/flower_photos/sunflowers/4489516263_e49fe82637_n.jpg'),\n",
       " PosixPath('/Users/Hindi/.keras/datasets/flower_photos/sunflowers/14348961225_09bd803317_n.jpg'),\n",
       " PosixPath('/Users/Hindi/.keras/datasets/flower_photos/sunflowers/19710925313_31682fa22b_m.jpg'),\n",
       " PosixPath('/Users/Hindi/.keras/datasets/flower_photos/sunflowers/14623719696_1bb7970208_n.jpg'),\n",
       " PosixPath('/Users/Hindi/.keras/datasets/flower_photos/sunflowers/5043404000_9bc16cb7e5_m.jpg'),\n",
       " PosixPath('/Users/Hindi/.keras/datasets/flower_photos/sunflowers/6606753075_72ee32aa30_m.jpg'),\n",
       " PosixPath('/Users/Hindi/.keras/datasets/flower_photos/sunflowers/15839183375_49bf4f75e8_m.jpg'),\n",
       " PosixPath('/Users/Hindi/.keras/datasets/flower_photos/sunflowers/15243175532_ac28c48e14_m.jpg'),\n",
       " PosixPath('/Users/Hindi/.keras/datasets/flower_photos/sunflowers/7176723954_e41618edc1_n.jpg'),\n",
       " PosixPath('/Users/Hindi/.keras/datasets/flower_photos/sunflowers/2425164088_4a5d2cdf21_n.jpg'),\n",
       " PosixPath('/Users/Hindi/.keras/datasets/flower_photos/sunflowers/21995435890_e5672244a4_m.jpg'),\n",
       " PosixPath('/Users/Hindi/.keras/datasets/flower_photos/sunflowers/164670455_29d8e02bbd_n.jpg'),\n",
       " PosixPath('/Users/Hindi/.keras/datasets/flower_photos/sunflowers/6050020905_881295ac72_n.jpg'),\n",
       " PosixPath('/Users/Hindi/.keras/datasets/flower_photos/sunflowers/3154932290_4bf43bd34f_n.jpg'),\n",
       " PosixPath('/Users/Hindi/.keras/datasets/flower_photos/sunflowers/18237215308_a158d49f28_n.jpg'),\n",
       " PosixPath('/Users/Hindi/.keras/datasets/flower_photos/sunflowers/40411019_526f3fc8d9_m.jpg'),\n",
       " PosixPath('/Users/Hindi/.keras/datasets/flower_photos/sunflowers/3749090865_b90f28a585_n.jpg'),\n",
       " PosixPath('/Users/Hindi/.keras/datasets/flower_photos/sunflowers/20481273479_d459834a3e_n.jpg'),\n",
       " PosixPath('/Users/Hindi/.keras/datasets/flower_photos/sunflowers/9056495873_66e351b17c_n.jpg'),\n",
       " PosixPath('/Users/Hindi/.keras/datasets/flower_photos/sunflowers/7820398908_4316bbba45.jpg'),\n",
       " PosixPath('/Users/Hindi/.keras/datasets/flower_photos/sunflowers/22478719251_276cb094f9_n.jpg'),\n",
       " PosixPath('/Users/Hindi/.keras/datasets/flower_photos/sunflowers/3594967811_697184b026_n.jpg'),\n",
       " PosixPath('/Users/Hindi/.keras/datasets/flower_photos/sunflowers/21374127408_5ffbe87bb2.jpg'),\n",
       " PosixPath('/Users/Hindi/.keras/datasets/flower_photos/sunflowers/5952223760_85972671d6_n.jpg'),\n",
       " PosixPath('/Users/Hindi/.keras/datasets/flower_photos/sunflowers/7510285306_ba8f80c382_n.jpg'),\n",
       " PosixPath('/Users/Hindi/.keras/datasets/flower_photos/sunflowers/9538283930_0faea083bb_n.jpg'),\n",
       " PosixPath('/Users/Hindi/.keras/datasets/flower_photos/sunflowers/14881304632_54a9dfb8be.jpg'),\n",
       " PosixPath('/Users/Hindi/.keras/datasets/flower_photos/sunflowers/2816256710_a2d3616fae.jpg'),\n",
       " PosixPath('/Users/Hindi/.keras/datasets/flower_photos/sunflowers/5966729883_67f4fede93.jpg'),\n",
       " PosixPath('/Users/Hindi/.keras/datasets/flower_photos/sunflowers/244074259_47ce6d3ef9.jpg'),\n",
       " PosixPath('/Users/Hindi/.keras/datasets/flower_photos/sunflowers/417251603_69f0ee57a9_m.jpg'),\n",
       " PosixPath('/Users/Hindi/.keras/datasets/flower_photos/sunflowers/24459750_eb49f6e4cb_m.jpg'),\n",
       " PosixPath('/Users/Hindi/.keras/datasets/flower_photos/sunflowers/2895404754_6d9f9416d7_n.jpg'),\n",
       " PosixPath('/Users/Hindi/.keras/datasets/flower_photos/sunflowers/4932143849_018486cbf7.jpg'),\n",
       " PosixPath('/Users/Hindi/.keras/datasets/flower_photos/sunflowers/6061177447_d8ce96aee0.jpg'),\n",
       " PosixPath('/Users/Hindi/.keras/datasets/flower_photos/sunflowers/9375675309_987d32f99e_n.jpg'),\n",
       " PosixPath('/Users/Hindi/.keras/datasets/flower_photos/sunflowers/3001536784_3bfd101b23_n.jpg'),\n",
       " PosixPath('/Users/Hindi/.keras/datasets/flower_photos/sunflowers/9231555352_d2dd8f8e68_m.jpg'),\n",
       " PosixPath('/Users/Hindi/.keras/datasets/flower_photos/sunflowers/7510262868_cf7d6f6f25_n.jpg'),\n",
       " PosixPath('/Users/Hindi/.keras/datasets/flower_photos/sunflowers/14932787983_d6e05f2434_m.jpg'),\n",
       " PosixPath('/Users/Hindi/.keras/datasets/flower_photos/sunflowers/4414080766_5116e8084e.jpg'),\n",
       " PosixPath('/Users/Hindi/.keras/datasets/flower_photos/sunflowers/14244273988_a7484f18b7_m.jpg'),\n",
       " PosixPath('/Users/Hindi/.keras/datasets/flower_photos/sunflowers/9558630626_52a1b7d702_m.jpg'),\n",
       " PosixPath('/Users/Hindi/.keras/datasets/flower_photos/sunflowers/1715303025_e7065327e2.jpg'),\n",
       " PosixPath('/Users/Hindi/.keras/datasets/flower_photos/sunflowers/5492906452_80943bfd04.jpg'),\n",
       " PosixPath('/Users/Hindi/.keras/datasets/flower_photos/sunflowers/2883115609_5a69357b5d_m.jpg'),\n",
       " PosixPath('/Users/Hindi/.keras/datasets/flower_photos/sunflowers/6606741847_f0198d83ff.jpg'),\n",
       " PosixPath('/Users/Hindi/.keras/datasets/flower_photos/sunflowers/20965412955_2c640b13bd.jpg'),\n",
       " PosixPath('/Users/Hindi/.keras/datasets/flower_photos/sunflowers/6606813305_c992231d29_m.jpg'),\n",
       " PosixPath('/Users/Hindi/.keras/datasets/flower_photos/sunflowers/22419079265_8902cddb7d_n.jpg'),\n",
       " PosixPath('/Users/Hindi/.keras/datasets/flower_photos/sunflowers/9432335346_e298e47713_n.jpg'),\n",
       " PosixPath('/Users/Hindi/.keras/datasets/flower_photos/sunflowers/18828277053_1493158b28.jpg'),\n",
       " PosixPath('/Users/Hindi/.keras/datasets/flower_photos/sunflowers/6042014768_b57f0bfc79_n.jpg'),\n",
       " PosixPath('/Users/Hindi/.keras/datasets/flower_photos/sunflowers/164672339_f2b5b164f6.jpg'),\n",
       " PosixPath('/Users/Hindi/.keras/datasets/flower_photos/sunflowers/7530313068_ddd2dc1f44_m.jpg'),\n",
       " PosixPath('/Users/Hindi/.keras/datasets/flower_photos/sunflowers/8174935013_b16626b49b.jpg'),\n",
       " PosixPath('/Users/Hindi/.keras/datasets/flower_photos/sunflowers/4871455214_8b5fb87ab6_n.jpg'),\n",
       " PosixPath('/Users/Hindi/.keras/datasets/flower_photos/sunflowers/14678298676_6db8831ee6_m.jpg'),\n",
       " PosixPath('/Users/Hindi/.keras/datasets/flower_photos/sunflowers/9483429732_5ae73eb672_n.jpg'),\n",
       " PosixPath('/Users/Hindi/.keras/datasets/flower_photos/sunflowers/200557981_f800fa1af9.jpg'),\n",
       " PosixPath('/Users/Hindi/.keras/datasets/flower_photos/sunflowers/2697194548_ec8f8de97c_n.jpg'),\n",
       " PosixPath('/Users/Hindi/.keras/datasets/flower_photos/sunflowers/19595718862_c68896370c_m.jpg'),\n",
       " PosixPath('/Users/Hindi/.keras/datasets/flower_photos/sunflowers/2706736074_b0fba20b3e.jpg'),\n",
       " PosixPath('/Users/Hindi/.keras/datasets/flower_photos/sunflowers/22183529245_ce13557515_m.jpg'),\n",
       " PosixPath('/Users/Hindi/.keras/datasets/flower_photos/sunflowers/215798352_184d8040d1.jpg'),\n",
       " PosixPath('/Users/Hindi/.keras/datasets/flower_photos/sunflowers/9246304620_768d1f54d7_n.jpg'),\n",
       " PosixPath('/Users/Hindi/.keras/datasets/flower_photos/sunflowers/12471441503_d188b5f31a_m.jpg'),\n",
       " PosixPath('/Users/Hindi/.keras/datasets/flower_photos/sunflowers/15191613243_82ee8e0fe8.jpg'),\n",
       " PosixPath('/Users/Hindi/.keras/datasets/flower_photos/sunflowers/16967372357_15b1b9a812_n.jpg'),\n",
       " PosixPath('/Users/Hindi/.keras/datasets/flower_photos/sunflowers/4933230161_12f3ee7587.jpg'),\n",
       " PosixPath('/Users/Hindi/.keras/datasets/flower_photos/sunflowers/40410963_3ac280f23a_n.jpg'),\n",
       " PosixPath('/Users/Hindi/.keras/datasets/flower_photos/sunflowers/6133988570_9dc778e622_m.jpg'),\n",
       " PosixPath('/Users/Hindi/.keras/datasets/flower_photos/sunflowers/8928658373_fdca5ff1b8.jpg'),\n",
       " PosixPath('/Users/Hindi/.keras/datasets/flower_photos/sunflowers/5994586159_1dd99d66b4_n.jpg'),\n",
       " PosixPath('/Users/Hindi/.keras/datasets/flower_photos/sunflowers/6495554833_86eb8faa8e_n.jpg'),\n",
       " PosixPath('/Users/Hindi/.keras/datasets/flower_photos/sunflowers/20078409301_aa8061bd0b_n.jpg'),\n",
       " PosixPath('/Users/Hindi/.keras/datasets/flower_photos/sunflowers/14460075029_5cd715bb72_m.jpg'),\n",
       " PosixPath('/Users/Hindi/.keras/datasets/flower_photos/sunflowers/5004121118_e9393e60d0_n.jpg'),\n",
       " PosixPath('/Users/Hindi/.keras/datasets/flower_photos/sunflowers/15066430311_fb57fa92b0_m.jpg')]"
      ]
     },
     "execution_count": 58,
     "metadata": {},
     "output_type": "execute_result"
    }
   ],
   "source": [
    "# Path of all images \n",
    "sunflowers = list(data_dir.glob('sunflowers/*.jpg'))\n",
    "sunflowers # list of path for all my flowers"
   ]
  },
  {
   "cell_type": "code",
   "execution_count": 59,
   "metadata": {},
   "outputs": [
    {
     "data": {
      "text/plain": [
       "'/Users/Hindi/.keras/datasets/flower_photos/sunflowers/14889392928_9742aed45b_m.jpg'"
      ]
     },
     "execution_count": 59,
     "metadata": {},
     "output_type": "execute_result"
    }
   ],
   "source": [
    "str(sunflowers[10])"
   ]
  },
  {
   "cell_type": "code",
   "execution_count": 61,
   "metadata": {},
   "outputs": [
    {
     "data": {
      "image/png": "[encoded data removed]",
      "text/plain": [
       "<PIL.JpegImagePlugin.JpegImageFile image mode=RGB size=180x240 at 0x1469FC910>"
      ]
     },
     "execution_count": 61,
     "metadata": {},
     "output_type": "execute_result"
    }
   ],
   "source": [
    "#str to convert PoxixPath object to a stringpath\n",
    "\n",
    "#Function to open images in jupyter\n",
    "PIL.Image.open(str(sunflowers[12]))"
   ]
  },
  {
   "cell_type": "markdown",
   "metadata": {},
   "source": [
    "### 2. Prepare to load images in RAM memory batch per batch "
   ]
  },
  {
   "cell_type": "markdown",
   "metadata": {},
   "source": [
    "We will use `image_dataset_from_directory`"
   ]
  },
  {
   "cell_type": "code",
   "execution_count": null,
   "metadata": {},
   "outputs": [],
   "source": [
    "from tensorflow.keras.preprocessing import image_dataset_from_directory"
   ]
  },
  {
   "cell_type": "code",
   "execution_count": 62,
   "metadata": {},
   "outputs": [
    {
     "name": "stdout",
     "output_type": "stream",
     "text": [
      "Found 3670 files belonging to 5 classes.\n"
     ]
    }
   ],
   "source": [
    "#Generates a `tf.data.Dataset` from image files in a directory\n",
    "\n",
    "#you need to provide a path containing images already classified in sub-folders\n",
    "ds = tf.keras.preprocessing.image_dataset_from_directory(\n",
    "  data_dir,\n",
    "  batch_size=32)"
   ]
  },
  {
   "cell_type": "markdown",
   "metadata": {},
   "source": [
    "☝️ Notice how it automatically labels data into the 5 class!\n",
    "- By default, `labels='inferred'` from the folder structure\n",
    "- You can pass a list of labels manually with a list integer"
   ]
  },
  {
   "cell_type": "code",
   "execution_count": 63,
   "metadata": {},
   "outputs": [
    {
     "data": {
      "text/plain": [
       "<BatchDataset shapes: ((None, 256, 256, 3), (None,)), types: (tf.float32, tf.int32)>"
      ]
     },
     "execution_count": 63,
     "metadata": {},
     "output_type": "execute_result"
    }
   ],
   "source": [
    "# `ds` is a `tf.data.Dataset` object of \"tuples\"\n",
    "ds"
   ]
  },
  {
   "cell_type": "code",
   "execution_count": 64,
   "metadata": {},
   "outputs": [
    {
     "data": {
      "text/plain": [
       "64"
      ]
     },
     "execution_count": 64,
     "metadata": {},
     "output_type": "execute_result"
    }
   ],
   "source": [
    "# Dataset contain no real data until they are iterated over \n",
    "import sys\n",
    "#Return the size of object in bytes.\n",
    "sys.getsizeof(ds)"
   ]
  },
  {
   "cell_type": "code",
   "execution_count": 65,
   "metadata": {},
   "outputs": [
    {
     "name": "stdout",
     "output_type": "stream",
     "text": [
      "(32, 256, 256, 3)\n",
      "(32,)\n"
     ]
    }
   ],
   "source": [
    "for (X_batch, y_batch)  in ds:\n",
    "    print(X_batch.shape)\n",
    "    print(y_batch.shape)\n",
    "    break # just show the first element"
   ]
  },
  {
   "cell_type": "code",
   "execution_count": 69,
   "metadata": {},
   "outputs": [
    {
     "data": {
      "text/plain": [
       "<matplotlib.image.AxesImage at 0x146c867d0>"
      ]
     },
     "execution_count": 69,
     "metadata": {},
     "output_type": "execute_result"
    },
    {
     "data": {
      "image/png": "[encoded data removed]",
      "text/plain": [
       "<Figure size 432x288 with 1 Axes>"
      ]
     },
     "metadata": {
      "needs_background": "light"
     },
     "output_type": "display_data"
    }
   ],
   "source": [
    "# check first image\n",
    "plt.imshow(X_batch[10]/255)"
   ]
  },
  {
   "cell_type": "markdown",
   "metadata": {},
   "source": [
    "`tf.data.Dataset` are just an abstraction that represents a sequence of elements. They allow to\n",
    "\n",
    "- Load elements batch-per-batch in memory\n",
    "- From different formats, storage places, etc...\n",
    "- Apply preprocessing on the fly (ex: shuffle, resize, and many many more)\n",
    "\n",
    "📚 [TF Guide on data](https://www.tensorflow.org/guide/data)"
   ]
  },
  {
   "cell_type": "markdown",
   "metadata": {},
   "source": [
    "### Train a model directly on a `Dataset`"
   ]
  },
  {
   "cell_type": "markdown",
   "metadata": {},
   "source": [
    "❓ Try to fit a very simple dense NN on `ds` \n",
    "\n",
    "- You can directly call `model.fit(ds, epochs=1)`\n",
    "- Your first layer should use `layers.Flatten` to flatten a (256,256,3) picture in into a (256 * 256 * 3,) vector so acceptable for Dense layers\n",
    "- You can use `loss='sparse_categorical_crossentropy'`: \"sparse_\" avoids one-hot-encoding the target with `to_categorical(y)`\n"
   ]
  },
  {
   "cell_type": "code",
   "execution_count": 70,
   "metadata": {
    "tags": [
     "challengify"
    ]
   },
   "outputs": [
    {
     "data": {
      "text/plain": [
       "TensorShape([32, 256, 256, 3])"
      ]
     },
     "execution_count": 70,
     "metadata": {},
     "output_type": "execute_result"
    }
   ],
   "source": [
    "X_batch.shape"
   ]
  },
  {
   "cell_type": "code",
   "execution_count": 71,
   "metadata": {
    "tags": [
     "delete"
    ]
   },
   "outputs": [
    {
     "data": {
      "text/plain": [
       "<tf.Tensor: shape=(32,), dtype=int32, numpy=\n",
       "array([1, 4, 4, 2, 4, 4, 2, 0, 1, 1, 0, 2, 3, 1, 1, 2, 0, 3, 3, 2, 4, 3,\n",
       "       2, 1, 2, 1, 1, 3, 2, 4, 3, 1], dtype=int32)>"
      ]
     },
     "execution_count": 71,
     "metadata": {},
     "output_type": "execute_result"
    }
   ],
   "source": [
    "y_batch"
   ]
  },
  {
   "cell_type": "code",
   "execution_count": 72,
   "metadata": {
    "tags": [
     "delete"
    ]
   },
   "outputs": [
    {
     "name": "stdout",
     "output_type": "stream",
     "text": [
      "Model: \"sequential_8\"\n",
      "_________________________________________________________________\n",
      "Layer (type)                 Output Shape              Param #   \n",
      "=================================================================\n",
      "flatten (Flatten)            (None, 196608)            0         \n",
      "_________________________________________________________________\n",
      "dense_24 (Dense)             (None, 16)                3145744   \n",
      "_________________________________________________________________\n",
      "dense_25 (Dense)             (None, 5)                 85        \n",
      "=================================================================\n",
      "Total params: 3,145,829\n",
      "Trainable params: 3,145,829\n",
      "Non-trainable params: 0\n",
      "_________________________________________________________________\n"
     ]
    }
   ],
   "source": [
    "# Let's try a dummy model, just to prove that it can fit\n",
    "model = Sequential()\n",
    "\n",
    "# flattens the picture first into (256*256*3,) vector so it can pass into a Dense layer\n",
    "model.add(layers.Flatten(input_shape=(256,256,3))) \n",
    "model.add(layers.Dense(16, activation='relu'))\n",
    "model.add(layers.Dense(5, activation='softmax'))\n",
    "model.summary()"
   ]
  },
  {
   "cell_type": "code",
   "execution_count": null,
   "metadata": {
    "tags": [
     "delete"
    ]
   },
   "outputs": [],
   "source": [
    "model.compile(\n",
    "  optimizer='adam',\n",
    "  loss='sparse_categorical_crossentropy', # \"sparse_\" allows to avoid one-hot-encoding the target\n",
    "  metrics=['accuracy'])\n",
    "\n",
    "model.fit(ds, epochs=1)"
   ]
  },
  {
   "cell_type": "markdown",
   "metadata": {},
   "source": [
    "💡 Accuracy is no better than random because such Dense model architecture is not fitted to the task\n",
    "\n",
    "In next session, we will use **convolutional neural networks (CNN)**"
   ]
  },
  {
   "cell_type": "markdown",
   "metadata": {
    "heading_collapsed": true
   },
   "source": [
    "### (bonus) Proper solution to the flower problem using CNN & early stopping"
   ]
  },
  {
   "cell_type": "code",
   "execution_count": null,
   "metadata": {
    "hidden": true
   },
   "outputs": [],
   "source": [
    "train_ds = image_dataset_from_directory(\n",
    "    data_dir,\n",
    "    validation_split=0.2,\n",
    "    subset=\"training\",\n",
    "    seed=123,\n",
    "    image_size=(64, 64), # resize on the fly\n",
    "    batch_size=32)\n",
    "\n",
    "val_ds = image_dataset_from_directory(\n",
    "    data_dir,\n",
    "    validation_split=0.2,\n",
    "    subset=\"validation\",\n",
    "    seed=123,\n",
    "    image_size=(64, 64), # resize on the fly\n",
    "    batch_size=32)"
   ]
  },
  {
   "cell_type": "code",
   "execution_count": null,
   "metadata": {
    "hidden": true
   },
   "outputs": [],
   "source": [
    "model = tf.keras.Sequential()\n",
    "model.add(layers.experimental.preprocessing.Rescaling(1. / 255))\n",
    "model.add(layers.Conv2D(32, 3, activation='relu'))\n",
    "model.add(layers.MaxPooling2D())\n",
    "model.add(layers.Conv2D(32, 3, activation='relu'))\n",
    "model.add(layers.MaxPooling2D())\n",
    "model.add(layers.Conv2D(32, 3, activation='relu'))\n",
    "model.add(layers.MaxPooling2D())\n",
    "model.add(layers.Flatten())\n",
    "model.add(layers.Dense(64, activation='relu'))\n",
    "model.add(layers.Dense(5, activation='softmax'))\n",
    "\n",
    "model.compile(optimizer='adam',\n",
    "              loss='sparse_categorical_crossentropy',\n",
    "              metrics=['accuracy'])\n",
    "\n",
    "model.fit(\n",
    "    train_ds,\n",
    "    validation_data=val_ds,\n",
    "    epochs=5,\n",
    "    callbacks=[EarlyStopping(patience=0)]\n",
    ")"
   ]
  },
  {
   "cell_type": "markdown",
   "metadata": {
    "hidden": true
   },
   "source": [
    "🏁 **Congratulation** 🏁"
   ]
  }
 ],
 "metadata": {
  "kernelspec": {
   "display_name": "Python 3",
   "language": "python",
   "name": "python3"
  },
  "language_info": {
   "codemirror_mode": {
    "name": "ipython",
    "version": 3
   },
   "file_extension": ".py",
   "mimetype": "text/x-python",
   "name": "python",
   "nbconvert_exporter": "python",
   "pygments_lexer": "ipython3",
   "version": "3.7.7"
  },
  "varInspector": {
   "cols": {
    "lenName": 16,
    "lenType": 16,
    "lenVar": 40
   },
   "kernels_config": {
    "python": {
     "delete_cmd_postfix": "",
     "delete_cmd_prefix": "del ",
     "library": "var_list.py",
     "varRefreshCmd": "print(var_dic_list())"
    },
    "r": {
     "delete_cmd_postfix": ") ",
     "delete_cmd_prefix": "rm(",
     "library": "var_list.r",
     "varRefreshCmd": "cat(var_dic_list()) "
    }
   },
   "types_to_exclude": [
    "module",
    "function",
    "builtin_function_or_method",
    "instance",
    "_Feature"
   ],
   "window_display": false
  }
 },
 "nbformat": 4,
 "nbformat_minor": 5
}
