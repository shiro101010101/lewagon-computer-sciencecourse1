{
  "cells": [
    {
      "cell_type": "markdown",
      "metadata": {
        "id": "mXqpb94jAJ0Z"
      },
      "source": [
        "# Your First RNN\n",
        "\n",
        "**Exercise objectives**:\n",
        "\n",
        "- Better understand temporal data\n",
        "- Build your first Recurrent Neural Network\n",
        "\n",
        "\n",
        "<hr>\n",
        "<hr>"
      ]
    },
    {
      "cell_type": "markdown",
      "metadata": {
        "id": "3FQNfXcxAJ0b"
      },
      "source": [
        "## 1. The data\n",
        "\n",
        "Let's start with simple sequences of observations:"
      ]
    },
    {
      "cell_type": "code",
      "source": [
        "from google.colab import drive\n",
        "drive.mount('/content/drive')"
      ],
      "metadata": {
        "colab": {
          "base_uri": "https://localhost:8080/"
        },
        "id": "JbsZZtHFAazu",
        "outputId": "daa2a544-77b3-4874-b854-9aad7bbe0b14"
      },
      "execution_count": 123,
      "outputs": [
        {
          "output_type": "stream",
          "name": "stdout",
          "text": [
            "Drive already mounted at /content/drive; to attempt to forcibly remount, call drive.mount(\"/content/drive\", force_remount=True).\n"
          ]
        }
      ]
    },
    {
      "cell_type": "code",
      "execution_count": 124,
      "metadata": {
        "id": "DKJGI8weAJ0c"
      },
      "outputs": [],
      "source": [
        "from tensorflow import keras\n",
        "import numpy as np\n",
        "import pandas as pd\n",
        "import matplotlib.pyplot as plt"
      ]
    },
    {
      "cell_type": "code",
      "source": [
        "import os"
      ],
      "metadata": {
        "id": "WsMOxZPuBJ7Q"
      },
      "execution_count": 125,
      "outputs": []
    },
    {
      "cell_type": "code",
      "source": [
        "!pwd"
      ],
      "metadata": {
        "colab": {
          "base_uri": "https://localhost:8080/"
        },
        "id": "0RSD24dOD-wS",
        "outputId": "848d33a4-1b77-4d9d-e3cb-220d7f3e35eb"
      },
      "execution_count": 126,
      "outputs": [
        {
          "output_type": "stream",
          "name": "stdout",
          "text": [
            "/content/drive/My Drive/Colab Notebooks/Lewagon deeplearning/04-Recurrent-Neural-Networks/01-Your-first-RNN\n"
          ]
        }
      ]
    },
    {
      "cell_type": "code",
      "source": [
        "os.chdir(\"/content/drive/MyDrive/Colab Notebooks/Lewagon deeplearning/04-Recurrent-Neural-Networks/01-Your-first-RNN\")"
      ],
      "metadata": {
        "id": "kCt5U60kED0t"
      },
      "execution_count": 127,
      "outputs": []
    },
    {
      "cell_type": "code",
      "execution_count": 128,
      "metadata": {
        "id": "IBUsw7XEAJ0c"
      },
      "outputs": [],
      "source": [
        "X = np.load('X.npy')\n",
        "y = np.load('y.npy')"
      ]
    },
    {
      "cell_type": "code",
      "source": [
        "X"
      ],
      "metadata": {
        "colab": {
          "base_uri": "https://localhost:8080/"
        },
        "id": "uiPOWPUiNW6N",
        "outputId": "018c75ab-2453-4fd4-d2a9-d1046721aeaf"
      },
      "execution_count": 129,
      "outputs": [
        {
          "output_type": "execute_result",
          "data": {
            "text/plain": [
              "array([[[8.0299997e-01, 1.0728925e+01, 1.0200000e+02],\n",
              "        [5.0000000e-01, 1.0728925e+01, 1.0200000e+02],\n",
              "        [6.0299999e-01, 1.0728925e+01, 1.0200000e+02],\n",
              "        ...,\n",
              "        [4.8699999e+00, 3.2000000e+01, 1.0800000e+02],\n",
              "        [4.9730000e+00, 3.3000000e+01, 1.0800000e+02],\n",
              "        [5.1989999e+00, 3.9000000e+01, 1.0800000e+02]],\n",
              "\n",
              "       [[1.5300000e+00, 1.5000000e+01, 4.8000000e+01],\n",
              "        [1.6820000e+00, 1.6000000e+01, 4.8000000e+01],\n",
              "        [1.8800000e+00, 2.8000000e+01, 4.8000000e+01],\n",
              "        ...,\n",
              "        [6.4330001e+00, 4.7000000e+01, 4.8000000e+01],\n",
              "        [6.5619998e+00, 4.7000000e+01, 4.8000000e+01],\n",
              "        [6.7290001e+00, 4.7000000e+01, 4.8000000e+01]],\n",
              "\n",
              "       [[2.1010001e+00, 6.6484495e-06, 5.0000000e+01],\n",
              "        [2.1530001e+00, 6.6484495e-06, 5.0000000e+01],\n",
              "        [2.2090001e+00, 6.6484495e-06, 5.0000000e+01],\n",
              "        ...,\n",
              "        [2.7200000e+00, 0.0000000e+00, 1.0000000e+00],\n",
              "        [2.8350000e+00, 0.0000000e+00, 1.0000000e+00],\n",
              "        [2.9460001e+00, 0.0000000e+00, 1.0000000e+00]],\n",
              "\n",
              "       ...,\n",
              "\n",
              "       [[1.2370000e+00, 0.0000000e+00, 3.0000000e+00],\n",
              "        [1.2680000e+00, 0.0000000e+00, 3.0000000e+00],\n",
              "        [1.2580000e+00, 0.0000000e+00, 3.0000000e+00],\n",
              "        ...,\n",
              "        [1.8730000e+00, 1.0000000e+00, 1.4000000e+01],\n",
              "        [1.9950000e+00, 1.0000000e+00, 1.9000000e+01],\n",
              "        [2.0980000e+00, 1.0000000e+00, 1.9000000e+01]],\n",
              "\n",
              "       [[2.6190000e+00, 3.0000000e+00, 9.0000000e+00],\n",
              "        [1.2990000e+00, 3.0000000e+00, 9.0000000e+00],\n",
              "        [1.3010000e+00, 4.0000000e+00, 9.0000000e+00],\n",
              "        ...,\n",
              "        [2.4870000e+00, 1.1000000e+01, 8.2000000e+01],\n",
              "        [2.6170001e+00, 9.0000000e+00, 8.2000000e+01],\n",
              "        [2.5520000e+00, 2.3000000e+01, 8.2000000e+01]],\n",
              "\n",
              "       [[8.0000001e-01, 2.1000000e+01, 2.2000000e+01],\n",
              "        [3.4470000e+00, 2.1000000e+01, 1.0000000e+00],\n",
              "        [3.5070000e+00, 0.0000000e+00, 1.0000000e+00],\n",
              "        ...,\n",
              "        [2.1429999e+00, 0.0000000e+00, 2.0000000e+00],\n",
              "        [2.2720001e+00, 0.0000000e+00, 1.0000000e+00],\n",
              "        [2.3710001e+00, 0.0000000e+00, 1.0000000e+00]]], dtype=float32)"
            ]
          },
          "metadata": {},
          "execution_count": 129
        }
      ]
    },
    {
      "cell_type": "code",
      "execution_count": 130,
      "metadata": {
        "colab": {
          "base_uri": "https://localhost:8080/"
        },
        "id": "9Z7Jn-JCAJ0c",
        "outputId": "5e17b18d-dca2-4b64-8be8-a25354f42113"
      },
      "outputs": [
        {
          "output_type": "stream",
          "name": "stdout",
          "text": [
            "(25000, 10, 3)\n",
            "[[  0.803     10.728925 102.      ]\n",
            " [  0.5       10.728925 102.      ]\n",
            " [  0.603     10.728925 102.      ]\n",
            " [  0.711     10.728925 130.      ]\n",
            " [  0.937     10.728925 130.      ]\n",
            " [  1.051     10.728925 130.      ]\n",
            " [  1.118     32.       108.      ]\n",
            " [  4.87      32.       108.      ]\n",
            " [  4.973     33.       108.      ]\n",
            " [  5.199     39.       108.      ]]\n"
          ]
        }
      ],
      "source": [
        "print(X.shape)\n",
        "print(X[0])\n",
        "#25000 sequences,10 consecutive observations,\n",
        "#3features:the salary,the number of persons under one's responsability,the size of the company."
      ]
    },
    {
      "cell_type": "code",
      "execution_count": 131,
      "metadata": {
        "colab": {
          "base_uri": "https://localhost:8080/"
        },
        "id": "jokEW3oNAJ0d",
        "outputId": "4e297eb7-6d4c-47b5-f936-fbde162bdae0"
      },
      "outputs": [
        {
          "output_type": "stream",
          "name": "stdout",
          "text": [
            "(25000,)\n",
            "6.499\n"
          ]
        }
      ],
      "source": [
        "print(y.shape)\n",
        "print(y[0])\n"
      ]
    },
    {
      "cell_type": "markdown",
      "metadata": {
        "id": "7xy-47ZMAJ0d"
      },
      "source": [
        "☝️ The data describes the evolution of the **employment status of a person, year after year**: each sequence corresponds to 10 consecutive years, where each year describes a job situation, comprising of 3 components\n",
        "- the salary,\n",
        "- the number of persons under one's responsability,\n",
        "- the size of the company. \n",
        "\n",
        "So, from this 25000 sequences, each of 10 consecutive observations, the goal is to predict the salary on the 11th year based on the past observations. "
      ]
    },
    {
      "cell_type": "markdown",
      "metadata": {
        "id": "T3C2f7tHAJ0e"
      },
      "source": [
        "❓ **Question** ❓ Take some sequences and plot the evolution of their salaries, of the persons under their responsibility and of the company sizes. You might see some correlation between the three variables."
      ]
    },
    {
      "cell_type": "code",
      "execution_count": 132,
      "metadata": {
        "tags": [
          "challengify"
        ],
        "colab": {
          "base_uri": "https://localhost:8080/"
        },
        "id": "sVwevIZuAJ0e",
        "outputId": "6e6294f8-18c5-4bf9-e27a-147820b6761e"
      },
      "outputs": [
        {
          "output_type": "execute_result",
          "data": {
            "text/plain": [
              "array([0.803, 0.5  , 0.603, ..., 2.143, 2.272, 2.371], dtype=float32)"
            ]
          },
          "metadata": {},
          "execution_count": 132
        }
      ],
      "source": [
        "#25000 sequences,10 consecutive observations,\n",
        "#3features:the salary,the number of persons under one's responsability,the size of the company.\n",
        "\n",
        "X[:,:,0].flatten()\n",
        "\n",
        "\n",
        "\n"
      ]
    },
    {
      "cell_type": "code",
      "source": [
        "plt.hist(X[:,-1,0].flatten())"
      ],
      "metadata": {
        "colab": {
          "base_uri": "https://localhost:8080/",
          "height": 369
        },
        "id": "zJYtxnJrLqFn",
        "outputId": "cc3c0a3c-6528-4bc6-c241-28b5a5170754"
      },
      "execution_count": 133,
      "outputs": [
        {
          "output_type": "execute_result",
          "data": {
            "text/plain": [
              "(array([2.2284e+04, 2.0670e+03, 4.5100e+02, 1.2200e+02, 4.6000e+01,\n",
              "        1.7000e+01, 7.0000e+00, 3.0000e+00, 2.0000e+00, 1.0000e+00]),\n",
              " array([ 0.5     ,  9.7999  , 19.0998  , 28.3997  , 37.6996  , 46.9995  ,\n",
              "        56.2994  , 65.599304, 74.8992  , 84.1991  , 93.499   ],\n",
              "       dtype=float32),\n",
              " <a list of 10 Patch objects>)"
            ]
          },
          "metadata": {},
          "execution_count": 133
        },
        {
          "output_type": "display_data",
          "data": {
            "image/png": "[encoded data removed]",
            "text/plain": [
              "<Figure size 432x288 with 1 Axes>"
            ]
          },
          "metadata": {
            "needs_background": "light"
          }
        }
      ]
    },
    {
      "cell_type": "code",
      "source": [
        "import seaborn as sns\n",
        "sns.histplot(X[:,-1,0].flatten())"
      ],
      "metadata": {
        "colab": {
          "base_uri": "https://localhost:8080/",
          "height": 282
        },
        "id": "fOKRBrDSLx1F",
        "outputId": "10a48272-a60f-42a3-c27f-a0cc932960bb"
      },
      "execution_count": 134,
      "outputs": [
        {
          "output_type": "execute_result",
          "data": {
            "text/plain": [
              "<matplotlib.axes._subplots.AxesSubplot at 0x7f3a7630f550>"
            ]
          },
          "metadata": {},
          "execution_count": 134
        },
        {
          "output_type": "display_data",
          "data": {
            "image/png": "[encoded data removed]",
            "text/plain": [
              "<Figure size 432x288 with 1 Axes>"
            ]
          },
          "metadata": {
            "needs_background": "light"
          }
        }
      ]
    },
    {
      "cell_type": "code",
      "source": [
        "sns.histplot(X[:,:,1].flatten())"
      ],
      "metadata": {
        "colab": {
          "base_uri": "https://localhost:8080/",
          "height": 282
        },
        "id": "ZvUk0kBrM_tE",
        "outputId": "b7ed783e-1b23-4dbe-ee7f-4e2dcf761cdc"
      },
      "execution_count": 135,
      "outputs": [
        {
          "output_type": "execute_result",
          "data": {
            "text/plain": [
              "<matplotlib.axes._subplots.AxesSubplot at 0x7f3a7620d210>"
            ]
          },
          "metadata": {},
          "execution_count": 135
        },
        {
          "output_type": "display_data",
          "data": {
            "image/png": "[encoded data removed]",
            "text/plain": [
              "<Figure size 432x288 with 1 Axes>"
            ]
          },
          "metadata": {
            "needs_background": "light"
          }
        }
      ]
    },
    {
      "cell_type": "code",
      "source": [
        "sns.histplot(X[:,:,2].flatten())"
      ],
      "metadata": {
        "colab": {
          "base_uri": "https://localhost:8080/",
          "height": 282
        },
        "id": "XYva38rmNCW4",
        "outputId": "3e4102de-a042-4054-f659-26dfaa4df176"
      },
      "execution_count": 136,
      "outputs": [
        {
          "output_type": "execute_result",
          "data": {
            "text/plain": [
              "<matplotlib.axes._subplots.AxesSubplot at 0x7f3a755f34d0>"
            ]
          },
          "metadata": {},
          "execution_count": 136
        },
        {
          "output_type": "display_data",
          "data": {
            "image/png": "[encoded data removed]",
            "text/plain": [
              "<Figure size 432x288 with 1 Axes>"
            ]
          },
          "metadata": {
            "needs_background": "light"
          }
        }
      ]
    },
    {
      "cell_type": "markdown",
      "metadata": {
        "id": "xUar2aMgAJ0f"
      },
      "source": [
        "❓ **Question** ❓ Plot the distribution of all the salaries, persons under one's responsibility, and company sizes to get a better understanding of the variability of observations"
      ]
    },
    {
      "cell_type": "code",
      "execution_count": 137,
      "metadata": {
        "tags": [
          "challengify"
        ],
        "id": "CvxVwd1iAJ0f"
      },
      "outputs": [],
      "source": [
        "# YOUR CODE HERE\n",
        "from sklearn.model_selection import train_test_split\n",
        "X_train, X_test, y_train, y_test = train_test_split(X, y, test_size = 0.2)"
      ]
    },
    {
      "cell_type": "markdown",
      "metadata": {
        "id": "xTBHdE7nAJ0f"
      },
      "source": [
        "❓ **Question** ❓  Split your dataset between a train and test set (20/80%)"
      ]
    },
    {
      "cell_type": "code",
      "execution_count": 138,
      "metadata": {
        "tags": [
          "challengify"
        ],
        "id": "A3oXszJrAJ0f"
      },
      "outputs": [],
      "source": [
        "# YOUR CODE HERE"
      ]
    },
    {
      "cell_type": "markdown",
      "metadata": {
        "id": "lAOKjxzIAJ0f"
      },
      "source": [
        "# 2. A Simple RNN\n",
        "\n",
        "Now, you will create your first Recurrent Neural Network. Let's start simple\n",
        "\n",
        "❓ **Question** ❓ Write a model that has: \n",
        "- a `Normalization` layer adapted on the training set\n",
        "- a `SimpleRNN` layer with 20 `units` - don't forget to choose the `tanh` activation function\n",
        "- a Dense layer with 10 neurons\n",
        "- a last Dense layer specific to your task (predict a salary)\n",
        "\n",
        "Remember, you don't need to specify an `input_shape`: as soon as your normalizer has been adapted to your train set, it has memorized it."
      ]
    },
    {
      "cell_type": "code",
      "source": [
        "import keras\n",
        "import tensorflow\n",
        "from tensorflow.keras.models import Sequential\n",
        "model=Sequential()"
      ],
      "metadata": {
        "colab": {
          "base_uri": "https://localhost:8080/",
          "height": 520
        },
        "id": "X55AlnatdJY6",
        "outputId": "23de0ebd-a6b3-4dcb-a1d1-f897fda71f2f"
      },
      "execution_count": 140,
      "outputs": [
        {
          "output_type": "error",
          "ename": "ImportError",
          "evalue": "ignored",
          "traceback": [
            "\u001b[0;31m---------------------------------------------------------------------------\u001b[0m",
            "\u001b[0;31mImportError\u001b[0m                               Traceback (most recent call last)",
            "\u001b[0;32m<ipython-input-140-a3eee2007f06>\u001b[0m in \u001b[0;36m<module>\u001b[0;34m()\u001b[0m\n\u001b[0;32m----> 1\u001b[0;31m \u001b[0;32mimport\u001b[0m \u001b[0mkeras\u001b[0m\u001b[0;34m\u001b[0m\u001b[0;34m\u001b[0m\u001b[0m\n\u001b[0m\u001b[1;32m      2\u001b[0m \u001b[0;32mimport\u001b[0m \u001b[0mtensorflow\u001b[0m\u001b[0;34m\u001b[0m\u001b[0;34m\u001b[0m\u001b[0m\n\u001b[1;32m      3\u001b[0m \u001b[0;32mfrom\u001b[0m \u001b[0mtensorflow\u001b[0m\u001b[0;34m.\u001b[0m\u001b[0mkeras\u001b[0m\u001b[0;34m.\u001b[0m\u001b[0mmodels\u001b[0m \u001b[0;32mimport\u001b[0m \u001b[0mSequential\u001b[0m\u001b[0;34m\u001b[0m\u001b[0;34m\u001b[0m\u001b[0m\n\u001b[1;32m      4\u001b[0m \u001b[0mmodel\u001b[0m\u001b[0;34m=\u001b[0m\u001b[0mSequential\u001b[0m\u001b[0;34m(\u001b[0m\u001b[0;34m)\u001b[0m\u001b[0;34m\u001b[0m\u001b[0;34m\u001b[0m\u001b[0m\n",
            "\u001b[0;32m/usr/local/lib/python3.7/dist-packages/keras/__init__.py\u001b[0m in \u001b[0;36m<module>\u001b[0;34m()\u001b[0m\n\u001b[1;32m     23\u001b[0m \u001b[0;34m\u001b[0m\u001b[0m\n\u001b[1;32m     24\u001b[0m \u001b[0;31m# See b/110718070#comment18 for more details about this import.\u001b[0m\u001b[0;34m\u001b[0m\u001b[0;34m\u001b[0m\u001b[0;34m\u001b[0m\u001b[0m\n\u001b[0;32m---> 25\u001b[0;31m \u001b[0;32mfrom\u001b[0m \u001b[0mkeras\u001b[0m \u001b[0;32mimport\u001b[0m \u001b[0mmodels\u001b[0m\u001b[0;34m\u001b[0m\u001b[0;34m\u001b[0m\u001b[0m\n\u001b[0m\u001b[1;32m     26\u001b[0m \u001b[0;34m\u001b[0m\u001b[0m\n\u001b[1;32m     27\u001b[0m \u001b[0;32mfrom\u001b[0m \u001b[0mkeras\u001b[0m\u001b[0;34m.\u001b[0m\u001b[0mengine\u001b[0m\u001b[0;34m.\u001b[0m\u001b[0minput_layer\u001b[0m \u001b[0;32mimport\u001b[0m \u001b[0mInput\u001b[0m\u001b[0;34m\u001b[0m\u001b[0;34m\u001b[0m\u001b[0m\n",
            "\u001b[0;32m/usr/local/lib/python3.7/dist-packages/keras/models.py\u001b[0m in \u001b[0;36m<module>\u001b[0;34m()\u001b[0m\n\u001b[1;32m     17\u001b[0m \u001b[0;34m\u001b[0m\u001b[0m\n\u001b[1;32m     18\u001b[0m \u001b[0;32mimport\u001b[0m \u001b[0mtensorflow\u001b[0m\u001b[0;34m.\u001b[0m\u001b[0mcompat\u001b[0m\u001b[0;34m.\u001b[0m\u001b[0mv2\u001b[0m \u001b[0;32mas\u001b[0m \u001b[0mtf\u001b[0m\u001b[0;34m\u001b[0m\u001b[0;34m\u001b[0m\u001b[0m\n\u001b[0;32m---> 19\u001b[0;31m \u001b[0;32mfrom\u001b[0m \u001b[0mkeras\u001b[0m \u001b[0;32mimport\u001b[0m \u001b[0mbackend\u001b[0m\u001b[0;34m\u001b[0m\u001b[0;34m\u001b[0m\u001b[0m\n\u001b[0m\u001b[1;32m     20\u001b[0m \u001b[0;32mfrom\u001b[0m \u001b[0mkeras\u001b[0m \u001b[0;32mimport\u001b[0m \u001b[0mmetrics\u001b[0m \u001b[0;32mas\u001b[0m \u001b[0mmetrics_module\u001b[0m\u001b[0;34m\u001b[0m\u001b[0;34m\u001b[0m\u001b[0m\n\u001b[1;32m     21\u001b[0m \u001b[0;32mfrom\u001b[0m \u001b[0mkeras\u001b[0m \u001b[0;32mimport\u001b[0m \u001b[0moptimizer_v1\u001b[0m\u001b[0;34m\u001b[0m\u001b[0;34m\u001b[0m\u001b[0m\n",
            "\u001b[0;32m/usr/local/lib/python3.7/dist-packages/keras/backend.py\u001b[0m in \u001b[0;36m<module>\u001b[0;34m()\u001b[0m\n\u001b[1;32m     37\u001b[0m \u001b[0;32mfrom\u001b[0m \u001b[0mtensorflow\u001b[0m\u001b[0;34m.\u001b[0m\u001b[0mcore\u001b[0m\u001b[0;34m.\u001b[0m\u001b[0mprotobuf\u001b[0m \u001b[0;32mimport\u001b[0m \u001b[0mconfig_pb2\u001b[0m\u001b[0;34m\u001b[0m\u001b[0;34m\u001b[0m\u001b[0m\n\u001b[1;32m     38\u001b[0m \u001b[0;32mfrom\u001b[0m \u001b[0mtensorflow\u001b[0m\u001b[0;34m.\u001b[0m\u001b[0mpython\u001b[0m\u001b[0;34m.\u001b[0m\u001b[0meager\u001b[0m \u001b[0;32mimport\u001b[0m \u001b[0mcontext\u001b[0m\u001b[0;34m\u001b[0m\u001b[0;34m\u001b[0m\u001b[0m\n\u001b[0;32m---> 39\u001b[0;31m \u001b[0;32mfrom\u001b[0m \u001b[0mtensorflow\u001b[0m\u001b[0;34m.\u001b[0m\u001b[0mpython\u001b[0m\u001b[0;34m.\u001b[0m\u001b[0meager\u001b[0m\u001b[0;34m.\u001b[0m\u001b[0mcontext\u001b[0m \u001b[0;32mimport\u001b[0m \u001b[0mget_config\u001b[0m\u001b[0;34m\u001b[0m\u001b[0;34m\u001b[0m\u001b[0m\n\u001b[0m\u001b[1;32m     40\u001b[0m \u001b[0;32mfrom\u001b[0m \u001b[0mtensorflow\u001b[0m\u001b[0;34m.\u001b[0m\u001b[0mpython\u001b[0m\u001b[0;34m.\u001b[0m\u001b[0mframework\u001b[0m \u001b[0;32mimport\u001b[0m \u001b[0mconfig\u001b[0m\u001b[0;34m\u001b[0m\u001b[0;34m\u001b[0m\u001b[0m\n\u001b[1;32m     41\u001b[0m \u001b[0;32mfrom\u001b[0m \u001b[0mkeras\u001b[0m \u001b[0;32mimport\u001b[0m \u001b[0mbackend_config\u001b[0m\u001b[0;34m\u001b[0m\u001b[0;34m\u001b[0m\u001b[0m\n",
            "\u001b[0;31mImportError\u001b[0m: cannot import name 'get_config' from 'tensorflow.python.eager.context' (/usr/local/lib/python3.7/dist-packages/tensorflow/python/eager/context.py)",
            "",
            "\u001b[0;31m---------------------------------------------------------------------------\u001b[0;32m\nNOTE: If your import is failing due to a missing package, you can\nmanually install dependencies using either !pip or !apt.\n\nTo view examples of installing some common dependencies, click the\n\"Open Examples\" button below.\n\u001b[0;31m---------------------------------------------------------------------------\u001b[0m\n"
          ],
          "errorDetails": {
            "actions": [
              {
                "action": "open_url",
                "actionText": "Open Examples",
                "url": "/notebooks/snippets/importing_libraries.ipynb"
              }
            ]
          }
        }
      ]
    },
    {
      "cell_type": "code",
      "source": [
        "!pip install tensorflow==2.2.7\n",
        "# !pip install --upgrade tensorflow\n",
        "# !pip install --upgrade tensorflow-gpu"
      ],
      "metadata": {
        "id": "BWiItcgXl7JL"
      },
      "execution_count": null,
      "outputs": []
    },
    {
      "cell_type": "code",
      "execution_count": null,
      "metadata": {
        "id": "0KqbML6GAJ0g"
      },
      "outputs": [],
      "source": [
        "\n",
        "from tensorflow.keras import models,layers\n",
        "from tensorflow import keras\n",
        "from keras.layers.experimental.preprocessing import Normalization\n",
        "# https://exerror.com/importerror-cannot-import-name-layernormalization-from-tensorflow-python-keras-layers-normalization/\n",
        "from tensorflow.keras.models import Sequential\n",
        "from keras.layers import Dense, SimpleRNN, Flatten\n",
        "# normalizer=Normalization()\n",
        "# normalizer.adapt(X_train)\n",
        "\n",
        "model.add(layers.SimpleRNN(activation=\"tanh\",units=20))\n",
        "model.add(layers.Dense(10,activation=\"relu\"))\n",
        "model.add(layers.Dense(1,activation=\"linear\"))\n",
        "\n",
        "# YOUR CODE HERE"
      ]
    },
    {
      "cell_type": "code",
      "source": [
        ""
      ],
      "metadata": {
        "id": "Qw_nI72so0h7"
      },
      "execution_count": null,
      "outputs": []
    },
    {
      "cell_type": "code",
      "source": [
        "from tensorflow.keras import optimizers\n",
        "adam_opt = optimizers.Adam(learning_rate=0.01, beta_1=0.9, beta_2=0.999)\n",
        "\n",
        "model.compile(loss='mse', \n",
        "              optimizer=adam_opt,\n",
        "              metrics=['mae'])"
      ],
      "metadata": {
        "id": "Gig-3QqUaEU4"
      },
      "execution_count": null,
      "outputs": []
    },
    {
      "cell_type": "code",
      "source": [
        "model.fit(X_train,y_train,\n",
        "            batch_size=16,\n",
        "            epochs=10,verbose=0)"
      ],
      "metadata": {
        "id": "NTVggy4KUbg-"
      },
      "execution_count": null,
      "outputs": []
    },
    {
      "cell_type": "code",
      "source": [
        ""
      ],
      "metadata": {
        "id": "tMYw_kZ5ljwt"
      },
      "execution_count": null,
      "outputs": []
    },
    {
      "cell_type": "code",
      "source": [
        "model.predict(X_test)"
      ],
      "metadata": {
        "id": "wZDdTbBbf2w0"
      },
      "execution_count": null,
      "outputs": []
    },
    {
      "cell_type": "code",
      "source": [
        "model.predict(X_test).shape"
      ],
      "metadata": {
        "id": "L1GKbZfGhb6J"
      },
      "execution_count": null,
      "outputs": []
    },
    {
      "cell_type": "code",
      "source": [
        "model.summary()"
      ],
      "metadata": {
        "id": "BvDrtndBczTw"
      },
      "execution_count": null,
      "outputs": []
    },
    {
      "cell_type": "markdown",
      "metadata": {
        "id": "bRdCCkA1AJ0g"
      },
      "source": [
        "❓ **Question** ❓ Compute the number of trainable parameters of your model using `model.summary`. \n",
        "\n",
        "Then, try to recompute them by hand\n",
        "\n",
        "💡 Hints: \n",
        "- Your `normalization` layer has 7 non-trainable params, which comprise of the mean and standard deviation of each 3 features (salary, persons under responsibility, company size) plus one bias set to 0\n",
        "\n",
        "- If $\\color{green}{n_h}$ RNN units are applied in parallel to $\\color{red}{n_x}$ features, the layer has $\\color{green}{n_h}(\\color{green}{n_h} + \\color{red}{n_x} + 1)$ parameters to train. Notice how this number is *independent* of the length of each sequences (here 10 days)\n"
      ]
    },
    {
      "cell_type": "code",
      "execution_count": null,
      "metadata": {
        "id": "gvOMa4anAJ0g"
      },
      "outputs": [],
      "source": [
        "# YOUR CODE HERE\n"
      ]
    },
    {
      "cell_type": "markdown",
      "metadata": {
        "id": "urjr_AibAJ0h"
      },
      "source": [
        "❓ **Question** ❓ Compile your model. Remember to first use the `rmsprop` optimizer (instead of Adam)."
      ]
    },
    {
      "cell_type": "markdown",
      "metadata": {
        "id": "VhBbggzyAJ0h"
      },
      "source": [
        "❓ **Question** ❓ Run your model on your data. Use a validation split of 20% and an early stopping criterion (patience=5). Evaluate your performance on the test set"
      ]
    },
    {
      "cell_type": "code",
      "execution_count": null,
      "metadata": {
        "tags": [
          "challengify"
        ],
        "id": "JWBUlNYaAJ0h"
      },
      "outputs": [],
      "source": [
        "# YOUR CODE HERE\n",
        "# Take this model with 10 RNN units\n",
        "\n",
        "\n",
        "model2= Sequential()\n",
        "model2.add(layers.SimpleRNN(units=10))\n",
        "model2.add(layers.Dense(1, activation=\"linear\"))\n",
        "\n",
        "model2.compile(loss='mse', optimizer='rmsprop',metrics=\"mae\")\n",
        "\n",
        "from tensorflow.keras import callbacks\n",
        "es = callbacks.EarlyStopping(patience=30, restore_best_weights=True)\n",
        "\n",
        "model2.fit(X_train, y_train, batch_size=16, epochs=10, verbose=0,\n",
        "           validation_split=0.2,callbacks=[es])\n",
        "\n",
        "model2.summary()"
      ]
    },
    {
      "cell_type": "code",
      "source": [
        "loss_mae=model2.evaluate(X_test,y_test)"
      ],
      "metadata": {
        "id": "PI7lXWzuj4Ke"
      },
      "execution_count": null,
      "outputs": []
    },
    {
      "cell_type": "code",
      "source": [
        ""
      ],
      "metadata": {
        "id": "iN7phD0HkLsb"
      },
      "execution_count": null,
      "outputs": []
    },
    {
      "cell_type": "code",
      "execution_count": null,
      "metadata": {
        "id": "6KNZYYGYAJ0h"
      },
      "outputs": [],
      "source": [
        "# \n",
        "model2.predict(X_test,y_test)"
      ]
    },
    {
      "cell_type": "code",
      "source": [
        ""
      ],
      "metadata": {
        "id": "FiLjJhHkj2sA"
      },
      "execution_count": null,
      "outputs": []
    },
    {
      "cell_type": "code",
      "source": [
        "model2.predict(X_test).shape\n",
        "#take average??\n",
        "#why 10?\n",
        "take "
      ],
      "metadata": {
        "id": "xut32WC6hgdn"
      },
      "execution_count": null,
      "outputs": []
    },
    {
      "cell_type": "markdown",
      "source": [
        ""
      ],
      "metadata": {
        "id": "_Y1ZF349hSQ0"
      }
    },
    {
      "cell_type": "markdown",
      "metadata": {
        "id": "CYPdXGmxAJ0h"
      },
      "source": [
        "# Baseline comparison?\n",
        "\n",
        "\n",
        "In the case of a usual regression model, a baseline prediction for `y_test` could be to predict the average of `y_train`.\n",
        "\n",
        "With temporal data, it often happens that you try to predict a value that you have already seen in the past: here, the salary. In that case, a baseline model could be to predict for instance that the 11-th salary is equal to the 10-th salary.\n",
        "\n",
        "❓ **Question** ❓ Compute the Mean Absolute Error of a model that would predict that the salary remains constant between the 10-th and 11-th year and compare it to your RNN."
      ]
    },
    {
      "cell_type": "code",
      "execution_count": null,
      "metadata": {
        "tags": [
          "challengify"
        ],
        "id": "9tv9lzI4AJ0h"
      },
      "outputs": [],
      "source": [
        "# YOUR CODE HERE"
      ]
    },
    {
      "cell_type": "markdown",
      "metadata": {
        "id": "cdEhIBV3AJ0h"
      },
      "source": [
        "You have probably seen that your prediction is a little bit better than the baseline model\n",
        "\n",
        "# LSTM\n",
        "\n",
        "❓ **Question** ❓ Write the exact same model, but with a `LSTM` instead of a `SimpleRNN` and evaluate your performance on the test set"
      ]
    },
    {
      "cell_type": "code",
      "execution_count": null,
      "metadata": {
        "id": "eY9SttIJAJ0i"
      },
      "outputs": [],
      "source": [
        "### YOUR CODE HERE"
      ]
    },
    {
      "cell_type": "markdown",
      "metadata": {
        "id": "oHFyIM4zAJ0i"
      },
      "source": [
        "## 🏁 Congratulation\n",
        "\n",
        "You now know how to run RNN on sequence data!\n",
        "\n",
        "Note: The sequences you worked with are totally fake. In case you need to train and reproduce similar data, you can find bellow the functions that have been used to simulate this data."
      ]
    },
    {
      "cell_type": "markdown",
      "metadata": {
        "id": "A43okG_uAJ0i"
      },
      "source": [
        "# Utils (for reference only)"
      ]
    },
    {
      "cell_type": "code",
      "execution_count": null,
      "metadata": {
        "id": "FBM3S5snAJ0i"
      },
      "outputs": [],
      "source": [
        "def create_sequences(number):\n",
        "    X, y = [], []\n",
        "    \n",
        "    for i in range(number):\n",
        "        x_i, y_i = create_individual_sequence(10)\n",
        "        X.append(x_i)\n",
        "        y.append(y_i)\n",
        "        \n",
        "    return np.array(X), np.array(y)\n",
        "            \n",
        "def create_individual_sequence(length):\n",
        "    company_sizes = []\n",
        "    nb_persons = []\n",
        "    salaries = []\n",
        "    \n",
        "    \n",
        "    # Education level\n",
        "    educ_level = [max(0, int(np.random.normal(10, 2)))]*length\n",
        "    \n",
        "    # Company size\n",
        "    current_size = int(1 + np.random.beta(.4, 4)*500)\n",
        "    for i in range(length):\n",
        "        if not np.random.randint(4): # Change 1 out of 3 possibilities \n",
        "            current_size = int(max(1, np.random.normal(current_size, 50)))\n",
        "        company_sizes.append(current_size)\n",
        "    \n",
        "    # Number of persons\n",
        "    nb_iter = np.random.beta(.15, 4)*300\n",
        "    for i in range(length):\n",
        "        if not np.random.randint(2): # Change 1 out of 2 possibilities\n",
        "            R_1 = np.random.beta(0.5, 8)*3\n",
        "            nb_iter = nb_iter + max(-2, R_1*company_sizes[i] + np.random.randint(-2, 2))\n",
        "            nb_iter = max(0, nb_iter)\n",
        "            nb_iter = int(min(company_sizes[i]-1, nb_iter))\n",
        "        nb_persons.append(nb_iter)\n",
        "        \n",
        "    \n",
        "    # Salary\n",
        "    salary_iter = max(800, int(np.random.normal(1200, 300)+ 0.05*company_sizes[0] +  np.random.normal(40, 400)))\n",
        "    salaries.append(salary_iter)\n",
        "    for i in range(1, length + 1):\n",
        "        R_1 = np.random.normal(100, 50)\n",
        "        change_person = nb_persons[i-1] - nb_persons[i-2]\n",
        "        change_company = max(0, company_sizes[i-1] - company_sizes[i-2])\n",
        "        salary_iter = salary_iter + 0.05*change_company + change_person*R_1 + np.random.normal(100, 50)\n",
        "        salary_iter = max(int(salary_iter), 500)\n",
        "        \n",
        "        salaries.append(salary_iter)\n",
        "\n",
        "    y = salaries[-1]/1000\n",
        "    salaries = [_/1000 for _ in salaries[:-1]]\n",
        "    \n",
        "    return np.array([salaries, nb_persons, company_sizes]).T, y"
      ]
    },
    {
      "cell_type": "code",
      "execution_count": null,
      "metadata": {
        "id": "D9UxWWSnAJ0i"
      },
      "outputs": [],
      "source": [
        "#X, y = create_sequences(25000)\n",
        "\n",
        "#np.save('X', X.astype(np.float32))\n",
        "#np.save('y', y)"
      ]
    }
  ],
  "metadata": {
    "kernelspec": {
      "display_name": "Python 3",
      "language": "python",
      "name": "python3"
    },
    "colab": {
      "name": "your_first_rnn.ipynb",
      "provenance": []
    },
    "accelerator": "GPU"
  },
  "nbformat": 4,
  "nbformat_minor": 0
}