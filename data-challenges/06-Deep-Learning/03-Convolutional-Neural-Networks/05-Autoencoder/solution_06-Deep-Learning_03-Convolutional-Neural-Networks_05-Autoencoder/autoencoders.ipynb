{
 "cells": [
  {
   "cell_type": "markdown",
   "metadata": {},
   "source": [
    "# Autoencoders\n",
    "\n",
    "**Exercise objectives**\n",
    "- Discover autoencoders\n",
    "- Get a deeper understanding of CNNs\n",
    "\n",
    "<hr>\n",
    "\n",
    "🤔 There is a very particular architecture in Deep Learning called **`Autoencoders`**.\n",
    "\n",
    "\n",
    "👉 Autoencoders are Neural Network architectures trained to return **outputs that are as similar as possible to the original inputs fed to them**. Why would we do that ?  \n",
    "\n",
    "Before answering the question `why`, let's answer the question `how`.\n",
    "\n",
    "***How does an autoencoder work ?***\n",
    "\n",
    "There are two parts in an autoencoder:\n",
    "1. an **`encoder`**\n",
    "2. a **`decoder`**\n",
    "\n",
    "1. In encoder, we will make the information flow through different dense layers with a decreasing number of neurons. It will create a **`bottleneck`** where the information is somewhat compressed.\n",
    "\n",
    "2. In the decoder, we will try to create the original data based on the compressed data.\n",
    "\n",
    "***Why is it powerful, useful ?***\n",
    "\n",
    "If it works well, it means two important things:\n",
    "\n",
    "* ✅ We can afford to **compress our dataset and use a compressed version of it when fitting another Neural Network** ! \n",
    "\n",
    "* ✅ The **information contained in the bottleneck** - i.e. the data compressed in a low-dimensional layer - **accurately captures the patterns of our dataset** and the autoencoder is able to decode the compressed information !\n",
    "\n",
    "**Applications:**\n",
    "- Image compression\n",
    "- Denoising (cf. Google Pixel phones...)\n",
    "- Image generation !\n",
    "\n",
    "\n",
    "<img src='https://github.com/lewagon/data-images/blob/master/DL/autoencoder.png?raw=true'>"
   ]
  },
  {
   "cell_type": "markdown",
   "metadata": {},
   "source": [
    "## The MNIST Dataset\n",
    "\n",
    "In this notebook, we will train an auto-encoder to work on 28x28 grey images from the MNIST dataset, available in Keras. Run the cells below"
   ]
  },
  {
   "cell_type": "code",
   "execution_count": 0,
   "metadata": {},
   "outputs": [
    {
     "name": "stdout",
     "output_type": "stream",
     "text": [
      "(60000, 28, 28)\n",
      "(10000, 28, 28)\n"
     ]
    }
   ],
   "source": [
    "from tensorflow.keras.datasets import mnist\n",
    "\n",
    "(images_train, labels_train), (images_test, labels_test) = mnist.load_data()\n",
    "print(images_train.shape)\n",
    "print(images_test.shape)"
   ]
  },
  {
   "cell_type": "code",
   "execution_count": 0,
   "metadata": {},
   "outputs": [],
   "source": [
    "# Add a channels for the colors and normalize data\n",
    "X_train = images_train.reshape((60000, 28, 28, 1)) / 255.\n",
    "X_test = images_test.reshape((10000, 28, 28, 1)) / 255."
   ]
  },
  {
   "cell_type": "code",
   "execution_count": 0,
   "metadata": {},
   "outputs": [
    {
     "data": {
      "image/png": "[encoded data removed]",
      "text/plain": [
       "<Figure size 1440x288 with 10 Axes>"
      ]
     },
     "metadata": {
      "needs_background": "light"
     },
     "output_type": "display_data"
    }
   ],
   "source": [
    "# Plot some images\n",
    "import matplotlib.pyplot as plt\n",
    "\n",
    "f, axs = plt.subplots(1, 10, figsize=(20, 4))\n",
    "for i, ax in enumerate(axs):\n",
    "    ax.axis('off')\n",
    "    ax.imshow(X_train[i].reshape(28, 28), cmap='Greys')\n",
    "    \n",
    "plt.show()"
   ]
  },
  {
   "cell_type": "markdown",
   "metadata": {},
   "source": [
    "## The encoder"
   ]
  },
  {
   "cell_type": "markdown",
   "metadata": {},
   "source": [
    "First, we will build the \"Encoder\" part for you (in blue in the network picture above)\n",
    "\n",
    "💡 Notice how similar it looks compared to a Convolutional Classifier:\n",
    "* with `latent_dimension` labels\n",
    "* the `tanh` activation function inf the final dense layer"
   ]
  },
  {
   "cell_type": "code",
   "execution_count": 0,
   "metadata": {},
   "outputs": [],
   "source": [
    "from tensorflow.keras import Sequential\n",
    "from tensorflow.keras.layers import Conv2D, MaxPooling2D, Flatten, Dense\n",
    "\n",
    "def build_encoder(latent_dimension):\n",
    "    '''returns an encoder model, of output_shape equals to latent_dimension'''\n",
    "    encoder = Sequential()\n",
    "    \n",
    "    encoder.add(Conv2D(8, (2,2), input_shape=(28, 28, 1), activation='relu'))\n",
    "    encoder.add(MaxPooling2D(2))\n",
    "\n",
    "    encoder.add(Conv2D(16, (2, 2), activation='relu'))\n",
    "    encoder.add(MaxPooling2D(2))\n",
    "\n",
    "    encoder.add(Conv2D(32, (2, 2), activation='relu'))\n",
    "    encoder.add(MaxPooling2D(2))     \n",
    "\n",
    "    encoder.add(Flatten())\n",
    "    encoder.add(Dense(latent_dimension, activation='tanh'))\n",
    "    \n",
    "    return encoder"
   ]
  },
  {
   "cell_type": "markdown",
   "metadata": {},
   "source": [
    "❓ **Question** ❓ Build your encoder with  `latent_dimension=2` and look at the number of parameters."
   ]
  },
  {
   "cell_type": "code",
   "execution_count": 0,
   "metadata": {
    "tags": [
     "challengify"
    ]
   },
   "outputs": [
    {
     "name": "stdout",
     "output_type": "stream",
     "text": [
      "Model: \"sequential_1\"\n",
      "_________________________________________________________________\n",
      "Layer (type)                 Output Shape              Param #   \n",
      "=================================================================\n",
      "conv2d_3 (Conv2D)            (None, 27, 27, 8)         40        \n",
      "_________________________________________________________________\n",
      "max_pooling2d_3 (MaxPooling2 (None, 13, 13, 8)         0         \n",
      "_________________________________________________________________\n",
      "conv2d_4 (Conv2D)            (None, 12, 12, 16)        528       \n",
      "_________________________________________________________________\n",
      "max_pooling2d_4 (MaxPooling2 (None, 6, 6, 16)          0         \n",
      "_________________________________________________________________\n",
      "conv2d_5 (Conv2D)            (None, 5, 5, 32)          2080      \n",
      "_________________________________________________________________\n",
      "max_pooling2d_5 (MaxPooling2 (None, 2, 2, 32)          0         \n",
      "_________________________________________________________________\n",
      "flatten_1 (Flatten)          (None, 128)               0         \n",
      "_________________________________________________________________\n",
      "dense_1 (Dense)              (None, 2)                 258       \n",
      "=================================================================\n",
      "Total params: 2,906\n",
      "Trainable params: 2,906\n",
      "Non-trainable params: 0\n",
      "_________________________________________________________________\n"
     ]
    }
   ],
   "source": [
    "encoder = build_encoder(2)\n",
    "encoder.summary()"
   ]
  },
  {
   "cell_type": "markdown",
   "metadata": {},
   "source": [
    "## Decoder"
   ]
  },
  {
   "cell_type": "markdown",
   "metadata": {},
   "source": [
    "It's your turn to build the decoder this time!\n",
    "\n",
    "We need to build a **`reversed CNN`** that \n",
    "* takes a dense layer as input,\n",
    "* and output an image of shape `(28,28,1)` similar to our MNIST images. \n",
    "\n",
    "🤓 For this purpose, we will use a new layer called <a href=\"https://www.tensorflow.org/api_docs/python/tf/keras/layers/Conv2DTranspose\">**`Conv2DTranspose`**</a>.\n",
    "    \n",
    "The name of this layer speaks for itself: it performs the opposite of a convolution operation!\n",
    "\n",
    "💡 Hint: We will follow this strategy :\n",
    "* Start by reshaping the Dense Input Layer into an Image of shape `(7,7,..)`\n",
    "* Then apply the `Conv2DTranspose` operation with `strides=2` to double the output shape to `(14,14,..)` \n",
    "* then add another Conv2DTranpose layer on top of the first one to make it `(28,28,1)`.\n",
    "\n",
    "❓ **Question** ❓ Define a **`decoding architecture`** in the method below as follows:\n",
    "- a `Dense` layer with:\n",
    "    - $7 \\times 7 \\times 8$ neurons, \n",
    "    - input_shape = `(latent_dimension,)`\n",
    "    - `tanh` activation function. \n",
    "- a `Reshape` layer that reshapes to `(7, 7, 8)` tensors\n",
    "- a `Conv2DTranspose` with:\n",
    "    - `8` filters, \n",
    "    - `(2,2)` kernels, \n",
    "    - strides of `2`, \n",
    "    - padding `same` \n",
    "    - `relu` activation function\n",
    "- a second Conv2DTranspose layer with:\n",
    "    - `1` filter,\n",
    "    - `(2,2)` kernels,\n",
    "    - strides of `2`,\n",
    "    - padding `same`,\n",
    "    - `relu` activation function"
   ]
  },
  {
   "cell_type": "code",
   "execution_count": 0,
   "metadata": {},
   "outputs": [],
   "source": [
    "from tensorflow.keras.layers import Reshape, Conv2DTranspose\n",
    "\n",
    "def build_decoder(latent_dimension):\n",
    "    # $CHALLENGIFY_BEGIN\n",
    "    decoder = Sequential()\n",
    "    \n",
    "    decoder.add(Dense(7*7*8, activation='tanh', input_shape=(latent_dimension,)))\n",
    "    decoder.add(Reshape((7, 7, 8)))  # no batch axis here\n",
    "    decoder.add(Conv2DTranspose(8, (2, 2), strides=2, padding='same', activation='relu'))\n",
    "\n",
    "    decoder.add(Conv2DTranspose(1, (2, 2), strides=2, padding='same', activation='relu'))\n",
    "    return decoder\n",
    "    # $CHALLENGIFY_END"
   ]
  },
  {
   "cell_type": "markdown",
   "metadata": {},
   "source": [
    "❓ **Question** ❓ Build your decoder with `latent_dimension=2` and check that it outputs images of same shape than the encoder input"
   ]
  },
  {
   "cell_type": "code",
   "execution_count": 0,
   "metadata": {
    "tags": [
     "challengify"
    ]
   },
   "outputs": [
    {
     "name": "stdout",
     "output_type": "stream",
     "text": [
      "Model: \"sequential_2\"\n",
      "_________________________________________________________________\n",
      "Layer (type)                 Output Shape              Param #   \n",
      "=================================================================\n",
      "dense_2 (Dense)              (None, 392)               1176      \n",
      "_________________________________________________________________\n",
      "reshape (Reshape)            (None, 7, 7, 8)           0         \n",
      "_________________________________________________________________\n",
      "conv2d_transpose (Conv2DTran (None, 14, 14, 8)         264       \n",
      "_________________________________________________________________\n",
      "conv2d_transpose_1 (Conv2DTr (None, 28, 28, 1)         33        \n",
      "=================================================================\n",
      "Total params: 1,473\n",
      "Trainable params: 1,473\n",
      "Non-trainable params: 0\n",
      "_________________________________________________________________\n"
     ]
    }
   ],
   "source": [
    "decoder = build_decoder(2)\n",
    "decoder.summary()"
   ]
  },
  {
   "cell_type": "markdown",
   "metadata": {},
   "source": [
    "## Auto-Encoder"
   ]
  },
  {
   "cell_type": "markdown",
   "metadata": {},
   "source": [
    "🎉 We can now concatenate both **`the encoder and the decoder`** thanks to the **`Model`** class in Keras, using the **`functionalAPI`**."
   ]
  },
  {
   "cell_type": "code",
   "execution_count": 0,
   "metadata": {},
   "outputs": [],
   "source": [
    "from tensorflow.keras import Model\n",
    "from tensorflow.keras.layers import Input\n",
    "\n",
    "def build_autoencoder(encoder, decoder):\n",
    "    inp = Input((28, 28,1))\n",
    "    encoded = encoder(inp)\n",
    "    decoded = decoder(encoded)\n",
    "    autoencoder = Model(inp, decoded)\n",
    "    return autoencoder"
   ]
  },
  {
   "cell_type": "markdown",
   "metadata": {},
   "source": [
    "❓ **Questions** ❓ \n",
    "\n",
    "* Try to understand syntax above 👆 \n",
    "* Build your autoencoder\n",
    "* Have a look at the number of parameters"
   ]
  },
  {
   "cell_type": "code",
   "execution_count": 0,
   "metadata": {
    "tags": [
     "challengify"
    ]
   },
   "outputs": [
    {
     "name": "stdout",
     "output_type": "stream",
     "text": [
      "Model: \"model\"\n",
      "_________________________________________________________________\n",
      "Layer (type)                 Output Shape              Param #   \n",
      "=================================================================\n",
      "input_1 (InputLayer)         [(None, 28, 28, 1)]       0         \n",
      "_________________________________________________________________\n",
      "sequential_1 (Sequential)    (None, 2)                 2906      \n",
      "_________________________________________________________________\n",
      "sequential_2 (Sequential)    (None, 28, 28, 1)         1473      \n",
      "=================================================================\n",
      "Total params: 4,379\n",
      "Trainable params: 4,379\n",
      "Non-trainable params: 0\n",
      "_________________________________________________________________\n"
     ]
    }
   ],
   "source": [
    "autoencoder = build_autoencoder(encoder, decoder)\n",
    "autoencoder.summary()"
   ]
  },
  {
   "cell_type": "markdown",
   "metadata": {},
   "source": [
    "❓ **Question** ❓ Define a method which compiles your model. Pick an appropriate loss.\n",
    "\n",
    "Think carefully: \n",
    "🤔 On which mathematical object are we going to `compare predictions and the ground truths` for the computation of the loss function and the metrics?\n",
    "\n",
    "\n",
    "<details>\n",
    "    <summary>🆘 Answer 🆘</summary>\n",
    "\n",
    "It should compare two images (Black and White in our case), pixel-by-pixel!\n",
    "    \n",
    "The MSE loss seems  to be an appropriate loss function for pixel-by-pixel error minimization.\n",
    "</details>"
   ]
  },
  {
   "cell_type": "code",
   "execution_count": 0,
   "metadata": {
    "tags": [
     "challengify"
    ]
   },
   "outputs": [],
   "source": [
    "def compile_autoencoder(autoencoder):\n",
    "    # $CHALLENGIFY_BEGIN\n",
    "    autoencoder.compile(loss='mse',\n",
    "                  optimizer='adam')\n",
    "    # $CHALLENGIFY_END"
   ]
  },
  {
   "cell_type": "markdown",
   "metadata": {},
   "source": [
    "❓ **Question** ❓  Compile your model and fit it with  `batch_size = 32` and `epochs=20`. What is the label `y_train` in this case?\n",
    "\n",
    "**Note:** Don't waste your time fighting overfitting in this challenge, you will have time to care about his during the project weeks :)"
   ]
  },
  {
   "cell_type": "code",
   "execution_count": 0,
   "metadata": {
    "tags": [
     "challengify"
    ]
   },
   "outputs": [
    {
     "name": "stderr",
     "output_type": "stream",
     "text": [
      "2021-08-11 16:27:16.973063: I tensorflow/compiler/mlir/mlir_graph_optimization_pass.cc:176] None of the MLIR Optimization Passes are enabled (registered 2)\n"
     ]
    },
    {
     "name": "stdout",
     "output_type": "stream",
     "text": [
      "Epoch 1/20\n",
      "1875/1875 [==============================] - 13s 7ms/step - loss: 0.0597\n",
      "Epoch 2/20\n",
      "1875/1875 [==============================] - 13s 7ms/step - loss: 0.0538\n",
      "Epoch 3/20\n",
      "1875/1875 [==============================] - 12s 7ms/step - loss: 0.0526\n",
      "Epoch 4/20\n",
      "1875/1875 [==============================] - 13s 7ms/step - loss: 0.0521\n",
      "Epoch 5/20\n",
      "1875/1875 [==============================] - 12s 6ms/step - loss: 0.0517\n",
      "Epoch 6/20\n",
      "1875/1875 [==============================] - 12s 6ms/step - loss: 0.0514\n",
      "Epoch 7/20\n",
      "1875/1875 [==============================] - 12s 7ms/step - loss: 0.0512\n",
      "Epoch 8/20\n",
      "1875/1875 [==============================] - 12s 6ms/step - loss: 0.0510\n",
      "Epoch 9/20\n",
      "1875/1875 [==============================] - 12s 7ms/step - loss: 0.0509\n",
      "Epoch 10/20\n",
      "1875/1875 [==============================] - 12s 7ms/step - loss: 0.0508\n",
      "Epoch 11/20\n",
      "1875/1875 [==============================] - 12s 6ms/step - loss: 0.0506\n",
      "Epoch 12/20\n",
      "1875/1875 [==============================] - 12s 6ms/step - loss: 0.0505\n",
      "Epoch 13/20\n",
      "1875/1875 [==============================] - 12s 7ms/step - loss: 0.0505\n",
      "Epoch 14/20\n",
      "1875/1875 [==============================] - 12s 7ms/step - loss: 0.0504\n",
      "Epoch 15/20\n",
      "1875/1875 [==============================] - 12s 6ms/step - loss: 0.0503\n",
      "Epoch 16/20\n",
      "1875/1875 [==============================] - 12s 6ms/step - loss: 0.0503\n",
      "Epoch 17/20\n",
      "1875/1875 [==============================] - 12s 7ms/step - loss: 0.0502\n",
      "Epoch 18/20\n",
      "1875/1875 [==============================] - 12s 7ms/step - loss: 0.0502\n",
      "Epoch 19/20\n",
      "1875/1875 [==============================] - 12s 6ms/step - loss: 0.0501\n",
      "Epoch 20/20\n",
      "1875/1875 [==============================] - 12s 6ms/step - loss: 0.0501\n"
     ]
    },
    {
     "data": {
      "text/plain": [
       "<tensorflow.python.keras.callbacks.History at 0x1540c6c10>"
      ]
     },
     "execution_count": 12,
     "metadata": {},
     "output_type": "execute_result"
    }
   ],
   "source": [
    "compile_autoencoder(autoencoder)\n",
    "autoencoder.fit(X_train, X_train, epochs=20, batch_size=32)"
   ]
  },
  {
   "cell_type": "code",
   "execution_count": 0,
   "metadata": {
    "tags": [
     "challengify"
    ]
   },
   "outputs": [
    {
     "data": {
      "image/png": "[encoded data removed]",
      "text/plain": [
       "<Figure size 288x144 with 2 Axes>"
      ]
     },
     "metadata": {
      "needs_background": "light"
     },
     "output_type": "display_data"
    },
    {
     "data": {
      "image/png": "[encoded data removed]",
      "text/plain": [
       "<Figure size 288x144 with 2 Axes>"
      ]
     },
     "metadata": {
      "needs_background": "light"
     },
     "output_type": "display_data"
    },
    {
     "data": {
      "image/png": "[encoded data removed]",
      "text/plain": [
       "<Figure size 288x144 with 2 Axes>"
      ]
     },
     "metadata": {
      "needs_background": "light"
     },
     "output_type": "display_data"
    }
   ],
   "source": [
    "prediction = autoencoder.predict(X_train, verbose=0, batch_size=100)# you can now display an image to see it is reconstructed well\n",
    "\n",
    "for i in range(3):\n",
    "    fig, (ax1, ax2) = plt.subplots(1, 2, figsize=(4,2))\n",
    "    ax1.imshow(prediction[i].reshape(28,28), cmap='Greys')\n",
    "    ax2.imshow(X_train[i].reshape(28,28), cmap='Greys')\n",
    "    plt.show()"
   ]
  },
  {
   "cell_type": "markdown",
   "metadata": {},
   "source": [
    "❓ **Question** ❓ Using only the encoder part of the network, encode your dataset and save it under `X_encoded` . \n",
    "\n",
    "Each image is now represented by two values (that correspond to the dimension of the latent space, of the bottleneck; aka the `latent_dimension`. "
   ]
  },
  {
   "cell_type": "code",
   "execution_count": 0,
   "metadata": {
    "tags": [
     "challengify"
    ]
   },
   "outputs": [
    {
     "name": "stdout",
     "output_type": "stream",
     "text": [
      "1875/1875 [==============================] - 3s 2ms/step\n"
     ]
    }
   ],
   "source": [
    "##############\n",
    "### Answer ###\n",
    "##############\n",
    "\n",
    "X_encoded = encoder.predict(X_train, verbose=1)"
   ]
  },
  {
   "cell_type": "markdown",
   "metadata": {},
   "source": [
    "🤔 Where are we after running the encoder ?\n",
    "\n",
    "* Each image was compressed in a 2D space. \n",
    "* Each of these handwritten digit have to a given label, between 0 and 9  \n",
    "\n",
    "❓ **Question** ❓ \n",
    "\n",
    "Scatterplot the encoded data (only a small fraction of the encoded dataset for visibility purposes...)\n",
    "- Each point of the scatter plot  corresponds to an encoded image\n",
    "- Color the dots according to their respective labels (digit representation).\n",
    "    - For instance, all the \"4\"s should be represented by a color on this scatter plot, \n",
    "    - While the \"5\" should be represented by another color.\n",
    "\n",
    "What do you remark on this plot? "
   ]
  },
  {
   "cell_type": "code",
   "execution_count": 0,
   "metadata": {
    "tags": [
     "challengify"
    ]
   },
   "outputs": [
    {
     "data": {
      "image/png": "[encoded data removed]",
      "text/plain": [
       "<Figure size 432x288 with 1 Axes>"
      ]
     },
     "metadata": {
      "needs_background": "light"
     },
     "output_type": "display_data"
    }
   ],
   "source": [
    "import seaborn as sns\n",
    "plt.scatter(x= X_encoded[:300, 0], y=X_encoded[:300, 1], c=labels_train[:300], cmap='coolwarm');"
   ]
  },
  {
   "cell_type": "markdown",
   "metadata": {},
   "source": [
    "# 5. Application: Image denoising\n",
    "\n",
    "\n",
    "❓ **Questions** ❓ \n",
    "\n",
    "* Let's add some noise to the input data. \n",
    "* Run the following code\n",
    "* Plot some handwritten digits and their noisy versions"
   ]
  },
  {
   "cell_type": "code",
   "execution_count": 0,
   "metadata": {},
   "outputs": [],
   "source": [
    "import numpy as np\n",
    "\n",
    "noise_factor = 0.5\n",
    "\n",
    "X_train_noisy = X_train + noise_factor * np.random.normal(0., 1., size=X_train.shape)\n",
    "X_test_noisy = X_test + noise_factor * np.random.normal(0., 1., size=X_test.shape)"
   ]
  },
  {
   "cell_type": "code",
   "execution_count": 0,
   "metadata": {
    "tags": [
     "challengify"
    ]
   },
   "outputs": [
    {
     "data": {
      "image/png": "[encoded data removed]",
      "text/plain": [
       "<Figure size 288x144 with 2 Axes>"
      ]
     },
     "metadata": {
      "needs_background": "light"
     },
     "output_type": "display_data"
    },
    {
     "data": {
      "image/png": "[encoded data removed]",
      "text/plain": [
       "<Figure size 288x144 with 2 Axes>"
      ]
     },
     "metadata": {
      "needs_background": "light"
     },
     "output_type": "display_data"
    },
    {
     "data": {
      "image/png": "[encoded data removed]",
      "text/plain": [
       "<Figure size 288x144 with 2 Axes>"
      ]
     },
     "metadata": {
      "needs_background": "light"
     },
     "output_type": "display_data"
    }
   ],
   "source": [
    "for i in range(3):\n",
    "    fig, (ax1, ax2) = plt.subplots(1, 2, figsize=(4,2))\n",
    "    ax1.imshow(X_train[i].reshape(28,28), cmap='Greys')\n",
    "    ax2.imshow(X_train_noisy[i].reshape(28,28), cmap='Greys')\n",
    "    plt.show()"
   ]
  },
  {
   "cell_type": "markdown",
   "metadata": {},
   "source": [
    "❓ **Question** ❓ \n",
    "\n",
    "* Reinitialize your autoencoder (with a latent space of 2) \n",
    "* Train it again, this time using the noisy train dataset instead of the normal train dataset\n",
    "    * *Keep `batch_size = 32` and `epochs=5`*\n",
    "* What do you expect if you run the autoencoder on the noisy data instead of the original data in terms of performance ?"
   ]
  },
  {
   "cell_type": "code",
   "execution_count": 0,
   "metadata": {
    "tags": [
     "challengify"
    ]
   },
   "outputs": [
    {
     "name": "stdout",
     "output_type": "stream",
     "text": [
      "Epoch 1/20\n",
      "1875/1875 [==============================] - 14s 7ms/step - loss: 0.0628\n",
      "Epoch 2/20\n",
      "1875/1875 [==============================] - 15s 8ms/step - loss: 0.0557\n",
      "Epoch 3/20\n",
      "1875/1875 [==============================] - 14s 7ms/step - loss: 0.0542\n",
      "Epoch 4/20\n",
      "1875/1875 [==============================] - 14s 8ms/step - loss: 0.0537\n",
      "Epoch 5/20\n",
      "1875/1875 [==============================] - 13s 7ms/step - loss: 0.0533\n",
      "Epoch 6/20\n",
      "1875/1875 [==============================] - 14s 7ms/step - loss: 0.0529\n",
      "Epoch 7/20\n",
      "1875/1875 [==============================] - 13s 7ms/step - loss: 0.0526\n",
      "Epoch 8/20\n",
      "1875/1875 [==============================] - 13s 7ms/step - loss: 0.0524\n",
      "Epoch 9/20\n",
      "1875/1875 [==============================] - 13s 7ms/step - loss: 0.0522\n",
      "Epoch 10/20\n",
      "1875/1875 [==============================] - 13s 7ms/step - loss: 0.0521\n",
      "Epoch 11/20\n",
      "1875/1875 [==============================] - 13s 7ms/step - loss: 0.0521\n",
      "Epoch 12/20\n",
      "1875/1875 [==============================] - 12s 6ms/step - loss: 0.0520\n",
      "Epoch 13/20\n",
      "1875/1875 [==============================] - 13s 7ms/step - loss: 0.0520\n",
      "Epoch 14/20\n",
      "1875/1875 [==============================] - 11s 6ms/step - loss: 0.0519\n",
      "Epoch 15/20\n",
      "1875/1875 [==============================] - 11s 6ms/step - loss: 0.0519\n",
      "Epoch 16/20\n",
      "1875/1875 [==============================] - 12s 6ms/step - loss: 0.0518\n",
      "Epoch 17/20\n",
      "1875/1875 [==============================] - 13s 7ms/step - loss: 0.0518\n",
      "Epoch 18/20\n",
      "1875/1875 [==============================] - 13s 7ms/step - loss: 0.0517\n",
      "Epoch 19/20\n",
      "1875/1875 [==============================] - 12s 6ms/step - loss: 0.0517\n",
      "Epoch 20/20\n",
      "1875/1875 [==============================] - 12s 6ms/step - loss: 0.0517\n"
     ]
    }
   ],
   "source": [
    "encoder = build_encoder(2)\n",
    "decoder = build_decoder(2)\n",
    "autoencoder = build_autoencoder(encoder, decoder)\n",
    "compile_autoencoder(autoencoder)\n",
    "\n",
    "history_denoising = autoencoder.fit(X_train_noisy, X_train, epochs=20, batch_size=32)"
   ]
  },
  {
   "cell_type": "markdown",
   "metadata": {},
   "source": [
    "❓ **Question** ❓ For some noisy test images, predict the denoised images and plot the results side by side..."
   ]
  },
  {
   "cell_type": "code",
   "execution_count": 0,
   "metadata": {
    "tags": [
     "challengify"
    ]
   },
   "outputs": [
    {
     "name": "stdout",
     "output_type": "stream",
     "text": [
      "313/313 [==============================] - 1s 2ms/step\n"
     ]
    },
    {
     "data": {
      "image/png": "[encoded data removed]",
      "text/plain": [
       "<Figure size 288x144 with 2 Axes>"
      ]
     },
     "metadata": {
      "needs_background": "light"
     },
     "output_type": "display_data"
    },
    {
     "data": {
      "image/png": "[encoded data removed]",
      "text/plain": [
       "<Figure size 288x144 with 2 Axes>"
      ]
     },
     "metadata": {
      "needs_background": "light"
     },
     "output_type": "display_data"
    },
    {
     "data": {
      "image/png": "[encoded data removed]",
      "text/plain": [
       "<Figure size 288x144 with 2 Axes>"
      ]
     },
     "metadata": {
      "needs_background": "light"
     },
     "output_type": "display_data"
    },
    {
     "data": {
      "image/png": "[encoded data removed]",
      "text/plain": [
       "<Figure size 288x144 with 2 Axes>"
      ]
     },
     "metadata": {
      "needs_background": "light"
     },
     "output_type": "display_data"
    },
    {
     "data": {
      "image/png": "[encoded data removed]",
      "text/plain": [
       "<Figure size 288x144 with 2 Axes>"
      ]
     },
     "metadata": {
      "needs_background": "light"
     },
     "output_type": "display_data"
    },
    {
     "data": {
      "image/png": "[encoded data removed]",
      "text/plain": [
       "<Figure size 288x144 with 2 Axes>"
      ]
     },
     "metadata": {
      "needs_background": "light"
     },
     "output_type": "display_data"
    },
    {
     "data": {
      "image/png": "[encoded data removed]",
      "text/plain": [
       "<Figure size 288x144 with 2 Axes>"
      ]
     },
     "metadata": {
      "needs_background": "light"
     },
     "output_type": "display_data"
    },
    {
     "data": {
      "image/png": "[encoded data removed]",
      "text/plain": [
       "<Figure size 288x144 with 2 Axes>"
      ]
     },
     "metadata": {
      "needs_background": "light"
     },
     "output_type": "display_data"
    },
    {
     "data": {
      "image/png": "[encoded data removed]",
      "text/plain": [
       "<Figure size 288x144 with 2 Axes>"
      ]
     },
     "metadata": {
      "needs_background": "light"
     },
     "output_type": "display_data"
    },
    {
     "data": {
      "image/png": "[encoded data removed]",
      "text/plain": [
       "<Figure size 288x144 with 2 Axes>"
      ]
     },
     "metadata": {
      "needs_background": "light"
     },
     "output_type": "display_data"
    }
   ],
   "source": [
    "prediction = autoencoder.predict(X_test_noisy, verbose=1)\n",
    "\n",
    "for i in range(10):\n",
    "    fig, (ax1, ax2) = plt.subplots(1, 2, figsize=(4,2))\n",
    "    ax1.imshow(prediction[i].reshape(28,28), cmap='Greys')\n",
    "    ax2.imshow(X_test_noisy[i].reshape(28,28), cmap='Greys')\n",
    "    plt.show()"
   ]
  },
  {
   "cell_type": "markdown",
   "metadata": {},
   "source": [
    "❓ **Question** ❓ \n",
    "\n",
    "👉 Now, try to evaluate which **`latent_dimension`** is the most suitable in order to have **`the best image reconstruction preprocess`** \n",
    "\n",
    "👉 that is to ask: `How to remove as much noise as possible in the noisy dataset using the latent dimension?`"
   ]
  },
  {
   "cell_type": "code",
   "execution_count": 0,
   "metadata": {},
   "outputs": [],
   "source": [
    "# YOUR ANSWER HERE"
   ]
  },
  {
   "cell_type": "code",
   "execution_count": 0,
   "metadata": {
    "tags": [
     "delete_begin"
    ]
   },
   "outputs": [
    {
     "name": "stdout",
     "output_type": "stream",
     "text": [
      " \n",
      "--------------------------------------------------------------------------------\n",
      "Running the autoencoder with latent_dimension = 2\n",
      "--------------------------------------------------------------------------------\n",
      "Epoch 1/20\n",
      "1875/1875 [==============================] - 13s 7ms/step - loss: 0.0602\n",
      "Epoch 2/20\n",
      "1875/1875 [==============================] - 12s 6ms/step - loss: 0.0542\n",
      "Epoch 3/20\n",
      "1875/1875 [==============================] - 12s 7ms/step - loss: 0.0529\n",
      "Epoch 4/20\n",
      "1875/1875 [==============================] - 12s 6ms/step - loss: 0.0522\n",
      "Epoch 5/20\n",
      "1875/1875 [==============================] - 12s 7ms/step - loss: 0.0518\n",
      "Epoch 6/20\n",
      "1875/1875 [==============================] - 13s 7ms/step - loss: 0.0514\n",
      "Epoch 7/20\n",
      "1875/1875 [==============================] - 13s 7ms/step - loss: 0.0511\n",
      "Epoch 8/20\n",
      "1875/1875 [==============================] - 13s 7ms/step - loss: 0.0509\n",
      "Epoch 9/20\n",
      "1875/1875 [==============================] - 12s 6ms/step - loss: 0.0507\n",
      "Epoch 10/20\n",
      "1875/1875 [==============================] - 12s 6ms/step - loss: 0.0506\n",
      "Epoch 11/20\n",
      "1875/1875 [==============================] - 12s 7ms/step - loss: 0.0505\n",
      "Epoch 12/20\n",
      "1875/1875 [==============================] - 12s 6ms/step - loss: 0.0504\n",
      "Epoch 13/20\n",
      "1875/1875 [==============================] - 12s 6ms/step - loss: 0.0504\n",
      "Epoch 14/20\n",
      "1875/1875 [==============================] - 12s 6ms/step - loss: 0.0503\n",
      "Epoch 15/20\n",
      "1875/1875 [==============================] - 12s 6ms/step - loss: 0.0503\n",
      "Epoch 16/20\n",
      "1875/1875 [==============================] - 12s 6ms/step - loss: 0.0502\n",
      "Epoch 17/20\n",
      "1875/1875 [==============================] - 12s 6ms/step - loss: 0.0502\n",
      "Epoch 18/20\n",
      "1875/1875 [==============================] - 12s 6ms/step - loss: 0.0501\n",
      "Epoch 19/20\n",
      "1875/1875 [==============================] - 12s 7ms/step - loss: 0.0501\n",
      "Epoch 20/20\n",
      "1875/1875 [==============================] - 12s 6ms/step - loss: 0.0500\n",
      "313/313 [==============================] - 1s 3ms/step - loss: 0.0499\n",
      " \n",
      "--------------------------------------------------------------------------------\n",
      "Running the autoencoder with latent_dimension = 5\n",
      "--------------------------------------------------------------------------------\n",
      "Epoch 1/20\n",
      "1875/1875 [==============================] - 13s 7ms/step - loss: 0.0510\n",
      "Epoch 2/20\n",
      "1875/1875 [==============================] - 12s 7ms/step - loss: 0.0414\n",
      "Epoch 3/20\n",
      "1875/1875 [==============================] - 13s 7ms/step - loss: 0.0396\n",
      "Epoch 4/20\n",
      "1875/1875 [==============================] - 12s 6ms/step - loss: 0.0386\n",
      "Epoch 5/20\n",
      "1875/1875 [==============================] - 12s 6ms/step - loss: 0.0381\n",
      "Epoch 6/20\n",
      "1875/1875 [==============================] - 12s 6ms/step - loss: 0.0378\n",
      "Epoch 7/20\n",
      "1875/1875 [==============================] - 12s 7ms/step - loss: 0.0376\n",
      "Epoch 8/20\n",
      "1875/1875 [==============================] - 12s 6ms/step - loss: 0.0373\n",
      "Epoch 9/20\n",
      "1875/1875 [==============================] - 12s 6ms/step - loss: 0.0371\n",
      "Epoch 10/20\n",
      "1875/1875 [==============================] - 12s 6ms/step - loss: 0.0369\n",
      "Epoch 11/20\n",
      "1875/1875 [==============================] - 12s 6ms/step - loss: 0.0367\n",
      "Epoch 12/20\n",
      "1875/1875 [==============================] - 12s 7ms/step - loss: 0.0365\n",
      "Epoch 13/20\n",
      "1875/1875 [==============================] - 12s 6ms/step - loss: 0.0363\n",
      "Epoch 14/20\n",
      "1875/1875 [==============================] - 12s 7ms/step - loss: 0.0362\n",
      "Epoch 15/20\n",
      "1875/1875 [==============================] - 12s 6ms/step - loss: 0.0360\n",
      "Epoch 16/20\n",
      "1875/1875 [==============================] - 12s 6ms/step - loss: 0.0358\n",
      "Epoch 17/20\n",
      "1875/1875 [==============================] - 12s 6ms/step - loss: 0.0357\n",
      "Epoch 18/20\n",
      "1875/1875 [==============================] - 12s 6ms/step - loss: 0.0356\n",
      "Epoch 19/20\n",
      "1875/1875 [==============================] - 12s 6ms/step - loss: 0.0355\n",
      "Epoch 20/20\n",
      "1875/1875 [==============================] - 12s 6ms/step - loss: 0.0354\n",
      "313/313 [==============================] - 1s 3ms/step - loss: 0.0350\n",
      " \n",
      "--------------------------------------------------------------------------------\n",
      "Running the autoencoder with latent_dimension = 8\n",
      "--------------------------------------------------------------------------------\n",
      "Epoch 1/20\n",
      "1875/1875 [==============================] - 12s 6ms/step - loss: 0.0452\n",
      "Epoch 2/20\n",
      "1875/1875 [==============================] - 12s 6ms/step - loss: 0.0334\n",
      "Epoch 3/20\n",
      "1875/1875 [==============================] - 12s 6ms/step - loss: 0.0314\n",
      "Epoch 4/20\n",
      "1875/1875 [==============================] - 12s 6ms/step - loss: 0.0303\n",
      "Epoch 5/20\n",
      "1875/1875 [==============================] - 12s 6ms/step - loss: 0.0297\n",
      "Epoch 6/20\n",
      "1875/1875 [==============================] - 12s 6ms/step - loss: 0.0293\n",
      "Epoch 7/20\n",
      "1875/1875 [==============================] - 12s 6ms/step - loss: 0.0290\n",
      "Epoch 8/20\n",
      "1875/1875 [==============================] - 12s 6ms/step - loss: 0.0288\n",
      "Epoch 9/20\n",
      "1875/1875 [==============================] - 12s 6ms/step - loss: 0.0286\n",
      "Epoch 10/20\n",
      "1875/1875 [==============================] - 12s 6ms/step - loss: 0.0284\n",
      "Epoch 11/20\n",
      "1875/1875 [==============================] - 11s 6ms/step - loss: 0.0283\n",
      "Epoch 12/20\n",
      "1875/1875 [==============================] - 12s 6ms/step - loss: 0.0282\n",
      "Epoch 13/20\n",
      "1875/1875 [==============================] - 12s 6ms/step - loss: 0.0281\n",
      "Epoch 14/20\n",
      "1875/1875 [==============================] - 12s 6ms/step - loss: 0.0280\n",
      "Epoch 15/20\n",
      "1875/1875 [==============================] - 12s 6ms/step - loss: 0.0279\n",
      "Epoch 16/20\n",
      "1875/1875 [==============================] - 11s 6ms/step - loss: 0.0279\n",
      "Epoch 17/20\n",
      "1875/1875 [==============================] - 12s 6ms/step - loss: 0.0278\n",
      "Epoch 18/20\n",
      "1875/1875 [==============================] - 12s 6ms/step - loss: 0.0277\n",
      "Epoch 19/20\n",
      "1875/1875 [==============================] - 12s 6ms/step - loss: 0.0277\n",
      "Epoch 20/20\n",
      "1875/1875 [==============================] - 12s 6ms/step - loss: 0.0276\n",
      "313/313 [==============================] - 1s 3ms/step - loss: 0.0273\n",
      " \n",
      "--------------------------------------------------------------------------------\n",
      "Running the autoencoder with latent_dimension = 11\n",
      "--------------------------------------------------------------------------------\n",
      "Epoch 1/20\n",
      "1875/1875 [==============================] - 12s 6ms/step - loss: 0.0424\n",
      "Epoch 2/20\n",
      "1875/1875 [==============================] - 12s 6ms/step - loss: 0.0289\n",
      "Epoch 3/20\n",
      "1875/1875 [==============================] - 13s 7ms/step - loss: 0.0269\n",
      "Epoch 4/20\n",
      "1875/1875 [==============================] - 12s 6ms/step - loss: 0.0260\n",
      "Epoch 5/20\n",
      "1875/1875 [==============================] - 12s 6ms/step - loss: 0.0255\n",
      "Epoch 6/20\n",
      "1875/1875 [==============================] - 12s 6ms/step - loss: 0.0250\n",
      "Epoch 7/20\n",
      "1875/1875 [==============================] - 12s 6ms/step - loss: 0.0248\n",
      "Epoch 8/20\n",
      "1875/1875 [==============================] - 12s 6ms/step - loss: 0.0245\n",
      "Epoch 9/20\n",
      "1875/1875 [==============================] - 12s 6ms/step - loss: 0.0243\n",
      "Epoch 10/20\n",
      "1875/1875 [==============================] - 12s 6ms/step - loss: 0.0242\n",
      "Epoch 11/20\n",
      "1875/1875 [==============================] - 12s 6ms/step - loss: 0.0241\n",
      "Epoch 12/20\n",
      "1875/1875 [==============================] - 12s 6ms/step - loss: 0.0239\n",
      "Epoch 13/20\n",
      "1875/1875 [==============================] - 12s 6ms/step - loss: 0.0238\n",
      "Epoch 14/20\n",
      "1875/1875 [==============================] - 12s 7ms/step - loss: 0.0237\n",
      "Epoch 15/20\n",
      "1875/1875 [==============================] - 12s 6ms/step - loss: 0.0236\n",
      "Epoch 16/20\n",
      "1875/1875 [==============================] - 12s 6ms/step - loss: 0.0236\n",
      "Epoch 17/20\n",
      "1875/1875 [==============================] - 11s 6ms/step - loss: 0.0235\n",
      "Epoch 18/20\n",
      "1875/1875 [==============================] - 12s 7ms/step - loss: 0.0234\n",
      "Epoch 19/20\n",
      "1875/1875 [==============================] - 12s 7ms/step - loss: 0.0234\n",
      "Epoch 20/20\n",
      "1875/1875 [==============================] - 12s 7ms/step - loss: 0.0233\n",
      "313/313 [==============================] - 1s 3ms/step - loss: 0.0229\n",
      " \n",
      "--------------------------------------------------------------------------------\n",
      "Running the autoencoder with latent_dimension = 14\n",
      "--------------------------------------------------------------------------------\n",
      "Epoch 1/20\n",
      "1875/1875 [==============================] - 13s 6ms/step - loss: 0.0416\n",
      "Epoch 2/20\n",
      "1875/1875 [==============================] - 12s 6ms/step - loss: 0.0266\n",
      "Epoch 3/20\n",
      "1875/1875 [==============================] - 12s 6ms/step - loss: 0.0244\n",
      "Epoch 4/20\n",
      "1875/1875 [==============================] - 11s 6ms/step - loss: 0.0233\n",
      "Epoch 5/20\n",
      "1875/1875 [==============================] - 12s 6ms/step - loss: 0.0226\n",
      "Epoch 6/20\n",
      "1875/1875 [==============================] - 12s 6ms/step - loss: 0.0222\n",
      "Epoch 7/20\n",
      "1875/1875 [==============================] - 12s 6ms/step - loss: 0.0218\n",
      "Epoch 8/20\n",
      "1875/1875 [==============================] - 12s 6ms/step - loss: 0.0215\n",
      "Epoch 9/20\n",
      "1875/1875 [==============================] - 12s 6ms/step - loss: 0.0213\n",
      "Epoch 10/20\n",
      "1875/1875 [==============================] - 12s 6ms/step - loss: 0.0211\n",
      "Epoch 11/20\n",
      "1875/1875 [==============================] - 12s 6ms/step - loss: 0.0208\n",
      "Epoch 12/20\n",
      "1875/1875 [==============================] - 12s 6ms/step - loss: 0.0206\n",
      "Epoch 13/20\n",
      "1875/1875 [==============================] - 12s 6ms/step - loss: 0.0205\n",
      "Epoch 14/20\n",
      "1875/1875 [==============================] - 12s 7ms/step - loss: 0.0203\n",
      "Epoch 15/20\n",
      "1875/1875 [==============================] - 12s 7ms/step - loss: 0.0202\n",
      "Epoch 16/20\n",
      "1875/1875 [==============================] - 12s 7ms/step - loss: 0.0201\n",
      "Epoch 17/20\n",
      "1875/1875 [==============================] - 11s 6ms/step - loss: 0.0199\n",
      "Epoch 18/20\n",
      "1875/1875 [==============================] - 11s 6ms/step - loss: 0.0198\n",
      "Epoch 19/20\n",
      "1875/1875 [==============================] - 12s 6ms/step - loss: 0.0197\n",
      "Epoch 20/20\n",
      "1875/1875 [==============================] - 12s 6ms/step - loss: 0.0197\n",
      "313/313 [==============================] - 1s 2ms/step - loss: 0.0194\n",
      " \n",
      "--------------------------------------------------------------------------------\n",
      "Running the autoencoder with latent_dimension = 17\n",
      "--------------------------------------------------------------------------------\n",
      "Epoch 1/20\n",
      "1875/1875 [==============================] - 12s 6ms/step - loss: 0.0429\n",
      "Epoch 2/20\n",
      "1875/1875 [==============================] - 12s 6ms/step - loss: 0.0260\n",
      "Epoch 3/20\n",
      "1875/1875 [==============================] - 12s 6ms/step - loss: 0.0230\n",
      "Epoch 4/20\n",
      "1875/1875 [==============================] - 12s 7ms/step - loss: 0.0215\n",
      "Epoch 5/20\n",
      "1875/1875 [==============================] - 12s 7ms/step - loss: 0.0206\n",
      "Epoch 6/20\n",
      "1875/1875 [==============================] - 11s 6ms/step - loss: 0.0200\n",
      "Epoch 7/20\n",
      "1875/1875 [==============================] - 12s 6ms/step - loss: 0.0196\n",
      "Epoch 8/20\n",
      "1875/1875 [==============================] - 12s 6ms/step - loss: 0.0192\n",
      "Epoch 9/20\n",
      "1875/1875 [==============================] - 12s 6ms/step - loss: 0.0190\n",
      "Epoch 10/20\n",
      "1875/1875 [==============================] - 12s 6ms/step - loss: 0.0188\n",
      "Epoch 11/20\n",
      "1875/1875 [==============================] - 13s 7ms/step - loss: 0.0186\n",
      "Epoch 12/20\n",
      "1875/1875 [==============================] - 15s 8ms/step - loss: 0.0185\n",
      "Epoch 13/20\n",
      "1875/1875 [==============================] - 13s 7ms/step - loss: 0.0183\n",
      "Epoch 14/20\n",
      "1875/1875 [==============================] - 13s 7ms/step - loss: 0.0182\n",
      "Epoch 15/20\n",
      "1875/1875 [==============================] - 13s 7ms/step - loss: 0.0181\n",
      "Epoch 16/20\n",
      "1875/1875 [==============================] - 15s 8ms/step - loss: 0.0180\n",
      "Epoch 17/20\n",
      "1875/1875 [==============================] - 15s 8ms/step - loss: 0.0179\n",
      "Epoch 18/20\n",
      "1875/1875 [==============================] - 15s 8ms/step - loss: 0.0178\n",
      "Epoch 19/20\n",
      "1875/1875 [==============================] - 13s 7ms/step - loss: 0.0177\n",
      "Epoch 20/20\n",
      "1875/1875 [==============================] - 13s 7ms/step - loss: 0.0177\n",
      "313/313 [==============================] - 1s 2ms/step - loss: 0.0173\n"
     ]
    }
   ],
   "source": [
    "latent_dimensions = list(range(2,20,3))\n",
    "\n",
    "test_errors = []\n",
    "for latent_dimension in latent_dimensions:\n",
    "    print(\" \")\n",
    "    print(\"-\"*80)\n",
    "    print(f\"Running the autoencoder with latent_dimension = {latent_dimension}\")\n",
    "    print(\"-\"*80)    \n",
    "    encoder = build_encoder(latent_dimension=latent_dimension)\n",
    "    decoder = build_decoder(latent_dimension=latent_dimension)\n",
    "    autoencoder = build_autoencoder(encoder, decoder)\n",
    "    compile_autoencoder(autoencoder)\n",
    "    autoencoder.fit(X_train, X_train, epochs=20, batch_size=32)\n",
    "    error = autoencoder.evaluate(X_test, X_test)\n",
    "    test_errors.append(error)\n"
   ]
  },
  {
   "cell_type": "code",
   "execution_count": 0,
   "metadata": {
    "tags": [
     "delete_end"
    ]
   },
   "outputs": [
    {
     "data": {
      "image/png": "[encoded data removed]",
      "text/plain": [
       "<Figure size 720x432 with 1 Axes>"
      ]
     },
     "metadata": {
      "needs_background": "light"
     },
     "output_type": "display_data"
    }
   ],
   "source": [
    "import matplotlib.pyplot as plt\n",
    "\n",
    "with plt.style.context('seaborn-deep'):\n",
    "    # figsize\n",
    "    plt.figure(figsize=(10,6))\n",
    "    # getting axes\n",
    "    ax = plt.gca()\n",
    "    # plotting\n",
    "    ax.plot(latent_dimensions, test_errors,color='black', linestyle='dashed', marker='o',markerfacecolor='#947FFF', markersize=10)\n",
    "    # more\n",
    "    ax.set_title('MSE Test Error vs. $Latent$ $Dimensions$', fontsize = 18)\n",
    "    ax.set_xlabel('Latent Dimension', fontsize = 14)\n",
    "    ax.set_ylabel('MSE Score', fontsize = 14)\n",
    "    ax.grid(axis=\"x\",linewidth=0.5)\n",
    "    ax.grid(axis=\"y\",linewidth=0.5)\n",
    "    \n",
    "    # focusing\n",
    "    ax.scatter(8,test_errors[2],c='#00ad8b',s=700)\n",
    "    \n",
    "    # annotate\n",
    "    ax.annotate(\"Elbow Method ?\", \n",
    "               xy=(8,test_errors[2]),\n",
    "                xytext=(8+0.25,test_errors[2]+0.0025), \n",
    "                arrowprops=dict(arrowstyle='-|>',\n",
    "                                fc=\"k\",\n",
    "                                ec=\"k\",\n",
    "                                lw=2),\n",
    "                bbox=dict(pad=5, facecolor=\"none\", edgecolor=\"none\")\n",
    "               )\n",
    "    \n",
    "    #ax.annotate(\"Best K\", \n",
    "          #  xy=(11,score[11-1]),\n",
    "          #  xytext=(11+0.25,score[11-1]-0.025), \n",
    "          #  arrowprops=dict(arrowstyle='-|>',\n",
    "            #                fc=\"k\",\n",
    "            #                ec=\"k\",\n",
    "           #                 lw=2),\n",
    "           # bbox=dict(pad=5, facecolor=\"none\", edgecolor=\"none\")\n",
    "           #)\n",
    "\n",
    "    # spines\n",
    "    \n",
    "    \n",
    "    plt.show();\n"
   ]
  },
  {
   "cell_type": "code",
   "execution_count": 0,
   "metadata": {},
   "outputs": [],
   "source": []
  }
 ],
 "metadata": {
  "kernelspec": {
   "display_name": "Python 3",
   "language": "python",
   "name": "python3"
  }
 },
 "nbformat": 4,
 "nbformat_minor": 2
}