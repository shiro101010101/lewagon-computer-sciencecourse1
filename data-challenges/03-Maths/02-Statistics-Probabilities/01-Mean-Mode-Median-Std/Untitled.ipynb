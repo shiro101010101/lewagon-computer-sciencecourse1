{
 "cells": [
  {
   "cell_type": "code",
   "execution_count": 1,
   "id": "aaa6eddf",
   "metadata": {},
   "outputs": [],
   "source": [
    "import math\n",
    "import statistics\n",
    "import numpy as np\n",
    "from numpy.core.fromnumeric import sort\n",
    "import scipy\n",
    "import scipy.stats as stats\n",
    "\n"
   ]
  },
  {
   "cell_type": "code",
   "execution_count": 4,
   "id": "189288fa",
   "metadata": {},
   "outputs": [],
   "source": [
    "samples = [5, 7, 2, 2, 7, 9]"
   ]
  },
  {
   "cell_type": "code",
   "execution_count": 6,
   "id": "a5b6bd2c",
   "metadata": {},
   "outputs": [
    {
     "data": {
      "text/plain": [
       "5.333333333333333"
      ]
     },
     "execution_count": 6,
     "metadata": {},
     "output_type": "execute_result"
    }
   ],
   "source": [
    "def my_mean(samples):\n",
    "    '''returns the mean of the observations'''\n",
    "    return sum(samples)/len(samples)\n",
    "my_mean(samples)"
   ]
  },
  {
   "cell_type": "code",
   "execution_count": 29,
   "id": "055d6a79",
   "metadata": {},
   "outputs": [
    {
     "data": {
      "text/plain": [
       "2.875181153713043"
      ]
     },
     "execution_count": 29,
     "metadata": {},
     "output_type": "execute_result"
    }
   ],
   "source": [
    "def my_standard_deviation(samples):\n",
    "    '''returns the standard deviation of the observations'''\n",
    "    mean=sum(samples)/len(samples)\n",
    "    num=len(samples)-1\n",
    "    sigma_right=[(x - mean)**2 for x in samples]\n",
    "    sigma_lef_right=sum(sigma_right)\n",
    "    return math.sqrt(sigma_lef_right/num)\n",
    "my_standard_deviation(samples)"
   ]
  },
  {
   "cell_type": "code",
   "execution_count": 28,
   "id": "27537240",
   "metadata": {},
   "outputs": [
    {
     "data": {
      "text/plain": [
       "2.875181153713043"
      ]
     },
     "execution_count": 28,
     "metadata": {},
     "output_type": "execute_result"
    }
   ],
   "source": [
    "statistics.stdev(samples)"
   ]
  },
  {
   "cell_type": "code",
   "execution_count": 27,
   "id": "f1c3ddfb",
   "metadata": {},
   "outputs": [
    {
     "data": {
      "text/plain": [
       "6.0"
      ]
     },
     "execution_count": 27,
     "metadata": {},
     "output_type": "execute_result"
    }
   ],
   "source": [
    "def my_median(samples):\n",
    "    '''returns the median of the observations'''\n",
    "    n=len(samples)\n",
    "    index=n//2 #the floor division // rounds the result down to the nearest whole number\n",
    "    if n%2:#odd number\n",
    "        return sorted(samples)[index]\n",
    "    #even number\n",
    "    return sum(sorted(samples)[index-1:index+1])/2\n",
    "my_median([5, 7, 2, 2, 7, 9])"
   ]
  },
  {
   "cell_type": "code",
   "execution_count": 31,
   "id": "dd19b45f",
   "metadata": {},
   "outputs": [
    {
     "data": {
      "text/plain": [
       "7"
      ]
     },
     "execution_count": 31,
     "metadata": {},
     "output_type": "execute_result"
    }
   ],
   "source": [
    "statistics.mode(samples)\n"
   ]
  },
  {
   "cell_type": "code",
   "execution_count": 42,
   "id": "a174728b",
   "metadata": {},
   "outputs": [],
   "source": [
    "from collections import Counter\n",
    "samples = [5, 7, 2, 2, 7, 9]"
   ]
  },
  {
   "cell_type": "code",
   "execution_count": 44,
   "id": "33f7c52c",
   "metadata": {},
   "outputs": [
    {
     "data": {
      "text/plain": [
       "Counter({5: 1, 7: 2, 2: 2, 9: 1})"
      ]
     },
     "execution_count": 44,
     "metadata": {},
     "output_type": "execute_result"
    }
   ],
   "source": [
    "c=Counter(samples)\n",
    "c"
   ]
  },
  {
   "cell_type": "code",
   "execution_count": 48,
   "id": "d2691d47",
   "metadata": {},
   "outputs": [
    {
     "data": {
      "text/plain": [
       "[(7, 2), (2, 2), (5, 1), (9, 1)]"
      ]
     },
     "execution_count": 48,
     "metadata": {},
     "output_type": "execute_result"
    }
   ],
   "source": [
    "c.most_common()"
   ]
  },
  {
   "cell_type": "code",
   "execution_count": 56,
   "id": "c4262f42",
   "metadata": {},
   "outputs": [
    {
     "data": {
      "text/plain": [
       "[(7, 2), (2, 2)]"
      ]
     },
     "execution_count": 56,
     "metadata": {},
     "output_type": "execute_result"
    }
   ],
   "source": [
    "c.most_common(2)"
   ]
  },
  {
   "cell_type": "code",
   "execution_count": 52,
   "id": "c730ed82",
   "metadata": {},
   "outputs": [
    {
     "data": {
      "text/plain": [
       "(7, 2)"
      ]
     },
     "execution_count": 52,
     "metadata": {},
     "output_type": "execute_result"
    }
   ],
   "source": [
    "c.most_common(1)[0]"
   ]
  },
  {
   "cell_type": "code",
   "execution_count": 58,
   "id": "46d70db6",
   "metadata": {},
   "outputs": [
    {
     "data": {
      "text/plain": [
       "2"
      ]
     },
     "execution_count": 58,
     "metadata": {},
     "output_type": "execute_result"
    }
   ],
   "source": [
    "c.most_common(1)[0][1]"
   ]
  },
  {
   "cell_type": "code",
   "execution_count": 71,
   "id": "4c3bf23f",
   "metadata": {},
   "outputs": [
    {
     "data": {
      "text/plain": [
       "7"
      ]
     },
     "execution_count": 71,
     "metadata": {},
     "output_type": "execute_result"
    }
   ],
   "source": [
    "def my_mode(samples):\n",
    "    '''returns the mode of the observations'''\n",
    "    c1=Counter(samples)\n",
    "    lis=[num for num,fre in c1.items() if fre == c1.most_common(1)[0][1]]\n",
    "    for i in lis:\n",
    "        return i\n",
    "my_mode(samples)"
   ]
  },
  {
   "cell_type": "code",
   "execution_count": 70,
   "id": "5c9becce",
   "metadata": {},
   "outputs": [
    {
     "name": "stdout",
     "output_type": "stream",
     "text": [
      "7\n",
      "2\n"
     ]
    }
   ],
   "source": [
    "lis=[7, 2]\n",
    "for i in lis:\n",
    "    print(i)"
   ]
  },
  {
   "cell_type": "code",
   "execution_count": 36,
   "id": "bc56a00c",
   "metadata": {},
   "outputs": [
    {
     "data": {
      "text/plain": [
       "[7, 2]"
      ]
     },
     "execution_count": 36,
     "metadata": {},
     "output_type": "execute_result"
    }
   ],
   "source": [
    "from collections import Counter\n",
    "def my_mode(sample):\n",
    "    c = Counter(sample)\n",
    "    return [k for k, v in c.items() if v == c.most_common(1)[0][1]]\n",
    "my_mode(samples)"
   ]
  },
  {
   "cell_type": "code",
   "execution_count": 38,
   "id": "fc956bf3",
   "metadata": {},
   "outputs": [
    {
     "data": {
      "text/plain": [
       "2"
      ]
     },
     "execution_count": 38,
     "metadata": {},
     "output_type": "execute_result"
    }
   ],
   "source": [
    "max(set(samples), key=samples.count)"
   ]
  },
  {
   "cell_type": "code",
   "execution_count": null,
   "id": "8cab6261",
   "metadata": {},
   "outputs": [],
   "source": []
  }
 ],
 "metadata": {
  "kernelspec": {
   "display_name": "Python 3 (ipykernel)",
   "language": "python",
   "name": "python3"
  },
  "language_info": {
   "codemirror_mode": {
    "name": "ipython",
    "version": 3
   },
   "file_extension": ".py",
   "mimetype": "text/x-python",
   "name": "python",
   "nbconvert_exporter": "python",
   "pygments_lexer": "ipython3",
   "version": "3.8.12"
  }
 },
 "nbformat": 4,
 "nbformat_minor": 5
}
