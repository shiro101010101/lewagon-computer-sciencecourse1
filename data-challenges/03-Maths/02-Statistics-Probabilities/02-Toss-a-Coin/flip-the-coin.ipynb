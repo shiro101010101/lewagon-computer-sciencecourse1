{
 "cells": [
  {
   "cell_type": "markdown",
   "metadata": {},
   "source": [
    "# Flip a coin : Reality vs Theory"
   ]
  },
  {
   "cell_type": "code",
   "execution_count": 4,
   "metadata": {},
   "outputs": [],
   "source": [
    "import matplotlib.pyplot as plt\n",
    "import math\n",
    "import numpy as np\n",
    "import math\n",
    "\n",
    "# --- Data Visualisation\n",
    "import matplotlib.pyplot as plt\n",
    "from matplotlib import colors\n",
    "import seaborn as sns"
   ]
  },
  {
   "cell_type": "markdown",
   "metadata": {},
   "source": [
    "## 1. Flipping a coin multiple times"
   ]
  },
  {
   "cell_type": "markdown",
   "metadata": {},
   "source": [
    "💡 Quick reminder : \n",
    "* a probability equal to 0 (= 0%) means an event will never occur\n",
    "* a probability equal to 1 (= 100%)  means an event will happen for sure.\n",
    "\n",
    "👉 Suppose that we **`flip a coin 4 times`** 👈\n",
    "\n",
    "Can you answer the following ***questions*** :\n",
    "1. How many possible outcomes do we have?\n",
    "2. What is the probability of getting 4 heads?\n",
    "3. What is the probability of getting exactly 2 heads and 2 tails?"
   ]
  },
  {
   "cell_type": "markdown",
   "metadata": {},
   "source": [
    "👩🏻‍🏫 Think about the possible results of each flip, it is :\n",
    "* either `head` (1) \n",
    "* or `tail` (0) \n",
    "\n",
    "✍️ Take your time to grab a pen and a piece of paper to answer these questions. You can draw a `tree` to help you answers these questions."
   ]
  },
  {
   "cell_type": "code",
   "execution_count": 0,
   "metadata": {},
   "outputs": [],
   "source": [
    "# YOUR TURN"
   ]
  },
  {
   "cell_type": "markdown",
   "metadata": {},
   "source": [
    "Untoggle the `answers` and the `visual representation` below only after searching for 10-15 minutes."
   ]
  },
  {
   "cell_type": "markdown",
   "metadata": {},
   "source": [
    "<details>\n",
    "    <summary>Answers</summary>\n",
    "\n",
    "***1.***\n",
    "\n",
    "There are $16 = 2 \\times 2 \\times 2 \\times 2 = 2^4$ possible outcomes.\n",
    "\n",
    "| Flip 1 | Flip 2 | Flip 3 | Flip 4 |\n",
    "|:--------:|:--------:|:--------:|:------:|\n",
    "| 1      | 1      | 1      | 1      |\n",
    "| 1      | 1      | 1      | 0      |\n",
    "| 1      | 1      | 0      | 1      |\n",
    "| 1      | 1      | 0      | 0      |\n",
    "| 1      | 0      | 1      | 1      |\n",
    "| 1      | 0      | 1      | 0      |\n",
    "| 1      | 0      | 0      | 1      |\n",
    "| 1      | 0      | 0      | 0      |\n",
    "| 0      | 1      | 1      | 1      |\n",
    "| 0      | 1      | 1      | 0      |\n",
    "| 0      | 1      | 0      | 1      |\n",
    "| 0      | 1      | 0      | 0      |\n",
    "| 0      | 0      | 1      | 1      |\n",
    "| 0      | 0      | 1      | 0      |\n",
    "| 0      | 0      | 0      | 1      |\n",
    "| 0      | 0      | 0      | 0      |\n",
    "\n",
    "    \n",
    "***2.***\n",
    "\n",
    "There is only  1 way of getting 4 heads (and hence no tails).\n",
    "\n",
    "| Flip 1 | Flip 2 | Flip 3 | Flip 4 |\n",
    "|:--------:|:--------:|:--------:|:------:|\n",
    "| 1      | 1      | 1      | 1      |\n",
    "\n",
    "Let's call __A__ the event of getting exactly 4 heads.  The probability of A is:\n",
    "\n",
    "$$ P(A) = \\frac{1}{16} = 0.0625 = 6.25 \\% $$\n",
    "\n",
    "\n",
    "***3.***\n",
    "\n",
    "There are 6 ways of getting 2 heads (and hence 2 tails).\n",
    "\n",
    "| Flip 1 | Flip 2 | Flip 3 | Flip 4 |\n",
    "|:--------:|:--------:|:--------:|:------:|\n",
    "| 1      | 1      | 0      | 0      |\n",
    "| 1      | 0      | 1      | 0      |\n",
    "| 1      | 0      | 0      | 1      |\n",
    "| 0      | 1      | 1      | 0      |\n",
    "| 0      | 1      | 0      | 1      |\n",
    "| 0      | 0      | 1      | 1      |\n",
    "\n",
    "\n",
    "Let's call __B__ the event of getting exactly 2 heads and 2 tails. The probability of B is:\n",
    "\n",
    "$$ P(B) = \\frac{6}{16} = 0.375 = 37.5 \\% $$\n",
    "\n",
    "</details>"
   ]
  },
  {
   "cell_type": "markdown",
   "metadata": {},
   "source": [
    "<details>\n",
    "           <summary>Visual representation of this 4-coin experiment</summary>\n",
    "\n",
    "<img src=\"https://github.com/lewagon/data-images/blob/master/math/toss_a_coin_four_times.jpeg?raw=true\">\n",
    "\n",
    "</details>"
   ]
  },
  {
   "cell_type": "markdown",
   "metadata": {},
   "source": [
    "---\n",
    "\n",
    "\n",
    "❓❗️ With 4 flips, we can count the possibilities of the different scenarios \"manually\", but how would you do that with 200 flips ❓❗️\n",
    "\n",
    "🧑🏻‍🏫 **Counting the number of \"successes\" in an repeated experiment**:\n",
    "\n",
    "Counting the number of ways to get $k$ heads (the successes) among $n$ flips (the repeated experiment) ...\n",
    "\n",
    "...is equivalent to counting the number of ways to select $k$ items from a set that has $n$ distinct members, *such that the order of selection does not matter*\n",
    "\n",
    "- If the order mattered, picking $k$ elements *one-by-one* among $n$ could be done in $n(n−1)...(n−k+1)$ ways ($n$ choice for the first element, $n-1$ for the second, ..., $n−k+1$ for the $k$-th )\n",
    "\n",
    "- However, in this ordered count, any *unordered set* of $k$ elements have been counted $k(k-1)(k-2)...$ times ($k$ choice for the first, $k-1$ for the second, etc...)\n",
    "\n",
    "- Therefore, if we want the *unordered* count, we have to compensate for them, giving:\n",
    "\n",
    "$${\\frac {n(n-1)\\dotsb (n-k+1)}{k(k-1)\\dotsb 1}}$$\n",
    "\n",
    "This is mathematically equivalent to:\n",
    "\n",
    "$$ \\frac{n!}{k! (n - k)!} \\text{ , where  } n! = 1\\times 2 \\times ... \\times n $$\n",
    "\n",
    "and is written\n",
    "\n",
    "$$ \\binom{n}{k} $$\n",
    "\n",
    "\n",
    "\n",
    "* $ \\binom{n}{k} $ reads as `\"n choose k\"`, or `\"binomial coefficient for k among n\"` \n",
    "* $ n!$ reads as `\"n factorial\"` \n",
    "\n",
    "📚 [Read This](https://www.mathsisfun.com/combinatorics/combinations-permutations.html) and discuss it with your buddy if you didn't understand! It's ok and normal to have trouble with this at first 😵‍💫"
   ]
  },
  {
   "cell_type": "markdown",
   "metadata": {},
   "source": [
    "---\n",
    "❓ Now, implement the  three functions `count_possibilities`, `count_total_possibilities` and `probability` down below ❓\n",
    "\n",
    "* <i>Hint</i>: Use 📚 [`math.factorial()`](https://docs.python.org/3/library/math.html)"
   ]
  },
  {
   "cell_type": "code",
   "execution_count": 5,
   "metadata": {},
   "outputs": [
    {
     "data": {
      "text/plain": [
       "{0: 0.25, 1: 0.25, 2: 0.25, 3: 0.25}"
      ]
     },
     "execution_count": 5,
     "metadata": {},
     "output_type": "execute_result"
    }
   ],
   "source": [
    "def probability(n_toss):\n",
    "    '''TO DO: return a dictionary. The keys will be the possible number of heads in each game,\n",
    "            so they can't be over `n_toss` or under 0. The values for each of those keys will correspond\n",
    "            to the probability of a game ending with that result.\n",
    "      probability(5) = {0: ..., 1:..., 2:..., 3:..., 4:..., 5:...}'''\n",
    "    r=3\n",
    "    n=n_toss\n",
    "    n_c_r=math.factorial(n)/(math.factorial(r)*math.factorial(n-r))\n",
    "    p=0.5\n",
    "    p_k=p**r\n",
    "    fail=(1-p)**(n-r)\n",
    "    \n",
    "    total=n_c_r*p_k*fail\n",
    "    \n",
    "    return{r:float(total)for r in range(n_toss)}\n",
    "probability(4)\n",
    "\n",
    "#expected = {0: 0.0625, 1: 0.25, 2: 0.375, 3: 0.25, 4: 0.0625}\n",
    "#expected = {0: 0.5, 1: 0.5}\n"
   ]
  },
  {
   "cell_type": "code",
   "execution_count": 6,
   "metadata": {},
   "outputs": [
    {
     "data": {
      "text/plain": [
       "8"
      ]
     },
     "execution_count": 6,
     "metadata": {},
     "output_type": "execute_result"
    }
   ],
   "source": [
    "def count_total_possibilities(n_toss):\n",
    "    '''TO DO: return the total amount of different combinations when flipping the coins n_toss times\n",
    "        Ex: count_total_possibilities(3) = 8'''\n",
    "    return 2**n_toss\n",
    "count_total_possibilities(3)\n"
   ]
  },
  {
   "cell_type": "code",
   "execution_count": 7,
   "metadata": {},
   "outputs": [
    {
     "data": {
      "text/plain": [
       "6.0"
      ]
     },
     "execution_count": 7,
     "metadata": {},
     "output_type": "execute_result"
    }
   ],
   "source": [
    "def count_possibilities(n_toss, n_heads):\n",
    "    '''TO DO: return the number of possibilities to get n_heads when flipping the coin n_toss times\n",
    "        Ex: count_possibilities(4, 4)  = 1'''\n",
    "    n=n_toss\n",
    "    h=n_heads\n",
    "    return math.factorial(n)/(math.factorial(h)*math.factorial(n-h))\n",
    "count_possibilities(4, 2)\n",
    "#答え(4,4)=1\n",
    "#count_possibilities(4, 2) = 6\n"
   ]
  },
  {
   "cell_type": "code",
   "execution_count": 8,
   "metadata": {},
   "outputs": [
    {
     "data": {
      "text/plain": [
       "{0: 0.5, 1: 0.5}"
      ]
     },
     "execution_count": 8,
     "metadata": {},
     "output_type": "execute_result"
    }
   ],
   "source": [
    "def probability(n_toss):\n",
    "    '''TO DO: return a dictionary. The keys will be the possible number of heads in each game,\n",
    "            so they can't be over `n_toss` or under 0. The values for each of those keys will correspond\n",
    "            to the probability of a game ending with that result.\n",
    "      probability(5) = {0: ..., 1:..., 2:..., 3:..., 4:..., 5:...}'''\n",
    "    dic={}\n",
    "    \n",
    "    for r in range(n_toss+1):\n",
    "        n_c_r=count_possibilities(n_toss,r)\n",
    "        dic[r]=n_c_r/count_total_possibilities(n_toss)\n",
    "    return dic\n",
    "probability(1)"
   ]
  },
  {
   "cell_type": "code",
   "execution_count": 9,
   "metadata": {},
   "outputs": [
    {
     "data": {
      "text/plain": [
       "{0: 0.25, 1: 0.25, 2: 0.25, 3: 0.25}"
      ]
     },
     "execution_count": 9,
     "metadata": {},
     "output_type": "execute_result"
    }
   ],
   "source": [
    "def probability(n_toss):\n",
    "    '''TO DO: return a dictionary. The keys will be the possible number of heads in each game,\n",
    "            so they can't be over `n_toss` or under 0. The values for each of those keys will correspond\n",
    "            to the probability of a game ending with that result.\n",
    "      probability(5) = {0: ..., 1:..., 2:..., 3:..., 4:..., 5:...}'''\n",
    "    \n",
    "    #formula,equation\n",
    "    r=1\n",
    "    n=n_toss\n",
    "    n_c_r=math.factorial(n)/(math.factorial(r)*math.factorial(n-r))\n",
    "    p=0.5\n",
    "    p_k=p**r\n",
    "    fail=(1-p)**(n-r)\n",
    "    #total\n",
    "    total=n_c_r*p_k*fail\n",
    "    \n",
    "    #loop\n",
    "    #how can I insert a long  equation ???\n",
    "    return{r:float(total)for r in range(n_toss)}\n",
    "probability(4)\n",
    "\n",
    "#答え　n_tossが４の時 expected = {0: 0.0625, 1: 0.25, 2: 0.375, 3: 0.25, 4: 0.0625}\n",
    "#             1の時　expected = {0: 0.5, 1: 0.5}\n"
   ]
  },
  {
   "cell_type": "code",
   "execution_count": 10,
   "metadata": {},
   "outputs": [
    {
     "data": {
      "text/plain": [
       "1.0"
      ]
     },
     "execution_count": 10,
     "metadata": {},
     "output_type": "execute_result"
    }
   ],
   "source": [
    "dic={0: 0.0625, 1: 0.25, 2: 0.375, 3: 0.25, 4: 0.0625}\n",
    "sum(dic.values())"
   ]
  },
  {
   "cell_type": "code",
   "execution_count": 0,
   "metadata": {},
   "outputs": [],
   "source": [
    "from nbresult import ChallengeResult\n",
    "\n",
    "result = ChallengeResult('factorial',\n",
    "                         count_possibilities_11=count_possibilities(1,1),\n",
    "                         count_possibilities_43=count_possibilities(4,3),\n",
    "                         count_total_possibilities_10=count_total_possibilities(10),\n",
    "                         probability_1=probability(1),\n",
    "                         probability_100=probability(100)\n",
    "                        )\n",
    "result.write()\n",
    "print(result.check())"
   ]
  },
  {
   "cell_type": "markdown",
   "metadata": {},
   "source": [
    "## 2. Theory : What could we expect?"
   ]
  },
  {
   "cell_type": "markdown",
   "metadata": {},
   "source": [
    "🤔  **If we flip a coin `n_toss` times, what `theoretical results` do you expect ?**\n",
    "\n",
    "<details>\n",
    "    <summary>Hints</summary>\n",
    "\n",
    "🍀 Each flip has an **equal chance** of coming up as **a head or a tail**.\n",
    "\n",
    "👉 This kind of experiment has **`no memory`**, in other words, each flip is **`independent`** from the others.\n",
    " \n",
    "❌ There is no way of determining what the next flip will be\n",
    "\n",
    "✅ However, if we flip a coin `n_toss` times, we can predict the **`(theoretical) probability`** of getting **`k heads` among `n_toss`** denoted by $ \\mathbb{P} (X = k )$ where $X$ is the `random variable` counting the number of `heads`.\n",
    "\n",
    "👉 The accuracy of the prediction will be greater as the number of flips increases.\n",
    "    \n",
    "</details>"
   ]
  },
  {
   "cell_type": "markdown",
   "metadata": {},
   "source": [
    "👉 Let's toss the coin **4 times** as in the previous section.\n",
    "\n",
    "❓ Using the `probability` function, plot the distribution of a 4-coin experiment in a 📊 **bar chart**❓"
   ]
  },
  {
   "cell_type": "code",
   "execution_count": 11,
   "metadata": {},
   "outputs": [],
   "source": [
    "# TO DO: import your functions from flip_coin_factorial.py\n",
    "\n",
    "from flip_coin_factorial import probability"
   ]
  },
  {
   "cell_type": "markdown",
   "metadata": {},
   "source": [
    "👉 Increase the number `n_toss`\n",
    "\n",
    "❓ Using the `probability` function, plot the distribution of a `n_toss`-coin experiment in a 📊 **bar chart** ❓"
   ]
  },
  {
   "cell_type": "code",
   "execution_count": 12,
   "metadata": {},
   "outputs": [
    {
     "data": {
      "image/png": "[encoded data removed]",
      "text/plain": [
       "<Figure size 432x288 with 1 Axes>"
      ]
     },
     "metadata": {
      "needs_background": "light"
     },
     "output_type": "display_data"
    }
   ],
   "source": [
    "# INSERT YOUR CODE HERE to plot the bar chart\n",
    "p_data=probability(100)\n",
    "plt.bar(p_data.keys(),p_data.values(),)\n",
    "plt.show()"
   ]
  },
  {
   "cell_type": "markdown",
   "metadata": {},
   "source": [
    "<details>\n",
    "    <summary>Consequence of increasing the number of tosses:</summary>\n",
    "    \n",
    "* If your implementation is correct, the more flips you do (`n_toss` increases), the smoother the graph becomes.\n",
    "        \n",
    "* It converges towards the “bell curve” *a.k.a.* the **`normal distribution`** 🔥 \n",
    "\n",
    "</details>        "
   ]
  },
  {
   "cell_type": "markdown",
   "metadata": {},
   "source": [
    "## 3. In practice: do we get the same results?"
   ]
  },
  {
   "cell_type": "markdown",
   "metadata": {},
   "source": [
    "👏 You've already made big strides. \n",
    "\n",
    "🤔 But at this point, we could ask ourselves: does the real world behave this way? Again, let's use the power of Python 🐍 to answer this question. \n",
    "\n",
    "❓ For this exercise, implement the two functions down below ❓  \n",
    "* When comfortable with your results, copy them inside `simulate_reality.py` and test them with `make`"
   ]
  },
  {
   "cell_type": "markdown",
   "metadata": {},
   "source": [
    "### 3.1 `play_one_game(n_toss)`"
   ]
  },
  {
   "cell_type": "markdown",
   "metadata": {},
   "source": [
    "**One game consists of flipping a coin `n_toss` times.**\n",
    "\n",
    "The `play_one_game` function should return the number of heads you get in this experiment.\n",
    "\n",
    "How could we run this experiment on a computer ? \n",
    "\n",
    "💡 One way to do that is to `randomly choose an integer between 0 (tail) and 1 (head)`. \n",
    "* If you get 1, you increment your `heads_counter`\n",
    "* Otherwise it stays the same.\n",
    "\n",
    "👉 Your function should return the `heads_counter`. \n",
    "\n",
    "```python\n",
    "import random\n",
    "random.randint(0, 1) # use this to pass the make tests\n",
    "```"
   ]
  },
  {
   "cell_type": "code",
   "execution_count": 40,
   "metadata": {},
   "outputs": [
    {
     "data": {
      "text/plain": [
       "0"
      ]
     },
     "execution_count": 40,
     "metadata": {},
     "output_type": "execute_result"
    }
   ],
   "source": [
    "from random import randint, choice\n",
    "tail_or_heads=randint(0, 1)#0=tail 1=heads\n",
    "tail_or_heads"
   ]
  },
  {
   "cell_type": "code",
   "execution_count": 63,
   "metadata": {},
   "outputs": [
    {
     "data": {
      "text/plain": [
       "16"
      ]
     },
     "execution_count": 63,
     "metadata": {},
     "output_type": "execute_result"
    }
   ],
   "source": [
    "import random\n",
    "\n",
    "def play_one_game(n_toss):\n",
    "    '''TO DO: return the number of heads after n_toss'''\n",
    "    heads_counter=0\n",
    "    for i in range(n_toss):\n",
    "        tail_or_heads=randint(0, 1)#0=tail 1=heads\n",
    "        if tail_or_heads == 0:\n",
    "            heads_counter += 1\n",
    "    return heads_counter\n",
    "play_one_game(40)"
   ]
  },
  {
   "cell_type": "code",
   "execution_count": 67,
   "metadata": {},
   "outputs": [
    {
     "data": {
      "text/plain": [
       "17"
      ]
     },
     "execution_count": 67,
     "metadata": {},
     "output_type": "execute_result"
    }
   ],
   "source": [
    "import random\n",
    "\n",
    "def play_one_game(n_toss):\n",
    "    '''TO DO: return the number of heads after n_toss'''\n",
    "    heads_counter=0\n",
    "    for i in range(n_toss):\n",
    "        tail_or_heads=random.randint(0, 1)#0=tail 1=heads\n",
    "        if tail_or_heads == 0:\n",
    "            heads_counter += 1\n",
    "    return heads_counter\n",
    "play_one_game(40)"
   ]
  },
  {
   "cell_type": "markdown",
   "metadata": {},
   "source": [
    "### 3.2 `play_n_game(n_games, n_toss)`"
   ]
  },
  {
   "cell_type": "markdown",
   "metadata": {},
   "source": [
    "**Now, imagine that we repeat the previous game `n_games` times.**\n",
    "\n",
    "🎯 The goal here is to play a bunch of flip-coin games and observation the distribution of the values we get from flipping a coin `n_toss` times.\n",
    "\n",
    "👉 This new function will call your previously defined `play_one_game` function `n_games` times. Then, we want to keep track of the end result of each game played this way.\n",
    "\n",
    "👉 `play_n_game` should return a dictionary. The keys will be the possible `head_counter`s of each game, and the values will correspond to the ratio of games ending with that number of heads.\n",
    "\n",
    "EX : Imagine you play 10 coin flip games (n_games = 10) where in each game you flip the coin 6 times (n_toss = 6) and you get  \n",
    "- 0 games showing 0 heads  \n",
    "- 1 game showing 1 head  \n",
    "- 3 games showing 2 heads  \n",
    "- 3 games showing 3 heads  \n",
    "- 2 games showing 4 heads  \n",
    "- 1 game showing 5 heads  \n",
    "- 0 games showing 6 heads\n",
    "    \n",
    "```python\n",
    "=> result = {0:0/n_games, \n",
    "             1:1/n_games,\n",
    "             2:3/n_games,\n",
    "             3:3/n_games,\n",
    "             4:2/n_games,\n",
    "             5:1/n_games,\n",
    "             6:0/n_games }\n",
    "```"
   ]
  },
  {
   "cell_type": "code",
   "execution_count": 0,
   "metadata": {},
   "outputs": [],
   "source": [
    "def play_n_game(n_games, n_toss):\n",
    "    \"\"\"TO DO: return a dictionary.\n",
    "    The keys will be the possible head_counter of each game\n",
    "    The values will correspond to the probability of a game ending with that number of heads.\n",
    "    \"\"\"\n",
    "    pass  # YOUR CODE HERE"
   ]
  },
  {
   "cell_type": "markdown",
   "metadata": {},
   "source": [
    "### 3.3 Visualise the results of your simulations!"
   ]
  },
  {
   "cell_type": "markdown",
   "metadata": {},
   "source": [
    "❓ Import your validated functions from `simulate_reality.py` and plot the result as bar chart ❓\n",
    "\n",
    "* Just as before, try different values for `n_toss` and `n_games`. What do you observe?\n",
    "\n",
    "* Compare these two graphs (with the same value for n_toss). What do you observe?"
   ]
  },
  {
   "cell_type": "code",
   "execution_count": 0,
   "metadata": {},
   "outputs": [],
   "source": [
    "# YOUR CODE HERE\n"
   ]
  },
  {
   "cell_type": "markdown",
   "metadata": {},
   "source": [
    "## 4. Compare the results of your experiments with the theoretical probabilities using the   Mean Squared Errors metrics (MSE)"
   ]
  },
  {
   "cell_type": "markdown",
   "metadata": {},
   "source": [
    "👉 If you have a look at the 2 graphs (theory vs. reality), you should notice that they both look like a normal distribution. Let's prove this intuition that the two graphs are similar by measuring the error between the simulations and the theory!\n",
    "\n",
    "We have implemented below the function `mean_squared_error(n_games, n_toss)` \n",
    "\n",
    "👉 Check your MSE below!\n"
   ]
  },
  {
   "cell_type": "code",
   "execution_count": 0,
   "metadata": {},
   "outputs": [],
   "source": [
    "def mean_squared_error(n_games, n_toss, probability, play_n_game):\n",
    "    '''Returns the `mean squared error`  between the theoretical and \"actual\" results (obtained through simulation)'''\n",
    "    pass  # YOUR CODE HERE"
   ]
  },
  {
   "cell_type": "code",
   "execution_count": 0,
   "metadata": {},
   "outputs": [],
   "source": [
    "# RMSE is easier to understand as it is in same unit that our coin value\n",
    "mse = mean_squared_error(10,10,probability, play_n_game)**0.5\n",
    "print('RMSE:', f'{mse*100:.2f}%')"
   ]
  },
  {
   "cell_type": "markdown",
   "metadata": {},
   "source": [
    "🏁 Congrats !\n",
    " \n",
    "💾 Do not forget to `git add/commit/push` !"
   ]
  }
 ],
 "metadata": {
  "kernelspec": {
   "display_name": "Python 3 (ipykernel)",
   "language": "python",
   "name": "python3"
  },
  "language_info": {
   "codemirror_mode": {
    "name": "ipython",
    "version": 3
   },
   "file_extension": ".py",
   "mimetype": "text/x-python",
   "name": "python",
   "nbconvert_exporter": "python",
   "pygments_lexer": "ipython3",
   "version": "3.8.12"
  },
  "toc": {
   "base_numbering": 1,
   "nav_menu": {},
   "number_sections": false,
   "sideBar": true,
   "skip_h1_title": false,
   "title_cell": "Table of Contents",
   "title_sidebar": "Contents",
   "toc_cell": false,
   "toc_position": {},
   "toc_section_display": true,
   "toc_window_display": true
  },
  "varInspector": {
   "cols": {
    "lenName": 16,
    "lenType": 16,
    "lenVar": 40
   },
   "kernels_config": {
    "python": {
     "delete_cmd_postfix": "",
     "delete_cmd_prefix": "del ",
     "library": "var_list.py",
     "varRefreshCmd": "print(var_dic_list())"
    },
    "r": {
     "delete_cmd_postfix": ") ",
     "delete_cmd_prefix": "rm(",
     "library": "var_list.r",
     "varRefreshCmd": "cat(var_dic_list()) "
    }
   },
   "types_to_exclude": [
    "module",
    "function",
    "builtin_function_or_method",
    "instance",
    "_Feature"
   ],
   "window_display": false
  }
 },
 "nbformat": 4,
 "nbformat_minor": 4
}
