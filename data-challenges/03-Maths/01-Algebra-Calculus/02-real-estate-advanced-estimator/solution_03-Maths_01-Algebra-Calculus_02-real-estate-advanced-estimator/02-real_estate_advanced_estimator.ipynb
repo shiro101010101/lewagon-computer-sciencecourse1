{
 "cells": [
  {
   "cell_type": "markdown",
   "metadata": {},
   "source": [
    "# Real Estate - advanced estimator\n",
    "\n",
    "In the previous challenge we saw that if we have more flats than features in our dataset then we can't \"solve\" the equation $X\\theta = Y$ to find a deterministic formula for $\\theta$ and thus predict flat price this way.\n",
    "\n",
    "In this exercise we now have access to a bigger dataset consisting of 1000 flats and we want to refine our prediction for the same new flat as before:\n",
    "\n",
    "- `Surface`: 3000 $ft^2$\n",
    "- `Bedrooms`: 5 \n",
    "- `Floors`: 1\n",
    "\n",
    "Instead of solving $X\\theta = Y$ with a matrix $X$ of shape (1000,4) non-inversible, we will find the $\\hat{\\theta}$ that minimizes the error $e = X\\hat{\\theta} - Y $: this approach is called a **linear regression model**. We will measure this error $e$ using the euclidian distance $\\left\\|e\\right\\|$ and the Mean Square Error.\n",
    "\n",
    "Let's compute $\\hat{\\theta}$ to find an approximate estimation of the new flat's price.\n"
   ]
  },
  {
   "cell_type": "code",
   "execution_count": 0,
   "metadata": {},
   "outputs": [],
   "source": [
    "# import default libraries\n",
    "# You can now use pandas again to manipulate the dataframe easily\n",
    "import numpy as np\n",
    "import pandas as pd\n",
    "import matplotlib.pyplot as plt\n",
    "import seaborn as sns"
   ]
  },
  {
   "cell_type": "markdown",
   "metadata": {},
   "source": [
    "## 1. Data Exploration"
   ]
  },
  {
   "cell_type": "markdown",
   "metadata": {},
   "source": [
    "Load the dataset `flats.csv` located in the notebook's folder, into a pandas DataFrame named \"flats\""
   ]
  },
  {
   "cell_type": "code",
   "execution_count": 0,
   "metadata": {
    "tags": [
     "challengify"
    ]
   },
   "outputs": [
    {
     "data": {
      "text/html": [
       "<div>\n",
       "<style scoped>\n",
       "    .dataframe tbody tr th:only-of-type {\n",
       "        vertical-align: middle;\n",
       "    }\n",
       "\n",
       "    .dataframe tbody tr th {\n",
       "        vertical-align: top;\n",
       "    }\n",
       "\n",
       "    .dataframe thead th {\n",
       "        text-align: right;\n",
       "    }\n",
       "</style>\n",
       "<table border=\"1\" class=\"dataframe\">\n",
       "  <thead>\n",
       "    <tr style=\"text-align: right;\">\n",
       "      <th></th>\n",
       "      <th>price</th>\n",
       "      <th>bedrooms</th>\n",
       "      <th>surface</th>\n",
       "      <th>floors</th>\n",
       "    </tr>\n",
       "  </thead>\n",
       "  <tbody>\n",
       "    <tr>\n",
       "      <th>0</th>\n",
       "      <td>274.0</td>\n",
       "      <td>3</td>\n",
       "      <td>1830</td>\n",
       "      <td>2.0</td>\n",
       "    </tr>\n",
       "    <tr>\n",
       "      <th>1</th>\n",
       "      <td>500.0</td>\n",
       "      <td>4</td>\n",
       "      <td>2120</td>\n",
       "      <td>1.0</td>\n",
       "    </tr>\n",
       "    <tr>\n",
       "      <th>2</th>\n",
       "      <td>320.0</td>\n",
       "      <td>3</td>\n",
       "      <td>1260</td>\n",
       "      <td>1.0</td>\n",
       "    </tr>\n",
       "    <tr>\n",
       "      <th>3</th>\n",
       "      <td>445.5</td>\n",
       "      <td>3</td>\n",
       "      <td>1880</td>\n",
       "      <td>1.0</td>\n",
       "    </tr>\n",
       "    <tr>\n",
       "      <th>4</th>\n",
       "      <td>637.5</td>\n",
       "      <td>3</td>\n",
       "      <td>1680</td>\n",
       "      <td>1.0</td>\n",
       "    </tr>\n",
       "    <tr>\n",
       "      <th>5</th>\n",
       "      <td>460.0</td>\n",
       "      <td>2</td>\n",
       "      <td>2730</td>\n",
       "      <td>1.0</td>\n",
       "    </tr>\n",
       "    <tr>\n",
       "      <th>6</th>\n",
       "      <td>259.0</td>\n",
       "      <td>3</td>\n",
       "      <td>1270</td>\n",
       "      <td>1.5</td>\n",
       "    </tr>\n",
       "    <tr>\n",
       "      <th>7</th>\n",
       "      <td>950.0</td>\n",
       "      <td>3</td>\n",
       "      <td>2780</td>\n",
       "      <td>1.0</td>\n",
       "    </tr>\n",
       "    <tr>\n",
       "      <th>8</th>\n",
       "      <td>550.0</td>\n",
       "      <td>3</td>\n",
       "      <td>1930</td>\n",
       "      <td>2.0</td>\n",
       "    </tr>\n",
       "    <tr>\n",
       "      <th>9</th>\n",
       "      <td>265.5</td>\n",
       "      <td>3</td>\n",
       "      <td>1860</td>\n",
       "      <td>1.0</td>\n",
       "    </tr>\n",
       "  </tbody>\n",
       "</table>\n",
       "</div>"
      ],
      "text/plain": [
       "   price  bedrooms  surface  floors\n",
       "0  274.0         3     1830     2.0\n",
       "1  500.0         4     2120     1.0\n",
       "2  320.0         3     1260     1.0\n",
       "3  445.5         3     1880     1.0\n",
       "4  637.5         3     1680     1.0\n",
       "5  460.0         2     2730     1.0\n",
       "6  259.0         3     1270     1.5\n",
       "7  950.0         3     2780     1.0\n",
       "8  550.0         3     1930     2.0\n",
       "9  265.5         3     1860     1.0"
      ]
     },
     "execution_count": 2,
     "metadata": {},
     "output_type": "execute_result"
    }
   ],
   "source": [
    "flats = pd.read_csv('flats.csv')\n",
    "flats.head(10)"
   ]
  },
  {
   "cell_type": "markdown",
   "metadata": {},
   "source": [
    "Use scatterplots to visually figure out which feature gives the most information about prices:"
   ]
  },
  {
   "cell_type": "code",
   "execution_count": 0,
   "metadata": {
    "tags": [
     "challengify"
    ]
   },
   "outputs": [
    {
     "data": {
      "text/plain": [
       "<matplotlib.axes._subplots.AxesSubplot at 0x13bd572d0>"
      ]
     },
     "execution_count": 3,
     "metadata": {},
     "output_type": "execute_result"
    },
    {
     "data": {
      "image/png": "[encoded data removed]",
      "text/plain": [
       "<Figure size 1080x360 with 3 Axes>"
      ]
     },
     "metadata": {
      "needs_background": "light"
     },
     "output_type": "display_data"
    }
   ],
   "source": [
    "# Your plots here\n",
    "fig, (ax1, ax2, ax3) = plt.subplots(1,3, figsize=(15,5))\n",
    "sns.scatterplot(x= 'surface', y='price', data=flats, alpha=0.5, ax=ax1)\n",
    "sns.scatterplot(x= 'bedrooms', y='price', data=flats, alpha=0.5, ax=ax2)\n",
    "sns.scatterplot(x= 'floors', y='price', data=flats, alpha=0.5, ax=ax3)"
   ]
  },
  {
   "cell_type": "markdown",
   "metadata": {},
   "source": [
    "It seems that `surface` is a stronger indicator of price than the number of bedrooms or floors. In statistics, we say that `prices` are more **correlated** with `surface` than with other features. \n",
    "\n",
    "Let's double check this by running [`pandas.DataFrame.corr`](https://pandas.pydata.org/pandas-docs/stable/reference/api/pandas.DataFrame.corr.html) below, which computes correlation coefficients between each pair of columns of a DataFrame. 1 means perfectly correlated, while 0 means not correlated at all."
   ]
  },
  {
   "cell_type": "code",
   "execution_count": 0,
   "metadata": {
    "tags": [
     "challengify"
    ]
   },
   "outputs": [
    {
     "data": {
      "text/html": [
       "<div>\n",
       "<style scoped>\n",
       "    .dataframe tbody tr th:only-of-type {\n",
       "        vertical-align: middle;\n",
       "    }\n",
       "\n",
       "    .dataframe tbody tr th {\n",
       "        vertical-align: top;\n",
       "    }\n",
       "\n",
       "    .dataframe thead th {\n",
       "        text-align: right;\n",
       "    }\n",
       "</style>\n",
       "<table border=\"1\" class=\"dataframe\">\n",
       "  <thead>\n",
       "    <tr style=\"text-align: right;\">\n",
       "      <th></th>\n",
       "      <th>price</th>\n",
       "      <th>bedrooms</th>\n",
       "      <th>surface</th>\n",
       "      <th>floors</th>\n",
       "    </tr>\n",
       "  </thead>\n",
       "  <tbody>\n",
       "    <tr>\n",
       "      <th>price</th>\n",
       "      <td>1.000000</td>\n",
       "      <td>0.239623</td>\n",
       "      <td>0.732790</td>\n",
       "      <td>0.258263</td>\n",
       "    </tr>\n",
       "    <tr>\n",
       "      <th>bedrooms</th>\n",
       "      <td>0.239623</td>\n",
       "      <td>1.000000</td>\n",
       "      <td>0.417170</td>\n",
       "      <td>0.131993</td>\n",
       "    </tr>\n",
       "    <tr>\n",
       "      <th>surface</th>\n",
       "      <td>0.732790</td>\n",
       "      <td>0.417170</td>\n",
       "      <td>1.000000</td>\n",
       "      <td>0.357512</td>\n",
       "    </tr>\n",
       "    <tr>\n",
       "      <th>floors</th>\n",
       "      <td>0.258263</td>\n",
       "      <td>0.131993</td>\n",
       "      <td>0.357512</td>\n",
       "      <td>1.000000</td>\n",
       "    </tr>\n",
       "  </tbody>\n",
       "</table>\n",
       "</div>"
      ],
      "text/plain": [
       "             price  bedrooms   surface    floors\n",
       "price     1.000000  0.239623  0.732790  0.258263\n",
       "bedrooms  0.239623  1.000000  0.417170  0.131993\n",
       "surface   0.732790  0.417170  1.000000  0.357512\n",
       "floors    0.258263  0.131993  0.357512  1.000000"
      ]
     },
     "execution_count": 4,
     "metadata": {},
     "output_type": "execute_result"
    }
   ],
   "source": [
    "flats.corr()"
   ]
  },
  {
   "cell_type": "markdown",
   "metadata": {},
   "source": [
    "### Test your code!"
   ]
  },
  {
   "cell_type": "code",
   "execution_count": 0,
   "metadata": {},
   "outputs": [
    {
     "name": "stdout",
     "output_type": "stream",
     "text": [
      "\u001b[1m============================= test session starts ==============================\u001b[0m\n",
      "platform darwin -- Python 3.7.7, pytest-5.4.3, py-1.9.0, pluggy-0.13.1 -- /Users/chriswesterman/.pyenv/versions/3.7.7/envs/lewagon/bin/python3.7\n",
      "cachedir: .pytest_cache\n",
      "rootdir: /Users/chriswesterman/code/cjw21889/le-wagon/lw-data-solutions/03-Maths/01-Algebra-Calculus/02-real-estate-advanced-estimator\n",
      "plugins: anyio-2.2.0\n",
      "\u001b[1mcollecting ... \u001b[0mcollected 2 items\n",
      "\n",
      "tests/test_flats.py::TestFlats::test_columns \u001b[32mPASSED\u001b[0m\u001b[32m                      [ 50%]\u001b[0m\n",
      "tests/test_flats.py::TestFlats::test_shape \u001b[32mPASSED\u001b[0m\u001b[32m                        [100%]\u001b[0m\n",
      "\n",
      "\u001b[32m============================== \u001b[32m\u001b[1m2 passed\u001b[0m\u001b[32m in 0.24s\u001b[0m\u001b[32m ===============================\u001b[0m\n",
      "\n",
      "\n",
      "💯 You can commit your code:\n",
      "\n",
      "\u001b[1;32mgit\u001b[39m add tests/flats.pickle\n",
      "\n",
      "\u001b[32mgit\u001b[39m commit -m \u001b[33m'Completed flats step'\u001b[39m\n",
      "\n",
      "\u001b[32mgit\u001b[39m push origin master\n"
     ]
    }
   ],
   "source": [
    "from nbresult import ChallengeResult\n",
    "\n",
    "result = ChallengeResult('flats',\n",
    "    shape=flats.shape,\n",
    "    columns=flats.columns\n",
    ")\n",
    "result.write()\n",
    "print(result.check())"
   ]
  },
  {
   "cell_type": "markdown",
   "metadata": {},
   "source": [
    "## 2. Estimator with 1 feature"
   ]
  },
  {
   "cell_type": "markdown",
   "metadata": {},
   "source": [
    "Let's try to build a statistical estimator of `price` only as a function of `surface`.\n",
    "\n",
    "Let's try to fit a **linear regression** between the two variables. Practically speaking, we want to choose the best parameters $\\hat{\\theta}$ = (`slope`, `intercept`) such that the `slope * surface + intercept` is as close as possible to the `price` in terms of Mean Square Error.\n",
    "\n",
    "👉During the next weeks we will learn different models (Linear Regression, KNN, Logistic Regression, Neural Networks, etc.). An important part of your job is choosing the right model and optimizing the parameters to make the best predictions."
   ]
  },
  {
   "cell_type": "markdown",
   "metadata": {},
   "source": [
    "### 2.1 Visual approach"
   ]
  },
  {
   "attachments": {
    "image.png": {
     "image/png": "[encoded data removed]"
    }
   },
   "cell_type": "markdown",
   "metadata": {},
   "source": [
    "Implement the function `plot_line(slope, intercept, ax)` that plots a line with the slope and intercept arguments on the ax figure. We added the argument ax, so you can plot the line(s) on your scatterplot.\n",
    "When you are done, play with different values for slope and intercept in order to get a “good linear approximation” of the data. Can you find the best fit?\n",
    "\n",
    "![image.png](attachment:image.png)\n",
    "\n",
    "Not so easy (and not very “scientific”), right?"
   ]
  },
  {
   "cell_type": "code",
   "execution_count": 0,
   "metadata": {},
   "outputs": [],
   "source": [
    "def plot_line(a, b, ax):\n",
    "    \"\"\"Plot a line from slope and intercept on the ax\"\"\"\n",
    "    # $CHALLENGIFY_BEGIN\n",
    "    x_vals = np.array(ax.get_xlim())\n",
    "    y_vals = a * x_vals + b\n",
    "    ax.plot(x_vals, y_vals, '-')\n",
    "    # $CHALLENGIFY_END"
   ]
  },
  {
   "cell_type": "code",
   "execution_count": 0,
   "metadata": {},
   "outputs": [
    {
     "data": {
      "image/png": "[encoded data removed]",
      "text/plain": [
       "<Figure size 432x288 with 1 Axes>"
      ]
     },
     "metadata": {
      "needs_background": "light"
     },
     "output_type": "display_data"
    }
   ],
   "source": [
    "# TO DO: play with slopes and intercepts to get the best fit\n",
    "# $DELETE_BEGIN\n",
    "ax = sns.scatterplot(x=\"surface\", y=\"price\", data=flats)\n",
    "a_list = [0.271, 0.4, 0.1]\n",
    "b_list = [-33, 0, 0]\n",
    "for i in range(len(a_list)):\n",
    "    plot_line(a_list[i], b_list[i], ax)\n",
    "# $DELETE_END"
   ]
  },
  {
   "cell_type": "markdown",
   "metadata": {},
   "source": [
    "### 2.2 Computational approach"
   ]
  },
  {
   "cell_type": "markdown",
   "metadata": {},
   "source": [
    "To be sure that our estimator line is the best possible one, we need to compute  the **Mean Squared Error** between `price` and `predicted_price (slope * surface + intercept)`. Remember those are vectors of shape (1000,1).\n",
    "\n",
    "**Step1:** for each row (ie. flat), we should evaluate the squared_error (predicted_price - price)**2"
   ]
  },
  {
   "cell_type": "code",
   "execution_count": 0,
   "metadata": {},
   "outputs": [],
   "source": [
    "def squared_errors(slope, intercept, surfaces, prices):\n",
    "    \"\"\"TO DO: return an array containing the squared errors between \n",
    "    all predicted_prices and the actual prices (from the dataset)\n",
    "    \"\"\"\n",
    "    # $CHALLENGIFY_BEGIN\n",
    "    return (prices - ((slope * surfaces) + intercept)) ** 2\n",
    "    # $CHALLENGIFY_END"
   ]
  },
  {
   "cell_type": "markdown",
   "metadata": {},
   "source": [
    "**Step2:** return the mean of the array returned from the `squared_errors` function"
   ]
  },
  {
   "cell_type": "code",
   "execution_count": 0,
   "metadata": {},
   "outputs": [],
   "source": [
    "def mse(slope, intercept, surfaces, prices):\n",
    "    '''TO DO: Return the mean of the array contained in squared_errors as a float.'''\n",
    "    # $CHALLENGIFY_BEGIN\n",
    "    errors = squared_errors(slope, intercept, surfaces, prices)\n",
    "    return np.mean(errors)\n",
    "    # $CHALLENGIFY_END"
   ]
  },
  {
   "cell_type": "markdown",
   "metadata": {},
   "source": [
    "Try to compute the MSE of one estimator of your choice"
   ]
  },
  {
   "cell_type": "code",
   "execution_count": 0,
   "metadata": {
    "tags": [
     "challengify"
    ]
   },
   "outputs": [
    {
     "data": {
      "text/plain": [
       "58527.43021436"
      ]
     },
     "execution_count": 10,
     "metadata": {},
     "output_type": "execute_result"
    }
   ],
   "source": [
    "mse(0.271, -30, flats.surface, flats.price)"
   ]
  },
  {
   "cell_type": "markdown",
   "metadata": {},
   "source": [
    "### 2.3 Finding the best parameters"
   ]
  },
  {
   "cell_type": "markdown",
   "metadata": {},
   "source": [
    "Play with different values for `slope` and `intercept` and try to get the best fit by hand!  \n",
    "Notice how hard it is to optimize both parameters at the same time.\n",
    "Follow the step below to get an idea of one potential approach:"
   ]
  },
  {
   "cell_type": "markdown",
   "metadata": {},
   "source": [
    "#### Step ①: Start by fixing an  `initial_intercept` with your best estimate, then find an approximated min slope for `mse=f(slope)`"
   ]
  },
  {
   "cell_type": "code",
   "execution_count": 0,
   "metadata": {},
   "outputs": [],
   "source": [
    "# Define an initial_intercept, for instance, we may suppose there is always a small transaction fee even for very small flats?\n",
    "# $DELETE_BEGIN\n",
    "initial_intercept = 30\n",
    "# $DELETE_END\n",
    "\n",
    "# Create a range of 100 slopes which contains what you believe is the optimal slope (hint: np.linspace())\n",
    "# $DELETE_BEGIN\n",
    "slope_range = np.linspace(0,0.7,100)\n",
    "# $DELETE_END\n",
    "\n",
    "# Create the list of MSEs for each slope value\n",
    "# $DELETE_BEGIN\n",
    "mses = list(map(lambda x: mse(x, initial_intercept, flats.surface, flats.price), slope_range))\n",
    "# $DELETE_END"
   ]
  },
  {
   "cell_type": "markdown",
   "metadata": {},
   "source": [
    "Plot MSEs against slopes. Do you see a minimum? If not, try another range of slopes!"
   ]
  },
  {
   "cell_type": "code",
   "execution_count": 0,
   "metadata": {
    "tags": [
     "challengify"
    ]
   },
   "outputs": [
    {
     "data": {
      "text/plain": [
       "Text(0, 0.5, 'MSE')"
      ]
     },
     "execution_count": 12,
     "metadata": {},
     "output_type": "execute_result"
    },
    {
     "data": {
      "image/png": "[encoded data removed]",
      "text/plain": [
       "<Figure size 432x288 with 1 Axes>"
      ]
     },
     "metadata": {
      "needs_background": "light"
     },
     "output_type": "display_data"
    }
   ],
   "source": [
    "plt.plot(slope_range, mses)\n",
    "plt.xlabel(\"slope\")\n",
    "plt.ylabel(\"MSE\")"
   ]
  },
  {
   "cell_type": "markdown",
   "metadata": {},
   "source": [
    "Compute the min value of MSEs for your `initial_intercept`, and the corresponding `slope_best` value\n",
    "\n",
    "<br>\n",
    "<details>\n",
    "    <summary>Hint 💡</summary>\n",
    "        here you can use python's built-in `min()` function, as well as `List.index()` method\n",
    "</details>"
   ]
  },
  {
   "cell_type": "code",
   "execution_count": 0,
   "metadata": {
    "tags": [
     "challengify"
    ]
   },
   "outputs": [
    {
     "name": "stdout",
     "output_type": "stream",
     "text": [
      "mse_min: 59197.19095882538\n",
      "slope_best: 0.24747474747474746\n"
     ]
    }
   ],
   "source": [
    "mse_min = min(mses)\n",
    "slope_best = slope_range[mses.index(mse_min)]\n",
    "print('mse_min:', mse_min)\n",
    "print('slope_best:', slope_best)"
   ]
  },
  {
   "cell_type": "markdown",
   "metadata": {},
   "source": [
    "#### Step ②: Let's now fix the slope to that `slope_best` value, then re-use the previous approach to find `a` and a new `intercept_best` approximation"
   ]
  },
  {
   "cell_type": "code",
   "execution_count": 0,
   "metadata": {},
   "outputs": [
    {
     "data": {
      "text/plain": [
       "Text(0, 0.5, 'MSE')"
      ]
     },
     "execution_count": 14,
     "metadata": {},
     "output_type": "execute_result"
    },
    {
     "data": {
      "image/png": "[encoded data removed]",
      "text/plain": [
       "<Figure size 432x288 with 1 Axes>"
      ]
     },
     "metadata": {
      "needs_background": "light"
     },
     "output_type": "display_data"
    }
   ],
   "source": [
    "# Create a range of 100 intercepts which contains what you believe is the optimal intercept\n",
    "# $DELETE_BEGIN\n",
    "intercept_range = np.linspace(-50, 50, 100)\n",
    "# $DELETE_END\n",
    "\n",
    "# Create the list of MSEs for each intercept value\n",
    "# $DELETE_BEGIN\n",
    "mses = list(map(lambda x: mse(slope_best, x, flats.surface, flats.price), intercept_range))\n",
    "# $DELETE_END\n",
    "\n",
    "# Plot MSEs against slopes. Do you see a minimum? If not, try another range of slopes!\n",
    "# $DELETE_BEGIN\n",
    "plt.plot(intercept_range, mses)\n",
    "plt.scatter(initial_intercept, mse(slope_best, initial_intercept, flats.surface, flats.price), color = 'r')\n",
    "plt.xlabel('intercept')\n",
    "plt.ylabel(\"MSE\")\n",
    "# $DELETE_END"
   ]
  },
  {
   "cell_type": "markdown",
   "metadata": {},
   "source": [
    "Compute the min value of MSEs for `slope = slope_best` and store the corresponding best intercept as `intercept_best`\n"
   ]
  },
  {
   "cell_type": "code",
   "execution_count": 0,
   "metadata": {
    "tags": [
     "challengify"
    ]
   },
   "outputs": [
    {
     "name": "stdout",
     "output_type": "stream",
     "text": [
      "mse_min: 59137.948260276244\n",
      "intercept_best: 22.727272727272734\n"
     ]
    }
   ],
   "source": [
    "mse_min = min(mses)\n",
    "intercept_best = intercept_range[mses.index(mse_min)]\n",
    "\n",
    "print('mse_min:', mse_min)\n",
    "print('intercept_best:', intercept_best)"
   ]
  },
  {
   "cell_type": "markdown",
   "metadata": {},
   "source": [
    "**Great job**! By adding a non-zero intercept parameter, we have been able to reduce the MSE even more (Feel free to plot the regression line in your scatter plot to \"visually\" confirm the approximate fit).\n",
    "\n",
    "❓ However, what guarantees that these (`intercept_best`, `slope_best`) parameters are really the best ones? "
   ]
  },
  {
   "cell_type": "markdown",
   "metadata": {},
   "source": [
    "<details>\n",
    "    <summary>🔥 Explanations </summary>\n",
    "    \n",
    "We could maybe find an even better slope value by repeating step ①, this time fixing intercept at `intercept_best`! And then repeat step ② with the new slope to adjust the intercept again...\n",
    "    \n",
    "In order to find the global minimum of a 2-parameter function RMSE = f(slope, intercept), we may have to repeat step ① and ② indefinitely until values converge towards absolute minimums - and with no guarantee of success.\n",
    "    \n",
    "<img src='https://raw.githubusercontent.com/lewagon/data-images/master/decision-science/real-estate-minimizer.png'>\n",
    "    \n",
    "💪 You just discovered one of the fundamental aspects of machine learning: **iterative process for finding mimina**.  \n",
    "\n",
    "👉 As you can guess, in the Data Scientist world, algorithms have been developed to automate and optimize such processes. In the next few weeks, you will discover the power of other algorithms such as **Gradient Descent**, and Python libaries such as `Stastmodels` that perform this iterative process for you. \n",
    "\n",
    "</details>\n",
    "\n"
   ]
  },
  {
   "cell_type": "markdown",
   "metadata": {},
   "source": [
    "❓Run the cells below if you are curious and want to find the absolute best slope and intercept for this dataset, computed using gradient descent."
   ]
  },
  {
   "cell_type": "code",
   "execution_count": 0,
   "metadata": {},
   "outputs": [
    {
     "data": {
      "text/plain": [
       "<matplotlib.axes._subplots.AxesSubplot at 0x139cb55d0>"
      ]
     },
     "execution_count": 16,
     "metadata": {},
     "output_type": "execute_result"
    },
    {
     "data": {
      "image/png": "[encoded data removed]",
      "text/plain": [
       "<Figure size 432x288 with 1 Axes>"
      ]
     },
     "metadata": {
      "needs_background": "light"
     },
     "output_type": "display_data"
    }
   ],
   "source": [
    "# Try this out (seaborn visual solution)\n",
    "sns.regplot(data=flats, x='surface', y='price')"
   ]
  },
  {
   "cell_type": "code",
   "execution_count": 0,
   "metadata": {},
   "outputs": [
    {
     "data": {
      "text/plain": [
       "Intercept   -33.308336\n",
       "surface       0.273690\n",
       "dtype: float64"
      ]
     },
     "execution_count": 17,
     "metadata": {},
     "output_type": "execute_result"
    }
   ],
   "source": [
    "# Try this out (statsmodels, exact solution)!\n",
    "import statsmodels.formula.api as smf\n",
    "regression = smf.ols(formula= 'price ~ surface', data=flats).fit()\n",
    "regression.params"
   ]
  },
  {
   "cell_type": "markdown",
   "metadata": {},
   "source": [
    "Let's get back to our initial question: What is your new prediction for the 5th flat below? How does it compare with your initial prediction based only on 4 flats? \n",
    "\n",
    "- `surface`: 3000 $ft^2$\n",
    "- `bedrooms`: 5 \n",
    "- `floors`: 1"
   ]
  },
  {
   "cell_type": "code",
   "execution_count": 0,
   "metadata": {},
   "outputs": [
    {
     "name": "stdout",
     "output_type": "stream",
     "text": [
      "predicted price:  787.7629605753169\n"
     ]
    }
   ],
   "source": [
    "# compute predicted price (Remember that the real price is 750,000$)\n",
    "print('predicted price: ', regression.params['surface']*3000 + regression.params['Intercept'])"
   ]
  },
  {
   "cell_type": "markdown",
   "metadata": {},
   "source": [
    "It's better than our initial deterministic estimator based on only 4 flats, but obviously we miss the information provided by the number of bedrooms and floors in this prediction."
   ]
  },
  {
   "cell_type": "markdown",
   "metadata": {},
   "source": [
    "### Check your code"
   ]
  },
  {
   "cell_type": "code",
   "execution_count": 0,
   "metadata": {},
   "outputs": [
    {
     "name": "stdout",
     "output_type": "stream",
     "text": [
      "\u001b[1m============================= test session starts ==============================\u001b[0m\n",
      "platform darwin -- Python 3.7.7, pytest-5.4.3, py-1.9.0, pluggy-0.13.1 -- /Users/chriswesterman/.pyenv/versions/3.7.7/envs/lewagon/bin/python3.7\n",
      "cachedir: .pytest_cache\n",
      "rootdir: /Users/chriswesterman/code/cjw21889/le-wagon/lw-data-solutions/03-Maths/01-Algebra-Calculus/02-real-estate-advanced-estimator\n",
      "plugins: anyio-2.2.0\n",
      "\u001b[1mcollecting ... \u001b[0mcollected 4 items\n",
      "\n",
      "tests/test_univariate.py::TestUnivariate::test_best_intercept \u001b[32mPASSED\u001b[0m\u001b[32m     [ 25%]\u001b[0m\n",
      "tests/test_univariate.py::TestUnivariate::test_best_slope \u001b[32mPASSED\u001b[0m\u001b[32m         [ 50%]\u001b[0m\n",
      "tests/test_univariate.py::TestUnivariate::test_mse \u001b[32mPASSED\u001b[0m\u001b[32m                [ 75%]\u001b[0m\n",
      "tests/test_univariate.py::TestUnivariate::test_squared_errors \u001b[32mPASSED\u001b[0m\u001b[32m     [100%]\u001b[0m\n",
      "\n",
      "\u001b[32m============================== \u001b[32m\u001b[1m4 passed\u001b[0m\u001b[32m in 0.10s\u001b[0m\u001b[32m ===============================\u001b[0m\n",
      "\n",
      "\n",
      "💯 You can commit your code:\n",
      "\n",
      "\u001b[1;32mgit\u001b[39m add tests/univariate.pickle\n",
      "\n",
      "\u001b[32mgit\u001b[39m commit -m \u001b[33m'Completed univariate step'\u001b[39m\n",
      "\n",
      "\u001b[32mgit\u001b[39m push origin master\n"
     ]
    }
   ],
   "source": [
    "from nbresult import ChallengeResult\n",
    "\n",
    "result = ChallengeResult('univariate',\n",
    "    squared_errors=squared_errors(10, 0, np.array([40, 20]), np.array([400, 200])),\n",
    "    mse=mse(10, 0, np.array([40, 20]), np.array([400, 200])),\n",
    "    theta1=slope_best,\n",
    "    theta0=intercept_best\n",
    ")\n",
    "result.write()\n",
    "print(result.check())"
   ]
  },
  {
   "cell_type": "markdown",
   "metadata": {},
   "source": [
    "## 3 Estimator with all features (surface, bedrooms, floors)?"
   ]
  },
  {
   "cell_type": "markdown",
   "metadata": {},
   "source": [
    "Linear regression with three features works the same way as with one feature, but instead of determining only the  parameters to minimize RMSE (`intercept` and `slope`), we'll need to find 4 parameters: $\\hat{\\theta}$ = (`intercept`, `slope_surface`, `slope_bedrooms`, `slope_floors`). "
   ]
  },
  {
   "cell_type": "markdown",
   "metadata": {},
   "source": [
    "The same gradient iterative method is applicable, and you will code it yourself by hand during the next few weeks.\n",
    "Meanwhile, feel free to run the cell below to see the final result of this multivariate regression:"
   ]
  },
  {
   "cell_type": "code",
   "execution_count": 0,
   "metadata": {},
   "outputs": [
    {
     "data": {
      "text/plain": [
       "Intercept    18.154854\n",
       "surface       0.286953\n",
       "bedrooms    -21.623564\n",
       "floors       -3.811868\n",
       "dtype: float64"
      ]
     },
     "execution_count": 20,
     "metadata": {},
     "output_type": "execute_result"
    }
   ],
   "source": [
    "# Find the four regression coefficients by running this cell\n",
    "import statsmodels.formula.api as smf\n",
    "regression = smf.ols(formula= 'price ~ surface + bedrooms + floors', data=flats).fit()\n",
    "regression.params"
   ]
  },
  {
   "cell_type": "code",
   "execution_count": 0,
   "metadata": {},
   "outputs": [
    {
     "data": {
      "text/plain": [
       "767.085107310286"
      ]
     },
     "execution_count": 21,
     "metadata": {},
     "output_type": "execute_result"
    }
   ],
   "source": [
    "# Compute the newly predicted price for the 5th flat? Is this prediction better?\n",
    "regression.params['Intercept'] +\\\n",
    "regression.params['surface']*3000 +\\\n",
    "regression.params['bedrooms']*5 +\\\n",
    "regression.params['floors']*1"
   ]
  },
  {
   "cell_type": "markdown",
   "metadata": {},
   "source": [
    "<details>\n",
    "    <summary><bold>🔎 Concluding remarks (linear algebra)</bold> </summary>\n",
    "\n",
    "\n",
    "This optimisation problem can be summarized as follows: we need to find a vector of parameters $\\hat{\\theta}$ (slope + intercept) that minimizes an error $e = \\left\\|X\\hat{\\theta} - Y \\right\\|^2$, for a given matrix of features $X$ (surfaces, floors, bedrooms) and a vector of observations $Y$ (prices)\n",
    "\n",
    "Such minimum $\\hat{\\theta}$ is reached when the \"derivatives\" of $e$, that is $2 X^T(X\\hat{\\theta}−Y)$ equals zero (proof next week). In other words, we need to solve the linear system $(X^TX)\\hat{\\theta}=X^TY$. It has has a unique solution provided that no column of X can be expressed as a linear combination of the others: in that case $(X^TX)^{-1}$ is invertible and the minimum is reached when $\\hat{\\theta} = (X^TX)^{-1} X^T Y$. Notice how X does not need to be squared anymore compared to the first challenge.\n",
    "\n",
    "Keep in mind, however, that inverting matrices is **computationally complex**. That is why other methods have been developed to find the minimum, such as **gradient descent**. Read more on [stack overflow](https://stats.stackexchange.com/a/278779) if you are interested!\n",
    "</details>\n"
   ]
  },
  {
   "cell_type": "markdown",
   "metadata": {},
   "source": [
    "🏁 Congratulations! Don't forget to commit and push your notebook!"
   ]
  }
 ],
 "metadata": {
  "kernelspec": {
   "display_name": "Python 3",
   "language": "python",
   "name": "python3"
  }
 },
 "nbformat": 4,
 "nbformat_minor": 4
}