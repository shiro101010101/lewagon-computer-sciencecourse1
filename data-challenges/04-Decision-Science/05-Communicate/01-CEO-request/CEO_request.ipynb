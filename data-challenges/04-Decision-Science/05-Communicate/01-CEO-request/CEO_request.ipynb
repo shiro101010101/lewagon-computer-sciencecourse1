{
 "cells": [
  {
   "cell_type": "markdown",
   "id": "f8ce8aeb",
   "metadata": {},
   "source": [
    "# CEO-REQUEST CHALLENGE"
   ]
  },
  {
   "cell_type": "markdown",
   "id": "d748454c",
   "metadata": {},
   "source": [
    "> Should Olist remove underperforming sellers from its marketplace?"
   ]
  },
  {
   "cell_type": "markdown",
   "id": "545c894b",
   "metadata": {},
   "source": [
    "## Problem statement"
   ]
  },
  {
   "cell_type": "markdown",
   "id": "8d07b41b",
   "metadata": {},
   "source": [
    "To analyse the impact of removing the worse sellers from the marketplace, we can start with a what-if analysis: what would have happened if Olist had never accepted these sellers in the past? For that:\n",
    "\n",
    "Step ① Compute, for each `seller_id`, cumulated since the beginning:\n",
    "- The `revenues` they bring\n",
    "- The `costs` associated with all their bad reviews\n",
    "- The resulting `profits` (revenues - costs)\n",
    "- The number of `orders` (it will impact the overall IT costs)\n",
    "\n",
    "\n",
    "Step ② We can then sort sellers by increasing profits for Olist, and for different numbers of sellers removed, compute the financial impact it would have made had they never been accepted on the platform. We may find an optimal number of sellers to remove that maximizes Olist's profit margin"
   ]
  },
  {
   "cell_type": "code",
   "execution_count": 1,
   "id": "e073f105",
   "metadata": {},
   "outputs": [],
   "source": [
    "# Write down a detailed strategy (step by step) to create the DataFrame you need for step (1)\n",
    "# Think about how to re-use logic you have already coded in your `olist` package\n",
    "# Suggested strategy:\n",
    "\n",
    "# Update seller.py to compute a missing cost_of_reviews column\n",
    "# Compute months_on_olist and revenues using existing seller_training_data columns\n",
    "# Compute profits per seller\n",
    "# Sort DataFrame per profits\n",
    "# Remove worst performing sellers one by one, and for each scenario:\n",
    "# compute n_orders and therefore olist_it_costs (proportional to square root of n_orders)\n",
    "# compute Olist's total net_profits and margin\n",
    "# Find the optimal number of sellers to remove from the platform so as to maximize profit or margin"
   ]
  },
  {
   "cell_type": "markdown",
   "id": "34d7a0de",
   "metadata": {},
   "source": [
    "<details>\n",
    "    <summary>Hints</summary>\n",
    "\n",
    "\n",
    "Starting from your current `seller().get_training_data()` DataFrame:\n",
    "- Can you easily transform it to compute Olist's positive `revenue_per_seller`? \n",
    "- Can you easily transform it to compute Olist's `cost_of_bad_reviews`?\n",
    "\n",
    "❓Instead of starting again from scratch, investigate in your source code in `seller.py` how the mean `review_score` per seller was computed. Can you imagine a way to ammend your code so as to compute `cost_of_reviews` in the same process? \n",
    "</details>\n"
   ]
  },
  {
   "cell_type": "markdown",
   "id": "e1019d26",
   "metadata": {},
   "source": [
    "## Your turn!"
   ]
  },
  {
   "cell_type": "code",
   "execution_count": 2,
   "id": "b6d677bb",
   "metadata": {},
   "outputs": [],
   "source": [
    "# Keep this notebook tidy, you will present it to the Olist CEO on Friday afternoon!"
   ]
  },
  {
   "cell_type": "code",
   "execution_count": 4,
   "id": "1b67b317",
   "metadata": {},
   "outputs": [],
   "source": [
    "#1,seller.py has been updated to seller_updated.py to automatically compute what we need for step (1)"
   ]
  },
  {
   "cell_type": "markdown",
   "id": "adba5528",
   "metadata": {},
   "source": [
    "## Step ① : Update `seller.py`\n"
   ]
  },
  {
   "cell_type": "code",
   "execution_count": null,
   "id": "9bc839f4",
   "metadata": {},
   "outputs": [],
   "source": []
  },
  {
   "cell_type": "code",
   "execution_count": null,
   "id": "b6004711",
   "metadata": {},
   "outputs": [],
   "source": []
  },
  {
   "cell_type": "code",
   "execution_count": null,
   "id": "40554a7c",
   "metadata": {},
   "outputs": [],
   "source": []
  },
  {
   "cell_type": "markdown",
   "id": "62bc6dc4",
   "metadata": {},
   "source": [
    "## Step ② : What-if analysis"
   ]
  },
  {
   "cell_type": "markdown",
   "id": "2a9a5b55",
   "metadata": {},
   "source": [
    "### Olist P&L (big picture)"
   ]
  },
  {
   "cell_type": "code",
   "execution_count": 7,
   "id": "f15373e7",
   "metadata": {},
   "outputs": [],
   "source": [
    "#revenue,costs,profits"
   ]
  },
  {
   "cell_type": "markdown",
   "id": "c4781476",
   "metadata": {},
   "source": [
    "### Seller cut-off analysis"
   ]
  },
  {
   "cell_type": "code",
   "execution_count": null,
   "id": "3c93300a",
   "metadata": {},
   "outputs": [],
   "source": []
  }
 ],
 "metadata": {
  "kernelspec": {
   "display_name": "Python 3 (ipykernel)",
   "language": "python",
   "name": "python3"
  },
  "language_info": {
   "codemirror_mode": {
    "name": "ipython",
    "version": 3
   },
   "file_extension": ".py",
   "mimetype": "text/x-python",
   "name": "python",
   "nbconvert_exporter": "python",
   "pygments_lexer": "ipython3",
   "version": "3.8.12"
  },
  "toc": {
   "base_numbering": 1,
   "nav_menu": {},
   "number_sections": true,
   "sideBar": true,
   "skip_h1_title": false,
   "title_cell": "Table of Contents",
   "title_sidebar": "Contents",
   "toc_cell": false,
   "toc_position": {},
   "toc_section_display": true,
   "toc_window_display": false
  }
 },
 "nbformat": 4,
 "nbformat_minor": 5
}
