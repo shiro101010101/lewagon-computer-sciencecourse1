{
 "cells": [
  {
   "cell_type": "code",
   "execution_count": 3,
   "id": "6cad3c79",
   "metadata": {},
   "outputs": [
    {
     "data": {
      "text/plain": [
       "'KenTan'"
      ]
     },
     "execution_count": 3,
     "metadata": {},
     "output_type": "execute_result"
    }
   ],
   "source": [
    "def full_name(first_name, last_name):\n",
    "    \"\"\"returns the full name\"\"\"\n",
    "    if first_name==\"\" or last_name==\"\":\n",
    "        name = f\"{first_name.capitalize().strip()}{last_name.capitalize().strip()}\"\n",
    "    else:\n",
    "        name = f\"{first_name.capitalize().strip()}{last_name.capitalize().strip()}\"\n",
    "    return name\n",
    "full_name(\"ken\",\"tan\")"
   ]
  },
  {
   "cell_type": "code",
   "execution_count": null,
   "id": "2942bf3a",
   "metadata": {},
   "outputs": [],
   "source": []
  }
 ],
 "metadata": {
  "kernelspec": {
   "display_name": "Python 3 (ipykernel)",
   "language": "python",
   "name": "python3"
  },
  "language_info": {
   "codemirror_mode": {
    "name": "ipython",
    "version": 3
   },
   "file_extension": ".py",
   "mimetype": "text/x-python",
   "name": "python",
   "nbconvert_exporter": "python",
   "pygments_lexer": "ipython3",
   "version": "3.8.12"
  }
 },
 "nbformat": 4,
 "nbformat_minor": 5
}
