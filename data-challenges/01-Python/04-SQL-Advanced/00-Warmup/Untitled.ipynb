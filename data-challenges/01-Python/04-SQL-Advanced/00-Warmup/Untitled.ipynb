{
 "cells": [
  {
   "cell_type": "code",
   "execution_count": 13,
   "id": "b24b8abd",
   "metadata": {},
   "outputs": [],
   "source": [
    "# pylint: disable-all\n",
    "import unittest\n",
    "from school import students_from_city\n",
    "import sqlite3\n",
    "\n",
    "conn = sqlite3.connect('data/school.sqlite')\n",
    "db = conn.cursor()"
   ]
  },
  {
   "cell_type": "code",
   "execution_count": 58,
   "id": "e850704a",
   "metadata": {},
   "outputs": [
    {
     "data": {
      "text/plain": [
       "[(1, 'Oran', 'Southern', 'Paris'),\n",
       " (6, 'Bertha', 'Brook', 'Paris'),\n",
       " (7, 'Neha', 'Salazar', 'Paris'),\n",
       " (8, 'Ignacy', 'Casey', 'Paris'),\n",
       " (10, 'Shirley', 'Mayer', 'Paris')]"
      ]
     },
     "execution_count": 58,
     "metadata": {},
     "output_type": "execute_result"
    }
   ],
   "source": [
    "query=f\"\"\"\n",
    "SELECT * FROM students\n",
    "WHERE birth_city = \"Paris\";\n",
    "\"\"\"\n",
    "db.execute(query)\n",
    "students=db.fetchall()\n",
    "[student for student in students]\n",
    "\n",
    "# lis=list(map(lambda x:student[1],student))\n",
    "# student\n",
    "# list(map(lambda x:x[0],student))\n",
    "\n",
    "# print(f'lambda処理後:\\n{student[0][2]}')\n",
    "\n"
   ]
  },
  {
   "cell_type": "code",
   "execution_count": 27,
   "id": "da6f00a1",
   "metadata": {},
   "outputs": [
    {
     "data": {
      "text/plain": [
       "<sqlite3.Cursor at 0x115b4ec00>"
      ]
     },
     "execution_count": 27,
     "metadata": {},
     "output_type": "execute_result"
    }
   ],
   "source": [
    "db.execute(query)"
   ]
  },
  {
   "cell_type": "code",
   "execution_count": null,
   "id": "91331740",
   "metadata": {},
   "outputs": [],
   "source": []
  }
 ],
 "metadata": {
  "kernelspec": {
   "display_name": "Python 3 (ipykernel)",
   "language": "python",
   "name": "python3"
  },
  "language_info": {
   "codemirror_mode": {
    "name": "ipython",
    "version": 3
   },
   "file_extension": ".py",
   "mimetype": "text/x-python",
   "name": "python",
   "nbconvert_exporter": "python",
   "pygments_lexer": "ipython3",
   "version": "3.8.12"
  },
  "toc": {
   "base_numbering": 1,
   "nav_menu": {},
   "number_sections": true,
   "sideBar": true,
   "skip_h1_title": false,
   "title_cell": "Table of Contents",
   "title_sidebar": "Contents",
   "toc_cell": false,
   "toc_position": {},
   "toc_section_display": true,
   "toc_window_display": false
  }
 },
 "nbformat": 4,
 "nbformat_minor": 5
}
