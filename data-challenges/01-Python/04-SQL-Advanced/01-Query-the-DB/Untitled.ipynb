{
 "cells": [
  {
   "cell_type": "code",
   "execution_count": 1,
   "id": "ff70c570",
   "metadata": {},
   "outputs": [],
   "source": [
    "import unittest\n",
    "from queries import get_orders_range\n",
    "import sqlite3\n",
    "\n",
    "conn = sqlite3.connect('data/ecommerce.sqlite')\n",
    "db = conn.cursor()"
   ]
  },
  {
   "cell_type": "code",
   "execution_count": 46,
   "id": "6defa0fa",
   "metadata": {},
   "outputs": [
    {
     "data": {
      "text/plain": [
       "[(2, 2, 2, '2012-01-27', '2012-02-01', '2012-01-28', 1, 7.25),\n",
       " (3, 4, 1, '2012-02-19', '2012-02-24', '2012-02-23', 2, 5.5)]"
      ]
     },
     "execution_count": 46,
     "metadata": {},
     "output_type": "execute_result"
    }
   ],
   "source": [
    "query=\"\"\"\n",
    "SELECT *\n",
    "FROM Orders o \n",
    "WHERE o.OrderDate > '2012-01-04' AND o.OrderDate <= '2012-03-04'\n",
    "    \"\"\"\n",
    "    \n",
    "db.execute(query)\n",
    "orders=db.fetchall()\n",
    "orders"
   ]
  },
  {
   "cell_type": "code",
   "execution_count": 43,
   "id": "627ed8ba",
   "metadata": {},
   "outputs": [
    {
     "data": {
      "text/plain": [
       "2"
      ]
     },
     "execution_count": 43,
     "metadata": {},
     "output_type": "execute_result"
    }
   ],
   "source": [
    "lis=[]\n",
    "for order in orders:\n",
    "    lis.append(order)\n",
    "len(lis)"
   ]
  },
  {
   "cell_type": "code",
   "execution_count": null,
   "id": "fa5029b3",
   "metadata": {},
   "outputs": [],
   "source": [
    "print(type([orders[0] for order in orders]))"
   ]
  },
  {
   "cell_type": "code",
   "execution_count": 53,
   "id": "b31bcea5",
   "metadata": {},
   "outputs": [
    {
     "data": {
      "text/plain": [
       "1"
      ]
     },
     "execution_count": 53,
     "metadata": {},
     "output_type": "execute_result"
    }
   ],
   "source": [
    "query=\"\"\"\n",
    "SELECT *\n",
    "FROM Orders o \n",
    "WHERE o.OrderDate > '2012-03-15' AND o.OrderDate <= '2012-04-15'\n",
    "    \"\"\"\n",
    "    \n",
    "db.execute(query)\n",
    "orders=db.fetchall()\n",
    "len(orders)"
   ]
  },
  {
   "cell_type": "code",
   "execution_count": 50,
   "id": "0435bc38",
   "metadata": {},
   "outputs": [
    {
     "data": {
      "text/plain": [
       "[(5, 4, 2, '2012-04-05', '2012-04-10', '2012-04-06', 3, 8.75)]"
      ]
     },
     "execution_count": 50,
     "metadata": {},
     "output_type": "execute_result"
    }
   ],
   "source": [
    "lis=[]\n",
    "for order in orders:\n",
    "    lis.append(order)\n",
    "lis"
   ]
  },
  {
   "cell_type": "code",
   "execution_count": 48,
   "id": "a85856b2",
   "metadata": {},
   "outputs": [],
   "source": [
    "expected = [\n",
    "            (5, 4, 2, '2012-04-05', '2012-04-10', '2012-04-06', 3, 8.75)\n",
    "        ]"
   ]
  },
  {
   "cell_type": "code",
   "execution_count": 52,
   "id": "b66a9480",
   "metadata": {},
   "outputs": [
    {
     "data": {
      "text/plain": [
       "True"
      ]
     },
     "execution_count": 52,
     "metadata": {},
     "output_type": "execute_result"
    }
   ],
   "source": [
    "lis==expected"
   ]
  },
  {
   "cell_type": "code",
   "execution_count": 86,
   "id": "89a5567d",
   "metadata": {},
   "outputs": [
    {
     "data": {
      "text/plain": [
       "[(2, 2, 2, '2012-01-27', '2012-02-01', '2012-01-28', 1, 7.25),\n",
       " (3, 4, 1, '2012-02-19', '2012-02-24', '2012-02-23', 2, 5.5)]"
      ]
     },
     "execution_count": 86,
     "metadata": {},
     "output_type": "execute_result"
    }
   ],
   "source": [
    "date_from='2012-01-04'\n",
    "date_to='2012-03-04'\n",
    "    \n",
    "query=f\"\"\"\n",
    "SELECT * FROM Orders o\n",
    "WHERE o.OrderDate > ?\n",
    "AND o.OrderDate <= ?\n",
    "\"\"\"\n",
    "db.execute(query, (\n",
    "    date_from,\n",
    "    date_to,\n",
    "))\n",
    "\n",
    "orders = db.fetchall()\n",
    "orders\n"
   ]
  },
  {
   "cell_type": "code",
   "execution_count": null,
   "id": "8582c5af",
   "metadata": {},
   "outputs": [],
   "source": []
  }
 ],
 "metadata": {
  "kernelspec": {
   "display_name": "Python 3 (ipykernel)",
   "language": "python",
   "name": "python3"
  },
  "language_info": {
   "codemirror_mode": {
    "name": "ipython",
    "version": 3
   },
   "file_extension": ".py",
   "mimetype": "text/x-python",
   "name": "python",
   "nbconvert_exporter": "python",
   "pygments_lexer": "ipython3",
   "version": "3.8.12"
  },
  "toc": {
   "base_numbering": 1,
   "nav_menu": {},
   "number_sections": true,
   "sideBar": true,
   "skip_h1_title": false,
   "title_cell": "Table of Contents",
   "title_sidebar": "Contents",
   "toc_cell": false,
   "toc_position": {},
   "toc_section_display": true,
   "toc_window_display": false
  }
 },
 "nbformat": 4,
 "nbformat_minor": 5
}
