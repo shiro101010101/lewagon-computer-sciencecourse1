{
 "cells": [
  {
   "cell_type": "code",
   "execution_count": 21,
   "id": "7e36c8af",
   "metadata": {},
   "outputs": [
    {
     "name": "stdout",
     "output_type": "stream",
     "text": [
      "The Great Dictator\n",
      "('Georges Méliès', 1861, 1938, 'nm0617588', 1, 'The Great Dictator', '8.5', 185034, 1940, 125, 'Comedy,Drama,War', 'tt0032553', 11, 13)\n"
     ]
    }
   ],
   "source": [
    "import sqlite3\n",
    "\n",
    "conn = sqlite3.connect('data/movies.sqlite')\n",
    "db = conn.cursor()\n",
    "\n",
    "query = \"\"\"SELECT * FROM directors ,movies\n",
    "    WHERE  movies.start_year > death_year \n",
    "    LIMIT 10;\n",
    "    \"\"\"\n",
    "\n",
    "db.execute(query)\n",
    "rows=db.fetchall()\n",
    "print(rows[0][5])\n",
    "print(rows[0])\n"
   ]
  },
  {
   "cell_type": "code",
   "execution_count": null,
   "id": "edfcd34e",
   "metadata": {},
   "outputs": [],
   "source": []
  },
  {
   "cell_type": "code",
   "execution_count": null,
   "id": "618f36d7",
   "metadata": {},
   "outputs": [],
   "source": []
  }
 ],
 "metadata": {
  "kernelspec": {
   "display_name": "Python 3 (ipykernel)",
   "language": "python",
   "name": "python3"
  },
  "language_info": {
   "codemirror_mode": {
    "name": "ipython",
    "version": 3
   },
   "file_extension": ".py",
   "mimetype": "text/x-python",
   "name": "python",
   "nbconvert_exporter": "python",
   "pygments_lexer": "ipython3",
   "version": "3.8.12"
  }
 },
 "nbformat": 4,
 "nbformat_minor": 5
}
