{
 "cells": [
  {
   "cell_type": "code",
   "execution_count": 138,
   "id": "e85abef2",
   "metadata": {},
   "outputs": [
    {
     "data": {
      "text/plain": [
       "{'title': 'London',\n",
       " 'location_type': 'City',\n",
       " 'woeid': 44418,\n",
       " 'latt_long': '51.506321,-0.12714'}"
      ]
     },
     "execution_count": 138,
     "metadata": {},
     "output_type": "execute_result"
    }
   ],
   "source": [
    "import requests\n",
    "response = requests.get(\"https://www.metaweather.com/api/location/search/?query=london\").json()\n",
    "# Do not modify the code above\n",
    "\n",
    "response[0]"
   ]
  },
  {
   "cell_type": "code",
   "execution_count": 139,
   "id": "2e3a0ad3",
   "metadata": {},
   "outputs": [
    {
     "data": {
      "text/plain": [
       "{'title': 'London',\n",
       " 'location_type': 'City',\n",
       " 'woeid': 44418,\n",
       " 'latt_long': '51.506321,-0.12714'}"
      ]
     },
     "execution_count": 139,
     "metadata": {},
     "output_type": "execute_result"
    }
   ],
   "source": [
    "response[0]\n"
   ]
  },
  {
   "cell_type": "code",
   "execution_count": 201,
   "id": "0db86ae0",
   "metadata": {},
   "outputs": [
    {
     "name": "stdout",
     "output_type": "stream",
     "text": [
      "city?london\n"
     ]
    }
   ],
   "source": [
    "query=input(\"city?\")\n",
    "\n"
   ]
  },
  {
   "cell_type": "code",
   "execution_count": 202,
   "id": "c86c8254",
   "metadata": {},
   "outputs": [
    {
     "data": {
      "text/plain": [
       "'https://www.metaweather.com/api/location/search/?query=london'"
      ]
     },
     "execution_count": 202,
     "metadata": {},
     "output_type": "execute_result"
    }
   ],
   "source": [
    "url ='https://www.metaweather.com/api/location/search/?query='+query\n",
    "url"
   ]
  },
  {
   "cell_type": "code",
   "execution_count": 203,
   "id": "d19bcc01",
   "metadata": {},
   "outputs": [],
   "source": [
    "response = requests.get(url).json(\n",
    "        )"
   ]
  },
  {
   "cell_type": "code",
   "execution_count": 204,
   "id": "f38ca799",
   "metadata": {},
   "outputs": [
    {
     "data": {
      "text/plain": [
       "[{'title': 'London',\n",
       "  'location_type': 'City',\n",
       "  'woeid': 44418,\n",
       "  'latt_long': '51.506321,-0.12714'}]"
      ]
     },
     "execution_count": 204,
     "metadata": {},
     "output_type": "execute_result"
    }
   ],
   "source": [
    "response"
   ]
  },
  {
   "cell_type": "code",
   "execution_count": 147,
   "id": "9b356263",
   "metadata": {},
   "outputs": [
    {
     "data": {
      "text/plain": [
       "'London'"
      ]
     },
     "execution_count": 147,
     "metadata": {},
     "output_type": "execute_result"
    }
   ],
   "source": [
    "query=query.title()\n",
    "query\n",
    "\n"
   ]
  },
  {
   "cell_type": "code",
   "execution_count": 206,
   "id": "e388a8f7",
   "metadata": {},
   "outputs": [
    {
     "data": {
      "text/plain": [
       "44418"
      ]
     },
     "execution_count": 206,
     "metadata": {},
     "output_type": "execute_result"
    }
   ],
   "source": [
    "response[0]['woeid']"
   ]
  },
  {
   "cell_type": "code",
   "execution_count": 161,
   "id": "82a234b3",
   "metadata": {},
   "outputs": [],
   "source": [
    "        return {\n",
    "            'City': response[0][\"title\"],\n",
    "            'Lon': float(response[0][\"latt_long\"][10:])\n",
    "            'Lat': float(response[0][\"latt_long\"][:9]),\n",
    "    }"
   ]
  },
  {
   "cell_type": "code",
   "execution_count": 163,
   "id": "30ad829c",
   "metadata": {},
   "outputs": [
    {
     "data": {
      "text/plain": [
       "[]"
      ]
     },
     "execution_count": 163,
     "metadata": {},
     "output_type": "execute_result"
    }
   ],
   "source": [
    "response"
   ]
  },
  {
   "cell_type": "code",
   "execution_count": 157,
   "id": "7dcb551e",
   "metadata": {},
   "outputs": [],
   "source": [
    "query=query.lower()\n"
   ]
  },
  {
   "cell_type": "code",
   "execution_count": 154,
   "id": "8bc85972",
   "metadata": {},
   "outputs": [
    {
     "data": {
      "text/plain": [
       "[]"
      ]
     },
     "execution_count": 154,
     "metadata": {},
     "output_type": "execute_result"
    }
   ],
   "source": [
    "response"
   ]
  },
  {
   "cell_type": "code",
   "execution_count": 149,
   "id": "93893c20",
   "metadata": {},
   "outputs": [
    {
     "data": {
      "text/plain": [
       "True"
      ]
     },
     "execution_count": 149,
     "metadata": {},
     "output_type": "execute_result"
    }
   ],
   "source": [
    "query==response[0][\"title\"]"
   ]
  },
  {
   "cell_type": "code",
   "execution_count": 85,
   "id": "39ef3edb",
   "metadata": {},
   "outputs": [
    {
     "ename": "AttributeError",
     "evalue": "'str' object has no attribute 'get'",
     "output_type": "error",
     "traceback": [
      "\u001b[0;31m---------------------------------------------------------------------------\u001b[0m",
      "\u001b[0;31mAttributeError\u001b[0m                            Traceback (most recent call last)",
      "\u001b[0;32m/var/folders/tg/p4s0x3b55936405b1y1vws6h0000gn/T/ipykernel_63792/1970960832.py\u001b[0m in \u001b[0;36m<module>\u001b[0;34m\u001b[0m\n\u001b[0;32m----> 1\u001b[0;31m \u001b[0mresponse\u001b[0m\u001b[0;34m[\u001b[0m\u001b[0;36m0\u001b[0m\u001b[0;34m]\u001b[0m\u001b[0;34m[\u001b[0m\u001b[0;34m\"title\"\u001b[0m\u001b[0;34m]\u001b[0m\u001b[0;34m.\u001b[0m\u001b[0mget\u001b[0m\u001b[0;34m(\u001b[0m\u001b[0;34m\"London\"\u001b[0m\u001b[0;34m,\u001b[0m\u001b[0;34m'NO KEY'\u001b[0m\u001b[0;34m)\u001b[0m\u001b[0;34m\u001b[0m\u001b[0;34m\u001b[0m\u001b[0m\n\u001b[0m",
      "\u001b[0;31mAttributeError\u001b[0m: 'str' object has no attribute 'get'"
     ]
    }
   ],
   "source": [
    "response[0][\"title\"].get(\"London\",'NO KEY')"
   ]
  },
  {
   "cell_type": "code",
   "execution_count": null,
   "id": "0cff7879",
   "metadata": {},
   "outputs": [],
   "source": []
  },
  {
   "cell_type": "code",
   "execution_count": 66,
   "id": "a18a5159",
   "metadata": {},
   "outputs": [
    {
     "name": "stdout",
     "output_type": "stream",
     "text": [
      "cityLondon\n",
      "Here's the weather in London\n"
     ]
    }
   ],
   "source": [
    "city=input(\"city\")\n",
    "if city ==\"London\":\n",
    "    print(f\"Here's the weather in {city}\")"
   ]
  },
  {
   "cell_type": "code",
   "execution_count": 31,
   "id": "3e0ddbe2",
   "metadata": {},
   "outputs": [
    {
     "name": "stdout",
     "output_type": "stream",
     "text": [
      "ssaunier\n"
     ]
    }
   ],
   "source": [
    "print(response['login'])"
   ]
  },
  {
   "cell_type": "code",
   "execution_count": 35,
   "id": "42387207",
   "metadata": {},
   "outputs": [
    {
     "data": {
      "text/plain": [
       "'NO KEY'"
      ]
     },
     "execution_count": 35,
     "metadata": {},
     "output_type": "execute_result"
    }
   ],
   "source": [
    "response.get('lgin','NO KEY')"
   ]
  },
  {
   "cell_type": "code",
   "execution_count": 42,
   "id": "083acb88",
   "metadata": {},
   "outputs": [
    {
     "data": {
      "text/plain": [
       "'ssaunier'"
      ]
     },
     "execution_count": 42,
     "metadata": {},
     "output_type": "execute_result"
    }
   ],
   "source": [
    "query=\"login\"\n",
    "response.get(query,'NO KEY')"
   ]
  },
  {
   "cell_type": "code",
   "execution_count": 260,
   "id": "ff0db182",
   "metadata": {},
   "outputs": [
    {
     "data": {
      "text/plain": [
       "{'id': 6560585907961856,\n",
       " 'weather_state_name': 'Heavy Cloud',\n",
       " 'weather_state_abbr': 'hc',\n",
       " 'wind_direction_compass': 'NNW',\n",
       " 'created': '2021-10-09T09:59:01.757671Z',\n",
       " 'applicable_date': '2021-10-10',\n",
       " 'min_temp': 10.92,\n",
       " 'max_temp': 18.545,\n",
       " 'the_temp': 17.759999999999998,\n",
       " 'wind_speed': 4.021035339526498,\n",
       " 'wind_direction': 343.5,\n",
       " 'air_pressure': 1028.5,\n",
       " 'humidity': 76,\n",
       " 'visibility': 8.948987910602083,\n",
       " 'predictability': 71}"
      ]
     },
     "execution_count": 260,
     "metadata": {},
     "output_type": "execute_result"
    }
   ],
   "source": [
    "woei=str(44418)\n",
    "url ='https://www.metaweather.com/api/location/'+woei\n",
    "response = requests.get(url).json()\n",
    "response['consolidated_weather'][1]"
   ]
  },
  {
   "cell_type": "code",
   "execution_count": 261,
   "id": "5e279a0e",
   "metadata": {},
   "outputs": [
    {
     "ename": "KeyError",
     "evalue": "0",
     "output_type": "error",
     "traceback": [
      "\u001b[0;31m---------------------------------------------------------------------------\u001b[0m",
      "\u001b[0;31mKeyError\u001b[0m                                  Traceback (most recent call last)",
      "\u001b[0;32m/var/folders/tg/p4s0x3b55936405b1y1vws6h0000gn/T/ipykernel_63792/1025374399.py\u001b[0m in \u001b[0;36m<module>\u001b[0;34m\u001b[0m\n\u001b[0;32m----> 1\u001b[0;31m \u001b[0mresponse\u001b[0m\u001b[0;34m[\u001b[0m\u001b[0;36m0\u001b[0m\u001b[0;34m]\u001b[0m\u001b[0;34m[\u001b[0m\u001b[0;34m'woeid'\u001b[0m\u001b[0;34m]\u001b[0m\u001b[0;34m\u001b[0m\u001b[0;34m\u001b[0m\u001b[0m\n\u001b[0m",
      "\u001b[0;31mKeyError\u001b[0m: 0"
     ]
    }
   ],
   "source": []
  },
  {
   "cell_type": "code",
   "execution_count": 251,
   "id": "8dae41f8",
   "metadata": {},
   "outputs": [
    {
     "name": "stdout",
     "output_type": "stream",
     "text": [
      "2021-10-09: Light Cloud18.4°C\n",
      "2021-10-10: Heavy Cloud18.5°C\n",
      "2021-10-11: Heavy Cloud15.8°C\n",
      "2021-10-12: Heavy Cloud15.4°C\n",
      "2021-10-13: Heavy Cloud14.2°C\n"
     ]
    }
   ],
   "source": [
    "for i in range(5):\n",
    "    date=response[\"consolidated_weather\"][i].get(\"applicable_date\",0)\n",
    "    forecast=response[\"consolidated_weather\"][i].get(\"weather_state_name\",None)\n",
    "    temp=response[\"consolidated_weather\"][i].get(\"max_temp\",None)\n",
    "    rotemp=round(temp,1)\n",
    "    print(f\"{date}: {forecast}{rotemp}°C\")"
   ]
  },
  {
   "cell_type": "code",
   "execution_count": 239,
   "id": "33100eae",
   "metadata": {},
   "outputs": [
    {
     "data": {
      "text/plain": [
       "14.2"
      ]
     },
     "execution_count": 239,
     "metadata": {},
     "output_type": "execute_result"
    }
   ],
   "source": [
    "temp=response[\"consolidated_weather\"][i].get(\"max_temp\",None)\n",
    "round(temp,1)"
   ]
  },
  {
   "cell_type": "code",
   "execution_count": 262,
   "id": "83db13f3",
   "metadata": {},
   "outputs": [
    {
     "name": "stdout",
     "output_type": "stream",
     "text": [
      "[{'title': 'The Godfather', 'duration': 175}, {'title': \"Schindler's List\", 'duration': 195}]\n"
     ]
    }
   ],
   "source": [
    "import requests\n",
    "from bs4 import BeautifulSoup\n",
    "\n",
    "response = requests.get(\"https://www.imdb.com/list/ls055386972/\", headers={\"Accept-Language\":\"en-US\"})\n",
    "soup = BeautifulSoup(response.content, \"html.parser\")\n",
    "\n",
    "movies = []\n",
    "for movie in soup.find_all(\"div\", class_=\"lister-item-content\"):\n",
    "    title = movie.find(\"h3\").find(\"a\").string\n",
    "    duration = int(movie.find(\"span\", class_=\"runtime\").string.strip(' min'))\n",
    "    movies.append({'title': title, 'duration': duration})\n",
    "\n",
    "print(movies[0:2])"
   ]
  },
  {
   "cell_type": "code",
   "execution_count": 304,
   "id": "4a1c3a15",
   "metadata": {},
   "outputs": [
    {
     "ename": "SyntaxError",
     "evalue": "invalid syntax (772800618.py, line 11)",
     "output_type": "error",
     "traceback": [
      "\u001b[0;36m  File \u001b[0;32m\"/var/folders/tg/p4s0x3b55936405b1y1vws6h0000gn/T/ipykernel_63792/772800618.py\"\u001b[0;36m, line \u001b[0;32m11\u001b[0m\n\u001b[0;31m    print(duration)\u001b[0m\n\u001b[0m    ^\u001b[0m\n\u001b[0;31mSyntaxError\u001b[0m\u001b[0;31m:\u001b[0m invalid syntax\n"
     ]
    }
   ],
   "source": [
    "import requests\n",
    "import sys\n",
    "from bs4 import BeautifulSoup\n",
    "url='https://recipes.lewagon.com/?search[query]=carrot'\n",
    "response = requests.get(url)\n",
    "soup = BeautifulSoup(response.content, \"html.parser\")\n",
    "\n",
    "recipeslis=[]\n",
    "for lis in soup.find_all('div',class_='col-12 col-sm-6 col-md-4 col-lg-3'):\n",
    "    duration = int(lis.find(\"span\", class_=\"recipe-cooktime\")\n",
    "    print(duration)\n",
    "                   "
   ]
  },
  {
   "cell_type": "code",
   "execution_count": null,
   "id": "aa2723a4",
   "metadata": {},
   "outputs": [],
   "source": [
    "import requests\n",
    "import sys\n",
    "from bs4 import BeautifulSoup\n",
    "url='https://recipes.lewagon.com/?search[query]=carrot'\n",
    "response = requests.get(url)\n",
    "soup = BeautifulSoup(response.content, \"html.parser\")\n",
    "\n",
    "recipeslis=[]\n",
    "for lis in soup.find_all('div',class_='col-12 col-sm-6 col-md-4 col-lg-3'):\n",
    "    duration = int(lis.find(\"span\", class_=\"recipe-cooktime\")\n",
    "    print(duration)\n",
    "                   "
   ]
  },
  {
   "cell_type": "code",
   "execution_count": 308,
   "id": "dc2dbc5d",
   "metadata": {},
   "outputs": [
    {
     "data": {
      "text/plain": [
       "[{'title': 'London',\n",
       "  'location_type': 'City',\n",
       "  'woeid': 44418,\n",
       "  'latt_long': '51.506321,-0.12714'}]"
      ]
     },
     "execution_count": 308,
     "metadata": {},
     "output_type": "execute_result"
    }
   ],
   "source": [
    "import sys\n",
    "import urllib.parse\n",
    "import requests\n",
    "\n",
    "BASE_URI = \"https://www.metaweather.com\"\n",
    "\n",
    "query=\"london\"\n",
    "url = urllib.parse.urljoin(BASE_URI, \"/api/location/search\")\n",
    "cities = requests.get(url, params={'query': query}).json()\n",
    "cities"
   ]
  },
  {
   "cell_type": "code",
   "execution_count": null,
   "id": "54ee370a",
   "metadata": {},
   "outputs": [],
   "source": []
  },
  {
   "cell_type": "code",
   "execution_count": null,
   "id": "f2ad5111",
   "metadata": {},
   "outputs": [],
   "source": []
  },
  {
   "cell_type": "code",
   "execution_count": null,
   "id": "a352d621",
   "metadata": {},
   "outputs": [],
   "source": []
  },
  {
   "cell_type": "code",
   "execution_count": null,
   "id": "6a2877ea",
   "metadata": {},
   "outputs": [],
   "source": []
  },
  {
   "cell_type": "code",
   "execution_count": null,
   "id": "95dd252e",
   "metadata": {},
   "outputs": [],
   "source": []
  }
 ],
 "metadata": {
  "kernelspec": {
   "display_name": "Python 3 (ipykernel)",
   "language": "python",
   "name": "python3"
  },
  "language_info": {
   "codemirror_mode": {
    "name": "ipython",
    "version": 3
   },
   "file_extension": ".py",
   "mimetype": "text/x-python",
   "name": "python",
   "nbconvert_exporter": "python",
   "pygments_lexer": "ipython3",
   "version": "3.8.12"
  }
 },
 "nbformat": 4,
 "nbformat_minor": 5
}
