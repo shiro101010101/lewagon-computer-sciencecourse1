{
 "cells": [
  {
   "cell_type": "markdown",
   "metadata": {},
   "source": [
    "# Linear Regression"
   ]
  },
  {
   "cell_type": "markdown",
   "metadata": {},
   "source": [
    "🎯 In this exercise, you will model the sale price of houses (`SalePrice`) according to their living areas (`GrLivArea`)"
   ]
  },
  {
   "cell_type": "markdown",
   "metadata": {},
   "source": [
    "👇Load the `houses.csv` dataset into this notebook as a pandas dataframe, and display its first 5 rows."
   ]
  },
  {
   "cell_type": "markdown",
   "metadata": {},
   "source": [
    "<details>\n",
    "    <summary>💡Hint</summary>\n",
    "    The dataset is located in a parent directory, you should use <code>../</code> in order to find it.\n",
    "</details>"
   ]
  },
  {
   "cell_type": "code",
   "execution_count": 121,
   "metadata": {
    "tags": [
     "challengify"
    ]
   },
   "outputs": [
    {
     "data": {
      "text/html": [
       "<div>\n",
       "<style scoped>\n",
       "    .dataframe tbody tr th:only-of-type {\n",
       "        vertical-align: middle;\n",
       "    }\n",
       "\n",
       "    .dataframe tbody tr th {\n",
       "        vertical-align: top;\n",
       "    }\n",
       "\n",
       "    .dataframe thead th {\n",
       "        text-align: right;\n",
       "    }\n",
       "</style>\n",
       "<table border=\"1\" class=\"dataframe\">\n",
       "  <thead>\n",
       "    <tr style=\"text-align: right;\">\n",
       "      <th></th>\n",
       "      <th>Id</th>\n",
       "      <th>MSSubClass</th>\n",
       "      <th>MSZoning</th>\n",
       "      <th>LotFrontage</th>\n",
       "      <th>LotArea</th>\n",
       "      <th>Street</th>\n",
       "      <th>Alley</th>\n",
       "      <th>LotShape</th>\n",
       "      <th>LandContour</th>\n",
       "      <th>Utilities</th>\n",
       "      <th>...</th>\n",
       "      <th>PoolArea</th>\n",
       "      <th>PoolQC</th>\n",
       "      <th>Fence</th>\n",
       "      <th>MiscFeature</th>\n",
       "      <th>MiscVal</th>\n",
       "      <th>MoSold</th>\n",
       "      <th>YrSold</th>\n",
       "      <th>SaleType</th>\n",
       "      <th>SaleCondition</th>\n",
       "      <th>SalePrice</th>\n",
       "    </tr>\n",
       "  </thead>\n",
       "  <tbody>\n",
       "    <tr>\n",
       "      <th>0</th>\n",
       "      <td>1</td>\n",
       "      <td>60</td>\n",
       "      <td>RL</td>\n",
       "      <td>65.0</td>\n",
       "      <td>8450</td>\n",
       "      <td>Pave</td>\n",
       "      <td>NaN</td>\n",
       "      <td>Reg</td>\n",
       "      <td>Lvl</td>\n",
       "      <td>AllPub</td>\n",
       "      <td>...</td>\n",
       "      <td>0</td>\n",
       "      <td>NaN</td>\n",
       "      <td>NaN</td>\n",
       "      <td>NaN</td>\n",
       "      <td>0</td>\n",
       "      <td>2</td>\n",
       "      <td>2008</td>\n",
       "      <td>WD</td>\n",
       "      <td>Normal</td>\n",
       "      <td>208500</td>\n",
       "    </tr>\n",
       "    <tr>\n",
       "      <th>1</th>\n",
       "      <td>2</td>\n",
       "      <td>20</td>\n",
       "      <td>RL</td>\n",
       "      <td>80.0</td>\n",
       "      <td>9600</td>\n",
       "      <td>Pave</td>\n",
       "      <td>NaN</td>\n",
       "      <td>Reg</td>\n",
       "      <td>Lvl</td>\n",
       "      <td>AllPub</td>\n",
       "      <td>...</td>\n",
       "      <td>0</td>\n",
       "      <td>NaN</td>\n",
       "      <td>NaN</td>\n",
       "      <td>NaN</td>\n",
       "      <td>0</td>\n",
       "      <td>5</td>\n",
       "      <td>2007</td>\n",
       "      <td>WD</td>\n",
       "      <td>Normal</td>\n",
       "      <td>181500</td>\n",
       "    </tr>\n",
       "    <tr>\n",
       "      <th>2</th>\n",
       "      <td>3</td>\n",
       "      <td>60</td>\n",
       "      <td>RL</td>\n",
       "      <td>68.0</td>\n",
       "      <td>11250</td>\n",
       "      <td>Pave</td>\n",
       "      <td>NaN</td>\n",
       "      <td>IR1</td>\n",
       "      <td>Lvl</td>\n",
       "      <td>AllPub</td>\n",
       "      <td>...</td>\n",
       "      <td>0</td>\n",
       "      <td>NaN</td>\n",
       "      <td>NaN</td>\n",
       "      <td>NaN</td>\n",
       "      <td>0</td>\n",
       "      <td>9</td>\n",
       "      <td>2008</td>\n",
       "      <td>WD</td>\n",
       "      <td>Normal</td>\n",
       "      <td>223500</td>\n",
       "    </tr>\n",
       "    <tr>\n",
       "      <th>3</th>\n",
       "      <td>4</td>\n",
       "      <td>70</td>\n",
       "      <td>RL</td>\n",
       "      <td>60.0</td>\n",
       "      <td>9550</td>\n",
       "      <td>Pave</td>\n",
       "      <td>NaN</td>\n",
       "      <td>IR1</td>\n",
       "      <td>Lvl</td>\n",
       "      <td>AllPub</td>\n",
       "      <td>...</td>\n",
       "      <td>0</td>\n",
       "      <td>NaN</td>\n",
       "      <td>NaN</td>\n",
       "      <td>NaN</td>\n",
       "      <td>0</td>\n",
       "      <td>2</td>\n",
       "      <td>2006</td>\n",
       "      <td>WD</td>\n",
       "      <td>Abnorml</td>\n",
       "      <td>140000</td>\n",
       "    </tr>\n",
       "    <tr>\n",
       "      <th>4</th>\n",
       "      <td>5</td>\n",
       "      <td>60</td>\n",
       "      <td>RL</td>\n",
       "      <td>84.0</td>\n",
       "      <td>14260</td>\n",
       "      <td>Pave</td>\n",
       "      <td>NaN</td>\n",
       "      <td>IR1</td>\n",
       "      <td>Lvl</td>\n",
       "      <td>AllPub</td>\n",
       "      <td>...</td>\n",
       "      <td>0</td>\n",
       "      <td>NaN</td>\n",
       "      <td>NaN</td>\n",
       "      <td>NaN</td>\n",
       "      <td>0</td>\n",
       "      <td>12</td>\n",
       "      <td>2008</td>\n",
       "      <td>WD</td>\n",
       "      <td>Normal</td>\n",
       "      <td>250000</td>\n",
       "    </tr>\n",
       "  </tbody>\n",
       "</table>\n",
       "<p>5 rows × 85 columns</p>\n",
       "</div>"
      ],
      "text/plain": [
       "   Id  MSSubClass MSZoning  LotFrontage  LotArea Street Alley LotShape  \\\n",
       "0   1          60       RL         65.0     8450   Pave   NaN      Reg   \n",
       "1   2          20       RL         80.0     9600   Pave   NaN      Reg   \n",
       "2   3          60       RL         68.0    11250   Pave   NaN      IR1   \n",
       "3   4          70       RL         60.0     9550   Pave   NaN      IR1   \n",
       "4   5          60       RL         84.0    14260   Pave   NaN      IR1   \n",
       "\n",
       "  LandContour Utilities  ... PoolArea PoolQC Fence MiscFeature MiscVal MoSold  \\\n",
       "0         Lvl    AllPub  ...        0    NaN   NaN         NaN       0      2   \n",
       "1         Lvl    AllPub  ...        0    NaN   NaN         NaN       0      5   \n",
       "2         Lvl    AllPub  ...        0    NaN   NaN         NaN       0      9   \n",
       "3         Lvl    AllPub  ...        0    NaN   NaN         NaN       0      2   \n",
       "4         Lvl    AllPub  ...        0    NaN   NaN         NaN       0     12   \n",
       "\n",
       "  YrSold  SaleType  SaleCondition  SalePrice  \n",
       "0   2008        WD         Normal     208500  \n",
       "1   2007        WD         Normal     181500  \n",
       "2   2008        WD         Normal     223500  \n",
       "3   2006        WD        Abnorml     140000  \n",
       "4   2008        WD         Normal     250000  \n",
       "\n",
       "[5 rows x 85 columns]"
      ]
     },
     "execution_count": 121,
     "metadata": {},
     "output_type": "execute_result"
    }
   ],
   "source": [
    "# YOUR CODE HERE\n",
    "import pandas as pd\n",
    "house_data=pd.read_csv(\"../01-Linear-Regression/ML_Houses_dataset.csv\")\n",
    "house_data.head()"
   ]
  },
  {
   "cell_type": "markdown",
   "metadata": {},
   "source": [
    "ℹ️ You can download a detailed description of the dataset [here](https://wagon-public-datasets.s3.amazonaws.com/Machine%20Learning%20Datasets/ML_Houses_dataset_description.txt). Make sure to refer to it throughout the day."
   ]
  },
  {
   "cell_type": "markdown",
   "metadata": {},
   "source": [
    "## 1. Define the feature set and target"
   ]
  },
  {
   "cell_type": "markdown",
   "metadata": {},
   "source": [
    "🎯 The objective is to model the sale price of houses in \\$ (`SalePrice`) according to their living areas in $ft^2$ (`GrLivArea`).\n",
    "\n",
    "👇 Assign those two variables to X and y. Remember that X is the feature(s), and y the target."
   ]
  },
  {
   "cell_type": "code",
   "execution_count": 122,
   "metadata": {
    "tags": [
     "challengify"
    ]
   },
   "outputs": [
    {
     "data": {
      "text/plain": [
       "(1760, 1)"
      ]
     },
     "execution_count": 122,
     "metadata": {},
     "output_type": "execute_result"
    }
   ],
   "source": [
    "# YOUR CODE HERE\n",
    "\n",
    "# X=house_data.iloc[:,-1]\n",
    "# y=house_data.iloc[:,:-1]\n",
    "# X.shape\n",
    "\n",
    "\n",
    "y=house_data[\"SalePrice\"]\n",
    "X=house_data[[\"GrLivArea\"]]\n",
    "X.shape"
   ]
  },
  {
   "cell_type": "code",
   "execution_count": null,
   "metadata": {},
   "outputs": [],
   "source": []
  },
  {
   "cell_type": "code",
   "execution_count": 123,
   "metadata": {},
   "outputs": [],
   "source": [
    "\n",
    "#GrLivArea: Above grade (ground) living area square feet"
   ]
  },
  {
   "cell_type": "code",
   "execution_count": null,
   "metadata": {},
   "outputs": [],
   "source": []
  },
  {
   "cell_type": "markdown",
   "metadata": {},
   "source": [
    "👇 In a scatter plot ([doc](https://matplotlib.org/3.3.3/api/_as_gen/matplotlib.pyplot.scatter.html)) , visualize the relationship between the living areas and the sale prices."
   ]
  },
  {
   "cell_type": "code",
   "execution_count": 124,
   "metadata": {
    "tags": [
     "challengify"
    ]
   },
   "outputs": [
    {
     "data": {
      "image/png": "[encoded data removed]",
      "text/plain": [
       "<Figure size 432x288 with 1 Axes>"
      ]
     },
     "metadata": {
      "needs_background": "light"
     },
     "output_type": "display_data"
    }
   ],
   "source": [
    "import matplotlib.pyplot as plt\n",
    "\n",
    "# Plot Living area vs Sale price\n",
    "plt.scatter(house_data['GrLivArea'], house_data['SalePrice'])\n",
    "\n",
    "# Labels\n",
    "plt.xlabel(\"Living area\")\n",
    "plt.ylabel(\"Sale price\")\n",
    "\n",
    "plt.show()"
   ]
  },
  {
   "cell_type": "code",
   "execution_count": 125,
   "metadata": {},
   "outputs": [
    {
     "ename": "NameError",
     "evalue": "name 'sns' is not defined",
     "output_type": "error",
     "traceback": [
      "\u001b[0;31m---------------------------------------------------------------------------\u001b[0m",
      "\u001b[0;31mNameError\u001b[0m                                 Traceback (most recent call last)",
      "\u001b[0;32m/var/folders/tg/p4s0x3b55936405b1y1vws6h0000gn/T/ipykernel_47385/3592794954.py\u001b[0m in \u001b[0;36m<module>\u001b[0;34m\u001b[0m\n\u001b[0;32m----> 1\u001b[0;31m sns.regplot(y=\"SalePrice\",\n\u001b[0m\u001b[1;32m      2\u001b[0m             \u001b[0mx\u001b[0m\u001b[0;34m=\u001b[0m\u001b[0;34m\"GrLivArea\"\u001b[0m\u001b[0;34m,\u001b[0m\u001b[0;34m\u001b[0m\u001b[0;34m\u001b[0m\u001b[0m\n\u001b[1;32m      3\u001b[0m             data=house_data)\n",
      "\u001b[0;31mNameError\u001b[0m: name 'sns' is not defined"
     ]
    }
   ],
   "source": [
    "sns.regplot(y=\"SalePrice\",\n",
    "            x=\"GrLivArea\", \n",
    "            data=house_data)"
   ]
  },
  {
   "cell_type": "code",
   "execution_count": 126,
   "metadata": {},
   "outputs": [
    {
     "data": {
      "text/plain": [
       "182290"
      ]
     },
     "execution_count": 126,
     "metadata": {},
     "output_type": "execute_result"
    }
   ],
   "source": [
    "round(y.mean())"
   ]
  },
  {
   "cell_type": "markdown",
   "metadata": {},
   "source": [
    "ℹ️ The scatter plot should hint at the somewhat linear relationship."
   ]
  },
  {
   "cell_type": "markdown",
   "metadata": {},
   "source": [
    "### ☑️ Test your code"
   ]
  },
  {
   "cell_type": "code",
   "execution_count": 127,
   "metadata": {},
   "outputs": [
    {
     "name": "stdout",
     "output_type": "stream",
     "text": [
      "\u001b[1m============================= test session starts ==============================\u001b[0m\n",
      "platform darwin -- Python 3.8.12, pytest-6.2.5, py-1.10.0, pluggy-1.0.0 -- /Users/shu/.pyenv/versions/lewagon/bin/python3\n",
      "cachedir: .pytest_cache\n",
      "rootdir: /Users/shu/Desktop/Lewagon/code/shiro101010101/data-challenges/05-ML/01-Fundamentals-of-Machine-Learning/01-Linear-Regression\n",
      "plugins: dash-2.0.0, anyio-3.3.2\n",
      "\u001b[1mcollecting ... \u001b[0mcollected 2 items\n",
      "\n",
      "tests/test_variables.py::TestVariables::test_variable_X \u001b[32mPASSED\u001b[0m\u001b[32m           [ 50%]\u001b[0m\n",
      "tests/test_variables.py::TestVariables::test_variable_y \u001b[32mPASSED\u001b[0m\u001b[32m           [100%]\u001b[0m\n",
      "\n",
      "\u001b[32m============================== \u001b[32m\u001b[1m2 passed\u001b[0m\u001b[32m in 0.08s\u001b[0m\u001b[32m ===============================\u001b[0m\n",
      "\n",
      "\n",
      "💯 You can commit your code:\n",
      "\n",
      "\u001b[1;32mgit\u001b[39m add tests/variables.pickle\n",
      "\n",
      "\u001b[32mgit\u001b[39m commit -m \u001b[33m'Completed variables step'\u001b[39m\n",
      "\n",
      "\u001b[32mgit\u001b[39m push origin master\n"
     ]
    }
   ],
   "source": [
    "from nbresult import ChallengeResult\n",
    "\n",
    "result = ChallengeResult('variables',\n",
    "                         variable_X = round(X.mean()).item(),\n",
    "                         variable_y = round(y.mean())\n",
    ")\n",
    "\n",
    "result.write()\n",
    "print(result.check())"
   ]
  },
  {
   "cell_type": "markdown",
   "metadata": {},
   "source": [
    "## 2. Cross-validation"
   ]
  },
  {
   "cell_type": "markdown",
   "metadata": {},
   "source": [
    "👇 Using Sklearn's `cross_validate` ([doc](https://scikit-learn.org/stable/modules/generated/sklearn.model_selection.cross_validate.html)), run a 5-fold cross validation on a `LinearRegression` ([doc](https://scikit-learn.org/stable/modules/generated/sklearn.linear_model.LinearRegression.html)) model predicting sale price from living area. Save the raw output of the cross validation under a new variable `cv_results`."
   ]
  },
  {
   "cell_type": "code",
   "execution_count": 128,
   "metadata": {
    "tags": [
     "challengify"
    ]
   },
   "outputs": [
    {
     "data": {
      "text/plain": [
       "array([0.55810657, 0.52593307, 0.50430916, 0.3911751 , 0.45203221])"
      ]
     },
     "execution_count": 128,
     "metadata": {},
     "output_type": "execute_result"
    }
   ],
   "source": [
    "# YOUR CODE HERE\n",
    "from sklearn.model_selection import cross_validate\n",
    "from sklearn.linear_model import LinearRegression\n",
    "\n",
    "# Instanciate model\n",
    "model=LinearRegression()\n",
    "\n",
    "# 5-Fold Cross validate model\n",
    "cv_results=cross_validate(model,X,y,cv=5)\n",
    "\n",
    "# Scores\n",
    "cv_results['test_score']"
   ]
  },
  {
   "cell_type": "markdown",
   "metadata": {},
   "source": [
    "❓ What is the lowest score of the cross validation? Compute your answer and save the value under new variable `min_score`."
   ]
  },
  {
   "cell_type": "code",
   "execution_count": 129,
   "metadata": {
    "tags": [
     "challengify"
    ]
   },
   "outputs": [
    {
     "data": {
      "text/plain": [
       "0.3911751008901019"
      ]
     },
     "execution_count": 129,
     "metadata": {},
     "output_type": "execute_result"
    }
   ],
   "source": [
    "# YOUR CODE HERE\n",
    "min_score=cv_results[\"test_score\"].min()\n",
    "min_score"
   ]
  },
  {
   "cell_type": "markdown",
   "metadata": {},
   "source": [
    "❓ What is the highest score of the cross validation?  Compute your answer and save the value under new variable `max_score`."
   ]
  },
  {
   "cell_type": "code",
   "execution_count": 130,
   "metadata": {
    "tags": [
     "challengify"
    ]
   },
   "outputs": [
    {
     "data": {
      "text/plain": [
       "0.5581065677255257"
      ]
     },
     "execution_count": 130,
     "metadata": {},
     "output_type": "execute_result"
    }
   ],
   "source": [
    "# YOUR CODE HERE\n",
    "max_score=cv_results[\"test_score\"].max()\n",
    "max_score"
   ]
  },
  {
   "cell_type": "markdown",
   "metadata": {},
   "source": [
    "❓ What is the mean score of the cross validation? Compute your answer and save the value under new variable `mean_score`."
   ]
  },
  {
   "cell_type": "code",
   "execution_count": 131,
   "metadata": {
    "tags": [
     "challengify"
    ]
   },
   "outputs": [
    {
     "data": {
      "text/plain": [
       "0.4863112208425962"
      ]
     },
     "execution_count": 131,
     "metadata": {},
     "output_type": "execute_result"
    }
   ],
   "source": [
    "# YOUR CODE HERE\n",
    "mean_score=cv_results[\"test_score\"].mean()\n",
    "mean_score"
   ]
  },
  {
   "cell_type": "markdown",
   "metadata": {},
   "source": [
    "ℹ️ When running a cross-validation, we always look at the mean score as the most robust and representative evaluation of the model's performance."
   ]
  },
  {
   "cell_type": "markdown",
   "metadata": {},
   "source": [
    "### ☑️ Test your code"
   ]
  },
  {
   "cell_type": "code",
   "execution_count": 132,
   "metadata": {},
   "outputs": [
    {
     "name": "stdout",
     "output_type": "stream",
     "text": [
      "\u001b[1m============================= test session starts ==============================\u001b[0m\n",
      "platform darwin -- Python 3.8.12, pytest-6.2.5, py-1.10.0, pluggy-1.0.0 -- /Users/shu/.pyenv/versions/lewagon/bin/python3\n",
      "cachedir: .pytest_cache\n",
      "rootdir: /Users/shu/Desktop/Lewagon/code/shiro101010101/data-challenges/05-ML/01-Fundamentals-of-Machine-Learning/01-Linear-Regression\n",
      "plugins: dash-2.0.0, anyio-3.3.2\n",
      "\u001b[1mcollecting ... \u001b[0mcollected 4 items\n",
      "\n",
      "tests/test_cv_results.py::TestCvResults::test_cv_max \u001b[32mPASSED\u001b[0m\u001b[32m              [ 25%]\u001b[0m\n",
      "tests/test_cv_results.py::TestCvResults::test_cv_mean \u001b[32mPASSED\u001b[0m\u001b[32m             [ 50%]\u001b[0m\n",
      "tests/test_cv_results.py::TestCvResults::test_cv_min \u001b[32mPASSED\u001b[0m\u001b[32m              [ 75%]\u001b[0m\n",
      "tests/test_cv_results.py::TestCvResults::test_cv_results \u001b[32mPASSED\u001b[0m\u001b[32m          [100%]\u001b[0m\n",
      "\n",
      "\u001b[32m============================== \u001b[32m\u001b[1m4 passed\u001b[0m\u001b[32m in 0.49s\u001b[0m\u001b[32m ===============================\u001b[0m\n",
      "\n",
      "\n",
      "💯 You can commit your code:\n",
      "\n",
      "\u001b[1;32mgit\u001b[39m add tests/cv_results.pickle\n",
      "\n",
      "\u001b[32mgit\u001b[39m commit -m \u001b[33m'Completed cv_results step'\u001b[39m\n",
      "\n",
      "\u001b[32mgit\u001b[39m push origin master\n"
     ]
    }
   ],
   "source": [
    "from nbresult import ChallengeResult\n",
    "\n",
    "result = ChallengeResult('cv_results',\n",
    "                         cv_result = cv_results,\n",
    "                         min_score = min_score,\n",
    "                         max_score = max_score,\n",
    "                         mean_score = mean_score\n",
    ")\n",
    "\n",
    "result.write()\n",
    "print(result.check())"
   ]
  },
  {
   "cell_type": "markdown",
   "metadata": {},
   "source": [
    "👇 Plot the evolution of **total computational time** and **mean score** as Kfolds increases from 2 until 40."
   ]
  },
  {
   "cell_type": "code",
   "execution_count": 133,
   "metadata": {
    "tags": [
     "challengify"
    ]
   },
   "outputs": [
    {
     "data": {
      "text/plain": [
       "{'fit_time': array([0.02005315, 0.00225472, 0.002038  , 0.00180101, 0.00167489]),\n",
       " 'score_time': array([0.00261688, 0.00120807, 0.0011549 , 0.00098205, 0.00097895]),\n",
       " 'test_score': array([0.55810657, 0.52593307, 0.50430916, 0.3911751 , 0.45203221])}"
      ]
     },
     "execution_count": 133,
     "metadata": {},
     "output_type": "execute_result"
    }
   ],
   "source": [
    "# YOUR CODE HERE\n",
    "from sklearn.model_selection import KFold\n",
    "cv_results\n"
   ]
  },
  {
   "cell_type": "code",
   "execution_count": 134,
   "metadata": {
    "tags": [
     "challengify"
    ]
   },
   "outputs": [],
   "source": [
    "# YOUR CODE HERE"
   ]
  },
  {
   "cell_type": "markdown",
   "metadata": {},
   "source": [
    "ℹ️ You will notice that while the score stabilizes, the computational time keeps increasing. For that reason, we do not exceed K = 10 as a rule of thumb."
   ]
  },
  {
   "cell_type": "markdown",
   "metadata": {},
   "source": [
    "## 3. Train the model"
   ]
  },
  {
   "cell_type": "markdown",
   "metadata": {},
   "source": [
    "Cross validation does not train a model, it evaluates a hypothetical model on the dataset. If you want to use the model to, for example, make predictions, you will need to train it outside of the cross validation. \n",
    "\n",
    "👇 Go ahead and train the model. Save the trained model under the variable `model`."
   ]
  },
  {
   "cell_type": "code",
   "execution_count": 135,
   "metadata": {
    "tags": [
     "challengify"
    ]
   },
   "outputs": [],
   "source": [
    "# YOUR CODE HERE\n",
    "from sklearn.model_selection import train_test_split\n",
    "\n",
    "X = house_data[['GrLivArea']]\n",
    "y = house_data['SalePrice']\n",
    "\n",
    "#split into train and test\n",
    "X_train,X_test,y_train,y_test=train_test_split(X,y,test_size=0.3)\n"
   ]
  },
  {
   "cell_type": "code",
   "execution_count": 136,
   "metadata": {},
   "outputs": [
    {
     "data": {
      "text/plain": [
       "0.4861505678173794"
      ]
     },
     "execution_count": 136,
     "metadata": {},
     "output_type": "execute_result"
    }
   ],
   "source": [
    "model=LinearRegression()\n",
    "model.fit(X_train,y_train)\n",
    "model.score(X_test,y_test)"
   ]
  },
  {
   "cell_type": "markdown",
   "metadata": {},
   "source": [
    "❓ What is the slope of your trained model? It can be accessed via the model's attributes. Save the slope under variable name `slope`."
   ]
  },
  {
   "cell_type": "code",
   "execution_count": 137,
   "metadata": {
    "tags": [
     "challengify"
    ]
   },
   "outputs": [
    {
     "data": {
      "text/plain": [
       "array([97.35775797])"
      ]
     },
     "execution_count": 137,
     "metadata": {},
     "output_type": "execute_result"
    }
   ],
   "source": [
    "# YOUR CODE HERE\n",
    "slope=model.coef_\n",
    "slope"
   ]
  },
  {
   "cell_type": "markdown",
   "metadata": {},
   "source": [
    "❓ What is the intercept of your trained model? It can be accessed via the model's attributes. Save the intercept under variable name `intercept`."
   ]
  },
  {
   "cell_type": "code",
   "execution_count": 138,
   "metadata": {
    "tags": [
     "challengify"
    ]
   },
   "outputs": [
    {
     "data": {
      "text/plain": [
       "30853.27166230447"
      ]
     },
     "execution_count": 138,
     "metadata": {},
     "output_type": "execute_result"
    }
   ],
   "source": [
    "# YOUR CODE HERE\n",
    "intercept=model.intercept_\n",
    "intercept"
   ]
  },
  {
   "cell_type": "markdown",
   "metadata": {},
   "source": [
    "### ☑️ Test your code"
   ]
  },
  {
   "cell_type": "code",
   "execution_count": 139,
   "metadata": {},
   "outputs": [
    {
     "name": "stdout",
     "output_type": "stream",
     "text": [
      "\u001b[1m============================= test session starts ==============================\u001b[0m\n",
      "platform darwin -- Python 3.8.12, pytest-6.2.5, py-1.10.0, pluggy-1.0.0 -- /Users/shu/.pyenv/versions/lewagon/bin/python3\n",
      "cachedir: .pytest_cache\n",
      "rootdir: /Users/shu/Desktop/Lewagon/code/shiro101010101/data-challenges/05-ML/01-Fundamentals-of-Machine-Learning/01-Linear-Regression\n",
      "plugins: dash-2.0.0, anyio-3.3.2\n",
      "\u001b[1mcollecting ... \u001b[0mcollected 2 items\n",
      "\n",
      "tests/test_trained_model.py::TestTrainedModel::test_intercept \u001b[32mPASSED\u001b[0m\u001b[32m     [ 50%]\u001b[0m\n",
      "tests/test_trained_model.py::TestTrainedModel::test_slope \u001b[32mPASSED\u001b[0m\u001b[32m         [100%]\u001b[0m\n",
      "\n",
      "\u001b[32m============================== \u001b[32m\u001b[1m2 passed\u001b[0m\u001b[32m in 1.95s\u001b[0m\u001b[32m ===============================\u001b[0m\n",
      "\n",
      "\n",
      "💯 You can commit your code:\n",
      "\n",
      "\u001b[1;32mgit\u001b[39m add tests/trained_model.pickle\n",
      "\n",
      "\u001b[32mgit\u001b[39m commit -m \u001b[33m'Completed trained_model step'\u001b[39m\n",
      "\n",
      "\u001b[32mgit\u001b[39m push origin master\n"
     ]
    }
   ],
   "source": [
    "from nbresult import ChallengeResult\n",
    "\n",
    "result = ChallengeResult('trained_model',\n",
    "                         model = model,\n",
    "                         slope = slope,\n",
    "                         intercept = intercept\n",
    ")\n",
    "\n",
    "result.write()\n",
    "print(result.check())"
   ]
  },
  {
   "cell_type": "markdown",
   "metadata": {},
   "source": [
    "## 4. Visualize the model"
   ]
  },
  {
   "cell_type": "markdown",
   "metadata": {},
   "source": [
    "👇 With matplotlib: \n",
    "- Define the line of best fit equation (using the slope and intercept values)\n",
    "- Plot it in a graph over the scattered data points"
   ]
  },
  {
   "cell_type": "code",
   "execution_count": 140,
   "metadata": {
    "tags": [
     "challengify"
    ]
   },
   "outputs": [],
   "source": [
    "# YOUR CODE HERE\n",
    "# A Linear Regression (OLS) maps a linear relationship between the input X and the output y. It optimizes slope a\n",
    "# and intercept b by reducing the residuals between the actual y and the predicted y.\n",
    "\n",
    "y_fit_line=slope*X+intercept\n"
   ]
  },
  {
   "cell_type": "markdown",
   "metadata": {},
   "source": [
    "# 5. Predict"
   ]
  },
  {
   "cell_type": "markdown",
   "metadata": {},
   "source": [
    "👇 Use your trained model to predict the sale price of a house with a living area of 1500 square feet. Save the predicted price as variable name `prediction`."
   ]
  },
  {
   "cell_type": "code",
   "execution_count": 141,
   "metadata": {
    "tags": [
     "challengify"
    ]
   },
   "outputs": [
    {
     "data": {
      "text/plain": [
       "array([176889.90862456])"
      ]
     },
     "execution_count": 141,
     "metadata": {},
     "output_type": "execute_result"
    }
   ],
   "source": [
    "# YOUR CODE HERE\n",
    "import numpy as np\n",
    "prediction=model.predict([[1500]])\n",
    "prediction"
   ]
  },
  {
   "cell_type": "code",
   "execution_count": 143,
   "metadata": {},
   "outputs": [
    {
     "data": {
      "text/plain": [
       "array([194414.30506003, 103579.51686951, 170074.86556632, 156834.21048175,\n",
       "       156834.21048175, 145540.71055666, 161702.09838049,  89754.71523708,\n",
       "       214762.07647677, 197335.03779928, 113120.57715104, 160144.37425289,\n",
       "       237349.07632694, 152550.46913085, 126945.37878347, 161117.95183264,\n",
       "       132105.33995614, 182341.94307115, 125387.65465587, 330909.88174076,\n",
       "       127237.45205739, 132202.69771411, 119643.54693536, 126945.37878347,\n",
       "       179323.85257393, 191104.14128889, 158391.93460934, 233746.83928187,\n",
       "       148850.87432781, 141256.96920577, 217293.37818412, 115457.16334244,\n",
       "       228976.3091411 , 254289.32621456, 210186.26185196, 205610.44722714,\n",
       "       152355.7536149 , 174163.89140127, 208433.82220841, 165791.12421543,\n",
       "       230047.24447882, 234623.05910364, 180881.57670153, 128697.81842702,\n",
       "       160144.37425289, 183802.30944078, 171243.15866202, 234330.98582972,\n",
       "       176889.90862456, 202981.78776182, 196556.17573548, 113412.65042497,\n",
       "       139699.24507817, 222745.41263071, 114580.94352067, 118475.25383966,\n",
       "       130937.04686044, 170074.86556632, 186138.89563217, 137849.44767665,\n",
       "       161994.17165441, 171243.15866202, 174358.60691722, 159754.94322099,\n",
       "        98808.98672874, 177474.05517241, 205318.37395321, 127237.45205739,\n",
       "       199671.62399067, 260422.86496697, 200450.48605447, 162480.96044429,\n",
       "       206097.23601701, 286320.02858828, 148753.51656983, 138238.87870855,\n",
       "       250881.80468544, 124316.71931815, 198016.5421051 , 241243.38664593,\n",
       "       259157.2141133 , 126945.37878347, 169685.43453442, 148072.01226401,\n",
       "       210965.12391576, 110297.20216977, 113412.65042497, 126945.37878347,\n",
       "       166375.27076328, 195777.31367168, 118669.96935561, 105624.02978698,\n",
       "       137167.94337083, 163259.82250808, 192856.58093244, 189546.41716129,\n",
       "       154400.26653237, 146514.28813641, 125192.93913992, 220408.82643931,\n",
       "       134928.71493741, 164817.54663568, 216611.8738783 , 271132.21834421,\n",
       "       169880.15005037, 171243.15866202, 174845.39570709, 169003.9302286 ,\n",
       "       198795.4041689 , 137557.37440273, 128989.89170094, 160923.23631669,\n",
       "       140478.10714197, 150213.88293946, 163065.10699213, 156250.0639339 ,\n",
       "       227710.65828743, 253899.89518266, 183802.30944078, 168322.42592278,\n",
       "       156250.0639339 , 130742.33134449, 114970.37455256, 194414.30506003,\n",
       "       114970.37455256, 147682.58123211, 105234.59875508, 176305.76207671,\n",
       "       139212.4562883 , 122174.8486427 , 310464.75256604, 155081.7708382 ,\n",
       "       106792.32288268, 191104.14128889, 206194.59377499, 189449.05940332,\n",
       "       344539.96785723, 173579.74485342, 162091.52941239, 197627.1110732 ,\n",
       "       227321.22725553, 192856.58093244, 288169.8259898 , 180686.86118558,\n",
       "       200645.20157042, 169296.00350252, 161702.09838049, 331299.31277266,\n",
       "       220506.18419729, 168711.85695468, 132105.33995614, 236959.64529504,\n",
       "       383969.85983704, 212036.05925348,  96277.6850214 , 176889.90862456,\n",
       "       158197.21909339, 172800.88278962, 252244.81329709, 120811.84003106,\n",
       "       247961.07194619, 121980.13312675, 199087.47744283, 305596.8646673 ,\n",
       "       132494.77098804, 147293.15020021, 125290.2968979 , 177279.33965646,\n",
       "       276194.8217589 , 114970.37455256, 140380.749384  , 169685.43453442,\n",
       "       177863.48620431, 142230.54678552, 235012.49013554, 222453.33935679,\n",
       "       184289.09823065, 266166.97268749, 104066.30565938, 486098.14795265,\n",
       "       217974.88248994, 152258.39585693, 259157.2141133 , 294108.64922627,\n",
       "       171048.44314607, 183412.87840888, 117891.10729181, 179713.28360583,\n",
       "       176987.26638254, 124316.71931815, 150505.95621338, 133760.42184171,\n",
       "       194998.45160788, 176208.40431874, 114970.37455256, 142230.54678552,\n",
       "       202300.28345599, 236472.85650516, 232286.47291225, 111368.1375075 ,\n",
       "       231215.53757452, 226834.43846565, 227515.94277148, 219727.32213349,\n",
       "       145832.78383059, 119643.54693536,  98127.48242292, 209602.11530411,\n",
       "       219240.53334362, 216027.72733045, 176305.76207671, 142230.54678552,\n",
       "       170269.58108227, 202981.78776182, 183607.59392483, 140478.10714197,\n",
       "       171048.44314607, 172606.16727367, 124122.0038022 , 189156.98612939,\n",
       "       163746.61129796, 143009.40884932, 147098.43468426, 157515.71478757,\n",
       "       159073.43891517, 290603.76993917, 180297.43015368, 185457.39132635,\n",
       "       177960.84396229, 220408.82643931, 162773.03371821, 223913.70572641,\n",
       "       147293.15020021, 117891.10729181, 198698.04641093, 159754.94322099,\n",
       "       148461.44329591, 281646.85620549, 178447.63275216, 217780.16697399,\n",
       "       195582.59815573, 144372.41746097, 110297.20216977, 199087.47744283,\n",
       "       229657.81344692, 190909.42577294, 209991.54633601, 199671.62399067,\n",
       "       161604.74062251, 150019.16742351, 158294.57685137, 198892.76192688,\n",
       "       114386.22800472, 140283.39162602, 222063.90832489, 114970.37455256,\n",
       "       158976.08115719, 149435.02087566, 251563.30899126, 210380.97736791,\n",
       "       207265.52911271, 114970.37455256, 137654.7321607 , 110005.12889585,\n",
       "       230826.10654262, 149240.30535971, 131521.19340829, 143204.12436527,\n",
       "       147098.43468426, 191688.28783674, 160144.37425289, 215346.22302462,\n",
       "       153329.33119465, 195290.52488181, 116722.81419611, 206194.59377499,\n",
       "       247961.07194619, 281452.14068954, 106208.17633483, 114970.37455256,\n",
       "       111952.28405534, 174455.96467519, 143593.55539717, 200839.91708637,\n",
       "       208628.53772436, 149435.02087566, 195972.02918763, 228586.8781092 ,\n",
       "       161702.09838049, 111854.92629737, 187988.69303369, 118475.25383966,\n",
       "       187015.11545395, 156834.21048175, 174845.39570709, 269574.49421661,\n",
       "       139115.09853032, 117891.10729181, 137946.80543463, 192272.43438459,\n",
       "       310075.32153414, 336556.6317033 ,  92188.65918645, 287196.24841005,\n",
       "       176305.76207671, 140478.10714197, 192953.93869041, 133468.34856778,\n",
       "       206389.30929094, 285151.73549258, 150019.16742351, 172800.88278962,\n",
       "       192077.71886864, 173579.74485342, 175332.18449696, 224205.77900033,\n",
       "       199087.47744283, 150505.95621338, 235012.49013554, 218656.38679577,\n",
       "       133273.63305183, 451049.35508171, 162773.03371821, 114970.37455256,\n",
       "       106597.60736673, 190519.99474104, 219629.96437552, 163454.53802403,\n",
       "       114970.37455256, 193830.15851218, 151187.4605192 , 168517.14143873,\n",
       "       186820.399938  , 276097.46400092, 197919.18434713, 333830.61448   ,\n",
       "       147682.58123211, 209602.11530411, 248545.21849404, 198698.04641093,\n",
       "       137167.94337083, 183023.44737698, 137654.7321607 , 155860.632902  ,\n",
       "       136973.22785488, 212814.92131728, 171048.44314607, 147682.58123211,\n",
       "       144080.34418704, 142425.26230147, 191688.28783674, 143009.40884932,\n",
       "       114970.37455256, 105624.02978698, 152745.1846468 , 206097.23601701,\n",
       "       166764.70179518, 370923.92026841, 180686.86118558, 179129.13705798,\n",
       "       158976.08115719, 149337.66311768, 192759.22317446, 230826.10654262,\n",
       "       178544.99051013, 222940.12814666, 200255.77053852, 148461.44329591,\n",
       "       156152.70617592, 261007.01151482, 175137.46898101, 206097.23601701,\n",
       "       176305.76207671, 132105.33995614, 198113.89986308, 185262.6758104 ,\n",
       "       190617.35249901, 154400.26653237, 194316.94730206, 227321.22725553,\n",
       "       159365.51218909, 202787.07224587, 199476.90847472, 247279.56764037,\n",
       "       170756.36987215, 184483.8137466 , 242022.24870973, 179226.49481596,\n",
       "       222648.05487274, 198308.61537903,  92188.65918645, 366445.46340157,\n",
       "       143593.55539717, 134928.71493741, 139017.74077235, 234038.91255579,\n",
       "       182439.30082913, 209894.18857803, 191883.00335269, 148461.44329591,\n",
       "       133078.91753588, 296445.23541766, 192467.14990054, 179226.49481596,\n",
       "       161312.66734859, 238420.01166466, 194706.37833396, 221577.11953501,\n",
       "       183899.66719875, 185652.1068423 , 140672.82265792, 189059.62837142,\n",
       "       294984.86904804, 180394.78791166,  92188.65918645, 142230.54678552,\n",
       "       216611.8738783 , 197335.03779928, 231118.17981655, 141938.4735116 ,\n",
       "       149142.94760173, 154108.19325845, 180297.43015368, 162286.24492834,\n",
       "       158002.50357744, 191688.28783674, 199574.2662327 , 149045.58984376,\n",
       "       174066.53364329, 238614.72718061, 186723.04218002, 112731.14611914,\n",
       "       296639.95093361, 198113.89986308, 264706.60631787, 150408.59845541,\n",
       "       119838.26245131, 179810.64136381, 154302.9087744 , 223232.20142059,\n",
       "       161702.09838049, 167640.92161695, 190422.63698306, 190519.99474104,\n",
       "       128113.67187917, 183997.02495673, 211451.91270563, 183412.87840888,\n",
       "       174748.03794912, 204734.22740537, 174650.68019114, 201424.06363422,\n",
       "       169003.9302286 , 150019.16742351, 183997.02495673, 269087.70542673,\n",
       "       133760.42184171, 107181.75391458, 135804.93475918, 117793.74953384,\n",
       "       203760.64982562, 203663.29206764, 145345.99504071, 264317.17528597,\n",
       "       196166.74470358, 115749.23661636, 189741.13267724, 217098.66266817,\n",
       "       123148.42622245, 193051.29644839, 147098.43468426, 244650.90817505,\n",
       "        98419.55569684, 152745.1846468 , 295179.58456399, 140380.749384  ,\n",
       "       148461.44329591, 161020.59407466, 113412.65042497, 147974.65450604,\n",
       "       186723.04218002, 121882.77536878,  99782.56430849, 121201.27106295,\n",
       "       212717.5635593 , 109128.90907407, 120714.48227308, 172606.16727367,\n",
       "       117112.24522801, 216222.4428464 , 110297.20216977, 173871.81812734,\n",
       "       152745.1846468 , 283886.08463891, 194414.30506003, 118572.61159763,\n",
       "       140672.82265792, 113120.57715104, 253802.53742468, 163454.53802403,\n",
       "       185067.96029445, 172606.16727367, 177474.05517241, 132105.33995614,\n",
       "       191590.93007876, 176305.76207671, 128113.67187917, 123440.49949638,\n",
       "       113412.65042497, 262564.73564242, 205123.65843727, 258378.3520495 ,\n",
       "       211549.2704636 , 264706.60631787, 125485.01241385, 228878.95138313,\n",
       "       219045.81782767, 119643.54693536,  90825.6505748 , 182244.58531318,\n",
       "       276194.8217589 , 182147.2275552 , 383969.85983704, 222550.69711476,\n",
       "       196458.8179775 , 139212.4562883 , 288461.89926373, 305596.8646673 ])"
      ]
     },
     "execution_count": 143,
     "metadata": {},
     "output_type": "execute_result"
    }
   ],
   "source": [
    "model.predict(X_test)"
   ]
  },
  {
   "cell_type": "markdown",
   "metadata": {},
   "source": [
    "### ☑️ Test your code"
   ]
  },
  {
   "cell_type": "code",
   "execution_count": 142,
   "metadata": {},
   "outputs": [
    {
     "name": "stdout",
     "output_type": "stream",
     "text": [
      "\u001b[1m============================= test session starts ==============================\u001b[0m\n",
      "platform darwin -- Python 3.8.12, pytest-6.2.5, py-1.10.0, pluggy-1.0.0 -- /Users/shu/.pyenv/versions/lewagon/bin/python3\n",
      "cachedir: .pytest_cache\n",
      "rootdir: /Users/shu/Desktop/Lewagon/code/shiro101010101/data-challenges/05-ML/01-Fundamentals-of-Machine-Learning/01-Linear-Regression\n",
      "plugins: dash-2.0.0, anyio-3.3.2\n",
      "\u001b[1mcollecting ... \u001b[0mcollected 1 item\n",
      "\n",
      "tests/test_prediction.py::TestPrediction::test_prediction \u001b[32mPASSED\u001b[0m\u001b[32m         [100%]\u001b[0m\n",
      "\n",
      "\u001b[32m============================== \u001b[32m\u001b[1m1 passed\u001b[0m\u001b[32m in 0.39s\u001b[0m\u001b[32m ===============================\u001b[0m\n",
      "\n",
      "\n",
      "💯 You can commit your code:\n",
      "\n",
      "\u001b[1;32mgit\u001b[39m add tests/prediction.pickle\n",
      "\n",
      "\u001b[32mgit\u001b[39m commit -m \u001b[33m'Completed prediction step'\u001b[39m\n",
      "\n",
      "\u001b[32mgit\u001b[39m push origin master\n"
     ]
    }
   ],
   "source": [
    "from nbresult import ChallengeResult\n",
    "\n",
    "result = ChallengeResult('prediction',\n",
    "                         prediction = prediction\n",
    ")\n",
    "\n",
    "result.write()\n",
    "print(result.check())"
   ]
  },
  {
   "cell_type": "markdown",
   "metadata": {},
   "source": [
    "# 🏁"
   ]
  },
  {
   "cell_type": "code",
   "execution_count": null,
   "metadata": {},
   "outputs": [],
   "source": []
  }
 ],
 "metadata": {
  "kernelspec": {
   "display_name": "Python 3 (ipykernel)",
   "language": "python",
   "name": "python3"
  },
  "language_info": {
   "codemirror_mode": {
    "name": "ipython",
    "version": 3
   },
   "file_extension": ".py",
   "mimetype": "text/x-python",
   "name": "python",
   "nbconvert_exporter": "python",
   "pygments_lexer": "ipython3",
   "version": "3.8.12"
  }
 },
 "nbformat": 4,
 "nbformat_minor": 4
}
