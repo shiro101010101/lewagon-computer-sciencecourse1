{
 "cells": [
  {
   "cell_type": "markdown",
   "metadata": {},
   "source": [
    "# KNN Recommender "
   ]
  },
  {
   "cell_type": "markdown",
   "metadata": {},
   "source": [
    "👉 K-Nearest-Neighbors can be used to model and make predictions, but they can also be derived to find the closest points in a dataset. In this recap, we'll use a KNN to make a basic music recommender system."
   ]
  },
  {
   "cell_type": "code",
   "execution_count": 0,
   "metadata": {},
   "outputs": [
    {
     "data": {
      "text/html": [
       "<div>\n",
       "<style scoped>\n",
       "    .dataframe tbody tr th:only-of-type {\n",
       "        vertical-align: middle;\n",
       "    }\n",
       "\n",
       "    .dataframe tbody tr th {\n",
       "        vertical-align: top;\n",
       "    }\n",
       "\n",
       "    .dataframe thead th {\n",
       "        text-align: right;\n",
       "    }\n",
       "</style>\n",
       "<table border=\"1\" class=\"dataframe\">\n",
       "  <thead>\n",
       "    <tr style=\"text-align: right;\">\n",
       "      <th></th>\n",
       "      <th>name</th>\n",
       "      <th>artists</th>\n",
       "      <th>popularity</th>\n",
       "      <th>danceability</th>\n",
       "      <th>valence</th>\n",
       "      <th>energy</th>\n",
       "      <th>explicit</th>\n",
       "      <th>key</th>\n",
       "      <th>liveness</th>\n",
       "      <th>loudness</th>\n",
       "      <th>speechiness</th>\n",
       "      <th>tempo</th>\n",
       "    </tr>\n",
       "  </thead>\n",
       "  <tbody>\n",
       "    <tr>\n",
       "      <th>0</th>\n",
       "      <td>We're For The Dark - Remastered 2010</td>\n",
       "      <td>['Badfinger']</td>\n",
       "      <td>22</td>\n",
       "      <td>0.678</td>\n",
       "      <td>0.559</td>\n",
       "      <td>0.432</td>\n",
       "      <td>0</td>\n",
       "      <td>3</td>\n",
       "      <td>0.0727</td>\n",
       "      <td>-12.696</td>\n",
       "      <td>0.0334</td>\n",
       "      <td>117.674</td>\n",
       "    </tr>\n",
       "    <tr>\n",
       "      <th>1</th>\n",
       "      <td>Sixty Years On - Piano Demo</td>\n",
       "      <td>['Elton John']</td>\n",
       "      <td>25</td>\n",
       "      <td>0.456</td>\n",
       "      <td>0.259</td>\n",
       "      <td>0.368</td>\n",
       "      <td>0</td>\n",
       "      <td>6</td>\n",
       "      <td>0.1560</td>\n",
       "      <td>-10.692</td>\n",
       "      <td>0.0280</td>\n",
       "      <td>143.783</td>\n",
       "    </tr>\n",
       "    <tr>\n",
       "      <th>2</th>\n",
       "      <td>Got to Find Another Way</td>\n",
       "      <td>['The Guess Who']</td>\n",
       "      <td>21</td>\n",
       "      <td>0.433</td>\n",
       "      <td>0.833</td>\n",
       "      <td>0.724</td>\n",
       "      <td>0</td>\n",
       "      <td>0</td>\n",
       "      <td>0.1700</td>\n",
       "      <td>-9.803</td>\n",
       "      <td>0.0378</td>\n",
       "      <td>84.341</td>\n",
       "    </tr>\n",
       "    <tr>\n",
       "      <th>3</th>\n",
       "      <td>Feelin' Alright - Live At The Fillmore East/1970</td>\n",
       "      <td>['Joe Cocker']</td>\n",
       "      <td>22</td>\n",
       "      <td>0.436</td>\n",
       "      <td>0.870</td>\n",
       "      <td>0.914</td>\n",
       "      <td>0</td>\n",
       "      <td>5</td>\n",
       "      <td>0.8550</td>\n",
       "      <td>-6.955</td>\n",
       "      <td>0.0610</td>\n",
       "      <td>174.005</td>\n",
       "    </tr>\n",
       "    <tr>\n",
       "      <th>4</th>\n",
       "      <td>Caravan - Take 7</td>\n",
       "      <td>['Van Morrison']</td>\n",
       "      <td>23</td>\n",
       "      <td>0.669</td>\n",
       "      <td>0.564</td>\n",
       "      <td>0.412</td>\n",
       "      <td>0</td>\n",
       "      <td>7</td>\n",
       "      <td>0.4010</td>\n",
       "      <td>-13.095</td>\n",
       "      <td>0.0679</td>\n",
       "      <td>78.716</td>\n",
       "    </tr>\n",
       "  </tbody>\n",
       "</table>\n",
       "</div>"
      ],
      "text/plain": [
       "                                               name            artists  \\\n",
       "0              We're For The Dark - Remastered 2010      ['Badfinger']   \n",
       "1                       Sixty Years On - Piano Demo     ['Elton John']   \n",
       "2                           Got to Find Another Way  ['The Guess Who']   \n",
       "3  Feelin' Alright - Live At The Fillmore East/1970     ['Joe Cocker']   \n",
       "4                                  Caravan - Take 7   ['Van Morrison']   \n",
       "\n",
       "   popularity  danceability  valence  energy  explicit  key  liveness  \\\n",
       "0          22         0.678    0.559   0.432         0    3    0.0727   \n",
       "1          25         0.456    0.259   0.368         0    6    0.1560   \n",
       "2          21         0.433    0.833   0.724         0    0    0.1700   \n",
       "3          22         0.436    0.870   0.914         0    5    0.8550   \n",
       "4          23         0.669    0.564   0.412         0    7    0.4010   \n",
       "\n",
       "   loudness  speechiness    tempo  \n",
       "0   -12.696       0.0334  117.674  \n",
       "1   -10.692       0.0280  143.783  \n",
       "2    -9.803       0.0378   84.341  \n",
       "3    -6.955       0.0610  174.005  \n",
       "4   -13.095       0.0679   78.716  "
      ]
     },
     "execution_count": 2,
     "metadata": {},
     "output_type": "execute_result"
    }
   ],
   "source": [
    "import pandas as pd\n",
    "\n",
    "df = pd.read_csv('data/spotify_data.csv')\n",
    "\n",
    "df.head()"
   ]
  },
  {
   "cell_type": "markdown",
   "metadata": {},
   "source": [
    "🎯 Let's find songs similar to Queen's mythical Another one bites the dust."
   ]
  },
  {
   "cell_type": "code",
   "execution_count": 0,
   "metadata": {},
   "outputs": [
    {
     "data": {
      "text/html": [
       "<div>\n",
       "<style scoped>\n",
       "    .dataframe tbody tr th:only-of-type {\n",
       "        vertical-align: middle;\n",
       "    }\n",
       "\n",
       "    .dataframe tbody tr th {\n",
       "        vertical-align: top;\n",
       "    }\n",
       "\n",
       "    .dataframe thead th {\n",
       "        text-align: right;\n",
       "    }\n",
       "</style>\n",
       "<table border=\"1\" class=\"dataframe\">\n",
       "  <thead>\n",
       "    <tr style=\"text-align: right;\">\n",
       "      <th></th>\n",
       "      <th>name</th>\n",
       "      <th>artists</th>\n",
       "      <th>popularity</th>\n",
       "      <th>danceability</th>\n",
       "      <th>valence</th>\n",
       "      <th>energy</th>\n",
       "      <th>explicit</th>\n",
       "      <th>key</th>\n",
       "      <th>liveness</th>\n",
       "      <th>loudness</th>\n",
       "      <th>speechiness</th>\n",
       "      <th>tempo</th>\n",
       "    </tr>\n",
       "  </thead>\n",
       "  <tbody>\n",
       "    <tr>\n",
       "      <th>4295</th>\n",
       "      <td>Another One Bites The Dust - Live at Wembley '86</td>\n",
       "      <td>['Queen']</td>\n",
       "      <td>29</td>\n",
       "      <td>0.534</td>\n",
       "      <td>0.114</td>\n",
       "      <td>0.984</td>\n",
       "      <td>0</td>\n",
       "      <td>4</td>\n",
       "      <td>0.982</td>\n",
       "      <td>-5.058</td>\n",
       "      <td>0.297</td>\n",
       "      <td>115.991</td>\n",
       "    </tr>\n",
       "  </tbody>\n",
       "</table>\n",
       "</div>"
      ],
      "text/plain": [
       "                                                  name    artists  popularity  \\\n",
       "4295  Another One Bites The Dust - Live at Wembley '86  ['Queen']          29   \n",
       "\n",
       "      danceability  valence  energy  explicit  key  liveness  loudness  \\\n",
       "4295         0.534    0.114   0.984         0    4     0.982    -5.058   \n",
       "\n",
       "      speechiness    tempo  \n",
       "4295        0.297  115.991  "
      ]
     },
     "execution_count": 3,
     "metadata": {},
     "output_type": "execute_result"
    }
   ],
   "source": [
    "queen_song = df.iloc[4295:4296] # Another one bites the dust - Queen\n",
    "\n",
    "queen_song"
   ]
  },
  {
   "cell_type": "markdown",
   "metadata": {},
   "source": [
    "# Calculating the distances"
   ]
  },
  {
   "cell_type": "markdown",
   "metadata": {},
   "source": [
    "👇 First, train the KNN to have it learn the distances between each observation of the dataset. Since we are only concerned by the similarity of features between the songs, it doesn't matter which target it is fitted to."
   ]
  },
  {
   "cell_type": "code",
   "execution_count": 0,
   "metadata": {},
   "outputs": [],
   "source": [
    "## YOUR CODE HERE"
   ]
  },
  {
   "cell_type": "markdown",
   "metadata": {},
   "source": [
    "Check out the [documentation](https://scikit-learn.org/stable/modules/generated/sklearn.neighbors.KNeighborsRegressor.html#sklearn.neighbors.KNeighborsRegressor.kneighbors)"
   ]
  },
  {
   "cell_type": "markdown",
   "metadata": {},
   "source": [
    "# Passing the new point"
   ]
  },
  {
   "cell_type": "markdown",
   "metadata": {},
   "source": [
    "👇 You can now pass a new point to the KNN model and find it's closest point."
   ]
  },
  {
   "cell_type": "code",
   "execution_count": 0,
   "metadata": {},
   "outputs": [],
   "source": [
    "## YOUR CODE HERE"
   ]
  },
  {
   "cell_type": "markdown",
   "metadata": {},
   "source": [
    "# Making a playlist!"
   ]
  },
  {
   "cell_type": "markdown",
   "metadata": {},
   "source": [
    "👇 Make a 10 song long playlist based on Queen's \"Another one bites the dust\" with increasing tempo"
   ]
  },
  {
   "cell_type": "code",
   "execution_count": 0,
   "metadata": {},
   "outputs": [
    {
     "data": {
      "text/html": [
       "<div>\n",
       "<style scoped>\n",
       "    .dataframe tbody tr th:only-of-type {\n",
       "        vertical-align: middle;\n",
       "    }\n",
       "\n",
       "    .dataframe tbody tr th {\n",
       "        vertical-align: top;\n",
       "    }\n",
       "\n",
       "    .dataframe thead th {\n",
       "        text-align: right;\n",
       "    }\n",
       "</style>\n",
       "<table border=\"1\" class=\"dataframe\">\n",
       "  <thead>\n",
       "    <tr style=\"text-align: right;\">\n",
       "      <th></th>\n",
       "      <th>name</th>\n",
       "      <th>artists</th>\n",
       "      <th>popularity</th>\n",
       "      <th>danceability</th>\n",
       "      <th>valence</th>\n",
       "      <th>energy</th>\n",
       "      <th>explicit</th>\n",
       "      <th>key</th>\n",
       "      <th>liveness</th>\n",
       "      <th>loudness</th>\n",
       "      <th>speechiness</th>\n",
       "      <th>tempo</th>\n",
       "    </tr>\n",
       "  </thead>\n",
       "  <tbody>\n",
       "    <tr>\n",
       "      <th>4295</th>\n",
       "      <td>Another One Bites The Dust - Live at Wembley '86</td>\n",
       "      <td>['Queen']</td>\n",
       "      <td>29</td>\n",
       "      <td>0.534</td>\n",
       "      <td>0.114</td>\n",
       "      <td>0.984</td>\n",
       "      <td>0</td>\n",
       "      <td>4</td>\n",
       "      <td>0.982</td>\n",
       "      <td>-5.058</td>\n",
       "      <td>0.297</td>\n",
       "      <td>115.991</td>\n",
       "    </tr>\n",
       "  </tbody>\n",
       "</table>\n",
       "</div>"
      ],
      "text/plain": [
       "                                                  name    artists  popularity  \\\n",
       "4295  Another One Bites The Dust - Live at Wembley '86  ['Queen']          29   \n",
       "\n",
       "      danceability  valence  energy  explicit  key  liveness  loudness  \\\n",
       "4295         0.534    0.114   0.984         0    4     0.982    -5.058   \n",
       "\n",
       "      speechiness    tempo  \n",
       "4295        0.297  115.991  "
      ]
     },
     "execution_count": 5,
     "metadata": {},
     "output_type": "execute_result"
    }
   ],
   "source": [
    "queen_song"
   ]
  },
  {
   "cell_type": "code",
   "execution_count": 0,
   "metadata": {},
   "outputs": [],
   "source": [
    "## YOUR CODE HERE"
   ]
  },
  {
   "cell_type": "markdown",
   "metadata": {},
   "source": [
    "# 🏁"
   ]
  }
 ],
 "metadata": {
  "kernelspec": {
   "display_name": "Python 3",
   "language": "python",
   "name": "python3"
  }
 },
 "nbformat": 4,
 "nbformat_minor": 4
}