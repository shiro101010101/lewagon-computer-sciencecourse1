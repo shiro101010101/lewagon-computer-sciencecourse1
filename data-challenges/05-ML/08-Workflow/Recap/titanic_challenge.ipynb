{
 "cells": [
  {
   "cell_type": "markdown",
   "id": "inner-installation",
   "metadata": {},
   "source": [
    "# ML Fundamentals Recap"
   ]
  },
  {
   "cell_type": "code",
   "execution_count": 1,
   "id": "broke-patent",
   "metadata": {},
   "outputs": [
    {
     "data": {
      "text/html": [
       "<div>\n",
       "<style scoped>\n",
       "    .dataframe tbody tr th:only-of-type {\n",
       "        vertical-align: middle;\n",
       "    }\n",
       "\n",
       "    .dataframe tbody tr th {\n",
       "        vertical-align: top;\n",
       "    }\n",
       "\n",
       "    .dataframe thead th {\n",
       "        text-align: right;\n",
       "    }\n",
       "</style>\n",
       "<table border=\"1\" class=\"dataframe\">\n",
       "  <thead>\n",
       "    <tr style=\"text-align: right;\">\n",
       "      <th></th>\n",
       "      <th>PassengerId</th>\n",
       "      <th>Survived</th>\n",
       "      <th>Pclass</th>\n",
       "      <th>Name</th>\n",
       "      <th>Sex</th>\n",
       "      <th>Age</th>\n",
       "      <th>SibSp</th>\n",
       "      <th>Parch</th>\n",
       "      <th>Ticket</th>\n",
       "      <th>Fare</th>\n",
       "      <th>Cabin</th>\n",
       "      <th>Embarked</th>\n",
       "    </tr>\n",
       "  </thead>\n",
       "  <tbody>\n",
       "    <tr>\n",
       "      <th>0</th>\n",
       "      <td>1</td>\n",
       "      <td>0</td>\n",
       "      <td>3</td>\n",
       "      <td>Braund, Mr. Owen Harris</td>\n",
       "      <td>male</td>\n",
       "      <td>22.0</td>\n",
       "      <td>1</td>\n",
       "      <td>0</td>\n",
       "      <td>A/5 21171</td>\n",
       "      <td>7.2500</td>\n",
       "      <td>NaN</td>\n",
       "      <td>S</td>\n",
       "    </tr>\n",
       "    <tr>\n",
       "      <th>1</th>\n",
       "      <td>2</td>\n",
       "      <td>1</td>\n",
       "      <td>1</td>\n",
       "      <td>Cumings, Mrs. John Bradley (Florence Briggs Th...</td>\n",
       "      <td>female</td>\n",
       "      <td>38.0</td>\n",
       "      <td>1</td>\n",
       "      <td>0</td>\n",
       "      <td>PC 17599</td>\n",
       "      <td>71.2833</td>\n",
       "      <td>C85</td>\n",
       "      <td>C</td>\n",
       "    </tr>\n",
       "    <tr>\n",
       "      <th>2</th>\n",
       "      <td>3</td>\n",
       "      <td>1</td>\n",
       "      <td>3</td>\n",
       "      <td>Heikkinen, Miss. Laina</td>\n",
       "      <td>female</td>\n",
       "      <td>26.0</td>\n",
       "      <td>0</td>\n",
       "      <td>0</td>\n",
       "      <td>STON/O2. 3101282</td>\n",
       "      <td>7.9250</td>\n",
       "      <td>NaN</td>\n",
       "      <td>S</td>\n",
       "    </tr>\n",
       "    <tr>\n",
       "      <th>3</th>\n",
       "      <td>4</td>\n",
       "      <td>1</td>\n",
       "      <td>1</td>\n",
       "      <td>Futrelle, Mrs. Jacques Heath (Lily May Peel)</td>\n",
       "      <td>female</td>\n",
       "      <td>35.0</td>\n",
       "      <td>1</td>\n",
       "      <td>0</td>\n",
       "      <td>113803</td>\n",
       "      <td>53.1000</td>\n",
       "      <td>C123</td>\n",
       "      <td>S</td>\n",
       "    </tr>\n",
       "    <tr>\n",
       "      <th>4</th>\n",
       "      <td>5</td>\n",
       "      <td>0</td>\n",
       "      <td>3</td>\n",
       "      <td>Allen, Mr. William Henry</td>\n",
       "      <td>male</td>\n",
       "      <td>35.0</td>\n",
       "      <td>0</td>\n",
       "      <td>0</td>\n",
       "      <td>373450</td>\n",
       "      <td>8.0500</td>\n",
       "      <td>NaN</td>\n",
       "      <td>S</td>\n",
       "    </tr>\n",
       "  </tbody>\n",
       "</table>\n",
       "</div>"
      ],
      "text/plain": [
       "   PassengerId  Survived  Pclass  \\\n",
       "0            1         0       3   \n",
       "1            2         1       1   \n",
       "2            3         1       3   \n",
       "3            4         1       1   \n",
       "4            5         0       3   \n",
       "\n",
       "                                                Name     Sex   Age  SibSp  \\\n",
       "0                            Braund, Mr. Owen Harris    male  22.0      1   \n",
       "1  Cumings, Mrs. John Bradley (Florence Briggs Th...  female  38.0      1   \n",
       "2                             Heikkinen, Miss. Laina  female  26.0      0   \n",
       "3       Futrelle, Mrs. Jacques Heath (Lily May Peel)  female  35.0      1   \n",
       "4                           Allen, Mr. William Henry    male  35.0      0   \n",
       "\n",
       "   Parch            Ticket     Fare Cabin Embarked  \n",
       "0      0         A/5 21171   7.2500   NaN        S  \n",
       "1      0          PC 17599  71.2833   C85        C  \n",
       "2      0  STON/O2. 3101282   7.9250   NaN        S  \n",
       "3      0            113803  53.1000  C123        S  \n",
       "4      0            373450   8.0500   NaN        S  "
      ]
     },
     "execution_count": 1,
     "metadata": {},
     "output_type": "execute_result"
    }
   ],
   "source": [
    "import pandas as pd\n",
    "\n",
    "data = pd.read_csv('train.csv')\n",
    "\n",
    "data.head()"
   ]
  },
  {
   "cell_type": "markdown",
   "id": "afraid-apollo",
   "metadata": {},
   "source": [
    "# Data preparation"
   ]
  },
  {
   "cell_type": "markdown",
   "id": "organizational-business",
   "metadata": {},
   "source": [
    "## Class balance"
   ]
  },
  {
   "cell_type": "code",
   "execution_count": 1,
   "id": "desirable-carter",
   "metadata": {},
   "outputs": [],
   "source": [
    "# Check the target balance"
   ]
  },
  {
   "cell_type": "markdown",
   "id": "developmental-subject",
   "metadata": {},
   "source": [
    "## Select features"
   ]
  },
  {
   "cell_type": "code",
   "execution_count": 2,
   "id": "portuguese-origin",
   "metadata": {},
   "outputs": [],
   "source": [
    "# Select features 'Pclass','Sex','Age','SibSp','Parch','Fare','Embarked' and save them as X "
   ]
  },
  {
   "cell_type": "code",
   "execution_count": 3,
   "id": "dimensional-jewel",
   "metadata": {},
   "outputs": [],
   "source": [
    "# Select Survived as target and call y"
   ]
  },
  {
   "cell_type": "markdown",
   "id": "decimal-visibility",
   "metadata": {},
   "source": [
    "## Missing values"
   ]
  },
  {
   "cell_type": "code",
   "execution_count": 21,
   "id": "cheap-aging",
   "metadata": {},
   "outputs": [],
   "source": [
    "# On your feature set X, Check missing data count per column"
   ]
  },
  {
   "cell_type": "code",
   "execution_count": 22,
   "id": "cooked-georgia",
   "metadata": {},
   "outputs": [],
   "source": [
    "# Check missing data ratio per column"
   ]
  },
  {
   "cell_type": "markdown",
   "id": "accompanied-warrior",
   "metadata": {},
   "source": [
    "### Dealing with `Age`"
   ]
  },
  {
   "cell_type": "code",
   "execution_count": 23,
   "id": "qualified-house",
   "metadata": {},
   "outputs": [],
   "source": [
    "# Check distribution for outliers "
   ]
  },
  {
   "cell_type": "code",
   "execution_count": 24,
   "id": "latin-islam",
   "metadata": {},
   "outputs": [],
   "source": [
    "# Impute missing values and make changes effective in X "
   ]
  },
  {
   "cell_type": "markdown",
   "id": "fiscal-clear",
   "metadata": {},
   "source": [
    "### Dealing with `Embarked`"
   ]
  },
  {
   "cell_type": "code",
   "execution_count": 25,
   "id": "asian-athletics",
   "metadata": {
    "scrolled": false
   },
   "outputs": [],
   "source": [
    "# Impute Embarked and make changes effective in X "
   ]
  },
  {
   "cell_type": "markdown",
   "id": "regular-distribution",
   "metadata": {},
   "source": [
    "## Scaling"
   ]
  },
  {
   "cell_type": "markdown",
   "id": "buried-newcastle",
   "metadata": {},
   "source": [
    "### Scaling `Age`"
   ]
  },
  {
   "cell_type": "code",
   "execution_count": 9,
   "id": "polar-blend",
   "metadata": {},
   "outputs": [],
   "source": [
    "# Check distribution"
   ]
  },
  {
   "cell_type": "code",
   "execution_count": 26,
   "id": "indirect-stuart",
   "metadata": {},
   "outputs": [],
   "source": [
    "# Scale and make changes effective in X "
   ]
  },
  {
   "cell_type": "markdown",
   "id": "upper-reserve",
   "metadata": {},
   "source": [
    "### Scaling `Fare`"
   ]
  },
  {
   "cell_type": "code",
   "execution_count": 11,
   "id": "republican-chain",
   "metadata": {},
   "outputs": [],
   "source": [
    "# Check distribution"
   ]
  },
  {
   "cell_type": "code",
   "execution_count": 27,
   "id": "olive-omaha",
   "metadata": {},
   "outputs": [],
   "source": [
    "# Scale and make changes effective in X "
   ]
  },
  {
   "cell_type": "markdown",
   "id": "stopped-provider",
   "metadata": {},
   "source": [
    "### `SibSb`, `Parch`, `Pclass`"
   ]
  },
  {
   "cell_type": "code",
   "execution_count": 15,
   "id": "searching-shoulder",
   "metadata": {},
   "outputs": [],
   "source": [
    "# Check unique values for SibSb"
   ]
  },
  {
   "cell_type": "code",
   "execution_count": 16,
   "id": "stable-runner",
   "metadata": {},
   "outputs": [],
   "source": [
    "# Check unique values Parch"
   ]
  },
  {
   "cell_type": "code",
   "execution_count": 17,
   "id": "pursuant-river",
   "metadata": {},
   "outputs": [],
   "source": [
    "# Check unique values Pclass"
   ]
  },
  {
   "cell_type": "code",
   "execution_count": 18,
   "id": "million-radar",
   "metadata": {},
   "outputs": [],
   "source": [
    "# Scale all three the same way and make changes effective in X "
   ]
  },
  {
   "cell_type": "markdown",
   "id": "deadly-aging",
   "metadata": {},
   "source": [
    "## Encoding"
   ]
  },
  {
   "cell_type": "markdown",
   "id": "higher-patio",
   "metadata": {},
   "source": [
    "### `Embarked`"
   ]
  },
  {
   "cell_type": "code",
   "execution_count": 19,
   "id": "computational-gentleman",
   "metadata": {},
   "outputs": [],
   "source": [
    "# Check unique"
   ]
  },
  {
   "cell_type": "code",
   "execution_count": 20,
   "id": "derived-volunteer",
   "metadata": {},
   "outputs": [],
   "source": [
    "# One hot Encode and make changes effective in X "
   ]
  },
  {
   "cell_type": "code",
   "execution_count": 28,
   "id": "christian-arcade",
   "metadata": {},
   "outputs": [],
   "source": [
    "# Get rid of original embarked column which is not needed anymore"
   ]
  },
  {
   "cell_type": "markdown",
   "id": "indonesian-resource",
   "metadata": {},
   "source": [
    "### `Sex`"
   ]
  },
  {
   "cell_type": "code",
   "execution_count": 29,
   "id": "comic-heather",
   "metadata": {},
   "outputs": [],
   "source": [
    "# Since sex is binary, we can encode is as 0,1.\n",
    "# Encode with one hot encoder"
   ]
  },
  {
   "cell_type": "markdown",
   "id": "driven-proportion",
   "metadata": {},
   "source": [
    "# Modelling"
   ]
  },
  {
   "cell_type": "markdown",
   "id": "aboriginal-julian",
   "metadata": {},
   "source": [
    "## Holdout"
   ]
  },
  {
   "cell_type": "code",
   "execution_count": 50,
   "id": "fatal-coalition",
   "metadata": {},
   "outputs": [],
   "source": [
    "## Holdout method on X. The test set will not touched until the very end of modelling!"
   ]
  },
  {
   "cell_type": "markdown",
   "id": "desperate-blood",
   "metadata": {},
   "source": [
    "## Baseline Logistic Regression model"
   ]
  },
  {
   "cell_type": "code",
   "execution_count": 35,
   "id": "apart-membership",
   "metadata": {},
   "outputs": [],
   "source": [
    "# Evaluate a LogisticRegression as baseline\n",
    "# On X_train\n",
    "# Cross validated\n",
    "# Return the 4 classification metrics: accuracy, recall, precision, f1"
   ]
  },
  {
   "cell_type": "markdown",
   "id": "plastic-cologne",
   "metadata": {},
   "source": [
    "Accuracy: percentage of correct predictions (for both classes)\n",
    "\n",
    "Recall: percentage of class 1 instances predicted as class 1\n",
    "\n",
    "Precision: percentage of correct class 1 predictions\n",
    "\n",
    "F1: harmonic mean between recall and precision"
   ]
  },
  {
   "cell_type": "markdown",
   "id": "chinese-moral",
   "metadata": {},
   "source": [
    "## KNN Model"
   ]
  },
  {
   "cell_type": "code",
   "execution_count": 32,
   "id": "assumed-budapest",
   "metadata": {},
   "outputs": [],
   "source": [
    "## Let's see if a default KNN would work better"
   ]
  },
  {
   "cell_type": "markdown",
   "id": "acute-output",
   "metadata": {},
   "source": [
    "Let's say we want our model to have the highest possible accuracy. The KNN outperforms the Logistic Regression. Let's tune it to try gain performance."
   ]
  },
  {
   "cell_type": "markdown",
   "id": "powered-groove",
   "metadata": {},
   "source": [
    "### Tuning K"
   ]
  },
  {
   "cell_type": "code",
   "execution_count": 33,
   "id": "prescription-evening",
   "metadata": {},
   "outputs": [],
   "source": [
    "# Tune the KNN for parameters n_neighbors and p"
   ]
  },
  {
   "cell_type": "markdown",
   "id": "surprising-cheese",
   "metadata": {},
   "source": [
    "The tuned KNN works a little bit better!!"
   ]
  },
  {
   "cell_type": "markdown",
   "id": "collaborative-knock",
   "metadata": {},
   "source": [
    "## Random Forest Classifier"
   ]
  },
  {
   "cell_type": "markdown",
   "id": "fifteen-pioneer",
   "metadata": {},
   "source": [
    "Random forest are prone to overfitting and MUST be tuned. A parameter that controls overfitting is 'max_depth'.\n"
   ]
  },
  {
   "cell_type": "code",
   "execution_count": 34,
   "id": "together-appeal",
   "metadata": {},
   "outputs": [],
   "source": [
    "# How does a random forest classifier perform?\n",
    "# Make sure you control max depth"
   ]
  },
  {
   "cell_type": "markdown",
   "id": "ordered-settle",
   "metadata": {},
   "source": [
    "The Random forest is even better than the KNN! We'll use it as our final model!"
   ]
  },
  {
   "cell_type": "markdown",
   "id": "connected-serve",
   "metadata": {},
   "source": [
    "### Checking performance on test set"
   ]
  },
  {
   "cell_type": "code",
   "execution_count": 36,
   "id": "placed-cornwall",
   "metadata": {},
   "outputs": [],
   "source": [
    "# How does the optimal Random forest classifier perform on the test set"
   ]
  },
  {
   "cell_type": "markdown",
   "id": "prescription-berlin",
   "metadata": {},
   "source": [
    "Since the final model scores almost as well on the test set, we can go ahead and pipeline the process."
   ]
  },
  {
   "cell_type": "markdown",
   "id": "modified-conservation",
   "metadata": {},
   "source": [
    "# Pipelining"
   ]
  },
  {
   "cell_type": "code",
   "execution_count": null,
   "id": "golden-server",
   "metadata": {},
   "outputs": [],
   "source": [
    "# Pipeline your preprocessing steps + Model"
   ]
  },
  {
   "cell_type": "markdown",
   "id": "infectious-universal",
   "metadata": {},
   "source": [
    "### Pickle the fitted pipeline"
   ]
  },
  {
   "cell_type": "code",
   "execution_count": null,
   "id": "great-violin",
   "metadata": {},
   "outputs": [],
   "source": [
    "# Export pipeline as pickle file\n"
   ]
  }
 ],
 "metadata": {
  "kernelspec": {
   "display_name": "Python 3 (ipykernel)",
   "language": "python",
   "name": "python3"
  },
  "language_info": {
   "codemirror_mode": {
    "name": "ipython",
    "version": 3
   },
   "file_extension": ".py",
   "mimetype": "text/x-python",
   "name": "python",
   "nbconvert_exporter": "python",
   "pygments_lexer": "ipython3",
   "version": "3.8.12"
  },
  "toc": {
   "base_numbering": 1,
   "nav_menu": {},
   "number_sections": true,
   "sideBar": true,
   "skip_h1_title": false,
   "title_cell": "Table of Contents",
   "title_sidebar": "Contents",
   "toc_cell": false,
   "toc_position": {},
   "toc_section_display": true,
   "toc_window_display": false
  }
 },
 "nbformat": 4,
 "nbformat_minor": 5
}
