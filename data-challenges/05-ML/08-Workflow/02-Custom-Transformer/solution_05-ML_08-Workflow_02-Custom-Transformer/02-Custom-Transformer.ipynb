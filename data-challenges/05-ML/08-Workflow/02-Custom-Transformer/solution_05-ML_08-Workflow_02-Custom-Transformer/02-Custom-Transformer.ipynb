{
 "cells": [
  {
   "cell_type": "markdown",
   "metadata": {},
   "source": [
    "# Custom Transformer"
   ]
  },
  {
   "cell_type": "code",
   "execution_count": 1,
   "metadata": {},
   "outputs": [],
   "source": [
    "import seaborn as sns\n",
    "import pandas as pd\n",
    "import numpy as np\n",
    "from sklearn import set_config; set_config(display='diagram')"
   ]
  },
  {
   "cell_type": "markdown",
   "metadata": {},
   "source": [
    "👇 Consider the following dataset"
   ]
  },
  {
   "cell_type": "code",
   "execution_count": 2,
   "metadata": {},
   "outputs": [
    {
     "data": {
      "text/html": [
       "<div>\n",
       "<style scoped>\n",
       "    .dataframe tbody tr th:only-of-type {\n",
       "        vertical-align: middle;\n",
       "    }\n",
       "\n",
       "    .dataframe tbody tr th {\n",
       "        vertical-align: top;\n",
       "    }\n",
       "\n",
       "    .dataframe thead th {\n",
       "        text-align: right;\n",
       "    }\n",
       "</style>\n",
       "<table border=\"1\" class=\"dataframe\">\n",
       "  <thead>\n",
       "    <tr style=\"text-align: right;\">\n",
       "      <th></th>\n",
       "      <th>customer_state</th>\n",
       "      <th>seller_state</th>\n",
       "      <th>product_weight_g</th>\n",
       "      <th>product_length_cm</th>\n",
       "      <th>product_height_cm</th>\n",
       "      <th>product_width_cm</th>\n",
       "      <th>days_until_delivery</th>\n",
       "    </tr>\n",
       "  </thead>\n",
       "  <tbody>\n",
       "    <tr>\n",
       "      <th>0</th>\n",
       "      <td>RJ</td>\n",
       "      <td>SP</td>\n",
       "      <td>1825</td>\n",
       "      <td>53</td>\n",
       "      <td>10</td>\n",
       "      <td>40</td>\n",
       "      <td>9</td>\n",
       "    </tr>\n",
       "    <tr>\n",
       "      <th>1</th>\n",
       "      <td>RJ</td>\n",
       "      <td>SP</td>\n",
       "      <td>700</td>\n",
       "      <td>65</td>\n",
       "      <td>18</td>\n",
       "      <td>28</td>\n",
       "      <td>9</td>\n",
       "    </tr>\n",
       "    <tr>\n",
       "      <th>2</th>\n",
       "      <td>RJ</td>\n",
       "      <td>SP</td>\n",
       "      <td>1825</td>\n",
       "      <td>53</td>\n",
       "      <td>10</td>\n",
       "      <td>40</td>\n",
       "      <td>11</td>\n",
       "    </tr>\n",
       "    <tr>\n",
       "      <th>3</th>\n",
       "      <td>RJ</td>\n",
       "      <td>SP</td>\n",
       "      <td>1825</td>\n",
       "      <td>53</td>\n",
       "      <td>10</td>\n",
       "      <td>40</td>\n",
       "      <td>12</td>\n",
       "    </tr>\n",
       "    <tr>\n",
       "      <th>4</th>\n",
       "      <td>RJ</td>\n",
       "      <td>SP</td>\n",
       "      <td>1825</td>\n",
       "      <td>53</td>\n",
       "      <td>10</td>\n",
       "      <td>40</td>\n",
       "      <td>14</td>\n",
       "    </tr>\n",
       "  </tbody>\n",
       "</table>\n",
       "</div>"
      ],
      "text/plain": [
       "  customer_state seller_state  product_weight_g  product_length_cm  \\\n",
       "0             RJ           SP              1825                 53   \n",
       "1             RJ           SP               700                 65   \n",
       "2             RJ           SP              1825                 53   \n",
       "3             RJ           SP              1825                 53   \n",
       "4             RJ           SP              1825                 53   \n",
       "\n",
       "   product_height_cm  product_width_cm  days_until_delivery  \n",
       "0                 10                40                    9  \n",
       "1                 18                28                    9  \n",
       "2                 10                40                   11  \n",
       "3                 10                40                   12  \n",
       "4                 10                40                   14  "
      ]
     },
     "execution_count": 2,
     "metadata": {},
     "output_type": "execute_result"
    }
   ],
   "source": [
    "import pandas as pd\n",
    "\n",
    "data = pd.read_csv(\"data.csv\")\n",
    "data.head()"
   ]
  },
  {
   "cell_type": "markdown",
   "metadata": {},
   "source": [
    "- Each observation of the dataset represents an item being delivered from a  `seller_state` to a `customer_state`. \n",
    "- Other columns describe the packaging properties of each item.\n",
    "\n",
    "🎯 The target is the number of days between the order and the delivery."
   ]
  },
  {
   "cell_type": "code",
   "execution_count": 3,
   "metadata": {},
   "outputs": [
    {
     "data": {
      "text/plain": [
       "<AxesSubplot:xlabel='days_until_delivery', ylabel='Count'>"
      ]
     },
     "execution_count": 3,
     "metadata": {},
     "output_type": "execute_result"
    },
    {
     "data": {
      "image/png": "[encoded data removed]",
      "text/plain": [
       "<Figure size 432x288 with 1 Axes>"
      ]
     },
     "metadata": {
      "needs_background": "light"
     },
     "output_type": "display_data"
    }
   ],
   "source": [
    "# Check target\n",
    "sns.histplot(data.days_until_delivery)"
   ]
  },
  {
   "cell_type": "markdown",
   "metadata": {},
   "source": [
    "## 1. Pipeline"
   ]
  },
  {
   "cell_type": "markdown",
   "metadata": {},
   "source": [
    "👇 Create a scikit-learn pipeline named `pipe`:\n",
    "\n",
    "- Engineer a `volume` feature from the dimensions features\n",
    "- Preserve the original product dimensions features for training\n",
    "- Scale all numerical features\n",
    "- Encode the categorical features\n",
    "- Add a default `Ridge` regression estimator"
   ]
  },
  {
   "cell_type": "markdown",
   "metadata": {},
   "source": [
    "<details><summary>Hints</summary>\n",
    "\n",
    "- There are many ways to create your preprocessed matrix (using `ColumnTransformer` and/or `FeatureUnion`). \n",
    "    \n",
    "- If your transformed feature matrix look wierd, it may be stored as \"sparse\" by the default behavior of `OneHotEncoder(sparse=True)`. Use `.todense()` to turn it back to a dense matrix\n",
    "\n",
    "</details>"
   ]
  },
  {
   "cell_type": "code",
   "execution_count": 4,
   "metadata": {},
   "outputs": [],
   "source": [
    "# YOUR CODE HERE"
   ]
  },
  {
   "cell_type": "markdown",
   "metadata": {
    "tags": [
     "delete_begin"
    ]
   },
   "source": [
    "### solution"
   ]
  },
  {
   "cell_type": "markdown",
   "metadata": {},
   "source": [
    "#### Preprocessing Solution 1: Function Transformer"
   ]
  },
  {
   "cell_type": "code",
   "execution_count": 5,
   "metadata": {},
   "outputs": [],
   "source": [
    "from sklearn.compose import ColumnTransformer\n",
    "from sklearn.compose import make_column_selector\n",
    "from sklearn.pipeline import Pipeline\n",
    "from sklearn.preprocessing import FunctionTransformer\n",
    "from sklearn.preprocessing import OneHotEncoder\n",
    "from sklearn.preprocessing import MinMaxScaler\n",
    "\n",
    "from sklearn.preprocessing import StandardScaler\n",
    "from sklearn.preprocessing import FunctionTransformer\n",
    "\n",
    "from sklearn.preprocessing import StandardScaler\n",
    "from sklearn.base import TransformerMixin\n",
    "from sklearn.base import BaseEstimator\n",
    "\n",
    "from sklearn.pipeline import FeatureUnion"
   ]
  },
  {
   "cell_type": "code",
   "execution_count": 6,
   "metadata": {},
   "outputs": [
    {
     "data": {
      "text/html": [
       "<div>\n",
       "<style scoped>\n",
       "    .dataframe tbody tr th:only-of-type {\n",
       "        vertical-align: middle;\n",
       "    }\n",
       "\n",
       "    .dataframe tbody tr th {\n",
       "        vertical-align: top;\n",
       "    }\n",
       "\n",
       "    .dataframe thead th {\n",
       "        text-align: right;\n",
       "    }\n",
       "</style>\n",
       "<table border=\"1\" class=\"dataframe\">\n",
       "  <thead>\n",
       "    <tr style=\"text-align: right;\">\n",
       "      <th></th>\n",
       "      <th>customer_state</th>\n",
       "      <th>seller_state</th>\n",
       "      <th>product_weight_g</th>\n",
       "      <th>product_length_cm</th>\n",
       "      <th>product_height_cm</th>\n",
       "      <th>product_width_cm</th>\n",
       "    </tr>\n",
       "  </thead>\n",
       "  <tbody>\n",
       "    <tr>\n",
       "      <th>0</th>\n",
       "      <td>RJ</td>\n",
       "      <td>SP</td>\n",
       "      <td>1825</td>\n",
       "      <td>53</td>\n",
       "      <td>10</td>\n",
       "      <td>40</td>\n",
       "    </tr>\n",
       "    <tr>\n",
       "      <th>1</th>\n",
       "      <td>RJ</td>\n",
       "      <td>SP</td>\n",
       "      <td>700</td>\n",
       "      <td>65</td>\n",
       "      <td>18</td>\n",
       "      <td>28</td>\n",
       "    </tr>\n",
       "    <tr>\n",
       "      <th>2</th>\n",
       "      <td>RJ</td>\n",
       "      <td>SP</td>\n",
       "      <td>1825</td>\n",
       "      <td>53</td>\n",
       "      <td>10</td>\n",
       "      <td>40</td>\n",
       "    </tr>\n",
       "    <tr>\n",
       "      <th>3</th>\n",
       "      <td>RJ</td>\n",
       "      <td>SP</td>\n",
       "      <td>1825</td>\n",
       "      <td>53</td>\n",
       "      <td>10</td>\n",
       "      <td>40</td>\n",
       "    </tr>\n",
       "    <tr>\n",
       "      <th>4</th>\n",
       "      <td>RJ</td>\n",
       "      <td>SP</td>\n",
       "      <td>1825</td>\n",
       "      <td>53</td>\n",
       "      <td>10</td>\n",
       "      <td>40</td>\n",
       "    </tr>\n",
       "  </tbody>\n",
       "</table>\n",
       "</div>"
      ],
      "text/plain": [
       "  customer_state seller_state  product_weight_g  product_length_cm  \\\n",
       "0             RJ           SP              1825                 53   \n",
       "1             RJ           SP               700                 65   \n",
       "2             RJ           SP              1825                 53   \n",
       "3             RJ           SP              1825                 53   \n",
       "4             RJ           SP              1825                 53   \n",
       "\n",
       "   product_height_cm  product_width_cm  \n",
       "0                 10                40  \n",
       "1                 18                28  \n",
       "2                 10                40  \n",
       "3                 10                40  \n",
       "4                 10                40  "
      ]
     },
     "execution_count": 6,
     "metadata": {},
     "output_type": "execute_result"
    }
   ],
   "source": [
    "X = data.drop(columns=['days_until_delivery'])\n",
    "y = data['days_until_delivery']\n",
    "X.head()"
   ]
  },
  {
   "cell_type": "code",
   "execution_count": 7,
   "metadata": {},
   "outputs": [
    {
     "data": {
      "text/html": [
       "<style>#sk-7e3c0cb0-f470-4e3b-8735-f0b803b1c1d1 {color: black;background-color: white;}#sk-7e3c0cb0-f470-4e3b-8735-f0b803b1c1d1 pre{padding: 0;}#sk-7e3c0cb0-f470-4e3b-8735-f0b803b1c1d1 div.sk-toggleable {background-color: white;}#sk-7e3c0cb0-f470-4e3b-8735-f0b803b1c1d1 label.sk-toggleable__label {cursor: pointer;display: block;width: 100%;margin-bottom: 0;padding: 0.3em;box-sizing: border-box;text-align: center;}#sk-7e3c0cb0-f470-4e3b-8735-f0b803b1c1d1 div.sk-toggleable__content {max-height: 0;max-width: 0;overflow: hidden;text-align: left;background-color: #f0f8ff;}#sk-7e3c0cb0-f470-4e3b-8735-f0b803b1c1d1 div.sk-toggleable__content pre {margin: 0.2em;color: black;border-radius: 0.25em;background-color: #f0f8ff;}#sk-7e3c0cb0-f470-4e3b-8735-f0b803b1c1d1 input.sk-toggleable__control:checked~div.sk-toggleable__content {max-height: 200px;max-width: 100%;overflow: auto;}#sk-7e3c0cb0-f470-4e3b-8735-f0b803b1c1d1 div.sk-estimator input.sk-toggleable__control:checked~label.sk-toggleable__label {background-color: #d4ebff;}#sk-7e3c0cb0-f470-4e3b-8735-f0b803b1c1d1 div.sk-label input.sk-toggleable__control:checked~label.sk-toggleable__label {background-color: #d4ebff;}#sk-7e3c0cb0-f470-4e3b-8735-f0b803b1c1d1 input.sk-hidden--visually {border: 0;clip: rect(1px 1px 1px 1px);clip: rect(1px, 1px, 1px, 1px);height: 1px;margin: -1px;overflow: hidden;padding: 0;position: absolute;width: 1px;}#sk-7e3c0cb0-f470-4e3b-8735-f0b803b1c1d1 div.sk-estimator {font-family: monospace;background-color: #f0f8ff;border: 1px dotted black;border-radius: 0.25em;box-sizing: border-box;margin-bottom: 0.5em;}#sk-7e3c0cb0-f470-4e3b-8735-f0b803b1c1d1 div.sk-estimator:hover {background-color: #d4ebff;}#sk-7e3c0cb0-f470-4e3b-8735-f0b803b1c1d1 div.sk-parallel-item::after {content: \"\";width: 100%;border-bottom: 1px solid gray;flex-grow: 1;}#sk-7e3c0cb0-f470-4e3b-8735-f0b803b1c1d1 div.sk-label:hover label.sk-toggleable__label {background-color: #d4ebff;}#sk-7e3c0cb0-f470-4e3b-8735-f0b803b1c1d1 div.sk-serial::before {content: \"\";position: absolute;border-left: 1px solid gray;box-sizing: border-box;top: 2em;bottom: 0;left: 50%;}#sk-7e3c0cb0-f470-4e3b-8735-f0b803b1c1d1 div.sk-serial {display: flex;flex-direction: column;align-items: center;background-color: white;padding-right: 0.2em;padding-left: 0.2em;}#sk-7e3c0cb0-f470-4e3b-8735-f0b803b1c1d1 div.sk-item {z-index: 1;}#sk-7e3c0cb0-f470-4e3b-8735-f0b803b1c1d1 div.sk-parallel {display: flex;align-items: stretch;justify-content: center;background-color: white;}#sk-7e3c0cb0-f470-4e3b-8735-f0b803b1c1d1 div.sk-parallel::before {content: \"\";position: absolute;border-left: 1px solid gray;box-sizing: border-box;top: 2em;bottom: 0;left: 50%;}#sk-7e3c0cb0-f470-4e3b-8735-f0b803b1c1d1 div.sk-parallel-item {display: flex;flex-direction: column;position: relative;background-color: white;}#sk-7e3c0cb0-f470-4e3b-8735-f0b803b1c1d1 div.sk-parallel-item:first-child::after {align-self: flex-end;width: 50%;}#sk-7e3c0cb0-f470-4e3b-8735-f0b803b1c1d1 div.sk-parallel-item:last-child::after {align-self: flex-start;width: 50%;}#sk-7e3c0cb0-f470-4e3b-8735-f0b803b1c1d1 div.sk-parallel-item:only-child::after {width: 0;}#sk-7e3c0cb0-f470-4e3b-8735-f0b803b1c1d1 div.sk-dashed-wrapped {border: 1px dashed gray;margin: 0 0.4em 0.5em 0.4em;box-sizing: border-box;padding-bottom: 0.4em;background-color: white;position: relative;}#sk-7e3c0cb0-f470-4e3b-8735-f0b803b1c1d1 div.sk-label label {font-family: monospace;font-weight: bold;background-color: white;display: inline-block;line-height: 1.2em;}#sk-7e3c0cb0-f470-4e3b-8735-f0b803b1c1d1 div.sk-label-container {position: relative;z-index: 2;text-align: center;}#sk-7e3c0cb0-f470-4e3b-8735-f0b803b1c1d1 div.sk-container {display: inline-block;position: relative;}</style><div id=\"sk-7e3c0cb0-f470-4e3b-8735-f0b803b1c1d1\" class\"sk-top-container\"><div class=\"sk-container\"><div class=\"sk-item sk-dashed-wrapped\"><div class=\"sk-label-container\"><div class=\"sk-label sk-toggleable\"><input class=\"sk-toggleable__control sk-hidden--visually\" id=\"9a0e3c95-cc46-4890-9372-eebd30e52fda\" type=\"checkbox\" ><label class=\"sk-toggleable__label\" for=\"9a0e3c95-cc46-4890-9372-eebd30e52fda\">ColumnTransformer</label><div class=\"sk-toggleable__content\"><pre>ColumnTransformer(transformers=[('num_encoder', MinMaxScaler(),\n",
       "                                 <sklearn.compose._column_transformer.make_column_selector object at 0x1796c4490>),\n",
       "                                ('cat_encoder',\n",
       "                                 OneHotEncoder(handle_unknown='ignore',\n",
       "                                               sparse=False),\n",
       "                                 <sklearn.compose._column_transformer.make_column_selector object at 0x1796c46d0>),\n",
       "                                ('volume_computer',\n",
       "                                 Pipeline(steps=[('compute_volume',\n",
       "                                                  FunctionTransformer(func=<function multiply at 0x1796ba310>)),\n",
       "                                                 ('scale_volume',\n",
       "                                                  MinMaxScaler())]),\n",
       "                                 ['product_length_cm', 'product_height_cm',\n",
       "                                  'product_width_cm'])])</pre></div></div></div><div class=\"sk-parallel\"><div class=\"sk-parallel-item\"><div class=\"sk-item\"><div class=\"sk-label-container\"><div class=\"sk-label sk-toggleable\"><input class=\"sk-toggleable__control sk-hidden--visually\" id=\"971fee53-808c-4de6-9656-b40d19eccc6a\" type=\"checkbox\" ><label class=\"sk-toggleable__label\" for=\"971fee53-808c-4de6-9656-b40d19eccc6a\">num_encoder</label><div class=\"sk-toggleable__content\"><pre><sklearn.compose._column_transformer.make_column_selector object at 0x1796c4490></pre></div></div></div><div class=\"sk-serial\"><div class=\"sk-item\"><div class=\"sk-estimator sk-toggleable\"><input class=\"sk-toggleable__control sk-hidden--visually\" id=\"ca802bd7-6a7c-42e7-a0a5-6dd8a2642d43\" type=\"checkbox\" ><label class=\"sk-toggleable__label\" for=\"ca802bd7-6a7c-42e7-a0a5-6dd8a2642d43\">MinMaxScaler</label><div class=\"sk-toggleable__content\"><pre>MinMaxScaler()</pre></div></div></div></div></div></div><div class=\"sk-parallel-item\"><div class=\"sk-item\"><div class=\"sk-label-container\"><div class=\"sk-label sk-toggleable\"><input class=\"sk-toggleable__control sk-hidden--visually\" id=\"031ee4ba-2e3f-4217-885c-68215452ec6e\" type=\"checkbox\" ><label class=\"sk-toggleable__label\" for=\"031ee4ba-2e3f-4217-885c-68215452ec6e\">cat_encoder</label><div class=\"sk-toggleable__content\"><pre><sklearn.compose._column_transformer.make_column_selector object at 0x1796c46d0></pre></div></div></div><div class=\"sk-serial\"><div class=\"sk-item\"><div class=\"sk-estimator sk-toggleable\"><input class=\"sk-toggleable__control sk-hidden--visually\" id=\"b0b9cc9f-35fa-44e8-9fb6-9f1616e9c04c\" type=\"checkbox\" ><label class=\"sk-toggleable__label\" for=\"b0b9cc9f-35fa-44e8-9fb6-9f1616e9c04c\">OneHotEncoder</label><div class=\"sk-toggleable__content\"><pre>OneHotEncoder(handle_unknown='ignore', sparse=False)</pre></div></div></div></div></div></div><div class=\"sk-parallel-item\"><div class=\"sk-item\"><div class=\"sk-label-container\"><div class=\"sk-label sk-toggleable\"><input class=\"sk-toggleable__control sk-hidden--visually\" id=\"9f81c56d-f3df-4aaa-8041-75e8710711c2\" type=\"checkbox\" ><label class=\"sk-toggleable__label\" for=\"9f81c56d-f3df-4aaa-8041-75e8710711c2\">volume_computer</label><div class=\"sk-toggleable__content\"><pre>['product_length_cm', 'product_height_cm', 'product_width_cm']</pre></div></div></div><div class=\"sk-serial\"><div class=\"sk-item\"><div class=\"sk-serial\"><div class=\"sk-item\"><div class=\"sk-estimator sk-toggleable\"><input class=\"sk-toggleable__control sk-hidden--visually\" id=\"071c6129-9a7a-4b4d-bd5e-998f807b5bec\" type=\"checkbox\" ><label class=\"sk-toggleable__label\" for=\"071c6129-9a7a-4b4d-bd5e-998f807b5bec\">FunctionTransformer</label><div class=\"sk-toggleable__content\"><pre>FunctionTransformer(func=<function multiply at 0x1796ba310>)</pre></div></div></div><div class=\"sk-item\"><div class=\"sk-estimator sk-toggleable\"><input class=\"sk-toggleable__control sk-hidden--visually\" id=\"c36f9f7d-bb35-465c-942e-691da446df7a\" type=\"checkbox\" ><label class=\"sk-toggleable__label\" for=\"c36f9f7d-bb35-465c-942e-691da446df7a\">MinMaxScaler</label><div class=\"sk-toggleable__content\"><pre>MinMaxScaler()</pre></div></div></div></div></div></div></div></div></div></div></div></div>"
      ],
      "text/plain": [
       "ColumnTransformer(transformers=[('num_encoder', MinMaxScaler(),\n",
       "                                 <sklearn.compose._column_transformer.make_column_selector object at 0x1796c4490>),\n",
       "                                ('cat_encoder',\n",
       "                                 OneHotEncoder(handle_unknown='ignore',\n",
       "                                               sparse=False),\n",
       "                                 <sklearn.compose._column_transformer.make_column_selector object at 0x1796c46d0>),\n",
       "                                ('volume_computer',\n",
       "                                 Pipeline(steps=[('compute_volume',\n",
       "                                                  FunctionTransformer(func=<function multiply at 0x1796ba310>)),\n",
       "                                                 ('scale_volume',\n",
       "                                                  MinMaxScaler())]),\n",
       "                                 ['product_length_cm', 'product_height_cm',\n",
       "                                  'product_width_cm'])])"
      ]
     },
     "execution_count": 7,
     "metadata": {},
     "output_type": "execute_result"
    }
   ],
   "source": [
    "def multiply(df):\n",
    "    return pd.DataFrame(\n",
    "        df['product_length_cm'] * df['product_height_cm'] * df['product_width_cm'])\n",
    "    \n",
    "volume_computer = Pipeline([\n",
    "    ('compute_volume', FunctionTransformer(multiply)),\n",
    "    ('scale_volume', MinMaxScaler())\n",
    "])\n",
    "\n",
    "final_preprocessor = ColumnTransformer([\n",
    "    ('num_encoder', MinMaxScaler(), make_column_selector(dtype_include=\"int64\")),\n",
    "    ('cat_encoder', OneHotEncoder(handle_unknown='ignore', sparse=False), make_column_selector(dtype_include=\"object\")),\n",
    "    ('volume_computer', volume_computer, ['product_length_cm','product_height_cm','product_width_cm'])\n",
    "])\n",
    "final_preprocessor"
   ]
  },
  {
   "cell_type": "code",
   "execution_count": 8,
   "metadata": {},
   "outputs": [
    {
     "data": {
      "text/html": [
       "<div>\n",
       "<style scoped>\n",
       "    .dataframe tbody tr th:only-of-type {\n",
       "        vertical-align: middle;\n",
       "    }\n",
       "\n",
       "    .dataframe tbody tr th {\n",
       "        vertical-align: top;\n",
       "    }\n",
       "\n",
       "    .dataframe thead th {\n",
       "        text-align: right;\n",
       "    }\n",
       "</style>\n",
       "<table border=\"1\" class=\"dataframe\">\n",
       "  <thead>\n",
       "    <tr style=\"text-align: right;\">\n",
       "      <th></th>\n",
       "      <th>0</th>\n",
       "      <th>1</th>\n",
       "      <th>2</th>\n",
       "      <th>3</th>\n",
       "      <th>4</th>\n",
       "      <th>5</th>\n",
       "      <th>6</th>\n",
       "      <th>7</th>\n",
       "      <th>8</th>\n",
       "      <th>9</th>\n",
       "      <th>...</th>\n",
       "      <th>22</th>\n",
       "      <th>23</th>\n",
       "      <th>24</th>\n",
       "      <th>25</th>\n",
       "      <th>26</th>\n",
       "      <th>27</th>\n",
       "      <th>28</th>\n",
       "      <th>29</th>\n",
       "      <th>30</th>\n",
       "      <th>31</th>\n",
       "    </tr>\n",
       "  </thead>\n",
       "  <tbody>\n",
       "    <tr>\n",
       "      <th>0</th>\n",
       "      <td>0.057692</td>\n",
       "      <td>0.402439</td>\n",
       "      <td>0.056818</td>\n",
       "      <td>0.271028</td>\n",
       "      <td>0.0</td>\n",
       "      <td>0.0</td>\n",
       "      <td>0.0</td>\n",
       "      <td>0.0</td>\n",
       "      <td>0.0</td>\n",
       "      <td>0.0</td>\n",
       "      <td>...</td>\n",
       "      <td>0.0</td>\n",
       "      <td>0.0</td>\n",
       "      <td>0.0</td>\n",
       "      <td>0.0</td>\n",
       "      <td>0.0</td>\n",
       "      <td>0.0</td>\n",
       "      <td>0.0</td>\n",
       "      <td>0.0</td>\n",
       "      <td>1.0</td>\n",
       "      <td>0.079177</td>\n",
       "    </tr>\n",
       "    <tr>\n",
       "      <th>1</th>\n",
       "      <td>0.020067</td>\n",
       "      <td>0.548780</td>\n",
       "      <td>0.147727</td>\n",
       "      <td>0.158879</td>\n",
       "      <td>0.0</td>\n",
       "      <td>0.0</td>\n",
       "      <td>0.0</td>\n",
       "      <td>0.0</td>\n",
       "      <td>0.0</td>\n",
       "      <td>0.0</td>\n",
       "      <td>...</td>\n",
       "      <td>0.0</td>\n",
       "      <td>0.0</td>\n",
       "      <td>0.0</td>\n",
       "      <td>0.0</td>\n",
       "      <td>0.0</td>\n",
       "      <td>0.0</td>\n",
       "      <td>0.0</td>\n",
       "      <td>0.0</td>\n",
       "      <td>1.0</td>\n",
       "      <td>0.125218</td>\n",
       "    </tr>\n",
       "    <tr>\n",
       "      <th>2</th>\n",
       "      <td>0.057692</td>\n",
       "      <td>0.402439</td>\n",
       "      <td>0.056818</td>\n",
       "      <td>0.271028</td>\n",
       "      <td>0.0</td>\n",
       "      <td>0.0</td>\n",
       "      <td>0.0</td>\n",
       "      <td>0.0</td>\n",
       "      <td>0.0</td>\n",
       "      <td>0.0</td>\n",
       "      <td>...</td>\n",
       "      <td>0.0</td>\n",
       "      <td>0.0</td>\n",
       "      <td>0.0</td>\n",
       "      <td>0.0</td>\n",
       "      <td>0.0</td>\n",
       "      <td>0.0</td>\n",
       "      <td>0.0</td>\n",
       "      <td>0.0</td>\n",
       "      <td>1.0</td>\n",
       "      <td>0.079177</td>\n",
       "    </tr>\n",
       "    <tr>\n",
       "      <th>3</th>\n",
       "      <td>0.057692</td>\n",
       "      <td>0.402439</td>\n",
       "      <td>0.056818</td>\n",
       "      <td>0.271028</td>\n",
       "      <td>0.0</td>\n",
       "      <td>0.0</td>\n",
       "      <td>0.0</td>\n",
       "      <td>0.0</td>\n",
       "      <td>0.0</td>\n",
       "      <td>0.0</td>\n",
       "      <td>...</td>\n",
       "      <td>0.0</td>\n",
       "      <td>0.0</td>\n",
       "      <td>0.0</td>\n",
       "      <td>0.0</td>\n",
       "      <td>0.0</td>\n",
       "      <td>0.0</td>\n",
       "      <td>0.0</td>\n",
       "      <td>0.0</td>\n",
       "      <td>1.0</td>\n",
       "      <td>0.079177</td>\n",
       "    </tr>\n",
       "    <tr>\n",
       "      <th>4</th>\n",
       "      <td>0.057692</td>\n",
       "      <td>0.402439</td>\n",
       "      <td>0.056818</td>\n",
       "      <td>0.271028</td>\n",
       "      <td>0.0</td>\n",
       "      <td>0.0</td>\n",
       "      <td>0.0</td>\n",
       "      <td>0.0</td>\n",
       "      <td>0.0</td>\n",
       "      <td>0.0</td>\n",
       "      <td>...</td>\n",
       "      <td>0.0</td>\n",
       "      <td>0.0</td>\n",
       "      <td>0.0</td>\n",
       "      <td>0.0</td>\n",
       "      <td>0.0</td>\n",
       "      <td>0.0</td>\n",
       "      <td>0.0</td>\n",
       "      <td>0.0</td>\n",
       "      <td>1.0</td>\n",
       "      <td>0.079177</td>\n",
       "    </tr>\n",
       "  </tbody>\n",
       "</table>\n",
       "<p>5 rows × 32 columns</p>\n",
       "</div>"
      ],
      "text/plain": [
       "         0         1         2         3    4    5    6    7    8    9   ...  \\\n",
       "0  0.057692  0.402439  0.056818  0.271028  0.0  0.0  0.0  0.0  0.0  0.0  ...   \n",
       "1  0.020067  0.548780  0.147727  0.158879  0.0  0.0  0.0  0.0  0.0  0.0  ...   \n",
       "2  0.057692  0.402439  0.056818  0.271028  0.0  0.0  0.0  0.0  0.0  0.0  ...   \n",
       "3  0.057692  0.402439  0.056818  0.271028  0.0  0.0  0.0  0.0  0.0  0.0  ...   \n",
       "4  0.057692  0.402439  0.056818  0.271028  0.0  0.0  0.0  0.0  0.0  0.0  ...   \n",
       "\n",
       "    22   23   24   25   26   27   28   29   30        31  \n",
       "0  0.0  0.0  0.0  0.0  0.0  0.0  0.0  0.0  1.0  0.079177  \n",
       "1  0.0  0.0  0.0  0.0  0.0  0.0  0.0  0.0  1.0  0.125218  \n",
       "2  0.0  0.0  0.0  0.0  0.0  0.0  0.0  0.0  1.0  0.079177  \n",
       "3  0.0  0.0  0.0  0.0  0.0  0.0  0.0  0.0  1.0  0.079177  \n",
       "4  0.0  0.0  0.0  0.0  0.0  0.0  0.0  0.0  1.0  0.079177  \n",
       "\n",
       "[5 rows x 32 columns]"
      ]
     },
     "execution_count": 8,
     "metadata": {},
     "output_type": "execute_result"
    }
   ],
   "source": [
    "pd.DataFrame(final_preprocessor.fit_transform(X)).head()"
   ]
  },
  {
   "cell_type": "code",
   "execution_count": 9,
   "metadata": {},
   "outputs": [
    {
     "data": {
      "text/html": [
       "<style>#sk-ed8a4c8e-00cd-426e-9a0c-6d818780695d {color: black;background-color: white;}#sk-ed8a4c8e-00cd-426e-9a0c-6d818780695d pre{padding: 0;}#sk-ed8a4c8e-00cd-426e-9a0c-6d818780695d div.sk-toggleable {background-color: white;}#sk-ed8a4c8e-00cd-426e-9a0c-6d818780695d label.sk-toggleable__label {cursor: pointer;display: block;width: 100%;margin-bottom: 0;padding: 0.3em;box-sizing: border-box;text-align: center;}#sk-ed8a4c8e-00cd-426e-9a0c-6d818780695d div.sk-toggleable__content {max-height: 0;max-width: 0;overflow: hidden;text-align: left;background-color: #f0f8ff;}#sk-ed8a4c8e-00cd-426e-9a0c-6d818780695d div.sk-toggleable__content pre {margin: 0.2em;color: black;border-radius: 0.25em;background-color: #f0f8ff;}#sk-ed8a4c8e-00cd-426e-9a0c-6d818780695d input.sk-toggleable__control:checked~div.sk-toggleable__content {max-height: 200px;max-width: 100%;overflow: auto;}#sk-ed8a4c8e-00cd-426e-9a0c-6d818780695d div.sk-estimator input.sk-toggleable__control:checked~label.sk-toggleable__label {background-color: #d4ebff;}#sk-ed8a4c8e-00cd-426e-9a0c-6d818780695d div.sk-label input.sk-toggleable__control:checked~label.sk-toggleable__label {background-color: #d4ebff;}#sk-ed8a4c8e-00cd-426e-9a0c-6d818780695d input.sk-hidden--visually {border: 0;clip: rect(1px 1px 1px 1px);clip: rect(1px, 1px, 1px, 1px);height: 1px;margin: -1px;overflow: hidden;padding: 0;position: absolute;width: 1px;}#sk-ed8a4c8e-00cd-426e-9a0c-6d818780695d div.sk-estimator {font-family: monospace;background-color: #f0f8ff;border: 1px dotted black;border-radius: 0.25em;box-sizing: border-box;margin-bottom: 0.5em;}#sk-ed8a4c8e-00cd-426e-9a0c-6d818780695d div.sk-estimator:hover {background-color: #d4ebff;}#sk-ed8a4c8e-00cd-426e-9a0c-6d818780695d div.sk-parallel-item::after {content: \"\";width: 100%;border-bottom: 1px solid gray;flex-grow: 1;}#sk-ed8a4c8e-00cd-426e-9a0c-6d818780695d div.sk-label:hover label.sk-toggleable__label {background-color: #d4ebff;}#sk-ed8a4c8e-00cd-426e-9a0c-6d818780695d div.sk-serial::before {content: \"\";position: absolute;border-left: 1px solid gray;box-sizing: border-box;top: 2em;bottom: 0;left: 50%;}#sk-ed8a4c8e-00cd-426e-9a0c-6d818780695d div.sk-serial {display: flex;flex-direction: column;align-items: center;background-color: white;padding-right: 0.2em;padding-left: 0.2em;}#sk-ed8a4c8e-00cd-426e-9a0c-6d818780695d div.sk-item {z-index: 1;}#sk-ed8a4c8e-00cd-426e-9a0c-6d818780695d div.sk-parallel {display: flex;align-items: stretch;justify-content: center;background-color: white;}#sk-ed8a4c8e-00cd-426e-9a0c-6d818780695d div.sk-parallel::before {content: \"\";position: absolute;border-left: 1px solid gray;box-sizing: border-box;top: 2em;bottom: 0;left: 50%;}#sk-ed8a4c8e-00cd-426e-9a0c-6d818780695d div.sk-parallel-item {display: flex;flex-direction: column;position: relative;background-color: white;}#sk-ed8a4c8e-00cd-426e-9a0c-6d818780695d div.sk-parallel-item:first-child::after {align-self: flex-end;width: 50%;}#sk-ed8a4c8e-00cd-426e-9a0c-6d818780695d div.sk-parallel-item:last-child::after {align-self: flex-start;width: 50%;}#sk-ed8a4c8e-00cd-426e-9a0c-6d818780695d div.sk-parallel-item:only-child::after {width: 0;}#sk-ed8a4c8e-00cd-426e-9a0c-6d818780695d div.sk-dashed-wrapped {border: 1px dashed gray;margin: 0 0.4em 0.5em 0.4em;box-sizing: border-box;padding-bottom: 0.4em;background-color: white;position: relative;}#sk-ed8a4c8e-00cd-426e-9a0c-6d818780695d div.sk-label label {font-family: monospace;font-weight: bold;background-color: white;display: inline-block;line-height: 1.2em;}#sk-ed8a4c8e-00cd-426e-9a0c-6d818780695d div.sk-label-container {position: relative;z-index: 2;text-align: center;}#sk-ed8a4c8e-00cd-426e-9a0c-6d818780695d div.sk-container {display: inline-block;position: relative;}</style><div id=\"sk-ed8a4c8e-00cd-426e-9a0c-6d818780695d\" class\"sk-top-container\"><div class=\"sk-container\"><div class=\"sk-item sk-dashed-wrapped\"><div class=\"sk-label-container\"><div class=\"sk-label sk-toggleable\"><input class=\"sk-toggleable__control sk-hidden--visually\" id=\"7dee84a2-52ac-4f22-bf4e-190a8b78f734\" type=\"checkbox\" ><label class=\"sk-toggleable__label\" for=\"7dee84a2-52ac-4f22-bf4e-190a8b78f734\">FeatureUnion</label><div class=\"sk-toggleable__content\"><pre>FeatureUnion(transformer_list=[('preprocessess',\n",
       "                                ColumnTransformer(transformers=[('num_encoder',\n",
       "                                                                 MinMaxScaler(),\n",
       "                                                                 <sklearn.compose._column_transformer.make_column_selector object at 0x179788520>),\n",
       "                                                                ('cat_encoder',\n",
       "                                                                 OneHotEncoder(handle_unknown='ignore',\n",
       "                                                                               sparse=False),\n",
       "                                                                 <sklearn.compose._column_transformer.make_column_selector object at 0x1797885e0>)])),\n",
       "                               ('compute_volume',\n",
       "                                Pipeline(steps=[('compute_volume',\n",
       "                                                 FunctionTransformer(func=<function multiply at 0x179768af0>)),\n",
       "                                                ('scale_volume',\n",
       "                                                 MinMaxScaler())]))])</pre></div></div></div><div class=\"sk-parallel\"><div class=\"sk-parallel-item\"><div class=\"sk-item\"><div class=\"sk-label-container\"><div class=\"sk-label sk-toggleable\"><label>preprocessess</label></div></div><div class=\"sk-serial\"><div class=\"sk-item sk-dashed-wrapped\"><div class=\"sk-parallel\"><div class=\"sk-parallel-item\"><div class=\"sk-item\"><div class=\"sk-label-container\"><div class=\"sk-label sk-toggleable\"><input class=\"sk-toggleable__control sk-hidden--visually\" id=\"8b1387a4-3dc3-42a7-9bc9-ff92b1d8b786\" type=\"checkbox\" ><label class=\"sk-toggleable__label\" for=\"8b1387a4-3dc3-42a7-9bc9-ff92b1d8b786\">num_encoder</label><div class=\"sk-toggleable__content\"><pre><sklearn.compose._column_transformer.make_column_selector object at 0x179788520></pre></div></div></div><div class=\"sk-serial\"><div class=\"sk-item\"><div class=\"sk-estimator sk-toggleable\"><input class=\"sk-toggleable__control sk-hidden--visually\" id=\"56c2a83f-296f-4141-903e-9d2b6e94e30e\" type=\"checkbox\" ><label class=\"sk-toggleable__label\" for=\"56c2a83f-296f-4141-903e-9d2b6e94e30e\">MinMaxScaler</label><div class=\"sk-toggleable__content\"><pre>MinMaxScaler()</pre></div></div></div></div></div></div><div class=\"sk-parallel-item\"><div class=\"sk-item\"><div class=\"sk-label-container\"><div class=\"sk-label sk-toggleable\"><input class=\"sk-toggleable__control sk-hidden--visually\" id=\"8fb1e4e7-19e8-41d6-86d6-4c05cd903e43\" type=\"checkbox\" ><label class=\"sk-toggleable__label\" for=\"8fb1e4e7-19e8-41d6-86d6-4c05cd903e43\">cat_encoder</label><div class=\"sk-toggleable__content\"><pre><sklearn.compose._column_transformer.make_column_selector object at 0x1797885e0></pre></div></div></div><div class=\"sk-serial\"><div class=\"sk-item\"><div class=\"sk-estimator sk-toggleable\"><input class=\"sk-toggleable__control sk-hidden--visually\" id=\"c9fecb42-cb75-4c3b-9d47-f23a965b84af\" type=\"checkbox\" ><label class=\"sk-toggleable__label\" for=\"c9fecb42-cb75-4c3b-9d47-f23a965b84af\">OneHotEncoder</label><div class=\"sk-toggleable__content\"><pre>OneHotEncoder(handle_unknown='ignore', sparse=False)</pre></div></div></div></div></div></div></div></div></div></div></div><div class=\"sk-parallel-item\"><div class=\"sk-item\"><div class=\"sk-label-container\"><div class=\"sk-label sk-toggleable\"><label>compute_volume</label></div></div><div class=\"sk-serial\"><div class=\"sk-item\"><div class=\"sk-serial\"><div class=\"sk-item\"><div class=\"sk-estimator sk-toggleable\"><input class=\"sk-toggleable__control sk-hidden--visually\" id=\"5a048ccc-024b-424b-bee8-2a0b3bc39854\" type=\"checkbox\" ><label class=\"sk-toggleable__label\" for=\"5a048ccc-024b-424b-bee8-2a0b3bc39854\">FunctionTransformer</label><div class=\"sk-toggleable__content\"><pre>FunctionTransformer(func=<function multiply at 0x179768af0>)</pre></div></div></div><div class=\"sk-item\"><div class=\"sk-estimator sk-toggleable\"><input class=\"sk-toggleable__control sk-hidden--visually\" id=\"29e276f1-0093-4fbe-ba86-03c6b5426a5c\" type=\"checkbox\" ><label class=\"sk-toggleable__label\" for=\"29e276f1-0093-4fbe-ba86-03c6b5426a5c\">MinMaxScaler</label><div class=\"sk-toggleable__content\"><pre>MinMaxScaler()</pre></div></div></div></div></div></div></div></div></div></div></div></div>"
      ],
      "text/plain": [
       "FeatureUnion(transformer_list=[('preprocessess',\n",
       "                                ColumnTransformer(transformers=[('num_encoder',\n",
       "                                                                 MinMaxScaler(),\n",
       "                                                                 <sklearn.compose._column_transformer.make_column_selector object at 0x179788520>),\n",
       "                                                                ('cat_encoder',\n",
       "                                                                 OneHotEncoder(handle_unknown='ignore',\n",
       "                                                                               sparse=False),\n",
       "                                                                 <sklearn.compose._column_transformer.make_column_selector object at 0x1797885e0>)])),\n",
       "                               ('compute_volume',\n",
       "                                Pipeline(steps=[('compute_volume',\n",
       "                                                 FunctionTransformer(func=<function multiply at 0x179768af0>)),\n",
       "                                                ('scale_volume',\n",
       "                                                 MinMaxScaler())]))])"
      ]
     },
     "execution_count": 9,
     "metadata": {},
     "output_type": "execute_result"
    }
   ],
   "source": [
    "preprocessor = ColumnTransformer([\n",
    "    ('num_encoder', MinMaxScaler(), make_column_selector(dtype_include=\"int64\")),\n",
    "    ('cat_encoder', OneHotEncoder(handle_unknown='ignore', sparse=False), make_column_selector(dtype_include=\"object\"))\n",
    "])\n",
    "\n",
    "def multiply(df):\n",
    "    return pd.DataFrame(df['product_length_cm'] * df['product_height_cm'] * df['product_width_cm'])\n",
    "    \n",
    "volume_computer = Pipeline([\n",
    "    ('compute_volume', FunctionTransformer(multiply)),\n",
    "    ('scale_volume', MinMaxScaler())\n",
    "])\n",
    "\n",
    "final_preprocessor2 = FeatureUnion([\n",
    "    ('preprocessess', preprocessor),\n",
    "    ('compute_volume', volume_computer)\n",
    "])\n",
    "final_preprocessor2"
   ]
  },
  {
   "cell_type": "code",
   "execution_count": 10,
   "metadata": {},
   "outputs": [
    {
     "data": {
      "text/html": [
       "<div>\n",
       "<style scoped>\n",
       "    .dataframe tbody tr th:only-of-type {\n",
       "        vertical-align: middle;\n",
       "    }\n",
       "\n",
       "    .dataframe tbody tr th {\n",
       "        vertical-align: top;\n",
       "    }\n",
       "\n",
       "    .dataframe thead th {\n",
       "        text-align: right;\n",
       "    }\n",
       "</style>\n",
       "<table border=\"1\" class=\"dataframe\">\n",
       "  <thead>\n",
       "    <tr style=\"text-align: right;\">\n",
       "      <th></th>\n",
       "      <th>0</th>\n",
       "      <th>1</th>\n",
       "      <th>2</th>\n",
       "      <th>3</th>\n",
       "      <th>4</th>\n",
       "      <th>5</th>\n",
       "      <th>6</th>\n",
       "      <th>7</th>\n",
       "      <th>8</th>\n",
       "      <th>9</th>\n",
       "      <th>...</th>\n",
       "      <th>22</th>\n",
       "      <th>23</th>\n",
       "      <th>24</th>\n",
       "      <th>25</th>\n",
       "      <th>26</th>\n",
       "      <th>27</th>\n",
       "      <th>28</th>\n",
       "      <th>29</th>\n",
       "      <th>30</th>\n",
       "      <th>31</th>\n",
       "    </tr>\n",
       "  </thead>\n",
       "  <tbody>\n",
       "    <tr>\n",
       "      <th>0</th>\n",
       "      <td>0.057692</td>\n",
       "      <td>0.402439</td>\n",
       "      <td>0.056818</td>\n",
       "      <td>0.271028</td>\n",
       "      <td>0.0</td>\n",
       "      <td>0.0</td>\n",
       "      <td>0.0</td>\n",
       "      <td>0.0</td>\n",
       "      <td>0.0</td>\n",
       "      <td>0.0</td>\n",
       "      <td>...</td>\n",
       "      <td>0.0</td>\n",
       "      <td>0.0</td>\n",
       "      <td>0.0</td>\n",
       "      <td>0.0</td>\n",
       "      <td>0.0</td>\n",
       "      <td>0.0</td>\n",
       "      <td>0.0</td>\n",
       "      <td>0.0</td>\n",
       "      <td>1.0</td>\n",
       "      <td>0.079177</td>\n",
       "    </tr>\n",
       "    <tr>\n",
       "      <th>1</th>\n",
       "      <td>0.020067</td>\n",
       "      <td>0.548780</td>\n",
       "      <td>0.147727</td>\n",
       "      <td>0.158879</td>\n",
       "      <td>0.0</td>\n",
       "      <td>0.0</td>\n",
       "      <td>0.0</td>\n",
       "      <td>0.0</td>\n",
       "      <td>0.0</td>\n",
       "      <td>0.0</td>\n",
       "      <td>...</td>\n",
       "      <td>0.0</td>\n",
       "      <td>0.0</td>\n",
       "      <td>0.0</td>\n",
       "      <td>0.0</td>\n",
       "      <td>0.0</td>\n",
       "      <td>0.0</td>\n",
       "      <td>0.0</td>\n",
       "      <td>0.0</td>\n",
       "      <td>1.0</td>\n",
       "      <td>0.125218</td>\n",
       "    </tr>\n",
       "    <tr>\n",
       "      <th>2</th>\n",
       "      <td>0.057692</td>\n",
       "      <td>0.402439</td>\n",
       "      <td>0.056818</td>\n",
       "      <td>0.271028</td>\n",
       "      <td>0.0</td>\n",
       "      <td>0.0</td>\n",
       "      <td>0.0</td>\n",
       "      <td>0.0</td>\n",
       "      <td>0.0</td>\n",
       "      <td>0.0</td>\n",
       "      <td>...</td>\n",
       "      <td>0.0</td>\n",
       "      <td>0.0</td>\n",
       "      <td>0.0</td>\n",
       "      <td>0.0</td>\n",
       "      <td>0.0</td>\n",
       "      <td>0.0</td>\n",
       "      <td>0.0</td>\n",
       "      <td>0.0</td>\n",
       "      <td>1.0</td>\n",
       "      <td>0.079177</td>\n",
       "    </tr>\n",
       "    <tr>\n",
       "      <th>3</th>\n",
       "      <td>0.057692</td>\n",
       "      <td>0.402439</td>\n",
       "      <td>0.056818</td>\n",
       "      <td>0.271028</td>\n",
       "      <td>0.0</td>\n",
       "      <td>0.0</td>\n",
       "      <td>0.0</td>\n",
       "      <td>0.0</td>\n",
       "      <td>0.0</td>\n",
       "      <td>0.0</td>\n",
       "      <td>...</td>\n",
       "      <td>0.0</td>\n",
       "      <td>0.0</td>\n",
       "      <td>0.0</td>\n",
       "      <td>0.0</td>\n",
       "      <td>0.0</td>\n",
       "      <td>0.0</td>\n",
       "      <td>0.0</td>\n",
       "      <td>0.0</td>\n",
       "      <td>1.0</td>\n",
       "      <td>0.079177</td>\n",
       "    </tr>\n",
       "    <tr>\n",
       "      <th>4</th>\n",
       "      <td>0.057692</td>\n",
       "      <td>0.402439</td>\n",
       "      <td>0.056818</td>\n",
       "      <td>0.271028</td>\n",
       "      <td>0.0</td>\n",
       "      <td>0.0</td>\n",
       "      <td>0.0</td>\n",
       "      <td>0.0</td>\n",
       "      <td>0.0</td>\n",
       "      <td>0.0</td>\n",
       "      <td>...</td>\n",
       "      <td>0.0</td>\n",
       "      <td>0.0</td>\n",
       "      <td>0.0</td>\n",
       "      <td>0.0</td>\n",
       "      <td>0.0</td>\n",
       "      <td>0.0</td>\n",
       "      <td>0.0</td>\n",
       "      <td>0.0</td>\n",
       "      <td>1.0</td>\n",
       "      <td>0.079177</td>\n",
       "    </tr>\n",
       "  </tbody>\n",
       "</table>\n",
       "<p>5 rows × 32 columns</p>\n",
       "</div>"
      ],
      "text/plain": [
       "         0         1         2         3    4    5    6    7    8    9   ...  \\\n",
       "0  0.057692  0.402439  0.056818  0.271028  0.0  0.0  0.0  0.0  0.0  0.0  ...   \n",
       "1  0.020067  0.548780  0.147727  0.158879  0.0  0.0  0.0  0.0  0.0  0.0  ...   \n",
       "2  0.057692  0.402439  0.056818  0.271028  0.0  0.0  0.0  0.0  0.0  0.0  ...   \n",
       "3  0.057692  0.402439  0.056818  0.271028  0.0  0.0  0.0  0.0  0.0  0.0  ...   \n",
       "4  0.057692  0.402439  0.056818  0.271028  0.0  0.0  0.0  0.0  0.0  0.0  ...   \n",
       "\n",
       "    22   23   24   25   26   27   28   29   30        31  \n",
       "0  0.0  0.0  0.0  0.0  0.0  0.0  0.0  0.0  1.0  0.079177  \n",
       "1  0.0  0.0  0.0  0.0  0.0  0.0  0.0  0.0  1.0  0.125218  \n",
       "2  0.0  0.0  0.0  0.0  0.0  0.0  0.0  0.0  1.0  0.079177  \n",
       "3  0.0  0.0  0.0  0.0  0.0  0.0  0.0  0.0  1.0  0.079177  \n",
       "4  0.0  0.0  0.0  0.0  0.0  0.0  0.0  0.0  1.0  0.079177  \n",
       "\n",
       "[5 rows x 32 columns]"
      ]
     },
     "execution_count": 10,
     "metadata": {},
     "output_type": "execute_result"
    }
   ],
   "source": [
    "pd.DataFrame(final_preprocessor2.fit_transform(X)).head()"
   ]
  },
  {
   "cell_type": "markdown",
   "metadata": {},
   "source": [
    "#### Preprocessing Solution 2: Custom transformer class (overkill)"
   ]
  },
  {
   "cell_type": "code",
   "execution_count": 11,
   "metadata": {},
   "outputs": [],
   "source": [
    "# Create a class\n",
    "class ColumnMultiplier(TransformerMixin, BaseEstimator): \n",
    "# TransformerMixin generates a fit_transform method from fit and transform\n",
    "# BaseEstimator generates get_params and set_params methods\n",
    "    \n",
    "    # Create parameters \"column_1\", \"column_2\", \"column_3\" to choose which columns of dataframe to multiply\n",
    "    def __init__(self, column_1, column_2, column_3):\n",
    "        self.column_1 = column_1\n",
    "        self.column_2 = column_2\n",
    "        self.column_3 = column_3\n",
    "        \n",
    "    def fit(self, X, y=None):\n",
    "        return self\n",
    "    \n",
    "    def transform(self, X, y=None):\n",
    "        \n",
    "        # Multiplication\n",
    "        multiplied_features =X[self.column_1]*X[self.column_2]*X[self.column_3]\n",
    "        \n",
    "        # Return result as dataframe (for integration into ColumnTransformer)\n",
    "        return pd.DataFrame(multiplied_features, columns=['volume'])"
   ]
  },
  {
   "cell_type": "code",
   "execution_count": 12,
   "metadata": {},
   "outputs": [],
   "source": [
    "# Plug custom transformer into a feature engineering ColumnTransformer\n",
    "# Select and preserve the original features\n",
    "feature_engineering = ColumnTransformer([\n",
    "    ('column_multiplier', ColumnMultiplier(column_1=\"product_length_cm\",\n",
    "                                           column_2=\"product_height_cm\",\n",
    "                                           column_3=\"product_width_cm\"),\n",
    "     ['product_length_cm', 'product_height_cm', \"product_width_cm\"]),\n",
    "\n",
    "    ('select_original_features', FunctionTransformer(lambda x: x), ['product_length_cm',\n",
    "                                                                    'product_height_cm',\n",
    "                                                                    'product_width_cm',\n",
    "                                                                    'product_weight_g'])])\n",
    "\n",
    "# Chain the feature engineering transformer with a scaler\n",
    "numerical_pipe = Pipeline([\n",
    "    ('engineering', feature_engineering),\n",
    "    ('scaling', MinMaxScaler())])\n",
    "\n",
    "# Create a final preprocessing pipeline that combines the above pipeline with a One hot encoder for categorical features\n",
    "final_preprocessor3 = ColumnTransformer([\n",
    "    ('categorical_preprocessing', OneHotEncoder(sparse=False,\n",
    "                                                handle_unknown='ignore'), make_column_selector(dtype_include=\"object\")),\n",
    "    ('numerical_preprocessing', numerical_pipe, make_column_selector(dtype_include=\"int64\"))])"
   ]
  },
  {
   "cell_type": "code",
   "execution_count": 13,
   "metadata": {},
   "outputs": [
    {
     "data": {
      "text/html": [
       "<style>#sk-fe53145e-5ad8-4ee7-b8d9-746abd4caf9c {color: black;background-color: white;}#sk-fe53145e-5ad8-4ee7-b8d9-746abd4caf9c pre{padding: 0;}#sk-fe53145e-5ad8-4ee7-b8d9-746abd4caf9c div.sk-toggleable {background-color: white;}#sk-fe53145e-5ad8-4ee7-b8d9-746abd4caf9c label.sk-toggleable__label {cursor: pointer;display: block;width: 100%;margin-bottom: 0;padding: 0.3em;box-sizing: border-box;text-align: center;}#sk-fe53145e-5ad8-4ee7-b8d9-746abd4caf9c div.sk-toggleable__content {max-height: 0;max-width: 0;overflow: hidden;text-align: left;background-color: #f0f8ff;}#sk-fe53145e-5ad8-4ee7-b8d9-746abd4caf9c div.sk-toggleable__content pre {margin: 0.2em;color: black;border-radius: 0.25em;background-color: #f0f8ff;}#sk-fe53145e-5ad8-4ee7-b8d9-746abd4caf9c input.sk-toggleable__control:checked~div.sk-toggleable__content {max-height: 200px;max-width: 100%;overflow: auto;}#sk-fe53145e-5ad8-4ee7-b8d9-746abd4caf9c div.sk-estimator input.sk-toggleable__control:checked~label.sk-toggleable__label {background-color: #d4ebff;}#sk-fe53145e-5ad8-4ee7-b8d9-746abd4caf9c div.sk-label input.sk-toggleable__control:checked~label.sk-toggleable__label {background-color: #d4ebff;}#sk-fe53145e-5ad8-4ee7-b8d9-746abd4caf9c input.sk-hidden--visually {border: 0;clip: rect(1px 1px 1px 1px);clip: rect(1px, 1px, 1px, 1px);height: 1px;margin: -1px;overflow: hidden;padding: 0;position: absolute;width: 1px;}#sk-fe53145e-5ad8-4ee7-b8d9-746abd4caf9c div.sk-estimator {font-family: monospace;background-color: #f0f8ff;border: 1px dotted black;border-radius: 0.25em;box-sizing: border-box;margin-bottom: 0.5em;}#sk-fe53145e-5ad8-4ee7-b8d9-746abd4caf9c div.sk-estimator:hover {background-color: #d4ebff;}#sk-fe53145e-5ad8-4ee7-b8d9-746abd4caf9c div.sk-parallel-item::after {content: \"\";width: 100%;border-bottom: 1px solid gray;flex-grow: 1;}#sk-fe53145e-5ad8-4ee7-b8d9-746abd4caf9c div.sk-label:hover label.sk-toggleable__label {background-color: #d4ebff;}#sk-fe53145e-5ad8-4ee7-b8d9-746abd4caf9c div.sk-serial::before {content: \"\";position: absolute;border-left: 1px solid gray;box-sizing: border-box;top: 2em;bottom: 0;left: 50%;}#sk-fe53145e-5ad8-4ee7-b8d9-746abd4caf9c div.sk-serial {display: flex;flex-direction: column;align-items: center;background-color: white;padding-right: 0.2em;padding-left: 0.2em;}#sk-fe53145e-5ad8-4ee7-b8d9-746abd4caf9c div.sk-item {z-index: 1;}#sk-fe53145e-5ad8-4ee7-b8d9-746abd4caf9c div.sk-parallel {display: flex;align-items: stretch;justify-content: center;background-color: white;}#sk-fe53145e-5ad8-4ee7-b8d9-746abd4caf9c div.sk-parallel::before {content: \"\";position: absolute;border-left: 1px solid gray;box-sizing: border-box;top: 2em;bottom: 0;left: 50%;}#sk-fe53145e-5ad8-4ee7-b8d9-746abd4caf9c div.sk-parallel-item {display: flex;flex-direction: column;position: relative;background-color: white;}#sk-fe53145e-5ad8-4ee7-b8d9-746abd4caf9c div.sk-parallel-item:first-child::after {align-self: flex-end;width: 50%;}#sk-fe53145e-5ad8-4ee7-b8d9-746abd4caf9c div.sk-parallel-item:last-child::after {align-self: flex-start;width: 50%;}#sk-fe53145e-5ad8-4ee7-b8d9-746abd4caf9c div.sk-parallel-item:only-child::after {width: 0;}#sk-fe53145e-5ad8-4ee7-b8d9-746abd4caf9c div.sk-dashed-wrapped {border: 1px dashed gray;margin: 0 0.4em 0.5em 0.4em;box-sizing: border-box;padding-bottom: 0.4em;background-color: white;position: relative;}#sk-fe53145e-5ad8-4ee7-b8d9-746abd4caf9c div.sk-label label {font-family: monospace;font-weight: bold;background-color: white;display: inline-block;line-height: 1.2em;}#sk-fe53145e-5ad8-4ee7-b8d9-746abd4caf9c div.sk-label-container {position: relative;z-index: 2;text-align: center;}#sk-fe53145e-5ad8-4ee7-b8d9-746abd4caf9c div.sk-container {display: inline-block;position: relative;}</style><div id=\"sk-fe53145e-5ad8-4ee7-b8d9-746abd4caf9c\" class\"sk-top-container\"><div class=\"sk-container\"><div class=\"sk-item sk-dashed-wrapped\"><div class=\"sk-label-container\"><div class=\"sk-label sk-toggleable\"><input class=\"sk-toggleable__control sk-hidden--visually\" id=\"0926fe38-eb18-4981-a63f-95e3f425a616\" type=\"checkbox\" ><label class=\"sk-toggleable__label\" for=\"0926fe38-eb18-4981-a63f-95e3f425a616\">ColumnTransformer</label><div class=\"sk-toggleable__content\"><pre>ColumnTransformer(transformers=[('categorical_preprocessing',\n",
       "                                 OneHotEncoder(handle_unknown='ignore',\n",
       "                                               sparse=False),\n",
       "                                 <sklearn.compose._column_transformer.make_column_selector object at 0x179788220>),\n",
       "                                ('numerical_preprocessing',\n",
       "                                 Pipeline(steps=[('engineering',\n",
       "                                                  ColumnTransformer(transformers=[('column_multiplier',\n",
       "                                                                                   ColumnMultiplier(column_1='product_length_cm',\n",
       "                                                                                                    c...\n",
       "                                                                                                    column_3='product_width_cm'),\n",
       "                                                                                   ['product_length_cm',\n",
       "                                                                                    'product_height_cm',\n",
       "                                                                                    'product_width_cm']),\n",
       "                                                                                  ('select_original_features',\n",
       "                                                                                   FunctionTransformer(func=<function <lambda> at 0x1796ba280>),\n",
       "                                                                                   ['product_length_cm',\n",
       "                                                                                    'product_height_cm',\n",
       "                                                                                    'product_width_cm',\n",
       "                                                                                    'product_weight_g'])])),\n",
       "                                                 ('scaling', MinMaxScaler())]),\n",
       "                                 <sklearn.compose._column_transformer.make_column_selector object at 0x1797883d0>)])</pre></div></div></div><div class=\"sk-parallel\"><div class=\"sk-parallel-item\"><div class=\"sk-item\"><div class=\"sk-label-container\"><div class=\"sk-label sk-toggleable\"><input class=\"sk-toggleable__control sk-hidden--visually\" id=\"5301a14a-a025-4b81-95ef-27f7dd22cbff\" type=\"checkbox\" ><label class=\"sk-toggleable__label\" for=\"5301a14a-a025-4b81-95ef-27f7dd22cbff\">categorical_preprocessing</label><div class=\"sk-toggleable__content\"><pre><sklearn.compose._column_transformer.make_column_selector object at 0x179788220></pre></div></div></div><div class=\"sk-serial\"><div class=\"sk-item\"><div class=\"sk-estimator sk-toggleable\"><input class=\"sk-toggleable__control sk-hidden--visually\" id=\"7c0447c4-9ea4-42ac-99f0-4dd78fd2dec2\" type=\"checkbox\" ><label class=\"sk-toggleable__label\" for=\"7c0447c4-9ea4-42ac-99f0-4dd78fd2dec2\">OneHotEncoder</label><div class=\"sk-toggleable__content\"><pre>OneHotEncoder(handle_unknown='ignore', sparse=False)</pre></div></div></div></div></div></div><div class=\"sk-parallel-item\"><div class=\"sk-item\"><div class=\"sk-label-container\"><div class=\"sk-label sk-toggleable\"><input class=\"sk-toggleable__control sk-hidden--visually\" id=\"3079bfaa-5361-4860-ac0c-8c8b8e767db9\" type=\"checkbox\" ><label class=\"sk-toggleable__label\" for=\"3079bfaa-5361-4860-ac0c-8c8b8e767db9\">numerical_preprocessing</label><div class=\"sk-toggleable__content\"><pre><sklearn.compose._column_transformer.make_column_selector object at 0x1797883d0></pre></div></div></div><div class=\"sk-serial\"><div class=\"sk-item\"><div class=\"sk-serial\"><div class=\"sk-item sk-dashed-wrapped\"><div class=\"sk-label-container\"><div class=\"sk-label sk-toggleable\"><input class=\"sk-toggleable__control sk-hidden--visually\" id=\"4f28211d-776d-4eda-8859-f1bb7012591d\" type=\"checkbox\" ><label class=\"sk-toggleable__label\" for=\"4f28211d-776d-4eda-8859-f1bb7012591d\">engineering: ColumnTransformer</label><div class=\"sk-toggleable__content\"><pre>ColumnTransformer(transformers=[('column_multiplier',\n",
       "                                 ColumnMultiplier(column_1='product_length_cm',\n",
       "                                                  column_2='product_height_cm',\n",
       "                                                  column_3='product_width_cm'),\n",
       "                                 ['product_length_cm', 'product_height_cm',\n",
       "                                  'product_width_cm']),\n",
       "                                ('select_original_features',\n",
       "                                 FunctionTransformer(func=<function <lambda> at 0x1796ba280>),\n",
       "                                 ['product_length_cm', 'product_height_cm',\n",
       "                                  'product_width_cm', 'product_weight_g'])])</pre></div></div></div><div class=\"sk-parallel\"><div class=\"sk-parallel-item\"><div class=\"sk-item\"><div class=\"sk-label-container\"><div class=\"sk-label sk-toggleable\"><input class=\"sk-toggleable__control sk-hidden--visually\" id=\"332354b0-d865-4652-89bd-b46f594fc832\" type=\"checkbox\" ><label class=\"sk-toggleable__label\" for=\"332354b0-d865-4652-89bd-b46f594fc832\">column_multiplier</label><div class=\"sk-toggleable__content\"><pre>['product_length_cm', 'product_height_cm', 'product_width_cm']</pre></div></div></div><div class=\"sk-serial\"><div class=\"sk-item\"><div class=\"sk-estimator sk-toggleable\"><input class=\"sk-toggleable__control sk-hidden--visually\" id=\"c54505f8-a569-48a4-bd0f-39cfd483abcb\" type=\"checkbox\" ><label class=\"sk-toggleable__label\" for=\"c54505f8-a569-48a4-bd0f-39cfd483abcb\">ColumnMultiplier</label><div class=\"sk-toggleable__content\"><pre>ColumnMultiplier(column_1='product_length_cm', column_2='product_height_cm',\n",
       "                 column_3='product_width_cm')</pre></div></div></div></div></div></div><div class=\"sk-parallel-item\"><div class=\"sk-item\"><div class=\"sk-label-container\"><div class=\"sk-label sk-toggleable\"><input class=\"sk-toggleable__control sk-hidden--visually\" id=\"a3ca5433-3372-4e3d-8972-fa5509883f21\" type=\"checkbox\" ><label class=\"sk-toggleable__label\" for=\"a3ca5433-3372-4e3d-8972-fa5509883f21\">select_original_features</label><div class=\"sk-toggleable__content\"><pre>['product_length_cm', 'product_height_cm', 'product_width_cm', 'product_weight_g']</pre></div></div></div><div class=\"sk-serial\"><div class=\"sk-item\"><div class=\"sk-estimator sk-toggleable\"><input class=\"sk-toggleable__control sk-hidden--visually\" id=\"1a232e6e-4837-415f-ad3e-378b980fff53\" type=\"checkbox\" ><label class=\"sk-toggleable__label\" for=\"1a232e6e-4837-415f-ad3e-378b980fff53\">FunctionTransformer</label><div class=\"sk-toggleable__content\"><pre>FunctionTransformer(func=<function <lambda> at 0x1796ba280>)</pre></div></div></div></div></div></div></div></div><div class=\"sk-item\"><div class=\"sk-estimator sk-toggleable\"><input class=\"sk-toggleable__control sk-hidden--visually\" id=\"d01c92b0-e57d-4386-8c4c-f1d5be0ecdf0\" type=\"checkbox\" ><label class=\"sk-toggleable__label\" for=\"d01c92b0-e57d-4386-8c4c-f1d5be0ecdf0\">MinMaxScaler</label><div class=\"sk-toggleable__content\"><pre>MinMaxScaler()</pre></div></div></div></div></div></div></div></div></div></div></div></div>"
      ],
      "text/plain": [
       "ColumnTransformer(transformers=[('categorical_preprocessing',\n",
       "                                 OneHotEncoder(handle_unknown='ignore',\n",
       "                                               sparse=False),\n",
       "                                 <sklearn.compose._column_transformer.make_column_selector object at 0x179788220>),\n",
       "                                ('numerical_preprocessing',\n",
       "                                 Pipeline(steps=[('engineering',\n",
       "                                                  ColumnTransformer(transformers=[('column_multiplier',\n",
       "                                                                                   ColumnMultiplier(column_1='product_length_cm',\n",
       "                                                                                                    c...\n",
       "                                                                                                    column_3='product_width_cm'),\n",
       "                                                                                   ['product_length_cm',\n",
       "                                                                                    'product_height_cm',\n",
       "                                                                                    'product_width_cm']),\n",
       "                                                                                  ('select_original_features',\n",
       "                                                                                   FunctionTransformer(func=<function <lambda> at 0x1796ba280>),\n",
       "                                                                                   ['product_length_cm',\n",
       "                                                                                    'product_height_cm',\n",
       "                                                                                    'product_width_cm',\n",
       "                                                                                    'product_weight_g'])])),\n",
       "                                                 ('scaling', MinMaxScaler())]),\n",
       "                                 <sklearn.compose._column_transformer.make_column_selector object at 0x1797883d0>)])"
      ]
     },
     "execution_count": 13,
     "metadata": {},
     "output_type": "execute_result"
    }
   ],
   "source": [
    "final_preprocessor3"
   ]
  },
  {
   "cell_type": "code",
   "execution_count": 14,
   "metadata": {},
   "outputs": [
    {
     "data": {
      "text/html": [
       "<div>\n",
       "<style scoped>\n",
       "    .dataframe tbody tr th:only-of-type {\n",
       "        vertical-align: middle;\n",
       "    }\n",
       "\n",
       "    .dataframe tbody tr th {\n",
       "        vertical-align: top;\n",
       "    }\n",
       "\n",
       "    .dataframe thead th {\n",
       "        text-align: right;\n",
       "    }\n",
       "</style>\n",
       "<table border=\"1\" class=\"dataframe\">\n",
       "  <thead>\n",
       "    <tr style=\"text-align: right;\">\n",
       "      <th></th>\n",
       "      <th>0</th>\n",
       "      <th>1</th>\n",
       "      <th>2</th>\n",
       "      <th>3</th>\n",
       "      <th>4</th>\n",
       "      <th>5</th>\n",
       "      <th>6</th>\n",
       "      <th>7</th>\n",
       "      <th>8</th>\n",
       "      <th>9</th>\n",
       "      <th>...</th>\n",
       "      <th>22</th>\n",
       "      <th>23</th>\n",
       "      <th>24</th>\n",
       "      <th>25</th>\n",
       "      <th>26</th>\n",
       "      <th>27</th>\n",
       "      <th>28</th>\n",
       "      <th>29</th>\n",
       "      <th>30</th>\n",
       "      <th>31</th>\n",
       "    </tr>\n",
       "  </thead>\n",
       "  <tbody>\n",
       "    <tr>\n",
       "      <th>0</th>\n",
       "      <td>0.0</td>\n",
       "      <td>0.0</td>\n",
       "      <td>0.0</td>\n",
       "      <td>0.0</td>\n",
       "      <td>0.0</td>\n",
       "      <td>0.0</td>\n",
       "      <td>0.0</td>\n",
       "      <td>0.0</td>\n",
       "      <td>0.0</td>\n",
       "      <td>0.0</td>\n",
       "      <td>...</td>\n",
       "      <td>0.0</td>\n",
       "      <td>0.0</td>\n",
       "      <td>0.0</td>\n",
       "      <td>0.0</td>\n",
       "      <td>1.0</td>\n",
       "      <td>0.079177</td>\n",
       "      <td>0.402439</td>\n",
       "      <td>0.056818</td>\n",
       "      <td>0.271028</td>\n",
       "      <td>0.057692</td>\n",
       "    </tr>\n",
       "    <tr>\n",
       "      <th>1</th>\n",
       "      <td>0.0</td>\n",
       "      <td>0.0</td>\n",
       "      <td>0.0</td>\n",
       "      <td>0.0</td>\n",
       "      <td>0.0</td>\n",
       "      <td>0.0</td>\n",
       "      <td>0.0</td>\n",
       "      <td>0.0</td>\n",
       "      <td>0.0</td>\n",
       "      <td>0.0</td>\n",
       "      <td>...</td>\n",
       "      <td>0.0</td>\n",
       "      <td>0.0</td>\n",
       "      <td>0.0</td>\n",
       "      <td>0.0</td>\n",
       "      <td>1.0</td>\n",
       "      <td>0.125218</td>\n",
       "      <td>0.548780</td>\n",
       "      <td>0.147727</td>\n",
       "      <td>0.158879</td>\n",
       "      <td>0.020067</td>\n",
       "    </tr>\n",
       "    <tr>\n",
       "      <th>2</th>\n",
       "      <td>0.0</td>\n",
       "      <td>0.0</td>\n",
       "      <td>0.0</td>\n",
       "      <td>0.0</td>\n",
       "      <td>0.0</td>\n",
       "      <td>0.0</td>\n",
       "      <td>0.0</td>\n",
       "      <td>0.0</td>\n",
       "      <td>0.0</td>\n",
       "      <td>0.0</td>\n",
       "      <td>...</td>\n",
       "      <td>0.0</td>\n",
       "      <td>0.0</td>\n",
       "      <td>0.0</td>\n",
       "      <td>0.0</td>\n",
       "      <td>1.0</td>\n",
       "      <td>0.079177</td>\n",
       "      <td>0.402439</td>\n",
       "      <td>0.056818</td>\n",
       "      <td>0.271028</td>\n",
       "      <td>0.057692</td>\n",
       "    </tr>\n",
       "    <tr>\n",
       "      <th>3</th>\n",
       "      <td>0.0</td>\n",
       "      <td>0.0</td>\n",
       "      <td>0.0</td>\n",
       "      <td>0.0</td>\n",
       "      <td>0.0</td>\n",
       "      <td>0.0</td>\n",
       "      <td>0.0</td>\n",
       "      <td>0.0</td>\n",
       "      <td>0.0</td>\n",
       "      <td>0.0</td>\n",
       "      <td>...</td>\n",
       "      <td>0.0</td>\n",
       "      <td>0.0</td>\n",
       "      <td>0.0</td>\n",
       "      <td>0.0</td>\n",
       "      <td>1.0</td>\n",
       "      <td>0.079177</td>\n",
       "      <td>0.402439</td>\n",
       "      <td>0.056818</td>\n",
       "      <td>0.271028</td>\n",
       "      <td>0.057692</td>\n",
       "    </tr>\n",
       "    <tr>\n",
       "      <th>4</th>\n",
       "      <td>0.0</td>\n",
       "      <td>0.0</td>\n",
       "      <td>0.0</td>\n",
       "      <td>0.0</td>\n",
       "      <td>0.0</td>\n",
       "      <td>0.0</td>\n",
       "      <td>0.0</td>\n",
       "      <td>0.0</td>\n",
       "      <td>0.0</td>\n",
       "      <td>0.0</td>\n",
       "      <td>...</td>\n",
       "      <td>0.0</td>\n",
       "      <td>0.0</td>\n",
       "      <td>0.0</td>\n",
       "      <td>0.0</td>\n",
       "      <td>1.0</td>\n",
       "      <td>0.079177</td>\n",
       "      <td>0.402439</td>\n",
       "      <td>0.056818</td>\n",
       "      <td>0.271028</td>\n",
       "      <td>0.057692</td>\n",
       "    </tr>\n",
       "  </tbody>\n",
       "</table>\n",
       "<p>5 rows × 32 columns</p>\n",
       "</div>"
      ],
      "text/plain": [
       "    0    1    2    3    4    5    6    7    8    9   ...   22   23   24   25  \\\n",
       "0  0.0  0.0  0.0  0.0  0.0  0.0  0.0  0.0  0.0  0.0  ...  0.0  0.0  0.0  0.0   \n",
       "1  0.0  0.0  0.0  0.0  0.0  0.0  0.0  0.0  0.0  0.0  ...  0.0  0.0  0.0  0.0   \n",
       "2  0.0  0.0  0.0  0.0  0.0  0.0  0.0  0.0  0.0  0.0  ...  0.0  0.0  0.0  0.0   \n",
       "3  0.0  0.0  0.0  0.0  0.0  0.0  0.0  0.0  0.0  0.0  ...  0.0  0.0  0.0  0.0   \n",
       "4  0.0  0.0  0.0  0.0  0.0  0.0  0.0  0.0  0.0  0.0  ...  0.0  0.0  0.0  0.0   \n",
       "\n",
       "    26        27        28        29        30        31  \n",
       "0  1.0  0.079177  0.402439  0.056818  0.271028  0.057692  \n",
       "1  1.0  0.125218  0.548780  0.147727  0.158879  0.020067  \n",
       "2  1.0  0.079177  0.402439  0.056818  0.271028  0.057692  \n",
       "3  1.0  0.079177  0.402439  0.056818  0.271028  0.057692  \n",
       "4  1.0  0.079177  0.402439  0.056818  0.271028  0.057692  \n",
       "\n",
       "[5 rows x 32 columns]"
      ]
     },
     "execution_count": 14,
     "metadata": {},
     "output_type": "execute_result"
    }
   ],
   "source": [
    "pd.DataFrame(final_preprocessor3.fit_transform(X)).head()"
   ]
  },
  {
   "cell_type": "code",
   "execution_count": 15,
   "metadata": {},
   "outputs": [
    {
     "data": {
      "text/plain": [
       "(1000, 32)"
      ]
     },
     "execution_count": 15,
     "metadata": {},
     "output_type": "execute_result"
    }
   ],
   "source": [
    "final_preprocessor3.fit_transform(X).shape"
   ]
  },
  {
   "cell_type": "markdown",
   "metadata": {},
   "source": [
    "#### Full Pipe solution"
   ]
  },
  {
   "cell_type": "code",
   "execution_count": 16,
   "metadata": {
    "tags": [
     "delete_end"
    ]
   },
   "outputs": [
    {
     "data": {
      "text/html": [
       "<style>#sk-bc2123df-27ed-4db9-8a77-a8734bbec1ff {color: black;background-color: white;}#sk-bc2123df-27ed-4db9-8a77-a8734bbec1ff pre{padding: 0;}#sk-bc2123df-27ed-4db9-8a77-a8734bbec1ff div.sk-toggleable {background-color: white;}#sk-bc2123df-27ed-4db9-8a77-a8734bbec1ff label.sk-toggleable__label {cursor: pointer;display: block;width: 100%;margin-bottom: 0;padding: 0.3em;box-sizing: border-box;text-align: center;}#sk-bc2123df-27ed-4db9-8a77-a8734bbec1ff div.sk-toggleable__content {max-height: 0;max-width: 0;overflow: hidden;text-align: left;background-color: #f0f8ff;}#sk-bc2123df-27ed-4db9-8a77-a8734bbec1ff div.sk-toggleable__content pre {margin: 0.2em;color: black;border-radius: 0.25em;background-color: #f0f8ff;}#sk-bc2123df-27ed-4db9-8a77-a8734bbec1ff input.sk-toggleable__control:checked~div.sk-toggleable__content {max-height: 200px;max-width: 100%;overflow: auto;}#sk-bc2123df-27ed-4db9-8a77-a8734bbec1ff div.sk-estimator input.sk-toggleable__control:checked~label.sk-toggleable__label {background-color: #d4ebff;}#sk-bc2123df-27ed-4db9-8a77-a8734bbec1ff div.sk-label input.sk-toggleable__control:checked~label.sk-toggleable__label {background-color: #d4ebff;}#sk-bc2123df-27ed-4db9-8a77-a8734bbec1ff input.sk-hidden--visually {border: 0;clip: rect(1px 1px 1px 1px);clip: rect(1px, 1px, 1px, 1px);height: 1px;margin: -1px;overflow: hidden;padding: 0;position: absolute;width: 1px;}#sk-bc2123df-27ed-4db9-8a77-a8734bbec1ff div.sk-estimator {font-family: monospace;background-color: #f0f8ff;border: 1px dotted black;border-radius: 0.25em;box-sizing: border-box;margin-bottom: 0.5em;}#sk-bc2123df-27ed-4db9-8a77-a8734bbec1ff div.sk-estimator:hover {background-color: #d4ebff;}#sk-bc2123df-27ed-4db9-8a77-a8734bbec1ff div.sk-parallel-item::after {content: \"\";width: 100%;border-bottom: 1px solid gray;flex-grow: 1;}#sk-bc2123df-27ed-4db9-8a77-a8734bbec1ff div.sk-label:hover label.sk-toggleable__label {background-color: #d4ebff;}#sk-bc2123df-27ed-4db9-8a77-a8734bbec1ff div.sk-serial::before {content: \"\";position: absolute;border-left: 1px solid gray;box-sizing: border-box;top: 2em;bottom: 0;left: 50%;}#sk-bc2123df-27ed-4db9-8a77-a8734bbec1ff div.sk-serial {display: flex;flex-direction: column;align-items: center;background-color: white;padding-right: 0.2em;padding-left: 0.2em;}#sk-bc2123df-27ed-4db9-8a77-a8734bbec1ff div.sk-item {z-index: 1;}#sk-bc2123df-27ed-4db9-8a77-a8734bbec1ff div.sk-parallel {display: flex;align-items: stretch;justify-content: center;background-color: white;}#sk-bc2123df-27ed-4db9-8a77-a8734bbec1ff div.sk-parallel::before {content: \"\";position: absolute;border-left: 1px solid gray;box-sizing: border-box;top: 2em;bottom: 0;left: 50%;}#sk-bc2123df-27ed-4db9-8a77-a8734bbec1ff div.sk-parallel-item {display: flex;flex-direction: column;position: relative;background-color: white;}#sk-bc2123df-27ed-4db9-8a77-a8734bbec1ff div.sk-parallel-item:first-child::after {align-self: flex-end;width: 50%;}#sk-bc2123df-27ed-4db9-8a77-a8734bbec1ff div.sk-parallel-item:last-child::after {align-self: flex-start;width: 50%;}#sk-bc2123df-27ed-4db9-8a77-a8734bbec1ff div.sk-parallel-item:only-child::after {width: 0;}#sk-bc2123df-27ed-4db9-8a77-a8734bbec1ff div.sk-dashed-wrapped {border: 1px dashed gray;margin: 0 0.4em 0.5em 0.4em;box-sizing: border-box;padding-bottom: 0.4em;background-color: white;position: relative;}#sk-bc2123df-27ed-4db9-8a77-a8734bbec1ff div.sk-label label {font-family: monospace;font-weight: bold;background-color: white;display: inline-block;line-height: 1.2em;}#sk-bc2123df-27ed-4db9-8a77-a8734bbec1ff div.sk-label-container {position: relative;z-index: 2;text-align: center;}#sk-bc2123df-27ed-4db9-8a77-a8734bbec1ff div.sk-container {display: inline-block;position: relative;}</style><div id=\"sk-bc2123df-27ed-4db9-8a77-a8734bbec1ff\" class\"sk-top-container\"><div class=\"sk-container\"><div class=\"sk-item sk-dashed-wrapped\"><div class=\"sk-label-container\"><div class=\"sk-label sk-toggleable\"><input class=\"sk-toggleable__control sk-hidden--visually\" id=\"6f30a42c-81f0-4ff8-9c74-7b832b5f38d9\" type=\"checkbox\" ><label class=\"sk-toggleable__label\" for=\"6f30a42c-81f0-4ff8-9c74-7b832b5f38d9\">Pipeline</label><div class=\"sk-toggleable__content\"><pre>Pipeline(steps=[('preprocessing',\n",
       "                 ColumnTransformer(transformers=[('num_encoder', MinMaxScaler(),\n",
       "                                                  <sklearn.compose._column_transformer.make_column_selector object at 0x1796c4490>),\n",
       "                                                 ('cat_encoder',\n",
       "                                                  OneHotEncoder(handle_unknown='ignore',\n",
       "                                                                sparse=False),\n",
       "                                                  <sklearn.compose._column_transformer.make_column_selector object at 0x1796c46d0>),\n",
       "                                                 ('volume_computer',\n",
       "                                                  Pipeline(steps=[('compute_volume',\n",
       "                                                                   FunctionTransformer(func=<function multiply at 0x1796ba310>)),\n",
       "                                                                  ('scale_volume',\n",
       "                                                                   MinMaxScaler())]),\n",
       "                                                  ['product_length_cm',\n",
       "                                                   'product_height_cm',\n",
       "                                                   'product_width_cm'])])),\n",
       "                ('linear_regression', Ridge())])</pre></div></div></div><div class=\"sk-serial\"><div class=\"sk-item sk-dashed-wrapped\"><div class=\"sk-label-container\"><div class=\"sk-label sk-toggleable\"><input class=\"sk-toggleable__control sk-hidden--visually\" id=\"3f49c030-e528-4518-90c3-54f991ca2cf0\" type=\"checkbox\" ><label class=\"sk-toggleable__label\" for=\"3f49c030-e528-4518-90c3-54f991ca2cf0\">preprocessing: ColumnTransformer</label><div class=\"sk-toggleable__content\"><pre>ColumnTransformer(transformers=[('num_encoder', MinMaxScaler(),\n",
       "                                 <sklearn.compose._column_transformer.make_column_selector object at 0x1796c4490>),\n",
       "                                ('cat_encoder',\n",
       "                                 OneHotEncoder(handle_unknown='ignore',\n",
       "                                               sparse=False),\n",
       "                                 <sklearn.compose._column_transformer.make_column_selector object at 0x1796c46d0>),\n",
       "                                ('volume_computer',\n",
       "                                 Pipeline(steps=[('compute_volume',\n",
       "                                                  FunctionTransformer(func=<function multiply at 0x1796ba310>)),\n",
       "                                                 ('scale_volume',\n",
       "                                                  MinMaxScaler())]),\n",
       "                                 ['product_length_cm', 'product_height_cm',\n",
       "                                  'product_width_cm'])])</pre></div></div></div><div class=\"sk-parallel\"><div class=\"sk-parallel-item\"><div class=\"sk-item\"><div class=\"sk-label-container\"><div class=\"sk-label sk-toggleable\"><input class=\"sk-toggleable__control sk-hidden--visually\" id=\"e6a5600f-7611-49d9-bd60-c91ebc899c58\" type=\"checkbox\" ><label class=\"sk-toggleable__label\" for=\"e6a5600f-7611-49d9-bd60-c91ebc899c58\">num_encoder</label><div class=\"sk-toggleable__content\"><pre><sklearn.compose._column_transformer.make_column_selector object at 0x1796c4490></pre></div></div></div><div class=\"sk-serial\"><div class=\"sk-item\"><div class=\"sk-estimator sk-toggleable\"><input class=\"sk-toggleable__control sk-hidden--visually\" id=\"342fd596-063d-46a2-ab9f-d6fe2a345ba8\" type=\"checkbox\" ><label class=\"sk-toggleable__label\" for=\"342fd596-063d-46a2-ab9f-d6fe2a345ba8\">MinMaxScaler</label><div class=\"sk-toggleable__content\"><pre>MinMaxScaler()</pre></div></div></div></div></div></div><div class=\"sk-parallel-item\"><div class=\"sk-item\"><div class=\"sk-label-container\"><div class=\"sk-label sk-toggleable\"><input class=\"sk-toggleable__control sk-hidden--visually\" id=\"5ea517bd-2018-48ec-ba4c-da2177221655\" type=\"checkbox\" ><label class=\"sk-toggleable__label\" for=\"5ea517bd-2018-48ec-ba4c-da2177221655\">cat_encoder</label><div class=\"sk-toggleable__content\"><pre><sklearn.compose._column_transformer.make_column_selector object at 0x1796c46d0></pre></div></div></div><div class=\"sk-serial\"><div class=\"sk-item\"><div class=\"sk-estimator sk-toggleable\"><input class=\"sk-toggleable__control sk-hidden--visually\" id=\"6e8e8179-0a21-4a0c-a566-653bf1fb5a30\" type=\"checkbox\" ><label class=\"sk-toggleable__label\" for=\"6e8e8179-0a21-4a0c-a566-653bf1fb5a30\">OneHotEncoder</label><div class=\"sk-toggleable__content\"><pre>OneHotEncoder(handle_unknown='ignore', sparse=False)</pre></div></div></div></div></div></div><div class=\"sk-parallel-item\"><div class=\"sk-item\"><div class=\"sk-label-container\"><div class=\"sk-label sk-toggleable\"><input class=\"sk-toggleable__control sk-hidden--visually\" id=\"b0906673-d6fb-46d3-ad04-20258d410311\" type=\"checkbox\" ><label class=\"sk-toggleable__label\" for=\"b0906673-d6fb-46d3-ad04-20258d410311\">volume_computer</label><div class=\"sk-toggleable__content\"><pre>['product_length_cm', 'product_height_cm', 'product_width_cm']</pre></div></div></div><div class=\"sk-serial\"><div class=\"sk-item\"><div class=\"sk-serial\"><div class=\"sk-item\"><div class=\"sk-estimator sk-toggleable\"><input class=\"sk-toggleable__control sk-hidden--visually\" id=\"d0fb3baf-91f8-4b8e-8e7c-e27f2551a14c\" type=\"checkbox\" ><label class=\"sk-toggleable__label\" for=\"d0fb3baf-91f8-4b8e-8e7c-e27f2551a14c\">FunctionTransformer</label><div class=\"sk-toggleable__content\"><pre>FunctionTransformer(func=<function multiply at 0x1796ba310>)</pre></div></div></div><div class=\"sk-item\"><div class=\"sk-estimator sk-toggleable\"><input class=\"sk-toggleable__control sk-hidden--visually\" id=\"76846dcc-1337-41d0-8f21-1fce8d410c6c\" type=\"checkbox\" ><label class=\"sk-toggleable__label\" for=\"76846dcc-1337-41d0-8f21-1fce8d410c6c\">MinMaxScaler</label><div class=\"sk-toggleable__content\"><pre>MinMaxScaler()</pre></div></div></div></div></div></div></div></div></div></div><div class=\"sk-item\"><div class=\"sk-estimator sk-toggleable\"><input class=\"sk-toggleable__control sk-hidden--visually\" id=\"ca1e0761-accb-4869-ba1e-5a9de7bd16b6\" type=\"checkbox\" ><label class=\"sk-toggleable__label\" for=\"ca1e0761-accb-4869-ba1e-5a9de7bd16b6\">Ridge</label><div class=\"sk-toggleable__content\"><pre>Ridge()</pre></div></div></div></div></div></div></div>"
      ],
      "text/plain": [
       "Pipeline(steps=[('preprocessing',\n",
       "                 ColumnTransformer(transformers=[('num_encoder', MinMaxScaler(),\n",
       "                                                  <sklearn.compose._column_transformer.make_column_selector object at 0x1796c4490>),\n",
       "                                                 ('cat_encoder',\n",
       "                                                  OneHotEncoder(handle_unknown='ignore',\n",
       "                                                                sparse=False),\n",
       "                                                  <sklearn.compose._column_transformer.make_column_selector object at 0x1796c46d0>),\n",
       "                                                 ('volume_computer',\n",
       "                                                  Pipeline(steps=[('compute_volume',\n",
       "                                                                   FunctionTransformer(func=<function multiply at 0x1796ba310>)),\n",
       "                                                                  ('scale_volume',\n",
       "                                                                   MinMaxScaler())]),\n",
       "                                                  ['product_length_cm',\n",
       "                                                   'product_height_cm',\n",
       "                                                   'product_width_cm'])])),\n",
       "                ('linear_regression', Ridge())])"
      ]
     },
     "execution_count": 16,
     "metadata": {},
     "output_type": "execute_result"
    }
   ],
   "source": [
    "from sklearn.linear_model import Ridge\n",
    "\n",
    "# Chain the final_preprocessor pipeline with a linear regression model\n",
    "pipe = Pipeline([\n",
    "    ('preprocessing', final_preprocessor),\n",
    "    ('linear_regression', Ridge())])\n",
    "pipe"
   ]
  },
  {
   "cell_type": "markdown",
   "metadata": {},
   "source": [
    "#### 🧪 Test your pipe"
   ]
  },
  {
   "cell_type": "code",
   "execution_count": 17,
   "metadata": {},
   "outputs": [
    {
     "name": "stdout",
     "output_type": "stream",
     "text": [
      "\u001b[1m============================= test session starts ==============================\u001b[0m\n",
      "platform darwin -- Python 3.8.12, pytest-6.2.5, py-1.10.0, pluggy-1.0.0 -- /Users/shu/.pyenv/versions/lewagon/bin/python3\n",
      "cachedir: .pytest_cache\n",
      "rootdir: /Users/shu/Desktop/Lewagon/code/shiro101010101/data-challenges/05-ML/08-Workflow/02-Custom-Transformer/solution_05-ML_08-Workflow_02-Custom-Transformer\n",
      "plugins: dash-2.0.0, anyio-3.3.2\n",
      "\u001b[1mcollecting ... \u001b[0mcollected 1 item\n",
      "\n",
      "tests/test_pipe.py::TestPipe::test_pipe_not_crashing \u001b[32mPASSED\u001b[0m\u001b[32m              [100%]\u001b[0m\n",
      "\n",
      "\u001b[32m============================== \u001b[32m\u001b[1m1 passed\u001b[0m\u001b[32m in 1.07s\u001b[0m\u001b[32m ===============================\u001b[0m\n",
      "\n",
      "\n",
      "💯 You can commit your code:\n",
      "\n",
      "\u001b[1;32mgit\u001b[39m add tests/pipe.pickle\n",
      "\n",
      "\u001b[32mgit\u001b[39m commit -m \u001b[33m'Completed pipe step'\u001b[39m\n",
      "\n",
      "\u001b[32mgit\u001b[39m push origin master\n"
     ]
    }
   ],
   "source": [
    "from nbresult import ChallengeResult\n",
    "\n",
    "pipe_test = pipe\n",
    "\n",
    "# Check that it doesn't crash\n",
    "assert pipe_test.fit(X,y)\n",
    "\n",
    "result = ChallengeResult('pipe', \n",
    "                         shape = pipe_test[:-1].fit_transform(X).shape\n",
    ")\n",
    "result.write()\n",
    "print(result.check())"
   ]
  },
  {
   "cell_type": "markdown",
   "metadata": {},
   "source": [
    "## 2. Train and Predict"
   ]
  },
  {
   "cell_type": "markdown",
   "metadata": {},
   "source": [
    "👇 Let's imagine `data` is your entire training set.\n",
    "\n",
    "- `cross_validate` your pipeline on this dataset (❗️low r2 score are expected)\n",
    "- Now, imagine you just received an new order `new_data`: predict it's duration of delivery in a variable `prediction`"
   ]
  },
  {
   "cell_type": "code",
   "execution_count": 18,
   "metadata": {},
   "outputs": [
    {
     "data": {
      "text/html": [
       "<div>\n",
       "<style scoped>\n",
       "    .dataframe tbody tr th:only-of-type {\n",
       "        vertical-align: middle;\n",
       "    }\n",
       "\n",
       "    .dataframe tbody tr th {\n",
       "        vertical-align: top;\n",
       "    }\n",
       "\n",
       "    .dataframe thead th {\n",
       "        text-align: right;\n",
       "    }\n",
       "</style>\n",
       "<table border=\"1\" class=\"dataframe\">\n",
       "  <thead>\n",
       "    <tr style=\"text-align: right;\">\n",
       "      <th></th>\n",
       "      <th>customer_state</th>\n",
       "      <th>seller_state</th>\n",
       "      <th>product_weight_g</th>\n",
       "      <th>product_length_cm</th>\n",
       "      <th>product_height_cm</th>\n",
       "      <th>product_width_cm</th>\n",
       "    </tr>\n",
       "  </thead>\n",
       "  <tbody>\n",
       "    <tr>\n",
       "      <th>0</th>\n",
       "      <td>RJ</td>\n",
       "      <td>SP</td>\n",
       "      <td>1825</td>\n",
       "      <td>53</td>\n",
       "      <td>10</td>\n",
       "      <td>40</td>\n",
       "    </tr>\n",
       "  </tbody>\n",
       "</table>\n",
       "</div>"
      ],
      "text/plain": [
       "  customer_state seller_state  product_weight_g  product_length_cm  \\\n",
       "0             RJ           SP              1825                 53   \n",
       "\n",
       "   product_height_cm  product_width_cm  \n",
       "0                 10                40  "
      ]
     },
     "execution_count": 18,
     "metadata": {},
     "output_type": "execute_result"
    }
   ],
   "source": [
    "new_data = pd.read_csv(\"data_new.csv\")\n",
    "new_data"
   ]
  },
  {
   "cell_type": "code",
   "execution_count": 19,
   "metadata": {},
   "outputs": [],
   "source": [
    "# YOUR CODE HERE"
   ]
  },
  {
   "cell_type": "code",
   "execution_count": 20,
   "metadata": {
    "tags": [
     "delete_begin"
    ]
   },
   "outputs": [
    {
     "data": {
      "text/plain": [
       "0.15824755009515176"
      ]
     },
     "execution_count": 20,
     "metadata": {},
     "output_type": "execute_result"
    }
   ],
   "source": [
    "from sklearn.model_selection import cross_val_score\n",
    "\n",
    "# Cross validate the final_pipe\n",
    "cross_val_score(pipe, X, y, cv=10, scoring='r2').mean()"
   ]
  },
  {
   "cell_type": "code",
   "execution_count": 21,
   "metadata": {},
   "outputs": [
    {
     "data": {
      "text/html": [
       "<style>#sk-d6a6c2ca-4841-46e7-b362-8d9fe3e4c9d8 {color: black;background-color: white;}#sk-d6a6c2ca-4841-46e7-b362-8d9fe3e4c9d8 pre{padding: 0;}#sk-d6a6c2ca-4841-46e7-b362-8d9fe3e4c9d8 div.sk-toggleable {background-color: white;}#sk-d6a6c2ca-4841-46e7-b362-8d9fe3e4c9d8 label.sk-toggleable__label {cursor: pointer;display: block;width: 100%;margin-bottom: 0;padding: 0.3em;box-sizing: border-box;text-align: center;}#sk-d6a6c2ca-4841-46e7-b362-8d9fe3e4c9d8 div.sk-toggleable__content {max-height: 0;max-width: 0;overflow: hidden;text-align: left;background-color: #f0f8ff;}#sk-d6a6c2ca-4841-46e7-b362-8d9fe3e4c9d8 div.sk-toggleable__content pre {margin: 0.2em;color: black;border-radius: 0.25em;background-color: #f0f8ff;}#sk-d6a6c2ca-4841-46e7-b362-8d9fe3e4c9d8 input.sk-toggleable__control:checked~div.sk-toggleable__content {max-height: 200px;max-width: 100%;overflow: auto;}#sk-d6a6c2ca-4841-46e7-b362-8d9fe3e4c9d8 div.sk-estimator input.sk-toggleable__control:checked~label.sk-toggleable__label {background-color: #d4ebff;}#sk-d6a6c2ca-4841-46e7-b362-8d9fe3e4c9d8 div.sk-label input.sk-toggleable__control:checked~label.sk-toggleable__label {background-color: #d4ebff;}#sk-d6a6c2ca-4841-46e7-b362-8d9fe3e4c9d8 input.sk-hidden--visually {border: 0;clip: rect(1px 1px 1px 1px);clip: rect(1px, 1px, 1px, 1px);height: 1px;margin: -1px;overflow: hidden;padding: 0;position: absolute;width: 1px;}#sk-d6a6c2ca-4841-46e7-b362-8d9fe3e4c9d8 div.sk-estimator {font-family: monospace;background-color: #f0f8ff;border: 1px dotted black;border-radius: 0.25em;box-sizing: border-box;margin-bottom: 0.5em;}#sk-d6a6c2ca-4841-46e7-b362-8d9fe3e4c9d8 div.sk-estimator:hover {background-color: #d4ebff;}#sk-d6a6c2ca-4841-46e7-b362-8d9fe3e4c9d8 div.sk-parallel-item::after {content: \"\";width: 100%;border-bottom: 1px solid gray;flex-grow: 1;}#sk-d6a6c2ca-4841-46e7-b362-8d9fe3e4c9d8 div.sk-label:hover label.sk-toggleable__label {background-color: #d4ebff;}#sk-d6a6c2ca-4841-46e7-b362-8d9fe3e4c9d8 div.sk-serial::before {content: \"\";position: absolute;border-left: 1px solid gray;box-sizing: border-box;top: 2em;bottom: 0;left: 50%;}#sk-d6a6c2ca-4841-46e7-b362-8d9fe3e4c9d8 div.sk-serial {display: flex;flex-direction: column;align-items: center;background-color: white;padding-right: 0.2em;padding-left: 0.2em;}#sk-d6a6c2ca-4841-46e7-b362-8d9fe3e4c9d8 div.sk-item {z-index: 1;}#sk-d6a6c2ca-4841-46e7-b362-8d9fe3e4c9d8 div.sk-parallel {display: flex;align-items: stretch;justify-content: center;background-color: white;}#sk-d6a6c2ca-4841-46e7-b362-8d9fe3e4c9d8 div.sk-parallel::before {content: \"\";position: absolute;border-left: 1px solid gray;box-sizing: border-box;top: 2em;bottom: 0;left: 50%;}#sk-d6a6c2ca-4841-46e7-b362-8d9fe3e4c9d8 div.sk-parallel-item {display: flex;flex-direction: column;position: relative;background-color: white;}#sk-d6a6c2ca-4841-46e7-b362-8d9fe3e4c9d8 div.sk-parallel-item:first-child::after {align-self: flex-end;width: 50%;}#sk-d6a6c2ca-4841-46e7-b362-8d9fe3e4c9d8 div.sk-parallel-item:last-child::after {align-self: flex-start;width: 50%;}#sk-d6a6c2ca-4841-46e7-b362-8d9fe3e4c9d8 div.sk-parallel-item:only-child::after {width: 0;}#sk-d6a6c2ca-4841-46e7-b362-8d9fe3e4c9d8 div.sk-dashed-wrapped {border: 1px dashed gray;margin: 0 0.4em 0.5em 0.4em;box-sizing: border-box;padding-bottom: 0.4em;background-color: white;position: relative;}#sk-d6a6c2ca-4841-46e7-b362-8d9fe3e4c9d8 div.sk-label label {font-family: monospace;font-weight: bold;background-color: white;display: inline-block;line-height: 1.2em;}#sk-d6a6c2ca-4841-46e7-b362-8d9fe3e4c9d8 div.sk-label-container {position: relative;z-index: 2;text-align: center;}#sk-d6a6c2ca-4841-46e7-b362-8d9fe3e4c9d8 div.sk-container {display: inline-block;position: relative;}</style><div id=\"sk-d6a6c2ca-4841-46e7-b362-8d9fe3e4c9d8\" class\"sk-top-container\"><div class=\"sk-container\"><div class=\"sk-item sk-dashed-wrapped\"><div class=\"sk-label-container\"><div class=\"sk-label sk-toggleable\"><input class=\"sk-toggleable__control sk-hidden--visually\" id=\"68b6a44e-0cba-48ce-8db9-a4675f6158a1\" type=\"checkbox\" ><label class=\"sk-toggleable__label\" for=\"68b6a44e-0cba-48ce-8db9-a4675f6158a1\">Pipeline</label><div class=\"sk-toggleable__content\"><pre>Pipeline(steps=[('preprocessing',\n",
       "                 ColumnTransformer(transformers=[('num_encoder', MinMaxScaler(),\n",
       "                                                  <sklearn.compose._column_transformer.make_column_selector object at 0x1796c4490>),\n",
       "                                                 ('cat_encoder',\n",
       "                                                  OneHotEncoder(handle_unknown='ignore',\n",
       "                                                                sparse=False),\n",
       "                                                  <sklearn.compose._column_transformer.make_column_selector object at 0x1796c46d0>),\n",
       "                                                 ('volume_computer',\n",
       "                                                  Pipeline(steps=[('compute_volume',\n",
       "                                                                   FunctionTransformer(func=<function multiply at 0x1796ba310>)),\n",
       "                                                                  ('scale_volume',\n",
       "                                                                   MinMaxScaler())]),\n",
       "                                                  ['product_length_cm',\n",
       "                                                   'product_height_cm',\n",
       "                                                   'product_width_cm'])])),\n",
       "                ('linear_regression', Ridge())])</pre></div></div></div><div class=\"sk-serial\"><div class=\"sk-item sk-dashed-wrapped\"><div class=\"sk-label-container\"><div class=\"sk-label sk-toggleable\"><input class=\"sk-toggleable__control sk-hidden--visually\" id=\"007fe2e4-9830-4bf3-b179-d78e0ad6a301\" type=\"checkbox\" ><label class=\"sk-toggleable__label\" for=\"007fe2e4-9830-4bf3-b179-d78e0ad6a301\">preprocessing: ColumnTransformer</label><div class=\"sk-toggleable__content\"><pre>ColumnTransformer(transformers=[('num_encoder', MinMaxScaler(),\n",
       "                                 <sklearn.compose._column_transformer.make_column_selector object at 0x1796c4490>),\n",
       "                                ('cat_encoder',\n",
       "                                 OneHotEncoder(handle_unknown='ignore',\n",
       "                                               sparse=False),\n",
       "                                 <sklearn.compose._column_transformer.make_column_selector object at 0x1796c46d0>),\n",
       "                                ('volume_computer',\n",
       "                                 Pipeline(steps=[('compute_volume',\n",
       "                                                  FunctionTransformer(func=<function multiply at 0x1796ba310>)),\n",
       "                                                 ('scale_volume',\n",
       "                                                  MinMaxScaler())]),\n",
       "                                 ['product_length_cm', 'product_height_cm',\n",
       "                                  'product_width_cm'])])</pre></div></div></div><div class=\"sk-parallel\"><div class=\"sk-parallel-item\"><div class=\"sk-item\"><div class=\"sk-label-container\"><div class=\"sk-label sk-toggleable\"><input class=\"sk-toggleable__control sk-hidden--visually\" id=\"6c46bb21-18b4-43e9-bdba-2baa81a45823\" type=\"checkbox\" ><label class=\"sk-toggleable__label\" for=\"6c46bb21-18b4-43e9-bdba-2baa81a45823\">num_encoder</label><div class=\"sk-toggleable__content\"><pre><sklearn.compose._column_transformer.make_column_selector object at 0x1796c4490></pre></div></div></div><div class=\"sk-serial\"><div class=\"sk-item\"><div class=\"sk-estimator sk-toggleable\"><input class=\"sk-toggleable__control sk-hidden--visually\" id=\"b242806a-1642-4b16-bf77-d8f4a2db7070\" type=\"checkbox\" ><label class=\"sk-toggleable__label\" for=\"b242806a-1642-4b16-bf77-d8f4a2db7070\">MinMaxScaler</label><div class=\"sk-toggleable__content\"><pre>MinMaxScaler()</pre></div></div></div></div></div></div><div class=\"sk-parallel-item\"><div class=\"sk-item\"><div class=\"sk-label-container\"><div class=\"sk-label sk-toggleable\"><input class=\"sk-toggleable__control sk-hidden--visually\" id=\"28cadf2e-7732-4a11-b704-5cafc3264b29\" type=\"checkbox\" ><label class=\"sk-toggleable__label\" for=\"28cadf2e-7732-4a11-b704-5cafc3264b29\">cat_encoder</label><div class=\"sk-toggleable__content\"><pre><sklearn.compose._column_transformer.make_column_selector object at 0x1796c46d0></pre></div></div></div><div class=\"sk-serial\"><div class=\"sk-item\"><div class=\"sk-estimator sk-toggleable\"><input class=\"sk-toggleable__control sk-hidden--visually\" id=\"4a755a0f-f4fb-4eae-a87a-19c554e9554e\" type=\"checkbox\" ><label class=\"sk-toggleable__label\" for=\"4a755a0f-f4fb-4eae-a87a-19c554e9554e\">OneHotEncoder</label><div class=\"sk-toggleable__content\"><pre>OneHotEncoder(handle_unknown='ignore', sparse=False)</pre></div></div></div></div></div></div><div class=\"sk-parallel-item\"><div class=\"sk-item\"><div class=\"sk-label-container\"><div class=\"sk-label sk-toggleable\"><input class=\"sk-toggleable__control sk-hidden--visually\" id=\"baa33394-de75-4a84-a662-c02a3d3115ea\" type=\"checkbox\" ><label class=\"sk-toggleable__label\" for=\"baa33394-de75-4a84-a662-c02a3d3115ea\">volume_computer</label><div class=\"sk-toggleable__content\"><pre>['product_length_cm', 'product_height_cm', 'product_width_cm']</pre></div></div></div><div class=\"sk-serial\"><div class=\"sk-item\"><div class=\"sk-serial\"><div class=\"sk-item\"><div class=\"sk-estimator sk-toggleable\"><input class=\"sk-toggleable__control sk-hidden--visually\" id=\"b466d223-c56a-446b-92fd-72cfdaedcd9e\" type=\"checkbox\" ><label class=\"sk-toggleable__label\" for=\"b466d223-c56a-446b-92fd-72cfdaedcd9e\">FunctionTransformer</label><div class=\"sk-toggleable__content\"><pre>FunctionTransformer(func=<function multiply at 0x1796ba310>)</pre></div></div></div><div class=\"sk-item\"><div class=\"sk-estimator sk-toggleable\"><input class=\"sk-toggleable__control sk-hidden--visually\" id=\"c29c7c3f-0e4e-45cd-a882-df51d565a91c\" type=\"checkbox\" ><label class=\"sk-toggleable__label\" for=\"c29c7c3f-0e4e-45cd-a882-df51d565a91c\">MinMaxScaler</label><div class=\"sk-toggleable__content\"><pre>MinMaxScaler()</pre></div></div></div></div></div></div></div></div></div></div><div class=\"sk-item\"><div class=\"sk-estimator sk-toggleable\"><input class=\"sk-toggleable__control sk-hidden--visually\" id=\"d7044cc9-6bc2-4660-871e-3913af60a2d7\" type=\"checkbox\" ><label class=\"sk-toggleable__label\" for=\"d7044cc9-6bc2-4660-871e-3913af60a2d7\">Ridge</label><div class=\"sk-toggleable__content\"><pre>Ridge()</pre></div></div></div></div></div></div></div>"
      ],
      "text/plain": [
       "Pipeline(steps=[('preprocessing',\n",
       "                 ColumnTransformer(transformers=[('num_encoder', MinMaxScaler(),\n",
       "                                                  <sklearn.compose._column_transformer.make_column_selector object at 0x1796c4490>),\n",
       "                                                 ('cat_encoder',\n",
       "                                                  OneHotEncoder(handle_unknown='ignore',\n",
       "                                                                sparse=False),\n",
       "                                                  <sklearn.compose._column_transformer.make_column_selector object at 0x1796c46d0>),\n",
       "                                                 ('volume_computer',\n",
       "                                                  Pipeline(steps=[('compute_volume',\n",
       "                                                                   FunctionTransformer(func=<function multiply at 0x1796ba310>)),\n",
       "                                                                  ('scale_volume',\n",
       "                                                                   MinMaxScaler())]),\n",
       "                                                  ['product_length_cm',\n",
       "                                                   'product_height_cm',\n",
       "                                                   'product_width_cm'])])),\n",
       "                ('linear_regression', Ridge())])"
      ]
     },
     "execution_count": 21,
     "metadata": {},
     "output_type": "execute_result"
    }
   ],
   "source": [
    "# Fit the final pipe to the data\n",
    "pipe.fit(X, y)"
   ]
  },
  {
   "cell_type": "code",
   "execution_count": 22,
   "metadata": {
    "tags": [
     "delete_end"
    ]
   },
   "outputs": [
    {
     "data": {
      "text/plain": [
       "array([20.67221182])"
      ]
     },
     "execution_count": 22,
     "metadata": {},
     "output_type": "execute_result"
    }
   ],
   "source": [
    "# Use final pipe for prediction\n",
    "prediction = pipe.predict(new_data)\n",
    "prediction"
   ]
  },
  {
   "cell_type": "code",
   "execution_count": 0,
   "metadata": {},
   "outputs": [
    {
     "name": "stdout",
     "output_type": "stream",
     "text": [
      "\u001b[1m============================= test session starts ==============================\u001b[0m\n",
      "platform darwin -- Python 3.8.12, pytest-6.2.5, py-1.10.0, pluggy-1.0.0 -- /Users/brunolajoie/.pyenv/versions/lewagon3812/bin/python3\n",
      "cachedir: .pytest_cache\n",
      "rootdir: /Users/brunolajoie/code/lewagon/data-solutions/05-ML/08-Workflow/02-Custom-Transformer\n",
      "plugins: anyio-3.3.0, dash-2.0.0\n",
      "\u001b[1mcollecting ... \u001b[0mcollected 1 item\n",
      "\n",
      "tests/test_prediction.py::TestPrediction::test_prediction \u001b[32mPASSED\u001b[0m\u001b[32m         [100%]\u001b[0m\n",
      "\n",
      "\u001b[32m============================== \u001b[32m\u001b[1m1 passed\u001b[0m\u001b[32m in 0.59s\u001b[0m\u001b[32m ===============================\u001b[0m\n",
      "\n",
      "\n",
      "💯 You can commit your code:\n",
      "\n",
      "\u001b[1;32mgit\u001b[39m add tests/prediction.pickle\n",
      "\n",
      "\u001b[32mgit\u001b[39m commit -m \u001b[33m'Completed prediction step'\u001b[39m\n",
      "\n",
      "\u001b[32mgit\u001b[39m push origin master\n"
     ]
    }
   ],
   "source": [
    "from nbresult import ChallengeResult\n",
    "\n",
    "result = ChallengeResult('prediction',\n",
    "    prediction = prediction\n",
    ")\n",
    "result.write()\n",
    "print(result.check())\n"
   ]
  },
  {
   "cell_type": "markdown",
   "metadata": {
    "tags": [
     "delete_begin"
    ]
   },
   "source": [
    "#### Solution Bonus: get feature names"
   ]
  },
  {
   "cell_type": "code",
   "execution_count": 0,
   "metadata": {},
   "outputs": [],
   "source": [
    "set_config(display='diagram')\n",
    "final_pipe"
   ]
  },
  {
   "cell_type": "code",
   "execution_count": 0,
   "metadata": {},
   "outputs": [],
   "source": [
    "pd.DataFrame(data=final_pipe['preprocessing'].fit_transform(X)).head()"
   ]
  },
  {
   "cell_type": "code",
   "execution_count": 0,
   "metadata": {},
   "outputs": [],
   "source": [
    "from sklearn import set_config; set_config(display='text')"
   ]
  },
  {
   "cell_type": "code",
   "execution_count": 0,
   "metadata": {},
   "outputs": [],
   "source": [
    "final_pipe['preprocessing'].transformers_"
   ]
  },
  {
   "cell_type": "code",
   "execution_count": 0,
   "metadata": {},
   "outputs": [],
   "source": [
    "col_num = final_pipe['preprocessing'].transformers_[0][2]\n",
    "col_num"
   ]
  },
  {
   "cell_type": "code",
   "execution_count": 0,
   "metadata": {},
   "outputs": [],
   "source": [
    "final_pipe['preprocessing'].transformers_[1][1].get_feature_names_out()"
   ]
  },
  {
   "cell_type": "code",
   "execution_count": 0,
   "metadata": {},
   "outputs": [],
   "source": [
    "col_cat = list(final_pipe['preprocessing'].transformers_[1][1].get_feature_names_out())"
   ]
  },
  {
   "cell_type": "code",
   "execution_count": 0,
   "metadata": {},
   "outputs": [],
   "source": [
    "final_pipe['preprocessing'].transformers_[2]\n",
    "col_volume = ['volume']"
   ]
  },
  {
   "cell_type": "code",
   "execution_count": 0,
   "metadata": {},
   "outputs": [],
   "source": [
    "import itertools\n",
    "col_prepross = list(itertools.chain(col_num, col_cat, col_volume))"
   ]
  },
  {
   "cell_type": "code",
   "execution_count": 0,
   "metadata": {},
   "outputs": [],
   "source": [
    "len(col_prepross)"
   ]
  },
  {
   "cell_type": "code",
   "execution_count": 0,
   "metadata": {
    "tags": [
     "delete_end"
    ]
   },
   "outputs": [],
   "source": [
    "pd.DataFrame(data=final_pipe['preprocessing'].fit_transform(X), columns=col_prepross).head()"
   ]
  },
  {
   "cell_type": "markdown",
   "metadata": {},
   "source": [
    "🏁 Congratulation. Don't forget to add, commit and push your notebook."
   ]
  },
  {
   "cell_type": "code",
   "execution_count": 0,
   "metadata": {},
   "outputs": [],
   "source": []
  }
 ],
 "metadata": {
  "kernelspec": {
   "display_name": "Python 3 (ipykernel)",
   "language": "python",
   "name": "python3"
  },
  "language_info": {
   "codemirror_mode": {
    "name": "ipython",
    "version": 3
   },
   "file_extension": ".py",
   "mimetype": "text/x-python",
   "name": "python",
   "nbconvert_exporter": "python",
   "pygments_lexer": "ipython3",
   "version": "3.8.12"
  },
  "toc": {
   "base_numbering": 1,
   "nav_menu": {},
   "number_sections": true,
   "sideBar": true,
   "skip_h1_title": false,
   "title_cell": "Table of Contents",
   "title_sidebar": "Contents",
   "toc_cell": false,
   "toc_position": {},
   "toc_section_display": true,
   "toc_window_display": false
  }
 },
 "nbformat": 4,
 "nbformat_minor": 4
}
