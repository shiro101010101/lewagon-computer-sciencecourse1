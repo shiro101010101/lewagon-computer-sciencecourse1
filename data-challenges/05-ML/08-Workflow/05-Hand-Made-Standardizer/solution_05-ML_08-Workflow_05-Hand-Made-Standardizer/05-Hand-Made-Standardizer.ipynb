{
 "cells": [
  {
   "cell_type": "markdown",
   "metadata": {},
   "source": [
    "# Hand-made Standardizer"
   ]
  },
  {
   "cell_type": "markdown",
   "metadata": {},
   "source": [
    "## 1. Key Concept : State-less vs. State-full transformers"
   ]
  },
  {
   "cell_type": "markdown",
   "metadata": {},
   "source": [
    "👇 Consider the following train and test sets"
   ]
  },
  {
   "cell_type": "code",
   "execution_count": 0,
   "metadata": {},
   "outputs": [
    {
     "data": {
      "text/html": [
       "<div>\n",
       "<style scoped>\n",
       "    .dataframe tbody tr th:only-of-type {\n",
       "        vertical-align: middle;\n",
       "    }\n",
       "\n",
       "    .dataframe tbody tr th {\n",
       "        vertical-align: top;\n",
       "    }\n",
       "\n",
       "    .dataframe thead th {\n",
       "        text-align: right;\n",
       "    }\n",
       "</style>\n",
       "<table border=\"1\" class=\"dataframe\">\n",
       "  <thead>\n",
       "    <tr style=\"text-align: right;\">\n",
       "      <th></th>\n",
       "      <th>A</th>\n",
       "      <th>B</th>\n",
       "      <th>C</th>\n",
       "    </tr>\n",
       "  </thead>\n",
       "  <tbody>\n",
       "    <tr>\n",
       "      <th>0</th>\n",
       "      <td>1</td>\n",
       "      <td>2</td>\n",
       "      <td>3</td>\n",
       "    </tr>\n",
       "    <tr>\n",
       "      <th>1</th>\n",
       "      <td>2</td>\n",
       "      <td>3</td>\n",
       "      <td>4</td>\n",
       "    </tr>\n",
       "    <tr>\n",
       "      <th>2</th>\n",
       "      <td>3</td>\n",
       "      <td>4</td>\n",
       "      <td>5</td>\n",
       "    </tr>\n",
       "  </tbody>\n",
       "</table>\n",
       "</div>"
      ],
      "text/plain": [
       "   A  B  C\n",
       "0  1  2  3\n",
       "1  2  3  4\n",
       "2  3  4  5"
      ]
     },
     "metadata": {},
     "output_type": "display_data"
    },
    {
     "data": {
      "text/html": [
       "<div>\n",
       "<style scoped>\n",
       "    .dataframe tbody tr th:only-of-type {\n",
       "        vertical-align: middle;\n",
       "    }\n",
       "\n",
       "    .dataframe tbody tr th {\n",
       "        vertical-align: top;\n",
       "    }\n",
       "\n",
       "    .dataframe thead th {\n",
       "        text-align: right;\n",
       "    }\n",
       "</style>\n",
       "<table border=\"1\" class=\"dataframe\">\n",
       "  <thead>\n",
       "    <tr style=\"text-align: right;\">\n",
       "      <th></th>\n",
       "      <th>A</th>\n",
       "      <th>B</th>\n",
       "      <th>C</th>\n",
       "    </tr>\n",
       "  </thead>\n",
       "  <tbody>\n",
       "    <tr>\n",
       "      <th>0</th>\n",
       "      <td>1</td>\n",
       "      <td>2</td>\n",
       "      <td>3</td>\n",
       "    </tr>\n",
       "    <tr>\n",
       "      <th>1</th>\n",
       "      <td>2</td>\n",
       "      <td>3</td>\n",
       "      <td>4</td>\n",
       "    </tr>\n",
       "    <tr>\n",
       "      <th>2</th>\n",
       "      <td>3</td>\n",
       "      <td>4</td>\n",
       "      <td>10</td>\n",
       "    </tr>\n",
       "  </tbody>\n",
       "</table>\n",
       "</div>"
      ],
      "text/plain": [
       "   A  B   C\n",
       "0  1  2   3\n",
       "1  2  3   4\n",
       "2  3  4  10"
      ]
     },
     "metadata": {},
     "output_type": "display_data"
    }
   ],
   "source": [
    "import numpy as np\n",
    "import pandas as pd\n",
    "\n",
    "X_train = pd.DataFrame({\n",
    "    'A': {0: 1, 1: 2, 2: 3},\n",
    "    'B': {0: 2, 1: 3, 2: 4},\n",
    "    'C': {0: 3, 1: 4, 2: 5}})\n",
    "display(X_train)\n",
    "\n",
    "X_test = pd.DataFrame({\n",
    "    'A': {0: 1, 1: 2, 2: 3},\n",
    "    'B': {0: 2, 1: 3, 2: 4},\n",
    "    'C': {0: 3, 1: 4, 2: 10}})\n",
    "display(X_test)"
   ]
  },
  {
   "cell_type": "markdown",
   "metadata": {},
   "source": [
    "👇 And the following pipeline"
   ]
  },
  {
   "cell_type": "code",
   "execution_count": 0,
   "metadata": {},
   "outputs": [
    {
     "data": {
      "text/html": [
       "<style>#sk-f16eaa0a-176e-479e-b79a-e3e2392f0e89 {color: black;background-color: white;}#sk-f16eaa0a-176e-479e-b79a-e3e2392f0e89 pre{padding: 0;}#sk-f16eaa0a-176e-479e-b79a-e3e2392f0e89 div.sk-toggleable {background-color: white;}#sk-f16eaa0a-176e-479e-b79a-e3e2392f0e89 label.sk-toggleable__label {cursor: pointer;display: block;width: 100%;margin-bottom: 0;padding: 0.3em;box-sizing: border-box;text-align: center;}#sk-f16eaa0a-176e-479e-b79a-e3e2392f0e89 div.sk-toggleable__content {max-height: 0;max-width: 0;overflow: hidden;text-align: left;background-color: #f0f8ff;}#sk-f16eaa0a-176e-479e-b79a-e3e2392f0e89 div.sk-toggleable__content pre {margin: 0.2em;color: black;border-radius: 0.25em;background-color: #f0f8ff;}#sk-f16eaa0a-176e-479e-b79a-e3e2392f0e89 input.sk-toggleable__control:checked~div.sk-toggleable__content {max-height: 200px;max-width: 100%;overflow: auto;}#sk-f16eaa0a-176e-479e-b79a-e3e2392f0e89 div.sk-estimator input.sk-toggleable__control:checked~label.sk-toggleable__label {background-color: #d4ebff;}#sk-f16eaa0a-176e-479e-b79a-e3e2392f0e89 div.sk-label input.sk-toggleable__control:checked~label.sk-toggleable__label {background-color: #d4ebff;}#sk-f16eaa0a-176e-479e-b79a-e3e2392f0e89 input.sk-hidden--visually {border: 0;clip: rect(1px 1px 1px 1px);clip: rect(1px, 1px, 1px, 1px);height: 1px;margin: -1px;overflow: hidden;padding: 0;position: absolute;width: 1px;}#sk-f16eaa0a-176e-479e-b79a-e3e2392f0e89 div.sk-estimator {font-family: monospace;background-color: #f0f8ff;border: 1px dotted black;border-radius: 0.25em;box-sizing: border-box;margin-bottom: 0.5em;}#sk-f16eaa0a-176e-479e-b79a-e3e2392f0e89 div.sk-estimator:hover {background-color: #d4ebff;}#sk-f16eaa0a-176e-479e-b79a-e3e2392f0e89 div.sk-parallel-item::after {content: \"\";width: 100%;border-bottom: 1px solid gray;flex-grow: 1;}#sk-f16eaa0a-176e-479e-b79a-e3e2392f0e89 div.sk-label:hover label.sk-toggleable__label {background-color: #d4ebff;}#sk-f16eaa0a-176e-479e-b79a-e3e2392f0e89 div.sk-serial::before {content: \"\";position: absolute;border-left: 1px solid gray;box-sizing: border-box;top: 2em;bottom: 0;left: 50%;}#sk-f16eaa0a-176e-479e-b79a-e3e2392f0e89 div.sk-serial {display: flex;flex-direction: column;align-items: center;background-color: white;padding-right: 0.2em;padding-left: 0.2em;}#sk-f16eaa0a-176e-479e-b79a-e3e2392f0e89 div.sk-item {z-index: 1;}#sk-f16eaa0a-176e-479e-b79a-e3e2392f0e89 div.sk-parallel {display: flex;align-items: stretch;justify-content: center;background-color: white;}#sk-f16eaa0a-176e-479e-b79a-e3e2392f0e89 div.sk-parallel::before {content: \"\";position: absolute;border-left: 1px solid gray;box-sizing: border-box;top: 2em;bottom: 0;left: 50%;}#sk-f16eaa0a-176e-479e-b79a-e3e2392f0e89 div.sk-parallel-item {display: flex;flex-direction: column;position: relative;background-color: white;}#sk-f16eaa0a-176e-479e-b79a-e3e2392f0e89 div.sk-parallel-item:first-child::after {align-self: flex-end;width: 50%;}#sk-f16eaa0a-176e-479e-b79a-e3e2392f0e89 div.sk-parallel-item:last-child::after {align-self: flex-start;width: 50%;}#sk-f16eaa0a-176e-479e-b79a-e3e2392f0e89 div.sk-parallel-item:only-child::after {width: 0;}#sk-f16eaa0a-176e-479e-b79a-e3e2392f0e89 div.sk-dashed-wrapped {border: 1px dashed gray;margin: 0 0.4em 0.5em 0.4em;box-sizing: border-box;padding-bottom: 0.4em;background-color: white;position: relative;}#sk-f16eaa0a-176e-479e-b79a-e3e2392f0e89 div.sk-label label {font-family: monospace;font-weight: bold;background-color: white;display: inline-block;line-height: 1.2em;}#sk-f16eaa0a-176e-479e-b79a-e3e2392f0e89 div.sk-label-container {position: relative;z-index: 2;text-align: center;}#sk-f16eaa0a-176e-479e-b79a-e3e2392f0e89 div.sk-container {display: inline-block;position: relative;}</style><div id=\"sk-f16eaa0a-176e-479e-b79a-e3e2392f0e89\" class\"sk-top-container\"><div class=\"sk-container\"><div class=\"sk-item sk-dashed-wrapped\"><div class=\"sk-label-container\"><div class=\"sk-label sk-toggleable\"><input class=\"sk-toggleable__control sk-hidden--visually\" id=\"76599515-3426-43af-b767-0ee7663a46fa\" type=\"checkbox\" ><label class=\"sk-toggleable__label\" for=\"76599515-3426-43af-b767-0ee7663a46fa\">FeatureUnion</label><div class=\"sk-toggleable__content\"><pre>FeatureUnion(transformer_list=[('standardscaler', StandardScaler()),\n",
       "                               ('functiontransformer',\n",
       "                                FunctionTransformer(func=<function <lambda> at 0x13e26ba60>))])</pre></div></div></div><div class=\"sk-parallel\"><div class=\"sk-parallel-item\"><div class=\"sk-item\"><div class=\"sk-label-container\"><div class=\"sk-label sk-toggleable\"><label>standardscaler</label></div></div><div class=\"sk-serial\"><div class=\"sk-item\"><div class=\"sk-estimator sk-toggleable\"><input class=\"sk-toggleable__control sk-hidden--visually\" id=\"f07b58f3-6cca-4e45-aa61-237e8de1c74d\" type=\"checkbox\" ><label class=\"sk-toggleable__label\" for=\"f07b58f3-6cca-4e45-aa61-237e8de1c74d\">StandardScaler</label><div class=\"sk-toggleable__content\"><pre>StandardScaler()</pre></div></div></div></div></div></div><div class=\"sk-parallel-item\"><div class=\"sk-item\"><div class=\"sk-label-container\"><div class=\"sk-label sk-toggleable\"><label>functiontransformer</label></div></div><div class=\"sk-serial\"><div class=\"sk-item\"><div class=\"sk-estimator sk-toggleable\"><input class=\"sk-toggleable__control sk-hidden--visually\" id=\"2ce28cd8-ff90-48a8-8e5e-e6be9474913d\" type=\"checkbox\" ><label class=\"sk-toggleable__label\" for=\"2ce28cd8-ff90-48a8-8e5e-e6be9474913d\">FunctionTransformer</label><div class=\"sk-toggleable__content\"><pre>FunctionTransformer(func=<function <lambda> at 0x13e26ba60>)</pre></div></div></div></div></div></div></div></div></div></div>"
      ],
      "text/plain": [
       "FeatureUnion(transformer_list=[('standardscaler', StandardScaler()),\n",
       "                               ('functiontransformer',\n",
       "                                FunctionTransformer(func=<function <lambda> at 0x13e26ba60>))])"
      ]
     },
     "execution_count": 0,
     "metadata": {},
     "output_type": "execute_result"
    }
   ],
   "source": [
    "from sklearn import set_config; set_config(display='diagram')\n",
    "from sklearn.preprocessing import FunctionTransformer\n",
    "from sklearn.pipeline import make_pipeline, make_union\n",
    "\n",
    "scaler = StandardScaler()\n",
    "feature_averager = FunctionTransformer(lambda df: pd.DataFrame(1/3 * (df[\"A\"] + df[\"B\"] + df[\"C\"])))\n",
    "pipe = make_union(scaler, feature_averager)\n",
    "pipe"
   ]
  },
  {
   "cell_type": "code",
   "execution_count": 0,
   "metadata": {},
   "outputs": [
    {
     "data": {
      "text/html": [
       "<div>\n",
       "<style scoped>\n",
       "    .dataframe tbody tr th:only-of-type {\n",
       "        vertical-align: middle;\n",
       "    }\n",
       "\n",
       "    .dataframe tbody tr th {\n",
       "        vertical-align: top;\n",
       "    }\n",
       "\n",
       "    .dataframe thead th {\n",
       "        text-align: right;\n",
       "    }\n",
       "</style>\n",
       "<table border=\"1\" class=\"dataframe\">\n",
       "  <thead>\n",
       "    <tr style=\"text-align: right;\">\n",
       "      <th></th>\n",
       "      <th>0</th>\n",
       "      <th>1</th>\n",
       "      <th>2</th>\n",
       "      <th>3</th>\n",
       "    </tr>\n",
       "  </thead>\n",
       "  <tbody>\n",
       "    <tr>\n",
       "      <th>0</th>\n",
       "      <td>-1.224745</td>\n",
       "      <td>-1.224745</td>\n",
       "      <td>-1.224745</td>\n",
       "      <td>2.0</td>\n",
       "    </tr>\n",
       "    <tr>\n",
       "      <th>1</th>\n",
       "      <td>0.000000</td>\n",
       "      <td>0.000000</td>\n",
       "      <td>0.000000</td>\n",
       "      <td>3.0</td>\n",
       "    </tr>\n",
       "    <tr>\n",
       "      <th>2</th>\n",
       "      <td>1.224745</td>\n",
       "      <td>1.224745</td>\n",
       "      <td>1.224745</td>\n",
       "      <td>4.0</td>\n",
       "    </tr>\n",
       "  </tbody>\n",
       "</table>\n",
       "</div>"
      ],
      "text/plain": [
       "          0         1         2    3\n",
       "0 -1.224745 -1.224745 -1.224745  2.0\n",
       "1  0.000000  0.000000  0.000000  3.0\n",
       "2  1.224745  1.224745  1.224745  4.0"
      ]
     },
     "execution_count": 0,
     "metadata": {},
     "output_type": "execute_result"
    }
   ],
   "source": [
    "pipe.fit(X_train)\n",
    "pd.DataFrame(pipe.transform(X_train))"
   ]
  },
  {
   "cell_type": "code",
   "execution_count": 0,
   "metadata": {},
   "outputs": [
    {
     "data": {
      "text/html": [
       "<div>\n",
       "<style scoped>\n",
       "    .dataframe tbody tr th:only-of-type {\n",
       "        vertical-align: middle;\n",
       "    }\n",
       "\n",
       "    .dataframe tbody tr th {\n",
       "        vertical-align: top;\n",
       "    }\n",
       "\n",
       "    .dataframe thead th {\n",
       "        text-align: right;\n",
       "    }\n",
       "</style>\n",
       "<table border=\"1\" class=\"dataframe\">\n",
       "  <thead>\n",
       "    <tr style=\"text-align: right;\">\n",
       "      <th></th>\n",
       "      <th>0</th>\n",
       "      <th>1</th>\n",
       "      <th>2</th>\n",
       "      <th>3</th>\n",
       "    </tr>\n",
       "  </thead>\n",
       "  <tbody>\n",
       "    <tr>\n",
       "      <th>0</th>\n",
       "      <td>-1.224745</td>\n",
       "      <td>-1.224745</td>\n",
       "      <td>-1.224745</td>\n",
       "      <td>2.000000</td>\n",
       "    </tr>\n",
       "    <tr>\n",
       "      <th>1</th>\n",
       "      <td>0.000000</td>\n",
       "      <td>0.000000</td>\n",
       "      <td>0.000000</td>\n",
       "      <td>3.000000</td>\n",
       "    </tr>\n",
       "    <tr>\n",
       "      <th>2</th>\n",
       "      <td>1.224745</td>\n",
       "      <td>1.224745</td>\n",
       "      <td>7.348469</td>\n",
       "      <td>5.666667</td>\n",
       "    </tr>\n",
       "  </tbody>\n",
       "</table>\n",
       "</div>"
      ],
      "text/plain": [
       "          0         1         2         3\n",
       "0 -1.224745 -1.224745 -1.224745  2.000000\n",
       "1  0.000000  0.000000  0.000000  3.000000\n",
       "2  1.224745  1.224745  7.348469  5.666667"
      ]
     },
     "execution_count": 0,
     "metadata": {},
     "output_type": "execute_result"
    }
   ],
   "source": [
    "pd.DataFrame(pipe.transform(X_test))"
   ]
  },
  {
   "cell_type": "markdown",
   "metadata": {},
   "source": [
    "☝️ Notice how the `StandardScaler` and the `FunctionTransformer` are fundamentally different:\n",
    "\n",
    "1️⃣ `FunctionTransformer` can only performs **stateless** transformations\n",
    " \n",
    "$(X_1, X_2, X_3)$ --> $\\frac{(X_1 + X_2 + X_3)}{3}$ for our `feature_averager`\n",
    "\n",
    "other stateless transformations for instance: \n",
    "\n",
    "$X$ --> $log(X)$  \n",
    "$(X_1, X_2)$ --> $X_1 + 5X_2^2$ \n",
    "\n",
    "2️⃣ `StandardScaler` performs a **state-full** transformation \n",
    "\n",
    "$\n",
    "X \\rightarrow \\frac{(X-\\mu )}{\\sigma}\n",
    "$\n",
    "\n",
    "- that requires to **store** information from the train set during the `.fit` (here, `mean_train` and `std_train`)\n",
    "- In order to **reuse/apply** these back later during the `.transform` phase, on *both* train or test sets"
   ]
  },
  {
   "cell_type": "markdown",
   "metadata": {},
   "source": [
    "☝️ What if we wanted to code our own state-full custom transformer? For that, we will have to code our own class"
   ]
  },
  {
   "cell_type": "markdown",
   "metadata": {},
   "source": [
    "## 2. Create your own state-full transformer"
   ]
  },
  {
   "cell_type": "markdown",
   "metadata": {},
   "source": [
    "### 2.1 CustomStandardizer"
   ]
  },
  {
   "cell_type": "markdown",
   "metadata": {
    "slideshow": {
     "slide_type": "subslide"
    }
   },
   "source": [
    "👉 Try to code your own class `CustomStandardizer` that should behave exactly like `StandardScaler` from scikit-learn.  \n",
    "This means having a `fit()` and `transform()` method.\n",
    "\n",
    "Then, fit it on `X_train` and transform `X_test` with it to compare with the original scikit-learn version!\n",
    "\n",
    "\n",
    "\n"
   ]
  },
  {
   "cell_type": "code",
   "execution_count": 0,
   "metadata": {},
   "outputs": [],
   "source": [
    "# TransformerMixin inheritance is used to create fit_transform() method from fit() and transform()\n",
    "from sklearn.base import TransformerMixin, BaseEstimator\n",
    "\n",
    "# $DELETE_BEGIN\n",
    "# Bonus: allow us to raise a NotFittedError when one call the transform method before fitting the instance\n",
    "from sklearn.exceptions import NotFittedError\n",
    "# $DELETE_END\n",
    "\n",
    "class CustomStandardizer(TransformerMixin, BaseEstimator):\n",
    "    \n",
    "    def __init__(self):\n",
    "        pass\n",
    "    \n",
    "    def fit(self, X, y=None):\n",
    "        # Store what needs to be stored as instance attributes. Return \"self\" to allow chaining fit and transform.\n",
    "        # $CHALLENGIFY_BEGIN\n",
    "        self.means = X.mean()\n",
    "        self.stds = X.std(ddof=0)\n",
    "        # Return self to allow chaining & fit_transform\n",
    "        return self\n",
    "        # $CHALLENGIFY_END\n",
    "    \n",
    "    def transform(self, X, y=None): \n",
    "        # $CHALLENGIFY_BEGIN\n",
    "        if not (hasattr(self, \"means\") and hasattr(self, \"stds\")):\n",
    "            raise NotFittedError(\"This CustomStandardScaler instance is not fitted yet. Call 'fit' with appropriate arguments before using this estimator.\")\n",
    "        # Standardization\n",
    "        standardized_feature = (X - self.means) / self.stds\n",
    "        return standardized_feature\n",
    "        # $CHALLENGIFY_END\n",
    "    \n",
    "    # $DELETE_BEGIN\n",
    "    def inverse_transform(self, X, y=None):\n",
    "        if not (hasattr(self, \"means\") and hasattr(self, \"stds\")):\n",
    "            raise NotFittedError(\"This CustomStandardScaler instance is not fitted yet. Call 'fit' with appropriate arguments before using this estimator.\")\n",
    "        return X * self.stds + self.means\n",
    "    # $DELETE_END"
   ]
  },
  {
   "cell_type": "code",
   "execution_count": 0,
   "metadata": {},
   "outputs": [
    {
     "data": {
      "text/html": [
       "<div>\n",
       "<style scoped>\n",
       "    .dataframe tbody tr th:only-of-type {\n",
       "        vertical-align: middle;\n",
       "    }\n",
       "\n",
       "    .dataframe tbody tr th {\n",
       "        vertical-align: top;\n",
       "    }\n",
       "\n",
       "    .dataframe thead th {\n",
       "        text-align: right;\n",
       "    }\n",
       "</style>\n",
       "<table border=\"1\" class=\"dataframe\">\n",
       "  <thead>\n",
       "    <tr style=\"text-align: right;\">\n",
       "      <th></th>\n",
       "      <th>A</th>\n",
       "      <th>B</th>\n",
       "      <th>C</th>\n",
       "    </tr>\n",
       "  </thead>\n",
       "  <tbody>\n",
       "    <tr>\n",
       "      <th>0</th>\n",
       "      <td>-1.224745</td>\n",
       "      <td>-1.224745</td>\n",
       "      <td>-1.224745</td>\n",
       "    </tr>\n",
       "    <tr>\n",
       "      <th>1</th>\n",
       "      <td>0.000000</td>\n",
       "      <td>0.000000</td>\n",
       "      <td>0.000000</td>\n",
       "    </tr>\n",
       "    <tr>\n",
       "      <th>2</th>\n",
       "      <td>1.224745</td>\n",
       "      <td>1.224745</td>\n",
       "      <td>7.348469</td>\n",
       "    </tr>\n",
       "  </tbody>\n",
       "</table>\n",
       "</div>"
      ],
      "text/plain": [
       "          A         B         C\n",
       "0 -1.224745 -1.224745 -1.224745\n",
       "1  0.000000  0.000000  0.000000\n",
       "2  1.224745  1.224745  7.348469"
      ]
     },
     "execution_count": 0,
     "metadata": {},
     "output_type": "execute_result"
    }
   ],
   "source": [
    "# Try it out below\n",
    "custom_standardizer = CustomStandardizer()\n",
    "custom_standardizer.fit(X_train)\n",
    "custom_standardizer.transform(X_test)"
   ]
  },
  {
   "cell_type": "code",
   "execution_count": 0,
   "metadata": {},
   "outputs": [
    {
     "name": "stdout",
     "output_type": "stream",
     "text": [
      "\u001b[1m============================= test session starts ==============================\u001b[0m\n",
      "platform darwin -- Python 3.8.12, pytest-6.2.5, py-1.10.0, pluggy-1.0.0 -- /Users/brunolajoie/.pyenv/versions/lewagon3812/bin/python3\n",
      "cachedir: .pytest_cache\n",
      "rootdir: /Users/brunolajoie/code/lewagon/data-solutions/05-ML/08-Workflow/05-Hand-Made-Standardizer\n",
      "plugins: anyio-3.3.0, dash-2.0.0\n",
      "\u001b[1mcollecting ... \u001b[0mcollected 1 item\n",
      "\n",
      "tests/test_standardizer.py::TestStandardizer::test_solution \u001b[32mPASSED\u001b[0m\u001b[32m       [100%]\u001b[0m\n",
      "\n",
      "\u001b[32m============================== \u001b[32m\u001b[1m1 passed\u001b[0m\u001b[32m in 0.09s\u001b[0m\u001b[32m ===============================\u001b[0m\n",
      "\n",
      "\n",
      "💯 You can commit your code:\n",
      "\n",
      "\u001b[1;32mgit\u001b[39m add tests/standardizer.pickle\n",
      "\n",
      "\u001b[32mgit\u001b[39m commit -m \u001b[33m'Completed standardizer step'\u001b[39m\n",
      "\n",
      "\u001b[32mgit\u001b[39m push origin master\n"
     ]
    }
   ],
   "source": [
    "from nbresult import ChallengeResult\n",
    "\n",
    "tmp = CustomStandardizer()\n",
    "tmp_train = np.array(tmp.fit_transform(X_train))\n",
    "tmp_test = np.array(tmp.transform(X_test))\n",
    "\n",
    "result = ChallengeResult('standardizer', \n",
    "                         X_train_transformed=tmp_train,\n",
    "                         X_test_transformed=tmp_test\n",
    ")\n",
    "\n",
    "result.write()\n",
    "print(result.check())"
   ]
  },
  {
   "cell_type": "markdown",
   "metadata": {},
   "source": [
    "<details>\n",
    "<summary>💡 Hint if test above only fail by a small margin </summary>\n",
    "\n",
    "Be carefull there is a slight difference between `np.std()` and `pd.std` methods! This stackoverflow [post](https://stackoverflow.com/questions/44220290/sklearn-standardscaler-result-different-to-manual-result) might help 😉\n",
    "      \n",
    "</details>"
   ]
  },
  {
   "cell_type": "markdown",
   "metadata": {},
   "source": [
    "### 2.2 Inverse Transform"
   ]
  },
  {
   "cell_type": "markdown",
   "metadata": {},
   "source": [
    "❗️ Scikit-learn transformer also have [`inverse_transform`](https://scikit-learn.org/stable/modules/generated/sklearn.preprocessing.StandardScaler.html#sklearn.preprocessing.StandardScaler.inverse_transform) methods. Try to implement it in your custom scaler!"
   ]
  },
  {
   "cell_type": "code",
   "execution_count": 0,
   "metadata": {},
   "outputs": [],
   "source": [
    "# YOUR CODE HERE"
   ]
  },
  {
   "cell_type": "code",
   "execution_count": 0,
   "metadata": {},
   "outputs": [],
   "source": [
    "# Test yourself below\n",
    "\n",
    "custom_scaler = CustomStandardizer().fit(X_train)\n",
    "X_train_transformed = custom_scaler.transform(X_train)\n",
    "X_train_detransformed = custom_scaler.inverse_transform(X_train_transformed)\n",
    "\n",
    "assert np.allclose(X_train_detransformed, X_train)"
   ]
  },
  {
   "cell_type": "markdown",
   "metadata": {},
   "source": [
    "### 2.3 Complete custome pipeline!"
   ]
  },
  {
   "cell_type": "markdown",
   "metadata": {},
   "source": [
    "👉 Now that we have replicated scikit-learn's `StandardScaler`, we create many new ones !\n",
    "\n",
    "Try to create the following:\n",
    "\n",
    "- A `CustomStandardizer(shrink_factor = 1)` which takes one additional argument to allow scaling by more than 1 standard deviation\n",
    "\n",
    "\n",
    "- A `FeatureAverager()` class that improves upon the one you built on section 1, scaling the result of the \n",
    "\n",
    "$$(X_1, X_2, X_3) --> \\frac{1/3 * (X_1 + X_2 + X_3)}{max(X_1+X_2+X_3)}$$\n",
    "\n",
    "Then, use them both to your ininitial feature union `pipe` to make your own custom pipeline!"
   ]
  },
  {
   "cell_type": "code",
   "execution_count": 0,
   "metadata": {
    "tags": [
     "delete_begin"
    ]
   },
   "outputs": [],
   "source": [
    "# $DELETE_BEGIN\n",
    "# Bonus: allow us to raise a NotFittedError when one call the transform method before fitting the instance\n",
    "from sklearn.exceptions import NotFittedError\n",
    "# $DELETE_END\n",
    "\n",
    "class CustomStandardizer(TransformerMixin, BaseEstimator):\n",
    "    \n",
    "    def __init__(self, shrink_factor = 1):\n",
    "        self.shrink_factor = shrink_factor\n",
    "    \n",
    "    def fit(self, X, y=None):\n",
    "        # Store what needs to be stored as instance attributes. Return \"self\" to allow chaining fit and transform.\n",
    "        # $CHALLENGIFY_BEGIN\n",
    "        self.means = X.mean()\n",
    "        self.stds = X.std(ddof=0)\n",
    "        # Return self to allow chaining & fit_transform\n",
    "        return self\n",
    "        # $CHALLENGIFY_END\n",
    "    \n",
    "    def transform(self, X, y=None): \n",
    "        # $CHALLENGIFY_BEGIN\n",
    "        if not (hasattr(self, \"means\") and hasattr(self, \"stds\")):\n",
    "            raise NotFittedError(\"This CustomStandardScaler instance is not fitted yet. Call 'fit' with appropriate arguments before using this estimator.\")\n",
    "        # Standardization\n",
    "        standardized_feature = (X - self.means) / self.stds / self.shrink_factor\n",
    "        return standardized_feature\n",
    "        # $CHALLENGIFY_END\n",
    "    \n",
    "    # $DELETE_BEGIN\n",
    "    def inverse_transform(self, X, y=None):\n",
    "        if not (hasattr(self, \"means\") and hasattr(self, \"stds\")):\n",
    "            raise NotFittedError(\"This CustomStandardScaler instance is not fitted yet. Call 'fit' with appropriate arguments before using this estimator.\")\n",
    "        return X * self.stds + self.means\n",
    "    # $DELETE_END"
   ]
  },
  {
   "cell_type": "code",
   "execution_count": 0,
   "metadata": {},
   "outputs": [
    {
     "data": {
      "text/html": [
       "<div>\n",
       "<style scoped>\n",
       "    .dataframe tbody tr th:only-of-type {\n",
       "        vertical-align: middle;\n",
       "    }\n",
       "\n",
       "    .dataframe tbody tr th {\n",
       "        vertical-align: top;\n",
       "    }\n",
       "\n",
       "    .dataframe thead th {\n",
       "        text-align: right;\n",
       "    }\n",
       "</style>\n",
       "<table border=\"1\" class=\"dataframe\">\n",
       "  <thead>\n",
       "    <tr style=\"text-align: right;\">\n",
       "      <th></th>\n",
       "      <th>A</th>\n",
       "      <th>B</th>\n",
       "      <th>C</th>\n",
       "    </tr>\n",
       "  </thead>\n",
       "  <tbody>\n",
       "    <tr>\n",
       "      <th>0</th>\n",
       "      <td>-1.224745</td>\n",
       "      <td>-1.224745</td>\n",
       "      <td>-1.224745</td>\n",
       "    </tr>\n",
       "    <tr>\n",
       "      <th>1</th>\n",
       "      <td>0.000000</td>\n",
       "      <td>0.000000</td>\n",
       "      <td>0.000000</td>\n",
       "    </tr>\n",
       "    <tr>\n",
       "      <th>2</th>\n",
       "      <td>1.224745</td>\n",
       "      <td>1.224745</td>\n",
       "      <td>1.224745</td>\n",
       "    </tr>\n",
       "  </tbody>\n",
       "</table>\n",
       "</div>"
      ],
      "text/plain": [
       "          A         B         C\n",
       "0 -1.224745 -1.224745 -1.224745\n",
       "1  0.000000  0.000000  0.000000\n",
       "2  1.224745  1.224745  1.224745"
      ]
     },
     "execution_count": 0,
     "metadata": {},
     "output_type": "execute_result"
    }
   ],
   "source": [
    "CustomStandardizer(shrink_factor=1).fit_transform(X_train)"
   ]
  },
  {
   "cell_type": "code",
   "execution_count": 0,
   "metadata": {
    "tags": [
     "delete_end"
    ]
   },
   "outputs": [],
   "source": [
    "# TODO: CREATE SOLUTION MISSING"
   ]
  },
  {
   "cell_type": "code",
   "execution_count": 0,
   "metadata": {},
   "outputs": [],
   "source": [
    "# YOUR CODE HERE"
   ]
  },
  {
   "cell_type": "markdown",
   "metadata": {},
   "source": [
    "🏁 Congratulation! Don't forget to commit and push your notebooks"
   ]
  }
 ],
 "metadata": {
  "kernelspec": {
   "display_name": "Python 3",
   "language": "python",
   "name": "python3"
  }
 },
 "nbformat": 4,
 "nbformat_minor": 4
}