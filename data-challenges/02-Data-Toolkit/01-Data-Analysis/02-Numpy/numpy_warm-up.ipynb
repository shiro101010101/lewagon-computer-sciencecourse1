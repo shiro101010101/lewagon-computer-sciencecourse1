{
 "cells": [
  {
   "cell_type": "markdown",
   "metadata": {},
   "source": [
    "# Numpy 101\n",
    "\n",
    "The goal of this challenge is to get familiar with the Numpy library, manipulate multidimensional arrays and apply some linear algebra operations without using `for` loops.\n",
    "\n",
    "💡 Do not forget to keep the [Numpy Cheat Sheet](https://s3.amazonaws.com/assets.datacamp.com/blog_assets/Numpy_Python_Cheat_Sheet.pdf) close during this challenge."
   ]
  },
  {
   "cell_type": "code",
   "execution_count": 108,
   "metadata": {},
   "outputs": [],
   "source": [
    "import numpy as np # Run this cell!"
   ]
  },
  {
   "cell_type": "markdown",
   "metadata": {},
   "source": [
    "---\n",
    "\n",
    "**Q1** - Create a null vector (i.e. with only zeros `0`) of size 10 and assign it to a variable named `ten_zeros`. \n",
    "\n",
    "It should look like this:\n",
    "\n",
    "```\n",
    "array([0., 0., 0., 0., 0., 0., 0., 0., 0., 0.])\n",
    "```\n",
    "\n",
    "<details>\n",
    "    <summary>🆘 Hint</summary>\n",
    "    <p>Have a look at <a href=\"https://numpy.org/devdocs/reference/generated/numpy.zeros.html\"><code>numpy.zeros</code></a></p>\n",
    "</details>"
   ]
  },
  {
   "cell_type": "code",
   "execution_count": 130,
   "metadata": {},
   "outputs": [
    {
     "data": {
      "text/plain": [
       "array([0., 0., 0., 0., 0., 0., 0., 0., 0., 0.])"
      ]
     },
     "execution_count": 130,
     "metadata": {},
     "output_type": "execute_result"
    }
   ],
   "source": [
    "# your code here\n",
    "ten_zeros = np.zeros(10)\n",
    "ten_zeros"
   ]
  },
  {
   "cell_type": "markdown",
   "metadata": {},
   "source": [
    "---\n",
    "\n",
    "**Q2** - Create a vector with values from 5 to 10 and assign it to a variable named `five_to_ten`.\n",
    "\n",
    "It should look like this:\n",
    "\n",
    "```\n",
    "array([ 5,  6,  7,  8,  9, 10])\n",
    "```\n",
    "\n",
    "<details>\n",
    "    <summary>🆘 Hint</summary>\n",
    "    <p>Have a look at <a href=\"https://numpy.org/devdocs/reference/generated/numpy.arange.html\"><code>numpy.arange</code></a></p>\n",
    "</details>"
   ]
  },
  {
   "cell_type": "code",
   "execution_count": 131,
   "metadata": {},
   "outputs": [
    {
     "data": {
      "text/plain": [
       "array([ 5,  6,  7,  8,  9, 10])"
      ]
     },
     "execution_count": 131,
     "metadata": {},
     "output_type": "execute_result"
    }
   ],
   "source": [
    "# your code here\n",
    "from_five = np.arange(5,11)\n",
    "from_five"
   ]
  },
  {
   "cell_type": "markdown",
   "metadata": {},
   "source": [
    "---\n",
    "\n",
    "**Q3** - Create the following matrix as a NumPy `ndarray` and assign it to a variable named `A`:\n",
    "\n",
    "$\n",
    "A = \n",
    "\\begin{pmatrix}\n",
    "5 & 9 & 7\\\\\n",
    "1 & 0 & 3\n",
    "\\end{pmatrix}\n",
    "$\n",
    "\n",
    "<br>\n",
    "<details>\n",
    "    <summary>🆘 Hint</summary>\n",
    "    <p>Have a look at <a href=\"https://numpy.org/devdocs/reference/generated/numpy.array.html\"><code>numpy.array</code></a></p>\n",
    "    <p>Checkout more about the relationship between<a href=\"https://stackoverflow.com/questions/15879315/what-is-the-difference-between-ndarray-and-array-in-numpy\"><code>numpy.array and numpy.ndarray</code></a></p>\n",
    "</details>"
   ]
  },
  {
   "cell_type": "code",
   "execution_count": 111,
   "metadata": {},
   "outputs": [
    {
     "data": {
      "text/plain": [
       "array([[5, 9, 7],\n",
       "       [1, 0, 3]])"
      ]
     },
     "execution_count": 111,
     "metadata": {},
     "output_type": "execute_result"
    }
   ],
   "source": [
    "# your code here\n",
    "A = np.array([[5,9,7],[1,0,3]])\n",
    "A"
   ]
  },
  {
   "cell_type": "markdown",
   "metadata": {},
   "source": [
    "---\n",
    "**Q4** - Create the following matrix without using the `np.array()` constructor and assign it to a variable named `B`:\n",
    "\n",
    "$\n",
    "B = \n",
    "\\begin{pmatrix}\n",
    "1 & 1\\\\\n",
    "1 & 1\n",
    "\\end{pmatrix}\n",
    "$"
   ]
  },
  {
   "cell_type": "code",
   "execution_count": 126,
   "metadata": {},
   "outputs": [
    {
     "data": {
      "text/plain": [
       "array([[1, 1],\n",
       "       [1, 1]])"
      ]
     },
     "execution_count": 126,
     "metadata": {},
     "output_type": "execute_result"
    }
   ],
   "source": [
    "# your code here\n",
    "lis=np.repeat(1,4).reshape((2,2))\n",
    "B=lis\n",
    "B\n",
    "# lis=np.ones((2,2))"
   ]
  },
  {
   "cell_type": "markdown",
   "metadata": {},
   "source": [
    "---\n",
    "\n",
    "**Q5** - Create a vector of 20 elements evenly spaced between `-1` and `1` and assign it to a variable named `lin_twenty`.\n",
    "\n",
    "It should look like this:\n",
    "\n",
    "```\n",
    "array([-1.        , -0.89473684, -0.78947368, -0.68421053, -0.57894737,\n",
    "       -0.47368421, -0.36842105, -0.26315789, -0.15789474, -0.05263158,\n",
    "        0.05263158,  0.15789474,  0.26315789,  0.36842105,  0.47368421,\n",
    "        0.57894737,  0.68421053,  0.78947368,  0.89473684,  1.        ])\n",
    "```\n",
    "\n",
    "<details>\n",
    "    <summary>🆘 Hint</summary>\n",
    "    <p>Have a look at <a href=\"https://numpy.org/devdocs/reference/generated/numpy.linspace.html\"><code>numpy.linspace</code></a></p>\n",
    "</details>"
   ]
  },
  {
   "cell_type": "code",
   "execution_count": 128,
   "metadata": {},
   "outputs": [
    {
     "data": {
      "text/plain": [
       "array([-1.        , -0.89473684, -0.78947368, -0.68421053, -0.57894737,\n",
       "       -0.47368421, -0.36842105, -0.26315789, -0.15789474, -0.05263158,\n",
       "        0.05263158,  0.15789474,  0.26315789,  0.36842105,  0.47368421,\n",
       "        0.57894737,  0.68421053,  0.78947368,  0.89473684,  1.        ])"
      ]
     },
     "execution_count": 128,
     "metadata": {},
     "output_type": "execute_result"
    }
   ],
   "source": [
    "# your code here\n",
    "lin_twenty=np.linspace(-1, 1, num=20)\n",
    "lin_twenty"
   ]
  },
  {
   "cell_type": "markdown",
   "metadata": {},
   "source": [
    "---\n",
    "\n",
    "**Q6** - Create a 3x3 identity matrix and assign it to a variable named `C`:\n",
    "\n",
    "$\n",
    "C = \n",
    "\\begin{pmatrix}\n",
    "1 & 0 & 0\\\\\n",
    "0 & 1 & 0\\\\\n",
    "0 & 0 & 1\n",
    "\\end{pmatrix}\n",
    "$\n",
    "\n",
    "<br>\n",
    "\n",
    "<details>\n",
    "    <summary>🆘 Hint</summary>\n",
    "    <p>Have a look at <a href=\"https://numpy.org/devdocs/reference/generated/numpy.eye.html\"><code>numpy.eye</code></a></p>\n",
    "</details>"
   ]
  },
  {
   "cell_type": "code",
   "execution_count": 114,
   "metadata": {},
   "outputs": [
    {
     "data": {
      "text/plain": [
       "array([[1, 0, 0],\n",
       "       [0, 1, 0],\n",
       "       [0, 0, 1]])"
      ]
     },
     "execution_count": 114,
     "metadata": {},
     "output_type": "execute_result"
    }
   ],
   "source": [
    "# your code here\n",
    "C = np.eye(3, M=3,dtype=int)\n",
    "C"
   ]
  },
  {
   "cell_type": "markdown",
   "metadata": {},
   "source": [
    "---\n",
    "\n",
    "**Q7** - Create the following `ndarray` and assign it to a variable named `D`:  \n",
    "\n",
    "$\n",
    "D = \n",
    "\\begin{pmatrix}\n",
    "2 & 9 & 7 & 3 & 1 & 5\n",
    "\\end{pmatrix}\n",
    "$\n",
    "\n",
    "Reshape `D` into a 2x3 matrix and assign it to a variable named `E`:\n",
    "\n",
    "$\n",
    "E = \n",
    "\\begin{pmatrix}\n",
    "2 & 9 & 7\\\\\n",
    "3 & 1 & 5\n",
    "\\end{pmatrix}\n",
    "$\n",
    "\n",
    "<br>\n",
    "\n",
    "<details>\n",
    "    <summary>🆘 Hint</summary>\n",
    "    <p>Have a look at <a href=\"https://numpy.org/devdocs/reference/generated/numpy.reshape.html\"><code>numpy.reshape</code></a></p>\n",
    "</details>"
   ]
  },
  {
   "cell_type": "code",
   "execution_count": 115,
   "metadata": {},
   "outputs": [
    {
     "data": {
      "text/plain": [
       "array([[2, 9, 7],\n",
       "       [3, 1, 5]])"
      ]
     },
     "execution_count": 115,
     "metadata": {},
     "output_type": "execute_result"
    }
   ],
   "source": [
    "# your code here\n",
    "D = np.array((2,9,7,3,1,5))\n",
    "E = D.reshape(2,3)\n",
    "E"
   ]
  },
  {
   "cell_type": "markdown",
   "metadata": {},
   "source": [
    "---\n",
    "\n",
    "**Q8** - Create a 8x8 checkboard matrix and assign it to a variable named `F`:\n",
    "\n",
    "$\n",
    "F = \n",
    "\\begin{pmatrix}\n",
    "1 & 0 & 1 & 0 & 1 & 0 & 1 & 0\\\\\n",
    "0 & 1 & 0 & 1 & 0 & 1 & 0 & 1\\\\\n",
    "1 & 0 & 1 & 0 & 1 & 0 & 1 & 0\\\\\n",
    "0 & 1 & 0 & 1 & 0 & 1 & 0 & 1\\\\\n",
    "1 & 0 & 1 & 0 & 1 & 0 & 1 & 0\\\\\n",
    "0 & 1 & 0 & 1 & 0 & 1 & 0 & 1\\\\\n",
    "1 & 0 & 1 & 0 & 1 & 0 & 1 & 0\\\\\n",
    "0 & 1 & 0 & 1 & 0 & 1 & 0 & 1\\\\\n",
    "\\end{pmatrix}\n",
    "$\n",
    "\n",
    "<br>\n",
    "\n",
    "<details>\n",
    "    <summary>🆘 Hint</summary>\n",
    "    <p>Have a look at <a href=\"https://numpy.org/devdocs/reference/generated/numpy.tile.html\"><code>numpy.tile</code></a></p>\n",
    "</details>"
   ]
  },
  {
   "cell_type": "code",
   "execution_count": 116,
   "metadata": {},
   "outputs": [
    {
     "data": {
      "text/plain": [
       "array([[1, 0, 1, 0, 1, 0, 1, 0],\n",
       "       [0, 1, 0, 1, 0, 1, 0, 1],\n",
       "       [1, 0, 1, 0, 1, 0, 1, 0],\n",
       "       [0, 1, 0, 1, 0, 1, 0, 1],\n",
       "       [1, 0, 1, 0, 1, 0, 1, 0],\n",
       "       [0, 1, 0, 1, 0, 1, 0, 1],\n",
       "       [1, 0, 1, 0, 1, 0, 1, 0],\n",
       "       [0, 1, 0, 1, 0, 1, 0, 1]])"
      ]
     },
     "execution_count": 116,
     "metadata": {},
     "output_type": "execute_result"
    }
   ],
   "source": [
    "f=np.array([[1,0],[0,1]])\n",
    "np.tile(f,(4,4))\n"
   ]
  },
  {
   "cell_type": "code",
   "execution_count": 117,
   "metadata": {},
   "outputs": [
    {
     "data": {
      "text/plain": [
       "array([[1, 0, 1, 0, 1, 0, 1, 0],\n",
       "       [0, 1, 0, 1, 0, 1, 0, 1],\n",
       "       [1, 0, 1, 0, 1, 0, 1, 0],\n",
       "       [0, 1, 0, 1, 0, 1, 0, 1],\n",
       "       [1, 0, 1, 0, 1, 0, 1, 0],\n",
       "       [0, 1, 0, 1, 0, 1, 0, 1],\n",
       "       [1, 0, 1, 0, 1, 0, 1, 0],\n",
       "       [0, 1, 0, 1, 0, 1, 0, 1]])"
      ]
     },
     "execution_count": 117,
     "metadata": {},
     "output_type": "execute_result"
    }
   ],
   "source": [
    "# your code here\n",
    "f=np.array([[1,0],[0,1]])\n",
    "F = np.tile(f,(4,4))\n",
    "F"
   ]
  },
  {
   "cell_type": "markdown",
   "metadata": {},
   "source": [
    "---\n",
    "\n",
    "**Q9**: Select the second column of this `ndarray` `G`, reshape it as an `ndarray` of 4 lines and 1 column and assign it to a variable named `reshaped_G`:\n",
    "\n",
    "$\n",
    "reshaped\\_G = \n",
    "\\begin{pmatrix}\n",
    "0.?\\\\\n",
    "0.?\\\\\n",
    "0.?\\\\\n",
    "0.?\\\\\n",
    "\\end{pmatrix}\n",
    "$"
   ]
  },
  {
   "cell_type": "code",
   "execution_count": 118,
   "metadata": {},
   "outputs": [
    {
     "name": "stdout",
     "output_type": "stream",
     "text": [
      "[[0.13059152 0.29734509 0.89843491 0.32361598 0.45350214]\n",
      " [0.3552049  0.21325348 0.96164421 0.9607961  0.95660515]\n",
      " [0.26241482 0.60573714 0.17553013 0.74380792 0.21933392]\n",
      " [0.69191162 0.31791848 0.08145194 0.69936335 0.6362842 ]]\n"
     ]
    }
   ],
   "source": [
    "G = np.random.random((4, 5))\n",
    "print(G)"
   ]
  },
  {
   "cell_type": "code",
   "execution_count": 119,
   "metadata": {},
   "outputs": [
    {
     "data": {
      "text/plain": [
       "array([[0.29734509],\n",
       "       [0.21325348],\n",
       "       [0.60573714],\n",
       "       [0.31791848]])"
      ]
     },
     "execution_count": 119,
     "metadata": {},
     "output_type": "execute_result"
    }
   ],
   "source": [
    "G[:,1].reshape(4,1)"
   ]
  },
  {
   "cell_type": "code",
   "execution_count": 120,
   "metadata": {},
   "outputs": [
    {
     "data": {
      "text/plain": [
       "array([[0.29734509],\n",
       "       [0.21325348],\n",
       "       [0.60573714],\n",
       "       [0.31791848]])"
      ]
     },
     "execution_count": 120,
     "metadata": {},
     "output_type": "execute_result"
    }
   ],
   "source": [
    "# your code here\n",
    "reshaped_G = G[:,1].reshape(4,1)\n",
    "reshaped_G"
   ]
  },
  {
   "cell_type": "markdown",
   "metadata": {},
   "source": [
    "---\n",
    "\n",
    "**Q10** - Compute the sum of matrixes `H` and `I` and store the result into a variable `gh_sum`:\n",
    "\n",
    "$\n",
    "H = \n",
    "\\begin{pmatrix}\n",
    "0 & 4\\\\\n",
    "-4 & -3\\\\\n",
    "1 & 1\n",
    "\\end{pmatrix}\n",
    "$\n",
    "\n",
    "$\n",
    "I =\n",
    "\\begin{pmatrix}\n",
    "0 & 1\\\\\n",
    "1 & -1\\\\\n",
    "2 & 3\n",
    "\\end{pmatrix}\n",
    "$\n",
    "\n",
    "$\n",
    "H + I = ?\n",
    "$\n"
   ]
  },
  {
   "cell_type": "code",
   "execution_count": 121,
   "metadata": {},
   "outputs": [
    {
     "data": {
      "text/plain": [
       "array([[ 0,  4],\n",
       "       [-4, -3],\n",
       "       [ 1,  1]])"
      ]
     },
     "execution_count": 121,
     "metadata": {},
     "output_type": "execute_result"
    }
   ],
   "source": [
    "g=np.array([0,4,-4,-3,1,1]).reshape(3,2)\n",
    "g"
   ]
  },
  {
   "cell_type": "code",
   "execution_count": 122,
   "metadata": {},
   "outputs": [
    {
     "data": {
      "text/plain": [
       "array([[ 0,  1],\n",
       "       [ 1, -1],\n",
       "       [ 2,  3]])"
      ]
     },
     "execution_count": 122,
     "metadata": {},
     "output_type": "execute_result"
    }
   ],
   "source": [
    "h=np.array([0,1,1,-1,2,3]).reshape(3,2)\n",
    "h"
   ]
  },
  {
   "cell_type": "code",
   "execution_count": 123,
   "metadata": {},
   "outputs": [
    {
     "data": {
      "text/plain": [
       "array([[ 0,  5],\n",
       "       [-3, -4],\n",
       "       [ 3,  4]])"
      ]
     },
     "execution_count": 123,
     "metadata": {},
     "output_type": "execute_result"
    }
   ],
   "source": [
    "# your code here\n",
    "gh_sum = g+h\n",
    "gh_sum "
   ]
  },
  {
   "cell_type": "markdown",
   "metadata": {},
   "source": [
    "## Check your code!\n",
    "\n",
    "Run the cell below to check your code:"
   ]
  },
  {
   "cell_type": "code",
   "execution_count": 132,
   "metadata": {},
   "outputs": [
    {
     "name": "stdout",
     "output_type": "stream",
     "text": [
      "\u001b[1m============================= test session starts ==============================\u001b[0m\n",
      "platform darwin -- Python 3.8.12, pytest-6.2.5, py-1.10.0, pluggy-1.0.0 -- /Users/shu/.pyenv/versions/lewagon/bin/python3\n",
      "cachedir: .pytest_cache\n",
      "rootdir: /Users/shu/Desktop/Lewagon/code/shiro101010101/data-challenges/02-Data-Toolkit/01-Data-Analysis/01-Numpy\n",
      "plugins: dash-2.0.0, anyio-3.3.2\n",
      "\u001b[1mcollecting ... \u001b[0mcollected 5 items\n",
      "\n",
      "tests/test_numpy.py::TestNumpy::test_advanced_matrixes_manipulation \u001b[32mPASSED\u001b[0m\u001b[32m [ 20%]\u001b[0m\n",
      "tests/test_numpy.py::TestNumpy::test_linear_twenty_vector_creation \u001b[32mPASSED\u001b[0m\u001b[32m [ 40%]\u001b[0m\n",
      "tests/test_numpy.py::TestNumpy::test_matrixes_creation_and_reshaping \u001b[32mPASSED\u001b[0m\u001b[32m [ 60%]\u001b[0m\n",
      "tests/test_numpy.py::TestNumpy::test_ndarrays_creation \u001b[32mPASSED\u001b[0m\u001b[32m            [ 80%]\u001b[0m\n",
      "tests/test_numpy.py::TestNumpy::test_vectors_creation \u001b[32mPASSED\u001b[0m\u001b[32m             [100%]\u001b[0m\n",
      "\n",
      "\u001b[32m============================== \u001b[32m\u001b[1m5 passed\u001b[0m\u001b[32m in 0.19s\u001b[0m\u001b[32m ===============================\u001b[0m\n",
      "\n",
      "\n",
      "💯 You can commit your code:\n",
      "\n",
      "\u001b[1;32mgit\u001b[39m add tests/numpy.pickle\n",
      "\n",
      "\u001b[32mgit\u001b[39m commit -m \u001b[33m'Completed numpy step'\u001b[39m\n",
      "\n",
      "\u001b[32mgit\u001b[39m push origin master\n"
     ]
    }
   ],
   "source": [
    "from nbresult import ChallengeResult\n",
    "\n",
    "result = ChallengeResult('numpy',\n",
    "    ten=ten_zeros,\n",
    "    from_five=five_to_ten,\n",
    "    A=A,\n",
    "    B=B,\n",
    "    lin_twenty=lin_twenty,\n",
    "    C=C,\n",
    "    E=E,\n",
    "    F=F,\n",
    "    reshaped_G=reshaped_G,\n",
    "                         \n",
    "    gh_sum=gh_sum\n",
    ")\n",
    "result.write()\n",
    "print(result.check())"
   ]
  },
  {
   "cell_type": "code",
   "execution_count": null,
   "metadata": {},
   "outputs": [],
   "source": []
  },
  {
   "cell_type": "code",
   "execution_count": null,
   "metadata": {},
   "outputs": [],
   "source": []
  },
  {
   "cell_type": "code",
   "execution_count": null,
   "metadata": {},
   "outputs": [],
   "source": []
  },
  {
   "cell_type": "code",
   "execution_count": null,
   "metadata": {},
   "outputs": [],
   "source": []
  }
 ],
 "metadata": {
  "kernelspec": {
   "display_name": "Python 3 (ipykernel)",
   "language": "python",
   "name": "python3"
  },
  "language_info": {
   "codemirror_mode": {
    "name": "ipython",
    "version": 3
   },
   "file_extension": ".py",
   "mimetype": "text/x-python",
   "name": "python",
   "nbconvert_exporter": "python",
   "pygments_lexer": "ipython3",
   "version": "3.8.12"
  },
  "toc": {
   "base_numbering": 1,
   "nav_menu": {},
   "number_sections": false,
   "sideBar": true,
   "skip_h1_title": false,
   "title_cell": "Table of Contents",
   "title_sidebar": "Contents",
   "toc_cell": false,
   "toc_position": {},
   "toc_section_display": true,
   "toc_window_display": true
  },
  "varInspector": {
   "cols": {
    "lenName": 16,
    "lenType": 16,
    "lenVar": 40
   },
   "kernels_config": {
    "python": {
     "delete_cmd_postfix": "",
     "delete_cmd_prefix": "del ",
     "library": "var_list.py",
     "varRefreshCmd": "print(var_dic_list())"
    },
    "r": {
     "delete_cmd_postfix": ") ",
     "delete_cmd_prefix": "rm(",
     "library": "var_list.r",
     "varRefreshCmd": "cat(var_dic_list()) "
    }
   },
   "types_to_exclude": [
    "module",
    "function",
    "builtin_function_or_method",
    "instance",
    "_Feature"
   ],
   "window_display": false
  }
 },
 "nbformat": 4,
 "nbformat_minor": 4
}
