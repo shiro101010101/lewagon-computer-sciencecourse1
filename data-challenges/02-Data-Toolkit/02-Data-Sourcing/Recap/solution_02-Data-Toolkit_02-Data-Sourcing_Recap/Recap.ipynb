{
 "cells": [
  {
   "cell_type": "markdown",
   "metadata": {},
   "source": [
    "# CSV + API\n",
    "\n",
    "In this reboot, we are going to use:\n",
    "\n",
    "- The [Goodreads books](https://www.kaggle.com/jealousleopard/goodreadsbooks) dataset from Kaggle.\n",
    "- The [Open Library Books API](https://openlibrary.org/dev/docs/api/books)\n",
    "\n",
    "The goal of this livecode is to load the data from a CSV + loop over rows to enrich each row with information such as:\n",
    "\n",
    "- List of subjects (Science, Humor, Travel, etc.)\n",
    "- The cover URL of the book\n",
    "- Other information you'd find useful in the JSON API"
   ]
  },
  {
   "cell_type": "markdown",
   "metadata": {},
   "source": [
    "First, download the CSV in the local folder:"
   ]
  },
  {
   "cell_type": "code",
   "execution_count": 0,
   "metadata": {},
   "outputs": [
    {
     "name": "stdout",
     "output_type": "stream",
     "text": [
      "  % Total    % Received % Xferd  Average Speed   Time    Time     Time  Current\n",
      "                                 Dload  Upload   Total   Spent    Left  Speed\n",
      "100 1509k  100 1509k    0     0   406k      0  0:00:03  0:00:03 --:--:--  406k\n"
     ]
    }
   ],
   "source": [
    "!curl -L https://gist.githubusercontent.com/ssaunier/351b17f5a7a009808b60aeacd1f4a036/raw/books.csv > books.csv"
   ]
  },
  {
   "cell_type": "code",
   "execution_count": 0,
   "metadata": {},
   "outputs": [
    {
     "name": "stdout",
     "output_type": "stream",
     "text": [
      "total 4336\r\n",
      "-rw-r--r--  1 seb  staff   580B Jan 22 19:25 README.md\r\n",
      "-rw-r--r--@ 1 seb  staff   1.5M Jul 14 19:40 books.csv\r\n",
      "-rw-r--r--@ 1 seb  staff    49K Jul 14 17:53 reboot.ipynb\r\n"
     ]
    }
   ],
   "source": [
    "!ls -lh"
   ]
  },
  {
   "cell_type": "markdown",
   "metadata": {},
   "source": [
    "Then import the usual suspects!"
   ]
  },
  {
   "cell_type": "code",
   "execution_count": 0,
   "metadata": {},
   "outputs": [],
   "source": [
    "# your turn!"
   ]
  }
 ],
 "metadata": {
  "kernelspec": {
   "display_name": "Python 3",
   "language": "python",
   "name": "python3"
  }
 },
 "nbformat": 4,
 "nbformat_minor": 2
}