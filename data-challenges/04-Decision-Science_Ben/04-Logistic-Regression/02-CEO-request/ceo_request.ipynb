{
 "cells": [
  {
   "cell_type": "markdown",
   "metadata": {},
   "source": [
    "# CEO-Request Challenge"
   ]
  },
  {
   "cell_type": "markdown",
   "metadata": {},
   "source": [
    "\n",
    "🕵🏻 **Should Olist remove underperforming sellers from its marketplace ?**"
   ]
  },
  {
   "cell_type": "markdown",
   "metadata": {},
   "source": [
    "## Problem statement"
   ]
  },
  {
   "cell_type": "markdown",
   "metadata": {},
   "source": [
    "🕵🏻 To analyse the impact of removing the worse sellers from Olist's marketplace, we can start with a what-if analysis: What would have happened if Olist had never accepted these sellers in the first place? For that:\n",
    "\n",
    "1️⃣ Compute, for each `seller_id`, and cumulated since the beginning:\n",
    "- the `revenues` it brings\n",
    "- the `costs` associated with all its bad reviews\n",
    "- the resulting `profits` (revenues - costs)\n",
    "- the number of `orders` (it will impact the overall IT costs)\n",
    "\n",
    "\n",
    "2️⃣ We can then:\n",
    "- sort sellers by increasing profits for Olist\n",
    "- for each number of sellers to remove, compute the financial impact it would have made if they had never been accepted on the platform. \n",
    "- we may find an optimal number of sellers to remove that maximizes Olist's profit margin"
   ]
  },
  {
   "cell_type": "markdown",
   "metadata": {},
   "source": [
    "👉 Write down a detailed strategy (step by step) to create the DataFrame you need for the first step.\n",
    "\n",
    "💡Think about how to re-use or update the logic you've already coded in your 🗂 `olist` package"
   ]
  },
  {
   "cell_type": "markdown",
   "metadata": {},
   "source": [
    "<details>\n",
    "    <summary>- <i>Hints</i> -</summary>\n",
    "\n",
    "\n",
    "Starting from your current `seller().get_training_data()` DataFrame, can you easily transform it to compute:\n",
    "- Olist's positive `revenue_per_seller`? \n",
    "- Olist's `cost_of_bad_reviews`?\n",
    "\n",
    "⚠️ Do no start from scratch ! Investigate your source code in `seller.py` : \n",
    "- how was the mean `review_score` per seller computed? \n",
    "- Can you think about  a way to update your code to incorporate the `cost_of_reviews`? \n",
    "\n",
    "</details>\n"
   ]
  },
  {
   "cell_type": "markdown",
   "metadata": {},
   "source": [
    "## Your turn!"
   ]
  },
  {
   "cell_type": "markdown",
   "metadata": {},
   "source": [
    "🧺 Keep this notebook tidy! \n",
    "\n",
    "📅 🗣 📊 You will present your insights to Olist's CEO next time, after the `Communicate your Data Analysis insights` day!"
   ]
  },
  {
   "cell_type": "code",
   "execution_count": 0,
   "metadata": {},
   "outputs": [],
   "source": []
  }
 ],
 "metadata": {
  "kernelspec": {
   "display_name": "Python 3",
   "language": "python",
   "name": "python3"
  }
 },
 "nbformat": 4,
 "nbformat_minor": 4
}