{
 "cells": [
  {
   "cell_type": "code",
   "execution_count": 0,
   "metadata": {},
   "outputs": [],
   "source": [
    "%load_ext autoreload\n",
    "%autoreload 2"
   ]
  },
  {
   "cell_type": "markdown",
   "metadata": {},
   "source": [
    "# `Logit` on Orders - A warm-up challenge (~1h)"
   ]
  },
  {
   "cell_type": "markdown",
   "metadata": {},
   "source": [
    "## Select features"
   ]
  },
  {
   "cell_type": "markdown",
   "metadata": {},
   "source": [
    "🎯 Let's figure out the impact of `wait_time` and `delay_vs_expected` on very `good/bad reviews`\n",
    "\n",
    "👉 Using our `orders` training_set, we will run two `multivariate logistic regressions`:\n",
    "- `logit_one` to predict `dim_is_one_star` \n",
    "- `logit_five` to predict `dim_is_five_star`.\n",
    "\n",
    " "
   ]
  },
  {
   "cell_type": "code",
   "execution_count": 0,
   "metadata": {},
   "outputs": [],
   "source": [
    "import pandas as pd\n",
    "import seaborn as sns\n",
    "import statsmodels.api as sm\n",
    "import statsmodels.formula.api as smf\n",
    "import matplotlib.pyplot as plt"
   ]
  },
  {
   "cell_type": "markdown",
   "metadata": {},
   "source": [
    "👉 Import your dataset:"
   ]
  },
  {
   "cell_type": "code",
   "execution_count": 0,
   "metadata": {},
   "outputs": [],
   "source": [
    "from olist.order import Order\n",
    "orders = Order().get_training_data(with_distance_seller_customer=True)"
   ]
  },
  {
   "cell_type": "markdown",
   "metadata": {},
   "source": [
    "👉 Select which features you want to use:\n",
    "\n",
    "⚠️ Make sure you are not creating data leakage (i.e. selecting features that are derived from the target)"
   ]
  },
  {
   "cell_type": "code",
   "execution_count": 0,
   "metadata": {},
   "outputs": [
    {
     "data": {
      "text/plain": [
       "Index(['order_id', 'wait_time', 'expected_wait_time', 'delay_vs_expected',\n",
       "       'order_status', 'dim_is_five_star', 'dim_is_one_star', 'review_score',\n",
       "       'number_of_products', 'number_of_sellers', 'price', 'freight_value',\n",
       "       'distance_seller_customer'],\n",
       "      dtype='object')"
      ]
     },
     "execution_count": 9,
     "metadata": {},
     "output_type": "execute_result"
    }
   ],
   "source": [
    "orders.columns"
   ]
  },
  {
   "cell_type": "code",
   "execution_count": 0,
   "metadata": {
    "tags": [
     "challengify"
    ]
   },
   "outputs": [],
   "source": [
    "selected_features = [\"wait_time\", \n",
    "            \"delay_vs_expected\",\n",
    "            \"number_of_sellers\", \n",
    "            \"distance_seller_customer\", \n",
    "            \"price\", \n",
    "            \"freight_value\"]"
   ]
  },
  {
   "cell_type": "markdown",
   "metadata": {},
   "source": [
    "🕵🏻 Check the `multi-colinearity` of your features, using the `VIF index`.\n",
    "\n",
    "* It shouldn't be too high (< 10 preferably) to ensure that we can trust the partial regression coefficents and their associated `p-values` \n",
    "* Do not forget to standardize your data ! \n",
    "    * A `VIF Analysis` is made by regressing a feature vs. the other features...\n",
    "    * So you want to `remove the effect of scale` so that your features have an equal importance before running any linear regression!\n",
    "    \n",
    "    \n",
    "📚 <a href=\"https://www.statisticshowto.com/variance-inflation-factor/\">Statistics How To - Variance Inflation Factor</a>\n",
    "\n",
    "📚  <a href=\"https://online.stat.psu.edu/stat462/node/180/\">PennState - Detecting Multicollinearity Using Variance Inflation Factors</a>"
   ]
  },
  {
   "cell_type": "markdown",
   "metadata": {},
   "source": [
    "⚖️ Standardizing:"
   ]
  },
  {
   "cell_type": "code",
   "execution_count": 0,
   "metadata": {
    "tags": [
     "challengify"
    ]
   },
   "outputs": [
    {
     "data": {
      "text/html": [
       "<div>\n",
       "<style scoped>\n",
       "    .dataframe tbody tr th:only-of-type {\n",
       "        vertical-align: middle;\n",
       "    }\n",
       "\n",
       "    .dataframe tbody tr th {\n",
       "        vertical-align: top;\n",
       "    }\n",
       "\n",
       "    .dataframe thead th {\n",
       "        text-align: right;\n",
       "    }\n",
       "</style>\n",
       "<table border=\"1\" class=\"dataframe\">\n",
       "  <thead>\n",
       "    <tr style=\"text-align: right;\">\n",
       "      <th></th>\n",
       "      <th>order_id</th>\n",
       "      <th>wait_time</th>\n",
       "      <th>expected_wait_time</th>\n",
       "      <th>delay_vs_expected</th>\n",
       "      <th>order_status</th>\n",
       "      <th>dim_is_five_star</th>\n",
       "      <th>dim_is_one_star</th>\n",
       "      <th>review_score</th>\n",
       "      <th>number_of_products</th>\n",
       "      <th>number_of_sellers</th>\n",
       "      <th>price</th>\n",
       "      <th>freight_value</th>\n",
       "      <th>distance_seller_customer</th>\n",
       "    </tr>\n",
       "  </thead>\n",
       "  <tbody>\n",
       "    <tr>\n",
       "      <th>0</th>\n",
       "      <td>e481f51cbdc54678b7cc49136f2d6af7</td>\n",
       "      <td>-0.431192</td>\n",
       "      <td>15.544063</td>\n",
       "      <td>-0.161781</td>\n",
       "      <td>delivered</td>\n",
       "      <td>0</td>\n",
       "      <td>0</td>\n",
       "      <td>4</td>\n",
       "      <td>1</td>\n",
       "      <td>-0.112544</td>\n",
       "      <td>-0.513802</td>\n",
       "      <td>-0.652038</td>\n",
       "      <td>-0.979504</td>\n",
       "    </tr>\n",
       "    <tr>\n",
       "      <th>1</th>\n",
       "      <td>53cdb2fc8bc7dce0b6741e2150273451</td>\n",
       "      <td>0.134174</td>\n",
       "      <td>19.137766</td>\n",
       "      <td>-0.161781</td>\n",
       "      <td>delivered</td>\n",
       "      <td>0</td>\n",
       "      <td>0</td>\n",
       "      <td>4</td>\n",
       "      <td>1</td>\n",
       "      <td>-0.112544</td>\n",
       "      <td>-0.086640</td>\n",
       "      <td>0.000467</td>\n",
       "      <td>0.429763</td>\n",
       "    </tr>\n",
       "    <tr>\n",
       "      <th>2</th>\n",
       "      <td>47770eb9100c2d0c44946d9cf07ec65d</td>\n",
       "      <td>-0.329907</td>\n",
       "      <td>26.639711</td>\n",
       "      <td>-0.161781</td>\n",
       "      <td>delivered</td>\n",
       "      <td>1</td>\n",
       "      <td>0</td>\n",
       "      <td>5</td>\n",
       "      <td>1</td>\n",
       "      <td>-0.112544</td>\n",
       "      <td>0.111748</td>\n",
       "      <td>-0.164053</td>\n",
       "      <td>-0.145495</td>\n",
       "    </tr>\n",
       "    <tr>\n",
       "      <th>3</th>\n",
       "      <td>949d5b44dbf5de918fe9c16f97b45f8a</td>\n",
       "      <td>0.073540</td>\n",
       "      <td>26.188819</td>\n",
       "      <td>-0.161781</td>\n",
       "      <td>delivered</td>\n",
       "      <td>1</td>\n",
       "      <td>0</td>\n",
       "      <td>5</td>\n",
       "      <td>1</td>\n",
       "      <td>-0.112544</td>\n",
       "      <td>-0.441525</td>\n",
       "      <td>0.206815</td>\n",
       "      <td>2.054697</td>\n",
       "    </tr>\n",
       "    <tr>\n",
       "      <th>4</th>\n",
       "      <td>ad21c59c0840e6cb83a9ceb5573f8159</td>\n",
       "      <td>-1.019535</td>\n",
       "      <td>12.112049</td>\n",
       "      <td>-0.161781</td>\n",
       "      <td>delivered</td>\n",
       "      <td>1</td>\n",
       "      <td>0</td>\n",
       "      <td>5</td>\n",
       "      <td>1</td>\n",
       "      <td>-0.112544</td>\n",
       "      <td>-0.562388</td>\n",
       "      <td>-0.652038</td>\n",
       "      <td>-0.959144</td>\n",
       "    </tr>\n",
       "    <tr>\n",
       "      <th>...</th>\n",
       "      <td>...</td>\n",
       "      <td>...</td>\n",
       "      <td>...</td>\n",
       "      <td>...</td>\n",
       "      <td>...</td>\n",
       "      <td>...</td>\n",
       "      <td>...</td>\n",
       "      <td>...</td>\n",
       "      <td>...</td>\n",
       "      <td>...</td>\n",
       "      <td>...</td>\n",
       "      <td>...</td>\n",
       "      <td>...</td>\n",
       "    </tr>\n",
       "    <tr>\n",
       "      <th>95875</th>\n",
       "      <td>9c5dedf39a927c1b2549525ed64a053c</td>\n",
       "      <td>-0.454309</td>\n",
       "      <td>18.587442</td>\n",
       "      <td>-0.161781</td>\n",
       "      <td>delivered</td>\n",
       "      <td>1</td>\n",
       "      <td>0</td>\n",
       "      <td>5</td>\n",
       "      <td>1</td>\n",
       "      <td>-0.112544</td>\n",
       "      <td>-0.311513</td>\n",
       "      <td>-0.449408</td>\n",
       "      <td>-0.893059</td>\n",
       "    </tr>\n",
       "    <tr>\n",
       "      <th>95876</th>\n",
       "      <td>63943bddc261676b46f01ca7ac2f7bd8</td>\n",
       "      <td>1.023841</td>\n",
       "      <td>23.459051</td>\n",
       "      <td>-0.161781</td>\n",
       "      <td>delivered</td>\n",
       "      <td>0</td>\n",
       "      <td>0</td>\n",
       "      <td>4</td>\n",
       "      <td>1</td>\n",
       "      <td>-0.112544</td>\n",
       "      <td>0.183977</td>\n",
       "      <td>-0.123156</td>\n",
       "      <td>-0.212799</td>\n",
       "    </tr>\n",
       "    <tr>\n",
       "      <th>95877</th>\n",
       "      <td>83c1379a015df1e13d02aae0204711ab</td>\n",
       "      <td>1.305780</td>\n",
       "      <td>30.384225</td>\n",
       "      <td>-0.161781</td>\n",
       "      <td>delivered</td>\n",
       "      <td>1</td>\n",
       "      <td>0</td>\n",
       "      <td>5</td>\n",
       "      <td>1</td>\n",
       "      <td>-0.112544</td>\n",
       "      <td>0.333684</td>\n",
       "      <td>1.964490</td>\n",
       "      <td>0.617656</td>\n",
       "    </tr>\n",
       "    <tr>\n",
       "      <th>95878</th>\n",
       "      <td>11c177c8e97725db2631073c19f07b62</td>\n",
       "      <td>0.483664</td>\n",
       "      <td>37.105243</td>\n",
       "      <td>-0.161781</td>\n",
       "      <td>delivered</td>\n",
       "      <td>0</td>\n",
       "      <td>0</td>\n",
       "      <td>2</td>\n",
       "      <td>2</td>\n",
       "      <td>-0.112544</td>\n",
       "      <td>1.075186</td>\n",
       "      <td>2.715522</td>\n",
       "      <td>-0.387567</td>\n",
       "    </tr>\n",
       "    <tr>\n",
       "      <th>95879</th>\n",
       "      <td>66dea50a8b16d9b4dee7af250b4be1a5</td>\n",
       "      <td>-0.511814</td>\n",
       "      <td>25.126736</td>\n",
       "      <td>-0.161781</td>\n",
       "      <td>delivered</td>\n",
       "      <td>1</td>\n",
       "      <td>0</td>\n",
       "      <td>5</td>\n",
       "      <td>1</td>\n",
       "      <td>-0.112544</td>\n",
       "      <td>-0.328367</td>\n",
       "      <td>-0.204022</td>\n",
       "      <td>0.052366</td>\n",
       "    </tr>\n",
       "  </tbody>\n",
       "</table>\n",
       "<p>95872 rows × 13 columns</p>\n",
       "</div>"
      ],
      "text/plain": [
       "                               order_id  wait_time  expected_wait_time  \\\n",
       "0      e481f51cbdc54678b7cc49136f2d6af7  -0.431192           15.544063   \n",
       "1      53cdb2fc8bc7dce0b6741e2150273451   0.134174           19.137766   \n",
       "2      47770eb9100c2d0c44946d9cf07ec65d  -0.329907           26.639711   \n",
       "3      949d5b44dbf5de918fe9c16f97b45f8a   0.073540           26.188819   \n",
       "4      ad21c59c0840e6cb83a9ceb5573f8159  -1.019535           12.112049   \n",
       "...                                 ...        ...                 ...   \n",
       "95875  9c5dedf39a927c1b2549525ed64a053c  -0.454309           18.587442   \n",
       "95876  63943bddc261676b46f01ca7ac2f7bd8   1.023841           23.459051   \n",
       "95877  83c1379a015df1e13d02aae0204711ab   1.305780           30.384225   \n",
       "95878  11c177c8e97725db2631073c19f07b62   0.483664           37.105243   \n",
       "95879  66dea50a8b16d9b4dee7af250b4be1a5  -0.511814           25.126736   \n",
       "\n",
       "       delay_vs_expected order_status  dim_is_five_star  dim_is_one_star  \\\n",
       "0              -0.161781    delivered                 0                0   \n",
       "1              -0.161781    delivered                 0                0   \n",
       "2              -0.161781    delivered                 1                0   \n",
       "3              -0.161781    delivered                 1                0   \n",
       "4              -0.161781    delivered                 1                0   \n",
       "...                  ...          ...               ...              ...   \n",
       "95875          -0.161781    delivered                 1                0   \n",
       "95876          -0.161781    delivered                 0                0   \n",
       "95877          -0.161781    delivered                 1                0   \n",
       "95878          -0.161781    delivered                 0                0   \n",
       "95879          -0.161781    delivered                 1                0   \n",
       "\n",
       "       review_score  number_of_products  number_of_sellers     price  \\\n",
       "0                 4                   1          -0.112544 -0.513802   \n",
       "1                 4                   1          -0.112544 -0.086640   \n",
       "2                 5                   1          -0.112544  0.111748   \n",
       "3                 5                   1          -0.112544 -0.441525   \n",
       "4                 5                   1          -0.112544 -0.562388   \n",
       "...             ...                 ...                ...       ...   \n",
       "95875             5                   1          -0.112544 -0.311513   \n",
       "95876             4                   1          -0.112544  0.183977   \n",
       "95877             5                   1          -0.112544  0.333684   \n",
       "95878             2                   2          -0.112544  1.075186   \n",
       "95879             5                   1          -0.112544 -0.328367   \n",
       "\n",
       "       freight_value  distance_seller_customer  \n",
       "0          -0.652038                 -0.979504  \n",
       "1           0.000467                  0.429763  \n",
       "2          -0.164053                 -0.145495  \n",
       "3           0.206815                  2.054697  \n",
       "4          -0.652038                 -0.959144  \n",
       "...              ...                       ...  \n",
       "95875      -0.449408                 -0.893059  \n",
       "95876      -0.123156                 -0.212799  \n",
       "95877       1.964490                  0.617656  \n",
       "95878       2.715522                 -0.387567  \n",
       "95879      -0.204022                  0.052366  \n",
       "\n",
       "[95872 rows x 13 columns]"
      ]
     },
     "execution_count": 12,
     "metadata": {},
     "output_type": "execute_result"
    }
   ],
   "source": [
    "# Standardizing\n",
    "\n",
    "orders_standardized = orders.copy()\n",
    "\n",
    "for f in selected_features:\n",
    "    mu = orders[f].mean()\n",
    "    sigma = orders[f].std()\n",
    "    orders_standardized[f] = orders[f].map(lambda x: (x - mu) / sigma)\n",
    "    \n",
    "orders_standardized"
   ]
  },
  {
   "cell_type": "markdown",
   "metadata": {},
   "source": [
    "👉 Run your VIF Analysis to analyze the potential multicolinearities:"
   ]
  },
  {
   "cell_type": "code",
   "execution_count": 0,
   "metadata": {
    "tags": [
     "delete"
    ]
   },
   "outputs": [
    {
     "data": {
      "text/html": [
       "<div>\n",
       "<style scoped>\n",
       "    .dataframe tbody tr th:only-of-type {\n",
       "        vertical-align: middle;\n",
       "    }\n",
       "\n",
       "    .dataframe tbody tr th {\n",
       "        vertical-align: top;\n",
       "    }\n",
       "\n",
       "    .dataframe thead th {\n",
       "        text-align: right;\n",
       "    }\n",
       "</style>\n",
       "<table border=\"1\" class=\"dataframe\">\n",
       "  <thead>\n",
       "    <tr style=\"text-align: right;\">\n",
       "      <th></th>\n",
       "      <th>wait_time</th>\n",
       "      <th>delay_vs_expected</th>\n",
       "      <th>number_of_sellers</th>\n",
       "      <th>distance_seller_customer</th>\n",
       "      <th>price</th>\n",
       "      <th>freight_value</th>\n",
       "    </tr>\n",
       "  </thead>\n",
       "  <tbody>\n",
       "    <tr>\n",
       "      <th>0</th>\n",
       "      <td>-0.431192</td>\n",
       "      <td>-0.161781</td>\n",
       "      <td>-0.112544</td>\n",
       "      <td>-0.979504</td>\n",
       "      <td>-0.513802</td>\n",
       "      <td>-0.652038</td>\n",
       "    </tr>\n",
       "    <tr>\n",
       "      <th>1</th>\n",
       "      <td>0.134174</td>\n",
       "      <td>-0.161781</td>\n",
       "      <td>-0.112544</td>\n",
       "      <td>0.429763</td>\n",
       "      <td>-0.086640</td>\n",
       "      <td>0.000467</td>\n",
       "    </tr>\n",
       "    <tr>\n",
       "      <th>2</th>\n",
       "      <td>-0.329907</td>\n",
       "      <td>-0.161781</td>\n",
       "      <td>-0.112544</td>\n",
       "      <td>-0.145495</td>\n",
       "      <td>0.111748</td>\n",
       "      <td>-0.164053</td>\n",
       "    </tr>\n",
       "    <tr>\n",
       "      <th>3</th>\n",
       "      <td>0.073540</td>\n",
       "      <td>-0.161781</td>\n",
       "      <td>-0.112544</td>\n",
       "      <td>2.054697</td>\n",
       "      <td>-0.441525</td>\n",
       "      <td>0.206815</td>\n",
       "    </tr>\n",
       "    <tr>\n",
       "      <th>4</th>\n",
       "      <td>-1.019535</td>\n",
       "      <td>-0.161781</td>\n",
       "      <td>-0.112544</td>\n",
       "      <td>-0.959144</td>\n",
       "      <td>-0.562388</td>\n",
       "      <td>-0.652038</td>\n",
       "    </tr>\n",
       "  </tbody>\n",
       "</table>\n",
       "</div>"
      ],
      "text/plain": [
       "   wait_time  delay_vs_expected  number_of_sellers  distance_seller_customer  \\\n",
       "0  -0.431192          -0.161781          -0.112544                 -0.979504   \n",
       "1   0.134174          -0.161781          -0.112544                  0.429763   \n",
       "2  -0.329907          -0.161781          -0.112544                 -0.145495   \n",
       "3   0.073540          -0.161781          -0.112544                  2.054697   \n",
       "4  -1.019535          -0.161781          -0.112544                 -0.959144   \n",
       "\n",
       "      price  freight_value  \n",
       "0 -0.513802      -0.652038  \n",
       "1 -0.086640       0.000467  \n",
       "2  0.111748      -0.164053  \n",
       "3 -0.441525       0.206815  \n",
       "4 -0.562388      -0.652038  "
      ]
     },
     "execution_count": 29,
     "metadata": {},
     "output_type": "execute_result"
    }
   ],
   "source": [
    "X_standardized = orders_standardized[selected_features]\n",
    "X_standardized.head()"
   ]
  },
  {
   "cell_type": "code",
   "execution_count": 0,
   "metadata": {
    "tags": [
     "challengify"
    ]
   },
   "outputs": [
    {
     "data": {
      "text/html": [
       "<div>\n",
       "<style scoped>\n",
       "    .dataframe tbody tr th:only-of-type {\n",
       "        vertical-align: middle;\n",
       "    }\n",
       "\n",
       "    .dataframe tbody tr th {\n",
       "        vertical-align: top;\n",
       "    }\n",
       "\n",
       "    .dataframe thead th {\n",
       "        text-align: right;\n",
       "    }\n",
       "</style>\n",
       "<table border=\"1\" class=\"dataframe\">\n",
       "  <thead>\n",
       "    <tr style=\"text-align: right;\">\n",
       "      <th></th>\n",
       "      <th>features</th>\n",
       "      <th>vif_index</th>\n",
       "    </tr>\n",
       "  </thead>\n",
       "  <tbody>\n",
       "    <tr>\n",
       "      <th>0</th>\n",
       "      <td>wait_time</td>\n",
       "      <td>2.62</td>\n",
       "    </tr>\n",
       "    <tr>\n",
       "      <th>1</th>\n",
       "      <td>delay_vs_expected</td>\n",
       "      <td>2.21</td>\n",
       "    </tr>\n",
       "    <tr>\n",
       "      <th>2</th>\n",
       "      <td>number_of_sellers</td>\n",
       "      <td>1.02</td>\n",
       "    </tr>\n",
       "    <tr>\n",
       "      <th>3</th>\n",
       "      <td>distance_seller_customer</td>\n",
       "      <td>1.41</td>\n",
       "    </tr>\n",
       "    <tr>\n",
       "      <th>4</th>\n",
       "      <td>price</td>\n",
       "      <td>1.21</td>\n",
       "    </tr>\n",
       "    <tr>\n",
       "      <th>5</th>\n",
       "      <td>freight_value</td>\n",
       "      <td>1.36</td>\n",
       "    </tr>\n",
       "  </tbody>\n",
       "</table>\n",
       "</div>"
      ],
      "text/plain": [
       "                   features  vif_index\n",
       "0                 wait_time       2.62\n",
       "1         delay_vs_expected       2.21\n",
       "2         number_of_sellers       1.02\n",
       "3  distance_seller_customer       1.41\n",
       "4                     price       1.21\n",
       "5             freight_value       1.36"
      ]
     },
     "execution_count": 18,
     "metadata": {},
     "output_type": "execute_result"
    }
   ],
   "source": [
    "from statsmodels.stats.outliers_influence import variance_inflation_factor as vif\n",
    "\n",
    "df = pd.DataFrame()\n",
    "df[\"features\"] = X_standardized.columns\n",
    "df[\"vif_index\"] = [vif(X_standardized.values, i) for i in range(X_standardized.shape[1])]\n",
    "round(df,2)"
   ]
  },
  {
   "cell_type": "markdown",
   "metadata": {},
   "source": [
    "## Logistic Regressions"
   ]
  },
  {
   "cell_type": "markdown",
   "metadata": {},
   "source": [
    "👉 Fit two `Logistic Regression` models:\n",
    "- `logit_one` to predict `dim_is_one_star` \n",
    "- `logit_five` to predict `dim_is_five_star`."
   ]
  },
  {
   "cell_type": "markdown",
   "metadata": {},
   "source": [
    "`Logit 1️⃣`"
   ]
  },
  {
   "cell_type": "code",
   "execution_count": 0,
   "metadata": {
    "tags": [
     "challengify"
    ]
   },
   "outputs": [
    {
     "name": "stdout",
     "output_type": "stream",
     "text": [
      "Optimization terminated successfully.\n",
      "         Current function value: 0.276471\n",
      "         Iterations 7\n",
      "                           Logit Regression Results                           \n",
      "==============================================================================\n",
      "Dep. Variable:        dim_is_one_star   No. Observations:                95872\n",
      "Model:                          Logit   Df Residuals:                    95865\n",
      "Method:                           MLE   Df Model:                            6\n",
      "Date:                Fri, 08 Oct 2021   Pseudo R-squ.:                  0.1357\n",
      "Time:                        12:10:44   Log-Likelihood:                -26506.\n",
      "converged:                       True   LL-Null:                       -30669.\n",
      "Covariance Type:            nonrobust   LLR p-value:                     0.000\n",
      "============================================================================================\n",
      "                               coef    std err          z      P>|z|      [0.025      0.975]\n",
      "--------------------------------------------------------------------------------------------\n",
      "Intercept                   -2.4472      0.013   -191.765      0.000      -2.472      -2.422\n",
      "wait_time                    0.6907      0.017     41.190      0.000       0.658       0.724\n",
      "delay_vs_expected            0.2627      0.018     14.240      0.000       0.227       0.299\n",
      "number_of_sellers            0.2295      0.008     30.499      0.000       0.215       0.244\n",
      "distance_seller_customer    -0.2192      0.014    -16.019      0.000      -0.246      -0.192\n",
      "price                        0.0407      0.011      3.776      0.000       0.020       0.062\n",
      "freight_value                0.1090      0.011      9.789      0.000       0.087       0.131\n",
      "============================================================================================\n"
     ]
    }
   ],
   "source": [
    "logit_one = smf.logit(formula='dim_is_one_star ~'+ ' + '.join(features), data=orders_standardized).fit()\n",
    "print(logit_one.summary())"
   ]
  },
  {
   "cell_type": "markdown",
   "metadata": {},
   "source": [
    "`Logit 5️⃣`"
   ]
  },
  {
   "cell_type": "code",
   "execution_count": 0,
   "metadata": {
    "tags": [
     "challengify"
    ]
   },
   "outputs": [
    {
     "name": "stdout",
     "output_type": "stream",
     "text": [
      "Optimization terminated successfully.\n",
      "         Current function value: 0.638282\n",
      "         Iterations 7\n",
      "                           Logit Regression Results                           \n",
      "==============================================================================\n",
      "Dep. Variable:       dim_is_five_star   No. Observations:                95872\n",
      "Model:                          Logit   Df Residuals:                    95865\n",
      "Method:                           MLE   Df Model:                            6\n",
      "Date:                Sat, 16 Oct 2021   Pseudo R-squ.:                 0.05591\n",
      "Time:                        21:47:30   Log-Likelihood:                -61193.\n",
      "converged:                       True   LL-Null:                       -64817.\n",
      "Covariance Type:            nonrobust   LLR p-value:                     0.000\n",
      "============================================================================================\n",
      "                               coef    std err          z      P>|z|      [0.025      0.975]\n",
      "--------------------------------------------------------------------------------------------\n",
      "Intercept                    0.3383      0.007     47.337      0.000       0.324       0.352\n",
      "wait_time                   -0.5140      0.012    -44.099      0.000      -0.537      -0.491\n",
      "delay_vs_expected           -0.4366      0.024    -18.570      0.000      -0.483      -0.391\n",
      "number_of_sellers           -0.1716      0.008    -22.517      0.000      -0.187      -0.157\n",
      "distance_seller_customer     0.1074      0.008     13.035      0.000       0.091       0.124\n",
      "price                        0.0268      0.008      3.476      0.001       0.012       0.042\n",
      "freight_value               -0.0624      0.009     -7.304      0.000      -0.079      -0.046\n",
      "============================================================================================\n"
     ]
    }
   ],
   "source": [
    "logit_five = smf.logit(formula='dim_is_five_star ~'+ ' + '.join(features), data=orders_standardized).fit()\n",
    "print(logit_five.summary())"
   ]
  },
  {
   "cell_type": "markdown",
   "metadata": {},
   "source": [
    "💡 It's time to analyse the results of these two logistic regressions:\n",
    "\n",
    "- Interpret the partial coefficients in your own words.\n",
    "- Check their statistical significances with `p-values`\n",
    "- Do you notice any differences between `logit_one` and `logit_five` in terms of coefficient importances?"
   ]
  },
  {
   "cell_type": "code",
   "execution_count": 0,
   "metadata": {},
   "outputs": [],
   "source": [
    "# Among the following sentences, store the ones that are true in the list below\n",
    "\n",
    "a = \"delay_vs_expected influences five_star ratings even more than one_star ratings\"\n",
    "b = \"wait_time influences five_star ratings even more more than one_star\"\n",
    "\n",
    "your_answer = []"
   ]
  },
  {
   "cell_type": "code",
   "execution_count": 0,
   "metadata": {
    "tags": [
     "delete"
    ]
   },
   "outputs": [],
   "source": [
    "your_answer = [a]"
   ]
  },
  {
   "cell_type": "markdown",
   "metadata": {},
   "source": [
    "🧪 __Test your code__"
   ]
  },
  {
   "cell_type": "code",
   "execution_count": 0,
   "metadata": {},
   "outputs": [
    {
     "name": "stdout",
     "output_type": "stream",
     "text": [
      "\u001b[1m============================= test session starts ==============================\u001b[0m\n",
      "platform darwin -- Python 3.8.6, pytest-6.2.4, py-1.10.0, pluggy-0.13.1 -- /Users/davywai/.pyenv/versions/lewagon/bin/python3\n",
      "cachedir: .pytest_cache\n",
      "rootdir: /Users/davywai/code/lewagon/data-solutions/04-Decision-Science/04-Logistic-Regression/01-Logit\n",
      "plugins: dash-1.20.0, anyio-3.2.1\n",
      "\u001b[1mcollecting ... \u001b[0mcollected 1 item\n",
      "\n",
      "tests/test_logit.py::TestLogit::test_question \u001b[32mPASSED\u001b[0m\u001b[32m                     [100%]\u001b[0m\n",
      "\n",
      "\u001b[32m============================== \u001b[32m\u001b[1m1 passed\u001b[0m\u001b[32m in 0.03s\u001b[0m\u001b[32m ===============================\u001b[0m\n",
      "\n",
      "\n",
      "💯 You can commit your code:\n",
      "\n",
      "\u001b[1;32mgit\u001b[39m add tests/logit.pickle\n",
      "\n",
      "\u001b[32mgit\u001b[39m commit -m \u001b[33m'Completed logit step'\u001b[39m\n",
      "\n",
      "\u001b[32mgit\u001b[39m push origin master\n"
     ]
    }
   ],
   "source": [
    "from nbresult import ChallengeResult\n",
    "\n",
    "result = ChallengeResult('logit',\n",
    "    answers = your_answer\n",
    ")\n",
    "result.write()\n",
    "print(result.check())"
   ]
  },
  {
   "cell_type": "markdown",
   "metadata": {},
   "source": [
    "<details>\n",
    "    <summary>- <i>Explanations</i> -</summary>\n",
    "\n",
    "\n",
    "> _All other thing being equal, the `delay factor` tends to increase the chances of getting stripped of the 5-star even more so than it affect the chances of 1-star reviews. Probably because 1-stars are really targeting bad products themselves, not bad deliveries_\n",
    "    \n",
    "</details>\n"
   ]
  },
  {
   "cell_type": "markdown",
   "metadata": {},
   "source": [
    "## Logistic vs. Linear ?"
   ]
  },
  {
   "cell_type": "markdown",
   "metadata": {},
   "source": [
    "👉 Compare:\n",
    "- the regression coefficients obtained from the `Logistic Regression `\n",
    "- with the regression coefficients obtained through a `Linear Regression` \n",
    "- on `review_score`, using the same features. \n",
    "\n",
    "⚠️ Make sure both sets of coefficients  tell  \"the same story\"."
   ]
  },
  {
   "cell_type": "markdown",
   "metadata": {},
   "source": [
    "1️⃣ Fit a **`Linear Regression`** of the Review score w.r.t. selected features :"
   ]
  },
  {
   "cell_type": "code",
   "execution_count": 0,
   "metadata": {
    "tags": [
     "challengify"
    ]
   },
   "outputs": [],
   "source": [
    "linear_model = smf.ols('review_score ~'+ ' + '.join(features), data=orders_standardized).fit()"
   ]
  },
  {
   "cell_type": "code",
   "execution_count": 0,
   "metadata": {
    "tags": [
     "delete"
    ]
   },
   "outputs": [
    {
     "name": "stdout",
     "output_type": "stream",
     "text": [
      "                            OLS Regression Results                            \n",
      "==============================================================================\n",
      "Dep. Variable:           review_score   R-squared:                       0.138\n",
      "Model:                            OLS   Adj. R-squared:                  0.137\n",
      "Method:                 Least Squares   F-statistic:                     2548.\n",
      "Date:                Sat, 16 Oct 2021   Prob (F-statistic):               0.00\n",
      "Time:                        21:52:43   Log-Likelihood:            -1.5299e+05\n",
      "No. Observations:               95872   AIC:                         3.060e+05\n",
      "Df Residuals:                   95865   BIC:                         3.061e+05\n",
      "Df Model:                           6                                         \n",
      "Covariance Type:            nonrobust                                         \n",
      "============================================================================================\n",
      "                               coef    std err          t      P>|t|      [0.025      0.975]\n",
      "--------------------------------------------------------------------------------------------\n",
      "Intercept                    4.1555      0.004   1078.062      0.000       4.148       4.163\n",
      "wait_time                   -0.4338      0.006    -69.507      0.000      -0.446      -0.422\n",
      "delay_vs_expected           -0.0542      0.006     -9.460      0.000      -0.065      -0.043\n",
      "number_of_sellers           -0.1605      0.004    -41.133      0.000      -0.168      -0.153\n",
      "distance_seller_customer     0.1156      0.005     25.232      0.000       0.107       0.125\n",
      "price                        0.0020      0.004      0.463      0.643      -0.006       0.010\n",
      "freight_value               -0.0575      0.004    -12.780      0.000      -0.066      -0.049\n",
      "==============================================================================\n",
      "Omnibus:                    19262.767   Durbin-Watson:                   2.007\n",
      "Prob(Omnibus):                  0.000   Jarque-Bera (JB):            38986.827\n",
      "Skew:                          -1.204   Prob(JB):                         0.00\n",
      "Kurtosis:                       4.989   Cond. No.                         2.98\n",
      "==============================================================================\n",
      "\n",
      "Warnings:\n",
      "[1] Standard Errors assume that the covariance matrix of the errors is correctly specified.\n"
     ]
    }
   ],
   "source": [
    "print(linear_model.summary())"
   ]
  },
  {
   "cell_type": "markdown",
   "metadata": {},
   "source": [
    "👉 Compare your regression coefficients.\n",
    "\n",
    "<details>\n",
    "    <summary>- <i>Hints</i> -</summary>\n",
    "\n",
    "Feel free to Plot a sorted horizontal barchat of the regression cofficients for each model, side-by-side\n",
    "    \n",
    "</details>\n"
   ]
  },
  {
   "cell_type": "code",
   "execution_count": 0,
   "metadata": {
    "tags": [
     "challengify"
    ]
   },
   "outputs": [
    {
     "name": "stdout",
     "output_type": "stream",
     "text": [
      "                           Logit Regression Results                           \n",
      "==============================================================================\n",
      "Dep. Variable:       dim_is_five_star   No. Observations:                95872\n",
      "Model:                          Logit   Df Residuals:                    95865\n",
      "Method:                           MLE   Df Model:                            6\n",
      "Date:                Sat, 16 Oct 2021   Pseudo R-squ.:                 0.05591\n",
      "Time:                        21:54:06   Log-Likelihood:                -61193.\n",
      "converged:                       True   LL-Null:                       -64817.\n",
      "Covariance Type:            nonrobust   LLR p-value:                     0.000\n",
      "============================================================================================\n",
      "                               coef    std err          z      P>|z|      [0.025      0.975]\n",
      "--------------------------------------------------------------------------------------------\n",
      "Intercept                    0.3383      0.007     47.337      0.000       0.324       0.352\n",
      "wait_time                   -0.5140      0.012    -44.099      0.000      -0.537      -0.491\n",
      "delay_vs_expected           -0.4366      0.024    -18.570      0.000      -0.483      -0.391\n",
      "number_of_sellers           -0.1716      0.008    -22.517      0.000      -0.187      -0.157\n",
      "distance_seller_customer     0.1074      0.008     13.035      0.000       0.091       0.124\n",
      "price                        0.0268      0.008      3.476      0.001       0.012       0.042\n",
      "freight_value               -0.0624      0.009     -7.304      0.000      -0.079      -0.046\n",
      "============================================================================================\n"
     ]
    }
   ],
   "source": [
    "print(logit_five.summary())"
   ]
  },
  {
   "cell_type": "code",
   "execution_count": 0,
   "metadata": {
    "tags": [
     "delete"
    ]
   },
   "outputs": [
    {
     "data": {
      "text/plain": [
       "<AxesSubplot:title={'center':'Logit'}>"
      ]
     },
     "execution_count": 28,
     "metadata": {},
     "output_type": "execute_result"
    },
    {
     "data": {
      "image/png": "[encoded data removed]",
      "text/plain": [
       "<Figure size 936x360 with 2 Axes>"
      ]
     },
     "metadata": {
      "needs_background": "light"
     },
     "output_type": "display_data"
    }
   ],
   "source": [
    "plt.figure(figsize=(13,5))\n",
    "plt.suptitle('Linear vs. Logit Coefficents')\n",
    "ax1 = plt.subplot(1,2,1)\n",
    "ax1.set_title('Linear')\n",
    "ax1.set_xlim(-1.5, 0.25)\n",
    "linear_model.params[1:].sort_values().plot(kind='barh', ax=ax1)\n",
    "\n",
    "\n",
    "ax2 = plt.subplot(1,2,2)\n",
    "ax2.set_title('Logit')\n",
    "ax2.yaxis.tick_right()\n",
    "ax2.set_xlim(-1.5, 0.25)\n",
    "logit_five.params[1:].sort_values().plot(kind='barh', ax=ax2)"
   ]
  },
  {
   "cell_type": "markdown",
   "metadata": {},
   "source": [
    "<details>\n",
    "    <summary><i> - Explanations -</i></summary>\n",
    "\n",
    "\n",
    "* A side-by-side comparison of the linear regression on `review_score` and the logistic regression on `dim_is_five_star` clearly shows that : <br/>\n",
    "    The most important feature when it comes to  `review_score` and `dim_is_five_star` is the same :`wait_time` (surprised ? probably not, but at least this is confirmed statistically !)_\n",
    "    \n",
    "</details>"
   ]
  },
  {
   "cell_type": "markdown",
   "metadata": {},
   "source": [
    "🏁 Congratulations! \n",
    "\n",
    "💾 Don't forget to commit and push your `logit.ipynb` notebook !"
   ]
  },
  {
   "cell_type": "code",
   "execution_count": 0,
   "metadata": {},
   "outputs": [],
   "source": []
  }
 ],
 "metadata": {
  "kernelspec": {
   "display_name": "Python 3",
   "language": "python",
   "name": "python3"
  }
 },
 "nbformat": 4,
 "nbformat_minor": 4
}