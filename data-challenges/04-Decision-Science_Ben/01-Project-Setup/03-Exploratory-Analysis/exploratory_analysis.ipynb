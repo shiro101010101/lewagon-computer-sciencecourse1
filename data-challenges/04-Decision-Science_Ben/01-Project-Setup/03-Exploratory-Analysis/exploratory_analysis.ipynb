{
 "cells": [
  {
   "cell_type": "markdown",
   "metadata": {},
   "source": [
    "# Exploratory Analysis"
   ]
  },
  {
   "cell_type": "code",
   "execution_count": 0,
   "metadata": {},
   "outputs": [],
   "source": [
    "%load_ext autoreload\n",
    "%autoreload 2"
   ]
  },
  {
   "cell_type": "code",
   "execution_count": 0,
   "metadata": {},
   "outputs": [],
   "source": [
    "from olist.data import Olist\n",
    "data = Olist().get_data()"
   ]
  },
  {
   "cell_type": "markdown",
   "metadata": {},
   "source": [
    "### 1 - Run an exploratory analysis with [pandas profiling](https://github.com/pandas-profiling/pandas-profiling)"
   ]
  },
  {
   "cell_type": "code",
   "execution_count": 0,
   "metadata": {},
   "outputs": [],
   "source": [
    "# First, let's install the pandas-profiling package\n",
    "! pip install pandas-profiling"
   ]
  },
  {
   "cell_type": "code",
   "execution_count": 0,
   "metadata": {},
   "outputs": [],
   "source": [
    "# And create a new \"04-Decision-Science/reports\" folder \n",
    "!mkdir -p ../../data/reports"
   ]
  },
  {
   "cell_type": "code",
   "execution_count": 0,
   "metadata": {},
   "outputs": [],
   "source": [
    "import pandas_profiling\n",
    "datasets_to_profile = ['orders', 'products', 'sellers',\n",
    "                  'customers', 'order_reviews',\n",
    "                  'order_items']"
   ]
  },
  {
   "cell_type": "markdown",
   "metadata": {},
   "source": [
    "👉 Create and save one `html report` per dataset to profile \n",
    "\n",
    "⏳ (It usually takes a few minutes)"
   ]
  },
  {
   "cell_type": "code",
   "execution_count": 0,
   "metadata": {
    "tags": [
     "challengify"
    ]
   },
   "outputs": [],
   "source": [
    "for d in datasets_to_profile:\n",
    "    print('exporting: '+d)\n",
    "    profile = data[d].profile_report(title='Report for '+d)\n",
    "    profile.to_file(output_file=\"../../data/reports/\"+d+'.html');"
   ]
  },
  {
   "cell_type": "markdown",
   "metadata": {},
   "source": [
    "Take 10 min to read the reports 📈📊, and feel free to add insights of your choice to your `db.lewagon.org schema`"
   ]
  },
  {
   "cell_type": "markdown",
   "metadata": {},
   "source": [
    "### 2 - Create a `matching table` (a.k.a a `star_table`)"
   ]
  },
  {
   "cell_type": "markdown",
   "metadata": {},
   "source": [
    "[**`The STAR Schema`**](https://en.wikipedia.org/wiki/Star_schema )\n",
    "\n",
    "<img src=\"https://docs.microsoft.com/en-us/power-bi/guidance/media/star-schema/star-schema-example1.png\" width=700>\n",
    "\n",
    "_From Wikipedia:_\n",
    "\n",
    "\n",
    "> The star schema gets its name from the physical model's resemblance to a star shape with a fact table at its center and the dimension tables surrounding it representing the star's points.\n",
    "\n",
    "> The star schema separates business process data into facts, which hold the measurable, quantitative data about a business, and dimensions which are descriptive attributes related to fact data. "
   ]
  },
  {
   "cell_type": "markdown",
   "metadata": {},
   "source": [
    "_Application to Olist_\n",
    "\n",
    "A **`fact`** on the Olist ecommerce platform is characterized by:\n",
    "- a `customer`, that would buy\n",
    "- a `product`\n",
    "- to a `seller`\n",
    "- and leaves a `rewiew`\n",
    "- belonging to an `order_id`\n",
    "\n",
    "☝️ It contains the most important foreign keys together, for later use during the module.\n",
    "\n",
    "**Dimension** tables may include \n",
    "- `products` details table: (models colors, sizes)\n",
    "- `sellers` details table (geographic locations...)\n",
    "- `customers` details table (age, name, ...)\n",
    "- `reviews` details table (raw text, review_date,...)\n",
    "- `orders` details table (payment id, payment amount,...)\n",
    "\n",
    "☝️ We will create these Dimension tables later"
   ]
  },
  {
   "cell_type": "markdown",
   "metadata": {},
   "source": [
    "❓ Let's create the Fact Table that we will call `matching_table`"
   ]
  },
  {
   "cell_type": "code",
   "execution_count": 0,
   "metadata": {},
   "outputs": [],
   "source": [
    "# matching_table is a DataFrame with the following columns (below).  \n",
    "columns_matching_table = [\n",
    "    \"order_id\",\n",
    "    \"review_id\",\n",
    "    \"customer_id\",\n",
    "    \"product_id\",\n",
    "    \"seller_id\",\n",
    "]"
   ]
  },
  {
   "cell_type": "markdown",
   "metadata": {},
   "source": [
    "👉 **(Follow our guide: 1/3)** To create this `matching_table`, select carefully the columns of interest in some Olist datasets. Inspect the cardinality of each DataFrame using `pd.DataFrame.shape` and `pd.Series.nunique()`"
   ]
  },
  {
   "cell_type": "code",
   "execution_count": 0,
   "metadata": {},
   "outputs": [],
   "source": [
    "# Select only the columns of interest in the various dataframes of interest, before proceeding to any merge\n",
    "orders = None #data[??]\n",
    "reviews = None #data[??]\n",
    "items = None #data[??]"
   ]
  },
  {
   "cell_type": "code",
   "execution_count": 0,
   "metadata": {
    "tags": [
     "challengify"
    ]
   },
   "outputs": [],
   "source": [
    "# Select only the columns of interest in the various dataframes of interest, before proceeding to any merge\n",
    "orders = data['orders'][['customer_id', 'order_id']]\n",
    "reviews = data['order_reviews'][['order_id', 'review_id']]\n",
    "items = data['order_items'][['order_id', 'product_id','seller_id']]"
   ]
  },
  {
   "cell_type": "code",
   "execution_count": 0,
   "metadata": {
    "tags": [
     "challengify"
    ]
   },
   "outputs": [
    {
     "name": "stdout",
     "output_type": "stream",
     "text": [
      "orders: (99441, 2) 99441 unique customer_ids, and 99441 unique order_ids\n",
      "review:  (99224, 2) 98673 unique order_ids and 98410 unique reviews\n",
      "items:  (112650, 3) 98666 unique order_ids, 32951 unique product_ids, and 3095 unique seller_ids\n"
     ]
    }
   ],
   "source": [
    "print('orders:', orders.shape, orders.customer_id.nunique(), 'unique customer_ids, and', orders.order_id.nunique(), 'unique order_ids')\n",
    "print('review: ', reviews.shape, reviews.order_id.nunique(), 'unique order_ids and', reviews.review_id.nunique(), 'unique reviews' )\n",
    "print('items: ', items.shape, items.order_id.nunique(), 'unique order_ids,', items.product_id.nunique(), \n",
    "      'unique product_ids, and', items.seller_id.nunique(), 'unique seller_ids')"
   ]
  },
  {
   "cell_type": "markdown",
   "metadata": {},
   "source": [
    "👉 **(2/3)**:  Merge these Dataframes carefully to create the `matching_table`\n",
    "\n",
    "_Note: Use outer joins to make sure you don't lose any information at this stage_"
   ]
  },
  {
   "cell_type": "code",
   "execution_count": 0,
   "metadata": {
    "tags": [
     "challengify"
    ]
   },
   "outputs": [
    {
     "data": {
      "text/html": [
       "<div>\n",
       "<style scoped>\n",
       "    .dataframe tbody tr th:only-of-type {\n",
       "        vertical-align: middle;\n",
       "    }\n",
       "\n",
       "    .dataframe tbody tr th {\n",
       "        vertical-align: top;\n",
       "    }\n",
       "\n",
       "    .dataframe thead th {\n",
       "        text-align: right;\n",
       "    }\n",
       "</style>\n",
       "<table border=\"1\" class=\"dataframe\">\n",
       "  <thead>\n",
       "    <tr style=\"text-align: right;\">\n",
       "      <th></th>\n",
       "      <th>customer_id</th>\n",
       "      <th>order_id</th>\n",
       "      <th>review_id</th>\n",
       "      <th>product_id</th>\n",
       "      <th>seller_id</th>\n",
       "    </tr>\n",
       "  </thead>\n",
       "  <tbody>\n",
       "    <tr>\n",
       "      <th>0</th>\n",
       "      <td>9ef432eb6251297304e76186b10a928d</td>\n",
       "      <td>e481f51cbdc54678b7cc49136f2d6af7</td>\n",
       "      <td>a54f0611adc9ed256b57ede6b6eb5114</td>\n",
       "      <td>87285b34884572647811a353c7ac498a</td>\n",
       "      <td>3504c0cb71d7fa48d967e0e4c94d59d9</td>\n",
       "    </tr>\n",
       "    <tr>\n",
       "      <th>1</th>\n",
       "      <td>b0830fb4747a6c6d20dea0b8c802d7ef</td>\n",
       "      <td>53cdb2fc8bc7dce0b6741e2150273451</td>\n",
       "      <td>8d5266042046a06655c8db133d120ba5</td>\n",
       "      <td>595fac2a385ac33a80bd5114aec74eb8</td>\n",
       "      <td>289cdb325fb7e7f891c38608bf9e0962</td>\n",
       "    </tr>\n",
       "    <tr>\n",
       "      <th>2</th>\n",
       "      <td>41ce2a54c0b03bf3443c3d931a367089</td>\n",
       "      <td>47770eb9100c2d0c44946d9cf07ec65d</td>\n",
       "      <td>e73b67b67587f7644d5bd1a52deb1b01</td>\n",
       "      <td>aa4383b373c6aca5d8797843e5594415</td>\n",
       "      <td>4869f7a5dfa277a7dca6462dcf3b52b2</td>\n",
       "    </tr>\n",
       "    <tr>\n",
       "      <th>3</th>\n",
       "      <td>f88197465ea7920adcdbec7375364d82</td>\n",
       "      <td>949d5b44dbf5de918fe9c16f97b45f8a</td>\n",
       "      <td>359d03e676b3c069f62cadba8dd3f6e8</td>\n",
       "      <td>d0b61bfb1de832b15ba9d266ca96e5b0</td>\n",
       "      <td>66922902710d126a0e7d26b0e3805106</td>\n",
       "    </tr>\n",
       "    <tr>\n",
       "      <th>4</th>\n",
       "      <td>8ab97904e6daea8866dbdbc4fb7aad2c</td>\n",
       "      <td>ad21c59c0840e6cb83a9ceb5573f8159</td>\n",
       "      <td>e50934924e227544ba8246aeb3770dd4</td>\n",
       "      <td>65266b2da20d04dbe00c5c2d3bb7859e</td>\n",
       "      <td>2c9e548be18521d1c43cde1c582c6de8</td>\n",
       "    </tr>\n",
       "    <tr>\n",
       "      <th>...</th>\n",
       "      <td>...</td>\n",
       "      <td>...</td>\n",
       "      <td>...</td>\n",
       "      <td>...</td>\n",
       "      <td>...</td>\n",
       "    </tr>\n",
       "    <tr>\n",
       "      <th>114087</th>\n",
       "      <td>1fca14ff2861355f6e5f14306ff977a7</td>\n",
       "      <td>63943bddc261676b46f01ca7ac2f7bd8</td>\n",
       "      <td>29bb71b2760d0f876dfa178a76bc4734</td>\n",
       "      <td>f1d4ce8c6dd66c47bbaa8c6781c2a923</td>\n",
       "      <td>1f9ab4708f3056ede07124aad39a2554</td>\n",
       "    </tr>\n",
       "    <tr>\n",
       "      <th>114088</th>\n",
       "      <td>1aa71eb042121263aafbe80c1b562c9c</td>\n",
       "      <td>83c1379a015df1e13d02aae0204711ab</td>\n",
       "      <td>371579771219f6db2d830d50805977bb</td>\n",
       "      <td>b80910977a37536adeddd63663f916ad</td>\n",
       "      <td>d50d79cb34e38265a8649c383dcffd48</td>\n",
       "    </tr>\n",
       "    <tr>\n",
       "      <th>114089</th>\n",
       "      <td>b331b74b18dc79bcdf6532d51e1637c1</td>\n",
       "      <td>11c177c8e97725db2631073c19f07b62</td>\n",
       "      <td>8ab6855b9fe9b812cd03a480a25058a1</td>\n",
       "      <td>d1c427060a0f73f6b889a5c7c61f2ac4</td>\n",
       "      <td>a1043bafd471dff536d0c462352beb48</td>\n",
       "    </tr>\n",
       "    <tr>\n",
       "      <th>114090</th>\n",
       "      <td>b331b74b18dc79bcdf6532d51e1637c1</td>\n",
       "      <td>11c177c8e97725db2631073c19f07b62</td>\n",
       "      <td>8ab6855b9fe9b812cd03a480a25058a1</td>\n",
       "      <td>d1c427060a0f73f6b889a5c7c61f2ac4</td>\n",
       "      <td>a1043bafd471dff536d0c462352beb48</td>\n",
       "    </tr>\n",
       "    <tr>\n",
       "      <th>114091</th>\n",
       "      <td>edb027a75a1449115f6b43211ae02a24</td>\n",
       "      <td>66dea50a8b16d9b4dee7af250b4be1a5</td>\n",
       "      <td>dc9c59b4688062c25758c2be4cafc523</td>\n",
       "      <td>006619bbed68b000c8ba3f8725d5409e</td>\n",
       "      <td>ececbfcff9804a2d6b40f589df8eef2b</td>\n",
       "    </tr>\n",
       "  </tbody>\n",
       "</table>\n",
       "<p>114092 rows × 5 columns</p>\n",
       "</div>"
      ],
      "text/plain": [
       "                             customer_id                          order_id  \\\n",
       "0       9ef432eb6251297304e76186b10a928d  e481f51cbdc54678b7cc49136f2d6af7   \n",
       "1       b0830fb4747a6c6d20dea0b8c802d7ef  53cdb2fc8bc7dce0b6741e2150273451   \n",
       "2       41ce2a54c0b03bf3443c3d931a367089  47770eb9100c2d0c44946d9cf07ec65d   \n",
       "3       f88197465ea7920adcdbec7375364d82  949d5b44dbf5de918fe9c16f97b45f8a   \n",
       "4       8ab97904e6daea8866dbdbc4fb7aad2c  ad21c59c0840e6cb83a9ceb5573f8159   \n",
       "...                                  ...                               ...   \n",
       "114087  1fca14ff2861355f6e5f14306ff977a7  63943bddc261676b46f01ca7ac2f7bd8   \n",
       "114088  1aa71eb042121263aafbe80c1b562c9c  83c1379a015df1e13d02aae0204711ab   \n",
       "114089  b331b74b18dc79bcdf6532d51e1637c1  11c177c8e97725db2631073c19f07b62   \n",
       "114090  b331b74b18dc79bcdf6532d51e1637c1  11c177c8e97725db2631073c19f07b62   \n",
       "114091  edb027a75a1449115f6b43211ae02a24  66dea50a8b16d9b4dee7af250b4be1a5   \n",
       "\n",
       "                               review_id                        product_id  \\\n",
       "0       a54f0611adc9ed256b57ede6b6eb5114  87285b34884572647811a353c7ac498a   \n",
       "1       8d5266042046a06655c8db133d120ba5  595fac2a385ac33a80bd5114aec74eb8   \n",
       "2       e73b67b67587f7644d5bd1a52deb1b01  aa4383b373c6aca5d8797843e5594415   \n",
       "3       359d03e676b3c069f62cadba8dd3f6e8  d0b61bfb1de832b15ba9d266ca96e5b0   \n",
       "4       e50934924e227544ba8246aeb3770dd4  65266b2da20d04dbe00c5c2d3bb7859e   \n",
       "...                                  ...                               ...   \n",
       "114087  29bb71b2760d0f876dfa178a76bc4734  f1d4ce8c6dd66c47bbaa8c6781c2a923   \n",
       "114088  371579771219f6db2d830d50805977bb  b80910977a37536adeddd63663f916ad   \n",
       "114089  8ab6855b9fe9b812cd03a480a25058a1  d1c427060a0f73f6b889a5c7c61f2ac4   \n",
       "114090  8ab6855b9fe9b812cd03a480a25058a1  d1c427060a0f73f6b889a5c7c61f2ac4   \n",
       "114091  dc9c59b4688062c25758c2be4cafc523  006619bbed68b000c8ba3f8725d5409e   \n",
       "\n",
       "                               seller_id  \n",
       "0       3504c0cb71d7fa48d967e0e4c94d59d9  \n",
       "1       289cdb325fb7e7f891c38608bf9e0962  \n",
       "2       4869f7a5dfa277a7dca6462dcf3b52b2  \n",
       "3       66922902710d126a0e7d26b0e3805106  \n",
       "4       2c9e548be18521d1c43cde1c582c6de8  \n",
       "...                                  ...  \n",
       "114087  1f9ab4708f3056ede07124aad39a2554  \n",
       "114088  d50d79cb34e38265a8649c383dcffd48  \n",
       "114089  a1043bafd471dff536d0c462352beb48  \n",
       "114090  a1043bafd471dff536d0c462352beb48  \n",
       "114091  ececbfcff9804a2d6b40f589df8eef2b  \n",
       "\n",
       "[114092 rows x 5 columns]"
      ]
     },
     "execution_count": 0,
     "metadata": {},
     "output_type": "execute_result"
    }
   ],
   "source": [
    "# Carefully merge DataFrames\n",
    "matching_table = orders.merge(reviews, on='order_id', how='outer').merge(items, on='order_id', how='outer')\n",
    "matching_table"
   ]
  },
  {
   "cell_type": "code",
   "execution_count": 0,
   "metadata": {},
   "outputs": [
    {
     "data": {
      "text/plain": [
       "customer_id      0\n",
       "order_id         0\n",
       "review_id      961\n",
       "product_id     778\n",
       "seller_id      778\n",
       "dtype: int64"
      ]
     },
     "execution_count": 0,
     "metadata": {},
     "output_type": "execute_result"
    }
   ],
   "source": [
    "matching_table.isna().sum()"
   ]
  },
  {
   "cell_type": "markdown",
   "metadata": {},
   "source": [
    "👉 **(3/3):** Does this `matching_table` have duplicated rows ?  \n",
    "- How many duplicates ?\n",
    "- If so, what could be the reason(s) ?\n",
    "\n",
    "<details>\n",
    "    <summary>▸ <i>Hints</i></summary> \n",
    "    \n",
    "* For a given `order_id`, the quantity of a given `product_id` bought can be greater than 1\n",
    "* In the `items` table, each individual product bought appears as an additional row. \n",
    "\n",
    "</details>"
   ]
  },
  {
   "cell_type": "code",
   "execution_count": 0,
   "metadata": {
    "tags": [
     "challengify"
    ]
   },
   "outputs": [
    {
     "data": {
      "text/plain": [
       "10287"
      ]
     },
     "execution_count": 0,
     "metadata": {},
     "output_type": "execute_result"
    }
   ],
   "source": [
    "matching_table.duplicated().sum()"
   ]
  },
  {
   "cell_type": "markdown",
   "metadata": {},
   "source": [
    "☝️ So, we have duplicated rows because in a given fact, a product could have been ordered multilple times!\n",
    "\n",
    "❓ Group your matching table so as to have zero dupicates, but a `number_of_products` column instead"
   ]
  },
  {
   "cell_type": "code",
   "execution_count": 0,
   "metadata": {
    "tags": [
     "delete"
    ]
   },
   "outputs": [],
   "source": [
    "matching_table[\"number_of_products\"] = 1"
   ]
  },
  {
   "cell_type": "code",
   "execution_count": 0,
   "metadata": {
    "tags": [
     "delete"
    ]
   },
   "outputs": [
    {
     "data": {
      "text/plain": [
       "['customer_id',\n",
       " 'order_id',\n",
       " 'review_id',\n",
       " 'product_id',\n",
       " 'seller_id',\n",
       " 'number_of_products']"
      ]
     },
     "execution_count": 0,
     "metadata": {},
     "output_type": "execute_result"
    }
   ],
   "source": [
    "list(matching_table.columns)"
   ]
  },
  {
   "cell_type": "code",
   "execution_count": 0,
   "metadata": {
    "tags": [
     "challengify"
    ]
   },
   "outputs": [
    {
     "data": {
      "text/html": [
       "<div>\n",
       "<style scoped>\n",
       "    .dataframe tbody tr th:only-of-type {\n",
       "        vertical-align: middle;\n",
       "    }\n",
       "\n",
       "    .dataframe tbody tr th {\n",
       "        vertical-align: top;\n",
       "    }\n",
       "\n",
       "    .dataframe thead th {\n",
       "        text-align: right;\n",
       "    }\n",
       "</style>\n",
       "<table border=\"1\" class=\"dataframe\">\n",
       "  <thead>\n",
       "    <tr style=\"text-align: right;\">\n",
       "      <th></th>\n",
       "      <th>customer_id</th>\n",
       "      <th>order_id</th>\n",
       "      <th>review_id</th>\n",
       "      <th>product_id</th>\n",
       "      <th>seller_id</th>\n",
       "      <th>number_of_products</th>\n",
       "    </tr>\n",
       "  </thead>\n",
       "  <tbody>\n",
       "    <tr>\n",
       "      <th>76202</th>\n",
       "      <td>be1b70680b9f9694d8c70f41fa3dc92b</td>\n",
       "      <td>1b15974a0141d54e36626dca3fdc731a</td>\n",
       "      <td>be332150a9c96e68c9565ea53cba2355</td>\n",
       "      <td>ee3d532c8a438679776d222e997606b3</td>\n",
       "      <td>8e6d7754bc7e0f22c96d255ebda59eba</td>\n",
       "      <td>20</td>\n",
       "    </tr>\n",
       "    <tr>\n",
       "      <th>6697</th>\n",
       "      <td>10de381f8a8d23fff822753305f71cae</td>\n",
       "      <td>428a2f660dc84138d969ccd69a0ab6d5</td>\n",
       "      <td>d638a70f2be180ef55395eabb78fd88c</td>\n",
       "      <td>89b190a046022486c635022524a974a8</td>\n",
       "      <td>f326006815956455b2859abd58fe7e39</td>\n",
       "      <td>15</td>\n",
       "    </tr>\n",
       "    <tr>\n",
       "      <th>69494</th>\n",
       "      <td>adb32467ecc74b53576d9d13a5a55891</td>\n",
       "      <td>9ef13efd6949e4573a18964dd1bbe7f5</td>\n",
       "      <td>2e3a6e4930334530774ac3a6f6b62388</td>\n",
       "      <td>37eb69aca8718e843d897aa7b82f462d</td>\n",
       "      <td>0b36063d5818f81ccb94b54adfaebbf5</td>\n",
       "      <td>15</td>\n",
       "    </tr>\n",
       "    <tr>\n",
       "      <th>85719</th>\n",
       "      <td>d5f2b3f597c7ccafbb5cac0bcc3d6024</td>\n",
       "      <td>73c8ab38f07dc94389065f7eba4f297a</td>\n",
       "      <td>ee4bc8e340e8648a44c2e33fee6b27e4</td>\n",
       "      <td>422879e10f46682990de24d770e7f83d</td>\n",
       "      <td>1f50f920176fa81dab994f9023523100</td>\n",
       "      <td>14</td>\n",
       "    </tr>\n",
       "    <tr>\n",
       "      <th>66856</th>\n",
       "      <td>a7693fba2ff9583c78751f2b66ecab9d</td>\n",
       "      <td>9bdc4d4c71aa1de4606060929dee888c</td>\n",
       "      <td>03129dea7c12fa5878b2e629ccdf2ce6</td>\n",
       "      <td>44a5d24dd383324a421569ca697b13c2</td>\n",
       "      <td>e7d5b006eb624f13074497221eb37807</td>\n",
       "      <td>14</td>\n",
       "    </tr>\n",
       "    <tr>\n",
       "      <th>...</th>\n",
       "      <td>...</td>\n",
       "      <td>...</td>\n",
       "      <td>...</td>\n",
       "      <td>...</td>\n",
       "      <td>...</td>\n",
       "      <td>...</td>\n",
       "    </tr>\n",
       "    <tr>\n",
       "      <th>35329</th>\n",
       "      <td>58e73c82bbd5992b6ca53e1dcd0aaf16</td>\n",
       "      <td>79c786a94283e846deec8681219bc144</td>\n",
       "      <td>98b4f06a4499ec71eddaa09c33a08881</td>\n",
       "      <td>43423cdffde7fda63d0414ed38c11a73</td>\n",
       "      <td>b1fc4f64df5a0e8b6913ab38803c57a9</td>\n",
       "      <td>1</td>\n",
       "    </tr>\n",
       "    <tr>\n",
       "      <th>35328</th>\n",
       "      <td>58e6ef977832bfd6f5c99001fc47432b</td>\n",
       "      <td>b7f12e29e55ecae289d444db518400ed</td>\n",
       "      <td>06586453b01b4b23beaea71738457789</td>\n",
       "      <td>e3fa14bf3866f013d03fa0b76a9842ee</td>\n",
       "      <td>8a32e327fe2c1b3511609d81aaf9f042</td>\n",
       "      <td>1</td>\n",
       "    </tr>\n",
       "    <tr>\n",
       "      <th>35327</th>\n",
       "      <td>58e67afe5b8a9fa07e268e00776afbdc</td>\n",
       "      <td>277006d8d593850cce4c18ce1c9a136a</td>\n",
       "      <td>c05178d7b277bc0f85b83f2f70e2bc94</td>\n",
       "      <td>1613b819ab5dae53aead2dbb4ebdb378</td>\n",
       "      <td>16090f2ca825584b5a147ab24aa30c86</td>\n",
       "      <td>1</td>\n",
       "    </tr>\n",
       "    <tr>\n",
       "      <th>35325</th>\n",
       "      <td>58e41ee664edb6b56cfa39832d76d01e</td>\n",
       "      <td>e300c76076c4b56031abe6f3ff54817f</td>\n",
       "      <td>b186de4f017163562b6015e68e0c778d</td>\n",
       "      <td>9eae1df2c1112be7a7c57d7b09fd9bcd</td>\n",
       "      <td>0bebbb2cea103a4a020c95d43fd7d754</td>\n",
       "      <td>1</td>\n",
       "    </tr>\n",
       "    <tr>\n",
       "      <th>51115</th>\n",
       "      <td>80184ddbff3497c53fabf8a67aecb993</td>\n",
       "      <td>eed7032833c20585a8c215c9e45e6362</td>\n",
       "      <td>53ddd5691b3ea01c679461d88843b95a</td>\n",
       "      <td>3fda13f397426103abde1f106676f0bf</td>\n",
       "      <td>b2ba3715d723d245138f291a6fe42594</td>\n",
       "      <td>1</td>\n",
       "    </tr>\n",
       "  </tbody>\n",
       "</table>\n",
       "<p>102230 rows × 6 columns</p>\n",
       "</div>"
      ],
      "text/plain": [
       "                            customer_id                          order_id  \\\n",
       "76202  be1b70680b9f9694d8c70f41fa3dc92b  1b15974a0141d54e36626dca3fdc731a   \n",
       "6697   10de381f8a8d23fff822753305f71cae  428a2f660dc84138d969ccd69a0ab6d5   \n",
       "69494  adb32467ecc74b53576d9d13a5a55891  9ef13efd6949e4573a18964dd1bbe7f5   \n",
       "85719  d5f2b3f597c7ccafbb5cac0bcc3d6024  73c8ab38f07dc94389065f7eba4f297a   \n",
       "66856  a7693fba2ff9583c78751f2b66ecab9d  9bdc4d4c71aa1de4606060929dee888c   \n",
       "...                                 ...                               ...   \n",
       "35329  58e73c82bbd5992b6ca53e1dcd0aaf16  79c786a94283e846deec8681219bc144   \n",
       "35328  58e6ef977832bfd6f5c99001fc47432b  b7f12e29e55ecae289d444db518400ed   \n",
       "35327  58e67afe5b8a9fa07e268e00776afbdc  277006d8d593850cce4c18ce1c9a136a   \n",
       "35325  58e41ee664edb6b56cfa39832d76d01e  e300c76076c4b56031abe6f3ff54817f   \n",
       "51115  80184ddbff3497c53fabf8a67aecb993  eed7032833c20585a8c215c9e45e6362   \n",
       "\n",
       "                              review_id                        product_id  \\\n",
       "76202  be332150a9c96e68c9565ea53cba2355  ee3d532c8a438679776d222e997606b3   \n",
       "6697   d638a70f2be180ef55395eabb78fd88c  89b190a046022486c635022524a974a8   \n",
       "69494  2e3a6e4930334530774ac3a6f6b62388  37eb69aca8718e843d897aa7b82f462d   \n",
       "85719  ee4bc8e340e8648a44c2e33fee6b27e4  422879e10f46682990de24d770e7f83d   \n",
       "66856  03129dea7c12fa5878b2e629ccdf2ce6  44a5d24dd383324a421569ca697b13c2   \n",
       "...                                 ...                               ...   \n",
       "35329  98b4f06a4499ec71eddaa09c33a08881  43423cdffde7fda63d0414ed38c11a73   \n",
       "35328  06586453b01b4b23beaea71738457789  e3fa14bf3866f013d03fa0b76a9842ee   \n",
       "35327  c05178d7b277bc0f85b83f2f70e2bc94  1613b819ab5dae53aead2dbb4ebdb378   \n",
       "35325  b186de4f017163562b6015e68e0c778d  9eae1df2c1112be7a7c57d7b09fd9bcd   \n",
       "51115  53ddd5691b3ea01c679461d88843b95a  3fda13f397426103abde1f106676f0bf   \n",
       "\n",
       "                              seller_id  number_of_products  \n",
       "76202  8e6d7754bc7e0f22c96d255ebda59eba                  20  \n",
       "6697   f326006815956455b2859abd58fe7e39                  15  \n",
       "69494  0b36063d5818f81ccb94b54adfaebbf5                  15  \n",
       "85719  1f50f920176fa81dab994f9023523100                  14  \n",
       "66856  e7d5b006eb624f13074497221eb37807                  14  \n",
       "...                                 ...                 ...  \n",
       "35329  b1fc4f64df5a0e8b6913ab38803c57a9                   1  \n",
       "35328  8a32e327fe2c1b3511609d81aaf9f042                   1  \n",
       "35327  16090f2ca825584b5a147ab24aa30c86                   1  \n",
       "35325  0bebbb2cea103a4a020c95d43fd7d754                   1  \n",
       "51115  b2ba3715d723d245138f291a6fe42594                   1  \n",
       "\n",
       "[102230 rows x 6 columns]"
      ]
     },
     "execution_count": 0,
     "metadata": {},
     "output_type": "execute_result"
    }
   ],
   "source": [
    "# Groupby and count non-NA cells for each column.\n",
    "matching_table = matching_table.groupby(['customer_id',\n",
    "                                         'order_id',\n",
    "                                         'review_id',\n",
    "                                         'product_id',\n",
    "                                         'seller_id'],\n",
    "                                        as_index = False)\\\n",
    "            .count()\\\n",
    "            .sort_values(by = \"number_of_products\", ascending = False)\n",
    "\n",
    "matching_table"
   ]
  },
  {
   "cell_type": "code",
   "execution_count": 0,
   "metadata": {
    "tags": [
     "delete"
    ]
   },
   "outputs": [
    {
     "data": {
      "text/plain": [
       "customer_id           0\n",
       "order_id              0\n",
       "review_id             0\n",
       "product_id            0\n",
       "seller_id             0\n",
       "number_of_products    0\n",
       "dtype: int64"
      ]
     },
     "execution_count": 0,
     "metadata": {},
     "output_type": "execute_result"
    }
   ],
   "source": [
    "matching_table.isna().sum()"
   ]
  },
  {
   "cell_type": "markdown",
   "metadata": {},
   "source": [
    "👉 Inspect the shape and the number of uniques values in  of the final DataFrame - *Hint*: use `nunique()`\n",
    "\n",
    "🎯 It should match (102230, 6) and contains no NaN"
   ]
  },
  {
   "cell_type": "code",
   "execution_count": 0,
   "metadata": {
    "tags": [
     "challengify"
    ]
   },
   "outputs": [
    {
     "name": "stdout",
     "output_type": "stream",
     "text": [
      "matching_table shape = (102230, 6)\n",
      "--------------------------------------------------\n",
      "unique values: \n",
      "customer_id           97917\n",
      "order_id              97917\n",
      "review_id             97709\n",
      "product_id            32789\n",
      "seller_id              3090\n",
      "number_of_products       16\n",
      "dtype: int64\n"
     ]
    }
   ],
   "source": [
    "print(f\"matching_table shape = {matching_table.shape}\")\n",
    "print(\"-\"*50)\n",
    "print('unique values: ')\n",
    "print(matching_table.nunique())"
   ]
  },
  {
   "cell_type": "markdown",
   "metadata": {},
   "source": [
    "### 3 - Save your logic in `data.py` \n",
    "\n",
    "❓Copy your logic into `get_matching_table()` in `data.py` and run the cell below to check your code!"
   ]
  },
  {
   "cell_type": "code",
   "execution_count": 0,
   "metadata": {
    "tags": []
   },
   "outputs": [
    {
     "name": "stdout",
     "output_type": "stream",
     "text": [
      "\u001b[1m============================= test session starts ==============================\u001b[0m\n",
      "platform darwin -- Python 3.8.12, pytest-6.2.5, py-1.10.0, pluggy-1.0.0 -- /Users/brunolajoie/.pyenv/versions/lewagon3812/bin/python3\n",
      "cachedir: .pytest_cache\n",
      "rootdir: /Users/brunolajoie/code/lewagon/data-solutions/04-Decision-Science/01-Project-Setup/03-Exploratory-Analysis\n",
      "plugins: anyio-3.3.0, dash-2.0.0\n",
      "\u001b[1mcollecting ... \u001b[0mcollected 2 items\n",
      "\n",
      "tests/test_matching_table.py::TestMatchingTable::test_columns \u001b[32mPASSED\u001b[0m\u001b[32m     [ 50%]\u001b[0m\n",
      "tests/test_matching_table.py::TestMatchingTable::test_shape \u001b[32mPASSED\u001b[0m\u001b[32m       [100%]\u001b[0m\n",
      "\n",
      "\u001b[32m============================== \u001b[32m\u001b[1m2 passed\u001b[0m\u001b[32m in 0.02s\u001b[0m\u001b[32m ===============================\u001b[0m\n",
      "\n",
      "\n",
      "💯 You can commit your code:\n",
      "\n",
      "\u001b[1;32mgit\u001b[39m add tests/matching_table.pickle\n",
      "\n",
      "\u001b[32mgit\u001b[39m commit -m \u001b[33m'Completed matching_table step'\u001b[39m\n",
      "\n",
      "\u001b[32mgit\u001b[39m push origin master\n"
     ]
    }
   ],
   "source": [
    "from nbresult import ChallengeResult\n",
    "from olist.data import Olist\n",
    "\n",
    "data = Olist().get_matching_table()\n",
    "\n",
    "result = ChallengeResult('matching_table',\n",
    "    shape=data.shape,\n",
    "    columns=sorted(list(data.columns)) \n",
    ")\n",
    "result.write()\n",
    "print(result.check())"
   ]
  }
 ],
 "metadata": {
  "kernelspec": {
   "display_name": "Python 3",
   "language": "python",
   "name": "python3"
  }
 },
 "nbformat": 4,
 "nbformat_minor": 4
}
